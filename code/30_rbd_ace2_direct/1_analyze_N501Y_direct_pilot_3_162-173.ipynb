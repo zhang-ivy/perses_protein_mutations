{
 "cells": [
  {
   "cell_type": "markdown",
   "metadata": {},
   "source": [
    "Analyze 15/162-182 neq switching"
   ]
  },
  {
   "cell_type": "code",
   "execution_count": 1,
   "metadata": {},
   "outputs": [
    {
     "name": "stderr",
     "output_type": "stream",
     "text": [
      "Warning: importing 'simtk.openmm' is deprecated.  Import 'openmm' instead.\n"
     ]
    }
   ],
   "source": [
    "from perses.analysis.analysis import Analysis\n",
    "import numpy as np\n",
    "import seaborn as sns\n",
    "import matplotlib.pyplot as plt\n",
    "import pymbar\n",
    "%matplotlib inline\n",
    "import os\n",
    "import itertools\n",
    "from tqdm import tqdm_notebook\n",
    "import pandas as pd\n",
    "import tqdm\n",
    "import warnings\n",
    "warnings.filterwarnings('ignore')\n",
    "from simtk.openmm import unit\n",
    "from openmmtools.constants import kB\n",
    "KT_KCALMOL = kB * 300 * unit.kelvin / unit.kilocalories_per_mole\n",
    "import pandas as pd\n",
    "import pickle"
   ]
  },
  {
   "cell_type": "code",
   "execution_count": 2,
   "metadata": {},
   "outputs": [],
   "source": [
    "def bound_with_exp(forward_accumulated, reverse_accumulated):\n",
    "    upper_dg, upper_ddg = pymbar.exp.EXP(forward_accumulated)\n",
    "    lower_dg, lower_ddg = pymbar.exp.EXP(reverse_accumulated)\n",
    "    return upper_dg, upper_ddg, lower_dg, lower_ddg\n",
    "    \n",
    "def analyze(forward_accumulated, reverse_accumulated): \n",
    "    # Compute dg, ddg\n",
    "    dg, ddg = pymbar.bar.BAR(forward_accumulated, reverse_accumulated)\n",
    "    return dg, ddg\n",
    "\n",
    "def analyze_bootstrap(d_works):\n",
    "    d_dgs_phase = {}\n",
    "    complex_dg, complex_ddg = analyze(d_works['complex']['forward'], d_works['complex']['reverse'])\n",
    "    apo_dg, apo_ddg = analyze(d_works['apo']['forward'], d_works['apo']['reverse'])\n",
    "    d_dgs_phase['complex'] = (complex_dg, complex_ddg)\n",
    "    d_dgs_phase['apo'] = (apo_dg, apo_ddg)\n",
    "    \n",
    "    binding_dg = complex_dg - apo_dg\n",
    "#     binding_ddg = (apo_ddg**2 + complex_ddg**2)**0.5\n",
    "    return d_dgs_phase, binding_dg\n",
    "    \n",
    "def plot(forward_work, reverse_work, dg, ddg, dir_num, phase, output_dir, title):\n",
    "#     # Substract offset\n",
    "#     print(\"subtracting offset\")\n",
    "    forward_work_offset = []\n",
    "    for cycle in forward_work:\n",
    "        forward_work_offset.append(np.array([val - cycle[0] for val in cycle[1:]]))\n",
    "    forward_work_offset = np.array(forward_work_offset)\n",
    "\n",
    "    reverse_work_offset = []\n",
    "    for cycle in reverse_work:\n",
    "        reverse_work_offset.append(np.array([val - cycle[0] for val in cycle[1:]]))\n",
    "    reverse_work_offset = np.array(reverse_work_offset)\n",
    "\n",
    "    # Plot work trajectories\n",
    "    print(\"plotting work trajs\")\n",
    "    for cycle in forward_work_offset:\n",
    "        x = [(i+1)*4e-4 for i in range(len(list(cycle)))]\n",
    "        y = cycle\n",
    "        plt.plot(x, y, color=sns.color_palette()[0])\n",
    "    for cycle in reverse_work_offset:\n",
    "        x = [(i+1)*4e-4 for i in range(len(list(cycle)))]\n",
    "        y = -cycle\n",
    "        plt.plot(x, y, color=sns.color_palette()[1])\n",
    "    plt.xlabel(\"$t_{neq}$ (ns)\")\n",
    "    plt.ylabel(\"work (kT)\")\n",
    "    plt.title(f\"{title} {phase}\")\n",
    "    plt.savefig(os.path.join(output_dir, f\"{dir_num}_{phase}_work_traj.png\"), dpi=500)\n",
    "    print(f\"saved to: {os.path.join(output_dir, f'{dir_num}_{phase}_work_traj.png')}\")\n",
    "    plt.clf()\n",
    "    \n",
    "    # Plot work distributions\n",
    "    print(\"plotting work distrib\")\n",
    "    accumulated_forward = [cycle[-1] for cycle in forward_work_offset]\n",
    "    accumulated_reverse = [-cycle[-1] for cycle in reverse_work_offset]\n",
    "    sns.distplot(accumulated_forward)\n",
    "    sns.distplot(accumulated_reverse)\n",
    "    plt.axvline(dg)\n",
    "    plt.axvline(dg + ddg, linestyle='dashed')\n",
    "    plt.axvline(dg - ddg, linestyle='dashed')\n",
    "    plt.xlabel(\"work (kT)\")\n",
    "    plt.ylabel(\"p(w)\")\n",
    "    plt.title(f\"{title} {phase}\")\n",
    "    plt.savefig(os.path.join(output_dir, f\"{dir_num}_{phase}_work_dist.png\"), dpi=500)\n",
    "    print(f\"saved to: {os.path.join(output_dir, f'{dir_num}_{phase}_work_dist.png')}\")\n",
    "    plt.clf()\n",
    "\n",
    "    return accumulated_forward\n",
    "    "
   ]
  },
  {
   "cell_type": "markdown",
   "metadata": {},
   "source": [
    "## 15/162"
   ]
  },
  {
   "cell_type": "code",
   "execution_count": 3,
   "metadata": {
    "scrolled": false
   },
   "outputs": [
    {
     "data": {
      "application/vnd.jupyter.widget-view+json": {
       "model_id": "01f70605c9954a3587b7c55f04905e96",
       "version_major": 2,
       "version_minor": 0
      },
      "text/plain": [
       "  0%|          | 0/1 [00:00<?, ?it/s]"
      ]
     },
     "metadata": {},
     "output_type": "display_data"
    },
    {
     "name": "stdout",
     "output_type": "stream",
     "text": [
      "dir: 162\n",
      "100\n",
      "about to save: complex forward\n",
      "100\n",
      "about to save: complex reverse\n",
      "100\n",
      "about to save: apo forward\n",
      "100\n",
      "about to save: apo reverse\n",
      "plotting work trajs\n",
      "saved to: /data/chodera/zhangi/perses_benchmark/neq/15/162/162_complex_work_traj.png\n",
      "plotting work distrib\n",
      "saved to: /data/chodera/zhangi/perses_benchmark/neq/15/162/162_complex_work_dist.png\n",
      "plotting work trajs\n",
      "saved to: /data/chodera/zhangi/perses_benchmark/neq/15/162/162_apo_work_traj.png\n",
      "plotting work distrib\n",
      "saved to: /data/chodera/zhangi/perses_benchmark/neq/15/162/162_apo_work_dist.png\n"
     ]
    },
    {
     "data": {
      "text/plain": [
       "<Figure size 432x288 with 0 Axes>"
      ]
     },
     "metadata": {},
     "output_type": "display_data"
    }
   ],
   "source": [
    "# Load data into dicts and plot \n",
    "titles = [\"K417N\"]\n",
    "phases = ['complex', 'apo']\n",
    "directions = ['forward', 'reverse']\n",
    "d_input = {}\n",
    "dir_num = 15\n",
    "forward = 162\n",
    "for i in tqdm_notebook([forward]):\n",
    "    print(f\"dir: {i}\")\n",
    "    d_works = {\"complex\": {}, \"apo\":{}}\n",
    "    d_combined_works = {\"complex\": {}, \"apo\":{}}\n",
    "    for phase in phases:\n",
    "        for direction in directions:\n",
    "            all_arrays = []\n",
    "            for j in range(100):\n",
    "                path = f\"/data/chodera/zhangi/perses_benchmark/neq/{dir_num}/{i}/{i}_{phase}_{j}_{direction}.npy\"\n",
    "                try:\n",
    "                    if os.path.exists(path):\n",
    "                        with open(path, 'rb') as f:\n",
    "                            array = np.load(f)\n",
    "                            if not np.isnan(np.sum(array)):\n",
    "                                all_arrays.append(array)\n",
    "                except:\n",
    "                    continue\n",
    "            print(len(all_arrays))\n",
    "            if all_arrays:\n",
    "                combined = np.concatenate(all_arrays)\n",
    "                accumulated = np.array([cycle[-1] - cycle[0] for cycle in combined])\n",
    "#                 combined = np.array([cycle[0::100] for cycle in combined])\n",
    "                print(f\"about to save: {phase} {direction}\")\n",
    "                d_combined_works[phase][direction] = combined\n",
    "                d_works[phase][direction] = accumulated\n",
    "\n",
    "    d_input[i] = d_works\n",
    "    \n",
    "    # Plot\n",
    "    complex_dg, complex_ddg = analyze(d_works['complex']['forward'], d_works['complex']['reverse'])\n",
    "    apo_dg, apo_ddg = analyze(d_works['apo']['forward'], d_works['apo']['reverse'])\n",
    "    plot(d_combined_works['complex']['forward'], d_combined_works['complex']['reverse'], complex_dg, complex_ddg, i, 'complex', os.path.dirname(path), titles[i-forward])\n",
    "    plot(d_combined_works['apo']['forward'], d_combined_works['apo']['reverse'], apo_dg, apo_ddg, i, 'apo', os.path.dirname(path), titles[i-forward])\n",
    "        "
   ]
  },
  {
   "cell_type": "code",
   "execution_count": 4,
   "metadata": {},
   "outputs": [
    {
     "data": {
      "text/plain": [
       "(array([ 2.,  2., 12.,  9., 16., 21., 17., 12.,  6.,  3.]),\n",
       " array([-271.39063738, -269.13173724, -266.87283709, -264.61393695,\n",
       "        -262.35503681, -260.09613667, -257.83723653, -255.57833638,\n",
       "        -253.31943624, -251.0605361 , -248.80163596]),\n",
       " <BarContainer object of 10 artists>)"
      ]
     },
     "execution_count": 4,
     "metadata": {},
     "output_type": "execute_result"
    },
    {
     "data": {
      "image/png": "[encoded data removed]",
      "text/plain": [
       "<Figure size 432x288 with 1 Axes>"
      ]
     },
     "metadata": {
      "needs_background": "light"
     },
     "output_type": "display_data"
    }
   ],
   "source": [
    "plt.hist(d_works['complex']['forward'])\n",
    "plt.hist(d_works['complex']['reverse']*-1)"
   ]
  },
  {
   "cell_type": "code",
   "execution_count": 5,
   "metadata": {},
   "outputs": [
    {
     "data": {
      "application/vnd.jupyter.widget-view+json": {
       "model_id": "be5881452a084016a084daef95924e09",
       "version_major": 2,
       "version_minor": 0
      },
      "text/plain": [
       "  0%|          | 0/10000 [00:00<?, ?it/s]"
      ]
     },
     "metadata": {},
     "output_type": "display_data"
    }
   ],
   "source": [
    "# Bootstrap works\n",
    "N_bootstraps = 10000\n",
    "phases = ['complex', 'apo']\n",
    "directions = ['forward', 'reverse']\n",
    "dgs_phase = {}\n",
    "ddgs = {}\n",
    "for i in [forward]:\n",
    "    dgs_phase_all = []\n",
    "    ddgs_all = []\n",
    "    for _ in tqdm_notebook(range(N_bootstraps)):\n",
    "        # Initialize data structure for works\n",
    "        d_works = {\"complex\": {\"forward\":{}, \"reverse\":{}}, \"apo\":{\"forward\":{}, \"reverse\":{}}}\n",
    "\n",
    "        # Save subsampled works\n",
    "        for phase in phases:\n",
    "            for direction in directions:\n",
    "                work_array = np.array(d_input[i][phase][direction])\n",
    "                num_samples = work_array.shape[0]\n",
    "                subsample_indices = np.random.choice(range(num_samples), num_samples)\n",
    "                d_works[phase][direction] = work_array[subsample_indices]\n",
    "        d_dgs_phase, binding_dg = analyze_bootstrap(d_works)\n",
    "        dgs_phase_all.append(d_dgs_phase)\n",
    "        ddgs_all.append(binding_dg)\n",
    "    dgs_phase[i] = dgs_phase_all\n",
    "    ddgs[i] = ddgs_all\n",
    "    \n",
    "    \n"
   ]
  },
  {
   "cell_type": "code",
   "execution_count": 6,
   "metadata": {},
   "outputs": [],
   "source": [
    "forward_ddg = np.mean(ddgs[forward])\n",
    "forward_ci = np.percentile(ddgs[forward], 2.5), np.percentile(ddgs[forward], 97.5)\n",
    "# reverse_ddg = np.mean(ddgs[reverse])\n",
    "# reverse_ci = np.percentile(ddgs[reverse], 2.5), np.percentile(ddgs[reverse], 97.5)\n",
    "# negative_reverse_ci = sorted(np.array(reverse_ci)*-1)\n",
    "# discrepancy = tuple(np.array(forward_ci) - np.array(negative_reverse_ci))\n",
    "# output_kt = [forward_ddg, forward_ci, reverse_ddg, reverse_ci, discrepancy]\n",
    "# output_kcalmol = [round(forward_ddg*KT_KCALMOL, 2), tuple([round(val, 2)for val in np.array(forward_ci)*KT_KCALMOL]), round(reverse_ddg*KT_KCALMOL, 2), tuple([round(val, 2) for val in np.array(reverse_ci)*KT_KCALMOL]), tuple([round(val, 2) for val in np.array(discrepancy)*KT_KCALMOL])]\n",
    "\n",
    "output_kcalmol = [round(forward_ddg*KT_KCALMOL, 2), tuple([round(val, 2)for val in np.array(forward_ci)*KT_KCALMOL])]\n",
    "\n"
   ]
  },
  {
   "cell_type": "code",
   "execution_count": 7,
   "metadata": {},
   "outputs": [
    {
     "data": {
      "text/plain": [
       "[1.18, (0.68, 1.69)]"
      ]
     },
     "execution_count": 7,
     "metadata": {},
     "output_type": "execute_result"
    }
   ],
   "source": [
    "output_kcalmol"
   ]
  },
  {
   "cell_type": "code",
   "execution_count": 8,
   "metadata": {},
   "outputs": [],
   "source": [
    "# pd.DataFrame([output_kcalmol]).to_csv(f\"/data/chodera/zhangi/perses_benchmark/neq/{dir_num}/{forward}/analysis_{titles[0]}_{titles[1]}.csv\")"
   ]
  },
  {
   "cell_type": "code",
   "execution_count": 9,
   "metadata": {},
   "outputs": [],
   "source": [
    "with open(f\"/data/chodera/zhangi/perses_benchmark/neq/{dir_num}/{forward}/dgs_phase.pickle\", \"wb\") as f:\n",
    "    pickle.dump(dgs_phase, f)\n",
    "with open(f\"/data/chodera/zhangi/perses_benchmark/neq/{dir_num}/{forward}/ddgs.pickle\", \"wb\") as f:\n",
    "    pickle.dump(ddgs, f)"
   ]
  },
  {
   "cell_type": "code",
   "execution_count": 10,
   "metadata": {},
   "outputs": [],
   "source": [
    "with open(f\"/data/chodera/zhangi/perses_benchmark/neq/{dir_num}/{forward}/dgs_phase.pickle\", \"rb\") as f:\n",
    "    dgs_phase = pickle.load(f)\n",
    "with open(f\"/data/chodera/zhangi/perses_benchmark/neq/{dir_num}/{forward}/ddgs.pickle\", \"rb\") as f:\n",
    "    ddgs = pickle.load(f)"
   ]
  },
  {
   "cell_type": "code",
   "execution_count": 11,
   "metadata": {},
   "outputs": [
    {
     "data": {
      "text/plain": [
       "0.2567003601406868"
      ]
     },
     "execution_count": 11,
     "metadata": {},
     "output_type": "execute_result"
    }
   ],
   "source": [
    "np.std(np.array(ddgs[forward])*KT_KCALMOL)"
   ]
  },
  {
   "cell_type": "code",
   "execution_count": 12,
   "metadata": {
    "scrolled": true
   },
   "outputs": [
    {
     "data": {
      "text/plain": [
       "<matplotlib.legend.Legend at 0x2b08189b8790>"
      ]
     },
     "execution_count": 12,
     "metadata": {},
     "output_type": "execute_result"
    },
    {
     "data": {
      "image/png": "[encoded data removed]",
      "text/plain": [
       "<Figure size 432x288 with 1 Axes>"
      ]
     },
     "metadata": {
      "needs_background": "light"
     },
     "output_type": "display_data"
    }
   ],
   "source": [
    "# Plot ddgs\n",
    "sns.distplot(np.array(ddgs[forward])*KT_KCALMOL, rug=True, label=titles[0])\n",
    "# sns.distplot(np.array(ddgs[reverse])*-KT_KCALMOL, rug=True, label=f\"-({titles[1]})\")\n",
    "plt.xlabel(\"binding ddg (kcal/mol)\")\n",
    "plt.legend()"
   ]
  },
  {
   "cell_type": "markdown",
   "metadata": {},
   "source": [
    "## 15/163"
   ]
  },
  {
   "cell_type": "code",
   "execution_count": 13,
   "metadata": {
    "scrolled": false
   },
   "outputs": [
    {
     "data": {
      "application/vnd.jupyter.widget-view+json": {
       "model_id": "494f9660e6ad4576a72c6a954926e5d0",
       "version_major": 2,
       "version_minor": 0
      },
      "text/plain": [
       "  0%|          | 0/1 [00:00<?, ?it/s]"
      ]
     },
     "metadata": {},
     "output_type": "display_data"
    },
    {
     "name": "stdout",
     "output_type": "stream",
     "text": [
      "dir: 163\n",
      "100\n",
      "about to save: complex forward\n",
      "100\n",
      "about to save: complex reverse\n",
      "100\n",
      "about to save: apo forward\n",
      "100\n",
      "about to save: apo reverse\n",
      "plotting work trajs\n",
      "saved to: /data/chodera/zhangi/perses_benchmark/neq/15/163/163_complex_work_traj.png\n",
      "plotting work distrib\n",
      "saved to: /data/chodera/zhangi/perses_benchmark/neq/15/163/163_complex_work_dist.png\n",
      "plotting work trajs\n",
      "saved to: /data/chodera/zhangi/perses_benchmark/neq/15/163/163_apo_work_traj.png\n",
      "plotting work distrib\n",
      "saved to: /data/chodera/zhangi/perses_benchmark/neq/15/163/163_apo_work_dist.png\n"
     ]
    },
    {
     "data": {
      "text/plain": [
       "<Figure size 432x288 with 0 Axes>"
      ]
     },
     "metadata": {},
     "output_type": "display_data"
    }
   ],
   "source": [
    "# Load data into dicts and plot \n",
    "titles = [\"E484K\"]\n",
    "phases = ['complex', 'apo']\n",
    "directions = ['forward', 'reverse']\n",
    "d_input = {}\n",
    "dir_num = 15\n",
    "forward = 163\n",
    "for i in tqdm_notebook([forward]):\n",
    "    print(f\"dir: {i}\")\n",
    "    d_works = {\"complex\": {}, \"apo\":{}}\n",
    "    d_combined_works = {\"complex\": {}, \"apo\":{}}\n",
    "    for phase in phases:\n",
    "        for direction in directions:\n",
    "            all_arrays = []\n",
    "            for j in range(100):\n",
    "                path = f\"/data/chodera/zhangi/perses_benchmark/neq/{dir_num}/{i}/{i}_{phase}_{j}_{direction}.npy\"\n",
    "                try:\n",
    "                    if os.path.exists(path):\n",
    "                        with open(path, 'rb') as f:\n",
    "                            array = np.load(f)\n",
    "                            if not np.isnan(np.sum(array)):\n",
    "                                all_arrays.append(array)\n",
    "                except:\n",
    "                    continue\n",
    "            print(len(all_arrays))\n",
    "            if all_arrays:\n",
    "                combined = np.concatenate(all_arrays)\n",
    "                accumulated = np.array([cycle[-1] - cycle[0] for cycle in combined])\n",
    "#                 combined = np.array([cycle[0::100] for cycle in combined])\n",
    "                print(f\"about to save: {phase} {direction}\")\n",
    "                d_combined_works[phase][direction] = combined\n",
    "                d_works[phase][direction] = accumulated\n",
    "\n",
    "    d_input[i] = d_works\n",
    "    \n",
    "    # Plot\n",
    "    complex_dg, complex_ddg = analyze(d_works['complex']['forward'], d_works['complex']['reverse'])\n",
    "    apo_dg, apo_ddg = analyze(d_works['apo']['forward'], d_works['apo']['reverse'])\n",
    "    plot(d_combined_works['complex']['forward'], d_combined_works['complex']['reverse'], complex_dg, complex_ddg, i, 'complex', os.path.dirname(path), titles[i-forward])\n",
    "    plot(d_combined_works['apo']['forward'], d_combined_works['apo']['reverse'], apo_dg, apo_ddg, i, 'apo', os.path.dirname(path), titles[i-forward])\n",
    "        "
   ]
  },
  {
   "cell_type": "code",
   "execution_count": 14,
   "metadata": {},
   "outputs": [
    {
     "data": {
      "text/plain": [
       "(array([ 1.,  0.,  1.,  5., 16., 15., 29., 24.,  6.,  3.]),\n",
       " array([-185.16262663, -183.40914049, -181.65565435, -179.90216821,\n",
       "        -178.14868207, -176.39519593, -174.64170979, -172.88822365,\n",
       "        -171.13473751, -169.38125137, -167.62776523]),\n",
       " <BarContainer object of 10 artists>)"
      ]
     },
     "execution_count": 14,
     "metadata": {},
     "output_type": "execute_result"
    },
    {
     "data": {
      "image/png": "[encoded data removed]",
      "text/plain": [
       "<Figure size 432x288 with 1 Axes>"
      ]
     },
     "metadata": {
      "needs_background": "light"
     },
     "output_type": "display_data"
    }
   ],
   "source": [
    "plt.hist(d_works['complex']['forward'])\n",
    "plt.hist(d_works['complex']['reverse']*-1)"
   ]
  },
  {
   "cell_type": "code",
   "execution_count": 15,
   "metadata": {},
   "outputs": [
    {
     "data": {
      "application/vnd.jupyter.widget-view+json": {
       "model_id": "92c0c26a8c1949caa5d2903eea4a69a8",
       "version_major": 2,
       "version_minor": 0
      },
      "text/plain": [
       "  0%|          | 0/10000 [00:00<?, ?it/s]"
      ]
     },
     "metadata": {},
     "output_type": "display_data"
    }
   ],
   "source": [
    "# Bootstrap works\n",
    "N_bootstraps = 10000\n",
    "phases = ['complex', 'apo']\n",
    "directions = ['forward', 'reverse']\n",
    "dgs_phase = {}\n",
    "ddgs = {}\n",
    "for i in [forward]:\n",
    "    dgs_phase_all = []\n",
    "    ddgs_all = []\n",
    "    for _ in tqdm_notebook(range(N_bootstraps)):\n",
    "        # Initialize data structure for works\n",
    "        d_works = {\"complex\": {\"forward\":{}, \"reverse\":{}}, \"apo\":{\"forward\":{}, \"reverse\":{}}}\n",
    "\n",
    "        # Save subsampled works\n",
    "        for phase in phases:\n",
    "            for direction in directions:\n",
    "                work_array = np.array(d_input[i][phase][direction])\n",
    "                num_samples = work_array.shape[0]\n",
    "                subsample_indices = np.random.choice(range(num_samples), num_samples)\n",
    "                d_works[phase][direction] = work_array[subsample_indices]\n",
    "        d_dgs_phase, binding_dg = analyze_bootstrap(d_works)\n",
    "        dgs_phase_all.append(d_dgs_phase)\n",
    "        ddgs_all.append(binding_dg)\n",
    "    dgs_phase[i] = dgs_phase_all\n",
    "    ddgs[i] = ddgs_all\n",
    "    \n",
    "    \n"
   ]
  },
  {
   "cell_type": "code",
   "execution_count": 16,
   "metadata": {},
   "outputs": [],
   "source": [
    "forward_ddg = np.mean(ddgs[forward])\n",
    "forward_ci = np.percentile(ddgs[forward], 2.5), np.percentile(ddgs[forward], 97.5)\n",
    "# reverse_ddg = np.mean(ddgs[reverse])\n",
    "# reverse_ci = np.percentile(ddgs[reverse], 2.5), np.percentile(ddgs[reverse], 97.5)\n",
    "# negative_reverse_ci = sorted(np.array(reverse_ci)*-1)\n",
    "# discrepancy = tuple(np.array(forward_ci) - np.array(negative_reverse_ci))\n",
    "# output_kt = [forward_ddg, forward_ci, reverse_ddg, reverse_ci, discrepancy]\n",
    "# output_kcalmol = [round(forward_ddg*KT_KCALMOL, 2), tuple([round(val, 2)for val in np.array(forward_ci)*KT_KCALMOL]), round(reverse_ddg*KT_KCALMOL, 2), tuple([round(val, 2) for val in np.array(reverse_ci)*KT_KCALMOL]), tuple([round(val, 2) for val in np.array(discrepancy)*KT_KCALMOL])]\n",
    "\n",
    "output_kcalmol = [round(forward_ddg*KT_KCALMOL, 2), tuple([round(val, 2)for val in np.array(forward_ci)*KT_KCALMOL])]\n",
    "\n"
   ]
  },
  {
   "cell_type": "code",
   "execution_count": 17,
   "metadata": {},
   "outputs": [
    {
     "data": {
      "text/plain": [
       "[-0.25, (-0.5, 0.01)]"
      ]
     },
     "execution_count": 17,
     "metadata": {},
     "output_type": "execute_result"
    }
   ],
   "source": [
    "output_kcalmol"
   ]
  },
  {
   "cell_type": "code",
   "execution_count": 18,
   "metadata": {},
   "outputs": [],
   "source": [
    "# pd.DataFrame([output_kcalmol]).to_csv(f\"/data/chodera/zhangi/perses_benchmark/neq/{dir_num}/{forward}/analysis_{titles[0]}_{titles[1]}.csv\")"
   ]
  },
  {
   "cell_type": "code",
   "execution_count": 19,
   "metadata": {},
   "outputs": [],
   "source": [
    "with open(f\"/data/chodera/zhangi/perses_benchmark/neq/{dir_num}/{forward}/dgs_phase.pickle\", \"wb\") as f:\n",
    "    pickle.dump(dgs_phase, f)\n",
    "with open(f\"/data/chodera/zhangi/perses_benchmark/neq/{dir_num}/{forward}/ddgs.pickle\", \"wb\") as f:\n",
    "    pickle.dump(ddgs, f)"
   ]
  },
  {
   "cell_type": "code",
   "execution_count": 20,
   "metadata": {},
   "outputs": [],
   "source": [
    "with open(f\"/data/chodera/zhangi/perses_benchmark/neq/{dir_num}/{forward}/dgs_phase.pickle\", \"rb\") as f:\n",
    "    dgs_phase = pickle.load(f)\n",
    "with open(f\"/data/chodera/zhangi/perses_benchmark/neq/{dir_num}/{forward}/ddgs.pickle\", \"rb\") as f:\n",
    "    ddgs = pickle.load(f)"
   ]
  },
  {
   "cell_type": "code",
   "execution_count": 21,
   "metadata": {},
   "outputs": [
    {
     "data": {
      "text/plain": [
       "0.12827020157443153"
      ]
     },
     "execution_count": 21,
     "metadata": {},
     "output_type": "execute_result"
    }
   ],
   "source": [
    "np.std(np.array(ddgs[forward])*KT_KCALMOL)"
   ]
  },
  {
   "cell_type": "code",
   "execution_count": 22,
   "metadata": {
    "scrolled": false
   },
   "outputs": [
    {
     "data": {
      "text/plain": [
       "<matplotlib.legend.Legend at 0x2b08197ad4f0>"
      ]
     },
     "execution_count": 22,
     "metadata": {},
     "output_type": "execute_result"
    },
    {
     "data": {
      "image/png": "[encoded data removed]",
      "text/plain": [
       "<Figure size 432x288 with 1 Axes>"
      ]
     },
     "metadata": {
      "needs_background": "light"
     },
     "output_type": "display_data"
    }
   ],
   "source": [
    "# Plot ddgs\n",
    "sns.distplot(np.array(ddgs[forward])*KT_KCALMOL, rug=True, label=titles[0])\n",
    "# sns.distplot(np.array(ddgs[reverse])*-KT_KCALMOL, rug=True, label=f\"-({titles[1]})\")\n",
    "plt.xlabel(\"binding ddg (kcal/mol)\")\n",
    "plt.legend()"
   ]
  },
  {
   "cell_type": "code",
   "execution_count": null,
   "metadata": {},
   "outputs": [],
   "source": []
  },
  {
   "cell_type": "markdown",
   "metadata": {},
   "source": [
    "## 15/164"
   ]
  },
  {
   "cell_type": "code",
   "execution_count": 23,
   "metadata": {
    "scrolled": false
   },
   "outputs": [
    {
     "data": {
      "application/vnd.jupyter.widget-view+json": {
       "model_id": "4725f85c6c9641948cc539877274cd17",
       "version_major": 2,
       "version_minor": 0
      },
      "text/plain": [
       "  0%|          | 0/1 [00:00<?, ?it/s]"
      ]
     },
     "metadata": {},
     "output_type": "display_data"
    },
    {
     "name": "stdout",
     "output_type": "stream",
     "text": [
      "dir: 164\n",
      "100\n",
      "about to save: complex forward\n",
      "100\n",
      "about to save: complex reverse\n",
      "100\n",
      "about to save: apo forward\n",
      "100\n",
      "about to save: apo reverse\n",
      "plotting work trajs\n",
      "saved to: /data/chodera/zhangi/perses_benchmark/neq/15/164/164_complex_work_traj.png\n",
      "plotting work distrib\n",
      "saved to: /data/chodera/zhangi/perses_benchmark/neq/15/164/164_complex_work_dist.png\n",
      "plotting work trajs\n",
      "saved to: /data/chodera/zhangi/perses_benchmark/neq/15/164/164_apo_work_traj.png\n",
      "plotting work distrib\n",
      "saved to: /data/chodera/zhangi/perses_benchmark/neq/15/164/164_apo_work_dist.png\n",
      "binding DDG:  -0.19510831011379537  ( 0.14129532727002744 )\n",
      "complex DG:  -236.1049351643801  ( 0.09948520445645885 )\n",
      "apo DG:  -235.9098268542663  ( 0.1003347576994171 )\n",
      "binding DDG (upper):  0.06347279134143946  ( 0.27283248871553417 )\n",
      "complex DG:  -235.91431371954283  ( 0.1269273727788197 )\n",
      "apo DG:  -235.97778651088427  ( 0.24150985267309202 )\n",
      "binding DDG (lower):  -0.5033553652180274  ( -0.1981562838486942 )\n",
      "complex DG:  -236.40618673735025  ( -0.12062419261183784 )\n",
      "apo DG:  -235.90283137213223  ( -0.1572123308950876 )\n"
     ]
    },
    {
     "data": {
      "text/plain": [
       "<Figure size 432x288 with 0 Axes>"
      ]
     },
     "metadata": {},
     "output_type": "display_data"
    }
   ],
   "source": [
    "# Load data into dicts and plot \n",
    "titles = [\"L452R\"]\n",
    "phases = ['complex', 'apo']\n",
    "directions = ['forward', 'reverse']\n",
    "d_input = {}\n",
    "dir_num = 15\n",
    "forward = 164\n",
    "for i in tqdm_notebook([forward]):\n",
    "    print(f\"dir: {i}\")\n",
    "    d_works = {\"complex\": {}, \"apo\":{}}\n",
    "    d_combined_works = {\"complex\": {}, \"apo\":{}}\n",
    "    for phase in phases:\n",
    "        for direction in directions:\n",
    "            all_arrays = []\n",
    "            for j in range(100):\n",
    "                path = f\"/data/chodera/zhangi/perses_benchmark/neq/{dir_num}/{i}/{i}_{phase}_{j}_{direction}.npy\"\n",
    "                try:\n",
    "                    if os.path.exists(path):\n",
    "                        with open(path, 'rb') as f:\n",
    "                            array = np.load(f)\n",
    "                            if not np.isnan(np.sum(array)):\n",
    "                                all_arrays.append(array)\n",
    "                except:\n",
    "                    continue\n",
    "            print(len(all_arrays))\n",
    "            if all_arrays:\n",
    "                combined = np.concatenate(all_arrays)\n",
    "                accumulated = np.array([cycle[-1] - cycle[0] for cycle in combined])\n",
    "#                 combined = np.array([cycle[0::100] for cycle in combined])\n",
    "                print(f\"about to save: {phase} {direction}\")\n",
    "                d_combined_works[phase][direction] = combined\n",
    "                d_works[phase][direction] = accumulated\n",
    "\n",
    "    d_input[i] = d_works\n",
    "    \n",
    "    # Plot\n",
    "    complex_dg, complex_ddg = analyze(d_works['complex']['forward'], d_works['complex']['reverse'])\n",
    "    apo_dg, apo_ddg = analyze(d_works['apo']['forward'], d_works['apo']['reverse'])\n",
    "    plot(d_combined_works['complex']['forward'], d_combined_works['complex']['reverse'], complex_dg, complex_ddg, i, 'complex', os.path.dirname(path), titles[i-forward])\n",
    "    plot(d_combined_works['apo']['forward'], d_combined_works['apo']['reverse'], apo_dg, apo_ddg, i, 'apo', os.path.dirname(path), titles[i-forward])\n",
    "    print(\"binding DDG: \", complex_dg*KT_KCALMOL - apo_dg*KT_KCALMOL, \" (\", ((apo_ddg**2 + complex_ddg**2)**0.5)*KT_KCALMOL, \")\")\n",
    "    print(\"complex DG: \", complex_dg*KT_KCALMOL, \" (\", complex_ddg*KT_KCALMOL,\")\")\n",
    "    print(\"apo DG: \", apo_dg*KT_KCALMOL, \" (\", apo_ddg*KT_KCALMOL,\")\")\n",
    "    \n",
    "    complex_upper_dg, complex_upper_ddg, complex_lower_dg, complex_lower_ddg = bound_with_exp(d_works['complex']['forward'], d_works['complex']['reverse'])\n",
    "    apo_upper_dg, apo_upper_ddg, apo_lower_dg, apo_lower_ddg = bound_with_exp(d_works['apo']['forward'], d_works['apo']['reverse'])\n",
    "    print(\"binding DDG (upper): \", complex_upper_dg*KT_KCALMOL - apo_upper_dg*KT_KCALMOL, \" (\", ((apo_upper_ddg**2 + complex_upper_ddg**2)**0.5)*KT_KCALMOL, \")\")\n",
    "    print(\"complex DG: \", complex_upper_dg*KT_KCALMOL, \" (\", complex_upper_ddg*KT_KCALMOL,\")\")\n",
    "    print(\"apo DG: \", apo_upper_dg*KT_KCALMOL, \" (\", apo_upper_ddg*KT_KCALMOL,\")\")\n",
    "    print(\"binding DDG (lower): \", complex_lower_dg*-KT_KCALMOL - apo_lower_dg*-KT_KCALMOL, \" (\", ((apo_lower_ddg**2 + complex_lower_ddg**2)**0.5)*-KT_KCALMOL, \")\")\n",
    "    print(\"complex DG: \", complex_lower_dg*-KT_KCALMOL, \" (\", complex_lower_ddg*-KT_KCALMOL,\")\")\n",
    "    print(\"apo DG: \", apo_lower_dg*-KT_KCALMOL, \" (\", apo_lower_ddg*-KT_KCALMOL,\")\")\n",
    "    "
   ]
  },
  {
   "cell_type": "code",
   "execution_count": 24,
   "metadata": {
    "scrolled": true
   },
   "outputs": [
    {
     "data": {
      "text/plain": [
       "(array([ 1.,  3.,  5.,  3., 10., 14., 25., 19., 13.,  7.]),\n",
       " array([-405.60122346, -404.45319316, -403.30516286, -402.15713256,\n",
       "        -401.00910226, -399.86107196, -398.71304166, -397.56501136,\n",
       "        -396.41698106, -395.26895076, -394.12092046]),\n",
       " <BarContainer object of 10 artists>)"
      ]
     },
     "execution_count": 24,
     "metadata": {},
     "output_type": "execute_result"
    },
    {
     "data": {
      "image/png": "[encoded data removed]",
      "text/plain": [
       "<Figure size 432x288 with 1 Axes>"
      ]
     },
     "metadata": {
      "needs_background": "light"
     },
     "output_type": "display_data"
    }
   ],
   "source": [
    "plt.hist(d_works['complex']['forward'])\n",
    "plt.hist(d_works['complex']['reverse']*-1)"
   ]
  },
  {
   "cell_type": "code",
   "execution_count": 25,
   "metadata": {},
   "outputs": [
    {
     "data": {
      "application/vnd.jupyter.widget-view+json": {
       "model_id": "a9f781509808487d840c4952c893751f",
       "version_major": 2,
       "version_minor": 0
      },
      "text/plain": [
       "  0%|          | 0/10000 [00:00<?, ?it/s]"
      ]
     },
     "metadata": {},
     "output_type": "display_data"
    }
   ],
   "source": [
    "# Bootstrap works\n",
    "N_bootstraps = 10000\n",
    "phases = ['complex', 'apo']\n",
    "directions = ['forward', 'reverse']\n",
    "dgs_phase = {}\n",
    "ddgs = {}\n",
    "for i in [forward]:\n",
    "    dgs_phase_all = []\n",
    "    ddgs_all = []\n",
    "    for _ in tqdm_notebook(range(N_bootstraps)):\n",
    "        # Initialize data structure for works\n",
    "        d_works = {\"complex\": {\"forward\":{}, \"reverse\":{}}, \"apo\":{\"forward\":{}, \"reverse\":{}}}\n",
    "\n",
    "        # Save subsampled works\n",
    "        for phase in phases:\n",
    "            for direction in directions:\n",
    "                work_array = np.array(d_input[i][phase][direction])\n",
    "                num_samples = work_array.shape[0]\n",
    "                subsample_indices = np.random.choice(range(num_samples), num_samples)\n",
    "                d_works[phase][direction] = work_array[subsample_indices]\n",
    "        d_dgs_phase, binding_dg = analyze_bootstrap(d_works)\n",
    "        dgs_phase_all.append(d_dgs_phase)\n",
    "        ddgs_all.append(binding_dg)\n",
    "    dgs_phase[i] = dgs_phase_all\n",
    "    ddgs[i] = ddgs_all\n",
    "    \n",
    "    \n"
   ]
  },
  {
   "cell_type": "code",
   "execution_count": 26,
   "metadata": {},
   "outputs": [],
   "source": [
    "forward_ddg = np.mean(ddgs[forward])\n",
    "forward_ci = np.percentile(ddgs[forward], 2.5), np.percentile(ddgs[forward], 97.5)\n",
    "# reverse_ddg = np.mean(ddgs[reverse])\n",
    "# reverse_ci = np.percentile(ddgs[reverse], 2.5), np.percentile(ddgs[reverse], 97.5)\n",
    "# negative_reverse_ci = sorted(np.array(reverse_ci)*-1)\n",
    "# discrepancy = tuple(np.array(forward_ci) - np.array(negative_reverse_ci))\n",
    "# output_kt = [forward_ddg, forward_ci, reverse_ddg, reverse_ci, discrepancy]\n",
    "# output_kcalmol = [round(forward_ddg*KT_KCALMOL, 2), tuple([round(val, 2)for val in np.array(forward_ci)*KT_KCALMOL]), round(reverse_ddg*KT_KCALMOL, 2), tuple([round(val, 2) for val in np.array(reverse_ci)*KT_KCALMOL]), tuple([round(val, 2) for val in np.array(discrepancy)*KT_KCALMOL])]\n",
    "\n",
    "output_kcalmol = [round(forward_ddg*KT_KCALMOL, 2), tuple([round(val, 2)for val in np.array(forward_ci)*KT_KCALMOL])]\n",
    "\n"
   ]
  },
  {
   "cell_type": "code",
   "execution_count": 27,
   "metadata": {},
   "outputs": [
    {
     "data": {
      "text/plain": [
       "[-0.19, (-0.49, 0.11)]"
      ]
     },
     "execution_count": 27,
     "metadata": {},
     "output_type": "execute_result"
    }
   ],
   "source": [
    "output_kcalmol"
   ]
  },
  {
   "cell_type": "code",
   "execution_count": 28,
   "metadata": {},
   "outputs": [],
   "source": [
    "# pd.DataFrame([output_kcalmol]).to_csv(f\"/data/chodera/zhangi/perses_benchmark/neq/{dir_num}/{forward}/analysis_{titles[0]}_{titles[1]}.csv\")"
   ]
  },
  {
   "cell_type": "code",
   "execution_count": 29,
   "metadata": {},
   "outputs": [],
   "source": [
    "with open(f\"/data/chodera/zhangi/perses_benchmark/neq/{dir_num}/{forward}/dgs_phase.pickle\", \"wb\") as f:\n",
    "    pickle.dump(dgs_phase, f)\n",
    "with open(f\"/data/chodera/zhangi/perses_benchmark/neq/{dir_num}/{forward}/ddgs.pickle\", \"wb\") as f:\n",
    "    pickle.dump(ddgs, f)"
   ]
  },
  {
   "cell_type": "code",
   "execution_count": 30,
   "metadata": {},
   "outputs": [],
   "source": [
    "with open(f\"/data/chodera/zhangi/perses_benchmark/neq/{dir_num}/{forward}/dgs_phase.pickle\", \"rb\") as f:\n",
    "    dgs_phase = pickle.load(f)\n",
    "with open(f\"/data/chodera/zhangi/perses_benchmark/neq/{dir_num}/{forward}/ddgs.pickle\", \"rb\") as f:\n",
    "    ddgs = pickle.load(f)"
   ]
  },
  {
   "cell_type": "code",
   "execution_count": 31,
   "metadata": {
    "scrolled": false
   },
   "outputs": [
    {
     "data": {
      "text/plain": [
       "<matplotlib.legend.Legend at 0x2b081a035be0>"
      ]
     },
     "execution_count": 31,
     "metadata": {},
     "output_type": "execute_result"
    },
    {
     "data": {
      "image/png": "[encoded data removed]",
      "text/plain": [
       "<Figure size 432x288 with 1 Axes>"
      ]
     },
     "metadata": {
      "needs_background": "light"
     },
     "output_type": "display_data"
    }
   ],
   "source": [
    "# Plot ddgs\n",
    "sns.distplot(np.array(ddgs[forward])*KT_KCALMOL, rug=True, label=titles[0])\n",
    "# sns.distplot(np.array(ddgs[reverse])*-KT_KCALMOL, rug=True, label=f\"-({titles[1]})\")\n",
    "plt.xlabel(\"binding ddg (kcal/mol)\")\n",
    "plt.legend()"
   ]
  },
  {
   "cell_type": "code",
   "execution_count": 32,
   "metadata": {},
   "outputs": [
    {
     "data": {
      "text/plain": [
       "0.15225268121461677"
      ]
     },
     "execution_count": 32,
     "metadata": {},
     "output_type": "execute_result"
    }
   ],
   "source": [
    "np.std(np.array(ddgs[forward])*KT_KCALMOL)"
   ]
  },
  {
   "cell_type": "code",
   "execution_count": null,
   "metadata": {},
   "outputs": [],
   "source": []
  },
  {
   "cell_type": "code",
   "execution_count": 33,
   "metadata": {},
   "outputs": [],
   "source": [
    "apo_dg = np.mean([d['apo'][0] for d in dgs_phase[forward]])\n",
    "apo_ci = np.percentile([d['apo'][0] for d in dgs_phase[forward]], 2.5), np.percentile([d['apo'][0] for d in dgs_phase[forward]], 97.5)\n",
    "output_kcalmol_apo = [round(apo_dg*KT_KCALMOL, 2), tuple([round(val, 2)for val in np.array(apo_ci)*KT_KCALMOL])]\n",
    "\n",
    "complex_dg = np.mean([d['complex'][0] for d in dgs_phase[forward]])\n",
    "complex_ci = np.percentile([d['complex'][0] for d in dgs_phase[forward]], 2.5), np.percentile([d['complex'][0] for d in dgs_phase[forward]], 97.5)\n",
    "output_kcalmol_complex = [round(complex_dg*KT_KCALMOL, 2), tuple([round(val, 2)for val in np.array(complex_ci)*KT_KCALMOL])]\n"
   ]
  },
  {
   "cell_type": "code",
   "execution_count": 34,
   "metadata": {},
   "outputs": [
    {
     "data": {
      "text/plain": [
       "[-235.91, (-236.13, -235.69)]"
      ]
     },
     "execution_count": 34,
     "metadata": {},
     "output_type": "execute_result"
    }
   ],
   "source": [
    "output_kcalmol_apo"
   ]
  },
  {
   "cell_type": "code",
   "execution_count": 35,
   "metadata": {},
   "outputs": [
    {
     "data": {
      "text/plain": [
       "[-236.1, (-236.3, -235.89)]"
      ]
     },
     "execution_count": 35,
     "metadata": {},
     "output_type": "execute_result"
    }
   ],
   "source": [
    "output_kcalmol_complex"
   ]
  },
  {
   "cell_type": "code",
   "execution_count": 36,
   "metadata": {},
   "outputs": [
    {
     "data": {
      "text/plain": [
       "<matplotlib.legend.Legend at 0x2b081a532940>"
      ]
     },
     "execution_count": 36,
     "metadata": {},
     "output_type": "execute_result"
    },
    {
     "data": {
      "image/png": "[encoded data removed]",
      "text/plain": [
       "<Figure size 432x288 with 1 Axes>"
      ]
     },
     "metadata": {
      "needs_background": "light"
     },
     "output_type": "display_data"
    }
   ],
   "source": [
    "# Plot ddgs\n",
    "sns.distplot(np.array([dgs_phase[forward][i]['apo'][0]*KT_KCALMOL for i in range(100)]), rug=True, label=titles[0])\n",
    "plt.xlabel(\"apo binding dg (kcal/mol)\")\n",
    "plt.legend()"
   ]
  },
  {
   "cell_type": "code",
   "execution_count": 37,
   "metadata": {
    "scrolled": false
   },
   "outputs": [
    {
     "data": {
      "text/plain": [
       "<matplotlib.legend.Legend at 0x2b081a560250>"
      ]
     },
     "execution_count": 37,
     "metadata": {},
     "output_type": "execute_result"
    },
    {
     "data": {
      "image/png": "[encoded data removed]",
      "text/plain": [
       "<Figure size 432x288 with 1 Axes>"
      ]
     },
     "metadata": {
      "needs_background": "light"
     },
     "output_type": "display_data"
    }
   ],
   "source": [
    "# Plot ddgs\n",
    "sns.distplot(np.array([dgs_phase[forward][i]['complex'][0]*KT_KCALMOL for i in range(100)]), rug=True, label=titles[0])\n",
    "plt.xlabel(\"complex binding dg (kcal/mol)\")\n",
    "plt.legend()"
   ]
  },
  {
   "cell_type": "markdown",
   "metadata": {},
   "source": [
    "## 15/165"
   ]
  },
  {
   "cell_type": "code",
   "execution_count": 38,
   "metadata": {
    "scrolled": true
   },
   "outputs": [
    {
     "data": {
      "application/vnd.jupyter.widget-view+json": {
       "model_id": "8f8c9ebe1b8c46928820ae2fadd15a3c",
       "version_major": 2,
       "version_minor": 0
      },
      "text/plain": [
       "  0%|          | 0/1 [00:00<?, ?it/s]"
      ]
     },
     "metadata": {},
     "output_type": "display_data"
    },
    {
     "name": "stdout",
     "output_type": "stream",
     "text": [
      "dir: 165\n",
      "100\n",
      "about to save: complex forward\n",
      "100\n",
      "about to save: complex reverse\n",
      "100\n",
      "about to save: apo forward\n",
      "100\n",
      "about to save: apo reverse\n",
      "plotting work trajs\n",
      "saved to: /data/chodera/zhangi/perses_benchmark/neq/15/165/165_complex_work_traj.png\n",
      "plotting work distrib\n",
      "saved to: /data/chodera/zhangi/perses_benchmark/neq/15/165/165_complex_work_dist.png\n",
      "plotting work trajs\n",
      "saved to: /data/chodera/zhangi/perses_benchmark/neq/15/165/165_apo_work_traj.png\n",
      "plotting work distrib\n",
      "saved to: /data/chodera/zhangi/perses_benchmark/neq/15/165/165_apo_work_dist.png\n",
      "binding DDG:  0.9242005590804254  ( 0.24219538350028924 )\n",
      "\tcomplex DG:  -13.140630762320686  ( 0.18200730680032887 )\n",
      "\tapo DG:  -14.064831321401112  ( 0.15978718365420655 )\n",
      "binding DDG (upper):  0.45050333482724625  ( 0.59427928605054 )\n",
      "\tcomplex DG:  -13.039326033838353  ( 0.5241491429795417 )\n",
      "\tapo DG:  -13.4898293686656  ( 0.2800634673472274 )\n",
      "binding DDG (lower):  0.3442038989055547  ( -0.33308994106479944 )\n",
      "\tcomplex DG:  -14.315935888252232  ( -0.16893234961880443 )\n",
      "\tapo DG:  -14.660139787157787  ( -0.2870727609697959 )\n"
     ]
    },
    {
     "data": {
      "text/plain": [
       "<Figure size 432x288 with 0 Axes>"
      ]
     },
     "metadata": {},
     "output_type": "display_data"
    }
   ],
   "source": [
    "# Load data into dicts and plot \n",
    "titles = [\"N439K\"]\n",
    "phases = ['complex', 'apo']\n",
    "directions = ['forward', 'reverse']\n",
    "d_input = {}\n",
    "dir_num = 15\n",
    "forward = 165\n",
    "for i in tqdm_notebook([forward]):\n",
    "    print(f\"dir: {i}\")\n",
    "    d_works = {\"complex\": {}, \"apo\":{}}\n",
    "    d_combined_works = {\"complex\": {}, \"apo\":{}}\n",
    "    for phase in phases:\n",
    "        for direction in directions:\n",
    "            all_arrays = []\n",
    "            for j in range(100):\n",
    "                path = f\"/data/chodera/zhangi/perses_benchmark/neq/{dir_num}/{i}/{i}_{phase}_{j}_{direction}.npy\"\n",
    "                try:\n",
    "                    if os.path.exists(path):\n",
    "                        with open(path, 'rb') as f:\n",
    "                            array = np.load(f)\n",
    "                            if not np.isnan(np.sum(array)):\n",
    "                                all_arrays.append(array)\n",
    "                except:\n",
    "                    continue\n",
    "            print(len(all_arrays))\n",
    "            if all_arrays:\n",
    "                combined = np.concatenate(all_arrays)\n",
    "                accumulated = np.array([cycle[-1] - cycle[0] for cycle in combined])\n",
    "#                 combined = np.array([cycle[0::100] for cycle in combined])\n",
    "                print(f\"about to save: {phase} {direction}\")\n",
    "                d_combined_works[phase][direction] = combined\n",
    "                d_works[phase][direction] = accumulated\n",
    "\n",
    "    d_input[i] = d_works\n",
    "    \n",
    "    # Plot\n",
    "    complex_dg, complex_ddg = analyze(d_works['complex']['forward'], d_works['complex']['reverse'])\n",
    "    apo_dg, apo_ddg = analyze(d_works['apo']['forward'], d_works['apo']['reverse'])\n",
    "    plot(d_combined_works['complex']['forward'], d_combined_works['complex']['reverse'], complex_dg, complex_ddg, i, 'complex', os.path.dirname(path), titles[i-forward])\n",
    "    plot(d_combined_works['apo']['forward'], d_combined_works['apo']['reverse'], apo_dg, apo_ddg, i, 'apo', os.path.dirname(path), titles[i-forward])\n",
    "    print(\"binding DDG: \", complex_dg*KT_KCALMOL - apo_dg*KT_KCALMOL, \" (\", ((apo_ddg**2 + complex_ddg**2)**0.5)*KT_KCALMOL, \")\")\n",
    "    print(\"\\tcomplex DG: \", complex_dg*KT_KCALMOL, \" (\", complex_ddg*KT_KCALMOL,\")\")\n",
    "    print(\"\\tapo DG: \", apo_dg*KT_KCALMOL, \" (\", apo_ddg*KT_KCALMOL,\")\")\n",
    "    \n",
    "    complex_upper_dg, complex_upper_ddg, complex_lower_dg, complex_lower_ddg = bound_with_exp(d_works['complex']['forward'], d_works['complex']['reverse'])\n",
    "    apo_upper_dg, apo_upper_ddg, apo_lower_dg, apo_lower_ddg = bound_with_exp(d_works['apo']['forward'], d_works['apo']['reverse'])\n",
    "    print(\"binding DDG (upper): \", complex_upper_dg*KT_KCALMOL - apo_upper_dg*KT_KCALMOL, \" (\", ((apo_upper_ddg**2 + complex_upper_ddg**2)**0.5)*KT_KCALMOL, \")\")\n",
    "    print(\"\\tcomplex DG: \", complex_upper_dg*KT_KCALMOL, \" (\", complex_upper_ddg*KT_KCALMOL,\")\")\n",
    "    print(\"\\tapo DG: \", apo_upper_dg*KT_KCALMOL, \" (\", apo_upper_ddg*KT_KCALMOL,\")\")\n",
    "    print(\"binding DDG (lower): \", complex_lower_dg*-KT_KCALMOL - apo_lower_dg*-KT_KCALMOL, \" (\", ((apo_lower_ddg**2 + complex_lower_ddg**2)**0.5)*-KT_KCALMOL, \")\")\n",
    "    print(\"\\tcomplex DG: \", complex_lower_dg*-KT_KCALMOL, \" (\", complex_lower_ddg*-KT_KCALMOL,\")\")\n",
    "    print(\"\\tapo DG: \", apo_lower_dg*-KT_KCALMOL, \" (\", apo_lower_ddg*-KT_KCALMOL,\")\")\n",
    "     "
   ]
  },
  {
   "cell_type": "code",
   "execution_count": 39,
   "metadata": {
    "scrolled": true
   },
   "outputs": [
    {
     "data": {
      "text/plain": [
       "(array([ 3.,  5., 12.,  7., 16., 14., 11., 15.,  9.,  8.]),\n",
       " array([-36.80163269, -35.24292104, -33.68420938, -32.12549773,\n",
       "        -30.56678608, -29.00807442, -27.44936277, -25.89065112,\n",
       "        -24.33193947, -22.77322781, -21.21451616]),\n",
       " <BarContainer object of 10 artists>)"
      ]
     },
     "execution_count": 39,
     "metadata": {},
     "output_type": "execute_result"
    },
    {
     "data": {
      "image/png": "[encoded data removed]",
      "text/plain": [
       "<Figure size 432x288 with 1 Axes>"
      ]
     },
     "metadata": {
      "needs_background": "light"
     },
     "output_type": "display_data"
    }
   ],
   "source": [
    "plt.hist(d_works['complex']['forward'])\n",
    "plt.hist(d_works['complex']['reverse']*-1)"
   ]
  },
  {
   "cell_type": "code",
   "execution_count": 40,
   "metadata": {},
   "outputs": [
    {
     "data": {
      "text/plain": [
       "-26.354019415609866"
      ]
     },
     "execution_count": 40,
     "metadata": {},
     "output_type": "execute_result"
    }
   ],
   "source": [
    "np.min(d_works['complex']['forward'])"
   ]
  },
  {
   "cell_type": "code",
   "execution_count": 41,
   "metadata": {},
   "outputs": [
    {
     "data": {
      "application/vnd.jupyter.widget-view+json": {
       "model_id": "e74e10d60b84451ca12b7e8a76b398c4",
       "version_major": 2,
       "version_minor": 0
      },
      "text/plain": [
       "  0%|          | 0/10000 [00:00<?, ?it/s]"
      ]
     },
     "metadata": {},
     "output_type": "display_data"
    }
   ],
   "source": [
    "# Bootstrap works\n",
    "N_bootstraps = 10000\n",
    "phases = ['complex', 'apo']\n",
    "directions = ['forward', 'reverse']\n",
    "dgs_phase = {}\n",
    "ddgs = {}\n",
    "for i in [forward]:\n",
    "    dgs_phase_all = []\n",
    "    ddgs_all = []\n",
    "    for _ in tqdm_notebook(range(N_bootstraps)):\n",
    "        # Initialize data structure for works\n",
    "        d_works = {\"complex\": {\"forward\":{}, \"reverse\":{}}, \"apo\":{\"forward\":{}, \"reverse\":{}}}\n",
    "\n",
    "        # Save subsampled works\n",
    "        for phase in phases:\n",
    "            for direction in directions:\n",
    "                work_array = np.array(d_input[i][phase][direction])\n",
    "                num_samples = work_array.shape[0]\n",
    "                subsample_indices = np.random.choice(range(num_samples), num_samples)\n",
    "                d_works[phase][direction] = work_array[subsample_indices]\n",
    "        d_dgs_phase, binding_dg = analyze_bootstrap(d_works)\n",
    "        dgs_phase_all.append(d_dgs_phase)\n",
    "        ddgs_all.append(binding_dg)\n",
    "    dgs_phase[i] = dgs_phase_all\n",
    "    ddgs[i] = ddgs_all\n",
    "    \n",
    "    \n"
   ]
  },
  {
   "cell_type": "code",
   "execution_count": 42,
   "metadata": {},
   "outputs": [],
   "source": [
    "forward_ddg = np.mean(ddgs[forward])\n",
    "forward_ci = np.percentile(ddgs[forward], 2.5), np.percentile(ddgs[forward], 97.5)\n",
    "# reverse_ddg = np.mean(ddgs[reverse])\n",
    "# reverse_ci = np.percentile(ddgs[reverse], 2.5), np.percentile(ddgs[reverse], 97.5)\n",
    "# negative_reverse_ci = sorted(np.array(reverse_ci)*-1)\n",
    "# discrepancy = tuple(np.array(forward_ci) - np.array(negative_reverse_ci))\n",
    "# output_kt = [forward_ddg, forward_ci, reverse_ddg, reverse_ci, discrepancy]\n",
    "# output_kcalmol = [round(forward_ddg*KT_KCALMOL, 2), tuple([round(val, 2)for val in np.array(forward_ci)*KT_KCALMOL]), round(reverse_ddg*KT_KCALMOL, 2), tuple([round(val, 2) for val in np.array(reverse_ci)*KT_KCALMOL]), tuple([round(val, 2) for val in np.array(discrepancy)*KT_KCALMOL])]\n",
    "\n",
    "output_kcalmol = [round(forward_ddg*KT_KCALMOL, 2), tuple([round(val, 2)for val in np.array(forward_ci)*KT_KCALMOL])]\n",
    "\n"
   ]
  },
  {
   "cell_type": "code",
   "execution_count": 43,
   "metadata": {},
   "outputs": [
    {
     "data": {
      "text/plain": [
       "[0.92, (0.5, 1.32)]"
      ]
     },
     "execution_count": 43,
     "metadata": {},
     "output_type": "execute_result"
    }
   ],
   "source": [
    "output_kcalmol"
   ]
  },
  {
   "cell_type": "code",
   "execution_count": 44,
   "metadata": {},
   "outputs": [],
   "source": [
    "# pd.DataFrame([output_kcalmol]).to_csv(f\"/data/chodera/zhangi/perses_benchmark/neq/{dir_num}/{forward}/analysis_{titles[0]}_{titles[1]}.csv\")"
   ]
  },
  {
   "cell_type": "code",
   "execution_count": 45,
   "metadata": {},
   "outputs": [],
   "source": [
    "with open(f\"/data/chodera/zhangi/perses_benchmark/neq/{dir_num}/{forward}/dgs_phase.pickle\", \"wb\") as f:\n",
    "    pickle.dump(dgs_phase, f)\n",
    "with open(f\"/data/chodera/zhangi/perses_benchmark/neq/{dir_num}/{forward}/ddgs.pickle\", \"wb\") as f:\n",
    "    pickle.dump(ddgs, f)"
   ]
  },
  {
   "cell_type": "code",
   "execution_count": 46,
   "metadata": {},
   "outputs": [],
   "source": [
    "with open(f\"/data/chodera/zhangi/perses_benchmark/neq/{dir_num}/{forward}/dgs_phase.pickle\", \"rb\") as f:\n",
    "    dgs_phase = pickle.load(f)\n",
    "with open(f\"/data/chodera/zhangi/perses_benchmark/neq/{dir_num}/{forward}/ddgs.pickle\", \"rb\") as f:\n",
    "    ddgs = pickle.load(f)"
   ]
  },
  {
   "cell_type": "code",
   "execution_count": 47,
   "metadata": {
    "scrolled": true
   },
   "outputs": [
    {
     "data": {
      "text/plain": [
       "<matplotlib.legend.Legend at 0x2b081a5fd2e0>"
      ]
     },
     "execution_count": 47,
     "metadata": {},
     "output_type": "execute_result"
    },
    {
     "data": {
      "image/png": "[encoded data removed]",
      "text/plain": [
       "<Figure size 432x288 with 1 Axes>"
      ]
     },
     "metadata": {
      "needs_background": "light"
     },
     "output_type": "display_data"
    }
   ],
   "source": [
    "# Plot ddgs\n",
    "sns.distplot(np.array(ddgs[forward])*KT_KCALMOL, rug=True, label=titles[0])\n",
    "# sns.distplot(np.array(ddgs[reverse])*-KT_KCALMOL, rug=True, label=f\"-({titles[1]})\")\n",
    "plt.xlabel(\"binding ddg (kcal/mol)\")\n",
    "plt.legend()"
   ]
  },
  {
   "cell_type": "code",
   "execution_count": 48,
   "metadata": {},
   "outputs": [
    {
     "data": {
      "text/plain": [
       "0.21132795024699774"
      ]
     },
     "execution_count": 48,
     "metadata": {},
     "output_type": "execute_result"
    }
   ],
   "source": [
    "# Get the std error\n",
    "np.std(np.array(ddgs[forward])*KT_KCALMOL)"
   ]
  },
  {
   "cell_type": "code",
   "execution_count": 49,
   "metadata": {},
   "outputs": [],
   "source": [
    "apo_dg = np.mean([d['apo'][0] for d in dgs_phase[forward]])\n",
    "apo_ci = np.percentile([d['apo'][0] for d in dgs_phase[forward]], 2.5), np.percentile([d['apo'][0] for d in dgs_phase[forward]], 97.5)\n",
    "output_kcalmol_apo = [round(apo_dg*KT_KCALMOL, 2), tuple([round(val, 2)for val in np.array(apo_ci)*KT_KCALMOL])]\n",
    "\n",
    "complex_dg = np.mean([d['complex'][0] for d in dgs_phase[forward]])\n",
    "complex_ci = np.percentile([d['complex'][0] for d in dgs_phase[forward]], 2.5), np.percentile([d['complex'][0] for d in dgs_phase[forward]], 97.5)\n",
    "output_kcalmol_complex = [round(complex_dg*KT_KCALMOL, 2), tuple([round(val, 2)for val in np.array(complex_ci)*KT_KCALMOL])]\n"
   ]
  },
  {
   "cell_type": "code",
   "execution_count": 50,
   "metadata": {},
   "outputs": [
    {
     "data": {
      "text/plain": [
       "[-14.07, (-14.35, -13.78)]"
      ]
     },
     "execution_count": 50,
     "metadata": {},
     "output_type": "execute_result"
    }
   ],
   "source": [
    "output_kcalmol_apo"
   ]
  },
  {
   "cell_type": "code",
   "execution_count": 51,
   "metadata": {},
   "outputs": [
    {
     "data": {
      "text/plain": [
       "[-13.15, (-13.48, -12.87)]"
      ]
     },
     "execution_count": 51,
     "metadata": {},
     "output_type": "execute_result"
    }
   ],
   "source": [
    "output_kcalmol_complex"
   ]
  },
  {
   "cell_type": "code",
   "execution_count": 52,
   "metadata": {},
   "outputs": [
    {
     "data": {
      "text/plain": [
       "<matplotlib.legend.Legend at 0x2b081b2c4040>"
      ]
     },
     "execution_count": 52,
     "metadata": {},
     "output_type": "execute_result"
    },
    {
     "data": {
      "image/png": "[encoded data removed]",
      "text/plain": [
       "<Figure size 432x288 with 1 Axes>"
      ]
     },
     "metadata": {
      "needs_background": "light"
     },
     "output_type": "display_data"
    }
   ],
   "source": [
    "# Plot ddgs\n",
    "sns.distplot(np.array([dgs_phase[forward][i]['apo'][0]*KT_KCALMOL for i in range(100)]), rug=True, label=titles[0])\n",
    "plt.xlabel(\"apo binding dg (kcal/mol)\")\n",
    "plt.legend()"
   ]
  },
  {
   "cell_type": "code",
   "execution_count": 53,
   "metadata": {
    "scrolled": false
   },
   "outputs": [
    {
     "data": {
      "text/plain": [
       "<matplotlib.legend.Legend at 0x2b081b2c4a30>"
      ]
     },
     "execution_count": 53,
     "metadata": {},
     "output_type": "execute_result"
    },
    {
     "data": {
      "image/png": "[encoded data removed]",
      "text/plain": [
       "<Figure size 432x288 with 1 Axes>"
      ]
     },
     "metadata": {
      "needs_background": "light"
     },
     "output_type": "display_data"
    }
   ],
   "source": [
    "# Plot ddgs\n",
    "sns.distplot(np.array([dgs_phase[forward][i]['complex'][0]*KT_KCALMOL for i in range(100)]), rug=True, label=titles[0])\n",
    "plt.xlabel(\"complex binding dg (kcal/mol)\")\n",
    "plt.legend()"
   ]
  },
  {
   "cell_type": "markdown",
   "metadata": {},
   "source": [
    "## 15/166"
   ]
  },
  {
   "cell_type": "code",
   "execution_count": 4,
   "metadata": {
    "scrolled": false
   },
   "outputs": [
    {
     "data": {
      "application/vnd.jupyter.widget-view+json": {
       "model_id": "b17a197e2ba248f7a74bbc3f8c847eae",
       "version_major": 2,
       "version_minor": 0
      },
      "text/plain": [
       "  0%|          | 0/1 [00:00<?, ?it/s]"
      ]
     },
     "metadata": {},
     "output_type": "display_data"
    },
    {
     "name": "stdout",
     "output_type": "stream",
     "text": [
      "dir: 166\n",
      "100\n",
      "about to save: complex forward\n",
      "100\n",
      "about to save: complex reverse\n",
      "100\n",
      "about to save: apo forward\n",
      "100\n",
      "about to save: apo reverse\n",
      "plotting work trajs\n",
      "saved to: /data/chodera/zhangi/perses_benchmark/neq/15/166/166_complex_work_traj.png\n",
      "plotting work distrib\n",
      "saved to: /data/chodera/zhangi/perses_benchmark/neq/15/166/166_complex_work_dist.png\n",
      "plotting work trajs\n",
      "saved to: /data/chodera/zhangi/perses_benchmark/neq/15/166/166_apo_work_traj.png\n",
      "plotting work distrib\n",
      "saved to: /data/chodera/zhangi/perses_benchmark/neq/15/166/166_apo_work_dist.png\n"
     ]
    },
    {
     "data": {
      "text/plain": [
       "<Figure size 432x288 with 0 Axes>"
      ]
     },
     "metadata": {},
     "output_type": "display_data"
    }
   ],
   "source": [
    "# Load data into dicts and plot \n",
    "titles = [\"N501A\"]\n",
    "phases = ['complex', 'apo']\n",
    "directions = ['forward', 'reverse']\n",
    "d_input = {}\n",
    "dir_num = 15\n",
    "forward = 166\n",
    "for i in tqdm_notebook([forward]):\n",
    "    print(f\"dir: {i}\")\n",
    "    d_works = {\"complex\": {}, \"apo\":{}}\n",
    "    d_combined_works = {\"complex\": {}, \"apo\":{}}\n",
    "    for phase in phases:\n",
    "        for direction in directions:\n",
    "            all_arrays = []\n",
    "            for j in range(100):\n",
    "                path = f\"/data/chodera/zhangi/perses_benchmark/neq/{dir_num}/{i}/{i}_{phase}_{j}_{direction}.npy\"\n",
    "                try:\n",
    "                    if os.path.exists(path):\n",
    "                        with open(path, 'rb') as f:\n",
    "                            array = np.load(f)\n",
    "                            if not np.isnan(np.sum(array)):\n",
    "                                all_arrays.append(array)\n",
    "                except:\n",
    "                    continue\n",
    "            print(len(all_arrays))\n",
    "            if all_arrays:\n",
    "                combined = np.concatenate(all_arrays)\n",
    "                accumulated = np.array([cycle[-1] - cycle[0] for cycle in combined])\n",
    "#                 combined = np.array([cycle[0::100] for cycle in combined])\n",
    "                print(f\"about to save: {phase} {direction}\")\n",
    "                d_combined_works[phase][direction] = combined\n",
    "                d_works[phase][direction] = accumulated\n",
    "\n",
    "    d_input[i] = d_works\n",
    "    \n",
    "    # Plot\n",
    "    complex_dg, complex_ddg = analyze(d_works['complex']['forward'], d_works['complex']['reverse'])\n",
    "    apo_dg, apo_ddg = analyze(d_works['apo']['forward'], d_works['apo']['reverse'])\n",
    "    plot(d_combined_works['complex']['forward'], d_combined_works['complex']['reverse'], complex_dg, complex_ddg, i, 'complex', os.path.dirname(path), titles[i-forward])\n",
    "    plot(d_combined_works['apo']['forward'], d_combined_works['apo']['reverse'], apo_dg, apo_ddg, i, 'apo', os.path.dirname(path), titles[i-forward])\n",
    "        "
   ]
  },
  {
   "cell_type": "code",
   "execution_count": 5,
   "metadata": {},
   "outputs": [
    {
     "data": {
      "text/plain": [
       "-0.13751740418092595"
      ]
     },
     "execution_count": 5,
     "metadata": {},
     "output_type": "execute_result"
    }
   ],
   "source": [
    "complex_dg - apo_dg"
   ]
  },
  {
   "cell_type": "code",
   "execution_count": 55,
   "metadata": {
    "scrolled": true
   },
   "outputs": [
    {
     "data": {
      "text/plain": [
       "(array([ 2.,  3.,  8., 20., 23., 18.,  6.,  6., 11.,  3.]),\n",
       " array([104.1697933 , 107.24067105, 110.31154879, 113.38242654,\n",
       "        116.45330428, 119.52418203, 122.59505977, 125.66593751,\n",
       "        128.73681526, 131.807693  , 134.87857075]),\n",
       " <BarContainer object of 10 artists>)"
      ]
     },
     "execution_count": 55,
     "metadata": {},
     "output_type": "execute_result"
    },
    {
     "data": {
      "image/png": "[encoded data removed]",
      "text/plain": [
       "<Figure size 432x288 with 1 Axes>"
      ]
     },
     "metadata": {
      "needs_background": "light"
     },
     "output_type": "display_data"
    }
   ],
   "source": [
    "plt.hist(d_works['complex']['forward'])\n",
    "plt.hist(d_works['complex']['reverse']*-1)"
   ]
  },
  {
   "cell_type": "code",
   "execution_count": 56,
   "metadata": {},
   "outputs": [
    {
     "data": {
      "application/vnd.jupyter.widget-view+json": {
       "model_id": "69384adac7e04e928e973312970423bc",
       "version_major": 2,
       "version_minor": 0
      },
      "text/plain": [
       "  0%|          | 0/10000 [00:00<?, ?it/s]"
      ]
     },
     "metadata": {},
     "output_type": "display_data"
    }
   ],
   "source": [
    "# Bootstrap works\n",
    "N_bootstraps = 10000\n",
    "phases = ['complex', 'apo']\n",
    "directions = ['forward', 'reverse']\n",
    "dgs_phase = {}\n",
    "ddgs = {}\n",
    "for i in [forward]:\n",
    "    dgs_phase_all = []\n",
    "    ddgs_all = []\n",
    "    for _ in tqdm_notebook(range(N_bootstraps)):\n",
    "        # Initialize data structure for works\n",
    "        d_works = {\"complex\": {\"forward\":{}, \"reverse\":{}}, \"apo\":{\"forward\":{}, \"reverse\":{}}}\n",
    "\n",
    "        # Save subsampled works\n",
    "        for phase in phases:\n",
    "            for direction in directions:\n",
    "                work_array = np.array(d_input[i][phase][direction])\n",
    "                num_samples = work_array.shape[0]\n",
    "                subsample_indices = np.random.choice(range(num_samples), num_samples)\n",
    "                d_works[phase][direction] = work_array[subsample_indices]\n",
    "        d_dgs_phase, binding_dg = analyze_bootstrap(d_works)\n",
    "        dgs_phase_all.append(d_dgs_phase)\n",
    "        ddgs_all.append(binding_dg)\n",
    "    dgs_phase[i] = dgs_phase_all\n",
    "    ddgs[i] = ddgs_all\n",
    "    \n",
    "    \n"
   ]
  },
  {
   "cell_type": "code",
   "execution_count": 57,
   "metadata": {},
   "outputs": [],
   "source": [
    "forward_ddg = np.mean(ddgs[forward])\n",
    "forward_ci = np.percentile(ddgs[forward], 2.5), np.percentile(ddgs[forward], 97.5)\n",
    "# reverse_ddg = np.mean(ddgs[reverse])\n",
    "# reverse_ci = np.percentile(ddgs[reverse], 2.5), np.percentile(ddgs[reverse], 97.5)\n",
    "# negative_reverse_ci = sorted(np.array(reverse_ci)*-1)\n",
    "# discrepancy = tuple(np.array(forward_ci) - np.array(negative_reverse_ci))\n",
    "# output_kt = [forward_ddg, forward_ci, reverse_ddg, reverse_ci, discrepancy]\n",
    "# output_kcalmol = [round(forward_ddg*KT_KCALMOL, 2), tuple([round(val, 2)for val in np.array(forward_ci)*KT_KCALMOL]), round(reverse_ddg*KT_KCALMOL, 2), tuple([round(val, 2) for val in np.array(reverse_ci)*KT_KCALMOL]), tuple([round(val, 2) for val in np.array(discrepancy)*KT_KCALMOL])]\n",
    "\n",
    "output_kcalmol = [round(forward_ddg*KT_KCALMOL, 2), tuple([round(val, 2)for val in np.array(forward_ci)*KT_KCALMOL])]\n",
    "\n"
   ]
  },
  {
   "cell_type": "code",
   "execution_count": 58,
   "metadata": {},
   "outputs": [
    {
     "data": {
      "text/plain": [
       "[-0.1, (-0.66, 0.39)]"
      ]
     },
     "execution_count": 58,
     "metadata": {},
     "output_type": "execute_result"
    }
   ],
   "source": [
    "output_kcalmol"
   ]
  },
  {
   "cell_type": "code",
   "execution_count": 59,
   "metadata": {},
   "outputs": [],
   "source": [
    "# pd.DataFrame([output_kcalmol]).to_csv(f\"/data/chodera/zhangi/perses_benchmark/neq/{dir_num}/{forward}/analysis_{titles[0]}_{titles[1]}.csv\")"
   ]
  },
  {
   "cell_type": "code",
   "execution_count": 60,
   "metadata": {},
   "outputs": [],
   "source": [
    "with open(f\"/data/chodera/zhangi/perses_benchmark/neq/{dir_num}/{forward}/dgs_phase.pickle\", \"wb\") as f:\n",
    "    pickle.dump(dgs_phase, f)\n",
    "with open(f\"/data/chodera/zhangi/perses_benchmark/neq/{dir_num}/{forward}/ddgs.pickle\", \"wb\") as f:\n",
    "    pickle.dump(ddgs, f)"
   ]
  },
  {
   "cell_type": "code",
   "execution_count": 61,
   "metadata": {},
   "outputs": [],
   "source": [
    "with open(f\"/data/chodera/zhangi/perses_benchmark/neq/{dir_num}/{forward}/dgs_phase.pickle\", \"rb\") as f:\n",
    "    dgs_phase = pickle.load(f)\n",
    "with open(f\"/data/chodera/zhangi/perses_benchmark/neq/{dir_num}/{forward}/ddgs.pickle\", \"rb\") as f:\n",
    "    ddgs = pickle.load(f)"
   ]
  },
  {
   "cell_type": "code",
   "execution_count": 62,
   "metadata": {
    "scrolled": true
   },
   "outputs": [
    {
     "data": {
      "text/plain": [
       "<matplotlib.legend.Legend at 0x2b081a647970>"
      ]
     },
     "execution_count": 62,
     "metadata": {},
     "output_type": "execute_result"
    },
    {
     "data": {
      "image/png": "[encoded data removed]",
      "text/plain": [
       "<Figure size 432x288 with 1 Axes>"
      ]
     },
     "metadata": {
      "needs_background": "light"
     },
     "output_type": "display_data"
    }
   ],
   "source": [
    "# Plot ddgs\n",
    "sns.distplot(np.array(ddgs[forward])*KT_KCALMOL, rug=True, label=titles[0])\n",
    "# sns.distplot(np.array(ddgs[reverse])*-KT_KCALMOL, rug=True, label=f\"-({titles[1]})\")\n",
    "plt.xlabel(\"binding ddg (kcal/mol)\")\n",
    "plt.legend()"
   ]
  },
  {
   "cell_type": "code",
   "execution_count": 63,
   "metadata": {},
   "outputs": [
    {
     "data": {
      "text/plain": [
       "0.2685573568299002"
      ]
     },
     "execution_count": 63,
     "metadata": {},
     "output_type": "execute_result"
    }
   ],
   "source": [
    "# Get the std error\n",
    "np.std(np.array(ddgs[forward])*KT_KCALMOL)"
   ]
  },
  {
   "cell_type": "code",
   "execution_count": 64,
   "metadata": {},
   "outputs": [],
   "source": [
    "apo_dg = np.mean([d['apo'][0] for d in dgs_phase[forward]])\n",
    "apo_ci = np.percentile([d['apo'][0] for d in dgs_phase[forward]], 2.5), np.percentile([d['apo'][0] for d in dgs_phase[forward]], 97.5)\n",
    "output_kcalmol_apo = [round(apo_dg*KT_KCALMOL, 2), tuple([round(val, 2)for val in np.array(apo_ci)*KT_KCALMOL])]\n",
    "\n",
    "complex_dg = np.mean([d['complex'][0] for d in dgs_phase[forward]])\n",
    "complex_ci = np.percentile([d['complex'][0] for d in dgs_phase[forward]], 2.5), np.percentile([d['complex'][0] for d in dgs_phase[forward]], 97.5)\n",
    "output_kcalmol_complex = [round(complex_dg*KT_KCALMOL, 2), tuple([round(val, 2)for val in np.array(complex_ci)*KT_KCALMOL])]\n"
   ]
  },
  {
   "cell_type": "code",
   "execution_count": 65,
   "metadata": {},
   "outputs": [
    {
     "data": {
      "text/plain": [
       "[77.35, (77.18, 77.52)]"
      ]
     },
     "execution_count": 65,
     "metadata": {},
     "output_type": "execute_result"
    }
   ],
   "source": [
    "output_kcalmol_apo"
   ]
  },
  {
   "cell_type": "code",
   "execution_count": 66,
   "metadata": {},
   "outputs": [
    {
     "data": {
      "text/plain": [
       "[77.25, (76.71, 77.71)]"
      ]
     },
     "execution_count": 66,
     "metadata": {},
     "output_type": "execute_result"
    }
   ],
   "source": [
    "output_kcalmol_complex"
   ]
  },
  {
   "cell_type": "code",
   "execution_count": 67,
   "metadata": {},
   "outputs": [
    {
     "data": {
      "text/plain": [
       "<matplotlib.legend.Legend at 0x2b081b499340>"
      ]
     },
     "execution_count": 67,
     "metadata": {},
     "output_type": "execute_result"
    },
    {
     "data": {
      "image/png": "[encoded data removed]",
      "text/plain": [
       "<Figure size 432x288 with 1 Axes>"
      ]
     },
     "metadata": {
      "needs_background": "light"
     },
     "output_type": "display_data"
    }
   ],
   "source": [
    "# Plot ddgs\n",
    "sns.distplot(np.array([dgs_phase[forward][i]['apo'][0]*KT_KCALMOL for i in range(100)]), rug=True, label=titles[0])\n",
    "plt.xlabel(\"apo binding dg (kcal/mol)\")\n",
    "plt.legend()"
   ]
  },
  {
   "cell_type": "code",
   "execution_count": 68,
   "metadata": {
    "scrolled": true
   },
   "outputs": [
    {
     "data": {
      "text/plain": [
       "<matplotlib.legend.Legend at 0x2b081b4c1bb0>"
      ]
     },
     "execution_count": 68,
     "metadata": {},
     "output_type": "execute_result"
    },
    {
     "data": {
      "image/png": "[encoded data removed]",
      "text/plain": [
       "<Figure size 432x288 with 1 Axes>"
      ]
     },
     "metadata": {
      "needs_background": "light"
     },
     "output_type": "display_data"
    }
   ],
   "source": [
    "# Plot ddgs\n",
    "sns.distplot(np.array([dgs_phase[forward][i]['complex'][0]*KT_KCALMOL for i in range(100)]), rug=True, label=titles[0])\n",
    "plt.xlabel(\"complex binding dg (kcal/mol)\")\n",
    "plt.legend()"
   ]
  },
  {
   "cell_type": "code",
   "execution_count": null,
   "metadata": {},
   "outputs": [],
   "source": []
  },
  {
   "cell_type": "markdown",
   "metadata": {},
   "source": [
    "## 15/167"
   ]
  },
  {
   "cell_type": "code",
   "execution_count": 69,
   "metadata": {
    "scrolled": false
   },
   "outputs": [
    {
     "data": {
      "application/vnd.jupyter.widget-view+json": {
       "model_id": "7d7a70db55d945ac8136ec357b927523",
       "version_major": 2,
       "version_minor": 0
      },
      "text/plain": [
       "  0%|          | 0/1 [00:00<?, ?it/s]"
      ]
     },
     "metadata": {},
     "output_type": "display_data"
    },
    {
     "name": "stdout",
     "output_type": "stream",
     "text": [
      "dir: 167\n",
      "89\n",
      "about to save: complex forward\n",
      "89\n",
      "about to save: complex reverse\n",
      "100\n",
      "about to save: apo forward\n",
      "100\n",
      "about to save: apo reverse\n",
      "plotting work trajs\n",
      "saved to: /data/chodera/zhangi/perses_benchmark/neq/15/167/167_complex_work_traj.png\n",
      "plotting work distrib\n",
      "saved to: /data/chodera/zhangi/perses_benchmark/neq/15/167/167_complex_work_dist.png\n",
      "plotting work trajs\n",
      "saved to: /data/chodera/zhangi/perses_benchmark/neq/15/167/167_apo_work_traj.png\n",
      "plotting work distrib\n",
      "saved to: /data/chodera/zhangi/perses_benchmark/neq/15/167/167_apo_work_dist.png\n"
     ]
    },
    {
     "data": {
      "text/plain": [
       "<Figure size 432x288 with 0 Axes>"
      ]
     },
     "metadata": {},
     "output_type": "display_data"
    }
   ],
   "source": [
    "# Load data into dicts and plot \n",
    "titles = [\"N501V\"]\n",
    "phases = ['complex', 'apo']\n",
    "directions = ['forward', 'reverse']\n",
    "d_input = {}\n",
    "dir_num = 15\n",
    "forward = 167\n",
    "for i in tqdm_notebook([forward]):\n",
    "    print(f\"dir: {i}\")\n",
    "    d_works = {\"complex\": {}, \"apo\":{}}\n",
    "    d_combined_works = {\"complex\": {}, \"apo\":{}}\n",
    "    for phase in phases:\n",
    "        for direction in directions:\n",
    "            all_arrays = []\n",
    "            for j in range(100):\n",
    "                path = f\"/data/chodera/zhangi/perses_benchmark/neq/{dir_num}/{i}/{i}_{phase}_{j}_{direction}.npy\"\n",
    "                try:\n",
    "                    if os.path.exists(path):\n",
    "                        with open(path, 'rb') as f:\n",
    "                            array = np.load(f)\n",
    "                            if not np.isnan(np.sum(array)):\n",
    "                                all_arrays.append(array)\n",
    "                except:\n",
    "                    continue\n",
    "            print(len(all_arrays))\n",
    "            if all_arrays:\n",
    "                combined = np.concatenate(all_arrays)\n",
    "                accumulated = np.array([cycle[-1] - cycle[0] for cycle in combined])\n",
    "#                 combined = np.array([cycle[0::100] for cycle in combined])\n",
    "                print(f\"about to save: {phase} {direction}\")\n",
    "                d_combined_works[phase][direction] = combined\n",
    "                d_works[phase][direction] = accumulated\n",
    "\n",
    "    d_input[i] = d_works\n",
    "    \n",
    "    # Plot\n",
    "    complex_dg, complex_ddg = analyze(d_works['complex']['forward'], d_works['complex']['reverse'])\n",
    "    apo_dg, apo_ddg = analyze(d_works['apo']['forward'], d_works['apo']['reverse'])\n",
    "    plot(d_combined_works['complex']['forward'], d_combined_works['complex']['reverse'], complex_dg, complex_ddg, i, 'complex', os.path.dirname(path), titles[i-forward])\n",
    "    plot(d_combined_works['apo']['forward'], d_combined_works['apo']['reverse'], apo_dg, apo_ddg, i, 'apo', os.path.dirname(path), titles[i-forward])\n",
    "        "
   ]
  },
  {
   "cell_type": "code",
   "execution_count": 70,
   "metadata": {
    "scrolled": true
   },
   "outputs": [
    {
     "data": {
      "text/plain": [
       "(array([ 5.,  1.,  6., 19.,  8., 19., 17.,  3.,  7.,  4.]),\n",
       " array([ 92.74242048,  94.67258668,  96.60275288,  98.53291907,\n",
       "        100.46308527, 102.39325147, 104.32341766, 106.25358386,\n",
       "        108.18375006, 110.11391625, 112.04408245]),\n",
       " <BarContainer object of 10 artists>)"
      ]
     },
     "execution_count": 70,
     "metadata": {},
     "output_type": "execute_result"
    },
    {
     "data": {
      "image/png": "[encoded data removed]",
      "text/plain": [
       "<Figure size 432x288 with 1 Axes>"
      ]
     },
     "metadata": {
      "needs_background": "light"
     },
     "output_type": "display_data"
    }
   ],
   "source": [
    "plt.hist(d_works['complex']['forward'])\n",
    "plt.hist(d_works['complex']['reverse']*-1)"
   ]
  },
  {
   "cell_type": "code",
   "execution_count": 71,
   "metadata": {},
   "outputs": [
    {
     "data": {
      "application/vnd.jupyter.widget-view+json": {
       "model_id": "a97288e084504c6bb04b82ccc7431c95",
       "version_major": 2,
       "version_minor": 0
      },
      "text/plain": [
       "  0%|          | 0/10000 [00:00<?, ?it/s]"
      ]
     },
     "metadata": {},
     "output_type": "display_data"
    }
   ],
   "source": [
    "# Bootstrap works\n",
    "N_bootstraps = 10000\n",
    "phases = ['complex', 'apo']\n",
    "directions = ['forward', 'reverse']\n",
    "dgs_phase = {}\n",
    "ddgs = {}\n",
    "for i in [forward]:\n",
    "    dgs_phase_all = []\n",
    "    ddgs_all = []\n",
    "    for _ in tqdm_notebook(range(N_bootstraps)):\n",
    "        # Initialize data structure for works\n",
    "        d_works = {\"complex\": {\"forward\":{}, \"reverse\":{}}, \"apo\":{\"forward\":{}, \"reverse\":{}}}\n",
    "\n",
    "        # Save subsampled works\n",
    "        for phase in phases:\n",
    "            for direction in directions:\n",
    "                work_array = np.array(d_input[i][phase][direction])\n",
    "                num_samples = work_array.shape[0]\n",
    "                subsample_indices = np.random.choice(range(num_samples), num_samples)\n",
    "                d_works[phase][direction] = work_array[subsample_indices]\n",
    "        d_dgs_phase, binding_dg = analyze_bootstrap(d_works)\n",
    "        dgs_phase_all.append(d_dgs_phase)\n",
    "        ddgs_all.append(binding_dg)\n",
    "    dgs_phase[i] = dgs_phase_all\n",
    "    ddgs[i] = ddgs_all\n",
    "    \n",
    "    \n"
   ]
  },
  {
   "cell_type": "code",
   "execution_count": 72,
   "metadata": {},
   "outputs": [],
   "source": [
    "forward_ddg = np.mean(ddgs[forward])\n",
    "forward_ci = np.percentile(ddgs[forward], 2.5), np.percentile(ddgs[forward], 97.5)\n",
    "# reverse_ddg = np.mean(ddgs[reverse])\n",
    "# reverse_ci = np.percentile(ddgs[reverse], 2.5), np.percentile(ddgs[reverse], 97.5)\n",
    "# negative_reverse_ci = sorted(np.array(reverse_ci)*-1)\n",
    "# discrepancy = tuple(np.array(forward_ci) - np.array(negative_reverse_ci))\n",
    "# output_kt = [forward_ddg, forward_ci, reverse_ddg, reverse_ci, discrepancy]\n",
    "# output_kcalmol = [round(forward_ddg*KT_KCALMOL, 2), tuple([round(val, 2)for val in np.array(forward_ci)*KT_KCALMOL]), round(reverse_ddg*KT_KCALMOL, 2), tuple([round(val, 2) for val in np.array(reverse_ci)*KT_KCALMOL]), tuple([round(val, 2) for val in np.array(discrepancy)*KT_KCALMOL])]\n",
    "\n",
    "output_kcalmol = [round(forward_ddg*KT_KCALMOL, 2), tuple([round(val, 2)for val in np.array(forward_ci)*KT_KCALMOL])]\n",
    "\n"
   ]
  },
  {
   "cell_type": "code",
   "execution_count": 73,
   "metadata": {},
   "outputs": [
    {
     "data": {
      "text/plain": [
       "[0.38, (-0.1, 0.86)]"
      ]
     },
     "execution_count": 73,
     "metadata": {},
     "output_type": "execute_result"
    }
   ],
   "source": [
    "output_kcalmol"
   ]
  },
  {
   "cell_type": "code",
   "execution_count": 74,
   "metadata": {},
   "outputs": [],
   "source": [
    "# pd.DataFrame([output_kcalmol]).to_csv(f\"/data/chodera/zhangi/perses_benchmark/neq/{dir_num}/{forward}/analysis_{titles[0]}_{titles[1]}.csv\")"
   ]
  },
  {
   "cell_type": "code",
   "execution_count": 75,
   "metadata": {},
   "outputs": [],
   "source": [
    "with open(f\"/data/chodera/zhangi/perses_benchmark/neq/{dir_num}/{forward}/dgs_phase.pickle\", \"wb\") as f:\n",
    "    pickle.dump(dgs_phase, f)\n",
    "with open(f\"/data/chodera/zhangi/perses_benchmark/neq/{dir_num}/{forward}/ddgs.pickle\", \"wb\") as f:\n",
    "    pickle.dump(ddgs, f)"
   ]
  },
  {
   "cell_type": "code",
   "execution_count": 76,
   "metadata": {},
   "outputs": [],
   "source": [
    "with open(f\"/data/chodera/zhangi/perses_benchmark/neq/{dir_num}/{forward}/dgs_phase.pickle\", \"rb\") as f:\n",
    "    dgs_phase = pickle.load(f)\n",
    "with open(f\"/data/chodera/zhangi/perses_benchmark/neq/{dir_num}/{forward}/ddgs.pickle\", \"rb\") as f:\n",
    "    ddgs = pickle.load(f)"
   ]
  },
  {
   "cell_type": "code",
   "execution_count": 77,
   "metadata": {
    "scrolled": true
   },
   "outputs": [
    {
     "data": {
      "text/plain": [
       "<matplotlib.legend.Legend at 0x2b081b9fc3a0>"
      ]
     },
     "execution_count": 77,
     "metadata": {},
     "output_type": "execute_result"
    },
    {
     "data": {
      "image/png": "[encoded data removed]",
      "text/plain": [
       "<Figure size 432x288 with 1 Axes>"
      ]
     },
     "metadata": {
      "needs_background": "light"
     },
     "output_type": "display_data"
    }
   ],
   "source": [
    "# Plot ddgs\n",
    "sns.distplot(np.array(ddgs[forward])*KT_KCALMOL, rug=True, label=titles[0])\n",
    "# sns.distplot(np.array(ddgs[reverse])*-KT_KCALMOL, rug=True, label=f\"-({titles[1]})\")\n",
    "plt.xlabel(\"binding ddg (kcal/mol)\")\n",
    "plt.legend()"
   ]
  },
  {
   "cell_type": "code",
   "execution_count": 78,
   "metadata": {},
   "outputs": [
    {
     "data": {
      "text/plain": [
       "0.24353062623775587"
      ]
     },
     "execution_count": 78,
     "metadata": {},
     "output_type": "execute_result"
    }
   ],
   "source": [
    "# Get the std error\n",
    "np.std(np.array(ddgs[forward])*KT_KCALMOL)"
   ]
  },
  {
   "cell_type": "code",
   "execution_count": 79,
   "metadata": {},
   "outputs": [],
   "source": [
    "apo_dg = np.mean([d['apo'][0] for d in dgs_phase[forward]])\n",
    "apo_ci = np.percentile([d['apo'][0] for d in dgs_phase[forward]], 2.5), np.percentile([d['apo'][0] for d in dgs_phase[forward]], 97.5)\n",
    "output_kcalmol_apo = [round(apo_dg*KT_KCALMOL, 2), tuple([round(val, 2)for val in np.array(apo_ci)*KT_KCALMOL])]\n",
    "\n",
    "complex_dg = np.mean([d['complex'][0] for d in dgs_phase[forward]])\n",
    "complex_ci = np.percentile([d['complex'][0] for d in dgs_phase[forward]], 2.5), np.percentile([d['complex'][0] for d in dgs_phase[forward]], 97.5)\n",
    "output_kcalmol_complex = [round(complex_dg*KT_KCALMOL, 2), tuple([round(val, 2)for val in np.array(complex_ci)*KT_KCALMOL])]\n"
   ]
  },
  {
   "cell_type": "code",
   "execution_count": 80,
   "metadata": {},
   "outputs": [
    {
     "data": {
      "text/plain": [
       "[63.59, (63.43, 63.75)]"
      ]
     },
     "execution_count": 80,
     "metadata": {},
     "output_type": "execute_result"
    }
   ],
   "source": [
    "output_kcalmol_apo"
   ]
  },
  {
   "cell_type": "code",
   "execution_count": 81,
   "metadata": {},
   "outputs": [
    {
     "data": {
      "text/plain": [
       "[63.97, (63.53, 64.42)]"
      ]
     },
     "execution_count": 81,
     "metadata": {},
     "output_type": "execute_result"
    }
   ],
   "source": [
    "output_kcalmol_complex"
   ]
  },
  {
   "cell_type": "code",
   "execution_count": 82,
   "metadata": {},
   "outputs": [
    {
     "data": {
      "text/plain": [
       "<matplotlib.legend.Legend at 0x2b081bf88a60>"
      ]
     },
     "execution_count": 82,
     "metadata": {},
     "output_type": "execute_result"
    },
    {
     "data": {
      "image/png": "[encoded data removed]",
      "text/plain": [
       "<Figure size 432x288 with 1 Axes>"
      ]
     },
     "metadata": {
      "needs_background": "light"
     },
     "output_type": "display_data"
    }
   ],
   "source": [
    "# Plot ddgs\n",
    "sns.distplot(np.array([dgs_phase[forward][i]['apo'][0]*KT_KCALMOL for i in range(100)]), rug=True, label=titles[0])\n",
    "plt.xlabel(\"apo binding dg (kcal/mol)\")\n",
    "plt.legend()"
   ]
  },
  {
   "cell_type": "code",
   "execution_count": 83,
   "metadata": {
    "scrolled": false
   },
   "outputs": [
    {
     "data": {
      "text/plain": [
       "<matplotlib.legend.Legend at 0x2b081bf88f70>"
      ]
     },
     "execution_count": 83,
     "metadata": {},
     "output_type": "execute_result"
    },
    {
     "data": {
      "image/png": "[encoded data removed]",
      "text/plain": [
       "<Figure size 432x288 with 1 Axes>"
      ]
     },
     "metadata": {
      "needs_background": "light"
     },
     "output_type": "display_data"
    }
   ],
   "source": [
    "# Plot ddgs\n",
    "sns.distplot(np.array([dgs_phase[forward][i]['complex'][0]*KT_KCALMOL for i in range(100)]), rug=True, label=titles[0])\n",
    "plt.xlabel(\"complex binding dg (kcal/mol)\")\n",
    "plt.legend()"
   ]
  },
  {
   "cell_type": "code",
   "execution_count": null,
   "metadata": {},
   "outputs": [],
   "source": []
  },
  {
   "cell_type": "markdown",
   "metadata": {},
   "source": [
    "## 15/168"
   ]
  },
  {
   "cell_type": "code",
   "execution_count": 84,
   "metadata": {
    "scrolled": false
   },
   "outputs": [
    {
     "data": {
      "application/vnd.jupyter.widget-view+json": {
       "model_id": "4ce141247afe49018535d21c55ae5d0d",
       "version_major": 2,
       "version_minor": 0
      },
      "text/plain": [
       "  0%|          | 0/1 [00:00<?, ?it/s]"
      ]
     },
     "metadata": {},
     "output_type": "display_data"
    },
    {
     "name": "stdout",
     "output_type": "stream",
     "text": [
      "dir: 168\n",
      "100\n",
      "about to save: complex forward\n",
      "100\n",
      "about to save: complex reverse\n",
      "100\n",
      "about to save: apo forward\n",
      "100\n",
      "about to save: apo reverse\n",
      "plotting work trajs\n",
      "saved to: /data/chodera/zhangi/perses_benchmark/neq/15/168/168_complex_work_traj.png\n",
      "plotting work distrib\n",
      "saved to: /data/chodera/zhangi/perses_benchmark/neq/15/168/168_complex_work_dist.png\n",
      "plotting work trajs\n",
      "saved to: /data/chodera/zhangi/perses_benchmark/neq/15/168/168_apo_work_traj.png\n",
      "plotting work distrib\n",
      "saved to: /data/chodera/zhangi/perses_benchmark/neq/15/168/168_apo_work_dist.png\n"
     ]
    },
    {
     "data": {
      "text/plain": [
       "<Figure size 432x288 with 0 Axes>"
      ]
     },
     "metadata": {},
     "output_type": "display_data"
    }
   ],
   "source": [
    "# Load data into dicts and plot \n",
    "titles = [\"N501I\"]\n",
    "phases = ['complex', 'apo']\n",
    "directions = ['forward', 'reverse']\n",
    "d_input = {}\n",
    "dir_num = 15\n",
    "forward = 168\n",
    "for i in tqdm_notebook([forward]):\n",
    "    print(f\"dir: {i}\")\n",
    "    d_works = {\"complex\": {}, \"apo\":{}}\n",
    "    d_combined_works = {\"complex\": {}, \"apo\":{}}\n",
    "    for phase in phases:\n",
    "        for direction in directions:\n",
    "            all_arrays = []\n",
    "            for j in range(100):\n",
    "                path = f\"/data/chodera/zhangi/perses_benchmark/neq/{dir_num}/{i}/{i}_{phase}_{j}_{direction}.npy\"\n",
    "                try:\n",
    "                    if os.path.exists(path):\n",
    "                        with open(path, 'rb') as f:\n",
    "                            array = np.load(f)\n",
    "                            if not np.isnan(np.sum(array)):\n",
    "                                all_arrays.append(array)\n",
    "                except:\n",
    "                    continue\n",
    "            print(len(all_arrays))\n",
    "            if all_arrays:\n",
    "                combined = np.concatenate(all_arrays)\n",
    "                accumulated = np.array([cycle[-1] - cycle[0] for cycle in combined])\n",
    "#                 combined = np.array([cycle[0::100] for cycle in combined])\n",
    "                print(f\"about to save: {phase} {direction}\")\n",
    "                d_combined_works[phase][direction] = combined\n",
    "                d_works[phase][direction] = accumulated\n",
    "\n",
    "    d_input[i] = d_works\n",
    "    \n",
    "    # Plot\n",
    "    complex_dg, complex_ddg = analyze(d_works['complex']['forward'], d_works['complex']['reverse'])\n",
    "    apo_dg, apo_ddg = analyze(d_works['apo']['forward'], d_works['apo']['reverse'])\n",
    "    plot(d_combined_works['complex']['forward'], d_combined_works['complex']['reverse'], complex_dg, complex_ddg, i, 'complex', os.path.dirname(path), titles[i-forward])\n",
    "    plot(d_combined_works['apo']['forward'], d_combined_works['apo']['reverse'], apo_dg, apo_ddg, i, 'apo', os.path.dirname(path), titles[i-forward])\n",
    "        "
   ]
  },
  {
   "cell_type": "code",
   "execution_count": 85,
   "metadata": {
    "scrolled": true
   },
   "outputs": [
    {
     "data": {
      "text/plain": [
       "(array([ 7.,  6., 15., 19., 19., 14.,  7.,  7.,  3.,  3.]),\n",
       " array([131.22723311, 132.95094783, 134.67466254, 136.39837725,\n",
       "        138.12209196, 139.84580667, 141.56952138, 143.29323609,\n",
       "        145.0169508 , 146.74066551, 148.46438022]),\n",
       " <BarContainer object of 10 artists>)"
      ]
     },
     "execution_count": 85,
     "metadata": {},
     "output_type": "execute_result"
    },
    {
     "data": {
      "image/png": "[encoded data removed]",
      "text/plain": [
       "<Figure size 432x288 with 1 Axes>"
      ]
     },
     "metadata": {
      "needs_background": "light"
     },
     "output_type": "display_data"
    }
   ],
   "source": [
    "plt.hist(d_works['complex']['forward'])\n",
    "plt.hist(d_works['complex']['reverse']*-1)"
   ]
  },
  {
   "cell_type": "code",
   "execution_count": 86,
   "metadata": {},
   "outputs": [
    {
     "data": {
      "application/vnd.jupyter.widget-view+json": {
       "model_id": "44ea0c06e8464fe8b495348fdd855259",
       "version_major": 2,
       "version_minor": 0
      },
      "text/plain": [
       "  0%|          | 0/10000 [00:00<?, ?it/s]"
      ]
     },
     "metadata": {},
     "output_type": "display_data"
    }
   ],
   "source": [
    "# Bootstrap works\n",
    "N_bootstraps = 10000\n",
    "phases = ['complex', 'apo']\n",
    "directions = ['forward', 'reverse']\n",
    "dgs_phase = {}\n",
    "ddgs = {}\n",
    "for i in [forward]:\n",
    "    dgs_phase_all = []\n",
    "    ddgs_all = []\n",
    "    for _ in tqdm_notebook(range(N_bootstraps)):\n",
    "        # Initialize data structure for works\n",
    "        d_works = {\"complex\": {\"forward\":{}, \"reverse\":{}}, \"apo\":{\"forward\":{}, \"reverse\":{}}}\n",
    "\n",
    "        # Save subsampled works\n",
    "        for phase in phases:\n",
    "            for direction in directions:\n",
    "                work_array = np.array(d_input[i][phase][direction])\n",
    "                num_samples = work_array.shape[0]\n",
    "                subsample_indices = np.random.choice(range(num_samples), num_samples)\n",
    "                d_works[phase][direction] = work_array[subsample_indices]\n",
    "        d_dgs_phase, binding_dg = analyze_bootstrap(d_works)\n",
    "        dgs_phase_all.append(d_dgs_phase)\n",
    "        ddgs_all.append(binding_dg)\n",
    "    dgs_phase[i] = dgs_phase_all\n",
    "    ddgs[i] = ddgs_all\n",
    "    \n",
    "    \n"
   ]
  },
  {
   "cell_type": "code",
   "execution_count": 87,
   "metadata": {},
   "outputs": [],
   "source": [
    "forward_ddg = np.mean(ddgs[forward])\n",
    "forward_ci = np.percentile(ddgs[forward], 2.5), np.percentile(ddgs[forward], 97.5)\n",
    "# reverse_ddg = np.mean(ddgs[reverse])\n",
    "# reverse_ci = np.percentile(ddgs[reverse], 2.5), np.percentile(ddgs[reverse], 97.5)\n",
    "# negative_reverse_ci = sorted(np.array(reverse_ci)*-1)\n",
    "# discrepancy = tuple(np.array(forward_ci) - np.array(negative_reverse_ci))\n",
    "# output_kt = [forward_ddg, forward_ci, reverse_ddg, reverse_ci, discrepancy]\n",
    "# output_kcalmol = [round(forward_ddg*KT_KCALMOL, 2), tuple([round(val, 2)for val in np.array(forward_ci)*KT_KCALMOL]), round(reverse_ddg*KT_KCALMOL, 2), tuple([round(val, 2) for val in np.array(reverse_ci)*KT_KCALMOL]), tuple([round(val, 2) for val in np.array(discrepancy)*KT_KCALMOL])]\n",
    "\n",
    "output_kcalmol = [round(forward_ddg*KT_KCALMOL, 2), tuple([round(val, 2)for val in np.array(forward_ci)*KT_KCALMOL])]\n",
    "\n"
   ]
  },
  {
   "cell_type": "code",
   "execution_count": 88,
   "metadata": {},
   "outputs": [
    {
     "data": {
      "text/plain": [
       "[1.25, (0.68, 1.84)]"
      ]
     },
     "execution_count": 88,
     "metadata": {},
     "output_type": "execute_result"
    }
   ],
   "source": [
    "output_kcalmol"
   ]
  },
  {
   "cell_type": "code",
   "execution_count": 89,
   "metadata": {},
   "outputs": [],
   "source": [
    "# pd.DataFrame([output_kcalmol]).to_csv(f\"/data/chodera/zhangi/perses_benchmark/neq/{dir_num}/{forward}/analysis_{titles[0]}_{titles[1]}.csv\")"
   ]
  },
  {
   "cell_type": "code",
   "execution_count": 90,
   "metadata": {},
   "outputs": [],
   "source": [
    "with open(f\"/data/chodera/zhangi/perses_benchmark/neq/{dir_num}/{forward}/dgs_phase.pickle\", \"wb\") as f:\n",
    "    pickle.dump(dgs_phase, f)\n",
    "with open(f\"/data/chodera/zhangi/perses_benchmark/neq/{dir_num}/{forward}/ddgs.pickle\", \"wb\") as f:\n",
    "    pickle.dump(ddgs, f)"
   ]
  },
  {
   "cell_type": "code",
   "execution_count": 91,
   "metadata": {},
   "outputs": [],
   "source": [
    "with open(f\"/data/chodera/zhangi/perses_benchmark/neq/{dir_num}/{forward}/dgs_phase.pickle\", \"rb\") as f:\n",
    "    dgs_phase = pickle.load(f)\n",
    "with open(f\"/data/chodera/zhangi/perses_benchmark/neq/{dir_num}/{forward}/ddgs.pickle\", \"rb\") as f:\n",
    "    ddgs = pickle.load(f)"
   ]
  },
  {
   "cell_type": "code",
   "execution_count": 92,
   "metadata": {
    "scrolled": true
   },
   "outputs": [
    {
     "data": {
      "text/plain": [
       "<matplotlib.legend.Legend at 0x2b081b856f40>"
      ]
     },
     "execution_count": 92,
     "metadata": {},
     "output_type": "execute_result"
    },
    {
     "data": {
      "image/png": "[encoded data removed]",
      "text/plain": [
       "<Figure size 432x288 with 1 Axes>"
      ]
     },
     "metadata": {
      "needs_background": "light"
     },
     "output_type": "display_data"
    }
   ],
   "source": [
    "# Plot ddgs\n",
    "sns.distplot(np.array(ddgs[forward])*KT_KCALMOL, rug=True, label=titles[0])\n",
    "# sns.distplot(np.array(ddgs[reverse])*-KT_KCALMOL, rug=True, label=f\"-({titles[1]})\")\n",
    "plt.xlabel(\"binding ddg (kcal/mol)\")\n",
    "plt.legend()"
   ]
  },
  {
   "cell_type": "code",
   "execution_count": 93,
   "metadata": {},
   "outputs": [
    {
     "data": {
      "text/plain": [
       "0.29586998638856365"
      ]
     },
     "execution_count": 93,
     "metadata": {},
     "output_type": "execute_result"
    }
   ],
   "source": [
    "# Get the std error\n",
    "np.std(np.array(ddgs[forward])*KT_KCALMOL)"
   ]
  },
  {
   "cell_type": "code",
   "execution_count": 94,
   "metadata": {},
   "outputs": [],
   "source": [
    "apo_dg = np.mean([d['apo'][0] for d in dgs_phase[forward]])\n",
    "apo_ci = np.percentile([d['apo'][0] for d in dgs_phase[forward]], 2.5), np.percentile([d['apo'][0] for d in dgs_phase[forward]], 97.5)\n",
    "output_kcalmol_apo = [round(apo_dg*KT_KCALMOL, 2), tuple([round(val, 2)for val in np.array(apo_ci)*KT_KCALMOL])]\n",
    "\n",
    "complex_dg = np.mean([d['complex'][0] for d in dgs_phase[forward]])\n",
    "complex_ci = np.percentile([d['complex'][0] for d in dgs_phase[forward]], 2.5), np.percentile([d['complex'][0] for d in dgs_phase[forward]], 97.5)\n",
    "output_kcalmol_complex = [round(complex_dg*KT_KCALMOL, 2), tuple([round(val, 2)for val in np.array(complex_ci)*KT_KCALMOL])]\n"
   ]
  },
  {
   "cell_type": "code",
   "execution_count": 95,
   "metadata": {},
   "outputs": [
    {
     "data": {
      "text/plain": [
       "[83.69, (83.47, 83.91)]"
      ]
     },
     "execution_count": 95,
     "metadata": {},
     "output_type": "execute_result"
    }
   ],
   "source": [
    "output_kcalmol_apo"
   ]
  },
  {
   "cell_type": "code",
   "execution_count": 96,
   "metadata": {},
   "outputs": [
    {
     "data": {
      "text/plain": [
       "[84.94, (84.4, 85.48)]"
      ]
     },
     "execution_count": 96,
     "metadata": {},
     "output_type": "execute_result"
    }
   ],
   "source": [
    "output_kcalmol_complex"
   ]
  },
  {
   "cell_type": "code",
   "execution_count": 97,
   "metadata": {},
   "outputs": [
    {
     "data": {
      "text/plain": [
       "<matplotlib.legend.Legend at 0x2b08287a7070>"
      ]
     },
     "execution_count": 97,
     "metadata": {},
     "output_type": "execute_result"
    },
    {
     "data": {
      "image/png": "[encoded data removed]",
      "text/plain": [
       "<Figure size 432x288 with 1 Axes>"
      ]
     },
     "metadata": {
      "needs_background": "light"
     },
     "output_type": "display_data"
    }
   ],
   "source": [
    "# Plot ddgs\n",
    "sns.distplot(np.array([dgs_phase[forward][i]['apo'][0]*KT_KCALMOL for i in range(100)]), rug=True, label=titles[0])\n",
    "plt.xlabel(\"apo binding dg (kcal/mol)\")\n",
    "plt.legend()"
   ]
  },
  {
   "cell_type": "code",
   "execution_count": 98,
   "metadata": {
    "scrolled": false
   },
   "outputs": [
    {
     "data": {
      "text/plain": [
       "<matplotlib.legend.Legend at 0x2b082879f640>"
      ]
     },
     "execution_count": 98,
     "metadata": {},
     "output_type": "execute_result"
    },
    {
     "data": {
      "image/png": "[encoded data removed]",
      "text/plain": [
       "<Figure size 432x288 with 1 Axes>"
      ]
     },
     "metadata": {
      "needs_background": "light"
     },
     "output_type": "display_data"
    }
   ],
   "source": [
    "# Plot ddgs\n",
    "sns.distplot(np.array([dgs_phase[forward][i]['complex'][0]*KT_KCALMOL for i in range(100)]), rug=True, label=titles[0])\n",
    "plt.xlabel(\"complex binding dg (kcal/mol)\")\n",
    "plt.legend()"
   ]
  },
  {
   "cell_type": "markdown",
   "metadata": {},
   "source": [
    "## 15/169"
   ]
  },
  {
   "cell_type": "code",
   "execution_count": 99,
   "metadata": {
    "scrolled": false
   },
   "outputs": [
    {
     "data": {
      "application/vnd.jupyter.widget-view+json": {
       "model_id": "2844988f674c4857995a04b564eb75da",
       "version_major": 2,
       "version_minor": 0
      },
      "text/plain": [
       "  0%|          | 0/1 [00:00<?, ?it/s]"
      ]
     },
     "metadata": {},
     "output_type": "display_data"
    },
    {
     "name": "stdout",
     "output_type": "stream",
     "text": [
      "dir: 169\n",
      "100\n",
      "about to save: complex forward\n",
      "100\n",
      "about to save: complex reverse\n",
      "100\n",
      "about to save: apo forward\n",
      "100\n",
      "about to save: apo reverse\n",
      "plotting work trajs\n",
      "saved to: /data/chodera/zhangi/perses_benchmark/neq/15/169/169_complex_work_traj.png\n",
      "plotting work distrib\n",
      "saved to: /data/chodera/zhangi/perses_benchmark/neq/15/169/169_complex_work_dist.png\n",
      "plotting work trajs\n",
      "saved to: /data/chodera/zhangi/perses_benchmark/neq/15/169/169_apo_work_traj.png\n",
      "plotting work distrib\n",
      "saved to: /data/chodera/zhangi/perses_benchmark/neq/15/169/169_apo_work_dist.png\n"
     ]
    },
    {
     "data": {
      "text/plain": [
       "<Figure size 432x288 with 0 Axes>"
      ]
     },
     "metadata": {},
     "output_type": "display_data"
    }
   ],
   "source": [
    "# Load data into dicts and plot \n",
    "titles = [\"N501L\"]\n",
    "phases = ['complex', 'apo']\n",
    "directions = ['forward', 'reverse']\n",
    "d_input = {}\n",
    "dir_num = 15\n",
    "forward = 169\n",
    "for i in tqdm_notebook([forward]):\n",
    "    print(f\"dir: {i}\")\n",
    "    d_works = {\"complex\": {}, \"apo\":{}}\n",
    "    d_combined_works = {\"complex\": {}, \"apo\":{}}\n",
    "    for phase in phases:\n",
    "        for direction in directions:\n",
    "            all_arrays = []\n",
    "            for j in range(100):\n",
    "                path = f\"/data/chodera/zhangi/perses_benchmark/neq/{dir_num}/{i}/{i}_{phase}_{j}_{direction}.npy\"\n",
    "                try:\n",
    "                    if os.path.exists(path):\n",
    "                        with open(path, 'rb') as f:\n",
    "                            array = np.load(f)\n",
    "                            if not np.isnan(np.sum(array)):\n",
    "                                all_arrays.append(array)\n",
    "                except:\n",
    "                    continue\n",
    "            print(len(all_arrays))\n",
    "            if all_arrays:\n",
    "                combined = np.concatenate(all_arrays)\n",
    "                accumulated = np.array([cycle[-1] - cycle[0] for cycle in combined])\n",
    "#                 combined = np.array([cycle[0::100] for cycle in combined])\n",
    "                print(f\"about to save: {phase} {direction}\")\n",
    "                d_combined_works[phase][direction] = combined\n",
    "                d_works[phase][direction] = accumulated\n",
    "\n",
    "    d_input[i] = d_works\n",
    "    \n",
    "    # Plot\n",
    "    complex_dg, complex_ddg = analyze(d_works['complex']['forward'], d_works['complex']['reverse'])\n",
    "    apo_dg, apo_ddg = analyze(d_works['apo']['forward'], d_works['apo']['reverse'])\n",
    "    plot(d_combined_works['complex']['forward'], d_combined_works['complex']['reverse'], complex_dg, complex_ddg, i, 'complex', os.path.dirname(path), titles[i-forward])\n",
    "    plot(d_combined_works['apo']['forward'], d_combined_works['apo']['reverse'], apo_dg, apo_ddg, i, 'apo', os.path.dirname(path), titles[i-forward])\n",
    "        "
   ]
  },
  {
   "cell_type": "code",
   "execution_count": 100,
   "metadata": {
    "scrolled": true
   },
   "outputs": [
    {
     "data": {
      "text/plain": [
       "(array([ 4., 11., 19., 22., 11., 13.,  6.,  6.,  7.,  1.]),\n",
       " array([ 95.02684482,  96.49041868,  97.95399254,  99.41756641,\n",
       "        100.88114027, 102.34471413, 103.808288  , 105.27186186,\n",
       "        106.73543572, 108.19900958, 109.66258345]),\n",
       " <BarContainer object of 10 artists>)"
      ]
     },
     "execution_count": 100,
     "metadata": {},
     "output_type": "execute_result"
    },
    {
     "data": {
      "image/png": "[encoded data removed]",
      "text/plain": [
       "<Figure size 432x288 with 1 Axes>"
      ]
     },
     "metadata": {
      "needs_background": "light"
     },
     "output_type": "display_data"
    }
   ],
   "source": [
    "plt.hist(d_works['complex']['forward'])\n",
    "plt.hist(d_works['complex']['reverse']*-1)"
   ]
  },
  {
   "cell_type": "code",
   "execution_count": 101,
   "metadata": {},
   "outputs": [
    {
     "data": {
      "application/vnd.jupyter.widget-view+json": {
       "model_id": "29d234590f0842a09288271541ce5df9",
       "version_major": 2,
       "version_minor": 0
      },
      "text/plain": [
       "  0%|          | 0/10000 [00:00<?, ?it/s]"
      ]
     },
     "metadata": {},
     "output_type": "display_data"
    }
   ],
   "source": [
    "# Bootstrap works\n",
    "N_bootstraps = 10000\n",
    "phases = ['complex', 'apo']\n",
    "directions = ['forward', 'reverse']\n",
    "dgs_phase = {}\n",
    "ddgs = {}\n",
    "for i in [forward]:\n",
    "    dgs_phase_all = []\n",
    "    ddgs_all = []\n",
    "    for _ in tqdm_notebook(range(N_bootstraps)):\n",
    "        # Initialize data structure for works\n",
    "        d_works = {\"complex\": {\"forward\":{}, \"reverse\":{}}, \"apo\":{\"forward\":{}, \"reverse\":{}}}\n",
    "\n",
    "        # Save subsampled works\n",
    "        for phase in phases:\n",
    "            for direction in directions:\n",
    "                work_array = np.array(d_input[i][phase][direction])\n",
    "                num_samples = work_array.shape[0]\n",
    "                subsample_indices = np.random.choice(range(num_samples), num_samples)\n",
    "                d_works[phase][direction] = work_array[subsample_indices]\n",
    "        d_dgs_phase, binding_dg = analyze_bootstrap(d_works)\n",
    "        dgs_phase_all.append(d_dgs_phase)\n",
    "        ddgs_all.append(binding_dg)\n",
    "    dgs_phase[i] = dgs_phase_all\n",
    "    ddgs[i] = ddgs_all\n",
    "    \n",
    "    \n"
   ]
  },
  {
   "cell_type": "code",
   "execution_count": 102,
   "metadata": {},
   "outputs": [],
   "source": [
    "forward_ddg = np.mean(ddgs[forward])\n",
    "forward_ci = np.percentile(ddgs[forward], 2.5), np.percentile(ddgs[forward], 97.5)\n",
    "# reverse_ddg = np.mean(ddgs[reverse])\n",
    "# reverse_ci = np.percentile(ddgs[reverse], 2.5), np.percentile(ddgs[reverse], 97.5)\n",
    "# negative_reverse_ci = sorted(np.array(reverse_ci)*-1)\n",
    "# discrepancy = tuple(np.array(forward_ci) - np.array(negative_reverse_ci))\n",
    "# output_kt = [forward_ddg, forward_ci, reverse_ddg, reverse_ci, discrepancy]\n",
    "# output_kcalmol = [round(forward_ddg*KT_KCALMOL, 2), tuple([round(val, 2)for val in np.array(forward_ci)*KT_KCALMOL]), round(reverse_ddg*KT_KCALMOL, 2), tuple([round(val, 2) for val in np.array(reverse_ci)*KT_KCALMOL]), tuple([round(val, 2) for val in np.array(discrepancy)*KT_KCALMOL])]\n",
    "\n",
    "output_kcalmol = [round(forward_ddg*KT_KCALMOL, 2), tuple([round(val, 2)for val in np.array(forward_ci)*KT_KCALMOL])]\n",
    "\n"
   ]
  },
  {
   "cell_type": "code",
   "execution_count": 103,
   "metadata": {},
   "outputs": [
    {
     "data": {
      "text/plain": [
       "[1.28, (0.82, 1.72)]"
      ]
     },
     "execution_count": 103,
     "metadata": {},
     "output_type": "execute_result"
    }
   ],
   "source": [
    "output_kcalmol"
   ]
  },
  {
   "cell_type": "code",
   "execution_count": 104,
   "metadata": {},
   "outputs": [],
   "source": [
    "# pd.DataFrame([output_kcalmol]).to_csv(f\"/data/chodera/zhangi/perses_benchmark/neq/{dir_num}/{forward}/analysis_{titles[0]}_{titles[1]}.csv\")"
   ]
  },
  {
   "cell_type": "code",
   "execution_count": 105,
   "metadata": {},
   "outputs": [],
   "source": [
    "with open(f\"/data/chodera/zhangi/perses_benchmark/neq/{dir_num}/{forward}/dgs_phase.pickle\", \"wb\") as f:\n",
    "    pickle.dump(dgs_phase, f)\n",
    "with open(f\"/data/chodera/zhangi/perses_benchmark/neq/{dir_num}/{forward}/ddgs.pickle\", \"wb\") as f:\n",
    "    pickle.dump(ddgs, f)"
   ]
  },
  {
   "cell_type": "code",
   "execution_count": 106,
   "metadata": {},
   "outputs": [],
   "source": [
    "with open(f\"/data/chodera/zhangi/perses_benchmark/neq/{dir_num}/{forward}/dgs_phase.pickle\", \"rb\") as f:\n",
    "    dgs_phase = pickle.load(f)\n",
    "with open(f\"/data/chodera/zhangi/perses_benchmark/neq/{dir_num}/{forward}/ddgs.pickle\", \"rb\") as f:\n",
    "    ddgs = pickle.load(f)"
   ]
  },
  {
   "cell_type": "code",
   "execution_count": 107,
   "metadata": {
    "scrolled": true
   },
   "outputs": [
    {
     "data": {
      "text/plain": [
       "<matplotlib.legend.Legend at 0x2b0828b50e50>"
      ]
     },
     "execution_count": 107,
     "metadata": {},
     "output_type": "execute_result"
    },
    {
     "data": {
      "image/png": "[encoded data removed]",
      "text/plain": [
       "<Figure size 432x288 with 1 Axes>"
      ]
     },
     "metadata": {
      "needs_background": "light"
     },
     "output_type": "display_data"
    }
   ],
   "source": [
    "# Plot ddgs\n",
    "sns.distplot(np.array(ddgs[forward])*KT_KCALMOL, rug=True, label=titles[0])\n",
    "# sns.distplot(np.array(ddgs[reverse])*-KT_KCALMOL, rug=True, label=f\"-({titles[1]})\")\n",
    "plt.xlabel(\"binding ddg (kcal/mol)\")\n",
    "plt.legend()"
   ]
  },
  {
   "cell_type": "code",
   "execution_count": 108,
   "metadata": {},
   "outputs": [
    {
     "data": {
      "text/plain": [
       "0.23293006330399862"
      ]
     },
     "execution_count": 108,
     "metadata": {},
     "output_type": "execute_result"
    }
   ],
   "source": [
    "# Get the std error\n",
    "np.std(np.array(ddgs[forward])*KT_KCALMOL)"
   ]
  },
  {
   "cell_type": "code",
   "execution_count": 109,
   "metadata": {},
   "outputs": [],
   "source": [
    "apo_dg = np.mean([d['apo'][0] for d in dgs_phase[forward]])\n",
    "apo_ci = np.percentile([d['apo'][0] for d in dgs_phase[forward]], 2.5), np.percentile([d['apo'][0] for d in dgs_phase[forward]], 97.5)\n",
    "output_kcalmol_apo = [round(apo_dg*KT_KCALMOL, 2), tuple([round(val, 2)for val in np.array(apo_ci)*KT_KCALMOL])]\n",
    "\n",
    "complex_dg = np.mean([d['complex'][0] for d in dgs_phase[forward]])\n",
    "complex_ci = np.percentile([d['complex'][0] for d in dgs_phase[forward]], 2.5), np.percentile([d['complex'][0] for d in dgs_phase[forward]], 97.5)\n",
    "output_kcalmol_complex = [round(complex_dg*KT_KCALMOL, 2), tuple([round(val, 2)for val in np.array(complex_ci)*KT_KCALMOL])]\n"
   ]
  },
  {
   "cell_type": "code",
   "execution_count": 110,
   "metadata": {},
   "outputs": [
    {
     "data": {
      "text/plain": [
       "[61.54, (61.4, 61.68)]"
      ]
     },
     "execution_count": 110,
     "metadata": {},
     "output_type": "execute_result"
    }
   ],
   "source": [
    "output_kcalmol_apo"
   ]
  },
  {
   "cell_type": "code",
   "execution_count": 111,
   "metadata": {},
   "outputs": [
    {
     "data": {
      "text/plain": [
       "[62.82, (62.38, 63.25)]"
      ]
     },
     "execution_count": 111,
     "metadata": {},
     "output_type": "execute_result"
    }
   ],
   "source": [
    "output_kcalmol_complex"
   ]
  },
  {
   "cell_type": "code",
   "execution_count": 112,
   "metadata": {},
   "outputs": [
    {
     "data": {
      "text/plain": [
       "<matplotlib.legend.Legend at 0x2b08292b5760>"
      ]
     },
     "execution_count": 112,
     "metadata": {},
     "output_type": "execute_result"
    },
    {
     "data": {
      "image/png": "[encoded data removed]",
      "text/plain": [
       "<Figure size 432x288 with 1 Axes>"
      ]
     },
     "metadata": {
      "needs_background": "light"
     },
     "output_type": "display_data"
    }
   ],
   "source": [
    "# Plot ddgs\n",
    "sns.distplot(np.array([dgs_phase[forward][i]['apo'][0]*KT_KCALMOL for i in range(100)]), rug=True, label=titles[0])\n",
    "plt.xlabel(\"apo binding dg (kcal/mol)\")\n",
    "plt.legend()"
   ]
  },
  {
   "cell_type": "code",
   "execution_count": 113,
   "metadata": {
    "scrolled": true
   },
   "outputs": [
    {
     "data": {
      "text/plain": [
       "<matplotlib.legend.Legend at 0x2b0829300a90>"
      ]
     },
     "execution_count": 113,
     "metadata": {},
     "output_type": "execute_result"
    },
    {
     "data": {
      "image/png": "[encoded data removed]",
      "text/plain": [
       "<Figure size 432x288 with 1 Axes>"
      ]
     },
     "metadata": {
      "needs_background": "light"
     },
     "output_type": "display_data"
    }
   ],
   "source": [
    "# Plot ddgs\n",
    "sns.distplot(np.array([dgs_phase[forward][i]['complex'][0]*KT_KCALMOL for i in range(100)]), rug=True, label=titles[0])\n",
    "plt.xlabel(\"complex binding dg (kcal/mol)\")\n",
    "plt.legend()"
   ]
  },
  {
   "cell_type": "code",
   "execution_count": null,
   "metadata": {},
   "outputs": [],
   "source": []
  },
  {
   "cell_type": "markdown",
   "metadata": {},
   "source": [
    "## 15/170"
   ]
  },
  {
   "cell_type": "code",
   "execution_count": 114,
   "metadata": {
    "scrolled": false
   },
   "outputs": [
    {
     "data": {
      "application/vnd.jupyter.widget-view+json": {
       "model_id": "cce6f0f4e0364ae8bd09d9b9f65800b0",
       "version_major": 2,
       "version_minor": 0
      },
      "text/plain": [
       "  0%|          | 0/1 [00:00<?, ?it/s]"
      ]
     },
     "metadata": {},
     "output_type": "display_data"
    },
    {
     "name": "stdout",
     "output_type": "stream",
     "text": [
      "dir: 170\n",
      "100\n",
      "about to save: complex forward\n",
      "100\n",
      "about to save: complex reverse\n",
      "100\n",
      "about to save: apo forward\n",
      "100\n",
      "about to save: apo reverse\n",
      "plotting work trajs\n",
      "saved to: /data/chodera/zhangi/perses_benchmark/neq/15/170/170_complex_work_traj.png\n",
      "plotting work distrib\n",
      "saved to: /data/chodera/zhangi/perses_benchmark/neq/15/170/170_complex_work_dist.png\n",
      "plotting work trajs\n",
      "saved to: /data/chodera/zhangi/perses_benchmark/neq/15/170/170_apo_work_traj.png\n",
      "plotting work distrib\n",
      "saved to: /data/chodera/zhangi/perses_benchmark/neq/15/170/170_apo_work_dist.png\n"
     ]
    },
    {
     "data": {
      "text/plain": [
       "<Figure size 432x288 with 0 Axes>"
      ]
     },
     "metadata": {},
     "output_type": "display_data"
    }
   ],
   "source": [
    "# Load data into dicts and plot \n",
    "titles = [\"N501M\"]\n",
    "phases = ['complex', 'apo']\n",
    "directions = ['forward', 'reverse']\n",
    "d_input = {}\n",
    "dir_num = 15\n",
    "forward = 170\n",
    "for i in tqdm_notebook([forward]):\n",
    "    print(f\"dir: {i}\")\n",
    "    d_works = {\"complex\": {}, \"apo\":{}}\n",
    "    d_combined_works = {\"complex\": {}, \"apo\":{}}\n",
    "    for phase in phases:\n",
    "        for direction in directions:\n",
    "            all_arrays = []\n",
    "            for j in range(100):\n",
    "                path = f\"/data/chodera/zhangi/perses_benchmark/neq/{dir_num}/{i}/{i}_{phase}_{j}_{direction}.npy\"\n",
    "                try:\n",
    "                    if os.path.exists(path):\n",
    "                        with open(path, 'rb') as f:\n",
    "                            array = np.load(f)\n",
    "                            if not np.isnan(np.sum(array)):\n",
    "                                all_arrays.append(array)\n",
    "                except:\n",
    "                    continue\n",
    "            print(len(all_arrays))\n",
    "            if all_arrays:\n",
    "                combined = np.concatenate(all_arrays)\n",
    "                accumulated = np.array([cycle[-1] - cycle[0] for cycle in combined])\n",
    "#                 combined = np.array([cycle[0::100] for cycle in combined])\n",
    "                print(f\"about to save: {phase} {direction}\")\n",
    "                d_combined_works[phase][direction] = combined\n",
    "                d_works[phase][direction] = accumulated\n",
    "\n",
    "    d_input[i] = d_works\n",
    "    \n",
    "    # Plot\n",
    "    complex_dg, complex_ddg = analyze(d_works['complex']['forward'], d_works['complex']['reverse'])\n",
    "    apo_dg, apo_ddg = analyze(d_works['apo']['forward'], d_works['apo']['reverse'])\n",
    "    plot(d_combined_works['complex']['forward'], d_combined_works['complex']['reverse'], complex_dg, complex_ddg, i, 'complex', os.path.dirname(path), titles[i-forward])\n",
    "    plot(d_combined_works['apo']['forward'], d_combined_works['apo']['reverse'], apo_dg, apo_ddg, i, 'apo', os.path.dirname(path), titles[i-forward])\n",
    "        "
   ]
  },
  {
   "cell_type": "code",
   "execution_count": 115,
   "metadata": {
    "scrolled": true
   },
   "outputs": [
    {
     "data": {
      "text/plain": [
       "(array([ 3.,  2., 10., 25., 20., 28.,  9.,  1.,  1.,  1.]),\n",
       " array([118.85015853, 121.07926473, 123.30837093, 125.53747713,\n",
       "        127.76658334, 129.99568954, 132.22479574, 134.45390194,\n",
       "        136.68300814, 138.91211435, 141.14122055]),\n",
       " <BarContainer object of 10 artists>)"
      ]
     },
     "execution_count": 115,
     "metadata": {},
     "output_type": "execute_result"
    },
    {
     "data": {
      "image/png": "[encoded data removed]",
      "text/plain": [
       "<Figure size 432x288 with 1 Axes>"
      ]
     },
     "metadata": {
      "needs_background": "light"
     },
     "output_type": "display_data"
    }
   ],
   "source": [
    "plt.hist(d_works['complex']['forward'])\n",
    "plt.hist(d_works['complex']['reverse']*-1)"
   ]
  },
  {
   "cell_type": "code",
   "execution_count": 116,
   "metadata": {},
   "outputs": [
    {
     "data": {
      "application/vnd.jupyter.widget-view+json": {
       "model_id": "0f8dbc9efee64e0cb22e017d706a2a9c",
       "version_major": 2,
       "version_minor": 0
      },
      "text/plain": [
       "  0%|          | 0/10000 [00:00<?, ?it/s]"
      ]
     },
     "metadata": {},
     "output_type": "display_data"
    }
   ],
   "source": [
    "# Bootstrap works\n",
    "N_bootstraps = 10000\n",
    "phases = ['complex', 'apo']\n",
    "directions = ['forward', 'reverse']\n",
    "dgs_phase = {}\n",
    "ddgs = {}\n",
    "for i in [forward]:\n",
    "    dgs_phase_all = []\n",
    "    ddgs_all = []\n",
    "    for _ in tqdm_notebook(range(N_bootstraps)):\n",
    "        # Initialize data structure for works\n",
    "        d_works = {\"complex\": {\"forward\":{}, \"reverse\":{}}, \"apo\":{\"forward\":{}, \"reverse\":{}}}\n",
    "\n",
    "        # Save subsampled works\n",
    "        for phase in phases:\n",
    "            for direction in directions:\n",
    "                work_array = np.array(d_input[i][phase][direction])\n",
    "                num_samples = work_array.shape[0]\n",
    "                subsample_indices = np.random.choice(range(num_samples), num_samples)\n",
    "                d_works[phase][direction] = work_array[subsample_indices]\n",
    "        d_dgs_phase, binding_dg = analyze_bootstrap(d_works)\n",
    "        dgs_phase_all.append(d_dgs_phase)\n",
    "        ddgs_all.append(binding_dg)\n",
    "    dgs_phase[i] = dgs_phase_all\n",
    "    ddgs[i] = ddgs_all\n",
    "    \n",
    "    \n"
   ]
  },
  {
   "cell_type": "code",
   "execution_count": 117,
   "metadata": {},
   "outputs": [],
   "source": [
    "forward_ddg = np.mean(ddgs[forward])\n",
    "forward_ci = np.percentile(ddgs[forward], 2.5), np.percentile(ddgs[forward], 97.5)\n",
    "# reverse_ddg = np.mean(ddgs[reverse])\n",
    "# reverse_ci = np.percentile(ddgs[reverse], 2.5), np.percentile(ddgs[reverse], 97.5)\n",
    "# negative_reverse_ci = sorted(np.array(reverse_ci)*-1)\n",
    "# discrepancy = tuple(np.array(forward_ci) - np.array(negative_reverse_ci))\n",
    "# output_kt = [forward_ddg, forward_ci, reverse_ddg, reverse_ci, discrepancy]\n",
    "# output_kcalmol = [round(forward_ddg*KT_KCALMOL, 2), tuple([round(val, 2)for val in np.array(forward_ci)*KT_KCALMOL]), round(reverse_ddg*KT_KCALMOL, 2), tuple([round(val, 2) for val in np.array(reverse_ci)*KT_KCALMOL]), tuple([round(val, 2) for val in np.array(discrepancy)*KT_KCALMOL])]\n",
    "\n",
    "output_kcalmol = [round(forward_ddg*KT_KCALMOL, 2), tuple([round(val, 2)for val in np.array(forward_ci)*KT_KCALMOL])]\n",
    "\n"
   ]
  },
  {
   "cell_type": "code",
   "execution_count": 118,
   "metadata": {},
   "outputs": [
    {
     "data": {
      "text/plain": [
       "[-0.23, (-0.62, 0.17)]"
      ]
     },
     "execution_count": 118,
     "metadata": {},
     "output_type": "execute_result"
    }
   ],
   "source": [
    "output_kcalmol"
   ]
  },
  {
   "cell_type": "code",
   "execution_count": 119,
   "metadata": {},
   "outputs": [],
   "source": [
    "# pd.DataFrame([output_kcalmol]).to_csv(f\"/data/chodera/zhangi/perses_benchmark/neq/{dir_num}/{forward}/analysis_{titles[0]}_{titles[1]}.csv\")"
   ]
  },
  {
   "cell_type": "code",
   "execution_count": 120,
   "metadata": {},
   "outputs": [],
   "source": [
    "with open(f\"/data/chodera/zhangi/perses_benchmark/neq/{dir_num}/{forward}/dgs_phase.pickle\", \"wb\") as f:\n",
    "    pickle.dump(dgs_phase, f)\n",
    "with open(f\"/data/chodera/zhangi/perses_benchmark/neq/{dir_num}/{forward}/ddgs.pickle\", \"wb\") as f:\n",
    "    pickle.dump(ddgs, f)"
   ]
  },
  {
   "cell_type": "code",
   "execution_count": 121,
   "metadata": {},
   "outputs": [],
   "source": [
    "with open(f\"/data/chodera/zhangi/perses_benchmark/neq/{dir_num}/{forward}/dgs_phase.pickle\", \"rb\") as f:\n",
    "    dgs_phase = pickle.load(f)\n",
    "with open(f\"/data/chodera/zhangi/perses_benchmark/neq/{dir_num}/{forward}/ddgs.pickle\", \"rb\") as f:\n",
    "    ddgs = pickle.load(f)"
   ]
  },
  {
   "cell_type": "code",
   "execution_count": 122,
   "metadata": {
    "scrolled": true
   },
   "outputs": [
    {
     "data": {
      "text/plain": [
       "<matplotlib.legend.Legend at 0x2b0828a7c040>"
      ]
     },
     "execution_count": 122,
     "metadata": {},
     "output_type": "execute_result"
    },
    {
     "data": {
      "image/png": "[encoded data removed]",
      "text/plain": [
       "<Figure size 432x288 with 1 Axes>"
      ]
     },
     "metadata": {
      "needs_background": "light"
     },
     "output_type": "display_data"
    }
   ],
   "source": [
    "# Plot ddgs\n",
    "sns.distplot(np.array(ddgs[forward])*KT_KCALMOL, rug=True, label=titles[0])\n",
    "# sns.distplot(np.array(ddgs[reverse])*-KT_KCALMOL, rug=True, label=f\"-({titles[1]})\")\n",
    "plt.xlabel(\"binding ddg (kcal/mol)\")\n",
    "plt.legend()"
   ]
  },
  {
   "cell_type": "code",
   "execution_count": 123,
   "metadata": {},
   "outputs": [
    {
     "data": {
      "text/plain": [
       "0.20131268183410764"
      ]
     },
     "execution_count": 123,
     "metadata": {},
     "output_type": "execute_result"
    }
   ],
   "source": [
    "# Get the std error\n",
    "np.std(np.array(ddgs[forward])*KT_KCALMOL)"
   ]
  },
  {
   "cell_type": "code",
   "execution_count": 124,
   "metadata": {},
   "outputs": [],
   "source": [
    "apo_dg = np.mean([d['apo'][0] for d in dgs_phase[forward]])\n",
    "apo_ci = np.percentile([d['apo'][0] for d in dgs_phase[forward]], 2.5), np.percentile([d['apo'][0] for d in dgs_phase[forward]], 97.5)\n",
    "output_kcalmol_apo = [round(apo_dg*KT_KCALMOL, 2), tuple([round(val, 2)for val in np.array(apo_ci)*KT_KCALMOL])]\n",
    "\n",
    "complex_dg = np.mean([d['complex'][0] for d in dgs_phase[forward]])\n",
    "complex_ci = np.percentile([d['complex'][0] for d in dgs_phase[forward]], 2.5), np.percentile([d['complex'][0] for d in dgs_phase[forward]], 97.5)\n",
    "output_kcalmol_complex = [round(complex_dg*KT_KCALMOL, 2), tuple([round(val, 2)for val in np.array(complex_ci)*KT_KCALMOL])]\n"
   ]
  },
  {
   "cell_type": "code",
   "execution_count": 125,
   "metadata": {},
   "outputs": [
    {
     "data": {
      "text/plain": [
       "[78.23, (78.06, 78.39)]"
      ]
     },
     "execution_count": 125,
     "metadata": {},
     "output_type": "execute_result"
    }
   ],
   "source": [
    "output_kcalmol_apo"
   ]
  },
  {
   "cell_type": "code",
   "execution_count": 126,
   "metadata": {},
   "outputs": [
    {
     "data": {
      "text/plain": [
       "[78.0, (77.65, 78.36)]"
      ]
     },
     "execution_count": 126,
     "metadata": {},
     "output_type": "execute_result"
    }
   ],
   "source": [
    "output_kcalmol_complex"
   ]
  },
  {
   "cell_type": "code",
   "execution_count": 127,
   "metadata": {},
   "outputs": [
    {
     "data": {
      "text/plain": [
       "<matplotlib.legend.Legend at 0x2b0829a56760>"
      ]
     },
     "execution_count": 127,
     "metadata": {},
     "output_type": "execute_result"
    },
    {
     "data": {
      "image/png": "[encoded data removed]",
      "text/plain": [
       "<Figure size 432x288 with 1 Axes>"
      ]
     },
     "metadata": {
      "needs_background": "light"
     },
     "output_type": "display_data"
    }
   ],
   "source": [
    "# Plot ddgs\n",
    "sns.distplot(np.array([dgs_phase[forward][i]['apo'][0]*KT_KCALMOL for i in range(100)]), rug=True, label=titles[0])\n",
    "plt.xlabel(\"apo binding dg (kcal/mol)\")\n",
    "plt.legend()"
   ]
  },
  {
   "cell_type": "code",
   "execution_count": 128,
   "metadata": {
    "scrolled": true
   },
   "outputs": [
    {
     "data": {
      "text/plain": [
       "<matplotlib.legend.Legend at 0x2b0829a56e20>"
      ]
     },
     "execution_count": 128,
     "metadata": {},
     "output_type": "execute_result"
    },
    {
     "data": {
      "image/png": "[encoded data removed]",
      "text/plain": [
       "<Figure size 432x288 with 1 Axes>"
      ]
     },
     "metadata": {
      "needs_background": "light"
     },
     "output_type": "display_data"
    }
   ],
   "source": [
    "# Plot ddgs\n",
    "sns.distplot(np.array([dgs_phase[forward][i]['complex'][0]*KT_KCALMOL for i in range(100)]), rug=True, label=titles[0])\n",
    "plt.xlabel(\"complex binding dg (kcal/mol)\")\n",
    "plt.legend()"
   ]
  },
  {
   "cell_type": "code",
   "execution_count": null,
   "metadata": {},
   "outputs": [],
   "source": []
  },
  {
   "cell_type": "markdown",
   "metadata": {},
   "source": [
    "## 15/171"
   ]
  },
  {
   "cell_type": "code",
   "execution_count": 129,
   "metadata": {
    "scrolled": false
   },
   "outputs": [
    {
     "data": {
      "application/vnd.jupyter.widget-view+json": {
       "model_id": "57742e1ab6ad4116af478bc5f41b192a",
       "version_major": 2,
       "version_minor": 0
      },
      "text/plain": [
       "  0%|          | 0/1 [00:00<?, ?it/s]"
      ]
     },
     "metadata": {},
     "output_type": "display_data"
    },
    {
     "name": "stdout",
     "output_type": "stream",
     "text": [
      "dir: 171\n",
      "100\n",
      "about to save: complex forward\n",
      "100\n",
      "about to save: complex reverse\n",
      "100\n",
      "about to save: apo forward\n",
      "100\n",
      "about to save: apo reverse\n",
      "plotting work trajs\n",
      "saved to: /data/chodera/zhangi/perses_benchmark/neq/15/171/171_complex_work_traj.png\n",
      "plotting work distrib\n",
      "saved to: /data/chodera/zhangi/perses_benchmark/neq/15/171/171_complex_work_dist.png\n",
      "plotting work trajs\n",
      "saved to: /data/chodera/zhangi/perses_benchmark/neq/15/171/171_apo_work_traj.png\n",
      "plotting work distrib\n",
      "saved to: /data/chodera/zhangi/perses_benchmark/neq/15/171/171_apo_work_dist.png\n"
     ]
    },
    {
     "data": {
      "text/plain": [
       "<Figure size 432x288 with 0 Axes>"
      ]
     },
     "metadata": {},
     "output_type": "display_data"
    }
   ],
   "source": [
    "# Load data into dicts and plot \n",
    "titles = [\"N501F\"]\n",
    "phases = ['complex', 'apo']\n",
    "directions = ['forward', 'reverse']\n",
    "d_input = {}\n",
    "dir_num = 15\n",
    "forward = 171\n",
    "for i in tqdm_notebook([forward]):\n",
    "    print(f\"dir: {i}\")\n",
    "    d_works = {\"complex\": {}, \"apo\":{}}\n",
    "    d_combined_works = {\"complex\": {}, \"apo\":{}}\n",
    "    for phase in phases:\n",
    "        for direction in directions:\n",
    "            all_arrays = []\n",
    "            for j in range(100):\n",
    "                path = f\"/data/chodera/zhangi/perses_benchmark/neq/{dir_num}/{i}/{i}_{phase}_{j}_{direction}.npy\"\n",
    "                try:\n",
    "                    if os.path.exists(path):\n",
    "                        with open(path, 'rb') as f:\n",
    "                            array = np.load(f)\n",
    "                            if not np.isnan(np.sum(array)):\n",
    "                                all_arrays.append(array)\n",
    "                except:\n",
    "                    continue\n",
    "            print(len(all_arrays))\n",
    "            if all_arrays:\n",
    "                combined = np.concatenate(all_arrays)\n",
    "                accumulated = np.array([cycle[-1] - cycle[0] for cycle in combined])\n",
    "#                 combined = np.array([cycle[0::100] for cycle in combined])\n",
    "                print(f\"about to save: {phase} {direction}\")\n",
    "                d_combined_works[phase][direction] = combined\n",
    "                d_works[phase][direction] = accumulated\n",
    "\n",
    "    d_input[i] = d_works\n",
    "    \n",
    "    # Plot\n",
    "    complex_dg, complex_ddg = analyze(d_works['complex']['forward'], d_works['complex']['reverse'])\n",
    "    apo_dg, apo_ddg = analyze(d_works['apo']['forward'], d_works['apo']['reverse'])\n",
    "    plot(d_combined_works['complex']['forward'], d_combined_works['complex']['reverse'], complex_dg, complex_ddg, i, 'complex', os.path.dirname(path), titles[i-forward])\n",
    "    plot(d_combined_works['apo']['forward'], d_combined_works['apo']['reverse'], apo_dg, apo_ddg, i, 'apo', os.path.dirname(path), titles[i-forward])\n",
    "        "
   ]
  },
  {
   "cell_type": "code",
   "execution_count": 130,
   "metadata": {
    "scrolled": true
   },
   "outputs": [
    {
     "data": {
      "text/plain": [
       "(array([ 3.,  6., 18., 14., 18., 18., 15.,  4.,  2.,  2.]),\n",
       " array([125.79411112, 128.20211763, 130.61012413, 133.01813063,\n",
       "        135.42613713, 137.83414363, 140.24215013, 142.65015663,\n",
       "        145.05816314, 147.46616964, 149.87417614]),\n",
       " <BarContainer object of 10 artists>)"
      ]
     },
     "execution_count": 130,
     "metadata": {},
     "output_type": "execute_result"
    },
    {
     "data": {
      "image/png": "[encoded data removed]",
      "text/plain": [
       "<Figure size 432x288 with 1 Axes>"
      ]
     },
     "metadata": {
      "needs_background": "light"
     },
     "output_type": "display_data"
    }
   ],
   "source": [
    "plt.hist(d_works['complex']['forward'])\n",
    "plt.hist(d_works['complex']['reverse']*-1)"
   ]
  },
  {
   "cell_type": "code",
   "execution_count": 131,
   "metadata": {},
   "outputs": [
    {
     "data": {
      "application/vnd.jupyter.widget-view+json": {
       "model_id": "df02bc4f12a546a2b5ac1f5da877734b",
       "version_major": 2,
       "version_minor": 0
      },
      "text/plain": [
       "  0%|          | 0/10000 [00:00<?, ?it/s]"
      ]
     },
     "metadata": {},
     "output_type": "display_data"
    }
   ],
   "source": [
    "# Bootstrap works\n",
    "N_bootstraps = 10000\n",
    "phases = ['complex', 'apo']\n",
    "directions = ['forward', 'reverse']\n",
    "dgs_phase = {}\n",
    "ddgs = {}\n",
    "for i in [forward]:\n",
    "    dgs_phase_all = []\n",
    "    ddgs_all = []\n",
    "    for _ in tqdm_notebook(range(N_bootstraps)):\n",
    "        # Initialize data structure for works\n",
    "        d_works = {\"complex\": {\"forward\":{}, \"reverse\":{}}, \"apo\":{\"forward\":{}, \"reverse\":{}}}\n",
    "\n",
    "        # Save subsampled works\n",
    "        for phase in phases:\n",
    "            for direction in directions:\n",
    "                work_array = np.array(d_input[i][phase][direction])\n",
    "                num_samples = work_array.shape[0]\n",
    "                subsample_indices = np.random.choice(range(num_samples), num_samples)\n",
    "                d_works[phase][direction] = work_array[subsample_indices]\n",
    "        d_dgs_phase, binding_dg = analyze_bootstrap(d_works)\n",
    "        dgs_phase_all.append(d_dgs_phase)\n",
    "        ddgs_all.append(binding_dg)\n",
    "    dgs_phase[i] = dgs_phase_all\n",
    "    ddgs[i] = ddgs_all\n",
    "    \n",
    "    \n"
   ]
  },
  {
   "cell_type": "code",
   "execution_count": 132,
   "metadata": {},
   "outputs": [],
   "source": [
    "forward_ddg = np.mean(ddgs[forward])\n",
    "forward_ci = np.percentile(ddgs[forward], 2.5), np.percentile(ddgs[forward], 97.5)\n",
    "# reverse_ddg = np.mean(ddgs[reverse])\n",
    "# reverse_ci = np.percentile(ddgs[reverse], 2.5), np.percentile(ddgs[reverse], 97.5)\n",
    "# negative_reverse_ci = sorted(np.array(reverse_ci)*-1)\n",
    "# discrepancy = tuple(np.array(forward_ci) - np.array(negative_reverse_ci))\n",
    "# output_kt = [forward_ddg, forward_ci, reverse_ddg, reverse_ci, discrepancy]\n",
    "# output_kcalmol = [round(forward_ddg*KT_KCALMOL, 2), tuple([round(val, 2)for val in np.array(forward_ci)*KT_KCALMOL]), round(reverse_ddg*KT_KCALMOL, 2), tuple([round(val, 2) for val in np.array(reverse_ci)*KT_KCALMOL]), tuple([round(val, 2) for val in np.array(discrepancy)*KT_KCALMOL])]\n",
    "\n",
    "output_kcalmol = [round(forward_ddg*KT_KCALMOL, 2), tuple([round(val, 2)for val in np.array(forward_ci)*KT_KCALMOL])]\n",
    "\n"
   ]
  },
  {
   "cell_type": "code",
   "execution_count": 133,
   "metadata": {},
   "outputs": [
    {
     "data": {
      "text/plain": [
       "[1.27, (0.33, 2.26)]"
      ]
     },
     "execution_count": 133,
     "metadata": {},
     "output_type": "execute_result"
    }
   ],
   "source": [
    "output_kcalmol"
   ]
  },
  {
   "cell_type": "code",
   "execution_count": 134,
   "metadata": {},
   "outputs": [],
   "source": [
    "# pd.DataFrame([output_kcalmol]).to_csv(f\"/data/chodera/zhangi/perses_benchmark/neq/{dir_num}/{forward}/analysis_{titles[0]}_{titles[1]}.csv\")"
   ]
  },
  {
   "cell_type": "code",
   "execution_count": 135,
   "metadata": {},
   "outputs": [],
   "source": [
    "with open(f\"/data/chodera/zhangi/perses_benchmark/neq/{dir_num}/{forward}/dgs_phase.pickle\", \"wb\") as f:\n",
    "    pickle.dump(dgs_phase, f)\n",
    "with open(f\"/data/chodera/zhangi/perses_benchmark/neq/{dir_num}/{forward}/ddgs.pickle\", \"wb\") as f:\n",
    "    pickle.dump(ddgs, f)"
   ]
  },
  {
   "cell_type": "code",
   "execution_count": 136,
   "metadata": {},
   "outputs": [],
   "source": [
    "with open(f\"/data/chodera/zhangi/perses_benchmark/neq/{dir_num}/{forward}/dgs_phase.pickle\", \"rb\") as f:\n",
    "    dgs_phase = pickle.load(f)\n",
    "with open(f\"/data/chodera/zhangi/perses_benchmark/neq/{dir_num}/{forward}/ddgs.pickle\", \"rb\") as f:\n",
    "    ddgs = pickle.load(f)"
   ]
  },
  {
   "cell_type": "code",
   "execution_count": 137,
   "metadata": {
    "scrolled": true
   },
   "outputs": [
    {
     "data": {
      "text/plain": [
       "<matplotlib.legend.Legend at 0x2b081b9f5a00>"
      ]
     },
     "execution_count": 137,
     "metadata": {},
     "output_type": "execute_result"
    },
    {
     "data": {
      "image/png": "[encoded data removed]",
      "text/plain": [
       "<Figure size 432x288 with 1 Axes>"
      ]
     },
     "metadata": {
      "needs_background": "light"
     },
     "output_type": "display_data"
    }
   ],
   "source": [
    "# Plot ddgs\n",
    "sns.distplot(np.array(ddgs[forward])*KT_KCALMOL, rug=True, label=titles[0])\n",
    "# sns.distplot(np.array(ddgs[reverse])*-KT_KCALMOL, rug=True, label=f\"-({titles[1]})\")\n",
    "plt.xlabel(\"binding ddg (kcal/mol)\")\n",
    "plt.legend()"
   ]
  },
  {
   "cell_type": "code",
   "execution_count": 138,
   "metadata": {},
   "outputs": [
    {
     "data": {
      "text/plain": [
       "0.49853938319697716"
      ]
     },
     "execution_count": 138,
     "metadata": {},
     "output_type": "execute_result"
    }
   ],
   "source": [
    "# Get the std error\n",
    "np.std(np.array(ddgs[forward])*KT_KCALMOL)"
   ]
  },
  {
   "cell_type": "code",
   "execution_count": 139,
   "metadata": {},
   "outputs": [],
   "source": [
    "apo_dg = np.mean([d['apo'][0] for d in dgs_phase[forward]])\n",
    "apo_ci = np.percentile([d['apo'][0] for d in dgs_phase[forward]], 2.5), np.percentile([d['apo'][0] for d in dgs_phase[forward]], 97.5)\n",
    "output_kcalmol_apo = [round(apo_dg*KT_KCALMOL, 2), tuple([round(val, 2)for val in np.array(apo_ci)*KT_KCALMOL])]\n",
    "\n",
    "complex_dg = np.mean([d['complex'][0] for d in dgs_phase[forward]])\n",
    "complex_ci = np.percentile([d['complex'][0] for d in dgs_phase[forward]], 2.5), np.percentile([d['complex'][0] for d in dgs_phase[forward]], 97.5)\n",
    "output_kcalmol_complex = [round(complex_dg*KT_KCALMOL, 2), tuple([round(val, 2)for val in np.array(complex_ci)*KT_KCALMOL])]\n"
   ]
  },
  {
   "cell_type": "code",
   "execution_count": 140,
   "metadata": {},
   "outputs": [
    {
     "data": {
      "text/plain": [
       "[87.24, (87.02, 87.45)]"
      ]
     },
     "execution_count": 140,
     "metadata": {},
     "output_type": "execute_result"
    }
   ],
   "source": [
    "output_kcalmol_apo"
   ]
  },
  {
   "cell_type": "code",
   "execution_count": 141,
   "metadata": {},
   "outputs": [
    {
     "data": {
      "text/plain": [
       "[88.51, (87.59, 89.47)]"
      ]
     },
     "execution_count": 141,
     "metadata": {},
     "output_type": "execute_result"
    }
   ],
   "source": [
    "output_kcalmol_complex"
   ]
  },
  {
   "cell_type": "code",
   "execution_count": 142,
   "metadata": {},
   "outputs": [
    {
     "data": {
      "text/plain": [
       "<matplotlib.legend.Legend at 0x2b0819ae4e50>"
      ]
     },
     "execution_count": 142,
     "metadata": {},
     "output_type": "execute_result"
    },
    {
     "data": {
      "image/png": "[encoded data removed]",
      "text/plain": [
       "<Figure size 432x288 with 1 Axes>"
      ]
     },
     "metadata": {
      "needs_background": "light"
     },
     "output_type": "display_data"
    }
   ],
   "source": [
    "# Plot ddgs\n",
    "sns.distplot(np.array([dgs_phase[forward][i]['apo'][0]*KT_KCALMOL for i in range(100)]), rug=True, label=titles[0])\n",
    "plt.xlabel(\"apo binding dg (kcal/mol)\")\n",
    "plt.legend()"
   ]
  },
  {
   "cell_type": "code",
   "execution_count": 143,
   "metadata": {
    "scrolled": false
   },
   "outputs": [
    {
     "data": {
      "text/plain": [
       "<matplotlib.legend.Legend at 0x2b0829f93580>"
      ]
     },
     "execution_count": 143,
     "metadata": {},
     "output_type": "execute_result"
    },
    {
     "data": {
      "image/png": "[encoded data removed]",
      "text/plain": [
       "<Figure size 432x288 with 1 Axes>"
      ]
     },
     "metadata": {
      "needs_background": "light"
     },
     "output_type": "display_data"
    }
   ],
   "source": [
    "# Plot ddgs\n",
    "sns.distplot(np.array([dgs_phase[forward][i]['complex'][0]*KT_KCALMOL for i in range(100)]), rug=True, label=titles[0])\n",
    "plt.xlabel(\"complex binding dg (kcal/mol)\")\n",
    "plt.legend()"
   ]
  },
  {
   "cell_type": "code",
   "execution_count": null,
   "metadata": {},
   "outputs": [],
   "source": []
  },
  {
   "cell_type": "markdown",
   "metadata": {},
   "source": [
    "## 15/172"
   ]
  },
  {
   "cell_type": "code",
   "execution_count": 144,
   "metadata": {
    "scrolled": false
   },
   "outputs": [
    {
     "data": {
      "application/vnd.jupyter.widget-view+json": {
       "model_id": "2f01aeab377b4d14ba916148cad1871a",
       "version_major": 2,
       "version_minor": 0
      },
      "text/plain": [
       "  0%|          | 0/1 [00:00<?, ?it/s]"
      ]
     },
     "metadata": {},
     "output_type": "display_data"
    },
    {
     "name": "stdout",
     "output_type": "stream",
     "text": [
      "dir: 172\n",
      "100\n",
      "about to save: complex forward\n",
      "100\n",
      "about to save: complex reverse\n",
      "100\n",
      "about to save: apo forward\n",
      "100\n",
      "about to save: apo reverse\n",
      "plotting work trajs\n",
      "saved to: /data/chodera/zhangi/perses_benchmark/neq/15/172/172_complex_work_traj.png\n",
      "plotting work distrib\n",
      "saved to: /data/chodera/zhangi/perses_benchmark/neq/15/172/172_complex_work_dist.png\n",
      "plotting work trajs\n",
      "saved to: /data/chodera/zhangi/perses_benchmark/neq/15/172/172_apo_work_traj.png\n",
      "plotting work distrib\n",
      "saved to: /data/chodera/zhangi/perses_benchmark/neq/15/172/172_apo_work_dist.png\n"
     ]
    },
    {
     "data": {
      "text/plain": [
       "<Figure size 432x288 with 0 Axes>"
      ]
     },
     "metadata": {},
     "output_type": "display_data"
    }
   ],
   "source": [
    "# Load data into dicts and plot \n",
    "titles = [\"N501Y\"]\n",
    "phases = ['complex', 'apo']\n",
    "directions = ['forward', 'reverse']\n",
    "d_input = {}\n",
    "dir_num = 15\n",
    "forward = 172\n",
    "for i in tqdm_notebook([forward]):\n",
    "    print(f\"dir: {i}\")\n",
    "    d_works = {\"complex\": {}, \"apo\":{}}\n",
    "    d_combined_works = {\"complex\": {}, \"apo\":{}}\n",
    "    for phase in phases:\n",
    "        for direction in directions:\n",
    "            all_arrays = []\n",
    "            for j in range(100):\n",
    "                path = f\"/data/chodera/zhangi/perses_benchmark/neq/{dir_num}/{i}/{i}_{phase}_{j}_{direction}.npy\"\n",
    "                try:\n",
    "                    if os.path.exists(path):\n",
    "                        with open(path, 'rb') as f:\n",
    "                            array = np.load(f)\n",
    "                            if not np.isnan(np.sum(array)):\n",
    "                                all_arrays.append(array)\n",
    "                except:\n",
    "                    continue\n",
    "            print(len(all_arrays))\n",
    "            if all_arrays:\n",
    "                combined = np.concatenate(all_arrays)\n",
    "                accumulated = np.array([cycle[-1] - cycle[0] for cycle in combined])\n",
    "#                 combined = np.array([cycle[0::100] for cycle in combined])\n",
    "                print(f\"about to save: {phase} {direction}\")\n",
    "                d_combined_works[phase][direction] = combined\n",
    "                d_works[phase][direction] = accumulated\n",
    "\n",
    "    d_input[i] = d_works\n",
    "    \n",
    "    # Plot\n",
    "    complex_dg, complex_ddg = analyze(d_works['complex']['forward'], d_works['complex']['reverse'])\n",
    "    apo_dg, apo_ddg = analyze(d_works['apo']['forward'], d_works['apo']['reverse'])\n",
    "    plot(d_combined_works['complex']['forward'], d_combined_works['complex']['reverse'], complex_dg, complex_ddg, i, 'complex', os.path.dirname(path), titles[i-forward])\n",
    "    plot(d_combined_works['apo']['forward'], d_combined_works['apo']['reverse'], apo_dg, apo_ddg, i, 'apo', os.path.dirname(path), titles[i-forward])\n",
    "        "
   ]
  },
  {
   "cell_type": "code",
   "execution_count": 145,
   "metadata": {
    "scrolled": true
   },
   "outputs": [
    {
     "data": {
      "text/plain": [
       "(array([ 2.,  2.,  9., 12., 30., 15., 10., 11.,  4.,  5.]),\n",
       " array([ 85.17926219,  87.63089877,  90.08253534,  92.53417191,\n",
       "         94.98580849,  97.43744506,  99.88908163, 102.34071821,\n",
       "        104.79235478, 107.24399135, 109.69562793]),\n",
       " <BarContainer object of 10 artists>)"
      ]
     },
     "execution_count": 145,
     "metadata": {},
     "output_type": "execute_result"
    },
    {
     "data": {
      "image/png": "[encoded data removed]",
      "text/plain": [
       "<Figure size 432x288 with 1 Axes>"
      ]
     },
     "metadata": {
      "needs_background": "light"
     },
     "output_type": "display_data"
    }
   ],
   "source": [
    "plt.hist(d_works['complex']['forward'])\n",
    "plt.hist(d_works['complex']['reverse']*-1)"
   ]
  },
  {
   "cell_type": "code",
   "execution_count": 146,
   "metadata": {},
   "outputs": [
    {
     "data": {
      "text/plain": [
       "9.990732289609504"
      ]
     },
     "execution_count": 146,
     "metadata": {},
     "output_type": "execute_result"
    }
   ],
   "source": [
    "np.std(d_works['complex']['forward'])"
   ]
  },
  {
   "cell_type": "code",
   "execution_count": 147,
   "metadata": {},
   "outputs": [
    {
     "data": {
      "text/plain": [
       "4.857522887466519"
      ]
     },
     "execution_count": 147,
     "metadata": {},
     "output_type": "execute_result"
    }
   ],
   "source": [
    "np.std(d_works['complex']['reverse']*-1)"
   ]
  },
  {
   "cell_type": "code",
   "execution_count": 148,
   "metadata": {},
   "outputs": [
    {
     "data": {
      "application/vnd.jupyter.widget-view+json": {
       "model_id": "22bc5950ae144d4aba74477875da7b35",
       "version_major": 2,
       "version_minor": 0
      },
      "text/plain": [
       "  0%|          | 0/10000 [00:00<?, ?it/s]"
      ]
     },
     "metadata": {},
     "output_type": "display_data"
    }
   ],
   "source": [
    "# Bootstrap works\n",
    "N_bootstraps = 10000\n",
    "phases = ['complex', 'apo']\n",
    "directions = ['forward', 'reverse']\n",
    "dgs_phase = {}\n",
    "ddgs = {}\n",
    "for i in [forward]:\n",
    "    dgs_phase_all = []\n",
    "    ddgs_all = []\n",
    "    for _ in tqdm_notebook(range(N_bootstraps)):\n",
    "        # Initialize data structure for works\n",
    "        d_works = {\"complex\": {\"forward\":{}, \"reverse\":{}}, \"apo\":{\"forward\":{}, \"reverse\":{}}}\n",
    "\n",
    "        # Save subsampled works\n",
    "        for phase in phases:\n",
    "            for direction in directions:\n",
    "                work_array = np.array(d_input[i][phase][direction])\n",
    "                num_samples = work_array.shape[0]\n",
    "                subsample_indices = np.random.choice(range(num_samples), num_samples)\n",
    "                d_works[phase][direction] = work_array[subsample_indices]\n",
    "        d_dgs_phase, binding_dg = analyze_bootstrap(d_works)\n",
    "        dgs_phase_all.append(d_dgs_phase)\n",
    "        ddgs_all.append(binding_dg)\n",
    "    dgs_phase[i] = dgs_phase_all\n",
    "    ddgs[i] = ddgs_all\n",
    "    \n",
    "    \n"
   ]
  },
  {
   "cell_type": "code",
   "execution_count": 149,
   "metadata": {},
   "outputs": [],
   "source": [
    "forward_ddg = np.mean(ddgs[forward])\n",
    "forward_ci = np.percentile(ddgs[forward], 2.5), np.percentile(ddgs[forward], 97.5)\n",
    "# reverse_ddg = np.mean(ddgs[reverse])\n",
    "# reverse_ci = np.percentile(ddgs[reverse], 2.5), np.percentile(ddgs[reverse], 97.5)\n",
    "# negative_reverse_ci = sorted(np.array(reverse_ci)*-1)\n",
    "# discrepancy = tuple(np.array(forward_ci) - np.array(negative_reverse_ci))\n",
    "# output_kt = [forward_ddg, forward_ci, reverse_ddg, reverse_ci, discrepancy]\n",
    "# output_kcalmol = [round(forward_ddg*KT_KCALMOL, 2), tuple([round(val, 2)for val in np.array(forward_ci)*KT_KCALMOL]), round(reverse_ddg*KT_KCALMOL, 2), tuple([round(val, 2) for val in np.array(reverse_ci)*KT_KCALMOL]), tuple([round(val, 2) for val in np.array(discrepancy)*KT_KCALMOL])]\n",
    "\n",
    "output_kcalmol = [round(forward_ddg*KT_KCALMOL, 2), tuple([round(val, 2)for val in np.array(forward_ci)*KT_KCALMOL])]\n",
    "\n"
   ]
  },
  {
   "cell_type": "code",
   "execution_count": 150,
   "metadata": {},
   "outputs": [
    {
     "data": {
      "text/plain": [
       "[0.3, (-0.24, 0.85)]"
      ]
     },
     "execution_count": 150,
     "metadata": {},
     "output_type": "execute_result"
    }
   ],
   "source": [
    "output_kcalmol"
   ]
  },
  {
   "cell_type": "code",
   "execution_count": 151,
   "metadata": {},
   "outputs": [],
   "source": [
    "# pd.DataFrame([output_kcalmol]).to_csv(f\"/data/chodera/zhangi/perses_benchmark/neq/{dir_num}/{forward}/analysis_{titles[0]}_{titles[1]}.csv\")"
   ]
  },
  {
   "cell_type": "code",
   "execution_count": 152,
   "metadata": {},
   "outputs": [],
   "source": [
    "with open(f\"/data/chodera/zhangi/perses_benchmark/neq/{dir_num}/{forward}/dgs_phase.pickle\", \"wb\") as f:\n",
    "    pickle.dump(dgs_phase, f)\n",
    "with open(f\"/data/chodera/zhangi/perses_benchmark/neq/{dir_num}/{forward}/ddgs.pickle\", \"wb\") as f:\n",
    "    pickle.dump(ddgs, f)"
   ]
  },
  {
   "cell_type": "code",
   "execution_count": 153,
   "metadata": {},
   "outputs": [],
   "source": [
    "with open(f\"/data/chodera/zhangi/perses_benchmark/neq/{dir_num}/{forward}/dgs_phase.pickle\", \"rb\") as f:\n",
    "    dgs_phase = pickle.load(f)\n",
    "with open(f\"/data/chodera/zhangi/perses_benchmark/neq/{dir_num}/{forward}/ddgs.pickle\", \"rb\") as f:\n",
    "    ddgs = pickle.load(f)"
   ]
  },
  {
   "cell_type": "code",
   "execution_count": 154,
   "metadata": {
    "scrolled": true
   },
   "outputs": [
    {
     "data": {
      "text/plain": [
       "<matplotlib.legend.Legend at 0x2b0829a42670>"
      ]
     },
     "execution_count": 154,
     "metadata": {},
     "output_type": "execute_result"
    },
    {
     "data": {
      "image/png": "[encoded data removed]",
      "text/plain": [
       "<Figure size 432x288 with 1 Axes>"
      ]
     },
     "metadata": {
      "needs_background": "light"
     },
     "output_type": "display_data"
    }
   ],
   "source": [
    "# Plot ddgs\n",
    "sns.distplot(np.array(ddgs[forward])*KT_KCALMOL, rug=True, label=titles[0])\n",
    "# sns.distplot(np.array(ddgs[reverse])*-KT_KCALMOL, rug=True, label=f\"-({titles[1]})\")\n",
    "plt.xlabel(\"binding ddg (kcal/mol)\")\n",
    "plt.legend()"
   ]
  },
  {
   "cell_type": "code",
   "execution_count": 155,
   "metadata": {},
   "outputs": [
    {
     "data": {
      "text/plain": [
       "0.27638176810229975"
      ]
     },
     "execution_count": 155,
     "metadata": {},
     "output_type": "execute_result"
    }
   ],
   "source": [
    "# Get the std error\n",
    "np.std(np.array(ddgs[forward])*KT_KCALMOL)"
   ]
  },
  {
   "cell_type": "code",
   "execution_count": 156,
   "metadata": {},
   "outputs": [],
   "source": [
    "apo_dg = np.mean([d['apo'][0] for d in dgs_phase[forward]])\n",
    "apo_ci = np.percentile([d['apo'][0] for d in dgs_phase[forward]], 2.5), np.percentile([d['apo'][0] for d in dgs_phase[forward]], 97.5)\n",
    "output_kcalmol_apo = [round(apo_dg*KT_KCALMOL, 2), tuple([round(val, 2)for val in np.array(apo_ci)*KT_KCALMOL])]\n",
    "\n",
    "complex_dg = np.mean([d['complex'][0] for d in dgs_phase[forward]])\n",
    "complex_ci = np.percentile([d['complex'][0] for d in dgs_phase[forward]], 2.5), np.percentile([d['complex'][0] for d in dgs_phase[forward]], 97.5)\n",
    "output_kcalmol_complex = [round(complex_dg*KT_KCALMOL, 2), tuple([round(val, 2)for val in np.array(complex_ci)*KT_KCALMOL])]\n"
   ]
  },
  {
   "cell_type": "code",
   "execution_count": 157,
   "metadata": {},
   "outputs": [
    {
     "data": {
      "text/plain": [
       "[66.1, (65.89, 66.32)]"
      ]
     },
     "execution_count": 157,
     "metadata": {},
     "output_type": "execute_result"
    }
   ],
   "source": [
    "output_kcalmol_apo"
   ]
  },
  {
   "cell_type": "code",
   "execution_count": 158,
   "metadata": {},
   "outputs": [
    {
     "data": {
      "text/plain": [
       "[66.41, (65.9, 66.91)]"
      ]
     },
     "execution_count": 158,
     "metadata": {},
     "output_type": "execute_result"
    }
   ],
   "source": [
    "output_kcalmol_complex"
   ]
  },
  {
   "cell_type": "code",
   "execution_count": 159,
   "metadata": {},
   "outputs": [
    {
     "data": {
      "text/plain": [
       "<matplotlib.legend.Legend at 0x2b08292f1580>"
      ]
     },
     "execution_count": 159,
     "metadata": {},
     "output_type": "execute_result"
    },
    {
     "data": {
      "image/png": "[encoded data removed]",
      "text/plain": [
       "<Figure size 432x288 with 1 Axes>"
      ]
     },
     "metadata": {
      "needs_background": "light"
     },
     "output_type": "display_data"
    }
   ],
   "source": [
    "# Plot ddgs\n",
    "sns.distplot(np.array([dgs_phase[forward][i]['apo'][0]*KT_KCALMOL for i in range(100)]), rug=True, label=titles[0])\n",
    "plt.xlabel(\"apo binding dg (kcal/mol)\")\n",
    "plt.legend()"
   ]
  },
  {
   "cell_type": "code",
   "execution_count": 160,
   "metadata": {
    "scrolled": true
   },
   "outputs": [
    {
     "data": {
      "text/plain": [
       "<matplotlib.legend.Legend at 0x2b082a694af0>"
      ]
     },
     "execution_count": 160,
     "metadata": {},
     "output_type": "execute_result"
    },
    {
     "data": {
      "image/png": "[encoded data removed]",
      "text/plain": [
       "<Figure size 432x288 with 1 Axes>"
      ]
     },
     "metadata": {
      "needs_background": "light"
     },
     "output_type": "display_data"
    }
   ],
   "source": [
    "# Plot ddgs\n",
    "sns.distplot(np.array([dgs_phase[forward][i]['complex'][0]*KT_KCALMOL for i in range(100)]), rug=True, label=titles[0])\n",
    "plt.xlabel(\"complex binding dg (kcal/mol)\")\n",
    "plt.legend()"
   ]
  },
  {
   "cell_type": "markdown",
   "metadata": {},
   "source": [
    "## 15/173"
   ]
  },
  {
   "cell_type": "code",
   "execution_count": 3,
   "metadata": {
    "scrolled": false
   },
   "outputs": [
    {
     "data": {
      "application/vnd.jupyter.widget-view+json": {
       "model_id": "597a53b35006444cbf679ed7218ddcbc",
       "version_major": 2,
       "version_minor": 0
      },
      "text/plain": [
       "  0%|          | 0/1 [00:00<?, ?it/s]"
      ]
     },
     "metadata": {},
     "output_type": "display_data"
    },
    {
     "name": "stdout",
     "output_type": "stream",
     "text": [
      "dir: 173\n",
      "100\n",
      "about to save: complex forward\n",
      "100\n",
      "about to save: complex reverse\n",
      "100\n",
      "about to save: apo forward\n",
      "100\n",
      "about to save: apo reverse\n",
      "plotting work trajs\n",
      "saved to: /data/chodera/zhangi/perses_benchmark/neq/15/173/173_complex_work_traj.png\n",
      "plotting work distrib\n",
      "saved to: /data/chodera/zhangi/perses_benchmark/neq/15/173/173_complex_work_dist.png\n",
      "plotting work trajs\n",
      "saved to: /data/chodera/zhangi/perses_benchmark/neq/15/173/173_apo_work_traj.png\n",
      "plotting work distrib\n",
      "saved to: /data/chodera/zhangi/perses_benchmark/neq/15/173/173_apo_work_dist.png\n"
     ]
    },
    {
     "data": {
      "text/plain": [
       "<Figure size 432x288 with 0 Axes>"
      ]
     },
     "metadata": {},
     "output_type": "display_data"
    }
   ],
   "source": [
    "# Load data into dicts and plot \n",
    "titles = [\"N501W\"]\n",
    "phases = ['complex', 'apo']\n",
    "directions = ['forward', 'reverse']\n",
    "d_input = {}\n",
    "dir_num = 15\n",
    "forward = 173\n",
    "for i in tqdm_notebook([forward]):\n",
    "    print(f\"dir: {i}\")\n",
    "    d_works = {\"complex\": {}, \"apo\":{}}\n",
    "    d_combined_works = {\"complex\": {}, \"apo\":{}}\n",
    "    for phase in phases:\n",
    "        for direction in directions:\n",
    "            all_arrays = []\n",
    "            for j in range(100):\n",
    "                path = f\"/data/chodera/zhangi/perses_benchmark/neq/{dir_num}/{i}/{i}_{phase}_{j}_{direction}.npy\"\n",
    "                try:\n",
    "                    if os.path.exists(path):\n",
    "                        with open(path, 'rb') as f:\n",
    "                            array = np.load(f)\n",
    "                            if not np.isnan(np.sum(array)):\n",
    "                                all_arrays.append(array)\n",
    "                except:\n",
    "                    continue\n",
    "            print(len(all_arrays))\n",
    "            if all_arrays:\n",
    "                combined = np.concatenate(all_arrays)\n",
    "                accumulated = np.array([cycle[-1] - cycle[0] for cycle in combined])\n",
    "#                 combined = np.array([cycle[0::100] for cycle in combined])\n",
    "                print(f\"about to save: {phase} {direction}\")\n",
    "                d_combined_works[phase][direction] = combined\n",
    "                d_works[phase][direction] = accumulated\n",
    "\n",
    "    d_input[i] = d_works\n",
    "    \n",
    "    # Plot\n",
    "    complex_dg, complex_ddg = analyze(d_works['complex']['forward'], d_works['complex']['reverse'])\n",
    "    apo_dg, apo_ddg = analyze(d_works['apo']['forward'], d_works['apo']['reverse'])\n",
    "    plot(d_combined_works['complex']['forward'], d_combined_works['complex']['reverse'], complex_dg, complex_ddg, i, 'complex', os.path.dirname(path), titles[i-forward])\n",
    "    plot(d_combined_works['apo']['forward'], d_combined_works['apo']['reverse'], apo_dg, apo_ddg, i, 'apo', os.path.dirname(path), titles[i-forward])\n",
    "        "
   ]
  },
  {
   "cell_type": "code",
   "execution_count": 4,
   "metadata": {
    "scrolled": true
   },
   "outputs": [
    {
     "data": {
      "text/plain": [
       "(array([ 6.,  9., 14., 21., 15., 11.,  8.,  8.,  5.,  3.]),\n",
       " array([142.56770335, 144.61435628, 146.66100921, 148.70766214,\n",
       "        150.75431507, 152.800968  , 154.84762093, 156.89427386,\n",
       "        158.94092678, 160.98757971, 163.03423264]),\n",
       " <BarContainer object of 10 artists>)"
      ]
     },
     "execution_count": 4,
     "metadata": {},
     "output_type": "execute_result"
    },
    {
     "data": {
      "image/png": "[encoded data removed]",
      "text/plain": [
       "<Figure size 432x288 with 1 Axes>"
      ]
     },
     "metadata": {
      "needs_background": "light"
     },
     "output_type": "display_data"
    }
   ],
   "source": [
    "plt.hist(d_works['complex']['forward'])\n",
    "plt.hist(d_works['complex']['reverse']*-1)"
   ]
  },
  {
   "cell_type": "code",
   "execution_count": 5,
   "metadata": {},
   "outputs": [
    {
     "data": {
      "text/plain": [
       "11.242094725193375"
      ]
     },
     "execution_count": 5,
     "metadata": {},
     "output_type": "execute_result"
    }
   ],
   "source": [
    "np.std(d_works['complex']['forward'])"
   ]
  },
  {
   "cell_type": "code",
   "execution_count": 6,
   "metadata": {},
   "outputs": [
    {
     "data": {
      "text/plain": [
       "4.66360132229478"
      ]
     },
     "execution_count": 6,
     "metadata": {},
     "output_type": "execute_result"
    }
   ],
   "source": [
    "np.std(d_works['complex']['reverse']*-1)"
   ]
  },
  {
   "cell_type": "code",
   "execution_count": 7,
   "metadata": {},
   "outputs": [
    {
     "data": {
      "application/vnd.jupyter.widget-view+json": {
       "model_id": "d5b9511333f7473c863de1b6a72bbeb6",
       "version_major": 2,
       "version_minor": 0
      },
      "text/plain": [
       "  0%|          | 0/10000 [00:00<?, ?it/s]"
      ]
     },
     "metadata": {},
     "output_type": "display_data"
    }
   ],
   "source": [
    "# Bootstrap works\n",
    "N_bootstraps = 10000\n",
    "phases = ['complex', 'apo']\n",
    "directions = ['forward', 'reverse']\n",
    "dgs_phase = {}\n",
    "ddgs = {}\n",
    "for i in [forward]:\n",
    "    dgs_phase_all = []\n",
    "    ddgs_all = []\n",
    "    for _ in tqdm_notebook(range(N_bootstraps)):\n",
    "        # Initialize data structure for works\n",
    "        d_works = {\"complex\": {\"forward\":{}, \"reverse\":{}}, \"apo\":{\"forward\":{}, \"reverse\":{}}}\n",
    "\n",
    "        # Save subsampled works\n",
    "        for phase in phases:\n",
    "            for direction in directions:\n",
    "                work_array = np.array(d_input[i][phase][direction])\n",
    "                num_samples = work_array.shape[0]\n",
    "                subsample_indices = np.random.choice(range(num_samples), num_samples)\n",
    "                d_works[phase][direction] = work_array[subsample_indices]\n",
    "        d_dgs_phase, binding_dg = analyze_bootstrap(d_works)\n",
    "        dgs_phase_all.append(d_dgs_phase)\n",
    "        ddgs_all.append(binding_dg)\n",
    "    dgs_phase[i] = dgs_phase_all\n",
    "    ddgs[i] = ddgs_all\n",
    "    \n",
    "    \n"
   ]
  },
  {
   "cell_type": "code",
   "execution_count": 8,
   "metadata": {},
   "outputs": [],
   "source": [
    "forward_ddg = np.mean(ddgs[forward])\n",
    "forward_ci = np.percentile(ddgs[forward], 2.5), np.percentile(ddgs[forward], 97.5)\n",
    "# reverse_ddg = np.mean(ddgs[reverse])\n",
    "# reverse_ci = np.percentile(ddgs[reverse], 2.5), np.percentile(ddgs[reverse], 97.5)\n",
    "# negative_reverse_ci = sorted(np.array(reverse_ci)*-1)\n",
    "# discrepancy = tuple(np.array(forward_ci) - np.array(negative_reverse_ci))\n",
    "# output_kt = [forward_ddg, forward_ci, reverse_ddg, reverse_ci, discrepancy]\n",
    "# output_kcalmol = [round(forward_ddg*KT_KCALMOL, 2), tuple([round(val, 2)for val in np.array(forward_ci)*KT_KCALMOL]), round(reverse_ddg*KT_KCALMOL, 2), tuple([round(val, 2) for val in np.array(reverse_ci)*KT_KCALMOL]), tuple([round(val, 2) for val in np.array(discrepancy)*KT_KCALMOL])]\n",
    "\n",
    "output_kcalmol = [round(forward_ddg*KT_KCALMOL, 2), tuple([round(val, 2)for val in np.array(forward_ci)*KT_KCALMOL])]\n",
    "\n"
   ]
  },
  {
   "cell_type": "code",
   "execution_count": 9,
   "metadata": {},
   "outputs": [
    {
     "data": {
      "text/plain": [
       "[4.37, (3.56, 5.2)]"
      ]
     },
     "execution_count": 9,
     "metadata": {},
     "output_type": "execute_result"
    }
   ],
   "source": [
    "output_kcalmol"
   ]
  },
  {
   "cell_type": "code",
   "execution_count": 10,
   "metadata": {},
   "outputs": [],
   "source": [
    "# pd.DataFrame([output_kcalmol]).to_csv(f\"/data/chodera/zhangi/perses_benchmark/neq/{dir_num}/{forward}/analysis_{titles[0]}_{titles[1]}.csv\")"
   ]
  },
  {
   "cell_type": "code",
   "execution_count": 11,
   "metadata": {},
   "outputs": [],
   "source": [
    "with open(f\"/data/chodera/zhangi/perses_benchmark/neq/{dir_num}/{forward}/dgs_phase.pickle\", \"wb\") as f:\n",
    "    pickle.dump(dgs_phase, f)\n",
    "with open(f\"/data/chodera/zhangi/perses_benchmark/neq/{dir_num}/{forward}/ddgs.pickle\", \"wb\") as f:\n",
    "    pickle.dump(ddgs, f)"
   ]
  },
  {
   "cell_type": "code",
   "execution_count": 12,
   "metadata": {},
   "outputs": [],
   "source": [
    "with open(f\"/data/chodera/zhangi/perses_benchmark/neq/{dir_num}/{forward}/dgs_phase.pickle\", \"rb\") as f:\n",
    "    dgs_phase = pickle.load(f)\n",
    "with open(f\"/data/chodera/zhangi/perses_benchmark/neq/{dir_num}/{forward}/ddgs.pickle\", \"rb\") as f:\n",
    "    ddgs = pickle.load(f)"
   ]
  },
  {
   "cell_type": "code",
   "execution_count": 13,
   "metadata": {
    "scrolled": true
   },
   "outputs": [
    {
     "data": {
      "text/plain": [
       "<matplotlib.legend.Legend at 0x2adacd131bb0>"
      ]
     },
     "execution_count": 13,
     "metadata": {},
     "output_type": "execute_result"
    },
    {
     "data": {
      "image/png": "[encoded data removed]",
      "text/plain": [
       "<Figure size 432x288 with 1 Axes>"
      ]
     },
     "metadata": {
      "needs_background": "light"
     },
     "output_type": "display_data"
    }
   ],
   "source": [
    "# Plot ddgs\n",
    "sns.distplot(np.array(ddgs[forward])*KT_KCALMOL, rug=True, label=titles[0])\n",
    "# sns.distplot(np.array(ddgs[reverse])*-KT_KCALMOL, rug=True, label=f\"-({titles[1]})\")\n",
    "plt.xlabel(\"binding ddg (kcal/mol)\")\n",
    "plt.legend()"
   ]
  },
  {
   "cell_type": "code",
   "execution_count": 14,
   "metadata": {},
   "outputs": [
    {
     "data": {
      "text/plain": [
       "0.4237608958223819"
      ]
     },
     "execution_count": 14,
     "metadata": {},
     "output_type": "execute_result"
    }
   ],
   "source": [
    "# Get the std error\n",
    "np.std(np.array(ddgs[forward])*KT_KCALMOL)"
   ]
  },
  {
   "cell_type": "code",
   "execution_count": 15,
   "metadata": {},
   "outputs": [],
   "source": [
    "apo_dg = np.mean([d['apo'][0] for d in dgs_phase[forward]])\n",
    "apo_ci = np.percentile([d['apo'][0] for d in dgs_phase[forward]], 2.5), np.percentile([d['apo'][0] for d in dgs_phase[forward]], 97.5)\n",
    "output_kcalmol_apo = [round(apo_dg*KT_KCALMOL, 2), tuple([round(val, 2)for val in np.array(apo_ci)*KT_KCALMOL])]\n",
    "\n",
    "complex_dg = np.mean([d['complex'][0] for d in dgs_phase[forward]])\n",
    "complex_ci = np.percentile([d['complex'][0] for d in dgs_phase[forward]], 2.5), np.percentile([d['complex'][0] for d in dgs_phase[forward]], 97.5)\n",
    "output_kcalmol_complex = [round(complex_dg*KT_KCALMOL, 2), tuple([round(val, 2)for val in np.array(complex_ci)*KT_KCALMOL])]\n"
   ]
  },
  {
   "cell_type": "code",
   "execution_count": 16,
   "metadata": {},
   "outputs": [
    {
     "data": {
      "text/plain": [
       "[94.0, (93.78, 94.22)]"
      ]
     },
     "execution_count": 16,
     "metadata": {},
     "output_type": "execute_result"
    }
   ],
   "source": [
    "output_kcalmol_apo"
   ]
  },
  {
   "cell_type": "code",
   "execution_count": 17,
   "metadata": {},
   "outputs": [
    {
     "data": {
      "text/plain": [
       "[98.36, (97.59, 99.18)]"
      ]
     },
     "execution_count": 17,
     "metadata": {},
     "output_type": "execute_result"
    }
   ],
   "source": [
    "output_kcalmol_complex"
   ]
  },
  {
   "cell_type": "code",
   "execution_count": 18,
   "metadata": {},
   "outputs": [
    {
     "data": {
      "text/plain": [
       "<matplotlib.legend.Legend at 0x2adacdd917f0>"
      ]
     },
     "execution_count": 18,
     "metadata": {},
     "output_type": "execute_result"
    },
    {
     "data": {
      "image/png": "[encoded data removed]",
      "text/plain": [
       "<Figure size 432x288 with 1 Axes>"
      ]
     },
     "metadata": {
      "needs_background": "light"
     },
     "output_type": "display_data"
    }
   ],
   "source": [
    "# Plot ddgs\n",
    "sns.distplot(np.array([dgs_phase[forward][i]['apo'][0]*KT_KCALMOL for i in range(100)]), rug=True, label=titles[0])\n",
    "plt.xlabel(\"apo binding dg (kcal/mol)\")\n",
    "plt.legend()"
   ]
  },
  {
   "cell_type": "code",
   "execution_count": 19,
   "metadata": {
    "scrolled": false
   },
   "outputs": [
    {
     "data": {
      "text/plain": [
       "<matplotlib.legend.Legend at 0x2adacddd99a0>"
      ]
     },
     "execution_count": 19,
     "metadata": {},
     "output_type": "execute_result"
    },
    {
     "data": {
      "image/png": "[encoded data removed]",
      "text/plain": [
       "<Figure size 432x288 with 1 Axes>"
      ]
     },
     "metadata": {
      "needs_background": "light"
     },
     "output_type": "display_data"
    }
   ],
   "source": [
    "# Plot ddgs\n",
    "sns.distplot(np.array([dgs_phase[forward][i]['complex'][0]*KT_KCALMOL for i in range(100)]), rug=True, label=titles[0])\n",
    "plt.xlabel(\"complex binding dg (kcal/mol)\")\n",
    "plt.legend()"
   ]
  },
  {
   "cell_type": "code",
   "execution_count": null,
   "metadata": {},
   "outputs": [],
   "source": []
  },
  {
   "cell_type": "code",
   "execution_count": null,
   "metadata": {},
   "outputs": [],
   "source": []
  }
 ],
 "metadata": {
  "kernelspec": {
   "display_name": "Python 3 (ipykernel)",
   "language": "python",
   "name": "python3"
  },
  "language_info": {
   "codemirror_mode": {
    "name": "ipython",
    "version": 3
   },
   "file_extension": ".py",
   "mimetype": "text/x-python",
   "name": "python",
   "nbconvert_exporter": "python",
   "pygments_lexer": "ipython3",
   "version": "3.8.12"
  }
 },
 "nbformat": 4,
 "nbformat_minor": 4
}
