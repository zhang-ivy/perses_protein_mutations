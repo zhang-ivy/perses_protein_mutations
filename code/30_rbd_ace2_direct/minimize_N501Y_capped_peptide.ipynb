{
 "cells": [
  {
   "cell_type": "code",
   "execution_count": 6,
   "id": "df359f52",
   "metadata": {},
   "outputs": [],
   "source": [
    "from openmmtools.integrators import LangevinIntegrator\n",
    "from simtk import openmm\n",
    "from simtk.openmm import unit, app\n",
    "import numpy as np\n",
    "from openmmforcefields.generators import SystemGenerator"
   ]
  },
  {
   "cell_type": "code",
   "execution_count": 3,
   "id": "481bea83",
   "metadata": {},
   "outputs": [],
   "source": [
    "pdb = app.PDBFile(\"../../input/N501Y_capped_peptide.pdb\")"
   ]
  },
  {
   "cell_type": "code",
   "execution_count": 7,
   "id": "7b175b78",
   "metadata": {},
   "outputs": [],
   "source": [
    "# Generate system\n",
    "forcefield_files = ['gaff.xml', 'amber14/protein.ff14SB.xml', 'amber14/tip3p.xml']\n",
    "barostat = None\n",
    "system_generator = SystemGenerator(forcefield_files,\n",
    "                               barostat=barostat,\n",
    "                               forcefield_kwargs={'removeCMMotion': False,\n",
    "                                                    'ewaldErrorTolerance': 1e-4,\n",
    "                                                    'constraints' : app.HBonds,\n",
    "                                                    'hydrogenMass' : 4 * unit.amus},\n",
    "                                nonperiodic_forcefield_kwargs={'nonbondedMethod': app.NoCutoff},\n",
    "                                small_molecule_forcefield='gaff-2.11',\n",
    "                                molecules=None,\n",
    "                                cache=None)\n",
    "system = system_generator.create_system(pdb.topology)"
   ]
  },
  {
   "cell_type": "code",
   "execution_count": 4,
   "id": "8201732b",
   "metadata": {},
   "outputs": [],
   "source": [
    "integrator = LangevinIntegrator(timestep=4.0 * unit.femtoseconds)\n",
    "platform_name = 'CUDA'\n",
    "platform = openmm.Platform.getPlatformByName(platform_name)\n",
    "if platform_name in ['CUDA', 'OpenCL']:\n",
    "    platform.setPropertyDefaultValue('Precision', 'mixed')\n",
    "if platform_name in ['CUDA']:\n",
    "    platform.setPropertyDefaultValue('DeterministicForces', 'true')"
   ]
  },
  {
   "cell_type": "code",
   "execution_count": 8,
   "id": "0b98aed0",
   "metadata": {},
   "outputs": [
    {
     "name": "stdout",
     "output_type": "stream",
     "text": [
      "POTENTIAL ENERGY:  -432.5253883410487 kJ/mol\n"
     ]
    }
   ],
   "source": [
    "context = openmm.Context(system, integrator, platform)\n",
    "context.setPositions(pdb.positions)\n",
    "potential_energy = context.getState(getEnergy=True).getPotentialEnergy()\n",
    "print(\"POTENTIAL ENERGY: \", potential_energy)"
   ]
  },
  {
   "cell_type": "code",
   "execution_count": 9,
   "id": "5df2f807",
   "metadata": {},
   "outputs": [],
   "source": [
    "openmm.LocalEnergyMinimizer.minimize(context)"
   ]
  },
  {
   "cell_type": "code",
   "execution_count": 10,
   "id": "97a2c0c8",
   "metadata": {},
   "outputs": [
    {
     "name": "stdout",
     "output_type": "stream",
     "text": [
      "POTENTIAL ENERGY:  -671.8551339108972 kJ/mol\n"
     ]
    }
   ],
   "source": [
    "potential_energy = context.getState(getEnergy=True).getPotentialEnergy()\n",
    "print(\"POTENTIAL ENERGY: \", potential_energy)"
   ]
  },
  {
   "cell_type": "code",
   "execution_count": 11,
   "id": "3fc9f943",
   "metadata": {},
   "outputs": [],
   "source": [
    "pos = np.array(context.getState(getPositions=True).getPositions().value_in_unit_system(unit.md_unit_system))"
   ]
  },
  {
   "cell_type": "code",
   "execution_count": 12,
   "id": "d33c901d",
   "metadata": {},
   "outputs": [],
   "source": [
    "app.PDBFile.writeFile(pdb.topology, context.getState(getPositions=True).getPositions(), open(\"N501Y_capped_peptide_old_minimized.pdb\", \"w\"), keepIds=True)"
   ]
  },
  {
   "cell_type": "code",
   "execution_count": null,
   "id": "9b2f18a8",
   "metadata": {},
   "outputs": [],
   "source": []
  }
 ],
 "metadata": {
  "kernelspec": {
   "display_name": "Python 3 (ipykernel)",
   "language": "python",
   "name": "python3"
  },
  "language_info": {
   "codemirror_mode": {
    "name": "ipython",
    "version": 3
   },
   "file_extension": ".py",
   "mimetype": "text/x-python",
   "name": "python",
   "nbconvert_exporter": "python",
   "pygments_lexer": "ipython3",
   "version": "3.8.11"
  }
 },
 "nbformat": 4,
 "nbformat_minor": 5
}
