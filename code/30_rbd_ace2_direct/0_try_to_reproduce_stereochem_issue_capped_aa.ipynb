{
 "cells": [
  {
   "cell_type": "code",
   "execution_count": 6,
   "id": "9f92caf8",
   "metadata": {},
   "outputs": [],
   "source": [
    "from perses.app.relative_point_mutation_setup import PointMutationExecutor\n",
    "import pickle\n",
    "import os\n",
    "from simtk.openmm import app\n",
    "from perses.utils.smallmolecules import  render_protein_residue_atom_mapping\n"
   ]
  },
  {
   "cell_type": "markdown",
   "id": "a1314f5a",
   "metadata": {},
   "source": [
    "# starting with capped ASN without rotation"
   ]
  },
  {
   "cell_type": "code",
   "execution_count": 10,
   "id": "b8510ae0",
   "metadata": {
    "scrolled": true
   },
   "outputs": [
    {
     "name": "stderr",
     "output_type": "stream",
     "text": [
      "DEBUG:openmmforcefields.system_generators:Trying GAFFTemplateGenerator to load gaff-2.11\n",
      "INFO:proposal_generator:\tConducting polymer point mutation proposal...\n",
      "WARNING:atom_mapping:Molecules do not appear to share a common scaffold.\n",
      "WARNING:atom_mapping:Proceeding with direct mapping of molecules, but please check atom mapping and the geometry of the ligands.\n",
      "INFO:proposal_generator:[Atom(name=CB, atomic number=6), Atom(name=CG, atomic number=6), Atom(name=ND2, atomic number=7), Atom(name=OD1, atomic number=8), Atom(name=HB2, atomic number=1), Atom(name=HB3, atomic number=1), Atom(name=HD21, atomic number=1), Atom(name=HD22, atomic number=1)]\n",
      "INFO:proposal_generator:[Atom(name=CB, atomic number=6), Atom(name=CG, atomic number=6), Atom(name=CD1, atomic number=6), Atom(name=CD2, atomic number=6), Atom(name=CE1, atomic number=6), Atom(name=CE2, atomic number=6), Atom(name=CZ, atomic number=6), Atom(name=OH, atomic number=8), Atom(name=HB2, atomic number=1), Atom(name=HB3, atomic number=1), Atom(name=HD1, atomic number=1), Atom(name=HD2, atomic number=1), Atom(name=HE1, atomic number=1), Atom(name=HE2, atomic number=1), Atom(name=HH, atomic number=1)]\n",
      "INFO:geometry:propose: performing forward proposal\n",
      "INFO:geometry:propose: unique new atoms detected; proceeding to _logp_propose...\n",
      "INFO:geometry:Conducting forward proposal...\n",
      "INFO:geometry:Computing proposal order with NetworkX...\n",
      "INFO:geometry:number of atoms to be placed: 15\n",
      "INFO:geometry:Atom index proposal order is [10, 11, 25, 23, 16, 18, 20, 21, 17, 15, 19, 22, 14, 26, 24]\n",
      "INFO:geometry:omitted_bonds: [(20, 23)]\n",
      "INFO:geometry:direction of proposal is forward; creating atoms_with_positions and new positions from old system/topology...\n",
      "INFO:geometry:creating growth system...\n",
      "INFO:geometry:\tcreating bond force...\n",
      "INFO:geometry:\tthere are 17 bonds in reference force.\n",
      "INFO:geometry:\tcreating angle force...\n",
      "INFO:geometry:\tthere are 55 angles in reference force.\n",
      "INFO:geometry:\tcreating torsion force...\n",
      "INFO:geometry:\tcreating extra torsions force...\n",
      "INFO:geometry:\tthere are 86 torsions in reference force.\n",
      "INFO:geometry:\tcreating nonbonded force...\n",
      "INFO:geometry:\t\tgrabbing reference nonbonded method, cutoff, switching function, switching distance...\n",
      "INFO:geometry:\t\tcreating nonbonded exception force (i.e. custom bond for 1,4s)...\n",
      "INFO:geometry:\t\tlooping through exceptions calculating growth indices, and adding appropriate interactions to custom bond force.\n",
      "INFO:geometry:\t\tthere are 158 in the reference Nonbonded force\n",
      "WARNING:geometry:\t\t\t\t\tchiral atom <Atom 7 (CA) of chain 0 residue 1 (TYR)> with neighbors [<Atom 8 (C) of chain 0 residue 1 (TYR)>, <Atom 10 (CB) of chain 0 residue 1 (TYR)>, <Atom 13 (HA) of chain 0 residue 1 (TYR)>, <Atom 6 (N) of chain 0 residue 1 (TYR)>] is surrounded by 3 core neighbors.  omitting chirality bias torsion\n",
      "INFO:geometry:Neglected angle terms : []\n",
      "INFO:geometry:omitted_growth_terms: {'bonds': [(20, 23)], 'angles': [(18, 20, 23), (20, 23, 24), (20, 23, 25), (21, 20, 23)], 'torsions': [(11, 25, 23, 20), (16, 18, 20, 23), (18, 20, 23, 24), (18, 20, 23, 25), (19, 18, 20, 23), (20, 23, 25, 26), (21, 20, 23, 24), (21, 20, 23, 25), (22, 21, 20, 23), (22, 21, 20, 23), (18, 23, 20, 21)], '1,4s': [(11, 20), (16, 23), (19, 23), (22, 23), (18, 24), (21, 24), (18, 25), (21, 25), (20, 26)]}\n",
      "INFO:geometry:extra torsions: {0: (22, 21, 20, 18, [1, Quantity(value=-0.002870001521861454, unit=radian), Quantity(value=1200.0, unit=kilocalorie/mole), 12]), 1: (19, 18, 20, 21, [1, Quantity(value=3.1393768365632813, unit=radian), Quantity(value=1200.0, unit=kilocalorie/mole), 11]), 2: (16, 18, 20, 21, [1, Quantity(value=0.0022213748613295614, unit=radian), Quantity(value=1200.0, unit=kilocalorie/mole), 8]), 3: (19, 18, 16, 17, [1, Quantity(value=3.139771005499866, unit=radian), Quantity(value=1200.0, unit=kilocalorie/mole), 11]), 4: (19, 18, 16, 11, [1, Quantity(value=0.0069177728493503565, unit=radian), Quantity(value=1200.0, unit=kilocalorie/mole), 11]), 5: (20, 18, 16, 17, [1, Quantity(value=-0.0062808214457872324, unit=radian), Quantity(value=1200.0, unit=kilocalorie/mole), 9]), 6: (20, 18, 16, 11, [1, Quantity(value=-3.1391340540962216, unit=radian), Quantity(value=1200.0, unit=kilocalorie/mole), 7]), 7: (18, 16, 11, 25, [1, Quantity(value=3.1373539745559547, unit=radian), Quantity(value=1200.0, unit=kilocalorie/mole), 6]), 8: (18, 16, 11, 10, [1, Quantity(value=-0.012555513663626172, unit=radian), Quantity(value=1200.0, unit=kilocalorie/mole), 6]), 9: (17, 16, 11, 25, [1, Quantity(value=0.004577035070323365, unit=radian), Quantity(value=1200.0, unit=kilocalorie/mole), 9]), 10: (17, 16, 11, 10, [1, Quantity(value=3.137852854030348, unit=radian), Quantity(value=1200.0, unit=kilocalorie/mole), 9]), 11: (24, 23, 25, 11, [1, Quantity(value=-0.006701599266596858, unit=radian), Quantity(value=1200.0, unit=kilocalorie/mole), 15]), 12: (24, 23, 25, 26, [1, Quantity(value=-3.134703221499019, unit=radian), Quantity(value=1200.0, unit=kilocalorie/mole), 15]), 13: (16, 11, 25, 23, [1, Quantity(value=-3.137699428633435, unit=radian), Quantity(value=1200.0, unit=kilocalorie/mole), 5]), 14: (16, 11, 25, 26, [1, Quantity(value=-0.009793556643590051, unit=radian), Quantity(value=1200.0, unit=kilocalorie/mole), 14]), 15: (10, 11, 25, 23, [1, Quantity(value=0.012140215312939961, unit=radian), Quantity(value=1200.0, unit=kilocalorie/mole), 4]), 16: (10, 11, 25, 26, [1, Quantity(value=3.14004608730288, unit=radian), Quantity(value=1200.0, unit=kilocalorie/mole), 14]), 17: (10, 7, 6, 12, [1, Quantity(value=1.047411640674822, unit=radian), Quantity(value=1200.0, unit=kilocalorie/mole), 1])}\n",
      "INFO:geometry:neglected angle terms include []\n",
      "INFO:geometry:log probability choice of torsions and atom order: -22.50070346039811\n",
      "INFO:geometry:creating platform, integrators, and contexts; setting growth parameter\n"
     ]
    },
    {
     "name": "stdout",
     "output_type": "stream",
     "text": [
      "conducting subsequent work with the following platform: CUDA\n"
     ]
    },
    {
     "name": "stderr",
     "output_type": "stream",
     "text": [
      "INFO:geometry:setting atoms_with_positions context new positions\n"
     ]
    },
    {
     "name": "stdout",
     "output_type": "stream",
     "text": [
      "conducting subsequent work with the following platform: CUDA\n"
     ]
    },
    {
     "name": "stderr",
     "output_type": "stream",
     "text": [
      "INFO:geometry:There are 15 new atoms\n",
      "INFO:geometry:\treduced angle potential = 0.9419746451325479.\n",
      "INFO:geometry:\treduced angle potential = 0.09509614062549136.\n",
      "INFO:geometry:\treduced angle potential = 0.09174206501900789.\n",
      "INFO:geometry:\treduced angle potential = 0.13979264428326077.\n",
      "INFO:geometry:\treduced angle potential = 0.03987711219564362.\n",
      "INFO:geometry:\treduced angle potential = 0.823731748317684.\n",
      "INFO:geometry:\treduced angle potential = 0.21483664829307897.\n",
      "INFO:geometry:\treduced angle potential = 0.06719051668019672.\n",
      "INFO:geometry:\treduced angle potential = 0.07608816950678929.\n",
      "INFO:geometry:\treduced angle potential = 0.013332886707151248.\n",
      "INFO:geometry:\treduced angle potential = 0.033775599250948724.\n",
      "INFO:geometry:\treduced angle potential = 0.49436520400997014.\n",
      "INFO:geometry:\treduced angle potential = 0.014860421323967029.\n",
      "INFO:geometry:\treduced angle potential = 0.4322366305871507.\n",
      "INFO:geometry:\treduced angle potential = 0.0006192055270001942.\n",
      "INFO:geometry:\tbeginning construction of no_nonbonded final system...\n",
      "INFO:geometry:\tinitial no-nonbonded final system forces ['HarmonicBondForce', 'HarmonicAngleForce', 'PeriodicTorsionForce', 'NonbondedForce', 'MonteCarloBarostat']\n",
      "INFO:geometry:\tfinal no-nonbonded final system forces dict_keys(['HarmonicBondForce', 'HarmonicAngleForce', 'PeriodicTorsionForce', 'NonbondedForce'])\n",
      "INFO:geometry:\tthere are 17 bond forces in the no-nonbonded final system\n",
      "INFO:geometry:\tthere are 55 angle forces in the no-nonbonded final system\n",
      "INFO:geometry:\tthere are 86 torsion forces in the no-nonbonded final system\n",
      "INFO:geometry:forward final system defined with 0 neglected angles.\n"
     ]
    },
    {
     "name": "stdout",
     "output_type": "stream",
     "text": [
      "conducting subsequent work with the following platform: CUDA\n",
      "conducting subsequent work with the following platform: CUDA\n"
     ]
    },
    {
     "name": "stderr",
     "output_type": "stream",
     "text": [
      "INFO:geometry:total reduced potential before atom placement: 17.02099439146946\n"
     ]
    },
    {
     "name": "stdout",
     "output_type": "stream",
     "text": [
      "conducting subsequent work with the following platform: CUDA\n",
      "conducting subsequent work with the following platform: CUDA\n",
      "conducting subsequent work with the following platform: CUDA\n"
     ]
    },
    {
     "name": "stderr",
     "output_type": "stream",
     "text": [
      "INFO:geometry:total reduced energy added from growth system: 108.96984478482085\n",
      "INFO:geometry:final reduced energy 151.16885560651835\n",
      "INFO:geometry:sum of energies: 125.99083917629031\n",
      "INFO:geometry:magnitude of difference in the energies: 25.17801643022804\n",
      "INFO:geometry:Final logp_proposal: 123.83759210370258\n",
      "INFO:geometry:logp_reverse: performing reverse proposal\n",
      "INFO:geometry:logp_reverse: unique new atoms detected; proceeding to _logp_propose...\n",
      "INFO:geometry:Conducting forward proposal...\n",
      "INFO:geometry:Computing proposal order with NetworkX...\n",
      "INFO:geometry:number of atoms to be placed: 8\n",
      "INFO:geometry:Atom index proposal order is [10, 11, 12, 13, 17, 16, 18, 19]\n",
      "INFO:geometry:omitted_bonds: []\n",
      "INFO:geometry:direction of proposal is reverse; creating atoms_with_positions from old system/topology\n",
      "INFO:geometry:creating growth system...\n",
      "INFO:geometry:\tcreating bond force...\n"
     ]
    },
    {
     "name": "stdout",
     "output_type": "stream",
     "text": [
      "added energy components: [('CustomBondForce', 9.262341002721904), ('CustomAngleForce', 83.29913905412762), ('CustomTorsionForce', 12.366507409002613), ('CustomBondForce', 4.041857318968725)]\n"
     ]
    },
    {
     "name": "stderr",
     "output_type": "stream",
     "text": [
      "INFO:geometry:\tthere are 12 bonds in reference force.\n",
      "INFO:geometry:\tcreating angle force...\n",
      "INFO:geometry:\tthere are 42 angles in reference force.\n",
      "INFO:geometry:\tcreating torsion force...\n",
      "INFO:geometry:\tcreating extra torsions force...\n",
      "INFO:geometry:\tthere are 64 torsions in reference force.\n",
      "INFO:geometry:\tcreating nonbonded force...\n",
      "INFO:geometry:\t\tgrabbing reference nonbonded method, cutoff, switching function, switching distance...\n",
      "INFO:geometry:\t\tcreating nonbonded exception force (i.e. custom bond for 1,4s)...\n",
      "INFO:geometry:\t\tlooping through exceptions calculating growth indices, and adding appropriate interactions to custom bond force.\n",
      "INFO:geometry:\t\tthere are 118 in the reference Nonbonded force\n",
      "WARNING:geometry:\t\t\t\t\tchiral atom <Atom 7 (CA) of chain 0 residue 1 (ASN)> with neighbors [<Atom 8 (C) of chain 0 residue 1 (ASN)>, <Atom 10 (CB) of chain 0 residue 1 (ASN)>, <Atom 15 (HA) of chain 0 residue 1 (ASN)>, <Atom 6 (N) of chain 0 residue 1 (ASN)>] is surrounded by 3 core neighbors.  omitting chirality bias torsion\n",
      "INFO:geometry:Neglected angle terms : []\n",
      "INFO:geometry:omitted_growth_terms: {'bonds': [], 'angles': [], 'torsions': [], '1,4s': []}\n",
      "INFO:geometry:extra torsions: {0: (14, 6, 7, 10, [1, Quantity(value=1.0033542268906723, unit=radian), Quantity(value=1200.0, unit=kilocalorie/mole), 1]), 1: (19, 12, 11, 10, [1, Quantity(value=-3.0613628096248338, unit=radian), Quantity(value=1200.0, unit=kilocalorie/mole), 8]), 2: (19, 12, 11, 13, [1, Quantity(value=0.1006962644006828, unit=radian), Quantity(value=1200.0, unit=kilocalorie/mole), 8]), 3: (18, 12, 11, 10, [1, Quantity(value=-0.163557181151619, unit=radian), Quantity(value=1200.0, unit=kilocalorie/mole), 7]), 4: (18, 12, 11, 13, [1, Quantity(value=2.998501892873897, unit=radian), Quantity(value=1200.0, unit=kilocalorie/mole), 7])}\n",
      "INFO:geometry:neglected angle terms include []\n",
      "INFO:geometry:log probability choice of torsions and atom order: -9.400630098419315\n",
      "INFO:geometry:creating platform, integrators, and contexts; setting growth parameter\n"
     ]
    },
    {
     "name": "stdout",
     "output_type": "stream",
     "text": [
      "conducting subsequent work with the following platform: CUDA\n"
     ]
    },
    {
     "name": "stderr",
     "output_type": "stream",
     "text": [
      "INFO:geometry:setting atoms_with_positions context old positions\n"
     ]
    },
    {
     "name": "stdout",
     "output_type": "stream",
     "text": [
      "conducting subsequent work with the following platform: CUDA\n"
     ]
    },
    {
     "name": "stderr",
     "output_type": "stream",
     "text": [
      "INFO:geometry:There are 8 new atoms\n",
      "INFO:geometry:\treduced angle potential = 0.005093000801889084.\n",
      "INFO:geometry:\treduced angle potential = 1.096068948964599.\n",
      "INFO:geometry:\treduced angle potential = 0.1836545042659597.\n",
      "INFO:geometry:\treduced angle potential = 0.13158576285083268.\n",
      "INFO:geometry:\treduced angle potential = 3.106845385390594e-07.\n",
      "INFO:geometry:\treduced angle potential = 0.0213962866620316.\n",
      "INFO:geometry:\treduced angle potential = 1.4602910498952248.\n",
      "INFO:geometry:\treduced angle potential = 0.23807592715002934.\n",
      "INFO:geometry:\tbeginning construction of no_nonbonded final system...\n",
      "INFO:geometry:\tinitial no-nonbonded final system forces ['HarmonicBondForce', 'HarmonicAngleForce', 'PeriodicTorsionForce', 'NonbondedForce', 'MonteCarloBarostat']\n",
      "INFO:geometry:\tfinal no-nonbonded final system forces dict_keys(['HarmonicBondForce', 'HarmonicAngleForce', 'PeriodicTorsionForce', 'NonbondedForce'])\n",
      "INFO:geometry:\tthere are 12 bond forces in the no-nonbonded final system\n",
      "INFO:geometry:\tthere are 42 angle forces in the no-nonbonded final system\n",
      "INFO:geometry:\tthere are 64 torsion forces in the no-nonbonded final system\n",
      "INFO:geometry:reverse final system defined with 0 neglected angles.\n"
     ]
    },
    {
     "name": "stdout",
     "output_type": "stream",
     "text": [
      "conducting subsequent work with the following platform: CUDA\n",
      "conducting subsequent work with the following platform: CUDA\n"
     ]
    },
    {
     "name": "stderr",
     "output_type": "stream",
     "text": [
      "INFO:geometry:total reduced potential before atom placement: 17.02099439146946\n"
     ]
    },
    {
     "name": "stdout",
     "output_type": "stream",
     "text": [
      "conducting subsequent work with the following platform: CUDA\n",
      "conducting subsequent work with the following platform: CUDA\n",
      "conducting subsequent work with the following platform: CUDA\n"
     ]
    },
    {
     "name": "stderr",
     "output_type": "stream",
     "text": [
      "INFO:geometry:total reduced energy added from growth system: -98.28291520240215\n",
      "INFO:geometry:final reduced energy -81.26192992072639\n",
      "INFO:geometry:sum of energies: -81.2619208109327\n",
      "INFO:geometry:magnitude of difference in the energies: 9.109793694506152e-06\n",
      "INFO:geometry:Final logp_proposal: -359.73416240745524\n",
      "INFO:setup:charge diff: 0\n",
      "INFO:relative:*** Generating vanilla HybridTopologyFactory ***\n",
      "INFO:relative:Beginning nonbonded method, total particle, barostat, and exceptions retrieval...\n",
      "INFO:relative:Flattening torsions of unique new/old at lambda = 0/1\n",
      "INFO:relative:Flattening exceptions of unique new/old at lambda = 0/1\n",
      "INFO:relative:Old system forces: dict_keys(['HarmonicBondForce', 'HarmonicAngleForce', 'PeriodicTorsionForce', 'NonbondedForce', 'MonteCarloBarostat'])\n",
      "INFO:relative:New system forces: dict_keys(['HarmonicBondForce', 'HarmonicAngleForce', 'PeriodicTorsionForce', 'NonbondedForce', 'MonteCarloBarostat'])\n",
      "INFO:relative:No unknown forces.\n",
      "INFO:relative:Nonbonded method to be used (i.e. from old system): 0\n",
      "INFO:relative:Adding and mapping old atoms to hybrid system...\n",
      "INFO:relative:Adding and mapping new atoms to hybrid system...\n",
      "INFO:relative:Added MonteCarloBarostat.\n",
      "INFO:relative:getDefaultPeriodicBoxVectors added to hybrid: [Quantity(value=Vec3(x=2.0, y=0.0, z=0.0), unit=nanometer), Quantity(value=Vec3(x=0.0, y=2.0, z=0.0), unit=nanometer), Quantity(value=Vec3(x=0.0, y=0.0, z=2.0), unit=nanometer)]\n",
      "INFO:relative:Determined atom classes.\n"
     ]
    },
    {
     "name": "stdout",
     "output_type": "stream",
     "text": [
      "added energy components: [('CustomBondForce', 1.262883458615904), ('CustomAngleForce', 5.911678969558854), ('CustomTorsionForce', 22.02692314707928), ('CustomBondForce', -127.48440077765619)]\n"
     ]
    },
    {
     "name": "stderr",
     "output_type": "stream",
     "text": [
      "INFO:relative:Generating old system exceptions dict...\n",
      "INFO:relative:Generating new system exceptions dict...\n",
      "INFO:relative:Handling constraints...\n",
      "INFO:relative:Handling virtual sites...\n",
      "INFO:relative:\t_handle_virtual_sites: numVirtualSites: 0\n",
      "INFO:relative:Adding bond force terms...\n",
      "INFO:relative:Adding angle force terms...\n",
      "INFO:relative:Adding torsion force terms...\n",
      "INFO:relative:Adding nonbonded force terms...\n",
      "INFO:relative:\t_add_nonbonded_force_terms: <openmm.openmm.NonbondedForce; proxy of <Swig Object of type 'OpenMM::NonbondedForce *' at 0x2b2b61684300> > added to hybrid system\n",
      "INFO:relative:\t_add_nonbonded_force_terms: nonbonded_method is NoCutoff\n",
      "INFO:relative:\t_add_nonbonded_force_terms: 0 added to standard nonbonded force\n",
      "INFO:relative:\t_add_nonbonded_force_terms: 0 added to sterics_custom_nonbonded force\n",
      "INFO:relative:\t_add_nonbonded_force_terms: <openmm.openmm.CustomNonbondedForce; proxy of <Swig Object of type 'OpenMM::CustomNonbondedForce *' at 0x2b2b61684390> > added to hybrid system\n",
      "INFO:relative:Handling harmonic bonds...\n",
      "INFO:relative:\thandle_harmonic_bonds: looping through old_system to add relevant terms...\n",
      "INFO:relative:\thandle_harmonic_bonds: looping through new_system to add relevant terms...\n",
      "INFO:relative:Handling harmonic angles...\n",
      "INFO:relative:\thandle_harmonic_angles: looping through old_system to add relevant terms...\n",
      "INFO:relative:\thandle_harmonic_angles: looping through new_system to add relevant terms...\n",
      "INFO:relative:Handling torsion forces...\n",
      "INFO:relative:\thandle_periodic_torsion_forces: looping through old_system to add relevant terms...\n",
      "INFO:relative:\thandle_periodic_torsion_forces: looping through new_system to add relevant terms...\n",
      "INFO:relative:Handling nonbonded forces...\n",
      "INFO:relative:\thandle_nonbonded: looping through all particles in hybrid...\n",
      "INFO:relative:\thandle_nonbonded: Handling Interaction Groups...\n",
      "INFO:relative:\thandle_nonbonded: Handling Hybrid Exceptions...\n",
      "INFO:relative:\thandle_nonbonded: Handling Original Exceptions...\n",
      "INFO:relative:Handling unique_new/old interaction exceptions...\n",
      "INFO:relative:There are old or new system exceptions...proceeding.\n",
      "INFO:relative:*** Generating RepartitionedHybridTopologyFactory ***\n",
      "INFO:relative:Flattening torsions of unique new/old at lambda = 0/1\n",
      "INFO:relative:Flattening exceptions of unique new/old at lambda = 0/1\n",
      "INFO:relative:Old system forces: dict_keys(['HarmonicBondForce', 'HarmonicAngleForce', 'PeriodicTorsionForce', 'NonbondedForce', 'MonteCarloBarostat'])\n",
      "INFO:relative:New system forces: dict_keys(['HarmonicBondForce', 'HarmonicAngleForce', 'PeriodicTorsionForce', 'NonbondedForce', 'MonteCarloBarostat'])\n",
      "INFO:relative:No unknown forces.\n",
      "INFO:relative:Nonbonded method to be used (i.e. from old system): 0\n",
      "INFO:relative:Adding and mapping old atoms to hybrid system...\n",
      "INFO:relative:Adding and mapping new atoms to hybrid system...\n",
      "INFO:relative:Added MonteCarloBarostat.\n",
      "INFO:relative:getDefaultPeriodicBoxVectors added to hybrid: [Quantity(value=Vec3(x=2.0, y=0.0, z=0.0), unit=nanometer), Quantity(value=Vec3(x=0.0, y=2.0, z=0.0), unit=nanometer), Quantity(value=Vec3(x=0.0, y=0.0, z=2.0), unit=nanometer)]\n",
      "INFO:relative:Determined atom classes.\n",
      "INFO:relative:Generating old system exceptions dict...\n",
      "INFO:relative:Generating new system exceptions dict...\n",
      "INFO:relative:Handling constraints...\n",
      "INFO:relative:Handling virtual sites...\n",
      "INFO:relative:\t_handle_virtual_sites: numVirtualSites: 0\n",
      "INFO:relative:\t_add_nonbonded_force_terms: <openmm.openmm.NonbondedForce; proxy of <Swig Object of type 'OpenMM::NonbondedForce *' at 0x2b2b619787e0> > added to hybrid system\n",
      "INFO:relative:\t_add_nonbonded_force_terms: nonbonded_method is NoCutoff\n",
      "INFO:relative:\t_add_nonbonded_force_terms: 0 added to standard nonbonded force\n",
      "INFO:relative:\t_add_nonbonded_force_terms: 0 added to sterics_custom_nonbonded force\n",
      "INFO:relative:*** Generating RepartitionedHybridTopologyFactory ***\n",
      "INFO:relative:Flattening torsions of unique new/old at lambda = 0/1\n",
      "INFO:relative:Flattening exceptions of unique new/old at lambda = 0/1\n",
      "INFO:relative:Old system forces: dict_keys(['HarmonicBondForce', 'HarmonicAngleForce', 'PeriodicTorsionForce', 'NonbondedForce', 'MonteCarloBarostat'])\n",
      "INFO:relative:New system forces: dict_keys(['HarmonicBondForce', 'HarmonicAngleForce', 'PeriodicTorsionForce', 'NonbondedForce', 'MonteCarloBarostat'])\n",
      "INFO:relative:No unknown forces.\n",
      "INFO:relative:Nonbonded method to be used (i.e. from old system): 0\n",
      "INFO:relative:Adding and mapping old atoms to hybrid system...\n",
      "INFO:relative:Adding and mapping new atoms to hybrid system...\n",
      "INFO:relative:Added MonteCarloBarostat.\n",
      "INFO:relative:getDefaultPeriodicBoxVectors added to hybrid: [Quantity(value=Vec3(x=2.0, y=0.0, z=0.0), unit=nanometer), Quantity(value=Vec3(x=0.0, y=2.0, z=0.0), unit=nanometer), Quantity(value=Vec3(x=0.0, y=0.0, z=2.0), unit=nanometer)]\n",
      "INFO:relative:Determined atom classes.\n",
      "INFO:relative:Generating old system exceptions dict...\n",
      "INFO:relative:Generating new system exceptions dict...\n",
      "INFO:relative:Handling constraints...\n",
      "INFO:relative:Handling virtual sites...\n",
      "INFO:relative:\t_handle_virtual_sites: numVirtualSites: 0\n",
      "INFO:relative:\t_add_nonbonded_force_terms: <openmm.openmm.NonbondedForce; proxy of <Swig Object of type 'OpenMM::NonbondedForce *' at 0x2b2b61969510> > added to hybrid system\n",
      "INFO:relative:\t_add_nonbonded_force_terms: nonbonded_method is NoCutoff\n",
      "INFO:relative:\t_add_nonbonded_force_terms: 0 added to standard nonbonded force\n",
      "INFO:relative:\t_add_nonbonded_force_terms: 0 added to sterics_custom_nonbonded force\n"
     ]
    }
   ],
   "source": [
    "# Generate htf\n",
    "solvent_delivery = PointMutationExecutor(\"../../input/asn.pdb\",\n",
    "                        '1', # First chain is the barstar one\n",
    "                        '2',\n",
    "                        'TYR',\n",
    "                        phase='vacuum',\n",
    "                        forcefield_files=['amber14/protein.ff14SB.xml', 'amber14/tip3p.xml', '/home/zhangi/choderalab/openmmforcefields/amber/ffxml/GLYCAM_06j-1.xml'],\n",
    "                        flatten_torsions=True,\n",
    "                        flatten_exceptions=True,\n",
    "                        generate_unmodified_hybrid_topology_factory=True,\n",
    "                        generate_rest_capable_hybrid_topology_factory=True,\n",
    "                        conduct_endstate_validation=False\n",
    "                        )"
   ]
  },
  {
   "cell_type": "code",
   "execution_count": 11,
   "id": "098b5111",
   "metadata": {},
   "outputs": [],
   "source": [
    "htf = solvent_delivery.get_apo_htf()"
   ]
  },
  {
   "cell_type": "code",
   "execution_count": 12,
   "id": "fe94bb89",
   "metadata": {},
   "outputs": [],
   "source": [
    "atom_map_filename = f'atom_map.png'\n",
    "render_protein_residue_atom_mapping(htf._topology_proposal, atom_map_filename)"
   ]
  },
  {
   "cell_type": "code",
   "execution_count": 13,
   "id": "95e67eed",
   "metadata": {},
   "outputs": [],
   "source": [
    "with open(\"tyr.pdb\", \"w\") as f:\n",
    "    app.PDBFile.writeFile(htf._topology_proposal.new_topology, htf.new_positions(htf.hybrid_positions), f, keepIds=True)"
   ]
  },
  {
   "cell_type": "markdown",
   "id": "65052ad0",
   "metadata": {},
   "source": [
    "## Starting with capped ASN with rotation"
   ]
  },
  {
   "cell_type": "code",
   "execution_count": 14,
   "id": "b43345f3",
   "metadata": {
    "scrolled": true
   },
   "outputs": [
    {
     "name": "stderr",
     "output_type": "stream",
     "text": [
      "DEBUG:openmmforcefields.system_generators:Trying GAFFTemplateGenerator to load gaff-2.11\n",
      "INFO:proposal_generator:\tConducting polymer point mutation proposal...\n",
      "WARNING:atom_mapping:Molecules do not appear to share a common scaffold.\n",
      "WARNING:atom_mapping:Proceeding with direct mapping of molecules, but please check atom mapping and the geometry of the ligands.\n",
      "INFO:proposal_generator:[Atom(name=CB, atomic number=6), Atom(name=CG, atomic number=6), Atom(name=ND2, atomic number=7), Atom(name=OD1, atomic number=8), Atom(name=HB2, atomic number=1), Atom(name=HB3, atomic number=1), Atom(name=HD21, atomic number=1), Atom(name=HD22, atomic number=1)]\n",
      "INFO:proposal_generator:[Atom(name=CB, atomic number=6), Atom(name=CG, atomic number=6), Atom(name=CD1, atomic number=6), Atom(name=CD2, atomic number=6), Atom(name=CE1, atomic number=6), Atom(name=CE2, atomic number=6), Atom(name=CZ, atomic number=6), Atom(name=OH, atomic number=8), Atom(name=HB2, atomic number=1), Atom(name=HB3, atomic number=1), Atom(name=HD1, atomic number=1), Atom(name=HD2, atomic number=1), Atom(name=HE1, atomic number=1), Atom(name=HE2, atomic number=1), Atom(name=HH, atomic number=1)]\n",
      "INFO:geometry:propose: performing forward proposal\n",
      "INFO:geometry:propose: unique new atoms detected; proceeding to _logp_propose...\n",
      "INFO:geometry:Conducting forward proposal...\n",
      "INFO:geometry:Computing proposal order with NetworkX...\n",
      "INFO:geometry:number of atoms to be placed: 15\n",
      "INFO:geometry:Atom index proposal order is [10, 11, 16, 25, 23, 18, 20, 21, 15, 19, 17, 14, 22, 26, 24]\n",
      "INFO:geometry:omitted_bonds: [(20, 23)]\n",
      "INFO:geometry:direction of proposal is forward; creating atoms_with_positions and new positions from old system/topology...\n",
      "INFO:geometry:creating growth system...\n",
      "INFO:geometry:\tcreating bond force...\n",
      "INFO:geometry:\tthere are 17 bonds in reference force.\n",
      "INFO:geometry:\tcreating angle force...\n",
      "INFO:geometry:\tthere are 55 angles in reference force.\n",
      "INFO:geometry:\tcreating torsion force...\n",
      "INFO:geometry:\tcreating extra torsions force...\n",
      "INFO:geometry:\tthere are 86 torsions in reference force.\n",
      "INFO:geometry:\tcreating nonbonded force...\n",
      "INFO:geometry:\t\tgrabbing reference nonbonded method, cutoff, switching function, switching distance...\n",
      "INFO:geometry:\t\tcreating nonbonded exception force (i.e. custom bond for 1,4s)...\n",
      "INFO:geometry:\t\tlooping through exceptions calculating growth indices, and adding appropriate interactions to custom bond force.\n",
      "INFO:geometry:\t\tthere are 158 in the reference Nonbonded force\n",
      "WARNING:geometry:\t\t\t\t\tchiral atom <Atom 7 (CA) of chain 0 residue 1 (TYR)> with neighbors [<Atom 8 (C) of chain 0 residue 1 (TYR)>, <Atom 10 (CB) of chain 0 residue 1 (TYR)>, <Atom 13 (HA) of chain 0 residue 1 (TYR)>, <Atom 6 (N) of chain 0 residue 1 (TYR)>] is surrounded by 3 core neighbors.  omitting chirality bias torsion\n",
      "INFO:geometry:Neglected angle terms : []\n",
      "INFO:geometry:omitted_growth_terms: {'bonds': [(20, 23)], 'angles': [(18, 20, 23), (20, 23, 24), (20, 23, 25), (21, 20, 23)], 'torsions': [(11, 25, 23, 20), (16, 18, 20, 23), (18, 20, 23, 24), (18, 20, 23, 25), (19, 18, 20, 23), (20, 23, 25, 26), (21, 20, 23, 24), (21, 20, 23, 25), (22, 21, 20, 23), (22, 21, 20, 23), (18, 23, 20, 21)], '1,4s': [(11, 20), (16, 23), (19, 23), (22, 23), (18, 24), (21, 24), (18, 25), (21, 25), (20, 26)]}\n",
      "INFO:geometry:extra torsions: {0: (22, 21, 20, 18, [1, Quantity(value=-0.002870001521861454, unit=radian), Quantity(value=1200.0, unit=kilocalorie/mole), 13]), 1: (19, 18, 20, 21, [1, Quantity(value=3.1393768365632813, unit=radian), Quantity(value=1200.0, unit=kilocalorie/mole), 10]), 2: (16, 18, 20, 21, [1, Quantity(value=0.0022213748613295614, unit=radian), Quantity(value=1200.0, unit=kilocalorie/mole), 8]), 3: (19, 18, 16, 17, [1, Quantity(value=3.139771005499866, unit=radian), Quantity(value=1200.0, unit=kilocalorie/mole), 11]), 4: (19, 18, 16, 11, [1, Quantity(value=0.0069177728493503565, unit=radian), Quantity(value=1200.0, unit=kilocalorie/mole), 10]), 5: (20, 18, 16, 17, [1, Quantity(value=-0.0062808214457872324, unit=radian), Quantity(value=1200.0, unit=kilocalorie/mole), 11]), 6: (20, 18, 16, 11, [1, Quantity(value=-3.1391340540962216, unit=radian), Quantity(value=1200.0, unit=kilocalorie/mole), 7]), 7: (18, 16, 11, 25, [1, Quantity(value=3.1373539745559547, unit=radian), Quantity(value=1200.0, unit=kilocalorie/mole), 6]), 8: (18, 16, 11, 10, [1, Quantity(value=-0.012555513663626172, unit=radian), Quantity(value=1200.0, unit=kilocalorie/mole), 6]), 9: (17, 16, 11, 25, [1, Quantity(value=0.004577035070323365, unit=radian), Quantity(value=1200.0, unit=kilocalorie/mole), 11]), 10: (17, 16, 11, 10, [1, Quantity(value=3.137852854030348, unit=radian), Quantity(value=1200.0, unit=kilocalorie/mole), 11]), 11: (24, 23, 25, 11, [1, Quantity(value=-0.006701599266596858, unit=radian), Quantity(value=1200.0, unit=kilocalorie/mole), 15]), 12: (24, 23, 25, 26, [1, Quantity(value=-3.134703221499019, unit=radian), Quantity(value=1200.0, unit=kilocalorie/mole), 15]), 13: (16, 11, 25, 23, [1, Quantity(value=-3.137699428633435, unit=radian), Quantity(value=1200.0, unit=kilocalorie/mole), 5]), 14: (16, 11, 25, 26, [1, Quantity(value=-0.009793556643590051, unit=radian), Quantity(value=1200.0, unit=kilocalorie/mole), 14]), 15: (10, 11, 25, 23, [1, Quantity(value=0.012140215312939961, unit=radian), Quantity(value=1200.0, unit=kilocalorie/mole), 5]), 16: (10, 11, 25, 26, [1, Quantity(value=3.14004608730288, unit=radian), Quantity(value=1200.0, unit=kilocalorie/mole), 14]), 17: (10, 7, 6, 12, [1, Quantity(value=1.047411640674822, unit=radian), Quantity(value=1200.0, unit=kilocalorie/mole), 1])}\n",
      "INFO:geometry:neglected angle terms include []\n",
      "INFO:geometry:log probability choice of torsions and atom order: -22.441111363195862\n",
      "INFO:geometry:creating platform, integrators, and contexts; setting growth parameter\n"
     ]
    },
    {
     "name": "stdout",
     "output_type": "stream",
     "text": [
      "conducting subsequent work with the following platform: CUDA\n"
     ]
    },
    {
     "name": "stderr",
     "output_type": "stream",
     "text": [
      "INFO:geometry:setting atoms_with_positions context new positions\n"
     ]
    },
    {
     "name": "stdout",
     "output_type": "stream",
     "text": [
      "conducting subsequent work with the following platform: CUDA\n"
     ]
    },
    {
     "name": "stderr",
     "output_type": "stream",
     "text": [
      "INFO:geometry:There are 15 new atoms\n",
      "INFO:geometry:\treduced angle potential = 0.6973467298821034.\n",
      "INFO:geometry:\treduced angle potential = 0.09091949900847363.\n",
      "INFO:geometry:\treduced angle potential = 0.12669930112626052.\n",
      "INFO:geometry:\treduced angle potential = 1.6523789137019422.\n",
      "INFO:geometry:\treduced angle potential = 0.1873787322478535.\n",
      "INFO:geometry:\treduced angle potential = 0.26943579967663234.\n",
      "INFO:geometry:\treduced angle potential = 0.026934443833452445.\n",
      "INFO:geometry:\treduced angle potential = 0.03408297002441417.\n",
      "INFO:geometry:\treduced angle potential = 1.1397470652604937.\n",
      "INFO:geometry:\treduced angle potential = 0.025857549613249462.\n",
      "INFO:geometry:\treduced angle potential = 1.9938600928584453.\n",
      "INFO:geometry:\treduced angle potential = 0.6297447247858957.\n",
      "INFO:geometry:\treduced angle potential = 0.17255552325674653.\n",
      "INFO:geometry:\treduced angle potential = 0.37413100616687395.\n",
      "INFO:geometry:\treduced angle potential = 0.3388737834395258.\n",
      "INFO:geometry:\tbeginning construction of no_nonbonded final system...\n",
      "INFO:geometry:\tinitial no-nonbonded final system forces ['HarmonicBondForce', 'HarmonicAngleForce', 'PeriodicTorsionForce', 'NonbondedForce', 'MonteCarloBarostat']\n",
      "INFO:geometry:\tfinal no-nonbonded final system forces dict_keys(['HarmonicBondForce', 'HarmonicAngleForce', 'PeriodicTorsionForce', 'NonbondedForce'])\n",
      "INFO:geometry:\tthere are 17 bond forces in the no-nonbonded final system\n",
      "INFO:geometry:\tthere are 55 angle forces in the no-nonbonded final system\n",
      "INFO:geometry:\tthere are 86 torsion forces in the no-nonbonded final system\n",
      "INFO:geometry:forward final system defined with 0 neglected angles.\n"
     ]
    },
    {
     "name": "stdout",
     "output_type": "stream",
     "text": [
      "conducting subsequent work with the following platform: CUDA\n",
      "conducting subsequent work with the following platform: CUDA\n"
     ]
    },
    {
     "name": "stderr",
     "output_type": "stream",
     "text": [
      "INFO:geometry:total reduced potential before atom placement: 53.05507709020193\n"
     ]
    },
    {
     "name": "stdout",
     "output_type": "stream",
     "text": [
      "conducting subsequent work with the following platform: CUDA\n",
      "conducting subsequent work with the following platform: CUDA\n",
      "conducting subsequent work with the following platform: CUDA\n"
     ]
    },
    {
     "name": "stderr",
     "output_type": "stream",
     "text": [
      "INFO:geometry:total reduced energy added from growth system: 224.0062995090274\n",
      "INFO:geometry:final reduced energy 280.5067876983964\n",
      "INFO:geometry:sum of energies: 277.06137659922933\n",
      "INFO:geometry:magnitude of difference in the energies: 3.4454110991670746\n",
      "INFO:geometry:Final logp_proposal: 121.20369480233889\n",
      "INFO:geometry:logp_reverse: performing reverse proposal\n",
      "INFO:geometry:logp_reverse: unique new atoms detected; proceeding to _logp_propose...\n",
      "INFO:geometry:Conducting forward proposal...\n",
      "INFO:geometry:Computing proposal order with NetworkX...\n",
      "INFO:geometry:number of atoms to be placed: 8\n",
      "INFO:geometry:Atom index proposal order is [10, 11, 12, 13, 18, 17, 16, 19]\n",
      "INFO:geometry:omitted_bonds: []\n",
      "INFO:geometry:direction of proposal is reverse; creating atoms_with_positions from old system/topology\n",
      "INFO:geometry:creating growth system...\n",
      "INFO:geometry:\tcreating bond force...\n"
     ]
    },
    {
     "name": "stdout",
     "output_type": "stream",
     "text": [
      "added energy components: [('CustomBondForce', 3.836082244101505), ('CustomAngleForce', 163.21461513507583), ('CustomTorsionForce', 13.979801356066046), ('CustomBondForce', 42.975800773784)]\n"
     ]
    },
    {
     "name": "stderr",
     "output_type": "stream",
     "text": [
      "INFO:geometry:\tthere are 12 bonds in reference force.\n",
      "INFO:geometry:\tcreating angle force...\n",
      "INFO:geometry:\tthere are 42 angles in reference force.\n",
      "INFO:geometry:\tcreating torsion force...\n",
      "INFO:geometry:\tcreating extra torsions force...\n",
      "INFO:geometry:\tthere are 64 torsions in reference force.\n",
      "INFO:geometry:\tcreating nonbonded force...\n",
      "INFO:geometry:\t\tgrabbing reference nonbonded method, cutoff, switching function, switching distance...\n",
      "INFO:geometry:\t\tcreating nonbonded exception force (i.e. custom bond for 1,4s)...\n",
      "INFO:geometry:\t\tlooping through exceptions calculating growth indices, and adding appropriate interactions to custom bond force.\n",
      "INFO:geometry:\t\tthere are 118 in the reference Nonbonded force\n",
      "WARNING:geometry:\t\t\t\t\tchiral atom <Atom 7 (CA) of chain 0 residue 1 (ASN)> with neighbors [<Atom 8 (C) of chain 0 residue 1 (ASN)>, <Atom 10 (CB) of chain 0 residue 1 (ASN)>, <Atom 15 (HA) of chain 0 residue 1 (ASN)>, <Atom 6 (N) of chain 0 residue 1 (ASN)>] is surrounded by 3 core neighbors.  omitting chirality bias torsion\n",
      "INFO:geometry:Neglected angle terms : []\n",
      "INFO:geometry:omitted_growth_terms: {'bonds': [], 'angles': [], 'torsions': [], '1,4s': []}\n",
      "INFO:geometry:extra torsions: {0: (14, 6, 7, 10, [1, Quantity(value=1.0033542268906723, unit=radian), Quantity(value=1200.0, unit=kilocalorie/mole), 1]), 1: (19, 12, 11, 10, [1, Quantity(value=-3.0613628096248338, unit=radian), Quantity(value=1200.0, unit=kilocalorie/mole), 8]), 2: (19, 12, 11, 13, [1, Quantity(value=0.1006962644006828, unit=radian), Quantity(value=1200.0, unit=kilocalorie/mole), 8]), 3: (18, 12, 11, 10, [1, Quantity(value=-0.163557181151619, unit=radian), Quantity(value=1200.0, unit=kilocalorie/mole), 5]), 4: (18, 12, 11, 13, [1, Quantity(value=2.998501892873897, unit=radian), Quantity(value=1200.0, unit=kilocalorie/mole), 5])}\n",
      "INFO:geometry:neglected angle terms include []\n",
      "INFO:geometry:log probability choice of torsions and atom order: -10.247927958806518\n",
      "INFO:geometry:creating platform, integrators, and contexts; setting growth parameter\n"
     ]
    },
    {
     "name": "stdout",
     "output_type": "stream",
     "text": [
      "conducting subsequent work with the following platform: CUDA\n"
     ]
    },
    {
     "name": "stderr",
     "output_type": "stream",
     "text": [
      "INFO:geometry:setting atoms_with_positions context old positions\n"
     ]
    },
    {
     "name": "stdout",
     "output_type": "stream",
     "text": [
      "conducting subsequent work with the following platform: CUDA\n"
     ]
    },
    {
     "name": "stderr",
     "output_type": "stream",
     "text": [
      "INFO:geometry:There are 8 new atoms\n",
      "INFO:geometry:\treduced angle potential = 0.005018214645674672.\n",
      "INFO:geometry:\treduced angle potential = 1.098919247319801.\n",
      "INFO:geometry:\treduced angle potential = 0.17951645488785714.\n",
      "INFO:geometry:\treduced angle potential = 0.13891639022335175.\n",
      "INFO:geometry:\treduced angle potential = 1.4813521037435904.\n",
      "INFO:geometry:\treduced angle potential = 0.20354320332557427.\n",
      "INFO:geometry:\treduced angle potential = 0.04328049563736993.\n",
      "INFO:geometry:\treduced angle potential = 0.24121972782420573.\n",
      "INFO:geometry:\tbeginning construction of no_nonbonded final system...\n",
      "INFO:geometry:\tinitial no-nonbonded final system forces ['HarmonicBondForce', 'HarmonicAngleForce', 'PeriodicTorsionForce', 'NonbondedForce', 'MonteCarloBarostat']\n",
      "INFO:geometry:\tfinal no-nonbonded final system forces dict_keys(['HarmonicBondForce', 'HarmonicAngleForce', 'PeriodicTorsionForce', 'NonbondedForce'])\n",
      "INFO:geometry:\tthere are 12 bond forces in the no-nonbonded final system\n",
      "INFO:geometry:\tthere are 42 angle forces in the no-nonbonded final system\n",
      "INFO:geometry:\tthere are 64 torsion forces in the no-nonbonded final system\n",
      "INFO:geometry:reverse final system defined with 0 neglected angles.\n"
     ]
    },
    {
     "name": "stdout",
     "output_type": "stream",
     "text": [
      "conducting subsequent work with the following platform: CUDA\n",
      "conducting subsequent work with the following platform: CUDA\n"
     ]
    },
    {
     "name": "stderr",
     "output_type": "stream",
     "text": [
      "INFO:geometry:total reduced potential before atom placement: 53.05507709020193\n"
     ]
    },
    {
     "name": "stdout",
     "output_type": "stream",
     "text": [
      "conducting subsequent work with the following platform: CUDA\n",
      "conducting subsequent work with the following platform: CUDA\n",
      "conducting subsequent work with the following platform: CUDA\n"
     ]
    },
    {
     "name": "stderr",
     "output_type": "stream",
     "text": [
      "INFO:geometry:total reduced energy added from growth system: -96.47216854010397\n",
      "INFO:geometry:final reduced energy -43.41710055497339\n",
      "INFO:geometry:sum of energies: -43.41709144990204\n",
      "INFO:geometry:magnitude of difference in the energies: 9.105071356430017e-06\n",
      "INFO:geometry:Final logp_proposal: -1596.4499458050886\n",
      "INFO:setup:charge diff: 0\n",
      "INFO:relative:*** Generating vanilla HybridTopologyFactory ***\n",
      "INFO:relative:Beginning nonbonded method, total particle, barostat, and exceptions retrieval...\n",
      "INFO:relative:Flattening torsions of unique new/old at lambda = 0/1\n",
      "INFO:relative:Flattening exceptions of unique new/old at lambda = 0/1\n",
      "INFO:relative:Old system forces: dict_keys(['HarmonicBondForce', 'HarmonicAngleForce', 'PeriodicTorsionForce', 'NonbondedForce', 'MonteCarloBarostat'])\n",
      "INFO:relative:New system forces: dict_keys(['HarmonicBondForce', 'HarmonicAngleForce', 'PeriodicTorsionForce', 'NonbondedForce', 'MonteCarloBarostat'])\n",
      "INFO:relative:No unknown forces.\n",
      "INFO:relative:Nonbonded method to be used (i.e. from old system): 0\n",
      "INFO:relative:Adding and mapping old atoms to hybrid system...\n",
      "INFO:relative:Adding and mapping new atoms to hybrid system...\n",
      "INFO:relative:Added MonteCarloBarostat.\n",
      "INFO:relative:getDefaultPeriodicBoxVectors added to hybrid: [Quantity(value=Vec3(x=2.0, y=0.0, z=0.0), unit=nanometer), Quantity(value=Vec3(x=0.0, y=2.0, z=0.0), unit=nanometer), Quantity(value=Vec3(x=0.0, y=0.0, z=2.0), unit=nanometer)]\n",
      "INFO:relative:Determined atom classes.\n"
     ]
    },
    {
     "name": "stdout",
     "output_type": "stream",
     "text": [
      "added energy components: [('CustomBondForce', 1.2054676380438076), ('CustomAngleForce', 5.979393181872183), ('CustomTorsionForce', 23.47187648244435), ('CustomBondForce', -127.12890584246428)]\n"
     ]
    },
    {
     "name": "stderr",
     "output_type": "stream",
     "text": [
      "INFO:relative:Generating old system exceptions dict...\n",
      "INFO:relative:Generating new system exceptions dict...\n",
      "INFO:relative:Handling constraints...\n",
      "INFO:relative:Handling virtual sites...\n",
      "INFO:relative:\t_handle_virtual_sites: numVirtualSites: 0\n",
      "INFO:relative:Adding bond force terms...\n",
      "INFO:relative:Adding angle force terms...\n",
      "INFO:relative:Adding torsion force terms...\n",
      "INFO:relative:Adding nonbonded force terms...\n",
      "INFO:relative:\t_add_nonbonded_force_terms: <openmm.openmm.NonbondedForce; proxy of <Swig Object of type 'OpenMM::NonbondedForce *' at 0x2b2b5f37e510> > added to hybrid system\n",
      "INFO:relative:\t_add_nonbonded_force_terms: nonbonded_method is NoCutoff\n",
      "INFO:relative:\t_add_nonbonded_force_terms: 0 added to standard nonbonded force\n",
      "INFO:relative:\t_add_nonbonded_force_terms: 0 added to sterics_custom_nonbonded force\n",
      "INFO:relative:\t_add_nonbonded_force_terms: <openmm.openmm.CustomNonbondedForce; proxy of <Swig Object of type 'OpenMM::CustomNonbondedForce *' at 0x2b2b5f37e270> > added to hybrid system\n",
      "INFO:relative:Handling harmonic bonds...\n",
      "INFO:relative:\thandle_harmonic_bonds: looping through old_system to add relevant terms...\n",
      "INFO:relative:\thandle_harmonic_bonds: looping through new_system to add relevant terms...\n",
      "INFO:relative:Handling harmonic angles...\n",
      "INFO:relative:\thandle_harmonic_angles: looping through old_system to add relevant terms...\n",
      "INFO:relative:\thandle_harmonic_angles: looping through new_system to add relevant terms...\n",
      "INFO:relative:Handling torsion forces...\n",
      "INFO:relative:\thandle_periodic_torsion_forces: looping through old_system to add relevant terms...\n",
      "INFO:relative:\thandle_periodic_torsion_forces: looping through new_system to add relevant terms...\n",
      "INFO:relative:Handling nonbonded forces...\n",
      "INFO:relative:\thandle_nonbonded: looping through all particles in hybrid...\n",
      "INFO:relative:\thandle_nonbonded: Handling Interaction Groups...\n",
      "INFO:relative:\thandle_nonbonded: Handling Hybrid Exceptions...\n",
      "INFO:relative:\thandle_nonbonded: Handling Original Exceptions...\n",
      "INFO:relative:Handling unique_new/old interaction exceptions...\n",
      "INFO:relative:There are old or new system exceptions...proceeding.\n",
      "INFO:relative:*** Generating RepartitionedHybridTopologyFactory ***\n",
      "INFO:relative:Flattening torsions of unique new/old at lambda = 0/1\n",
      "INFO:relative:Flattening exceptions of unique new/old at lambda = 0/1\n",
      "INFO:relative:Old system forces: dict_keys(['HarmonicBondForce', 'HarmonicAngleForce', 'PeriodicTorsionForce', 'NonbondedForce', 'MonteCarloBarostat'])\n",
      "INFO:relative:New system forces: dict_keys(['HarmonicBondForce', 'HarmonicAngleForce', 'PeriodicTorsionForce', 'NonbondedForce', 'MonteCarloBarostat'])\n",
      "INFO:relative:No unknown forces.\n",
      "INFO:relative:Nonbonded method to be used (i.e. from old system): 0\n",
      "INFO:relative:Adding and mapping old atoms to hybrid system...\n",
      "INFO:relative:Adding and mapping new atoms to hybrid system...\n",
      "INFO:relative:Added MonteCarloBarostat.\n",
      "INFO:relative:getDefaultPeriodicBoxVectors added to hybrid: [Quantity(value=Vec3(x=2.0, y=0.0, z=0.0), unit=nanometer), Quantity(value=Vec3(x=0.0, y=2.0, z=0.0), unit=nanometer), Quantity(value=Vec3(x=0.0, y=0.0, z=2.0), unit=nanometer)]\n",
      "INFO:relative:Determined atom classes.\n",
      "INFO:relative:Generating old system exceptions dict...\n",
      "INFO:relative:Generating new system exceptions dict...\n",
      "INFO:relative:Handling constraints...\n",
      "INFO:relative:Handling virtual sites...\n",
      "INFO:relative:\t_handle_virtual_sites: numVirtualSites: 0\n",
      "INFO:relative:\t_add_nonbonded_force_terms: <openmm.openmm.NonbondedForce; proxy of <Swig Object of type 'OpenMM::NonbondedForce *' at 0x2b2b5f35c390> > added to hybrid system\n",
      "INFO:relative:\t_add_nonbonded_force_terms: nonbonded_method is NoCutoff\n",
      "INFO:relative:\t_add_nonbonded_force_terms: 0 added to standard nonbonded force\n",
      "INFO:relative:\t_add_nonbonded_force_terms: 0 added to sterics_custom_nonbonded force\n",
      "INFO:relative:*** Generating RepartitionedHybridTopologyFactory ***\n",
      "INFO:relative:Flattening torsions of unique new/old at lambda = 0/1\n",
      "INFO:relative:Flattening exceptions of unique new/old at lambda = 0/1\n",
      "INFO:relative:Old system forces: dict_keys(['HarmonicBondForce', 'HarmonicAngleForce', 'PeriodicTorsionForce', 'NonbondedForce', 'MonteCarloBarostat'])\n",
      "INFO:relative:New system forces: dict_keys(['HarmonicBondForce', 'HarmonicAngleForce', 'PeriodicTorsionForce', 'NonbondedForce', 'MonteCarloBarostat'])\n",
      "INFO:relative:No unknown forces.\n",
      "INFO:relative:Nonbonded method to be used (i.e. from old system): 0\n",
      "INFO:relative:Adding and mapping old atoms to hybrid system...\n",
      "INFO:relative:Adding and mapping new atoms to hybrid system...\n",
      "INFO:relative:Added MonteCarloBarostat.\n",
      "INFO:relative:getDefaultPeriodicBoxVectors added to hybrid: [Quantity(value=Vec3(x=2.0, y=0.0, z=0.0), unit=nanometer), Quantity(value=Vec3(x=0.0, y=2.0, z=0.0), unit=nanometer), Quantity(value=Vec3(x=0.0, y=0.0, z=2.0), unit=nanometer)]\n",
      "INFO:relative:Determined atom classes.\n",
      "INFO:relative:Generating old system exceptions dict...\n",
      "INFO:relative:Generating new system exceptions dict...\n",
      "INFO:relative:Handling constraints...\n",
      "INFO:relative:Handling virtual sites...\n",
      "INFO:relative:\t_handle_virtual_sites: numVirtualSites: 0\n",
      "INFO:relative:\t_add_nonbonded_force_terms: <openmm.openmm.NonbondedForce; proxy of <Swig Object of type 'OpenMM::NonbondedForce *' at 0x2b2b5f389d50> > added to hybrid system\n",
      "INFO:relative:\t_add_nonbonded_force_terms: nonbonded_method is NoCutoff\n",
      "INFO:relative:\t_add_nonbonded_force_terms: 0 added to standard nonbonded force\n",
      "INFO:relative:\t_add_nonbonded_force_terms: 0 added to sterics_custom_nonbonded force\n"
     ]
    }
   ],
   "source": [
    "# Generate htf\n",
    "solvent_delivery = PointMutationExecutor(\"../../input/asn_rotated.pdb\",\n",
    "                        '1', # First chain is the barstar one\n",
    "                        '2',\n",
    "                        'TYR',\n",
    "                        phase='vacuum',\n",
    "                        forcefield_files=['amber14/protein.ff14SB.xml', 'amber14/tip3p.xml', '/home/zhangi/choderalab/openmmforcefields/amber/ffxml/GLYCAM_06j-1.xml'],\n",
    "                        flatten_torsions=True,\n",
    "                        flatten_exceptions=True,\n",
    "                        generate_unmodified_hybrid_topology_factory=True,\n",
    "                        generate_rest_capable_hybrid_topology_factory=True,\n",
    "                        conduct_endstate_validation=False\n",
    "                        )"
   ]
  },
  {
   "cell_type": "code",
   "execution_count": 15,
   "id": "a4dd40f9",
   "metadata": {},
   "outputs": [],
   "source": [
    "htf = solvent_delivery.get_apo_htf()"
   ]
  },
  {
   "cell_type": "code",
   "execution_count": 16,
   "id": "d68a7230",
   "metadata": {},
   "outputs": [],
   "source": [
    "atom_map_filename = f'atom_map_rotated.png'\n",
    "render_protein_residue_atom_mapping(htf._topology_proposal, atom_map_filename)"
   ]
  },
  {
   "cell_type": "code",
   "execution_count": 17,
   "id": "e89760c6",
   "metadata": {},
   "outputs": [],
   "source": [
    "with open(\"tyr_rotated.pdb\", \"w\") as f:\n",
    "    app.PDBFile.writeFile(htf._topology_proposal.new_topology, htf.new_positions(htf.hybrid_positions), f, keepIds=True)"
   ]
  },
  {
   "cell_type": "code",
   "execution_count": null,
   "id": "7fe7e7ce",
   "metadata": {},
   "outputs": [],
   "source": []
  },
  {
   "cell_type": "markdown",
   "id": "e9b898af",
   "metadata": {},
   "source": [
    "## Starting with N501Y capped peptide without rotation"
   ]
  },
  {
   "cell_type": "code",
   "execution_count": 23,
   "id": "e4c54921",
   "metadata": {
    "scrolled": true
   },
   "outputs": [
    {
     "name": "stderr",
     "output_type": "stream",
     "text": [
      "DEBUG:openmmforcefields.system_generators:Trying GAFFTemplateGenerator to load gaff-2.11\n",
      "INFO:proposal_generator:\tConducting polymer point mutation proposal...\n",
      "WARNING:atom_mapping:Molecules do not appear to share a common scaffold.\n",
      "WARNING:atom_mapping:Proceeding with direct mapping of molecules, but please check atom mapping and the geometry of the ligands.\n",
      "INFO:proposal_generator:[Atom(name=CB, atomic number=6), Atom(name=CG, atomic number=6), Atom(name=ND2, atomic number=7), Atom(name=OD1, atomic number=8), Atom(name=HB2, atomic number=1), Atom(name=HB3, atomic number=1), Atom(name=HD21, atomic number=1), Atom(name=HD22, atomic number=1)]\n",
      "INFO:proposal_generator:[Atom(name=CB, atomic number=6), Atom(name=CG, atomic number=6), Atom(name=CD1, atomic number=6), Atom(name=CD2, atomic number=6), Atom(name=CE1, atomic number=6), Atom(name=CE2, atomic number=6), Atom(name=CZ, atomic number=6), Atom(name=OH, atomic number=8), Atom(name=HB2, atomic number=1), Atom(name=HB3, atomic number=1), Atom(name=HD1, atomic number=1), Atom(name=HD2, atomic number=1), Atom(name=HE1, atomic number=1), Atom(name=HE2, atomic number=1), Atom(name=HH, atomic number=1)]\n",
      "INFO:geometry:propose: performing forward proposal\n",
      "INFO:geometry:propose: unique new atoms detected; proceeding to _logp_propose...\n",
      "INFO:geometry:Conducting forward proposal...\n",
      "INFO:geometry:Computing proposal order with NetworkX...\n",
      "INFO:geometry:number of atoms to be placed: 15\n",
      "INFO:geometry:Atom index proposal order is [55, 56, 70, 61, 63, 68, 65, 66, 60, 67, 71, 69, 64, 62, 59]\n",
      "INFO:geometry:omitted_bonds: [(65, 68)]\n",
      "INFO:geometry:direction of proposal is forward; creating atoms_with_positions and new positions from old system/topology...\n",
      "INFO:geometry:creating growth system...\n",
      "INFO:geometry:\tcreating bond force...\n",
      "INFO:geometry:\tthere are 56 bonds in reference force.\n",
      "INFO:geometry:\tcreating angle force...\n",
      "INFO:geometry:\tthere are 194 angles in reference force.\n",
      "INFO:geometry:\tcreating torsion force...\n",
      "INFO:geometry:\tcreating extra torsions force...\n",
      "INFO:geometry:\tthere are 350 torsions in reference force.\n",
      "INFO:geometry:\tcreating nonbonded force...\n",
      "INFO:geometry:\t\tgrabbing reference nonbonded method, cutoff, switching function, switching distance...\n",
      "INFO:geometry:\t\tcreating nonbonded exception force (i.e. custom bond for 1,4s)...\n",
      "INFO:geometry:\t\tlooping through exceptions calculating growth indices, and adding appropriate interactions to custom bond force.\n",
      "INFO:geometry:\t\tthere are 573 in the reference Nonbonded force\n",
      "WARNING:geometry:\t\t\t\t\tchiral atom <Atom 52 (CA) of chain 0 residue 4 (TYR)> with neighbors [<Atom 53 (C) of chain 0 residue 4 (TYR)>, <Atom 55 (CB) of chain 0 residue 4 (TYR)>, <Atom 58 (HA) of chain 0 residue 4 (TYR)>, <Atom 51 (N) of chain 0 residue 4 (TYR)>] is surrounded by 3 core neighbors.  omitting chirality bias torsion\n",
      "INFO:geometry:Neglected angle terms : []\n",
      "INFO:geometry:omitted_growth_terms: {'bonds': [(65, 68)], 'angles': [(63, 65, 68), (65, 68, 69), (65, 68, 70), (66, 65, 68)], 'torsions': [(56, 70, 68, 65), (61, 63, 65, 68), (63, 65, 68, 69), (63, 65, 68, 70), (64, 63, 65, 68), (65, 68, 70, 71), (66, 65, 68, 69), (66, 65, 68, 70), (67, 66, 65, 68), (67, 66, 65, 68), (63, 68, 65, 66)], '1,4s': [(56, 65), (61, 68), (64, 68), (67, 68), (63, 69), (66, 69), (63, 70), (66, 70), (65, 71)]}\n",
      "INFO:geometry:extra torsions: {0: (67, 66, 65, 63, [1, Quantity(value=-0.002870001521861454, unit=radian), Quantity(value=1200.0, unit=kilocalorie/mole), 10]), 1: (64, 63, 65, 66, [1, Quantity(value=3.1393768365632813, unit=radian), Quantity(value=1200.0, unit=kilocalorie/mole), 13]), 2: (61, 63, 65, 66, [1, Quantity(value=0.0022213748613295614, unit=radian), Quantity(value=1200.0, unit=kilocalorie/mole), 8]), 3: (64, 63, 61, 62, [1, Quantity(value=3.139771005499866, unit=radian), Quantity(value=1200.0, unit=kilocalorie/mole), 14]), 4: (64, 63, 61, 56, [1, Quantity(value=0.0069177728493503565, unit=radian), Quantity(value=1200.0, unit=kilocalorie/mole), 13]), 5: (65, 63, 61, 62, [1, Quantity(value=-0.0062808214457872324, unit=radian), Quantity(value=1200.0, unit=kilocalorie/mole), 14]), 6: (65, 63, 61, 56, [1, Quantity(value=-3.1391340540962216, unit=radian), Quantity(value=1200.0, unit=kilocalorie/mole), 7]), 7: (63, 61, 56, 70, [1, Quantity(value=3.1373539745559547, unit=radian), Quantity(value=1200.0, unit=kilocalorie/mole), 5]), 8: (63, 61, 56, 55, [1, Quantity(value=-0.012555513663626172, unit=radian), Quantity(value=1200.0, unit=kilocalorie/mole), 5]), 9: (62, 61, 56, 70, [1, Quantity(value=0.004577035070323365, unit=radian), Quantity(value=1200.0, unit=kilocalorie/mole), 14]), 10: (62, 61, 56, 55, [1, Quantity(value=3.137852854030348, unit=radian), Quantity(value=1200.0, unit=kilocalorie/mole), 14]), 11: (69, 68, 70, 56, [1, Quantity(value=-0.006701599266596858, unit=radian), Quantity(value=1200.0, unit=kilocalorie/mole), 12]), 12: (69, 68, 70, 71, [1, Quantity(value=-3.134703221499019, unit=radian), Quantity(value=1200.0, unit=kilocalorie/mole), 12]), 13: (61, 56, 70, 68, [1, Quantity(value=-3.137699428633435, unit=radian), Quantity(value=1200.0, unit=kilocalorie/mole), 6]), 14: (61, 56, 70, 71, [1, Quantity(value=-0.009793556643590051, unit=radian), Quantity(value=1200.0, unit=kilocalorie/mole), 11]), 15: (55, 56, 70, 68, [1, Quantity(value=0.012140215312939961, unit=radian), Quantity(value=1200.0, unit=kilocalorie/mole), 6]), 16: (55, 56, 70, 71, [1, Quantity(value=3.14004608730288, unit=radian), Quantity(value=1200.0, unit=kilocalorie/mole), 11]), 17: (55, 52, 51, 57, [1, Quantity(value=1.047411640674822, unit=radian), Quantity(value=1200.0, unit=kilocalorie/mole), 1])}\n",
      "INFO:geometry:neglected angle terms include []\n",
      "INFO:geometry:log probability choice of torsions and atom order: -23.531274597377447\n",
      "INFO:geometry:creating platform, integrators, and contexts; setting growth parameter\n"
     ]
    },
    {
     "name": "stdout",
     "output_type": "stream",
     "text": [
      "conducting subsequent work with the following platform: CUDA\n"
     ]
    },
    {
     "name": "stderr",
     "output_type": "stream",
     "text": [
      "INFO:geometry:setting atoms_with_positions context new positions\n"
     ]
    },
    {
     "name": "stdout",
     "output_type": "stream",
     "text": [
      "conducting subsequent work with the following platform: CUDA\n"
     ]
    },
    {
     "name": "stderr",
     "output_type": "stream",
     "text": [
      "INFO:geometry:There are 15 new atoms\n",
      "INFO:geometry:\treduced angle potential = 0.00880290711346071.\n",
      "INFO:geometry:\treduced angle potential = 0.1826157682696348.\n",
      "INFO:geometry:\treduced angle potential = 0.11654379106249628.\n",
      "INFO:geometry:\treduced angle potential = 0.0069094687466879.\n",
      "INFO:geometry:\treduced angle potential = 0.7794583004541663.\n",
      "INFO:geometry:\treduced angle potential = 0.0057336332645933005.\n",
      "INFO:geometry:\treduced angle potential = 0.2273282981588022.\n",
      "INFO:geometry:\treduced angle potential = 0.06330554619944964.\n",
      "INFO:geometry:\treduced angle potential = 0.7082230199452253.\n",
      "INFO:geometry:\treduced angle potential = 0.03784351300914584.\n",
      "INFO:geometry:\treduced angle potential = 1.2348595041903925.\n",
      "INFO:geometry:\treduced angle potential = 0.13727806910106552.\n",
      "INFO:geometry:\treduced angle potential = 0.25620661931018185.\n",
      "INFO:geometry:\treduced angle potential = 0.2176457679125656.\n",
      "INFO:geometry:\treduced angle potential = 1.7702664468070088.\n",
      "INFO:geometry:\tbeginning construction of no_nonbonded final system...\n",
      "INFO:geometry:\tinitial no-nonbonded final system forces ['HarmonicBondForce', 'HarmonicAngleForce', 'PeriodicTorsionForce', 'NonbondedForce', 'MonteCarloBarostat']\n",
      "INFO:geometry:\tfinal no-nonbonded final system forces dict_keys(['HarmonicBondForce', 'HarmonicAngleForce', 'PeriodicTorsionForce', 'NonbondedForce'])\n",
      "INFO:geometry:\tthere are 56 bond forces in the no-nonbonded final system\n",
      "INFO:geometry:\tthere are 194 angle forces in the no-nonbonded final system\n",
      "INFO:geometry:\tthere are 350 torsion forces in the no-nonbonded final system\n",
      "INFO:geometry:forward final system defined with 0 neglected angles.\n"
     ]
    },
    {
     "name": "stdout",
     "output_type": "stream",
     "text": [
      "conducting subsequent work with the following platform: CUDA\n",
      "conducting subsequent work with the following platform: CUDA\n"
     ]
    },
    {
     "name": "stderr",
     "output_type": "stream",
     "text": [
      "INFO:geometry:total reduced potential before atom placement: 161.01021349938915\n"
     ]
    },
    {
     "name": "stdout",
     "output_type": "stream",
     "text": [
      "conducting subsequent work with the following platform: CUDA\n",
      "conducting subsequent work with the following platform: CUDA\n",
      "conducting subsequent work with the following platform: CUDA\n"
     ]
    },
    {
     "name": "stderr",
     "output_type": "stream",
     "text": [
      "INFO:geometry:total reduced energy added from growth system: 528.0564240696013\n",
      "INFO:geometry:final reduced energy 691.1242647162026\n",
      "INFO:geometry:sum of energies: 689.0666375689905\n",
      "INFO:geometry:magnitude of difference in the energies: 2.057627147212088\n",
      "INFO:geometry:Final logp_proposal: 126.35761571252442\n",
      "INFO:geometry:logp_reverse: performing reverse proposal\n",
      "INFO:geometry:logp_reverse: unique new atoms detected; proceeding to _logp_propose...\n",
      "INFO:geometry:Conducting forward proposal...\n",
      "INFO:geometry:Computing proposal order with NetworkX...\n"
     ]
    },
    {
     "name": "stdout",
     "output_type": "stream",
     "text": [
      "added energy components: [('CustomBondForce', 4.463463260352032), ('CustomAngleForce', 351.4719145889523), ('CustomTorsionForce', 13.551878722101938), ('CustomBondForce', 158.56916749819487)]\n"
     ]
    },
    {
     "name": "stderr",
     "output_type": "stream",
     "text": [
      "INFO:geometry:number of atoms to be placed: 8\n",
      "INFO:geometry:Atom index proposal order is [55, 56, 58, 57, 61, 62, 64, 63]\n",
      "INFO:geometry:omitted_bonds: []\n",
      "INFO:geometry:direction of proposal is reverse; creating atoms_with_positions from old system/topology\n",
      "INFO:geometry:creating growth system...\n",
      "INFO:geometry:\tcreating bond force...\n",
      "INFO:geometry:\tthere are 51 bonds in reference force.\n",
      "INFO:geometry:\tcreating angle force...\n",
      "INFO:geometry:\tthere are 181 angles in reference force.\n",
      "INFO:geometry:\tcreating torsion force...\n",
      "INFO:geometry:\tcreating extra torsions force...\n",
      "INFO:geometry:\tthere are 328 torsions in reference force.\n",
      "INFO:geometry:\tcreating nonbonded force...\n",
      "INFO:geometry:\t\tgrabbing reference nonbonded method, cutoff, switching function, switching distance...\n",
      "INFO:geometry:\t\tcreating nonbonded exception force (i.e. custom bond for 1,4s)...\n",
      "INFO:geometry:\t\tlooping through exceptions calculating growth indices, and adding appropriate interactions to custom bond force.\n",
      "INFO:geometry:\t\tthere are 533 in the reference Nonbonded force\n",
      "WARNING:geometry:\t\t\t\t\tchiral atom <Atom 52 (CA) of chain 0 residue 4 (ASN)> with neighbors [<Atom 53 (C) of chain 0 residue 4 (ASN)>, <Atom 55 (CB) of chain 0 residue 4 (ASN)>, <Atom 60 (HA) of chain 0 residue 4 (ASN)>, <Atom 51 (N) of chain 0 residue 4 (ASN)>] is surrounded by 3 core neighbors.  omitting chirality bias torsion\n",
      "INFO:geometry:Neglected angle terms : []\n",
      "INFO:geometry:omitted_growth_terms: {'bonds': [], 'angles': [], 'torsions': [], '1,4s': []}\n",
      "INFO:geometry:extra torsions: {0: (59, 51, 52, 55, [1, Quantity(value=1.0033542268906723, unit=radian), Quantity(value=1200.0, unit=kilocalorie/mole), 1]), 1: (64, 57, 56, 55, [1, Quantity(value=-3.0613628096248338, unit=radian), Quantity(value=1200.0, unit=kilocalorie/mole), 7]), 2: (64, 57, 56, 58, [1, Quantity(value=0.1006962644006828, unit=radian), Quantity(value=1200.0, unit=kilocalorie/mole), 7]), 3: (63, 57, 56, 55, [1, Quantity(value=-0.163557181151619, unit=radian), Quantity(value=1200.0, unit=kilocalorie/mole), 8]), 4: (63, 57, 56, 58, [1, Quantity(value=2.998501892873897, unit=radian), Quantity(value=1200.0, unit=kilocalorie/mole), 8])}\n",
      "INFO:geometry:neglected angle terms include []\n",
      "INFO:geometry:log probability choice of torsions and atom order: -9.400630098419315\n",
      "INFO:geometry:creating platform, integrators, and contexts; setting growth parameter\n"
     ]
    },
    {
     "name": "stdout",
     "output_type": "stream",
     "text": [
      "conducting subsequent work with the following platform: CUDA\n"
     ]
    },
    {
     "name": "stderr",
     "output_type": "stream",
     "text": [
      "INFO:geometry:setting atoms_with_positions context old positions\n"
     ]
    },
    {
     "name": "stdout",
     "output_type": "stream",
     "text": [
      "conducting subsequent work with the following platform: CUDA\n"
     ]
    },
    {
     "name": "stderr",
     "output_type": "stream",
     "text": [
      "INFO:geometry:There are 8 new atoms\n",
      "INFO:geometry:\treduced angle potential = 0.01875112484757164.\n",
      "INFO:geometry:\treduced angle potential = 0.5604275396387628.\n",
      "INFO:geometry:\treduced angle potential = 0.07650810571585355.\n",
      "INFO:geometry:\treduced angle potential = 0.167841485694284.\n",
      "INFO:geometry:\treduced angle potential = 0.05080755139859599.\n",
      "INFO:geometry:\treduced angle potential = 0.11607969104718184.\n",
      "INFO:geometry:\treduced angle potential = 0.17311349100355702.\n",
      "INFO:geometry:\treduced angle potential = 1.3306562413993697.\n",
      "INFO:geometry:\tbeginning construction of no_nonbonded final system...\n",
      "INFO:geometry:\tinitial no-nonbonded final system forces ['HarmonicBondForce', 'HarmonicAngleForce', 'PeriodicTorsionForce', 'NonbondedForce', 'MonteCarloBarostat']\n",
      "INFO:geometry:\tfinal no-nonbonded final system forces dict_keys(['HarmonicBondForce', 'HarmonicAngleForce', 'PeriodicTorsionForce', 'NonbondedForce'])\n",
      "INFO:geometry:\tthere are 51 bond forces in the no-nonbonded final system\n",
      "INFO:geometry:\tthere are 181 angle forces in the no-nonbonded final system\n",
      "INFO:geometry:\tthere are 328 torsion forces in the no-nonbonded final system\n",
      "INFO:geometry:reverse final system defined with 0 neglected angles.\n"
     ]
    },
    {
     "name": "stdout",
     "output_type": "stream",
     "text": [
      "conducting subsequent work with the following platform: CUDA\n",
      "conducting subsequent work with the following platform: CUDA\n"
     ]
    },
    {
     "name": "stderr",
     "output_type": "stream",
     "text": [
      "INFO:geometry:total reduced potential before atom placement: 161.01021349938915\n"
     ]
    },
    {
     "name": "stdout",
     "output_type": "stream",
     "text": [
      "conducting subsequent work with the following platform: CUDA\n",
      "conducting subsequent work with the following platform: CUDA\n",
      "conducting subsequent work with the following platform: CUDA\n"
     ]
    },
    {
     "name": "stderr",
     "output_type": "stream",
     "text": [
      "INFO:geometry:total reduced energy added from growth system: -78.5297172544697\n",
      "INFO:geometry:final reduced energy 82.48048651296595\n",
      "INFO:geometry:sum of energies: 82.48049624491945\n",
      "INFO:geometry:magnitude of difference in the energies: 9.731953497293944e-06\n",
      "INFO:geometry:Final logp_proposal: -6216.397627303443\n",
      "INFO:setup:charge diff: 0\n",
      "INFO:relative:*** Generating vanilla HybridTopologyFactory ***\n",
      "INFO:relative:Beginning nonbonded method, total particle, barostat, and exceptions retrieval...\n"
     ]
    },
    {
     "name": "stdout",
     "output_type": "stream",
     "text": [
      "added energy components: [('CustomBondForce', 1.6573143691887435), ('CustomAngleForce', 3.5180754491855795), ('CustomTorsionForce', 38.97819597124799), ('CustomBondForce', -122.68330304409201)]\n"
     ]
    },
    {
     "name": "stderr",
     "output_type": "stream",
     "text": [
      "INFO:relative:Flattening torsions of unique new/old at lambda = 0/1\n",
      "INFO:relative:Flattening exceptions of unique new/old at lambda = 0/1\n",
      "INFO:relative:Old system forces: dict_keys(['HarmonicBondForce', 'HarmonicAngleForce', 'PeriodicTorsionForce', 'NonbondedForce', 'MonteCarloBarostat'])\n",
      "INFO:relative:New system forces: dict_keys(['HarmonicBondForce', 'HarmonicAngleForce', 'PeriodicTorsionForce', 'NonbondedForce', 'MonteCarloBarostat'])\n",
      "INFO:relative:No unknown forces.\n",
      "INFO:relative:Nonbonded method to be used (i.e. from old system): 0\n",
      "INFO:relative:Adding and mapping old atoms to hybrid system...\n",
      "INFO:relative:Adding and mapping new atoms to hybrid system...\n",
      "INFO:relative:Added MonteCarloBarostat.\n",
      "INFO:relative:getDefaultPeriodicBoxVectors added to hybrid: [Quantity(value=Vec3(x=2.0, y=0.0, z=0.0), unit=nanometer), Quantity(value=Vec3(x=0.0, y=2.0, z=0.0), unit=nanometer), Quantity(value=Vec3(x=0.0, y=0.0, z=2.0), unit=nanometer)]\n",
      "INFO:relative:Determined atom classes.\n",
      "INFO:relative:Generating old system exceptions dict...\n",
      "INFO:relative:Generating new system exceptions dict...\n",
      "INFO:relative:Handling constraints...\n",
      "INFO:relative:Handling virtual sites...\n",
      "INFO:relative:\t_handle_virtual_sites: numVirtualSites: 0\n",
      "INFO:relative:Adding bond force terms...\n",
      "INFO:relative:Adding angle force terms...\n",
      "INFO:relative:Adding torsion force terms...\n",
      "INFO:relative:Adding nonbonded force terms...\n",
      "INFO:relative:\t_add_nonbonded_force_terms: <openmm.openmm.NonbondedForce; proxy of <Swig Object of type 'OpenMM::NonbondedForce *' at 0x2b2b3cae2240> > added to hybrid system\n",
      "INFO:relative:\t_add_nonbonded_force_terms: nonbonded_method is NoCutoff\n",
      "INFO:relative:\t_add_nonbonded_force_terms: 0 added to standard nonbonded force\n",
      "INFO:relative:\t_add_nonbonded_force_terms: 0 added to sterics_custom_nonbonded force\n",
      "INFO:relative:\t_add_nonbonded_force_terms: <openmm.openmm.CustomNonbondedForce; proxy of <Swig Object of type 'OpenMM::CustomNonbondedForce *' at 0x2b2b3cae22d0> > added to hybrid system\n",
      "INFO:relative:Handling harmonic bonds...\n",
      "INFO:relative:\thandle_harmonic_bonds: looping through old_system to add relevant terms...\n",
      "INFO:relative:\thandle_harmonic_bonds: looping through new_system to add relevant terms...\n",
      "INFO:relative:Handling harmonic angles...\n",
      "INFO:relative:\thandle_harmonic_angles: looping through old_system to add relevant terms...\n",
      "INFO:relative:\thandle_harmonic_angles: looping through new_system to add relevant terms...\n",
      "INFO:relative:Handling torsion forces...\n",
      "INFO:relative:\thandle_periodic_torsion_forces: looping through old_system to add relevant terms...\n",
      "INFO:relative:\thandle_periodic_torsion_forces: looping through new_system to add relevant terms...\n",
      "INFO:relative:Handling nonbonded forces...\n",
      "INFO:relative:\thandle_nonbonded: looping through all particles in hybrid...\n",
      "INFO:relative:\thandle_nonbonded: Handling Interaction Groups...\n",
      "INFO:relative:\thandle_nonbonded: Handling Hybrid Exceptions...\n",
      "INFO:relative:\thandle_nonbonded: Handling Original Exceptions...\n",
      "INFO:relative:Handling unique_new/old interaction exceptions...\n",
      "INFO:relative:There are old or new system exceptions...proceeding.\n",
      "INFO:relative:*** Generating RepartitionedHybridTopologyFactory ***\n",
      "INFO:relative:Flattening torsions of unique new/old at lambda = 0/1\n",
      "INFO:relative:Flattening exceptions of unique new/old at lambda = 0/1\n",
      "INFO:relative:Old system forces: dict_keys(['HarmonicBondForce', 'HarmonicAngleForce', 'PeriodicTorsionForce', 'NonbondedForce', 'MonteCarloBarostat'])\n",
      "INFO:relative:New system forces: dict_keys(['HarmonicBondForce', 'HarmonicAngleForce', 'PeriodicTorsionForce', 'NonbondedForce', 'MonteCarloBarostat'])\n",
      "INFO:relative:No unknown forces.\n",
      "INFO:relative:Nonbonded method to be used (i.e. from old system): 0\n",
      "INFO:relative:Adding and mapping old atoms to hybrid system...\n",
      "INFO:relative:Adding and mapping new atoms to hybrid system...\n",
      "INFO:relative:Added MonteCarloBarostat.\n",
      "INFO:relative:getDefaultPeriodicBoxVectors added to hybrid: [Quantity(value=Vec3(x=2.0, y=0.0, z=0.0), unit=nanometer), Quantity(value=Vec3(x=0.0, y=2.0, z=0.0), unit=nanometer), Quantity(value=Vec3(x=0.0, y=0.0, z=2.0), unit=nanometer)]\n",
      "INFO:relative:Determined atom classes.\n",
      "INFO:relative:Generating old system exceptions dict...\n",
      "INFO:relative:Generating new system exceptions dict...\n",
      "INFO:relative:Handling constraints...\n",
      "INFO:relative:Handling virtual sites...\n",
      "INFO:relative:\t_handle_virtual_sites: numVirtualSites: 0\n",
      "INFO:relative:\t_add_nonbonded_force_terms: <openmm.openmm.NonbondedForce; proxy of <Swig Object of type 'OpenMM::NonbondedForce *' at 0x2b2b518851b0> > added to hybrid system\n",
      "INFO:relative:\t_add_nonbonded_force_terms: nonbonded_method is NoCutoff\n",
      "INFO:relative:\t_add_nonbonded_force_terms: 0 added to standard nonbonded force\n",
      "INFO:relative:\t_add_nonbonded_force_terms: 0 added to sterics_custom_nonbonded force\n",
      "INFO:relative:*** Generating RepartitionedHybridTopologyFactory ***\n",
      "INFO:relative:Flattening torsions of unique new/old at lambda = 0/1\n",
      "INFO:relative:Flattening exceptions of unique new/old at lambda = 0/1\n",
      "INFO:relative:Old system forces: dict_keys(['HarmonicBondForce', 'HarmonicAngleForce', 'PeriodicTorsionForce', 'NonbondedForce', 'MonteCarloBarostat'])\n",
      "INFO:relative:New system forces: dict_keys(['HarmonicBondForce', 'HarmonicAngleForce', 'PeriodicTorsionForce', 'NonbondedForce', 'MonteCarloBarostat'])\n",
      "INFO:relative:No unknown forces.\n",
      "INFO:relative:Nonbonded method to be used (i.e. from old system): 0\n",
      "INFO:relative:Adding and mapping old atoms to hybrid system...\n",
      "INFO:relative:Adding and mapping new atoms to hybrid system...\n",
      "INFO:relative:Added MonteCarloBarostat.\n",
      "INFO:relative:getDefaultPeriodicBoxVectors added to hybrid: [Quantity(value=Vec3(x=2.0, y=0.0, z=0.0), unit=nanometer), Quantity(value=Vec3(x=0.0, y=2.0, z=0.0), unit=nanometer), Quantity(value=Vec3(x=0.0, y=0.0, z=2.0), unit=nanometer)]\n",
      "INFO:relative:Determined atom classes.\n",
      "INFO:relative:Generating old system exceptions dict...\n",
      "INFO:relative:Generating new system exceptions dict...\n",
      "INFO:relative:Handling constraints...\n",
      "INFO:relative:Handling virtual sites...\n",
      "INFO:relative:\t_handle_virtual_sites: numVirtualSites: 0\n",
      "INFO:relative:\t_add_nonbonded_force_terms: <openmm.openmm.NonbondedForce; proxy of <Swig Object of type 'OpenMM::NonbondedForce *' at 0x2b2b40c49cf0> > added to hybrid system\n",
      "INFO:relative:\t_add_nonbonded_force_terms: nonbonded_method is NoCutoff\n",
      "INFO:relative:\t_add_nonbonded_force_terms: 0 added to standard nonbonded force\n",
      "INFO:relative:\t_add_nonbonded_force_terms: 0 added to sterics_custom_nonbonded force\n"
     ]
    }
   ],
   "source": [
    "# Generate htf\n",
    "solvent_delivery = PointMutationExecutor(\"../../input/N501Y_capped_peptide.pdb\",\n",
    "                        '1', # First chain is the barstar one\n",
    "                        '501',\n",
    "                        'TYR',\n",
    "                        phase='vacuum',\n",
    "                        forcefield_files=['amber14/protein.ff14SB.xml', 'amber14/tip3p.xml', '/home/zhangi/choderalab/openmmforcefields/amber/ffxml/GLYCAM_06j-1.xml'],\n",
    "                        flatten_torsions=True,\n",
    "                        flatten_exceptions=True,\n",
    "                        generate_unmodified_hybrid_topology_factory=True,\n",
    "                        generate_rest_capable_hybrid_topology_factory=True,\n",
    "                        conduct_endstate_validation=False\n",
    "                        )"
   ]
  },
  {
   "cell_type": "code",
   "execution_count": 24,
   "id": "47aae25d",
   "metadata": {},
   "outputs": [],
   "source": [
    "htf = solvent_delivery.get_apo_htf()"
   ]
  },
  {
   "cell_type": "code",
   "execution_count": 25,
   "id": "d6dd9c07",
   "metadata": {},
   "outputs": [],
   "source": [
    "atom_map_filename = f'atom_map_peptide.png'\n",
    "render_protein_residue_atom_mapping(htf._topology_proposal, atom_map_filename)"
   ]
  },
  {
   "cell_type": "code",
   "execution_count": 26,
   "id": "c181f26a",
   "metadata": {},
   "outputs": [],
   "source": [
    "with open(\"tyr_peptide.pdb\", \"w\") as f:\n",
    "    app.PDBFile.writeFile(htf._topology_proposal.new_topology, htf.new_positions(htf.hybrid_positions), f, keepIds=True)"
   ]
  },
  {
   "cell_type": "markdown",
   "id": "2ece586b",
   "metadata": {},
   "source": [
    "## Starting with N501Y capped peptide with rotation"
   ]
  },
  {
   "cell_type": "code",
   "execution_count": 19,
   "id": "0d386fc4",
   "metadata": {
    "scrolled": true
   },
   "outputs": [
    {
     "name": "stderr",
     "output_type": "stream",
     "text": [
      "DEBUG:openmmforcefields.system_generators:Trying GAFFTemplateGenerator to load gaff-2.11\n",
      "INFO:proposal_generator:\tConducting polymer point mutation proposal...\n",
      "WARNING:atom_mapping:Molecules do not appear to share a common scaffold.\n",
      "WARNING:atom_mapping:Proceeding with direct mapping of molecules, but please check atom mapping and the geometry of the ligands.\n",
      "INFO:proposal_generator:[Atom(name=CB, atomic number=6), Atom(name=CG, atomic number=6), Atom(name=ND2, atomic number=7), Atom(name=OD1, atomic number=8), Atom(name=HB2, atomic number=1), Atom(name=HB3, atomic number=1), Atom(name=HD21, atomic number=1), Atom(name=HD22, atomic number=1)]\n",
      "INFO:proposal_generator:[Atom(name=CB, atomic number=6), Atom(name=CG, atomic number=6), Atom(name=CD1, atomic number=6), Atom(name=CD2, atomic number=6), Atom(name=CE1, atomic number=6), Atom(name=CE2, atomic number=6), Atom(name=CZ, atomic number=6), Atom(name=OH, atomic number=8), Atom(name=HB2, atomic number=1), Atom(name=HB3, atomic number=1), Atom(name=HD1, atomic number=1), Atom(name=HD2, atomic number=1), Atom(name=HE1, atomic number=1), Atom(name=HE2, atomic number=1), Atom(name=HH, atomic number=1)]\n",
      "INFO:geometry:propose: performing forward proposal\n",
      "INFO:geometry:propose: unique new atoms detected; proceeding to _logp_propose...\n",
      "INFO:geometry:Conducting forward proposal...\n",
      "INFO:geometry:Computing proposal order with NetworkX...\n",
      "INFO:geometry:number of atoms to be placed: 15\n",
      "INFO:geometry:Atom index proposal order is [55, 56, 70, 61, 68, 63, 65, 66, 60, 62, 64, 59, 71, 69, 67]\n",
      "INFO:geometry:omitted_bonds: [(65, 68)]\n",
      "INFO:geometry:direction of proposal is forward; creating atoms_with_positions and new positions from old system/topology...\n",
      "INFO:geometry:creating growth system...\n",
      "INFO:geometry:\tcreating bond force...\n",
      "INFO:geometry:\tthere are 56 bonds in reference force.\n",
      "INFO:geometry:\tcreating angle force...\n",
      "INFO:geometry:\tthere are 194 angles in reference force.\n",
      "INFO:geometry:\tcreating torsion force...\n",
      "INFO:geometry:\tcreating extra torsions force...\n",
      "INFO:geometry:\tthere are 350 torsions in reference force.\n",
      "INFO:geometry:\tcreating nonbonded force...\n",
      "INFO:geometry:\t\tgrabbing reference nonbonded method, cutoff, switching function, switching distance...\n",
      "INFO:geometry:\t\tcreating nonbonded exception force (i.e. custom bond for 1,4s)...\n",
      "INFO:geometry:\t\tlooping through exceptions calculating growth indices, and adding appropriate interactions to custom bond force.\n",
      "INFO:geometry:\t\tthere are 573 in the reference Nonbonded force\n",
      "WARNING:geometry:\t\t\t\t\tchiral atom <Atom 52 (CA) of chain 0 residue 4 (TYR)> with neighbors [<Atom 53 (C) of chain 0 residue 4 (TYR)>, <Atom 55 (CB) of chain 0 residue 4 (TYR)>, <Atom 58 (HA) of chain 0 residue 4 (TYR)>, <Atom 51 (N) of chain 0 residue 4 (TYR)>] is surrounded by 3 core neighbors.  omitting chirality bias torsion\n",
      "INFO:geometry:Neglected angle terms : []\n",
      "INFO:geometry:omitted_growth_terms: {'bonds': [(65, 68)], 'angles': [(63, 65, 68), (65, 68, 69), (65, 68, 70), (66, 65, 68)], 'torsions': [(56, 70, 68, 65), (61, 63, 65, 68), (63, 65, 68, 69), (63, 65, 68, 70), (64, 63, 65, 68), (65, 68, 70, 71), (66, 65, 68, 69), (66, 65, 68, 70), (67, 66, 65, 68), (67, 66, 65, 68), (63, 68, 65, 66)], '1,4s': [(56, 65), (61, 68), (64, 68), (67, 68), (63, 69), (66, 69), (63, 70), (66, 70), (65, 71)]}\n",
      "INFO:geometry:extra torsions: {0: (67, 66, 65, 63, [1, Quantity(value=-0.002870001521861454, unit=radian), Quantity(value=1200.0, unit=kilocalorie/mole), 15]), 1: (64, 63, 65, 66, [1, Quantity(value=3.1393768365632813, unit=radian), Quantity(value=1200.0, unit=kilocalorie/mole), 11]), 2: (61, 63, 65, 66, [1, Quantity(value=0.0022213748613295614, unit=radian), Quantity(value=1200.0, unit=kilocalorie/mole), 8]), 3: (64, 63, 61, 62, [1, Quantity(value=3.139771005499866, unit=radian), Quantity(value=1200.0, unit=kilocalorie/mole), 11]), 4: (64, 63, 61, 56, [1, Quantity(value=0.0069177728493503565, unit=radian), Quantity(value=1200.0, unit=kilocalorie/mole), 11]), 5: (65, 63, 61, 62, [1, Quantity(value=-0.0062808214457872324, unit=radian), Quantity(value=1200.0, unit=kilocalorie/mole), 10]), 6: (65, 63, 61, 56, [1, Quantity(value=-3.1391340540962216, unit=radian), Quantity(value=1200.0, unit=kilocalorie/mole), 7]), 7: (63, 61, 56, 70, [1, Quantity(value=3.1373539745559547, unit=radian), Quantity(value=1200.0, unit=kilocalorie/mole), 6]), 8: (63, 61, 56, 55, [1, Quantity(value=-0.012555513663626172, unit=radian), Quantity(value=1200.0, unit=kilocalorie/mole), 6]), 9: (62, 61, 56, 70, [1, Quantity(value=0.004577035070323365, unit=radian), Quantity(value=1200.0, unit=kilocalorie/mole), 10]), 10: (62, 61, 56, 55, [1, Quantity(value=3.137852854030348, unit=radian), Quantity(value=1200.0, unit=kilocalorie/mole), 10]), 11: (69, 68, 70, 56, [1, Quantity(value=-0.006701599266596858, unit=radian), Quantity(value=1200.0, unit=kilocalorie/mole), 14]), 12: (69, 68, 70, 71, [1, Quantity(value=-3.134703221499019, unit=radian), Quantity(value=1200.0, unit=kilocalorie/mole), 14]), 13: (61, 56, 70, 68, [1, Quantity(value=-3.137699428633435, unit=radian), Quantity(value=1200.0, unit=kilocalorie/mole), 5]), 14: (61, 56, 70, 71, [1, Quantity(value=-0.009793556643590051, unit=radian), Quantity(value=1200.0, unit=kilocalorie/mole), 13]), 15: (55, 56, 70, 68, [1, Quantity(value=0.012140215312939961, unit=radian), Quantity(value=1200.0, unit=kilocalorie/mole), 5]), 16: (55, 56, 70, 71, [1, Quantity(value=3.14004608730288, unit=radian), Quantity(value=1200.0, unit=kilocalorie/mole), 13]), 17: (55, 52, 51, 57, [1, Quantity(value=1.047411640674822, unit=radian), Quantity(value=1200.0, unit=kilocalorie/mole), 1])}\n",
      "INFO:geometry:neglected angle terms include []\n",
      "INFO:geometry:log probability choice of torsions and atom order: -21.747964182635915\n",
      "INFO:geometry:creating platform, integrators, and contexts; setting growth parameter\n"
     ]
    },
    {
     "name": "stdout",
     "output_type": "stream",
     "text": [
      "conducting subsequent work with the following platform: CUDA\n"
     ]
    },
    {
     "name": "stderr",
     "output_type": "stream",
     "text": [
      "INFO:geometry:setting atoms_with_positions context new positions\n"
     ]
    },
    {
     "name": "stdout",
     "output_type": "stream",
     "text": [
      "conducting subsequent work with the following platform: CUDA\n"
     ]
    },
    {
     "name": "stderr",
     "output_type": "stream",
     "text": [
      "INFO:geometry:There are 15 new atoms\n",
      "INFO:geometry:\treduced angle potential = 0.26721807808709863.\n",
      "INFO:geometry:\treduced angle potential = 0.19235737736023867.\n",
      "INFO:geometry:\treduced angle potential = 0.9612861730463846.\n",
      "INFO:geometry:\treduced angle potential = 2.873513031259688.\n",
      "INFO:geometry:\treduced angle potential = 0.19722191638743047.\n",
      "INFO:geometry:\treduced angle potential = 0.09352521593266053.\n",
      "INFO:geometry:\treduced angle potential = 1.1882833846610197.\n",
      "INFO:geometry:\treduced angle potential = 0.0013117295197179206.\n",
      "INFO:geometry:\treduced angle potential = 0.4286112305052761.\n",
      "INFO:geometry:\treduced angle potential = 0.012074001135547565.\n",
      "INFO:geometry:\treduced angle potential = 0.13631644504838542.\n",
      "INFO:geometry:\treduced angle potential = 0.3533988321252354.\n",
      "INFO:geometry:\treduced angle potential = 1.9544951061136009.\n",
      "INFO:geometry:\treduced angle potential = 0.0013747114467178678.\n",
      "INFO:geometry:\treduced angle potential = 0.007231802771701553.\n",
      "INFO:geometry:\tbeginning construction of no_nonbonded final system...\n",
      "INFO:geometry:\tinitial no-nonbonded final system forces ['HarmonicBondForce', 'HarmonicAngleForce', 'PeriodicTorsionForce', 'NonbondedForce', 'MonteCarloBarostat']\n",
      "INFO:geometry:\tfinal no-nonbonded final system forces dict_keys(['HarmonicBondForce', 'HarmonicAngleForce', 'PeriodicTorsionForce', 'NonbondedForce'])\n",
      "INFO:geometry:\tthere are 56 bond forces in the no-nonbonded final system\n",
      "INFO:geometry:\tthere are 194 angle forces in the no-nonbonded final system\n",
      "INFO:geometry:\tthere are 350 torsion forces in the no-nonbonded final system\n",
      "INFO:geometry:forward final system defined with 0 neglected angles.\n"
     ]
    },
    {
     "name": "stdout",
     "output_type": "stream",
     "text": [
      "conducting subsequent work with the following platform: CUDA\n",
      "conducting subsequent work with the following platform: CUDA\n"
     ]
    },
    {
     "name": "stderr",
     "output_type": "stream",
     "text": [
      "INFO:geometry:total reduced potential before atom placement: 161.94581089061504\n"
     ]
    },
    {
     "name": "stdout",
     "output_type": "stream",
     "text": [
      "conducting subsequent work with the following platform: CUDA\n",
      "conducting subsequent work with the following platform: CUDA\n",
      "conducting subsequent work with the following platform: CUDA\n"
     ]
    },
    {
     "name": "stderr",
     "output_type": "stream",
     "text": [
      "INFO:geometry:total reduced energy added from growth system: 54.577671140494395\n",
      "INFO:geometry:final reduced energy 240.27058246004475\n",
      "INFO:geometry:sum of energies: 216.52348203110944\n",
      "INFO:geometry:magnitude of difference in the energies: 23.74710042893532\n",
      "INFO:geometry:Final logp_proposal: 122.15416467834146\n",
      "INFO:geometry:logp_reverse: performing reverse proposal\n",
      "INFO:geometry:logp_reverse: unique new atoms detected; proceeding to _logp_propose...\n",
      "INFO:geometry:Conducting forward proposal...\n",
      "INFO:geometry:Computing proposal order with NetworkX...\n"
     ]
    },
    {
     "name": "stdout",
     "output_type": "stream",
     "text": [
      "added energy components: [('CustomBondForce', 3.375407196958151), ('CustomAngleForce', 24.92189517281381), ('CustomTorsionForce', 20.59129702147106), ('CustomBondForce', 5.689071749251374)]\n"
     ]
    },
    {
     "name": "stderr",
     "output_type": "stream",
     "text": [
      "INFO:geometry:number of atoms to be placed: 8\n",
      "INFO:geometry:Atom index proposal order is [55, 56, 57, 58, 62, 61, 63, 64]\n",
      "INFO:geometry:omitted_bonds: []\n",
      "INFO:geometry:direction of proposal is reverse; creating atoms_with_positions from old system/topology\n",
      "INFO:geometry:creating growth system...\n",
      "INFO:geometry:\tcreating bond force...\n",
      "INFO:geometry:\tthere are 51 bonds in reference force.\n",
      "INFO:geometry:\tcreating angle force...\n",
      "INFO:geometry:\tthere are 181 angles in reference force.\n",
      "INFO:geometry:\tcreating torsion force...\n",
      "INFO:geometry:\tcreating extra torsions force...\n",
      "INFO:geometry:\tthere are 328 torsions in reference force.\n",
      "INFO:geometry:\tcreating nonbonded force...\n",
      "INFO:geometry:\t\tgrabbing reference nonbonded method, cutoff, switching function, switching distance...\n",
      "INFO:geometry:\t\tcreating nonbonded exception force (i.e. custom bond for 1,4s)...\n",
      "INFO:geometry:\t\tlooping through exceptions calculating growth indices, and adding appropriate interactions to custom bond force.\n",
      "INFO:geometry:\t\tthere are 533 in the reference Nonbonded force\n",
      "WARNING:geometry:\t\t\t\t\tchiral atom <Atom 52 (CA) of chain 0 residue 4 (ASN)> with neighbors [<Atom 53 (C) of chain 0 residue 4 (ASN)>, <Atom 55 (CB) of chain 0 residue 4 (ASN)>, <Atom 60 (HA) of chain 0 residue 4 (ASN)>, <Atom 51 (N) of chain 0 residue 4 (ASN)>] is surrounded by 3 core neighbors.  omitting chirality bias torsion\n",
      "INFO:geometry:Neglected angle terms : []\n",
      "INFO:geometry:omitted_growth_terms: {'bonds': [], 'angles': [], 'torsions': [], '1,4s': []}\n",
      "INFO:geometry:extra torsions: {0: (59, 51, 52, 55, [1, Quantity(value=1.0033542268906723, unit=radian), Quantity(value=1200.0, unit=kilocalorie/mole), 1]), 1: (64, 57, 56, 55, [1, Quantity(value=-3.0613628096248338, unit=radian), Quantity(value=1200.0, unit=kilocalorie/mole), 8]), 2: (64, 57, 56, 58, [1, Quantity(value=0.1006962644006828, unit=radian), Quantity(value=1200.0, unit=kilocalorie/mole), 8]), 3: (63, 57, 56, 55, [1, Quantity(value=-0.163557181151619, unit=radian), Quantity(value=1200.0, unit=kilocalorie/mole), 7]), 4: (63, 57, 56, 58, [1, Quantity(value=2.998501892873897, unit=radian), Quantity(value=1200.0, unit=kilocalorie/mole), 7])}\n",
      "INFO:geometry:neglected angle terms include []\n",
      "INFO:geometry:log probability choice of torsions and atom order: -9.400630098419315\n",
      "INFO:geometry:creating platform, integrators, and contexts; setting growth parameter\n"
     ]
    },
    {
     "name": "stdout",
     "output_type": "stream",
     "text": [
      "conducting subsequent work with the following platform: CUDA\n"
     ]
    },
    {
     "name": "stderr",
     "output_type": "stream",
     "text": [
      "INFO:geometry:setting atoms_with_positions context old positions\n"
     ]
    },
    {
     "name": "stdout",
     "output_type": "stream",
     "text": [
      "conducting subsequent work with the following platform: CUDA\n"
     ]
    },
    {
     "name": "stderr",
     "output_type": "stream",
     "text": [
      "INFO:geometry:There are 8 new atoms\n",
      "INFO:geometry:\treduced angle potential = 0.019218025770970728.\n",
      "INFO:geometry:\treduced angle potential = 0.5546782583871288.\n",
      "INFO:geometry:\treduced angle potential = 0.16893699954854957.\n",
      "INFO:geometry:\treduced angle potential = 0.07872439611145161.\n",
      "INFO:geometry:\treduced angle potential = 0.1168799364826813.\n",
      "INFO:geometry:\treduced angle potential = 0.048703486075810376.\n",
      "INFO:geometry:\treduced angle potential = 1.3133289882275418.\n",
      "INFO:geometry:\treduced angle potential = 0.1754810124613514.\n",
      "INFO:geometry:\tbeginning construction of no_nonbonded final system...\n",
      "INFO:geometry:\tinitial no-nonbonded final system forces ['HarmonicBondForce', 'HarmonicAngleForce', 'PeriodicTorsionForce', 'NonbondedForce', 'MonteCarloBarostat']\n",
      "INFO:geometry:\tfinal no-nonbonded final system forces dict_keys(['HarmonicBondForce', 'HarmonicAngleForce', 'PeriodicTorsionForce', 'NonbondedForce'])\n",
      "INFO:geometry:\tthere are 51 bond forces in the no-nonbonded final system\n",
      "INFO:geometry:\tthere are 181 angle forces in the no-nonbonded final system\n",
      "INFO:geometry:\tthere are 328 torsion forces in the no-nonbonded final system\n",
      "INFO:geometry:reverse final system defined with 0 neglected angles.\n"
     ]
    },
    {
     "name": "stdout",
     "output_type": "stream",
     "text": [
      "conducting subsequent work with the following platform: CUDA\n",
      "conducting subsequent work with the following platform: CUDA\n"
     ]
    },
    {
     "name": "stderr",
     "output_type": "stream",
     "text": [
      "INFO:geometry:total reduced potential before atom placement: 161.94581089061504\n"
     ]
    },
    {
     "name": "stdout",
     "output_type": "stream",
     "text": [
      "conducting subsequent work with the following platform: CUDA\n",
      "conducting subsequent work with the following platform: CUDA\n",
      "conducting subsequent work with the following platform: CUDA\n"
     ]
    },
    {
     "name": "stderr",
     "output_type": "stream",
     "text": [
      "INFO:geometry:total reduced energy added from growth system: -77.01616874021836\n",
      "INFO:geometry:final reduced energy 84.92962895358345\n",
      "INFO:geometry:sum of energies: 84.92964215039667\n",
      "INFO:geometry:magnitude of difference in the energies: 1.3196813227978055e-05\n",
      "INFO:geometry:Final logp_proposal: -3578.656546548038\n",
      "INFO:setup:charge diff: 0\n",
      "INFO:relative:*** Generating vanilla HybridTopologyFactory ***\n",
      "INFO:relative:Beginning nonbonded method, total particle, barostat, and exceptions retrieval...\n"
     ]
    },
    {
     "name": "stdout",
     "output_type": "stream",
     "text": [
      "added energy components: [('CustomBondForce', 1.6546511216904622), ('CustomAngleForce', 3.51218918364087), ('CustomTorsionForce', 41.230183307027474), ('CustomBondForce', -123.41319235257718)]\n"
     ]
    },
    {
     "name": "stderr",
     "output_type": "stream",
     "text": [
      "INFO:relative:Flattening torsions of unique new/old at lambda = 0/1\n",
      "INFO:relative:Flattening exceptions of unique new/old at lambda = 0/1\n",
      "INFO:relative:Old system forces: dict_keys(['HarmonicBondForce', 'HarmonicAngleForce', 'PeriodicTorsionForce', 'NonbondedForce', 'MonteCarloBarostat'])\n",
      "INFO:relative:New system forces: dict_keys(['HarmonicBondForce', 'HarmonicAngleForce', 'PeriodicTorsionForce', 'NonbondedForce', 'MonteCarloBarostat'])\n",
      "INFO:relative:No unknown forces.\n",
      "INFO:relative:Nonbonded method to be used (i.e. from old system): 0\n",
      "INFO:relative:Adding and mapping old atoms to hybrid system...\n",
      "INFO:relative:Adding and mapping new atoms to hybrid system...\n",
      "INFO:relative:Added MonteCarloBarostat.\n",
      "INFO:relative:getDefaultPeriodicBoxVectors added to hybrid: [Quantity(value=Vec3(x=2.0, y=0.0, z=0.0), unit=nanometer), Quantity(value=Vec3(x=0.0, y=2.0, z=0.0), unit=nanometer), Quantity(value=Vec3(x=0.0, y=0.0, z=2.0), unit=nanometer)]\n",
      "INFO:relative:Determined atom classes.\n",
      "INFO:relative:Generating old system exceptions dict...\n",
      "INFO:relative:Generating new system exceptions dict...\n",
      "INFO:relative:Handling constraints...\n",
      "INFO:relative:Handling virtual sites...\n",
      "INFO:relative:\t_handle_virtual_sites: numVirtualSites: 0\n",
      "INFO:relative:Adding bond force terms...\n",
      "INFO:relative:Adding angle force terms...\n",
      "INFO:relative:Adding torsion force terms...\n",
      "INFO:relative:Adding nonbonded force terms...\n",
      "INFO:relative:\t_add_nonbonded_force_terms: <openmm.openmm.NonbondedForce; proxy of <Swig Object of type 'OpenMM::NonbondedForce *' at 0x2b2b46441c90> > added to hybrid system\n",
      "INFO:relative:\t_add_nonbonded_force_terms: nonbonded_method is NoCutoff\n",
      "INFO:relative:\t_add_nonbonded_force_terms: 0 added to standard nonbonded force\n",
      "INFO:relative:\t_add_nonbonded_force_terms: 0 added to sterics_custom_nonbonded force\n",
      "INFO:relative:\t_add_nonbonded_force_terms: <openmm.openmm.CustomNonbondedForce; proxy of <Swig Object of type 'OpenMM::CustomNonbondedForce *' at 0x2b2b46441ba0> > added to hybrid system\n",
      "INFO:relative:Handling harmonic bonds...\n",
      "INFO:relative:\thandle_harmonic_bonds: looping through old_system to add relevant terms...\n",
      "INFO:relative:\thandle_harmonic_bonds: looping through new_system to add relevant terms...\n",
      "INFO:relative:Handling harmonic angles...\n",
      "INFO:relative:\thandle_harmonic_angles: looping through old_system to add relevant terms...\n",
      "INFO:relative:\thandle_harmonic_angles: looping through new_system to add relevant terms...\n",
      "INFO:relative:Handling torsion forces...\n",
      "INFO:relative:\thandle_periodic_torsion_forces: looping through old_system to add relevant terms...\n",
      "INFO:relative:\thandle_periodic_torsion_forces: looping through new_system to add relevant terms...\n",
      "INFO:relative:Handling nonbonded forces...\n",
      "INFO:relative:\thandle_nonbonded: looping through all particles in hybrid...\n",
      "INFO:relative:\thandle_nonbonded: Handling Interaction Groups...\n",
      "INFO:relative:\thandle_nonbonded: Handling Hybrid Exceptions...\n",
      "INFO:relative:\thandle_nonbonded: Handling Original Exceptions...\n",
      "INFO:relative:Handling unique_new/old interaction exceptions...\n",
      "INFO:relative:There are old or new system exceptions...proceeding.\n",
      "INFO:relative:*** Generating RepartitionedHybridTopologyFactory ***\n",
      "INFO:relative:Flattening torsions of unique new/old at lambda = 0/1\n",
      "INFO:relative:Flattening exceptions of unique new/old at lambda = 0/1\n",
      "INFO:relative:Old system forces: dict_keys(['HarmonicBondForce', 'HarmonicAngleForce', 'PeriodicTorsionForce', 'NonbondedForce', 'MonteCarloBarostat'])\n",
      "INFO:relative:New system forces: dict_keys(['HarmonicBondForce', 'HarmonicAngleForce', 'PeriodicTorsionForce', 'NonbondedForce', 'MonteCarloBarostat'])\n",
      "INFO:relative:No unknown forces.\n",
      "INFO:relative:Nonbonded method to be used (i.e. from old system): 0\n",
      "INFO:relative:Adding and mapping old atoms to hybrid system...\n",
      "INFO:relative:Adding and mapping new atoms to hybrid system...\n",
      "INFO:relative:Added MonteCarloBarostat.\n",
      "INFO:relative:getDefaultPeriodicBoxVectors added to hybrid: [Quantity(value=Vec3(x=2.0, y=0.0, z=0.0), unit=nanometer), Quantity(value=Vec3(x=0.0, y=2.0, z=0.0), unit=nanometer), Quantity(value=Vec3(x=0.0, y=0.0, z=2.0), unit=nanometer)]\n",
      "INFO:relative:Determined atom classes.\n",
      "INFO:relative:Generating old system exceptions dict...\n",
      "INFO:relative:Generating new system exceptions dict...\n",
      "INFO:relative:Handling constraints...\n",
      "INFO:relative:Handling virtual sites...\n",
      "INFO:relative:\t_handle_virtual_sites: numVirtualSites: 0\n",
      "INFO:relative:\t_add_nonbonded_force_terms: <openmm.openmm.NonbondedForce; proxy of <Swig Object of type 'OpenMM::NonbondedForce *' at 0x2b2b46529d20> > added to hybrid system\n",
      "INFO:relative:\t_add_nonbonded_force_terms: nonbonded_method is NoCutoff\n",
      "INFO:relative:\t_add_nonbonded_force_terms: 0 added to standard nonbonded force\n",
      "INFO:relative:\t_add_nonbonded_force_terms: 0 added to sterics_custom_nonbonded force\n",
      "INFO:relative:*** Generating RepartitionedHybridTopologyFactory ***\n",
      "INFO:relative:Flattening torsions of unique new/old at lambda = 0/1\n",
      "INFO:relative:Flattening exceptions of unique new/old at lambda = 0/1\n",
      "INFO:relative:Old system forces: dict_keys(['HarmonicBondForce', 'HarmonicAngleForce', 'PeriodicTorsionForce', 'NonbondedForce', 'MonteCarloBarostat'])\n",
      "INFO:relative:New system forces: dict_keys(['HarmonicBondForce', 'HarmonicAngleForce', 'PeriodicTorsionForce', 'NonbondedForce', 'MonteCarloBarostat'])\n",
      "INFO:relative:No unknown forces.\n",
      "INFO:relative:Nonbonded method to be used (i.e. from old system): 0\n",
      "INFO:relative:Adding and mapping old atoms to hybrid system...\n",
      "INFO:relative:Adding and mapping new atoms to hybrid system...\n",
      "INFO:relative:Added MonteCarloBarostat.\n",
      "INFO:relative:getDefaultPeriodicBoxVectors added to hybrid: [Quantity(value=Vec3(x=2.0, y=0.0, z=0.0), unit=nanometer), Quantity(value=Vec3(x=0.0, y=2.0, z=0.0), unit=nanometer), Quantity(value=Vec3(x=0.0, y=0.0, z=2.0), unit=nanometer)]\n",
      "INFO:relative:Determined atom classes.\n",
      "INFO:relative:Generating old system exceptions dict...\n",
      "INFO:relative:Generating new system exceptions dict...\n",
      "INFO:relative:Handling constraints...\n",
      "INFO:relative:Handling virtual sites...\n",
      "INFO:relative:\t_handle_virtual_sites: numVirtualSites: 0\n",
      "INFO:relative:\t_add_nonbonded_force_terms: <openmm.openmm.NonbondedForce; proxy of <Swig Object of type 'OpenMM::NonbondedForce *' at 0x2b2b46696cf0> > added to hybrid system\n",
      "INFO:relative:\t_add_nonbonded_force_terms: nonbonded_method is NoCutoff\n",
      "INFO:relative:\t_add_nonbonded_force_terms: 0 added to standard nonbonded force\n",
      "INFO:relative:\t_add_nonbonded_force_terms: 0 added to sterics_custom_nonbonded force\n"
     ]
    }
   ],
   "source": [
    "# Generate htf\n",
    "solvent_delivery = PointMutationExecutor(\"../../input/N501Y_capped_peptide_rotated.pdb\",\n",
    "                        '1', # First chain is the barstar one\n",
    "                        '501',\n",
    "                        'TYR',\n",
    "                        phase='vacuum',\n",
    "                        forcefield_files=['amber14/protein.ff14SB.xml', 'amber14/tip3p.xml', '/home/zhangi/choderalab/openmmforcefields/amber/ffxml/GLYCAM_06j-1.xml'],\n",
    "                        flatten_torsions=True,\n",
    "                        flatten_exceptions=True,\n",
    "                        generate_unmodified_hybrid_topology_factory=True,\n",
    "                        generate_rest_capable_hybrid_topology_factory=True,\n",
    "                        conduct_endstate_validation=False\n",
    "                        )"
   ]
  },
  {
   "cell_type": "code",
   "execution_count": 20,
   "id": "9e399e5e",
   "metadata": {},
   "outputs": [],
   "source": [
    "htf = solvent_delivery.get_apo_htf()"
   ]
  },
  {
   "cell_type": "code",
   "execution_count": 21,
   "id": "3466522a",
   "metadata": {},
   "outputs": [],
   "source": [
    "atom_map_filename = f'atom_map_rotated_peptide.png'\n",
    "render_protein_residue_atom_mapping(htf._topology_proposal, atom_map_filename)"
   ]
  },
  {
   "cell_type": "code",
   "execution_count": 22,
   "id": "c5425efb",
   "metadata": {},
   "outputs": [],
   "source": [
    "with open(\"tyr_rotated_peptide.pdb\", \"w\") as f:\n",
    "    app.PDBFile.writeFile(htf._topology_proposal.new_topology, htf.new_positions(htf.hybrid_positions), f, keepIds=True)"
   ]
  },
  {
   "cell_type": "code",
   "execution_count": null,
   "id": "b453c7cf",
   "metadata": {},
   "outputs": [],
   "source": []
  }
 ],
 "metadata": {
  "kernelspec": {
   "display_name": "Python 3 (ipykernel)",
   "language": "python",
   "name": "python3"
  },
  "language_info": {
   "codemirror_mode": {
    "name": "ipython",
    "version": 3
   },
   "file_extension": ".py",
   "mimetype": "text/x-python",
   "name": "python",
   "nbconvert_exporter": "python",
   "pygments_lexer": "ipython3",
   "version": "3.8.11"
  }
 },
 "nbformat": 4,
 "nbformat_minor": 5
}
