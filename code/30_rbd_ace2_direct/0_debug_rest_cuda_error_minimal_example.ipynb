{
 "cells": [
  {
   "cell_type": "code",
   "execution_count": 1,
   "id": "e45d15f5",
   "metadata": {},
   "outputs": [
    {
     "name": "stderr",
     "output_type": "stream",
     "text": [
      "Warning: importing 'simtk.openmm' is deprecated.  Import 'openmm' instead.\n"
     ]
    },
    {
     "name": "stdout",
     "output_type": "stream",
     "text": [
      "conducting subsequent work with the following platform: CUDA\n",
      "conducting subsequent work with the following platform: CUDA\n"
     ]
    }
   ],
   "source": [
    "import pickle\n",
    "import os\n",
    "import math\n",
    "import copy\n",
    "import numpy as np\n",
    "\n",
    "from simtk import unit\n",
    "\n",
    "from openmmtools.states import SamplerState, ThermodynamicState, CompoundThermodynamicState\n",
    "from openmmtools.constants import kB\n",
    "from openmmtools import mcmc, multistate\n",
    "from openmmtools import cache, utils\n",
    "\n",
    "from perses.annihilation.rest import RESTTopologyFactory\n",
    "from perses.annihilation.lambda_protocol import RESTState\n",
    "from perses.dispersed import feptasks\n",
    "from perses.dispersed.utils import configure_platform\n",
    "cache.global_context_cache.platform = configure_platform(utils.get_fastest_platform().getName())\n",
    "# Set up context cache\n",
    "# context_cache = cache.ContextCache(capacity=None, time_to_live=None)\n",
    "context_cache = cache.DummyContextCache()\n",
    "\n",
    "# Set up logger\n",
    "import logging\n",
    "_logger = logging.getLogger()\n",
    "_logger.setLevel(logging.INFO)"
   ]
  },
  {
   "cell_type": "code",
   "execution_count": 2,
   "id": "ba09f776",
   "metadata": {},
   "outputs": [],
   "source": [
    "length = 1\n",
    "move_length = 1\n",
    "timestep = 4\n",
    "radius = 0.7\n",
    "outdir = \"/data/chodera/zhangi/perses_benchmark/neq/14/147/\"\n",
    "phase = 'complex'\n",
    "state = 0\n",
    "n_replicas = 36\n",
    "t_max = 1200\n",
    "name = 'asn'"
   ]
  },
  {
   "cell_type": "code",
   "execution_count": 3,
   "id": "fb80f340",
   "metadata": {},
   "outputs": [],
   "source": [
    "# Load rhtf\n",
    "i = os.path.basename(os.path.dirname(outdir))\n",
    "path = os.path.join(outdir, f\"{i}_{phase}_{state}.pickle\")\n",
    "htf = pickle.load(open(path, \"rb\" ))\n",
    "positions = htf.hybrid_positions"
   ]
  },
  {
   "cell_type": "code",
   "execution_count": 4,
   "id": "09ca5359",
   "metadata": {},
   "outputs": [
    {
     "ename": "FileNotFoundError",
     "evalue": "[Errno 2] No such file or directory: '/data/chodera/zhangi/perses_benchmark/neq/14/147/147_complex_0_rest.pickle'",
     "output_type": "error",
     "traceback": [
      "\u001b[0;31m---------------------------------------------------------------------------\u001b[0m",
      "\u001b[0;31mFileNotFoundError\u001b[0m                         Traceback (most recent call last)",
      "\u001b[0;32m/scratch/lsftmp/2773970.tmpdir/ipykernel_42453/2511542556.py\u001b[0m in \u001b[0;36m<module>\u001b[0;34m\u001b[0m\n\u001b[0;32m----> 1\u001b[0;31m \u001b[0;32mwith\u001b[0m \u001b[0mopen\u001b[0m\u001b[0;34m(\u001b[0m\u001b[0mos\u001b[0m\u001b[0;34m.\u001b[0m\u001b[0mpath\u001b[0m\u001b[0;34m.\u001b[0m\u001b[0mjoin\u001b[0m\u001b[0;34m(\u001b[0m\u001b[0moutdir\u001b[0m\u001b[0;34m,\u001b[0m \u001b[0;34mf\"{i}_{phase}_{state}_rest.pickle\"\u001b[0m\u001b[0;34m)\u001b[0m\u001b[0;34m,\u001b[0m \u001b[0;34m\"rb\"\u001b[0m\u001b[0;34m)\u001b[0m \u001b[0;32mas\u001b[0m \u001b[0mf\u001b[0m\u001b[0;34m:\u001b[0m\u001b[0;34m\u001b[0m\u001b[0;34m\u001b[0m\u001b[0m\n\u001b[0m\u001b[1;32m      2\u001b[0m     \u001b[0mrest_factory\u001b[0m \u001b[0;34m=\u001b[0m \u001b[0mpickle\u001b[0m\u001b[0;34m.\u001b[0m\u001b[0mload\u001b[0m\u001b[0;34m(\u001b[0m\u001b[0mf\u001b[0m\u001b[0;34m)\u001b[0m\u001b[0;34m\u001b[0m\u001b[0;34m\u001b[0m\u001b[0m\n",
      "\u001b[0;31mFileNotFoundError\u001b[0m: [Errno 2] No such file or directory: '/data/chodera/zhangi/perses_benchmark/neq/14/147/147_complex_0_rest.pickle'"
     ]
    }
   ],
   "source": [
    "# with open(os.path.join(outdir, f\"{i}_{phase}_{state}_rest.pickle\"), \"rb\") as f:\n",
    "#     rest_factory = pickle.load(f)"
   ]
  },
  {
   "cell_type": "code",
   "execution_count": null,
   "id": "6c74b282",
   "metadata": {},
   "outputs": [],
   "source": [
    "REST_system = rest_factory.REST_system\n"
   ]
  },
  {
   "cell_type": "code",
   "execution_count": 6,
   "id": "424be113",
   "metadata": {},
   "outputs": [],
   "source": [
    "# Create states for each replica\n",
    "T_min = 300.0 * unit.kelvin  # Minimum temperature.\n",
    "T_max = t_max * unit.kelvin  # Maximum temperature.\n",
    "temperatures = [T_min + (T_max - T_min) * (math.exp(float(i) / float(n_replicas-1)) - 1.0) / (math.e - 1.0)\n",
    "                for i in range(n_replicas)]\n",
    "\n",
    "# Create reference thermodynamic state\n",
    "lambda_zero_alchemical_state = RESTState.from_system(REST_system)\n",
    "thermostate = ThermodynamicState(REST_system, temperature=T_min)\n",
    "compound_thermodynamic_state = CompoundThermodynamicState(thermostate, composable_states=[lambda_zero_alchemical_state])"
   ]
  },
  {
   "cell_type": "code",
   "execution_count": 8,
   "id": "df4075a1",
   "metadata": {},
   "outputs": [],
   "source": [
    "# Create thermodynamics states\n",
    "sampler_state =  SamplerState(positions, box_vectors=htf.hybrid_system.getDefaultPeriodicBoxVectors())\n",
    "beta_0 = 1/(kB*T_min)\n",
    "thermodynamic_state_list = []\n",
    "sampler_state_list = []\n",
    "for temperature in temperatures:\n",
    "    beta_m = 1/(kB*temperature)\n",
    "    compound_thermodynamic_state_copy = copy.deepcopy(compound_thermodynamic_state)\n",
    "    compound_thermodynamic_state_copy.set_alchemical_parameters(beta_0, beta_m)\n",
    "    thermodynamic_state_list.append(compound_thermodynamic_state_copy)\n",
    "\n",
    "    # now generating a sampler_state for each thermodynamic state, with relaxed positions\n",
    "    # context, context_integrator = context_cache.get_context(compound_thermodynamic_state_copy)\n",
    "    feptasks.minimize(compound_thermodynamic_state_copy, sampler_state, max_iterations=0)\n",
    "    sampler_state_list.append(copy.deepcopy(sampler_state))\n"
   ]
  },
  {
   "cell_type": "code",
   "execution_count": 9,
   "id": "23e81606",
   "metadata": {},
   "outputs": [],
   "source": [
    "## Subclass ReplicaExchangeSampler to only save the positions at the target temperature (so we don't need so much memory)\n",
    "\n",
    "from openmmtools.multistate import ReplicaExchangeSampler\n",
    "import mpiplus\n",
    "class ReplicaExchangeSampler2(ReplicaExchangeSampler):\n",
    "    @mpiplus.on_single_node(rank=0, broadcast_result=False, sync_nodes=False)\n",
    "    @mpiplus.delayed_termination\n",
    "    def _report_iteration_items(self):\n",
    "        \"\"\"\n",
    "        Sub-function of :func:`_report_iteration` which handles all the actual individual item reporting in a\n",
    "        sub-class friendly way. The final actions of writing timestamp, last-good-iteration, and syncing\n",
    "        should be left to the :func:`_report_iteration` and subclasses should extend this function instead\n",
    "        \"\"\"\n",
    "        replica_id = np.where(self._replica_thermodynamic_states == 0)[0][0]\n",
    "        print(\"ITERATION: \", self._iteration)\n",
    "        print(\"REPLICA THERMOSTATES \", self._replica_thermodynamic_states, type(self._replica_thermodynamic_states))\n",
    "        print(\"REPLICA ID \", replica_id, type(replica_id))\n",
    "        self._reporter.write_sampler_states([self._sampler_states[replica_id]], self._iteration)\n",
    "        self._reporter.write_replica_thermodynamic_states(self._replica_thermodynamic_states, self._iteration)\n",
    "        self._reporter.write_mcmc_moves(self._mcmc_moves)  # MCMCMoves can store internal statistics.\n",
    "        self._reporter.write_energies(self._energy_thermodynamic_states, self._neighborhoods, self._energy_unsampled_states,\n",
    "                                      self._iteration)\n",
    "        self._reporter.write_mixing_statistics(self._n_accepted_matrix, self._n_proposed_matrix, self._iteration)\n"
   ]
  },
  {
   "cell_type": "code",
   "execution_count": 10,
   "id": "d17238bf",
   "metadata": {},
   "outputs": [
    {
     "name": "stderr",
     "output_type": "stream",
     "text": [
      "WARNING:openmmtools.multistate.multistatesampler:Warning: The openmmtools.multistate API is experimental and may change in future releases\n"
     ]
    }
   ],
   "source": [
    "# Set up sampler\n",
    "move = mcmc.LangevinSplittingDynamicsMove(timestep=timestep*unit.femtoseconds, n_steps=int((move_length*1000)/timestep), context_cache=context_cache)\n",
    "simulation = ReplicaExchangeSampler2(mcmc_moves=move, number_of_iterations=length*1000)\n"
   ]
  },
  {
   "cell_type": "code",
   "execution_count": 11,
   "id": "ed882157",
   "metadata": {},
   "outputs": [
    {
     "name": "stderr",
     "output_type": "stream",
     "text": [
      "WARNING:openmmtools.multistate.multistatereporter:Warning: The openmmtools.multistate API is experimental and may change in future releases\n"
     ]
    },
    {
     "name": "stdout",
     "output_type": "stream",
     "text": [
      "Please cite the following:\n",
      "\n",
      "        Friedrichs MS, Eastman P, Vaidyanathan V, Houston M, LeGrand S, Beberg AL, Ensign DL, Bruns CM, and Pande VS. Accelerating molecular dynamic simulations on graphics processing unit. J. Comput. Chem. 30:864, 2009. DOI: 10.1002/jcc.21209\n",
      "        Eastman P and Pande VS. OpenMM: A hardware-independent framework for molecular simulations. Comput. Sci. Eng. 12:34, 2010. DOI: 10.1109/MCSE.2010.27\n",
      "        Eastman P and Pande VS. Efficient nonbonded interactions for molecular dynamics on a graphics processing unit. J. Comput. Chem. 31:1268, 2010. DOI: 10.1002/jcc.21413\n",
      "        Eastman P and Pande VS. Constant constraint matrix approximation: A robust, parallelizable constraint method for molecular simulations. J. Chem. Theor. Comput. 6:434, 2010. DOI: 10.1021/ct900463w\n",
      "        Chodera JD and Shirts MR. Replica exchange and expanded ensemble simulations as Gibbs multistate: Simple improvements for enhanced mixing. J. Chem. Phys., 135:194110, 2011. DOI:10.1063/1.3660669\n",
      "        \n",
      "ITERATION:  0\n",
      "REPLICA THERMOSTATES  [ 0  1  2  3  4  5  6  7  8  9 10 11 12 13 14 15 16 17 18 19 20 21 22 23\n",
      " 24 25 26 27 28 29 30 31 32 33 34 35] <class 'numpy.ndarray'>\n",
      "REPLICA ID  0 <class 'numpy.int64'>\n",
      "ITERATION:  1\n",
      "REPLICA THERMOSTATES  [ 0  1  2  3  6  4  7  5  8 10  9 12 13 11 14 15 16 19 17 18 20 21 22 23\n",
      " 25 26 24 29 27 28 30 32 31 33 34 35] <class 'numpy.ndarray'>\n",
      "REPLICA ID  0 <class 'numpy.int64'>\n"
     ]
    },
    {
     "ename": "KeyboardInterrupt",
     "evalue": "",
     "output_type": "error",
     "traceback": [
      "\u001b[0;31m---------------------------------------------------------------------------\u001b[0m",
      "\u001b[0;31mKeyboardInterrupt\u001b[0m                         Traceback (most recent call last)",
      "\u001b[0;32m/scratch/lsftmp/2773970.tmpdir/ipykernel_20390/303267123.py\u001b[0m in \u001b[0;36m<module>\u001b[0;34m\u001b[0m\n\u001b[1;32m      5\u001b[0m                   \u001b[0msampler_states\u001b[0m\u001b[0;34m=\u001b[0m\u001b[0msampler_state_list\u001b[0m\u001b[0;34m,\u001b[0m\u001b[0;34m\u001b[0m\u001b[0;34m\u001b[0m\u001b[0m\n\u001b[1;32m      6\u001b[0m                   storage=reporter)\n\u001b[0;32m----> 7\u001b[0;31m \u001b[0msimulation\u001b[0m\u001b[0;34m.\u001b[0m\u001b[0mrun\u001b[0m\u001b[0;34m(\u001b[0m\u001b[0;34m)\u001b[0m\u001b[0;34m\u001b[0m\u001b[0;34m\u001b[0m\u001b[0m\n\u001b[0m",
      "\u001b[0;32m~/miniconda3/envs/perses-rbd-ace2-direct/lib/python3.8/site-packages/openmmtools/multistate/multistatesampler.py\u001b[0m in \u001b[0;36mrun\u001b[0;34m(self, n_iterations)\u001b[0m\n\u001b[1;32m    679\u001b[0m \u001b[0;34m\u001b[0m\u001b[0m\n\u001b[1;32m    680\u001b[0m             \u001b[0;31m# Propagate replicas.\u001b[0m\u001b[0;34m\u001b[0m\u001b[0;34m\u001b[0m\u001b[0;34m\u001b[0m\u001b[0m\n\u001b[0;32m--> 681\u001b[0;31m             \u001b[0mself\u001b[0m\u001b[0;34m.\u001b[0m\u001b[0m_propagate_replicas\u001b[0m\u001b[0;34m(\u001b[0m\u001b[0;34m)\u001b[0m\u001b[0;34m\u001b[0m\u001b[0;34m\u001b[0m\u001b[0m\n\u001b[0m\u001b[1;32m    682\u001b[0m \u001b[0;34m\u001b[0m\u001b[0m\n\u001b[1;32m    683\u001b[0m             \u001b[0;31m# Compute energies of all replicas at all states\u001b[0m\u001b[0;34m\u001b[0m\u001b[0;34m\u001b[0m\u001b[0;34m\u001b[0m\u001b[0m\n",
      "\u001b[0;32m~/miniconda3/envs/perses-rbd-ace2-direct/lib/python3.8/site-packages/openmmtools/utils.py\u001b[0m in \u001b[0;36m_wrapper\u001b[0;34m(*args, **kwargs)\u001b[0m\n\u001b[1;32m     88\u001b[0m         \u001b[0;32mdef\u001b[0m \u001b[0m_wrapper\u001b[0m\u001b[0;34m(\u001b[0m\u001b[0;34m*\u001b[0m\u001b[0margs\u001b[0m\u001b[0;34m,\u001b[0m \u001b[0;34m**\u001b[0m\u001b[0mkwargs\u001b[0m\u001b[0;34m)\u001b[0m\u001b[0;34m:\u001b[0m\u001b[0;34m\u001b[0m\u001b[0;34m\u001b[0m\u001b[0m\n\u001b[1;32m     89\u001b[0m             \u001b[0;32mwith\u001b[0m \u001b[0mtime_it\u001b[0m\u001b[0;34m(\u001b[0m\u001b[0mtask_name\u001b[0m\u001b[0;34m)\u001b[0m\u001b[0;34m:\u001b[0m\u001b[0;34m\u001b[0m\u001b[0;34m\u001b[0m\u001b[0m\n\u001b[0;32m---> 90\u001b[0;31m                 \u001b[0;32mreturn\u001b[0m \u001b[0mfunc\u001b[0m\u001b[0;34m(\u001b[0m\u001b[0;34m*\u001b[0m\u001b[0margs\u001b[0m\u001b[0;34m,\u001b[0m \u001b[0;34m**\u001b[0m\u001b[0mkwargs\u001b[0m\u001b[0;34m)\u001b[0m\u001b[0;34m\u001b[0m\u001b[0;34m\u001b[0m\u001b[0m\n\u001b[0m\u001b[1;32m     91\u001b[0m         \u001b[0;32mreturn\u001b[0m \u001b[0m_wrapper\u001b[0m\u001b[0;34m\u001b[0m\u001b[0;34m\u001b[0m\u001b[0m\n\u001b[1;32m     92\u001b[0m     \u001b[0;32mreturn\u001b[0m \u001b[0m_with_timer\u001b[0m\u001b[0;34m\u001b[0m\u001b[0;34m\u001b[0m\u001b[0m\n",
      "\u001b[0;32m~/miniconda3/envs/perses-rbd-ace2-direct/lib/python3.8/site-packages/openmmtools/multistate/multistatesampler.py\u001b[0m in \u001b[0;36m_propagate_replicas\u001b[0;34m(self)\u001b[0m\n\u001b[1;32m   1194\u001b[0m         \u001b[0;31m# and box vectors. The other nodes, only need the positions that they use\u001b[0m\u001b[0;34m\u001b[0m\u001b[0;34m\u001b[0m\u001b[0;34m\u001b[0m\u001b[0m\n\u001b[1;32m   1195\u001b[0m         \u001b[0;31m# for propagation and computation of the energy matrix entries.\u001b[0m\u001b[0;34m\u001b[0m\u001b[0;34m\u001b[0m\u001b[0;34m\u001b[0m\u001b[0m\n\u001b[0;32m-> 1196\u001b[0;31m         propagated_states, replica_ids = mpiplus.distribute(self._propagate_replica, range(self.n_replicas),\n\u001b[0m\u001b[1;32m   1197\u001b[0m                                                         send_results_to=0)\n\u001b[1;32m   1198\u001b[0m \u001b[0;34m\u001b[0m\u001b[0m\n",
      "\u001b[0;32m~/miniconda3/envs/perses-rbd-ace2-direct/lib/python3.8/site-packages/mpiplus/mpiplus.py\u001b[0m in \u001b[0;36mdistribute\u001b[0;34m(task, distributed_args, send_results_to, propagate_exceptions_to, sync_nodes, group_size, *other_args, **kwargs)\u001b[0m\n\u001b[1;32m    510\u001b[0m     \u001b[0;32mif\u001b[0m \u001b[0mget_mpicomm\u001b[0m\u001b[0;34m(\u001b[0m\u001b[0;34m)\u001b[0m \u001b[0;32mis\u001b[0m \u001b[0;32mNone\u001b[0m\u001b[0;34m:\u001b[0m\u001b[0;34m\u001b[0m\u001b[0;34m\u001b[0m\u001b[0m\n\u001b[1;32m    511\u001b[0m         \u001b[0mlogger\u001b[0m\u001b[0;34m.\u001b[0m\u001b[0mdebug\u001b[0m\u001b[0;34m(\u001b[0m\u001b[0;34m'Running {} serially.'\u001b[0m\u001b[0;34m.\u001b[0m\u001b[0mformat\u001b[0m\u001b[0;34m(\u001b[0m\u001b[0mtask\u001b[0m\u001b[0;34m.\u001b[0m\u001b[0m__name__\u001b[0m\u001b[0;34m)\u001b[0m\u001b[0;34m)\u001b[0m\u001b[0;34m\u001b[0m\u001b[0;34m\u001b[0m\u001b[0m\n\u001b[0;32m--> 512\u001b[0;31m         \u001b[0mall_results\u001b[0m \u001b[0;34m=\u001b[0m \u001b[0;34m[\u001b[0m\u001b[0mtask\u001b[0m\u001b[0;34m(\u001b[0m\u001b[0mjob_args\u001b[0m\u001b[0;34m,\u001b[0m \u001b[0;34m*\u001b[0m\u001b[0mother_args\u001b[0m\u001b[0;34m,\u001b[0m \u001b[0;34m**\u001b[0m\u001b[0mkwargs\u001b[0m\u001b[0;34m)\u001b[0m \u001b[0;32mfor\u001b[0m \u001b[0mjob_args\u001b[0m \u001b[0;32min\u001b[0m \u001b[0mdistributed_args\u001b[0m\u001b[0;34m]\u001b[0m\u001b[0;34m\u001b[0m\u001b[0;34m\u001b[0m\u001b[0m\n\u001b[0m\u001b[1;32m    513\u001b[0m         \u001b[0;32mif\u001b[0m \u001b[0msend_results_to\u001b[0m \u001b[0;34m==\u001b[0m \u001b[0;34m'all'\u001b[0m\u001b[0;34m:\u001b[0m\u001b[0;34m\u001b[0m\u001b[0;34m\u001b[0m\u001b[0m\n\u001b[1;32m    514\u001b[0m             \u001b[0;32mreturn\u001b[0m \u001b[0mall_results\u001b[0m\u001b[0;34m\u001b[0m\u001b[0;34m\u001b[0m\u001b[0m\n",
      "\u001b[0;32m~/miniconda3/envs/perses-rbd-ace2-direct/lib/python3.8/site-packages/mpiplus/mpiplus.py\u001b[0m in \u001b[0;36m<listcomp>\u001b[0;34m(.0)\u001b[0m\n\u001b[1;32m    510\u001b[0m     \u001b[0;32mif\u001b[0m \u001b[0mget_mpicomm\u001b[0m\u001b[0;34m(\u001b[0m\u001b[0;34m)\u001b[0m \u001b[0;32mis\u001b[0m \u001b[0;32mNone\u001b[0m\u001b[0;34m:\u001b[0m\u001b[0;34m\u001b[0m\u001b[0;34m\u001b[0m\u001b[0m\n\u001b[1;32m    511\u001b[0m         \u001b[0mlogger\u001b[0m\u001b[0;34m.\u001b[0m\u001b[0mdebug\u001b[0m\u001b[0;34m(\u001b[0m\u001b[0;34m'Running {} serially.'\u001b[0m\u001b[0;34m.\u001b[0m\u001b[0mformat\u001b[0m\u001b[0;34m(\u001b[0m\u001b[0mtask\u001b[0m\u001b[0;34m.\u001b[0m\u001b[0m__name__\u001b[0m\u001b[0;34m)\u001b[0m\u001b[0;34m)\u001b[0m\u001b[0;34m\u001b[0m\u001b[0;34m\u001b[0m\u001b[0m\n\u001b[0;32m--> 512\u001b[0;31m         \u001b[0mall_results\u001b[0m \u001b[0;34m=\u001b[0m \u001b[0;34m[\u001b[0m\u001b[0mtask\u001b[0m\u001b[0;34m(\u001b[0m\u001b[0mjob_args\u001b[0m\u001b[0;34m,\u001b[0m \u001b[0;34m*\u001b[0m\u001b[0mother_args\u001b[0m\u001b[0;34m,\u001b[0m \u001b[0;34m**\u001b[0m\u001b[0mkwargs\u001b[0m\u001b[0;34m)\u001b[0m \u001b[0;32mfor\u001b[0m \u001b[0mjob_args\u001b[0m \u001b[0;32min\u001b[0m \u001b[0mdistributed_args\u001b[0m\u001b[0;34m]\u001b[0m\u001b[0;34m\u001b[0m\u001b[0;34m\u001b[0m\u001b[0m\n\u001b[0m\u001b[1;32m    513\u001b[0m         \u001b[0;32mif\u001b[0m \u001b[0msend_results_to\u001b[0m \u001b[0;34m==\u001b[0m \u001b[0;34m'all'\u001b[0m\u001b[0;34m:\u001b[0m\u001b[0;34m\u001b[0m\u001b[0;34m\u001b[0m\u001b[0m\n\u001b[1;32m    514\u001b[0m             \u001b[0;32mreturn\u001b[0m \u001b[0mall_results\u001b[0m\u001b[0;34m\u001b[0m\u001b[0;34m\u001b[0m\u001b[0m\n",
      "\u001b[0;32m~/miniconda3/envs/perses-rbd-ace2-direct/lib/python3.8/site-packages/openmmtools/multistate/multistatesampler.py\u001b[0m in \u001b[0;36m_propagate_replica\u001b[0;34m(self, replica_id)\u001b[0m\n\u001b[1;32m   1221\u001b[0m         \u001b[0;31m# Apply MCMC move.\u001b[0m\u001b[0;34m\u001b[0m\u001b[0;34m\u001b[0m\u001b[0;34m\u001b[0m\u001b[0m\n\u001b[1;32m   1222\u001b[0m         \u001b[0;32mtry\u001b[0m\u001b[0;34m:\u001b[0m\u001b[0;34m\u001b[0m\u001b[0;34m\u001b[0m\u001b[0m\n\u001b[0;32m-> 1223\u001b[0;31m             \u001b[0mmcmc_move\u001b[0m\u001b[0;34m.\u001b[0m\u001b[0mapply\u001b[0m\u001b[0;34m(\u001b[0m\u001b[0mthermodynamic_state\u001b[0m\u001b[0;34m,\u001b[0m \u001b[0msampler_state\u001b[0m\u001b[0;34m)\u001b[0m\u001b[0;34m\u001b[0m\u001b[0;34m\u001b[0m\u001b[0m\n\u001b[0m\u001b[1;32m   1224\u001b[0m         \u001b[0;32mexcept\u001b[0m \u001b[0mmcmc\u001b[0m\u001b[0;34m.\u001b[0m\u001b[0mIntegratorMoveError\u001b[0m \u001b[0;32mas\u001b[0m \u001b[0me\u001b[0m\u001b[0;34m:\u001b[0m\u001b[0;34m\u001b[0m\u001b[0;34m\u001b[0m\u001b[0m\n\u001b[1;32m   1225\u001b[0m             \u001b[0;31m# Save NaNnig context and MCMove before aborting.\u001b[0m\u001b[0;34m\u001b[0m\u001b[0;34m\u001b[0m\u001b[0;34m\u001b[0m\u001b[0m\n",
      "\u001b[0;32m~/miniconda3/envs/perses-rbd-ace2-direct/lib/python3.8/site-packages/openmmtools/mcmc.py\u001b[0m in \u001b[0;36mapply\u001b[0;34m(self, thermodynamic_state, sampler_state)\u001b[0m\n\u001b[1;32m   1112\u001b[0m         \"\"\"\n\u001b[1;32m   1113\u001b[0m         \u001b[0;31m# Explicitly implemented just to have more specific docstring.\u001b[0m\u001b[0;34m\u001b[0m\u001b[0;34m\u001b[0m\u001b[0;34m\u001b[0m\u001b[0m\n\u001b[0;32m-> 1114\u001b[0;31m         \u001b[0msuper\u001b[0m\u001b[0;34m(\u001b[0m\u001b[0mLangevinDynamicsMove\u001b[0m\u001b[0;34m,\u001b[0m \u001b[0mself\u001b[0m\u001b[0;34m)\u001b[0m\u001b[0;34m.\u001b[0m\u001b[0mapply\u001b[0m\u001b[0;34m(\u001b[0m\u001b[0mthermodynamic_state\u001b[0m\u001b[0;34m,\u001b[0m \u001b[0msampler_state\u001b[0m\u001b[0;34m)\u001b[0m\u001b[0;34m\u001b[0m\u001b[0;34m\u001b[0m\u001b[0m\n\u001b[0m\u001b[1;32m   1115\u001b[0m \u001b[0;34m\u001b[0m\u001b[0m\n\u001b[1;32m   1116\u001b[0m     \u001b[0;32mdef\u001b[0m \u001b[0m__getstate__\u001b[0m\u001b[0;34m(\u001b[0m\u001b[0mself\u001b[0m\u001b[0;34m)\u001b[0m\u001b[0;34m:\u001b[0m\u001b[0;34m\u001b[0m\u001b[0;34m\u001b[0m\u001b[0m\n",
      "\u001b[0;32m~/miniconda3/envs/perses-rbd-ace2-direct/lib/python3.8/site-packages/openmmtools/mcmc.py\u001b[0m in \u001b[0;36mapply\u001b[0;34m(self, thermodynamic_state, sampler_state)\u001b[0m\n\u001b[1;32m    653\u001b[0m         \u001b[0;31m# Create context.\u001b[0m\u001b[0;34m\u001b[0m\u001b[0;34m\u001b[0m\u001b[0;34m\u001b[0m\u001b[0m\n\u001b[1;32m    654\u001b[0m         \u001b[0mtimer\u001b[0m\u001b[0;34m.\u001b[0m\u001b[0mstart\u001b[0m\u001b[0;34m(\u001b[0m\u001b[0;34m\"{}: Context request\"\u001b[0m\u001b[0;34m.\u001b[0m\u001b[0mformat\u001b[0m\u001b[0;34m(\u001b[0m\u001b[0mmove_name\u001b[0m\u001b[0;34m)\u001b[0m\u001b[0;34m)\u001b[0m\u001b[0;34m\u001b[0m\u001b[0;34m\u001b[0m\u001b[0m\n\u001b[0;32m--> 655\u001b[0;31m         \u001b[0mcontext\u001b[0m\u001b[0;34m,\u001b[0m \u001b[0mintegrator\u001b[0m \u001b[0;34m=\u001b[0m \u001b[0mcontext_cache\u001b[0m\u001b[0;34m.\u001b[0m\u001b[0mget_context\u001b[0m\u001b[0;34m(\u001b[0m\u001b[0mthermodynamic_state\u001b[0m\u001b[0;34m,\u001b[0m \u001b[0mintegrator\u001b[0m\u001b[0;34m)\u001b[0m\u001b[0;34m\u001b[0m\u001b[0;34m\u001b[0m\u001b[0m\n\u001b[0m\u001b[1;32m    656\u001b[0m         \u001b[0mtimer\u001b[0m\u001b[0;34m.\u001b[0m\u001b[0mstop\u001b[0m\u001b[0;34m(\u001b[0m\u001b[0;34m\"{}: Context request\"\u001b[0m\u001b[0;34m.\u001b[0m\u001b[0mformat\u001b[0m\u001b[0;34m(\u001b[0m\u001b[0mmove_name\u001b[0m\u001b[0;34m)\u001b[0m\u001b[0;34m)\u001b[0m\u001b[0;34m\u001b[0m\u001b[0;34m\u001b[0m\u001b[0m\n\u001b[1;32m    657\u001b[0m         \u001b[0;31m#logger.debug(\"{}: Context obtained, platform is {}\".format(\u001b[0m\u001b[0;34m\u001b[0m\u001b[0;34m\u001b[0m\u001b[0;34m\u001b[0m\u001b[0m\n",
      "\u001b[0;32m~/miniconda3/envs/perses-rbd-ace2-direct/lib/python3.8/site-packages/openmmtools/cache.py\u001b[0m in \u001b[0;36mget_context\u001b[0;34m(self, thermodynamic_state, integrator)\u001b[0m\n\u001b[1;32m    752\u001b[0m                 \u001b[0mtemperature\u001b[0m\u001b[0;34m=\u001b[0m\u001b[0mthermodynamic_state\u001b[0m\u001b[0;34m.\u001b[0m\u001b[0mtemperature\u001b[0m\u001b[0;34m\u001b[0m\u001b[0;34m\u001b[0m\u001b[0m\n\u001b[1;32m    753\u001b[0m             )\n\u001b[0;32m--> 754\u001b[0;31m         \u001b[0mcontext\u001b[0m \u001b[0;34m=\u001b[0m \u001b[0mthermodynamic_state\u001b[0m\u001b[0;34m.\u001b[0m\u001b[0mcreate_context\u001b[0m\u001b[0;34m(\u001b[0m\u001b[0mintegrator\u001b[0m\u001b[0;34m,\u001b[0m \u001b[0mself\u001b[0m\u001b[0;34m.\u001b[0m\u001b[0mplatform\u001b[0m\u001b[0;34m)\u001b[0m\u001b[0;34m\u001b[0m\u001b[0;34m\u001b[0m\u001b[0m\n\u001b[0m\u001b[1;32m    755\u001b[0m         \u001b[0;32mreturn\u001b[0m \u001b[0mcontext\u001b[0m\u001b[0;34m,\u001b[0m \u001b[0mintegrator\u001b[0m\u001b[0;34m\u001b[0m\u001b[0;34m\u001b[0m\u001b[0m\n\u001b[1;32m    756\u001b[0m \u001b[0;34m\u001b[0m\u001b[0m\n",
      "\u001b[0;32m~/miniconda3/envs/perses-rbd-ace2-direct/lib/python3.8/site-packages/openmmtools/states.py\u001b[0m in \u001b[0;36mcreate_context\u001b[0;34m(self, integrator, platform, platform_properties)\u001b[0m\n\u001b[1;32m   1170\u001b[0m             \u001b[0;32mif\u001b[0m \u001b[0mplatform_properties\u001b[0m \u001b[0;32mis\u001b[0m \u001b[0;32mnot\u001b[0m \u001b[0;32mNone\u001b[0m\u001b[0;34m:\u001b[0m\u001b[0;34m\u001b[0m\u001b[0;34m\u001b[0m\u001b[0m\n\u001b[1;32m   1171\u001b[0m                 \u001b[0;32mraise\u001b[0m \u001b[0mValueError\u001b[0m\u001b[0;34m(\u001b[0m\u001b[0;34m\"To set platform_properties, you need to also specify the platform.\"\u001b[0m\u001b[0;34m)\u001b[0m\u001b[0;34m\u001b[0m\u001b[0;34m\u001b[0m\u001b[0m\n\u001b[0;32m-> 1172\u001b[0;31m             \u001b[0;32mreturn\u001b[0m \u001b[0mopenmm\u001b[0m\u001b[0;34m.\u001b[0m\u001b[0mContext\u001b[0m\u001b[0;34m(\u001b[0m\u001b[0msystem\u001b[0m\u001b[0;34m,\u001b[0m \u001b[0mintegrator\u001b[0m\u001b[0;34m)\u001b[0m\u001b[0;34m\u001b[0m\u001b[0;34m\u001b[0m\u001b[0m\n\u001b[0m\u001b[1;32m   1173\u001b[0m         \u001b[0;32melif\u001b[0m \u001b[0mplatform_properties\u001b[0m \u001b[0;32mis\u001b[0m \u001b[0;32mNone\u001b[0m\u001b[0;34m:\u001b[0m\u001b[0;34m\u001b[0m\u001b[0;34m\u001b[0m\u001b[0m\n\u001b[1;32m   1174\u001b[0m             \u001b[0;32mreturn\u001b[0m \u001b[0mopenmm\u001b[0m\u001b[0;34m.\u001b[0m\u001b[0mContext\u001b[0m\u001b[0;34m(\u001b[0m\u001b[0msystem\u001b[0m\u001b[0;34m,\u001b[0m \u001b[0mintegrator\u001b[0m\u001b[0;34m,\u001b[0m \u001b[0mplatform\u001b[0m\u001b[0;34m)\u001b[0m\u001b[0;34m\u001b[0m\u001b[0;34m\u001b[0m\u001b[0m\n",
      "\u001b[0;32m~/miniconda3/envs/perses-rbd-ace2-direct/lib/python3.8/site-packages/openmm/openmm.py\u001b[0m in \u001b[0;36m__init__\u001b[0;34m(self, *args)\u001b[0m\n\u001b[1;32m  12701\u001b[0m             \u001b[0ma\u001b[0m \u001b[0mset\u001b[0m \u001b[0mof\u001b[0m \u001b[0mvalues\u001b[0m \u001b[0;32mfor\u001b[0m \u001b[0mplatform\u001b[0m\u001b[0;34m-\u001b[0m\u001b[0mspecific\u001b[0m \u001b[0mproperties\u001b[0m\u001b[0;34m.\u001b[0m \u001b[0mKeys\u001b[0m \u001b[0mare\u001b[0m \u001b[0mthe\u001b[0m \u001b[0mproperty\u001b[0m \u001b[0mnames\u001b[0m\u001b[0;34m.\u001b[0m\u001b[0;34m\u001b[0m\u001b[0;34m\u001b[0m\u001b[0m\n\u001b[1;32m  12702\u001b[0m         \"\"\"\n\u001b[0;32m> 12703\u001b[0;31m         \u001b[0m_openmm\u001b[0m\u001b[0;34m.\u001b[0m\u001b[0mContext_swiginit\u001b[0m\u001b[0;34m(\u001b[0m\u001b[0mself\u001b[0m\u001b[0;34m,\u001b[0m \u001b[0m_openmm\u001b[0m\u001b[0;34m.\u001b[0m\u001b[0mnew_Context\u001b[0m\u001b[0;34m(\u001b[0m\u001b[0;34m*\u001b[0m\u001b[0margs\u001b[0m\u001b[0;34m)\u001b[0m\u001b[0;34m)\u001b[0m\u001b[0;34m\u001b[0m\u001b[0;34m\u001b[0m\u001b[0m\n\u001b[0m\u001b[1;32m  12704\u001b[0m \u001b[0;34m\u001b[0m\u001b[0m\n\u001b[1;32m  12705\u001b[0m         \u001b[0mself\u001b[0m\u001b[0;34m.\u001b[0m\u001b[0m_system\u001b[0m \u001b[0;34m=\u001b[0m \u001b[0margs\u001b[0m\u001b[0;34m[\u001b[0m\u001b[0;36m0\u001b[0m\u001b[0;34m]\u001b[0m\u001b[0;34m\u001b[0m\u001b[0;34m\u001b[0m\u001b[0m\n",
      "\u001b[0;31mKeyboardInterrupt\u001b[0m: "
     ]
    }
   ],
   "source": [
    "# Run t-repex\n",
    "reporter_file = os.path.join(outdir, f\"{i}_{phase}_{name.lower()}_{length}ns_dummy.nc\")\n",
    "reporter = multistate.MultiStateReporter(reporter_file, checkpoint_interval=1)\n",
    "simulation.create(thermodynamic_states=thermodynamic_state_list,\n",
    "                  sampler_states=sampler_state_list,\n",
    "                  storage=reporter)\n",
    "simulation.run()"
   ]
  },
  {
   "cell_type": "code",
   "execution_count": null,
   "id": "a5dc49bc",
   "metadata": {},
   "outputs": [],
   "source": []
  },
  {
   "cell_type": "code",
   "execution_count": null,
   "id": "95f02d59",
   "metadata": {},
   "outputs": [],
   "source": []
  },
  {
   "cell_type": "code",
   "execution_count": null,
   "id": "b30e3147",
   "metadata": {},
   "outputs": [],
   "source": []
  },
  {
   "cell_type": "code",
   "execution_count": null,
   "id": "f8a6ae99",
   "metadata": {},
   "outputs": [],
   "source": []
  }
 ],
 "metadata": {
  "kernelspec": {
   "display_name": "Python 3 (ipykernel)",
   "language": "python",
   "name": "python3"
  },
  "language_info": {
   "codemirror_mode": {
    "name": "ipython",
    "version": 3
   },
   "file_extension": ".py",
   "mimetype": "text/x-python",
   "name": "python",
   "nbconvert_exporter": "python",
   "pygments_lexer": "ipython3",
   "version": "3.8.11"
  }
 },
 "nbformat": 4,
 "nbformat_minor": 5
}
