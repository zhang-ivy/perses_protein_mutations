{
 "cells": [
  {
   "cell_type": "code",
   "execution_count": 5,
   "id": "expensive-object",
   "metadata": {},
   "outputs": [],
   "source": [
    "import pickle\n",
    "from simtk.openmm import XmlSerializer\n",
    "from simtk.openmm import app "
   ]
  },
  {
   "cell_type": "code",
   "execution_count": 2,
   "id": "czech-checkout",
   "metadata": {},
   "outputs": [],
   "source": [
    "with open(\"/data/chodera/zhangi/perses_benchmark/neq/15/146/146_complex.pickle\", \"rb\") as f:\n",
    "    htf = pickle.load(f)"
   ]
  },
  {
   "cell_type": "code",
   "execution_count": 4,
   "id": "italic-character",
   "metadata": {},
   "outputs": [],
   "source": [
    "# Deserialize system file and load system\n",
    "with open('rbd_ace2_Y501_system.xml', 'w') as f:\n",
    "    f.write(XmlSerializer.serialize(htf._topology_proposal.new_system))"
   ]
  },
  {
   "cell_type": "code",
   "execution_count": 6,
   "id": "molecular-realtor",
   "metadata": {},
   "outputs": [],
   "source": [
    "with open(\"rbd_ace2_Y501.pdb\", \"w\") as f:\n",
    "    app.PDBFile.writeFile(htf._topology_proposal.new_topology, htf.new_positions(htf.hybrid_positions), f, keepIds=True)"
   ]
  },
  {
   "cell_type": "code",
   "execution_count": null,
   "id": "medium-algebra",
   "metadata": {},
   "outputs": [],
   "source": []
  },
  {
   "cell_type": "code",
   "execution_count": 8,
   "id": "rolled-requirement",
   "metadata": {},
   "outputs": [],
   "source": [
    "with open(\"/data/chodera/zhangi/perses_benchmark/neq/21/53/53_complex.pickle\", \"rb\") as f:\n",
    "    htf = pickle.load(f)"
   ]
  },
  {
   "cell_type": "code",
   "execution_count": 9,
   "id": "saved-cancer",
   "metadata": {},
   "outputs": [],
   "source": [
    "# Deserialize system file and load system\n",
    "with open('bnbs_A39_system.xml', 'w') as f:\n",
    "    f.write(XmlSerializer.serialize(htf._topology_proposal.new_system))"
   ]
  },
  {
   "cell_type": "code",
   "execution_count": 10,
   "id": "meaning-consequence",
   "metadata": {},
   "outputs": [],
   "source": [
    "with open(\"bnbs_A39.pdb\", \"w\") as f:\n",
    "    app.PDBFile.writeFile(htf._topology_proposal.new_topology, htf.new_positions(htf.hybrid_positions), f, keepIds=True)"
   ]
  },
  {
   "cell_type": "code",
   "execution_count": null,
   "id": "alternate-memory",
   "metadata": {},
   "outputs": [],
   "source": []
  }
 ],
 "metadata": {
  "kernelspec": {
   "display_name": "Python 3",
   "language": "python",
   "name": "python3"
  },
  "language_info": {
   "codemirror_mode": {
    "name": "ipython",
    "version": 3
   },
   "file_extension": ".py",
   "mimetype": "text/x-python",
   "name": "python",
   "nbconvert_exporter": "python",
   "pygments_lexer": "ipython3",
   "version": "3.8.6"
  }
 },
 "nbformat": 4,
 "nbformat_minor": 5
}
