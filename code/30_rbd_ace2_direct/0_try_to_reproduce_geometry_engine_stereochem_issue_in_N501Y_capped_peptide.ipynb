{
 "cells": [
  {
   "cell_type": "code",
   "execution_count": 15,
   "id": "9f92caf8",
   "metadata": {},
   "outputs": [],
   "source": [
    "from perses.app.relative_point_mutation_setup import PointMutationExecutor\n",
    "import pickle\n",
    "import os\n",
    "from simtk.openmm import app"
   ]
  },
  {
   "cell_type": "code",
   "execution_count": 2,
   "id": "b8510ae0",
   "metadata": {
    "scrolled": true
   },
   "outputs": [
    {
     "name": "stderr",
     "output_type": "stream",
     "text": [
      "DEBUG:openmmforcefields.system_generators:Trying GAFFTemplateGenerator to load gaff-2.11\n",
      "INFO:setup:solvating at 0.15 M using tip3p\n",
      "INFO:proposal_generator:\tConducting polymer point mutation proposal...\n",
      "WARNING:atom_mapping:Molecules do not appear to share a common scaffold.\n",
      "WARNING:atom_mapping:Proceeding with direct mapping of molecules, but please check atom mapping and the geometry of the ligands.\n",
      "INFO:proposal_generator:[Atom(name=CB, atomic number=6), Atom(name=CG, atomic number=6), Atom(name=ND2, atomic number=7), Atom(name=OD1, atomic number=8), Atom(name=HB2, atomic number=1), Atom(name=HB3, atomic number=1), Atom(name=HD21, atomic number=1), Atom(name=HD22, atomic number=1)]\n",
      "INFO:proposal_generator:[Atom(name=CB, atomic number=6), Atom(name=CG, atomic number=6), Atom(name=CD1, atomic number=6), Atom(name=CD2, atomic number=6), Atom(name=CE1, atomic number=6), Atom(name=CE2, atomic number=6), Atom(name=CZ, atomic number=6), Atom(name=OH, atomic number=8), Atom(name=HB2, atomic number=1), Atom(name=HB3, atomic number=1), Atom(name=HD1, atomic number=1), Atom(name=HD2, atomic number=1), Atom(name=HE1, atomic number=1), Atom(name=HE2, atomic number=1), Atom(name=HH, atomic number=1)]\n",
      "INFO:geometry:propose: performing forward proposal\n",
      "INFO:geometry:propose: unique new atoms detected; proceeding to _logp_propose...\n",
      "INFO:geometry:Conducting forward proposal...\n",
      "INFO:geometry:Computing proposal order with NetworkX...\n",
      "INFO:geometry:number of atoms to be placed: 15\n",
      "INFO:geometry:Atom index proposal order is [55, 56, 70, 68, 61, 63, 65, 66, 60, 64, 67, 59, 62, 71, 69]\n",
      "INFO:geometry:omitted_bonds: [(65, 68)]\n",
      "INFO:geometry:direction of proposal is forward; creating atoms_with_positions and new positions from old system/topology...\n",
      "INFO:geometry:creating growth system...\n",
      "INFO:geometry:\tcreating bond force...\n",
      "INFO:geometry:\tthere are 56 bonds in reference force.\n",
      "INFO:geometry:\tcreating angle force...\n",
      "INFO:geometry:\tthere are 194 angles in reference force.\n",
      "INFO:geometry:\tcreating torsion force...\n",
      "INFO:geometry:\tcreating extra torsions force...\n",
      "INFO:geometry:\tthere are 350 torsions in reference force.\n",
      "INFO:geometry:\tcreating nonbonded force...\n",
      "INFO:geometry:\t\tgrabbing reference nonbonded method, cutoff, switching function, switching distance...\n",
      "INFO:geometry:\t\tcreating nonbonded exception force (i.e. custom bond for 1,4s)...\n",
      "INFO:geometry:\t\tlooping through exceptions calculating growth indices, and adding appropriate interactions to custom bond force.\n",
      "INFO:geometry:\t\tthere are 3963 in the reference Nonbonded force\n",
      "WARNING:geometry:\t\t\t\t\tchiral atom <Atom 52 (CA) of chain 0 residue 4 (TYR)> with neighbors [<Atom 53 (C) of chain 0 residue 4 (TYR)>, <Atom 55 (CB) of chain 0 residue 4 (TYR)>, <Atom 58 (HA) of chain 0 residue 4 (TYR)>, <Atom 51 (N) of chain 0 residue 4 (TYR)>] is surrounded by 3 core neighbors.  omitting chirality bias torsion\n",
      "INFO:geometry:Neglected angle terms : []\n",
      "INFO:geometry:omitted_growth_terms: {'bonds': [(65, 68)], 'angles': [(63, 65, 68), (65, 68, 69), (65, 68, 70), (66, 65, 68)], 'torsions': [(56, 70, 68, 65), (61, 63, 65, 68), (63, 65, 68, 69), (63, 65, 68, 70), (64, 63, 65, 68), (65, 68, 70, 71), (66, 65, 68, 69), (66, 65, 68, 70), (67, 66, 65, 68), (67, 66, 65, 68), (63, 68, 65, 66)], '1,4s': [(56, 65), (61, 68), (64, 68), (67, 68), (63, 69), (66, 69), (63, 70), (66, 70), (65, 71)]}\n",
      "INFO:geometry:extra torsions: {0: (67, 66, 65, 63, [1, Quantity(value=-0.002870001521861454, unit=radian), Quantity(value=1200.0, unit=kilocalorie/mole), 11]), 1: (64, 63, 65, 66, [1, Quantity(value=3.1393768365632813, unit=radian), Quantity(value=1200.0, unit=kilocalorie/mole), 10]), 2: (61, 63, 65, 66, [1, Quantity(value=0.0022213748613295614, unit=radian), Quantity(value=1200.0, unit=kilocalorie/mole), 8]), 3: (64, 63, 61, 62, [1, Quantity(value=3.139771005499866, unit=radian), Quantity(value=1200.0, unit=kilocalorie/mole), 13]), 4: (64, 63, 61, 56, [1, Quantity(value=0.0069177728493503565, unit=radian), Quantity(value=1200.0, unit=kilocalorie/mole), 10]), 5: (65, 63, 61, 62, [1, Quantity(value=-0.0062808214457872324, unit=radian), Quantity(value=1200.0, unit=kilocalorie/mole), 13]), 6: (65, 63, 61, 56, [1, Quantity(value=-3.1391340540962216, unit=radian), Quantity(value=1200.0, unit=kilocalorie/mole), 7]), 7: (63, 61, 56, 70, [1, Quantity(value=3.1373539745559547, unit=radian), Quantity(value=1200.0, unit=kilocalorie/mole), 6]), 8: (63, 61, 56, 55, [1, Quantity(value=-0.012555513663626172, unit=radian), Quantity(value=1200.0, unit=kilocalorie/mole), 6]), 9: (62, 61, 56, 70, [1, Quantity(value=0.004577035070323365, unit=radian), Quantity(value=1200.0, unit=kilocalorie/mole), 13]), 10: (62, 61, 56, 55, [1, Quantity(value=3.137852854030348, unit=radian), Quantity(value=1200.0, unit=kilocalorie/mole), 13]), 11: (69, 68, 70, 56, [1, Quantity(value=-0.006701599266596858, unit=radian), Quantity(value=1200.0, unit=kilocalorie/mole), 15]), 12: (69, 68, 70, 71, [1, Quantity(value=-3.134703221499019, unit=radian), Quantity(value=1200.0, unit=kilocalorie/mole), 15]), 13: (61, 56, 70, 68, [1, Quantity(value=-3.137699428633435, unit=radian), Quantity(value=1200.0, unit=kilocalorie/mole), 5]), 14: (61, 56, 70, 71, [1, Quantity(value=-0.009793556643590051, unit=radian), Quantity(value=1200.0, unit=kilocalorie/mole), 14]), 15: (55, 56, 70, 68, [1, Quantity(value=0.012140215312939961, unit=radian), Quantity(value=1200.0, unit=kilocalorie/mole), 4]), 16: (55, 56, 70, 71, [1, Quantity(value=3.14004608730288, unit=radian), Quantity(value=1200.0, unit=kilocalorie/mole), 14]), 17: (55, 52, 51, 57, [1, Quantity(value=1.047411640674822, unit=radian), Quantity(value=1200.0, unit=kilocalorie/mole), 1])}\n",
      "INFO:geometry:neglected angle terms include []\n",
      "INFO:geometry:log probability choice of torsions and atom order: -22.401890650042585\n",
      "INFO:geometry:creating platform, integrators, and contexts; setting growth parameter\n"
     ]
    },
    {
     "name": "stdout",
     "output_type": "stream",
     "text": [
      "conducting subsequent work with the following platform: CUDA\n",
      "conducting subsequent work with the following platform: CUDA\n"
     ]
    },
    {
     "name": "stderr",
     "output_type": "stream",
     "text": [
      "INFO:geometry:setting atoms_with_positions context new positions\n"
     ]
    },
    {
     "name": "stdout",
     "output_type": "stream",
     "text": [
      "conducting subsequent work with the following platform: CUDA\n"
     ]
    },
    {
     "name": "stderr",
     "output_type": "stream",
     "text": [
      "INFO:geometry:There are 15 new atoms\n",
      "INFO:geometry:\treduced angle potential = 0.6901758549537383.\n",
      "INFO:geometry:\treduced angle potential = 0.5069841284949483.\n",
      "INFO:geometry:\treduced angle potential = 1.0571389898734347.\n",
      "INFO:geometry:\treduced angle potential = 0.0675895735370661.\n",
      "INFO:geometry:\treduced angle potential = 0.006320681540843524.\n",
      "INFO:geometry:\treduced angle potential = 0.7573355096509876.\n",
      "INFO:geometry:\treduced angle potential = 0.15925587798066695.\n",
      "INFO:geometry:\treduced angle potential = 0.024189381257510904.\n",
      "INFO:geometry:\treduced angle potential = 0.19753679513437286.\n",
      "INFO:geometry:\treduced angle potential = 0.20259410047448712.\n",
      "INFO:geometry:\treduced angle potential = 0.01831463045471111.\n",
      "INFO:geometry:\treduced angle potential = 0.28306798093939395.\n",
      "INFO:geometry:\treduced angle potential = 0.0045258362506453344.\n",
      "INFO:geometry:\treduced angle potential = 0.5710954816674667.\n",
      "INFO:geometry:\treduced angle potential = 0.04784754798049116.\n",
      "INFO:geometry:\tbeginning construction of no_nonbonded final system...\n",
      "INFO:geometry:\tinitial no-nonbonded final system forces ['HarmonicBondForce', 'HarmonicAngleForce', 'PeriodicTorsionForce', 'NonbondedForce', 'MonteCarloBarostat']\n",
      "INFO:geometry:\tfinal no-nonbonded final system forces dict_keys(['HarmonicBondForce', 'HarmonicAngleForce', 'PeriodicTorsionForce', 'NonbondedForce'])\n",
      "INFO:geometry:\tthere are 56 bond forces in the no-nonbonded final system\n",
      "INFO:geometry:\tthere are 194 angle forces in the no-nonbonded final system\n",
      "INFO:geometry:\tthere are 350 torsion forces in the no-nonbonded final system\n",
      "INFO:geometry:forward final system defined with 0 neglected angles.\n"
     ]
    },
    {
     "name": "stdout",
     "output_type": "stream",
     "text": [
      "conducting subsequent work with the following platform: CUDA\n",
      "conducting subsequent work with the following platform: CUDA\n"
     ]
    },
    {
     "name": "stderr",
     "output_type": "stream",
     "text": [
      "INFO:geometry:total reduced potential before atom placement: 161.01021349938915\n"
     ]
    },
    {
     "name": "stdout",
     "output_type": "stream",
     "text": [
      "conducting subsequent work with the following platform: CUDA\n",
      "conducting subsequent work with the following platform: CUDA\n",
      "conducting subsequent work with the following platform: CUDA\n"
     ]
    },
    {
     "name": "stderr",
     "output_type": "stream",
     "text": [
      "INFO:geometry:total reduced energy added from growth system: 449.1938508042603\n",
      "INFO:geometry:final reduced energy 754.4785366399378\n",
      "INFO:geometry:sum of energies: 610.2040643036495\n",
      "INFO:geometry:magnitude of difference in the energies: 144.2744723362884\n",
      "INFO:geometry:Final logp_proposal: 122.30385402691917\n"
     ]
    },
    {
     "name": "stdout",
     "output_type": "stream",
     "text": [
      "added energy components: [('CustomBondForce', 4.042411594911488), ('CustomAngleForce', 282.8578270236088), ('CustomTorsionForce', 11.32559151516175), ('CustomBondForce', 150.96802067057814)]\n"
     ]
    },
    {
     "name": "stderr",
     "output_type": "stream",
     "text": [
      "INFO:geometry:logp_reverse: performing reverse proposal\n",
      "INFO:geometry:logp_reverse: unique new atoms detected; proceeding to _logp_propose...\n",
      "INFO:geometry:Conducting forward proposal...\n",
      "INFO:geometry:Computing proposal order with NetworkX...\n",
      "INFO:geometry:number of atoms to be placed: 8\n",
      "INFO:geometry:Atom index proposal order is [55, 56, 58, 57, 62, 64, 61, 63]\n",
      "INFO:geometry:omitted_bonds: []\n",
      "INFO:geometry:direction of proposal is reverse; creating atoms_with_positions from old system/topology\n",
      "INFO:geometry:creating growth system...\n",
      "INFO:geometry:\tcreating bond force...\n",
      "INFO:geometry:\tthere are 51 bonds in reference force.\n",
      "INFO:geometry:\tcreating angle force...\n",
      "INFO:geometry:\tthere are 181 angles in reference force.\n",
      "INFO:geometry:\tcreating torsion force...\n",
      "INFO:geometry:\tcreating extra torsions force...\n",
      "INFO:geometry:\tthere are 328 torsions in reference force.\n",
      "INFO:geometry:\tcreating nonbonded force...\n",
      "INFO:geometry:\t\tgrabbing reference nonbonded method, cutoff, switching function, switching distance...\n",
      "INFO:geometry:\t\tcreating nonbonded exception force (i.e. custom bond for 1,4s)...\n",
      "INFO:geometry:\t\tlooping through exceptions calculating growth indices, and adding appropriate interactions to custom bond force.\n",
      "INFO:geometry:\t\tthere are 3923 in the reference Nonbonded force\n",
      "WARNING:geometry:\t\t\t\t\tchiral atom <Atom 52 (CA) of chain 0 residue 4 (ASN)> with neighbors [<Atom 53 (C) of chain 0 residue 4 (ASN)>, <Atom 55 (CB) of chain 0 residue 4 (ASN)>, <Atom 60 (HA) of chain 0 residue 4 (ASN)>, <Atom 51 (N) of chain 0 residue 4 (ASN)>] is surrounded by 3 core neighbors.  omitting chirality bias torsion\n",
      "INFO:geometry:Neglected angle terms : []\n",
      "INFO:geometry:omitted_growth_terms: {'bonds': [], 'angles': [], 'torsions': [], '1,4s': []}\n",
      "INFO:geometry:extra torsions: {0: (59, 51, 52, 55, [1, Quantity(value=1.0033542268906723, unit=radian), Quantity(value=1200.0, unit=kilocalorie/mole), 1]), 1: (64, 57, 56, 55, [1, Quantity(value=-3.0613628096248338, unit=radian), Quantity(value=1200.0, unit=kilocalorie/mole), 6]), 2: (64, 57, 56, 58, [1, Quantity(value=0.1006962644006828, unit=radian), Quantity(value=1200.0, unit=kilocalorie/mole), 6]), 3: (63, 57, 56, 55, [1, Quantity(value=-0.163557181151619, unit=radian), Quantity(value=1200.0, unit=kilocalorie/mole), 8]), 4: (63, 57, 56, 58, [1, Quantity(value=2.998501892873897, unit=radian), Quantity(value=1200.0, unit=kilocalorie/mole), 8])}\n",
      "INFO:geometry:neglected angle terms include []\n",
      "INFO:geometry:log probability choice of torsions and atom order: -9.960245886354738\n",
      "INFO:geometry:creating platform, integrators, and contexts; setting growth parameter\n"
     ]
    },
    {
     "name": "stdout",
     "output_type": "stream",
     "text": [
      "conducting subsequent work with the following platform: CUDA\n"
     ]
    },
    {
     "name": "stderr",
     "output_type": "stream",
     "text": [
      "INFO:geometry:setting atoms_with_positions context old positions\n"
     ]
    },
    {
     "name": "stdout",
     "output_type": "stream",
     "text": [
      "conducting subsequent work with the following platform: CUDA\n"
     ]
    },
    {
     "name": "stderr",
     "output_type": "stream",
     "text": [
      "INFO:geometry:There are 8 new atoms\n",
      "INFO:geometry:\treduced angle potential = 0.006118641034753415.\n",
      "INFO:geometry:\treduced angle potential = 0.5604275396387628.\n",
      "INFO:geometry:\treduced angle potential = 0.07650810571585355.\n",
      "INFO:geometry:\treduced angle potential = 0.167841485694284.\n",
      "INFO:geometry:\treduced angle potential = 0.11607969104718184.\n",
      "INFO:geometry:\treduced angle potential = 0.17311349100355702.\n",
      "INFO:geometry:\treduced angle potential = 0.05080755139859599.\n",
      "INFO:geometry:\treduced angle potential = 1.3306562413993697.\n",
      "INFO:geometry:\tbeginning construction of no_nonbonded final system...\n",
      "INFO:geometry:\tinitial no-nonbonded final system forces ['HarmonicBondForce', 'HarmonicAngleForce', 'PeriodicTorsionForce', 'NonbondedForce', 'MonteCarloBarostat']\n",
      "INFO:geometry:\tfinal no-nonbonded final system forces dict_keys(['HarmonicBondForce', 'HarmonicAngleForce', 'PeriodicTorsionForce', 'NonbondedForce'])\n",
      "INFO:geometry:\tthere are 51 bond forces in the no-nonbonded final system\n",
      "INFO:geometry:\tthere are 181 angle forces in the no-nonbonded final system\n",
      "INFO:geometry:\tthere are 328 torsion forces in the no-nonbonded final system\n",
      "INFO:geometry:reverse final system defined with 0 neglected angles.\n"
     ]
    },
    {
     "name": "stdout",
     "output_type": "stream",
     "text": [
      "conducting subsequent work with the following platform: CUDA\n",
      "conducting subsequent work with the following platform: CUDA\n"
     ]
    },
    {
     "name": "stderr",
     "output_type": "stream",
     "text": [
      "INFO:geometry:total reduced potential before atom placement: 161.01021349938915\n"
     ]
    },
    {
     "name": "stdout",
     "output_type": "stream",
     "text": [
      "conducting subsequent work with the following platform: CUDA\n",
      "conducting subsequent work with the following platform: CUDA\n",
      "conducting subsequent work with the following platform: CUDA\n"
     ]
    },
    {
     "name": "stderr",
     "output_type": "stream",
     "text": [
      "INFO:geometry:total reduced energy added from growth system: -78.52971601361989\n",
      "INFO:geometry:final reduced energy 82.4804865129659\n",
      "INFO:geometry:sum of energies: 82.48049748576926\n",
      "INFO:geometry:magnitude of difference in the energies: 1.0972803366371409e-05\n",
      "INFO:geometry:Final logp_proposal: -6203.072126850347\n"
     ]
    },
    {
     "name": "stdout",
     "output_type": "stream",
     "text": [
      "added energy components: [('CustomBondForce', 1.6573143691887435), ('CustomAngleForce', 3.5180754491855795), ('CustomTorsionForce', 38.9781972120978), ('CustomBondForce', -122.68330304409201)]\n"
     ]
    },
    {
     "name": "stderr",
     "output_type": "stream",
     "text": [
      "INFO:setup:charge diff: 0\n",
      "INFO:relative:*** Generating vanilla HybridTopologyFactory ***\n",
      "INFO:relative:Beginning nonbonded method, total particle, barostat, and exceptions retrieval...\n",
      "INFO:relative:Flattening torsions of unique new/old at lambda = 0/1\n",
      "INFO:relative:Flattening exceptions of unique new/old at lambda = 0/1\n",
      "INFO:relative:Old system forces: dict_keys(['HarmonicBondForce', 'HarmonicAngleForce', 'PeriodicTorsionForce', 'NonbondedForce', 'MonteCarloBarostat'])\n",
      "INFO:relative:New system forces: dict_keys(['HarmonicBondForce', 'HarmonicAngleForce', 'PeriodicTorsionForce', 'NonbondedForce', 'MonteCarloBarostat'])\n",
      "INFO:relative:No unknown forces.\n",
      "INFO:relative:Nonbonded method to be used (i.e. from old system): 4\n",
      "INFO:relative:Adding and mapping old atoms to hybrid system...\n",
      "INFO:relative:Adding and mapping new atoms to hybrid system...\n",
      "INFO:relative:Added MonteCarloBarostat.\n",
      "INFO:relative:getDefaultPeriodicBoxVectors added to hybrid: [Quantity(value=Vec3(x=3.3625999999999996, y=0.0, z=0.0), unit=nanometer), Quantity(value=Vec3(x=0.0, y=3.3625999999999996, z=0.0), unit=nanometer), Quantity(value=Vec3(x=0.0, y=0.0, z=3.3625999999999996), unit=nanometer)]\n",
      "INFO:relative:Determined atom classes.\n",
      "INFO:relative:Generating old system exceptions dict...\n",
      "INFO:relative:Generating new system exceptions dict...\n",
      "INFO:relative:Handling constraints...\n",
      "INFO:relative:Handling virtual sites...\n",
      "INFO:relative:\t_handle_virtual_sites: numVirtualSites: 0\n",
      "INFO:relative:Adding bond force terms...\n",
      "INFO:relative:Adding angle force terms...\n",
      "INFO:relative:Adding torsion force terms...\n",
      "INFO:relative:Adding nonbonded force terms...\n",
      "INFO:relative:\t_add_nonbonded_force_terms: <openmm.openmm.NonbondedForce; proxy of <Swig Object of type 'OpenMM::NonbondedForce *' at 0x2af443fd6d20> > added to hybrid system\n",
      "INFO:relative:\t_add_nonbonded_force_terms: nonbonded_method is PME or Ewald\n",
      "INFO:relative:\t_add_nonbonded_force_terms: 4 added to standard nonbonded force\n",
      "INFO:relative:\t_add_nonbonded_force_terms: 2 added to sterics_custom_nonbonded force\n",
      "INFO:relative:\t_add_nonbonded_force_terms: <openmm.openmm.CustomNonbondedForce; proxy of <Swig Object of type 'OpenMM::CustomNonbondedForce *' at 0x2af443fd6a80> > added to hybrid system\n",
      "INFO:relative:Handling harmonic bonds...\n",
      "INFO:relative:\thandle_harmonic_bonds: looping through old_system to add relevant terms...\n",
      "INFO:relative:\thandle_harmonic_bonds: looping through new_system to add relevant terms...\n",
      "INFO:relative:Handling harmonic angles...\n",
      "INFO:relative:\thandle_harmonic_angles: looping through old_system to add relevant terms...\n",
      "INFO:relative:\thandle_harmonic_angles: looping through new_system to add relevant terms...\n",
      "INFO:relative:Handling torsion forces...\n",
      "INFO:relative:\thandle_periodic_torsion_forces: looping through old_system to add relevant terms...\n",
      "INFO:relative:\thandle_periodic_torsion_forces: looping through new_system to add relevant terms...\n",
      "INFO:relative:Handling nonbonded forces...\n",
      "INFO:relative:\thandle_nonbonded: looping through all particles in hybrid...\n",
      "INFO:relative:\thandle_nonbonded: Handling Interaction Groups...\n",
      "INFO:relative:\thandle_nonbonded: Handling Hybrid Exceptions...\n",
      "INFO:relative:\thandle_nonbonded: Handling Original Exceptions...\n",
      "INFO:relative:Handling unique_new/old interaction exceptions...\n",
      "INFO:relative:There are old or new system exceptions...proceeding.\n",
      "INFO:relative:*** Generating RepartitionedHybridTopologyFactory ***\n",
      "INFO:relative:Flattening torsions of unique new/old at lambda = 0/1\n",
      "INFO:relative:Flattening exceptions of unique new/old at lambda = 0/1\n",
      "INFO:relative:Old system forces: dict_keys(['HarmonicBondForce', 'HarmonicAngleForce', 'PeriodicTorsionForce', 'NonbondedForce', 'MonteCarloBarostat'])\n",
      "INFO:relative:New system forces: dict_keys(['HarmonicBondForce', 'HarmonicAngleForce', 'PeriodicTorsionForce', 'NonbondedForce', 'MonteCarloBarostat'])\n",
      "INFO:relative:No unknown forces.\n",
      "INFO:relative:Nonbonded method to be used (i.e. from old system): 4\n",
      "INFO:relative:Adding and mapping old atoms to hybrid system...\n",
      "INFO:relative:Adding and mapping new atoms to hybrid system...\n",
      "INFO:relative:Added MonteCarloBarostat.\n",
      "INFO:relative:getDefaultPeriodicBoxVectors added to hybrid: [Quantity(value=Vec3(x=3.3625999999999996, y=0.0, z=0.0), unit=nanometer), Quantity(value=Vec3(x=0.0, y=3.3625999999999996, z=0.0), unit=nanometer), Quantity(value=Vec3(x=0.0, y=0.0, z=3.3625999999999996), unit=nanometer)]\n",
      "INFO:relative:Determined atom classes.\n",
      "INFO:relative:Generating old system exceptions dict...\n",
      "INFO:relative:Generating new system exceptions dict...\n",
      "INFO:relative:Handling constraints...\n",
      "INFO:relative:Handling virtual sites...\n",
      "INFO:relative:\t_handle_virtual_sites: numVirtualSites: 0\n",
      "INFO:relative:\t_add_nonbonded_force_terms: <openmm.openmm.NonbondedForce; proxy of <Swig Object of type 'OpenMM::NonbondedForce *' at 0x2af44433a2d0> > added to hybrid system\n",
      "INFO:relative:\t_add_nonbonded_force_terms: nonbonded_method is PME or Ewald\n",
      "INFO:relative:\t_add_nonbonded_force_terms: 4 added to standard nonbonded force\n",
      "INFO:relative:\t_add_nonbonded_force_terms: 2 added to sterics_custom_nonbonded force\n",
      "INFO:relative:*** Generating RepartitionedHybridTopologyFactory ***\n",
      "INFO:relative:Flattening torsions of unique new/old at lambda = 0/1\n",
      "INFO:relative:Flattening exceptions of unique new/old at lambda = 0/1\n",
      "INFO:relative:Old system forces: dict_keys(['HarmonicBondForce', 'HarmonicAngleForce', 'PeriodicTorsionForce', 'NonbondedForce', 'MonteCarloBarostat'])\n",
      "INFO:relative:New system forces: dict_keys(['HarmonicBondForce', 'HarmonicAngleForce', 'PeriodicTorsionForce', 'NonbondedForce', 'MonteCarloBarostat'])\n",
      "INFO:relative:No unknown forces.\n",
      "INFO:relative:Nonbonded method to be used (i.e. from old system): 4\n",
      "INFO:relative:Adding and mapping old atoms to hybrid system...\n",
      "INFO:relative:Adding and mapping new atoms to hybrid system...\n",
      "INFO:relative:Added MonteCarloBarostat.\n",
      "INFO:relative:getDefaultPeriodicBoxVectors added to hybrid: [Quantity(value=Vec3(x=3.3625999999999996, y=0.0, z=0.0), unit=nanometer), Quantity(value=Vec3(x=0.0, y=3.3625999999999996, z=0.0), unit=nanometer), Quantity(value=Vec3(x=0.0, y=0.0, z=3.3625999999999996), unit=nanometer)]\n",
      "INFO:relative:Determined atom classes.\n",
      "INFO:relative:Generating old system exceptions dict...\n",
      "INFO:relative:Generating new system exceptions dict...\n",
      "INFO:relative:Handling constraints...\n",
      "INFO:relative:Handling virtual sites...\n",
      "INFO:relative:\t_handle_virtual_sites: numVirtualSites: 0\n",
      "INFO:relative:\t_add_nonbonded_force_terms: <openmm.openmm.NonbondedForce; proxy of <Swig Object of type 'OpenMM::NonbondedForce *' at 0x2af444dc7db0> > added to hybrid system\n",
      "INFO:relative:\t_add_nonbonded_force_terms: nonbonded_method is PME or Ewald\n",
      "INFO:relative:\t_add_nonbonded_force_terms: 4 added to standard nonbonded force\n",
      "INFO:relative:\t_add_nonbonded_force_terms: 2 added to sterics_custom_nonbonded force\n"
     ]
    }
   ],
   "source": [
    "# Generate htf\n",
    "solvent_delivery = PointMutationExecutor(\"../../input/N501Y_capped_peptide.pdb\",\n",
    "                        '1', # First chain is the barstar one\n",
    "                        '501',\n",
    "                        'TYR',\n",
    "                        forcefield_files=['amber14/protein.ff14SB.xml', 'amber14/tip3p.xml', '/home/zhangi/choderalab/openmmforcefields/amber/ffxml/GLYCAM_06j-1.xml'],\n",
    "                        flatten_torsions=True,\n",
    "                        flatten_exceptions=True,\n",
    "                        generate_unmodified_hybrid_topology_factory=True,\n",
    "                        generate_rest_capable_hybrid_topology_factory=True,\n",
    "                        conduct_endstate_validation=False\n",
    "                        )"
   ]
  },
  {
   "cell_type": "code",
   "execution_count": 3,
   "id": "098b5111",
   "metadata": {},
   "outputs": [],
   "source": [
    "htf = solvent_delivery.get_apo_htf()"
   ]
  },
  {
   "cell_type": "code",
   "execution_count": 4,
   "id": "95e67eed",
   "metadata": {},
   "outputs": [],
   "source": [
    "with open(\"N501Y_capped_peptide_new.pdb\", \"w\") as f:\n",
    "    app.PDBFile.writeFile(htf._topology_proposal.new_topology, htf.new_positions(htf.hybrid_positions), f, keepIds=True)"
   ]
  },
  {
   "cell_type": "code",
   "execution_count": 5,
   "id": "325fc161",
   "metadata": {},
   "outputs": [
    {
     "data": {
      "text/plain": [
       "{37,\n",
       " 38,\n",
       " 39,\n",
       " 40,\n",
       " 41,\n",
       " 42,\n",
       " 43,\n",
       " 44,\n",
       " 45,\n",
       " 46,\n",
       " 47,\n",
       " 48,\n",
       " 49,\n",
       " 50,\n",
       " 51,\n",
       " 52,\n",
       " 53,\n",
       " 54,\n",
       " 59,\n",
       " 60,\n",
       " 65,\n",
       " 66,\n",
       " 67,\n",
       " 68,\n",
       " 69,\n",
       " 70,\n",
       " 71}"
      ]
     },
     "execution_count": 5,
     "metadata": {},
     "output_type": "execute_result"
    }
   ],
   "source": [
    "htf._atom_classes['core_atoms']"
   ]
  },
  {
   "cell_type": "code",
   "execution_count": 7,
   "id": "d216963f",
   "metadata": {},
   "outputs": [
    {
     "name": "stdout",
     "output_type": "stream",
     "text": [
      "51 ASN501-N\n",
      "52 ASN501-CA\n",
      "53 ASN501-C\n",
      "54 ASN501-O\n",
      "55 ASN501-CB\n",
      "56 ASN501-CG\n",
      "57 ASN501-ND2\n",
      "58 ASN501-OD1\n",
      "59 ASN501-H\n",
      "60 ASN501-HA\n",
      "61 ASN501-HB2\n",
      "62 ASN501-HB3\n",
      "63 ASN501-HD21\n",
      "64 ASN501-HD22\n",
      "3497 ASN501-HE1\n",
      "3498 ASN501-CZ\n",
      "3499 ASN501-OH\n",
      "3500 ASN501-HH\n",
      "3501 ASN501-CE2\n",
      "3502 ASN501-HE2\n",
      "3503 ASN501-CD2\n",
      "3504 ASN501-HD2\n",
      "3505 ASN501-CB\n",
      "3506 ASN501-CG\n",
      "3507 ASN501-HB2\n",
      "3508 ASN501-HB3\n",
      "3509 ASN501-CD1\n",
      "3510 ASN501-HD1\n",
      "3511 ASN501-CE1\n"
     ]
    }
   ],
   "source": [
    "for atom in htf.hybrid_topology.atoms:\n",
    "    if atom.residue.name == 'ASN':\n",
    "        print(atom.index, atom)"
   ]
  },
  {
   "cell_type": "code",
   "execution_count": 8,
   "id": "df359f52",
   "metadata": {},
   "outputs": [],
   "source": [
    "from openmmtools.integrators import LangevinIntegrator\n",
    "from simtk import openmm\n",
    "from simtk.openmm import unit, app\n",
    "import numpy as np"
   ]
  },
  {
   "cell_type": "code",
   "execution_count": 9,
   "id": "8201732b",
   "metadata": {},
   "outputs": [],
   "source": [
    "integrator = LangevinIntegrator(timestep=4.0 * unit.femtoseconds)\n",
    "platform_name = 'CUDA'\n",
    "platform = openmm.Platform.getPlatformByName(platform_name)\n",
    "if platform_name in ['CUDA', 'OpenCL']:\n",
    "    platform.setPropertyDefaultValue('Precision', 'mixed')\n",
    "if platform_name in ['CUDA']:\n",
    "    platform.setPropertyDefaultValue('DeterministicForces', 'true')"
   ]
  },
  {
   "cell_type": "code",
   "execution_count": 10,
   "id": "0b98aed0",
   "metadata": {},
   "outputs": [
    {
     "name": "stdout",
     "output_type": "stream",
     "text": [
      "POTENTIAL ENERGY:  1727672138.6594799 kJ/mol\n"
     ]
    }
   ],
   "source": [
    "context = openmm.Context(htf._topology_proposal.new_system, integrator, platform)\n",
    "context.setPositions(htf.new_positions(htf.hybrid_positions))\n",
    "potential_energy = context.getState(getEnergy=True).getPotentialEnergy()\n",
    "print(\"POTENTIAL ENERGY: \", potential_energy)"
   ]
  },
  {
   "cell_type": "code",
   "execution_count": 11,
   "id": "5df2f807",
   "metadata": {},
   "outputs": [],
   "source": [
    "openmm.LocalEnergyMinimizer.minimize(context)"
   ]
  },
  {
   "cell_type": "code",
   "execution_count": 12,
   "id": "97a2c0c8",
   "metadata": {},
   "outputs": [
    {
     "name": "stdout",
     "output_type": "stream",
     "text": [
      "POTENTIAL ENERGY:  -58758.44434473195 kJ/mol\n"
     ]
    }
   ],
   "source": [
    "potential_energy = context.getState(getEnergy=True).getPotentialEnergy()\n",
    "print(\"POTENTIAL ENERGY: \", potential_energy)"
   ]
  },
  {
   "cell_type": "code",
   "execution_count": 13,
   "id": "3fc9f943",
   "metadata": {},
   "outputs": [],
   "source": [
    "pos = np.array(context.getState(getPositions=True).getPositions().value_in_unit_system(unit.md_unit_system))"
   ]
  },
  {
   "cell_type": "code",
   "execution_count": 14,
   "id": "d33c901d",
   "metadata": {},
   "outputs": [],
   "source": [
    "app.PDBFile.writeFile(htf._topology_proposal.new_topology, context.getState(getPositions=True).getPositions(), open(\"N501Y_capped_peptide_new_minimized.pdb\", \"w\"), keepIds=True)"
   ]
  },
  {
   "cell_type": "code",
   "execution_count": null,
   "id": "d12cdd30",
   "metadata": {},
   "outputs": [],
   "source": []
  }
 ],
 "metadata": {
  "kernelspec": {
   "display_name": "Python 3 (ipykernel)",
   "language": "python",
   "name": "python3"
  },
  "language_info": {
   "codemirror_mode": {
    "name": "ipython",
    "version": 3
   },
   "file_extension": ".py",
   "mimetype": "text/x-python",
   "name": "python",
   "nbconvert_exporter": "python",
   "pygments_lexer": "ipython3",
   "version": "3.8.11"
  }
 },
 "nbformat": 4,
 "nbformat_minor": 5
}
