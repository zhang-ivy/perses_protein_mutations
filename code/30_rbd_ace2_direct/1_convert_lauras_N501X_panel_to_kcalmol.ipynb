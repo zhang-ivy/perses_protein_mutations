{
 "cells": [
  {
   "cell_type": "code",
   "execution_count": 7,
   "id": "9d3b7c65",
   "metadata": {},
   "outputs": [],
   "source": [
    "import numpy as np\n",
    "from openmm import unit\n",
    "from openmmtools.constants import kB\n",
    "KT_KCALMOL = kB * 300 * unit.kelvin / unit.kilocalories_per_mole"
   ]
  },
  {
   "cell_type": "code",
   "execution_count": 9,
   "id": "f9cdb95d",
   "metadata": {},
   "outputs": [],
   "source": [
    "def convert(k_D_other, k_D_WT=59.8):\n",
    "    return np.log(k_D_other / k_D_WT)*KT_KCALMOL"
   ]
  },
  {
   "cell_type": "code",
   "execution_count": 10,
   "id": "e7ddcd29",
   "metadata": {},
   "outputs": [],
   "source": [
    "data = [82.9, 23.9, 59.2, 410.8, 19.7, 6.1, 9.3, 26.7, 104.9, 12.6, 86.6, 0, 311.4, 0, 48.3, 0, 0, 453.8]"
   ]
  },
  {
   "cell_type": "code",
   "execution_count": 12,
   "id": "094d1617",
   "metadata": {},
   "outputs": [
    {
     "name": "stdout",
     "output_type": "stream",
     "text": [
      "0.19472380110944026\n",
      "-0.5467557244703243\n",
      "-0.006011761306152079\n",
      "1.1488628851701026\n",
      "-0.6619697475726267\n",
      "-1.3608674173910535\n",
      "-1.1094509276249747\n",
      "-0.48070993385972743\n",
      "0.3350437435555414\n",
      "-0.9284072318327284\n",
      "0.22075503629831464\n",
      "-inf\n",
      "0.9837093884079277\n",
      "-inf\n",
      "-0.1273246084943061\n",
      "-inf\n",
      "-inf\n",
      "1.2082107965672555\n"
     ]
    },
    {
     "name": "stderr",
     "output_type": "stream",
     "text": [
      "/scratch/lsftmp/4201464.tmpdir/ipykernel_217341/3391165216.py:2: RuntimeWarning: divide by zero encountered in log\n",
      "  return np.log(k_D_other / k_D_WT)*KT_KCALMOL\n"
     ]
    }
   ],
   "source": [
    "for k_D in data:\n",
    "    print(convert(k_D))"
   ]
  },
  {
   "cell_type": "code",
   "execution_count": null,
   "id": "47db64b7",
   "metadata": {},
   "outputs": [],
   "source": []
  }
 ],
 "metadata": {
  "kernelspec": {
   "display_name": "Python 3 (ipykernel)",
   "language": "python",
   "name": "python3"
  },
  "language_info": {
   "codemirror_mode": {
    "name": "ipython",
    "version": 3
   },
   "file_extension": ".py",
   "mimetype": "text/x-python",
   "name": "python",
   "nbconvert_exporter": "python",
   "pygments_lexer": "ipython3",
   "version": "3.8.12"
  }
 },
 "nbformat": 4,
 "nbformat_minor": 5
}
