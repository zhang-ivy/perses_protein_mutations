{
 "cells": [
  {
   "cell_type": "markdown",
   "metadata": {},
   "source": [
    "# Pilot studies 1 + 2 mmgbsa"
   ]
  },
  {
   "cell_type": "markdown",
   "metadata": {},
   "source": [
    "## Format the data appropriately for arsenic"
   ]
  },
  {
   "cell_type": "code",
   "execution_count": 5,
   "metadata": {},
   "outputs": [
    {
     "name": "stderr",
     "output_type": "stream",
     "text": [
      "Warning: importing 'simtk.openmm' is deprecated.  Import 'openmm' instead.\n"
     ]
    }
   ],
   "source": [
    "import numpy as np\n",
    "import pickle\n",
    "from simtk.openmm import unit\n",
    "from openmmtools.constants import kB\n",
    "import pandas as pd\n",
    "KT_KCALMOL = kB * 300 * unit.kelvin / unit.kilocalories_per_mole"
   ]
  },
  {
   "cell_type": "code",
   "execution_count": 9,
   "metadata": {},
   "outputs": [],
   "source": [
    "def compute_binding_ddgs(apo_ddg, complex_ddg):\n",
    "    return (apo_ddg**2 + complex_ddg**2)**0.5"
   ]
  },
  {
   "cell_type": "code",
   "execution_count": 6,
   "metadata": {},
   "outputs": [],
   "source": [
    "with open(\"mmgbsa_data.npy\", \"rb\") as f:\n",
    "    data = np.load(f)"
   ]
  },
  {
   "cell_type": "code",
   "execution_count": 7,
   "metadata": {},
   "outputs": [],
   "source": [
    "titles = [\"K417N\", \"E484K\", \"L452R\", \"N439K\", \"N501A\", \"N501V\", \"N501I\", \"N501L\", \"N501M\", \"N501F\", \"N501Y\", \"N501W\", \"N501S\", \"N501T\", \"N501Q\", \"N501C\", \"N501G\", \"N501R\", \"N501H\", \"N501K\", \"N501D\", \"N501E\"]\n",
    "dir_num = 15\n",
    "# to_plot = ['# Calculated block', '# Mutant1, Mutant2, calc_DDG, calc_dDDG(BAR), calc_dDDG(additional)']\n",
    "to_plot = []\n",
    "for i, title in enumerate(titles):\n",
    "    to_plot.append([titles[i][:-1], titles[i][-1] + titles[i][1:-1], data[i+1] - data[0], 0, 0])\n",
    "        \n",
    "        \n",
    "        "
   ]
  },
  {
   "cell_type": "code",
   "execution_count": 8,
   "metadata": {},
   "outputs": [
    {
     "data": {
      "text/plain": [
       "[['K417', 'N417', 11.732754242348165, 0, 0],\n",
       " ['E484', 'K484', 0.9592906010984734, 0, 0],\n",
       " ['L452', 'R452', -1.2944588013888279, 0, 0],\n",
       " ['N439', 'K439', -4.252154786092433, 0, 0],\n",
       " ['N501', 'A501', -3.451578931646509, 0, 0],\n",
       " ['N501', 'V501', -8.837610540154856, 0, 0],\n",
       " ['N501', 'I501', -3.257386771038, 0, 0],\n",
       " ['N501', 'L501', -3.220042124765314, 0, 0],\n",
       " ['N501', 'M501', 1.2365745996612532, 0, 0],\n",
       " ['N501', 'F501', 4.128450645312114, 0, 0],\n",
       " ['N501', 'Y501', 4.322175997847808, 0, 0],\n",
       " ['N501', 'W501', 8.41748326960078, 0, 0],\n",
       " ['N501', 'S501', 2.10717166586619, 0, 0],\n",
       " ['N501', 'T501', 4.312373028198635, 0, 0],\n",
       " ['N501', 'Q501', 6.3924698255250405, 0, 0],\n",
       " ['N501', 'C501', -4.659678238531342, 0, 0],\n",
       " ['N501', 'G501', 1.084395166104514, 0, 0],\n",
       " ['N501', 'R501', 10.224964149136213, 0, 0],\n",
       " ['N501', 'H501', 4.968705186423904, 0, 0],\n",
       " ['N501', 'K501', 19.998058078392205, 0, 0],\n",
       " ['N501', 'D501', 10.563866814052744, 0, 0],\n",
       " ['N501', 'E501', -2.9315547323167266, 0, 0]]"
      ]
     },
     "execution_count": 8,
     "metadata": {},
     "output_type": "execute_result"
    }
   ],
   "source": [
    "to_plot"
   ]
  },
  {
   "cell_type": "code",
   "execution_count": 9,
   "metadata": {},
   "outputs": [],
   "source": [
    "d = {'WT': 0, 'N417': 0.62, 'K484': -0.08, 'R452': -0.03, 'K439': -0.06,\n",
    "    \"A501\": 0.08, \"V501\": -0.21, \"I501\": 0.11, \"L501\": 1.59, \"M501\": 0.0, \"F501\": -0.40, \"Y501\": -0.33,\n",
    "    \"W501\": -0.15, \"S501\": 0.18, \"T501\": -0.14, \"Q501\": 0.08, \"C501\": 0.80, \"G501\": 1.30, \"R501\": 2.87, \"H501\": 0.0,\n",
    "    \"K501\": 3.85, \"D501\": 3.43, \"E501\": 1.09}"
   ]
  },
  {
   "cell_type": "code",
   "execution_count": 10,
   "metadata": {},
   "outputs": [],
   "source": [
    "# experiment = ['# Experiment block', '# Mutant, expt_DDG, expt_dDDG']\n",
    "experiment = []\n",
    "for k in d.keys():\n",
    "    if k == 'WT':\n",
    "        experiment.append(['K417', d['WT'], 0]) # take the negative of everything bc i think hannah subtracts differently\n",
    "        experiment.append(['E484', d['WT'], 0])\n",
    "        experiment.append(['L452', d['WT'], 0])\n",
    "        experiment.append(['N439', d['WT'], 0])\n",
    "        experiment.append(['N501', d['WT'], 0])\n",
    "        \n",
    "    else:\n",
    "        experiment.append([k, d[k], 0])"
   ]
  },
  {
   "cell_type": "code",
   "execution_count": 11,
   "metadata": {},
   "outputs": [
    {
     "data": {
      "text/plain": [
       "[['K417', 0, 0],\n",
       " ['E484', 0, 0],\n",
       " ['L452', 0, 0],\n",
       " ['N439', 0, 0],\n",
       " ['N501', 0, 0],\n",
       " ['N417', 0.62, 0],\n",
       " ['K484', -0.08, 0],\n",
       " ['R452', -0.03, 0],\n",
       " ['K439', -0.06, 0],\n",
       " ['A501', 0.08, 0],\n",
       " ['V501', -0.21, 0],\n",
       " ['I501', 0.11, 0],\n",
       " ['L501', 1.59, 0],\n",
       " ['M501', 0.0, 0],\n",
       " ['F501', -0.4, 0],\n",
       " ['Y501', -0.33, 0],\n",
       " ['W501', -0.15, 0],\n",
       " ['S501', 0.18, 0],\n",
       " ['T501', -0.14, 0],\n",
       " ['Q501', 0.08, 0],\n",
       " ['C501', 0.8, 0],\n",
       " ['G501', 1.3, 0],\n",
       " ['R501', 2.87, 0],\n",
       " ['H501', 0.0, 0],\n",
       " ['K501', 3.85, 0],\n",
       " ['D501', 3.43, 0],\n",
       " ['E501', 1.09, 0]]"
      ]
     },
     "execution_count": 11,
     "metadata": {},
     "output_type": "execute_result"
    }
   ],
   "source": [
    "experiment"
   ]
  },
  {
   "cell_type": "code",
   "execution_count": 12,
   "metadata": {},
   "outputs": [],
   "source": [
    "pd.DataFrame(experiment + to_plot).to_csv(f\"/data/chodera/zhangi/perses_benchmark/neq/{dir_num}/arsenic_input_pilot_1_2_mmgbsa.csv\", index=False, header=False)\n",
    "# Had to manually add headings, otherwise the lists wouldn't print out as comma separated\n",
    "# Had to remove extra commas in experimental block\n"
   ]
  },
  {
   "cell_type": "markdown",
   "metadata": {},
   "source": [
    "## Make arsenic plot"
   ]
  },
  {
   "cell_type": "code",
   "execution_count": 13,
   "metadata": {
    "scrolled": true
   },
   "outputs": [],
   "source": [
    "import numpy as np\n",
    "\n",
    "%matplotlib inline\n",
    "import matplotlib.pylab as plt\n",
    "\n",
    "from arsenic import plotting, stats, wrangle"
   ]
  },
  {
   "cell_type": "code",
   "execution_count": 14,
   "metadata": {},
   "outputs": [
    {
     "name": "stdout",
     "output_type": "stream",
     "text": [
      "Graph is not connected enough to compute absolute values\n"
     ]
    }
   ],
   "source": [
    "fe = wrangle.FEMap('/data/chodera/zhangi/perses_benchmark/neq/15/arsenic_input_pilot_1_2_mmgbsa.csv')"
   ]
  },
  {
   "cell_type": "code",
   "execution_count": 15,
   "metadata": {
    "scrolled": true
   },
   "outputs": [
    {
     "data": {
      "image/png": "[encoded data removed]",
      "text/plain": [
       "<Figure size 234x234 with 1 Axes>"
      ]
     },
     "metadata": {
      "needs_background": "light"
     },
     "output_type": "display_data"
    }
   ],
   "source": [
    "plotting.plot_DDGs(fe.graph,target_name='RBD', title='Mutations in RBD', units=r'$\\mathrm{kcal\\,/mol}$', filename='/data/chodera/zhangi/perses_benchmark/neq/15/arsenic_pilot_1_2_mmgbsa.png')\n",
    "# added dpi to savefig() in local version\n",
    "# removed \"/\" in labels in local version\n",
    "# removed adding mbar error + other error and just use other error for error bars (in wrangle.py line 18)"
   ]
  },
  {
   "cell_type": "code",
   "execution_count": null,
   "metadata": {},
   "outputs": [],
   "source": []
  },
  {
   "cell_type": "code",
   "execution_count": null,
   "metadata": {},
   "outputs": [],
   "source": []
  }
 ],
 "metadata": {
  "kernelspec": {
   "display_name": "Python 3 (ipykernel)",
   "language": "python",
   "name": "python3"
  },
  "language_info": {
   "codemirror_mode": {
    "name": "ipython",
    "version": 3
   },
   "file_extension": ".py",
   "mimetype": "text/x-python",
   "name": "python",
   "nbconvert_exporter": "python",
   "pygments_lexer": "ipython3",
   "version": "3.8.11"
  }
 },
 "nbformat": 4,
 "nbformat_minor": 4
}
