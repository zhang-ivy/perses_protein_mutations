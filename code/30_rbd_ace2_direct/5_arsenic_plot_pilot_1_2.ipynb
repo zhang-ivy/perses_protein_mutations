{
 "cells": [
  {
   "cell_type": "markdown",
   "metadata": {},
   "source": [
    "# Pilot studies 1 + 2"
   ]
  },
  {
   "cell_type": "markdown",
   "metadata": {},
   "source": [
    "## Format the data appropriately for arsenic"
   ]
  },
  {
   "cell_type": "code",
   "execution_count": 8,
   "metadata": {},
   "outputs": [
    {
     "name": "stderr",
     "output_type": "stream",
     "text": [
      "Warning: importing 'simtk.openmm' is deprecated.  Import 'openmm' instead.\n"
     ]
    }
   ],
   "source": [
    "import numpy as np\n",
    "import pickle\n",
    "from simtk.openmm import unit\n",
    "from openmmtools.constants import kB\n",
    "import pandas as pd\n",
    "KT_KCALMOL = kB * 300 * unit.kelvin / unit.kilocalories_per_mole"
   ]
  },
  {
   "cell_type": "code",
   "execution_count": 9,
   "metadata": {},
   "outputs": [],
   "source": [
    "def compute_binding_ddgs(apo_ddg, complex_ddg):\n",
    "    return (apo_ddg**2 + complex_ddg**2)**0.5"
   ]
  },
  {
   "cell_type": "code",
   "execution_count": 10,
   "metadata": {},
   "outputs": [],
   "source": [
    "titles = [\"K417N\", \"E484K\", \"L452R\", \"N439K\", \"N501A\", \"N501V\", \"N501I\", \"N501L\", \"N501M\", \"N501F\", \"N501Y\", \"N501W\", \"N501S\", \"N501T\", \"N501Q\", \"N501C\", \"N501G\", \"N501R\", \"N501H\", \"N501K\", \"N501D\", \"N501E\"]\n",
    "dir_num = 15\n",
    "subdirs = [120, 121, 122, 123, 124, 125, 126, 127, 128, 129, 130, 131, 134, 135, 137, 138, 139, 140, 141, 142, 143, 144]\n",
    "# to_plot = ['# Calculated block', '# Mutant1, Mutant2, calc_DDG, calc_dDDG(BAR), calc_dDDG(additional)']\n",
    "to_plot = []\n",
    "for i, subdir in enumerate(subdirs):\n",
    "    with open(f\"/data/chodera/zhangi/perses_benchmark/neq/{dir_num}/{subdir}/ddgs.pickle\", \"rb\") as f:\n",
    "        ddgs = pickle.load(f)\n",
    "    with open(f\"/data/chodera/zhangi/perses_benchmark/neq/{dir_num}/{subdir}/dgs_phase.pickle\", \"rb\") as f:\n",
    "        dgs_phase = pickle.load(f)\n",
    "        \n",
    "        # Compute binding ddgs from BAR\n",
    "        binding_ddgs_forward = []\n",
    "        binding_ddgs_backward = []\n",
    "        for j in range(len(dgs_phase)):\n",
    "            binding_ddgs_forward.append(compute_binding_ddgs(dgs_phase[subdir][j]['apo'][1], dgs_phase[subdir][j]['complex'][1]))\n",
    "#             binding_ddgs_backward.append(compute_binding_ddgs(dgs_phase[subdir+1][j]['apo'][1], dgs_phase[subdir+1][j]['complex'][1]))\n",
    "\n",
    "    to_plot.append([titles[i][:-1], titles[i][-1] + titles[i][1:-1], np.mean(ddgs[subdir])*KT_KCALMOL, np.mean(binding_ddgs_forward)*KT_KCALMOL, abs(np.mean(ddgs[subdir])*KT_KCALMOL - np.percentile(ddgs[subdir], 2.5)*KT_KCALMOL)])\n",
    "#     to_plot.append([title_pairs[i][1][:-1], title_pairs[i][1][-1] + title_pairs[i][1][1:3], np.mean(ddgs[subdir+1])*KT_KCALMOL, np.mean(binding_ddgs_backward)*KT_KCALMOL, abs(np.mean(ddgs[subdir+1])*KT_KCALMOL - np.percentile(ddgs[subdir+1], 2.5)*KT_KCALMOL)]) # take the negative of these so they match the forward transform values\n",
    "        \n",
    "        \n",
    "        "
   ]
  },
  {
   "cell_type": "code",
   "execution_count": 11,
   "metadata": {},
   "outputs": [
    {
     "data": {
      "text/plain": [
       "[['K417', 'N417', 4.478342026599137, 0.5109802676609467, 0.8321480613563108],\n",
       " ['E484', 'K484', 0.01562568708387605, 0.20137866456126985, 0.49476665209296],\n",
       " ['L452', 'R452', 0.4357034698238759, 0.4533784978283935, 0.8199842576140162],\n",
       " ['N439',\n",
       "  'K439',\n",
       "  -1.0200495856941676,\n",
       "  0.34422816389965766,\n",
       "  1.0240603720104837],\n",
       " ['N501', 'A501', 0.4732261282048999, 0.22292262907510418, 0.4531393859442618],\n",
       " ['N501', 'V501', -0.952995289684172, 0.26164914507969905, 0.5784007489496448],\n",
       " ['N501', 'I501', -1.4213799546905992, 0.4465837576918796, 0.5809887823543385],\n",
       " ['N501', 'L501', 0.8889993211623805, 0.35211598341211514, 0.9886014142770133],\n",
       " ['N501', 'M501', 1.3190709904931621, 0.3988539234791399, 0.7738168639988166],\n",
       " ['N501', 'F501', 0.26929649601602423, 0.5393930707668273, 1.2293422510485539],\n",
       " ['N501', 'Y501', 0.24418076289603108, 0.6829954966090637, 1.3906308736010424],\n",
       " ['N501', 'W501', 1.1906912483929741, 0.41088199099322964, 1.5849286783933594],\n",
       " ['N501', 'S501', 3.7181523472953257, 0.6148192374146922, 2.637493201283114],\n",
       " ['N501', 'T501', 3.2219109222493363, 0.5647078895587719, 1.4444398664914497],\n",
       " ['N501', 'Q501', 1.7771833306477298, 0.35562306414129824, 0.8543563619265485],\n",
       " ['N501', 'C501', -1.6343802699810206, 0.2165993355581167, 0.5740433967968837],\n",
       " ['N501', 'G501', 3.3097352773980173, 0.29739459627452464, 0.6200864237044339],\n",
       " ['N501', 'R501', -1.7999289674441348, 0.5651580068585509, 1.427016625847825],\n",
       " ['N501',\n",
       "  'H501',\n",
       "  -0.11230331478143452,\n",
       "  0.5232333832464147,\n",
       "  1.3387493362397687],\n",
       " ['N501', 'K501', 1.9038852910086428, 0.6195105642876658, 0.8053653779957788],\n",
       " ['N501', 'D501', 5.927402522321147, 0.44107385153938966, 1.0541372248305487],\n",
       " ['N501', 'E501', 8.018947454105975, 0.4011113661810687, 1.620231446697062]]"
      ]
     },
     "execution_count": 11,
     "metadata": {},
     "output_type": "execute_result"
    }
   ],
   "source": [
    "to_plot"
   ]
  },
  {
   "cell_type": "code",
   "execution_count": 12,
   "metadata": {},
   "outputs": [],
   "source": [
    "d = {'WT': 0, 'N417': 0.62, 'K484': -0.08, 'R452': -0.03, 'K439': -0.06,\n",
    "    \"A501\": 0.08, \"V501\": -0.21, \"I501\": 0.11, \"L501\": 1.59, \"M501\": 0.0, \"F501\": -0.40, \"Y501\": -0.33,\n",
    "    \"W501\": -0.15, \"S501\": 0.18, \"T501\": -0.14, \"Q501\": 0.08, \"C501\": 0.80, \"G501\": 1.30, \"R501\": 2.87, \"H501\": 0.0,\n",
    "    \"K501\": 3.85, \"D501\": 3.43, \"E501\": 1.09}"
   ]
  },
  {
   "cell_type": "code",
   "execution_count": 19,
   "metadata": {},
   "outputs": [],
   "source": [
    "# experiment = ['# Experiment block', '# Mutant, expt_DDG, expt_dDDG']\n",
    "experiment = []\n",
    "for k in d.keys():\n",
    "    if k == 'WT':\n",
    "        experiment.append(['K417', d['WT'], 0]) # take the negative of everything bc i think hannah subtracts differently\n",
    "        experiment.append(['E484', d['WT'], 0])\n",
    "        experiment.append(['L452', d['WT'], 0])\n",
    "        experiment.append(['N439', d['WT'], 0])\n",
    "        experiment.append(['N501', d['WT'], 0])\n",
    "        \n",
    "    else:\n",
    "        experiment.append([k, d[k], 0])"
   ]
  },
  {
   "cell_type": "code",
   "execution_count": 20,
   "metadata": {},
   "outputs": [
    {
     "data": {
      "text/plain": [
       "[['K417', 0, 0],\n",
       " ['E484', 0, 0],\n",
       " ['L452', 0, 0],\n",
       " ['N439', 0, 0],\n",
       " ['N501', 0, 0],\n",
       " ['N417', 0.62, 0],\n",
       " ['K484', -0.08, 0],\n",
       " ['R452', -0.03, 0],\n",
       " ['K439', -0.06, 0],\n",
       " ['A501', 0.08, 0],\n",
       " ['V501', -0.21, 0],\n",
       " ['I501', 0.11, 0],\n",
       " ['L501', 1.59, 0],\n",
       " ['M501', 0.0, 0],\n",
       " ['F501', -0.4, 0],\n",
       " ['Y501', -0.33, 0],\n",
       " ['W501', -0.15, 0],\n",
       " ['S501', 0.18, 0],\n",
       " ['T501', -0.14, 0],\n",
       " ['Q501', 0.08, 0],\n",
       " ['C501', 0.8, 0],\n",
       " ['G501', 1.3, 0],\n",
       " ['R501', 2.87, 0],\n",
       " ['H501', 0.0, 0],\n",
       " ['K501', 3.85, 0],\n",
       " ['D501', 3.43, 0],\n",
       " ['E501', 1.09, 0]]"
      ]
     },
     "execution_count": 20,
     "metadata": {},
     "output_type": "execute_result"
    }
   ],
   "source": [
    "experiment"
   ]
  },
  {
   "cell_type": "code",
   "execution_count": 21,
   "metadata": {},
   "outputs": [],
   "source": [
    "pd.DataFrame(experiment + to_plot).to_csv(f\"/data/chodera/zhangi/perses_benchmark/neq/{dir_num}/arsenic_input_pilot_1_2.csv\", index=False, header=False)\n",
    "# Had to manually add headings, otherwise the lists wouldn't print out as comma separated\n",
    "# Had to remove extra commas in experimental block\n"
   ]
  },
  {
   "cell_type": "markdown",
   "metadata": {},
   "source": [
    "## Make arsenic plot"
   ]
  },
  {
   "cell_type": "code",
   "execution_count": 1,
   "metadata": {
    "scrolled": true
   },
   "outputs": [],
   "source": [
    "import numpy as np\n",
    "\n",
    "%matplotlib inline\n",
    "import matplotlib.pylab as plt\n",
    "\n",
    "from arsenic import plotting, stats, wrangle"
   ]
  },
  {
   "cell_type": "code",
   "execution_count": 2,
   "metadata": {},
   "outputs": [
    {
     "name": "stdout",
     "output_type": "stream",
     "text": [
      "Graph is not connected enough to compute absolute values\n"
     ]
    }
   ],
   "source": [
    "fe = wrangle.FEMap('/data/chodera/zhangi/perses_benchmark/neq/15/arsenic_input_pilot_1_2.csv')"
   ]
  },
  {
   "cell_type": "code",
   "execution_count": 3,
   "metadata": {
    "scrolled": true
   },
   "outputs": [
    {
     "data": {
      "image/png": "[encoded data removed]",
      "text/plain": [
       "<Figure size 234x234 with 1 Axes>"
      ]
     },
     "metadata": {
      "needs_background": "light"
     },
     "output_type": "display_data"
    }
   ],
   "source": [
    "plotting.plot_DDGs(fe.graph,target_name='RBD', title='Mutations in RBD', units=r'$\\mathrm{kcal\\,/mol}$', filename='/data/chodera/zhangi/perses_benchmark/neq/15/arsenic_pilot_1_2.png')\n",
    "# added dpi to savefig() in local version\n",
    "# removed \"/\" in labels in local version\n",
    "# removed adding mbar error + other error and just use other error for error bars (in wrangle.py line 18)"
   ]
  },
  {
   "cell_type": "code",
   "execution_count": null,
   "metadata": {},
   "outputs": [],
   "source": []
  },
  {
   "cell_type": "code",
   "execution_count": null,
   "metadata": {},
   "outputs": [],
   "source": []
  }
 ],
 "metadata": {
  "kernelspec": {
   "display_name": "Python 3 (ipykernel)",
   "language": "python",
   "name": "python3"
  },
  "language_info": {
   "codemirror_mode": {
    "name": "ipython",
    "version": 3
   },
   "file_extension": ".py",
   "mimetype": "text/x-python",
   "name": "python",
   "nbconvert_exporter": "python",
   "pygments_lexer": "ipython3",
   "version": "3.8.11"
  }
 },
 "nbformat": 4,
 "nbformat_minor": 4
}
