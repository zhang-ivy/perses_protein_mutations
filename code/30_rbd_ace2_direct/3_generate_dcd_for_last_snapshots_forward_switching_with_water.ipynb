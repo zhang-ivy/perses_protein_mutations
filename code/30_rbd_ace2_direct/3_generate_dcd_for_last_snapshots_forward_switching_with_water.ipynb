{
 "cells": [
  {
   "cell_type": "code",
   "execution_count": 1,
   "id": "588a12d4",
   "metadata": {},
   "outputs": [
    {
     "name": "stderr",
     "output_type": "stream",
     "text": [
      "Warning: importing 'simtk.openmm' is deprecated.  Import 'openmm' instead.\n"
     ]
    }
   ],
   "source": [
    "import mdtraj as md\n",
    "import numpy as np\n",
    "import pickle\n",
    "import os\n",
    "from tqdm import tqdm_notebook\n",
    "from simtk.openmm import app\n",
    "from simtk.openmm import unit\n",
    "import matplotlib.pyplot as plt\n",
    "from pymbar import timeseries"
   ]
  },
  {
   "cell_type": "code",
   "execution_count": 2,
   "id": "ca8a881d",
   "metadata": {},
   "outputs": [],
   "source": [
    "def new_positions(hybrid_positions):\n",
    "    n_atoms_new = htf._topology_proposal.n_atoms_new\n",
    "    hybrid_indices = [htf._new_to_hybrid_map[idx] for idx in range(n_atoms_new)]\n",
    "    return hybrid_positions[hybrid_indices, :]\n",
    "    \n",
    "def old_positions(hybrid_positions):\n",
    "    n_atoms_old = htf._topology_proposal.n_atoms_old\n",
    "    hybrid_indices = [htf._old_to_hybrid_map[idx] for idx in range(n_atoms_old)]\n",
    "    return hybrid_positions[hybrid_indices, :]\n",
    "\n",
    "def make_neq_traj(outdir, htf, i, phase, endstate, is_old=True, keep_solvent=True):\n",
    "    name = 'old' if is_old else 'new'\n",
    "    n_atoms = htf.old_positions(htf.hybrid_positions).shape[0] if is_old else htf.new_positions(htf.hybrid_positions).shape[0]\n",
    "    \n",
    "#     snapshots = np.zeros((100, n_atoms, 3))\n",
    "    snapshots = []\n",
    "    for j in range(100):\n",
    "        if os.path.isfile(os.path.join(outdir, f\"{i}_{phase}_{j}_forward_neq_{name}_waters.npy\")):\n",
    "            with open(os.path.join(outdir, f\"{i}_{phase}_{j}_forward_neq_{name}_waters.npy\"), \"rb\") as f:\n",
    "                snapshot = np.load(f)\n",
    "#                 snapshots[j] = snapshot[-1]\n",
    "                snapshots.append(snapshot[-1])\n",
    "    snapshots = np.array(snapshots)\n",
    "    print(f\"loaded {snapshots.shape[0]} snapshots\")\n",
    "    print(snapshots.shape)\n",
    "            \n",
    "#     lengths = np.array([val[i].value_in_unit_system(unit.md_unit_system) for i, val in enumerate(htf.hybrid_system.getDefaultPeriodicBoxVectors())])\n",
    "#     lengths = np.array([lengths], dtype=np.float64)\n",
    "#     lengths = np.repeat(lengths, snapshots.shape[0], axis=0)\n",
    "\n",
    "#     angles = np.array([90, 90, 90])\n",
    "#     angles = np.repeat(np.array([angles]), snapshots.shape[0], axis=0)\n",
    "        \n",
    "    if is_old:\n",
    "        traj = md.Trajectory(snapshots, md.Topology.from_openmm(htf._topology_proposal.old_topology))\n",
    "#         traj = md.Trajectory(snapshots, md.Topology.from_openmm(htf._topology_proposal.old_topology), unitcell_lengths=lengths, unitcell_angles=angles)\n",
    "    else:\n",
    "        traj = md.Trajectory(snapshots, md.Topology.from_openmm(htf._topology_proposal.new_topology))\n",
    "#         traj = md.Trajectory(snapshots, md.Topology.from_openmm(htf._topology_proposal.new_topology), unitcell_lengths=lengths, unitcell_angles=angles)\n",
    "\n",
    "    # Set unit cell vectors in traj \n",
    "    box_vectors = [val.value_in_unit_system(unit.md_unit_system) for val in htf.hybrid_system.getDefaultPeriodicBoxVectors()]\n",
    "    box_vectors_formatted = np.ndarray(shape=(3,3), buffer=np.array(box_vectors)).astype(np.float32) # note that mdraj expect np.ndarray, not np.arrays\n",
    "    box_vectors_repeated = np.repeat(np.array([box_vectors_formatted]), traj.xyz.shape[0], axis=0)\n",
    "    traj.unitcell_vectors = box_vectors_repeated\n",
    "    \n",
    "    traj.image_molecules(inplace=True)\n",
    "    \n",
    "    if not keep_solvent:\n",
    "        traj = traj.remove_solvent(exclude=['Na+', 'Cl-'])\n",
    "    \n",
    "    return traj\n",
    "       "
   ]
  },
  {
   "cell_type": "markdown",
   "id": "60a31ea7",
   "metadata": {},
   "source": [
    "## 15/160"
   ]
  },
  {
   "cell_type": "code",
   "execution_count": 3,
   "id": "cffd6b52",
   "metadata": {},
   "outputs": [
    {
     "name": "stderr",
     "output_type": "stream",
     "text": [
      "INFO:rdkit:Enabling RDKit 2021.09.11 jupyter extensions\n"
     ]
    }
   ],
   "source": [
    "outdir = \"/data/chodera/zhangi/perses_benchmark/neq/15/160/\"\n",
    "i = 160\n",
    "phase = 'complex'\n",
    "endstate = 1\n",
    "is_old = False\n",
    "htf = pickle.load(open(os.path.join(outdir, f\"{i}_{phase}.pickle\"), \"rb\"))"
   ]
  },
  {
   "cell_type": "code",
   "execution_count": 4,
   "id": "0c895e02",
   "metadata": {},
   "outputs": [
    {
     "name": "stdout",
     "output_type": "stream",
     "text": [
      "loaded 94 snapshots\n",
      "(94, 185384, 3)\n"
     ]
    }
   ],
   "source": [
    "traj = make_neq_traj(outdir, htf, i, phase, endstate, is_old=is_old)"
   ]
  },
  {
   "cell_type": "code",
   "execution_count": 7,
   "id": "d822ef2a",
   "metadata": {},
   "outputs": [],
   "source": [
    "traj.save(os.path.join(outdir, f\"{i}_{phase}_new.dcd\"))\n",
    "app.PDBxFile.writeFile(traj.topology.to_openmm(), traj.openmm_positions(0), file=open(os.path.join(outdir, f\"{i}_{phase}_new.cif\"), \"w\"), keepIds=True)"
   ]
  },
  {
   "cell_type": "code",
   "execution_count": null,
   "id": "bb4e82a8",
   "metadata": {},
   "outputs": [],
   "source": []
  }
 ],
 "metadata": {
  "kernelspec": {
   "display_name": "Python 3 (ipykernel)",
   "language": "python",
   "name": "python3"
  },
  "language_info": {
   "codemirror_mode": {
    "name": "ipython",
    "version": 3
   },
   "file_extension": ".py",
   "mimetype": "text/x-python",
   "name": "python",
   "nbconvert_exporter": "python",
   "pygments_lexer": "ipython3",
   "version": "3.9.7"
  }
 },
 "nbformat": 4,
 "nbformat_minor": 5
}
