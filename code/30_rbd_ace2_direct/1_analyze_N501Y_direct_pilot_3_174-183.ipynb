{
 "cells": [
  {
   "cell_type": "markdown",
   "metadata": {},
   "source": [
    "Analyze 15/174-182 neq switching"
   ]
  },
  {
   "cell_type": "code",
   "execution_count": 1,
   "metadata": {},
   "outputs": [
    {
     "name": "stderr",
     "output_type": "stream",
     "text": [
      "Warning: importing 'simtk.openmm' is deprecated.  Import 'openmm' instead.\n"
     ]
    }
   ],
   "source": [
    "from perses.analysis.analysis import Analysis\n",
    "import numpy as np\n",
    "import seaborn as sns\n",
    "import matplotlib.pyplot as plt\n",
    "import pymbar\n",
    "%matplotlib inline\n",
    "import os\n",
    "import itertools\n",
    "from tqdm import tqdm_notebook\n",
    "import pandas as pd\n",
    "import tqdm\n",
    "import warnings\n",
    "warnings.filterwarnings('ignore')\n",
    "from simtk.openmm import unit\n",
    "from openmmtools.constants import kB\n",
    "KT_KCALMOL = kB * 300 * unit.kelvin / unit.kilocalories_per_mole\n",
    "import pandas as pd\n",
    "import pickle"
   ]
  },
  {
   "cell_type": "code",
   "execution_count": 2,
   "metadata": {},
   "outputs": [],
   "source": [
    "def bound_with_exp(forward_accumulated, reverse_accumulated):\n",
    "    upper_dg, upper_ddg = pymbar.exp.EXP(forward_accumulated)\n",
    "    lower_dg, lower_ddg = pymbar.exp.EXP(reverse_accumulated)\n",
    "    return upper_dg, upper_ddg, lower_dg, lower_ddg\n",
    "    \n",
    "def analyze(forward_accumulated, reverse_accumulated): \n",
    "    # Compute dg, ddg\n",
    "    dg, ddg = pymbar.bar.BAR(forward_accumulated, reverse_accumulated)\n",
    "    return dg, ddg\n",
    "\n",
    "def analyze_bootstrap(d_works):\n",
    "    d_dgs_phase = {}\n",
    "    complex_dg, complex_ddg = analyze(d_works['complex']['forward'], d_works['complex']['reverse'])\n",
    "    apo_dg, apo_ddg = analyze(d_works['apo']['forward'], d_works['apo']['reverse'])\n",
    "    d_dgs_phase['complex'] = (complex_dg, complex_ddg)\n",
    "    d_dgs_phase['apo'] = (apo_dg, apo_ddg)\n",
    "    \n",
    "    binding_dg = complex_dg - apo_dg\n",
    "#     binding_ddg = (apo_ddg**2 + complex_ddg**2)**0.5\n",
    "    return d_dgs_phase, binding_dg\n",
    "    \n",
    "def plot(forward_work, reverse_work, dg, ddg, dir_num, phase, output_dir, title):\n",
    "#     # Substract offset\n",
    "#     print(\"subtracting offset\")\n",
    "    forward_work_offset = []\n",
    "    for cycle in forward_work:\n",
    "        forward_work_offset.append(np.array([val - cycle[0] for val in cycle[1:]]))\n",
    "    forward_work_offset = np.array(forward_work_offset)\n",
    "\n",
    "    reverse_work_offset = []\n",
    "    for cycle in reverse_work:\n",
    "        reverse_work_offset.append(np.array([val - cycle[0] for val in cycle[1:]]))\n",
    "    reverse_work_offset = np.array(reverse_work_offset)\n",
    "\n",
    "    # Plot work trajectories\n",
    "    print(\"plotting work trajs\")\n",
    "    for cycle in forward_work_offset:\n",
    "        x = [(i+1)*4e-4 for i in range(len(list(cycle)))]\n",
    "        y = cycle\n",
    "        plt.plot(x, y, color=sns.color_palette()[0])\n",
    "    for cycle in reverse_work_offset:\n",
    "        x = [(i+1)*4e-4 for i in range(len(list(cycle)))]\n",
    "        y = -cycle\n",
    "        plt.plot(x, y, color=sns.color_palette()[1])\n",
    "    plt.xlabel(\"$t_{neq}$ (ns)\")\n",
    "    plt.ylabel(\"work (kT)\")\n",
    "    plt.title(f\"{title} {phase}\")\n",
    "    plt.savefig(os.path.join(output_dir, f\"{dir_num}_{phase}_work_traj.png\"), dpi=500)\n",
    "    print(f\"saved to: {os.path.join(output_dir, f'{dir_num}_{phase}_work_traj.png')}\")\n",
    "    plt.clf()\n",
    "    \n",
    "    # Plot work distributions\n",
    "    print(\"plotting work distrib\")\n",
    "    accumulated_forward = [cycle[-1] for cycle in forward_work_offset]\n",
    "    accumulated_reverse = [-cycle[-1] for cycle in reverse_work_offset]\n",
    "    sns.distplot(accumulated_forward)\n",
    "    sns.distplot(accumulated_reverse)\n",
    "    plt.axvline(dg)\n",
    "    plt.axvline(dg + ddg, linestyle='dashed')\n",
    "    plt.axvline(dg - ddg, linestyle='dashed')\n",
    "    plt.xlabel(\"work (kT)\")\n",
    "    plt.ylabel(\"p(w)\")\n",
    "    plt.title(f\"{title} {phase}\")\n",
    "    plt.savefig(os.path.join(output_dir, f\"{dir_num}_{phase}_work_dist.png\"), dpi=500)\n",
    "    print(f\"saved to: {os.path.join(output_dir, f'{dir_num}_{phase}_work_dist.png')}\")\n",
    "    plt.clf()\n",
    "\n",
    "    return accumulated_forward\n",
    "    "
   ]
  },
  {
   "cell_type": "markdown",
   "metadata": {},
   "source": [
    "## 15/174"
   ]
  },
  {
   "cell_type": "code",
   "execution_count": 3,
   "metadata": {
    "scrolled": false
   },
   "outputs": [
    {
     "data": {
      "application/vnd.jupyter.widget-view+json": {
       "model_id": "fe11b9c231b54dafa28632367934cc12",
       "version_major": 2,
       "version_minor": 0
      },
      "text/plain": [
       "  0%|          | 0/1 [00:00<?, ?it/s]"
      ]
     },
     "metadata": {},
     "output_type": "display_data"
    },
    {
     "name": "stdout",
     "output_type": "stream",
     "text": [
      "dir: 174\n",
      "100\n",
      "about to save: complex forward\n",
      "100\n",
      "about to save: complex reverse\n",
      "100\n",
      "about to save: apo forward\n",
      "100\n",
      "about to save: apo reverse\n",
      "plotting work trajs\n",
      "saved to: /data/chodera/zhangi/perses_benchmark/neq/15/174/174_complex_work_traj.png\n",
      "plotting work distrib\n",
      "saved to: /data/chodera/zhangi/perses_benchmark/neq/15/174/174_complex_work_dist.png\n",
      "plotting work trajs\n",
      "saved to: /data/chodera/zhangi/perses_benchmark/neq/15/174/174_apo_work_traj.png\n",
      "plotting work distrib\n",
      "saved to: /data/chodera/zhangi/perses_benchmark/neq/15/174/174_apo_work_dist.png\n",
      "binding DDG:  -0.20508959490996403  ( 0.27996686450306596 )\n",
      "complex DG:  69.72774828560257  ( 0.27015028151628867 )\n",
      "apo DG:  69.93283788051254  ( 0.07348653357145146 )\n",
      "binding DDG (upper):  0.7832666568257025  ( 0.3138213927801784 )\n",
      "complex DG:  70.55865065994175  ( 0.2753130707661438 )\n",
      "apo DG:  69.77538400311605  ( 0.15062064809250858 )\n",
      "binding DDG (lower):  -1.1665171026082675  ( -0.40543598648531104 )\n",
      "complex DG:  69.37329735072291  ( -0.320026322165032 )\n",
      "apo DG:  70.53981445333118  ( -0.24892065454445608 )\n"
     ]
    },
    {
     "data": {
      "text/plain": [
       "<Figure size 432x288 with 0 Axes>"
      ]
     },
     "metadata": {},
     "output_type": "display_data"
    }
   ],
   "source": [
    "# Load data into dicts and plot \n",
    "titles = [\"N501S\"]\n",
    "phases = ['complex', 'apo']\n",
    "directions = ['forward', 'reverse']\n",
    "d_input = {}\n",
    "dir_num = 15\n",
    "forward = 174\n",
    "for i in tqdm_notebook([forward]):\n",
    "    print(f\"dir: {i}\")\n",
    "    d_works = {\"complex\": {}, \"apo\":{}}\n",
    "    d_combined_works = {\"complex\": {}, \"apo\":{}}\n",
    "    for phase in phases:\n",
    "        for direction in directions:\n",
    "            all_arrays = []\n",
    "            for j in range(100):\n",
    "                path = f\"/data/chodera/zhangi/perses_benchmark/neq/{dir_num}/{i}/{i}_{phase}_{j}_{direction}.npy\"\n",
    "                try:\n",
    "                    if os.path.exists(path):\n",
    "                        with open(path, 'rb') as f:\n",
    "                            array = np.load(f)\n",
    "                            if not np.isnan(np.sum(array)):\n",
    "                                all_arrays.append(array)\n",
    "                except:\n",
    "                    continue\n",
    "            print(len(all_arrays))\n",
    "            if all_arrays:\n",
    "                combined = np.concatenate(all_arrays)\n",
    "                accumulated = np.array([cycle[-1] - cycle[0] for cycle in combined])\n",
    "#                 combined = np.array([cycle[0::100] for cycle in combined])\n",
    "                print(f\"about to save: {phase} {direction}\")\n",
    "                d_combined_works[phase][direction] = combined\n",
    "                d_works[phase][direction] = accumulated\n",
    "\n",
    "    d_input[i] = d_works\n",
    "    \n",
    "    # Plot\n",
    "    complex_dg, complex_ddg = analyze(d_works['complex']['forward'], d_works['complex']['reverse'])\n",
    "    apo_dg, apo_ddg = analyze(d_works['apo']['forward'], d_works['apo']['reverse'])\n",
    "    plot(d_combined_works['complex']['forward'], d_combined_works['complex']['reverse'], complex_dg, complex_ddg, i, 'complex', os.path.dirname(path), titles[i-forward])\n",
    "    plot(d_combined_works['apo']['forward'], d_combined_works['apo']['reverse'], apo_dg, apo_ddg, i, 'apo', os.path.dirname(path), titles[i-forward])\n",
    "    print(\"binding DDG: \", complex_dg*KT_KCALMOL - apo_dg*KT_KCALMOL, \" (\", ((apo_ddg**2 + complex_ddg**2)**0.5)*KT_KCALMOL, \")\")\n",
    "    print(\"complex DG: \", complex_dg*KT_KCALMOL, \" (\", complex_ddg*KT_KCALMOL,\")\")\n",
    "    print(\"apo DG: \", apo_dg*KT_KCALMOL, \" (\", apo_ddg*KT_KCALMOL,\")\")\n",
    "    \n",
    "    complex_upper_dg, complex_upper_ddg, complex_lower_dg, complex_lower_ddg = bound_with_exp(d_works['complex']['forward'], d_works['complex']['reverse'])\n",
    "    apo_upper_dg, apo_upper_ddg, apo_lower_dg, apo_lower_ddg = bound_with_exp(d_works['apo']['forward'], d_works['apo']['reverse'])\n",
    "    print(\"binding DDG (upper): \", complex_upper_dg*KT_KCALMOL - apo_upper_dg*KT_KCALMOL, \" (\", ((apo_upper_ddg**2 + complex_upper_ddg**2)**0.5)*KT_KCALMOL, \")\")\n",
    "    print(\"complex DG: \", complex_upper_dg*KT_KCALMOL, \" (\", complex_upper_ddg*KT_KCALMOL,\")\")\n",
    "    print(\"apo DG: \", apo_upper_dg*KT_KCALMOL, \" (\", apo_upper_ddg*KT_KCALMOL,\")\")\n",
    "    print(\"binding DDG (lower): \", complex_lower_dg*-KT_KCALMOL - apo_lower_dg*-KT_KCALMOL, \" (\", ((apo_lower_ddg**2 + complex_lower_ddg**2)**0.5)*-KT_KCALMOL, \")\")\n",
    "    print(\"complex DG: \", complex_lower_dg*-KT_KCALMOL, \" (\", complex_lower_ddg*-KT_KCALMOL,\")\")\n",
    "    print(\"apo DG: \", apo_lower_dg*-KT_KCALMOL, \" (\", apo_lower_ddg*-KT_KCALMOL,\")\")\n",
    "    "
   ]
  },
  {
   "cell_type": "code",
   "execution_count": 4,
   "metadata": {
    "scrolled": true
   },
   "outputs": [
    {
     "data": {
      "text/plain": [
       "(array([ 2.,  4.,  7.,  8., 13., 22., 20., 13.,  4.,  7.]),\n",
       " array([ 88.6375609 ,  91.79244521,  94.94732953,  98.10221385,\n",
       "        101.25709816, 104.41198248, 107.56686679, 110.72175111,\n",
       "        113.87663543, 117.03151974, 120.18640406]),\n",
       " <BarContainer object of 10 artists>)"
      ]
     },
     "execution_count": 4,
     "metadata": {},
     "output_type": "execute_result"
    },
    {
     "data": {
      "image/png": "[encoded data removed]",
      "text/plain": [
       "<Figure size 432x288 with 1 Axes>"
      ]
     },
     "metadata": {
      "needs_background": "light"
     },
     "output_type": "display_data"
    }
   ],
   "source": [
    "plt.hist(d_works['complex']['forward'])\n",
    "plt.hist(d_works['complex']['reverse']*-1)"
   ]
  },
  {
   "cell_type": "code",
   "execution_count": 5,
   "metadata": {},
   "outputs": [
    {
     "data": {
      "application/vnd.jupyter.widget-view+json": {
       "model_id": "aac84c7e64b5423a8a553501df937d57",
       "version_major": 2,
       "version_minor": 0
      },
      "text/plain": [
       "  0%|          | 0/10000 [00:00<?, ?it/s]"
      ]
     },
     "metadata": {},
     "output_type": "display_data"
    }
   ],
   "source": [
    "# Bootstrap works\n",
    "N_bootstraps = 10000\n",
    "phases = ['complex', 'apo']\n",
    "directions = ['forward', 'reverse']\n",
    "dgs_phase = {}\n",
    "ddgs = {}\n",
    "for i in [forward]:\n",
    "    dgs_phase_all = []\n",
    "    ddgs_all = []\n",
    "    for _ in tqdm_notebook(range(N_bootstraps)):\n",
    "        # Initialize data structure for works\n",
    "        d_works = {\"complex\": {\"forward\":{}, \"reverse\":{}}, \"apo\":{\"forward\":{}, \"reverse\":{}}}\n",
    "\n",
    "        # Save subsampled works\n",
    "        for phase in phases:\n",
    "            for direction in directions:\n",
    "                work_array = np.array(d_input[i][phase][direction])\n",
    "                num_samples = work_array.shape[0]\n",
    "                subsample_indices = np.random.choice(range(num_samples), num_samples)\n",
    "                d_works[phase][direction] = work_array[subsample_indices]\n",
    "        d_dgs_phase, binding_dg = analyze_bootstrap(d_works)\n",
    "        dgs_phase_all.append(d_dgs_phase)\n",
    "        ddgs_all.append(binding_dg)\n",
    "    dgs_phase[i] = dgs_phase_all\n",
    "    ddgs[i] = ddgs_all\n",
    "    \n",
    "    \n"
   ]
  },
  {
   "cell_type": "code",
   "execution_count": 6,
   "metadata": {},
   "outputs": [],
   "source": [
    "forward_ddg = np.mean(ddgs[forward])\n",
    "forward_ci = np.percentile(ddgs[forward], 2.5), np.percentile(ddgs[forward], 97.5)\n",
    "# reverse_ddg = np.mean(ddgs[reverse])\n",
    "# reverse_ci = np.percentile(ddgs[reverse], 2.5), np.percentile(ddgs[reverse], 97.5)\n",
    "# negative_reverse_ci = sorted(np.array(reverse_ci)*-1)\n",
    "# discrepancy = tuple(np.array(forward_ci) - np.array(negative_reverse_ci))\n",
    "# output_kt = [forward_ddg, forward_ci, reverse_ddg, reverse_ci, discrepancy]\n",
    "# output_kcalmol = [round(forward_ddg*KT_KCALMOL, 2), tuple([round(val, 2)for val in np.array(forward_ci)*KT_KCALMOL]), round(reverse_ddg*KT_KCALMOL, 2), tuple([round(val, 2) for val in np.array(reverse_ci)*KT_KCALMOL]), tuple([round(val, 2) for val in np.array(discrepancy)*KT_KCALMOL])]\n",
    "\n",
    "output_kcalmol = [round(forward_ddg*KT_KCALMOL, 2), tuple([round(val, 2)for val in np.array(forward_ci)*KT_KCALMOL])]\n",
    "\n"
   ]
  },
  {
   "cell_type": "code",
   "execution_count": 7,
   "metadata": {},
   "outputs": [
    {
     "data": {
      "text/plain": [
       "[-0.21, (-1.01, 0.53)]"
      ]
     },
     "execution_count": 7,
     "metadata": {},
     "output_type": "execute_result"
    }
   ],
   "source": [
    "output_kcalmol"
   ]
  },
  {
   "cell_type": "code",
   "execution_count": 8,
   "metadata": {},
   "outputs": [],
   "source": [
    "# pd.DataFrame([output_kcalmol]).to_csv(f\"/data/chodera/zhangi/perses_benchmark/neq/{dir_num}/{forward}/analysis_{titles[0]}_{titles[1]}.csv\")"
   ]
  },
  {
   "cell_type": "code",
   "execution_count": 9,
   "metadata": {},
   "outputs": [],
   "source": [
    "with open(f\"/data/chodera/zhangi/perses_benchmark/neq/{dir_num}/{forward}/dgs_phase.pickle\", \"wb\") as f:\n",
    "    pickle.dump(dgs_phase, f)\n",
    "with open(f\"/data/chodera/zhangi/perses_benchmark/neq/{dir_num}/{forward}/ddgs.pickle\", \"wb\") as f:\n",
    "    pickle.dump(ddgs, f)"
   ]
  },
  {
   "cell_type": "code",
   "execution_count": 10,
   "metadata": {},
   "outputs": [],
   "source": [
    "with open(f\"/data/chodera/zhangi/perses_benchmark/neq/{dir_num}/{forward}/dgs_phase.pickle\", \"rb\") as f:\n",
    "    dgs_phase = pickle.load(f)\n",
    "with open(f\"/data/chodera/zhangi/perses_benchmark/neq/{dir_num}/{forward}/ddgs.pickle\", \"rb\") as f:\n",
    "    ddgs = pickle.load(f)"
   ]
  },
  {
   "cell_type": "code",
   "execution_count": 11,
   "metadata": {
    "scrolled": false
   },
   "outputs": [
    {
     "data": {
      "text/plain": [
       "<matplotlib.legend.Legend at 0x2b43e8123820>"
      ]
     },
     "execution_count": 11,
     "metadata": {},
     "output_type": "execute_result"
    },
    {
     "data": {
      "image/png": "[encoded data removed]",
      "text/plain": [
       "<Figure size 432x288 with 1 Axes>"
      ]
     },
     "metadata": {
      "needs_background": "light"
     },
     "output_type": "display_data"
    }
   ],
   "source": [
    "# Plot ddgs\n",
    "sns.distplot(np.array(ddgs[forward])*KT_KCALMOL, rug=True, label=titles[0])\n",
    "# sns.distplot(np.array(ddgs[reverse])*-KT_KCALMOL, rug=True, label=f\"-({titles[1]})\")\n",
    "plt.xlabel(\"binding ddg (kcal/mol)\")\n",
    "plt.legend()"
   ]
  },
  {
   "cell_type": "code",
   "execution_count": 12,
   "metadata": {},
   "outputs": [
    {
     "data": {
      "text/plain": [
       "0.3968795213685179"
      ]
     },
     "execution_count": 12,
     "metadata": {},
     "output_type": "execute_result"
    }
   ],
   "source": [
    "np.std(np.array(ddgs[forward])*KT_KCALMOL)"
   ]
  },
  {
   "cell_type": "code",
   "execution_count": null,
   "metadata": {},
   "outputs": [],
   "source": []
  },
  {
   "cell_type": "code",
   "execution_count": 13,
   "metadata": {},
   "outputs": [],
   "source": [
    "apo_dg = np.mean([d['apo'][0] for d in dgs_phase[forward]])\n",
    "apo_ci = np.percentile([d['apo'][0] for d in dgs_phase[forward]], 2.5), np.percentile([d['apo'][0] for d in dgs_phase[forward]], 97.5)\n",
    "output_kcalmol_apo = [round(apo_dg*KT_KCALMOL, 2), tuple([round(val, 2)for val in np.array(apo_ci)*KT_KCALMOL])]\n",
    "\n",
    "complex_dg = np.mean([d['complex'][0] for d in dgs_phase[forward]])\n",
    "complex_ci = np.percentile([d['complex'][0] for d in dgs_phase[forward]], 2.5), np.percentile([d['complex'][0] for d in dgs_phase[forward]], 97.5)\n",
    "output_kcalmol_complex = [round(complex_dg*KT_KCALMOL, 2), tuple([round(val, 2)for val in np.array(complex_ci)*KT_KCALMOL])]\n"
   ]
  },
  {
   "cell_type": "code",
   "execution_count": 14,
   "metadata": {},
   "outputs": [
    {
     "data": {
      "text/plain": [
       "[69.93, (69.76, 70.1)]"
      ]
     },
     "execution_count": 14,
     "metadata": {},
     "output_type": "execute_result"
    }
   ],
   "source": [
    "output_kcalmol_apo"
   ]
  },
  {
   "cell_type": "code",
   "execution_count": 15,
   "metadata": {},
   "outputs": [
    {
     "data": {
      "text/plain": [
       "[69.72, (68.95, 70.44)]"
      ]
     },
     "execution_count": 15,
     "metadata": {},
     "output_type": "execute_result"
    }
   ],
   "source": [
    "output_kcalmol_complex"
   ]
  },
  {
   "cell_type": "code",
   "execution_count": 16,
   "metadata": {},
   "outputs": [
    {
     "data": {
      "text/plain": [
       "<matplotlib.legend.Legend at 0x2b43e8ca44c0>"
      ]
     },
     "execution_count": 16,
     "metadata": {},
     "output_type": "execute_result"
    },
    {
     "data": {
      "image/png": "[encoded data removed]",
      "text/plain": [
       "<Figure size 432x288 with 1 Axes>"
      ]
     },
     "metadata": {
      "needs_background": "light"
     },
     "output_type": "display_data"
    }
   ],
   "source": [
    "# Plot ddgs\n",
    "sns.distplot(np.array([dgs_phase[forward][i]['apo'][0]*KT_KCALMOL for i in range(100)]), rug=True, label=titles[0])\n",
    "plt.xlabel(\"apo binding dg (kcal/mol)\")\n",
    "plt.legend()"
   ]
  },
  {
   "cell_type": "code",
   "execution_count": 17,
   "metadata": {
    "scrolled": false
   },
   "outputs": [
    {
     "data": {
      "text/plain": [
       "<matplotlib.legend.Legend at 0x2b43e8ca4040>"
      ]
     },
     "execution_count": 17,
     "metadata": {},
     "output_type": "execute_result"
    },
    {
     "data": {
      "image/png": "[encoded data removed]",
      "text/plain": [
       "<Figure size 432x288 with 1 Axes>"
      ]
     },
     "metadata": {
      "needs_background": "light"
     },
     "output_type": "display_data"
    }
   ],
   "source": [
    "# Plot ddgs\n",
    "sns.distplot(np.array([dgs_phase[forward][i]['complex'][0]*KT_KCALMOL for i in range(100)]), rug=True, label=titles[0])\n",
    "plt.xlabel(\"complex binding dg (kcal/mol)\")\n",
    "plt.legend()"
   ]
  },
  {
   "cell_type": "markdown",
   "metadata": {},
   "source": [
    "## 15/175"
   ]
  },
  {
   "cell_type": "code",
   "execution_count": 18,
   "metadata": {
    "scrolled": true
   },
   "outputs": [
    {
     "data": {
      "application/vnd.jupyter.widget-view+json": {
       "model_id": "1e63e51c235d423c9114509edf35cfbc",
       "version_major": 2,
       "version_minor": 0
      },
      "text/plain": [
       "  0%|          | 0/1 [00:00<?, ?it/s]"
      ]
     },
     "metadata": {},
     "output_type": "display_data"
    },
    {
     "name": "stdout",
     "output_type": "stream",
     "text": [
      "dir: 175\n",
      "90\n",
      "about to save: complex forward\n",
      "90\n",
      "about to save: complex reverse\n",
      "99\n",
      "about to save: apo forward\n",
      "99\n",
      "about to save: apo reverse\n",
      "plotting work trajs\n",
      "saved to: /data/chodera/zhangi/perses_benchmark/neq/15/175/175_complex_work_traj.png\n",
      "plotting work distrib\n",
      "saved to: /data/chodera/zhangi/perses_benchmark/neq/15/175/175_complex_work_dist.png\n",
      "plotting work trajs\n",
      "saved to: /data/chodera/zhangi/perses_benchmark/neq/15/175/175_apo_work_traj.png\n",
      "plotting work distrib\n",
      "saved to: /data/chodera/zhangi/perses_benchmark/neq/15/175/175_apo_work_dist.png\n",
      "binding DDG:  -0.9375544855591826  ( 0.19201870527267603 )\n",
      "\tcomplex DG:  50.8863421134707  ( 0.10326200253387091 )\n",
      "\tapo DG:  51.82389659902988  ( 0.16188928935321714 )\n",
      "binding DDG (upper):  -3.6926308407982305  ( 0.5325888992287457 )\n",
      "\tcomplex DG:  49.31139274081391  ( 0.5097211239821877 )\n",
      "\tapo DG:  53.00402358161214  ( 0.15438688852367743 )\n",
      "binding DDG (lower):  1.957579007726288  ( -0.3357232960720931 )\n",
      "\tcomplex DG:  52.58385205212902  ( -0.29258221390560746 )\n",
      "\tapo DG:  50.62627304440273  ( -0.16463832977652454 )\n"
     ]
    },
    {
     "data": {
      "text/plain": [
       "<Figure size 432x288 with 0 Axes>"
      ]
     },
     "metadata": {},
     "output_type": "display_data"
    }
   ],
   "source": [
    "# Load data into dicts and plot \n",
    "titles = [\"N501T\"]\n",
    "phases = ['complex', 'apo']\n",
    "directions = ['forward', 'reverse']\n",
    "d_input = {}\n",
    "dir_num = 15\n",
    "forward = 175\n",
    "for i in tqdm_notebook([forward]):\n",
    "    print(f\"dir: {i}\")\n",
    "    d_works = {\"complex\": {}, \"apo\":{}}\n",
    "    d_combined_works = {\"complex\": {}, \"apo\":{}}\n",
    "    for phase in phases:\n",
    "        for direction in directions:\n",
    "            all_arrays = []\n",
    "            for j in range(100):\n",
    "                path = f\"/data/chodera/zhangi/perses_benchmark/neq/{dir_num}/{i}/{i}_{phase}_{j}_{direction}.npy\"\n",
    "                try:\n",
    "                    if os.path.exists(path):\n",
    "                        with open(path, 'rb') as f:\n",
    "                            array = np.load(f)\n",
    "                            if not np.isnan(np.sum(array)):\n",
    "                                all_arrays.append(array)\n",
    "                except:\n",
    "                    continue\n",
    "            print(len(all_arrays))\n",
    "            if all_arrays:\n",
    "                combined = np.concatenate(all_arrays)\n",
    "                accumulated = np.array([cycle[-1] - cycle[0] for cycle in combined])\n",
    "#                 combined = np.array([cycle[0::100] for cycle in combined])\n",
    "                print(f\"about to save: {phase} {direction}\")\n",
    "                d_combined_works[phase][direction] = combined\n",
    "                d_works[phase][direction] = accumulated\n",
    "\n",
    "    d_input[i] = d_works\n",
    "    \n",
    "    # Plot\n",
    "    complex_dg, complex_ddg = analyze(d_works['complex']['forward'], d_works['complex']['reverse'])\n",
    "    apo_dg, apo_ddg = analyze(d_works['apo']['forward'], d_works['apo']['reverse'])\n",
    "    plot(d_combined_works['complex']['forward'], d_combined_works['complex']['reverse'], complex_dg, complex_ddg, i, 'complex', os.path.dirname(path), titles[i-forward])\n",
    "    plot(d_combined_works['apo']['forward'], d_combined_works['apo']['reverse'], apo_dg, apo_ddg, i, 'apo', os.path.dirname(path), titles[i-forward])\n",
    "    print(\"binding DDG: \", complex_dg*KT_KCALMOL - apo_dg*KT_KCALMOL, \" (\", ((apo_ddg**2 + complex_ddg**2)**0.5)*KT_KCALMOL, \")\")\n",
    "    print(\"\\tcomplex DG: \", complex_dg*KT_KCALMOL, \" (\", complex_ddg*KT_KCALMOL,\")\")\n",
    "    print(\"\\tapo DG: \", apo_dg*KT_KCALMOL, \" (\", apo_ddg*KT_KCALMOL,\")\")\n",
    "    \n",
    "    complex_upper_dg, complex_upper_ddg, complex_lower_dg, complex_lower_ddg = bound_with_exp(d_works['complex']['forward'], d_works['complex']['reverse'])\n",
    "    apo_upper_dg, apo_upper_ddg, apo_lower_dg, apo_lower_ddg = bound_with_exp(d_works['apo']['forward'], d_works['apo']['reverse'])\n",
    "    print(\"binding DDG (upper): \", complex_upper_dg*KT_KCALMOL - apo_upper_dg*KT_KCALMOL, \" (\", ((apo_upper_ddg**2 + complex_upper_ddg**2)**0.5)*KT_KCALMOL, \")\")\n",
    "    print(\"\\tcomplex DG: \", complex_upper_dg*KT_KCALMOL, \" (\", complex_upper_ddg*KT_KCALMOL,\")\")\n",
    "    print(\"\\tapo DG: \", apo_upper_dg*KT_KCALMOL, \" (\", apo_upper_ddg*KT_KCALMOL,\")\")\n",
    "    print(\"binding DDG (lower): \", complex_lower_dg*-KT_KCALMOL - apo_lower_dg*-KT_KCALMOL, \" (\", ((apo_lower_ddg**2 + complex_lower_ddg**2)**0.5)*-KT_KCALMOL, \")\")\n",
    "    print(\"\\tcomplex DG: \", complex_lower_dg*-KT_KCALMOL, \" (\", complex_lower_ddg*-KT_KCALMOL,\")\")\n",
    "    print(\"\\tapo DG: \", apo_lower_dg*-KT_KCALMOL, \" (\", apo_lower_ddg*-KT_KCALMOL,\")\")\n",
    "     "
   ]
  },
  {
   "cell_type": "code",
   "execution_count": 19,
   "metadata": {
    "scrolled": true
   },
   "outputs": [
    {
     "data": {
      "text/plain": [
       "(array([ 1.,  2.,  3.,  4., 13., 15., 20., 17., 10.,  5.]),\n",
       " array([67.51519732, 69.95533383, 72.39547033, 74.83560683, 77.27574334,\n",
       "        79.71587984, 82.15601634, 84.59615285, 87.03628935, 89.47642585,\n",
       "        91.91656236]),\n",
       " <BarContainer object of 10 artists>)"
      ]
     },
     "execution_count": 19,
     "metadata": {},
     "output_type": "execute_result"
    },
    {
     "data": {
      "image/png": "[encoded data removed]",
      "text/plain": [
       "<Figure size 432x288 with 1 Axes>"
      ]
     },
     "metadata": {
      "needs_background": "light"
     },
     "output_type": "display_data"
    }
   ],
   "source": [
    "plt.hist(d_works['complex']['forward'])\n",
    "plt.hist(d_works['complex']['reverse']*-1)"
   ]
  },
  {
   "cell_type": "code",
   "execution_count": 20,
   "metadata": {},
   "outputs": [
    {
     "data": {
      "text/plain": [
       "78.36499210908707"
      ]
     },
     "execution_count": 20,
     "metadata": {},
     "output_type": "execute_result"
    }
   ],
   "source": [
    "np.min(d_works['complex']['forward'])"
   ]
  },
  {
   "cell_type": "code",
   "execution_count": 21,
   "metadata": {},
   "outputs": [
    {
     "data": {
      "application/vnd.jupyter.widget-view+json": {
       "model_id": "32d689445baf4f67a25b16f55aa7a33c",
       "version_major": 2,
       "version_minor": 0
      },
      "text/plain": [
       "  0%|          | 0/10000 [00:00<?, ?it/s]"
      ]
     },
     "metadata": {},
     "output_type": "display_data"
    }
   ],
   "source": [
    "# Bootstrap works\n",
    "N_bootstraps = 10000\n",
    "phases = ['complex', 'apo']\n",
    "directions = ['forward', 'reverse']\n",
    "dgs_phase = {}\n",
    "ddgs = {}\n",
    "for i in [forward]:\n",
    "    dgs_phase_all = []\n",
    "    ddgs_all = []\n",
    "    for _ in tqdm_notebook(range(N_bootstraps)):\n",
    "        # Initialize data structure for works\n",
    "        d_works = {\"complex\": {\"forward\":{}, \"reverse\":{}}, \"apo\":{\"forward\":{}, \"reverse\":{}}}\n",
    "\n",
    "        # Save subsampled works\n",
    "        for phase in phases:\n",
    "            for direction in directions:\n",
    "                work_array = np.array(d_input[i][phase][direction])\n",
    "                num_samples = work_array.shape[0]\n",
    "                subsample_indices = np.random.choice(range(num_samples), num_samples)\n",
    "                d_works[phase][direction] = work_array[subsample_indices]\n",
    "        d_dgs_phase, binding_dg = analyze_bootstrap(d_works)\n",
    "        dgs_phase_all.append(d_dgs_phase)\n",
    "        ddgs_all.append(binding_dg)\n",
    "    dgs_phase[i] = dgs_phase_all\n",
    "    ddgs[i] = ddgs_all\n",
    "    \n",
    "    \n"
   ]
  },
  {
   "cell_type": "code",
   "execution_count": 22,
   "metadata": {},
   "outputs": [],
   "source": [
    "forward_ddg = np.mean(ddgs[forward])\n",
    "forward_ci = np.percentile(ddgs[forward], 2.5), np.percentile(ddgs[forward], 97.5)\n",
    "# reverse_ddg = np.mean(ddgs[reverse])\n",
    "# reverse_ci = np.percentile(ddgs[reverse], 2.5), np.percentile(ddgs[reverse], 97.5)\n",
    "# negative_reverse_ci = sorted(np.array(reverse_ci)*-1)\n",
    "# discrepancy = tuple(np.array(forward_ci) - np.array(negative_reverse_ci))\n",
    "# output_kt = [forward_ddg, forward_ci, reverse_ddg, reverse_ci, discrepancy]\n",
    "# output_kcalmol = [round(forward_ddg*KT_KCALMOL, 2), tuple([round(val, 2)for val in np.array(forward_ci)*KT_KCALMOL]), round(reverse_ddg*KT_KCALMOL, 2), tuple([round(val, 2) for val in np.array(reverse_ci)*KT_KCALMOL]), tuple([round(val, 2) for val in np.array(discrepancy)*KT_KCALMOL])]\n",
    "\n",
    "output_kcalmol = [round(forward_ddg*KT_KCALMOL, 2), tuple([round(val, 2)for val in np.array(forward_ci)*KT_KCALMOL])]\n",
    "\n"
   ]
  },
  {
   "cell_type": "code",
   "execution_count": 23,
   "metadata": {},
   "outputs": [
    {
     "data": {
      "text/plain": [
       "[-0.94, (-1.35, -0.53)]"
      ]
     },
     "execution_count": 23,
     "metadata": {},
     "output_type": "execute_result"
    }
   ],
   "source": [
    "output_kcalmol"
   ]
  },
  {
   "cell_type": "code",
   "execution_count": 24,
   "metadata": {},
   "outputs": [],
   "source": [
    "# pd.DataFrame([output_kcalmol]).to_csv(f\"/data/chodera/zhangi/perses_benchmark/neq/{dir_num}/{forward}/analysis_{titles[0]}_{titles[1]}.csv\")"
   ]
  },
  {
   "cell_type": "code",
   "execution_count": 25,
   "metadata": {},
   "outputs": [],
   "source": [
    "with open(f\"/data/chodera/zhangi/perses_benchmark/neq/{dir_num}/{forward}/dgs_phase.pickle\", \"wb\") as f:\n",
    "    pickle.dump(dgs_phase, f)\n",
    "with open(f\"/data/chodera/zhangi/perses_benchmark/neq/{dir_num}/{forward}/ddgs.pickle\", \"wb\") as f:\n",
    "    pickle.dump(ddgs, f)"
   ]
  },
  {
   "cell_type": "code",
   "execution_count": 26,
   "metadata": {},
   "outputs": [],
   "source": [
    "with open(f\"/data/chodera/zhangi/perses_benchmark/neq/{dir_num}/{forward}/dgs_phase.pickle\", \"rb\") as f:\n",
    "    dgs_phase = pickle.load(f)\n",
    "with open(f\"/data/chodera/zhangi/perses_benchmark/neq/{dir_num}/{forward}/ddgs.pickle\", \"rb\") as f:\n",
    "    ddgs = pickle.load(f)"
   ]
  },
  {
   "cell_type": "code",
   "execution_count": 27,
   "metadata": {
    "scrolled": true
   },
   "outputs": [
    {
     "data": {
      "text/plain": [
       "<matplotlib.legend.Legend at 0x2b43e9099c10>"
      ]
     },
     "execution_count": 27,
     "metadata": {},
     "output_type": "execute_result"
    },
    {
     "data": {
      "image/png": "[encoded data removed]",
      "text/plain": [
       "<Figure size 432x288 with 1 Axes>"
      ]
     },
     "metadata": {
      "needs_background": "light"
     },
     "output_type": "display_data"
    }
   ],
   "source": [
    "# Plot ddgs\n",
    "sns.distplot(np.array(ddgs[forward])*KT_KCALMOL, rug=True, label=titles[0])\n",
    "# sns.distplot(np.array(ddgs[reverse])*-KT_KCALMOL, rug=True, label=f\"-({titles[1]})\")\n",
    "plt.xlabel(\"binding ddg (kcal/mol)\")\n",
    "plt.legend()"
   ]
  },
  {
   "cell_type": "code",
   "execution_count": 28,
   "metadata": {},
   "outputs": [
    {
     "data": {
      "text/plain": [
       "0.21066844057075448"
      ]
     },
     "execution_count": 28,
     "metadata": {},
     "output_type": "execute_result"
    }
   ],
   "source": [
    "# Get the std error\n",
    "np.std(np.array(ddgs[forward])*KT_KCALMOL)"
   ]
  },
  {
   "cell_type": "code",
   "execution_count": 29,
   "metadata": {},
   "outputs": [],
   "source": [
    "apo_dg = np.mean([d['apo'][0] for d in dgs_phase[forward]])\n",
    "apo_ci = np.percentile([d['apo'][0] for d in dgs_phase[forward]], 2.5), np.percentile([d['apo'][0] for d in dgs_phase[forward]], 97.5)\n",
    "output_kcalmol_apo = [round(apo_dg*KT_KCALMOL, 2), tuple([round(val, 2)for val in np.array(apo_ci)*KT_KCALMOL])]\n",
    "\n",
    "complex_dg = np.mean([d['complex'][0] for d in dgs_phase[forward]])\n",
    "complex_ci = np.percentile([d['complex'][0] for d in dgs_phase[forward]], 2.5), np.percentile([d['complex'][0] for d in dgs_phase[forward]], 97.5)\n",
    "output_kcalmol_complex = [round(complex_dg*KT_KCALMOL, 2), tuple([round(val, 2)for val in np.array(complex_ci)*KT_KCALMOL])]\n"
   ]
  },
  {
   "cell_type": "code",
   "execution_count": 30,
   "metadata": {},
   "outputs": [
    {
     "data": {
      "text/plain": [
       "[51.83, (51.59, 52.08)]"
      ]
     },
     "execution_count": 30,
     "metadata": {},
     "output_type": "execute_result"
    }
   ],
   "source": [
    "output_kcalmol_apo"
   ]
  },
  {
   "cell_type": "code",
   "execution_count": 31,
   "metadata": {},
   "outputs": [
    {
     "data": {
      "text/plain": [
       "[50.89, (50.56, 51.22)]"
      ]
     },
     "execution_count": 31,
     "metadata": {},
     "output_type": "execute_result"
    }
   ],
   "source": [
    "output_kcalmol_complex"
   ]
  },
  {
   "cell_type": "code",
   "execution_count": 32,
   "metadata": {},
   "outputs": [
    {
     "data": {
      "text/plain": [
       "<matplotlib.legend.Legend at 0x2b43e8e84d30>"
      ]
     },
     "execution_count": 32,
     "metadata": {},
     "output_type": "execute_result"
    },
    {
     "data": {
      "image/png": "[encoded data removed]",
      "text/plain": [
       "<Figure size 432x288 with 1 Axes>"
      ]
     },
     "metadata": {
      "needs_background": "light"
     },
     "output_type": "display_data"
    }
   ],
   "source": [
    "# Plot ddgs\n",
    "sns.distplot(np.array([dgs_phase[forward][i]['apo'][0]*KT_KCALMOL for i in range(100)]), rug=True, label=titles[0])\n",
    "plt.xlabel(\"apo binding dg (kcal/mol)\")\n",
    "plt.legend()"
   ]
  },
  {
   "cell_type": "code",
   "execution_count": 33,
   "metadata": {
    "scrolled": false
   },
   "outputs": [
    {
     "data": {
      "text/plain": [
       "<matplotlib.legend.Legend at 0x2b43e90648e0>"
      ]
     },
     "execution_count": 33,
     "metadata": {},
     "output_type": "execute_result"
    },
    {
     "data": {
      "image/png": "[encoded data removed]",
      "text/plain": [
       "<Figure size 432x288 with 1 Axes>"
      ]
     },
     "metadata": {
      "needs_background": "light"
     },
     "output_type": "display_data"
    }
   ],
   "source": [
    "# Plot ddgs\n",
    "sns.distplot(np.array([dgs_phase[forward][i]['complex'][0]*KT_KCALMOL for i in range(100)]), rug=True, label=titles[0])\n",
    "plt.xlabel(\"complex binding dg (kcal/mol)\")\n",
    "plt.legend()"
   ]
  },
  {
   "cell_type": "markdown",
   "metadata": {},
   "source": [
    "## 15/176"
   ]
  },
  {
   "cell_type": "code",
   "execution_count": 34,
   "metadata": {
    "scrolled": false
   },
   "outputs": [
    {
     "data": {
      "application/vnd.jupyter.widget-view+json": {
       "model_id": "1bd492b0cb17480582ab988db3200872",
       "version_major": 2,
       "version_minor": 0
      },
      "text/plain": [
       "  0%|          | 0/1 [00:00<?, ?it/s]"
      ]
     },
     "metadata": {},
     "output_type": "display_data"
    },
    {
     "name": "stdout",
     "output_type": "stream",
     "text": [
      "dir: 176\n",
      "100\n",
      "about to save: complex forward\n",
      "100\n",
      "about to save: complex reverse\n",
      "100\n",
      "about to save: apo forward\n",
      "100\n",
      "about to save: apo reverse\n",
      "plotting work trajs\n",
      "saved to: /data/chodera/zhangi/perses_benchmark/neq/15/176/176_complex_work_traj.png\n",
      "plotting work distrib\n",
      "saved to: /data/chodera/zhangi/perses_benchmark/neq/15/176/176_complex_work_dist.png\n",
      "plotting work trajs\n",
      "saved to: /data/chodera/zhangi/perses_benchmark/neq/15/176/176_apo_work_traj.png\n",
      "plotting work distrib\n",
      "saved to: /data/chodera/zhangi/perses_benchmark/neq/15/176/176_apo_work_dist.png\n"
     ]
    },
    {
     "data": {
      "text/plain": [
       "<Figure size 432x288 with 0 Axes>"
      ]
     },
     "metadata": {},
     "output_type": "display_data"
    }
   ],
   "source": [
    "# Load data into dicts and plot \n",
    "titles = [\"N501Q\"]\n",
    "phases = ['complex', 'apo']\n",
    "directions = ['forward', 'reverse']\n",
    "d_input = {}\n",
    "dir_num = 15\n",
    "forward = 176\n",
    "for i in tqdm_notebook([forward]):\n",
    "    print(f\"dir: {i}\")\n",
    "    d_works = {\"complex\": {}, \"apo\":{}}\n",
    "    d_combined_works = {\"complex\": {}, \"apo\":{}}\n",
    "    for phase in phases:\n",
    "        for direction in directions:\n",
    "            all_arrays = []\n",
    "            for j in range(100):\n",
    "                path = f\"/data/chodera/zhangi/perses_benchmark/neq/{dir_num}/{i}/{i}_{phase}_{j}_{direction}.npy\"\n",
    "                try:\n",
    "                    if os.path.exists(path):\n",
    "                        with open(path, 'rb') as f:\n",
    "                            array = np.load(f)\n",
    "                            if not np.isnan(np.sum(array)):\n",
    "                                all_arrays.append(array)\n",
    "                except:\n",
    "                    continue\n",
    "            print(len(all_arrays))\n",
    "            if all_arrays:\n",
    "                combined = np.concatenate(all_arrays)\n",
    "                accumulated = np.array([cycle[-1] - cycle[0] for cycle in combined])\n",
    "#                 combined = np.array([cycle[0::100] for cycle in combined])\n",
    "                print(f\"about to save: {phase} {direction}\")\n",
    "                d_combined_works[phase][direction] = combined\n",
    "                d_works[phase][direction] = accumulated\n",
    "\n",
    "    d_input[i] = d_works\n",
    "    \n",
    "    # Plot\n",
    "    complex_dg, complex_ddg = analyze(d_works['complex']['forward'], d_works['complex']['reverse'])\n",
    "    apo_dg, apo_ddg = analyze(d_works['apo']['forward'], d_works['apo']['reverse'])\n",
    "    plot(d_combined_works['complex']['forward'], d_combined_works['complex']['reverse'], complex_dg, complex_ddg, i, 'complex', os.path.dirname(path), titles[i-forward])\n",
    "    plot(d_combined_works['apo']['forward'], d_combined_works['apo']['reverse'], apo_dg, apo_ddg, i, 'apo', os.path.dirname(path), titles[i-forward])\n",
    "        "
   ]
  },
  {
   "cell_type": "code",
   "execution_count": 35,
   "metadata": {
    "scrolled": true
   },
   "outputs": [
    {
     "data": {
      "text/plain": [
       "(array([ 1., 10.,  5., 11., 10., 18., 17., 11., 13.,  4.]),\n",
       " array([ 5.16863476,  7.41323738,  9.65784   , 11.90244262, 14.14704524,\n",
       "        16.39164786, 18.63625048, 20.8808531 , 23.12545572, 25.37005834,\n",
       "        27.61466096]),\n",
       " <BarContainer object of 10 artists>)"
      ]
     },
     "execution_count": 35,
     "metadata": {},
     "output_type": "execute_result"
    },
    {
     "data": {
      "image/png": "[encoded data removed]",
      "text/plain": [
       "<Figure size 432x288 with 1 Axes>"
      ]
     },
     "metadata": {
      "needs_background": "light"
     },
     "output_type": "display_data"
    }
   ],
   "source": [
    "plt.hist(d_works['complex']['forward'])\n",
    "plt.hist(d_works['complex']['reverse']*-1)"
   ]
  },
  {
   "cell_type": "code",
   "execution_count": 36,
   "metadata": {},
   "outputs": [
    {
     "data": {
      "application/vnd.jupyter.widget-view+json": {
       "model_id": "9d4eef6ad8f5486fadf75c88a36d681b",
       "version_major": 2,
       "version_minor": 0
      },
      "text/plain": [
       "  0%|          | 0/10000 [00:00<?, ?it/s]"
      ]
     },
     "metadata": {},
     "output_type": "display_data"
    }
   ],
   "source": [
    "# Bootstrap works\n",
    "N_bootstraps = 10000\n",
    "phases = ['complex', 'apo']\n",
    "directions = ['forward', 'reverse']\n",
    "dgs_phase = {}\n",
    "ddgs = {}\n",
    "for i in [forward]:\n",
    "    dgs_phase_all = []\n",
    "    ddgs_all = []\n",
    "    for _ in tqdm_notebook(range(N_bootstraps)):\n",
    "        # Initialize data structure for works\n",
    "        d_works = {\"complex\": {\"forward\":{}, \"reverse\":{}}, \"apo\":{\"forward\":{}, \"reverse\":{}}}\n",
    "\n",
    "        # Save subsampled works\n",
    "        for phase in phases:\n",
    "            for direction in directions:\n",
    "                work_array = np.array(d_input[i][phase][direction])\n",
    "                num_samples = work_array.shape[0]\n",
    "                subsample_indices = np.random.choice(range(num_samples), num_samples)\n",
    "                d_works[phase][direction] = work_array[subsample_indices]\n",
    "        d_dgs_phase, binding_dg = analyze_bootstrap(d_works)\n",
    "        dgs_phase_all.append(d_dgs_phase)\n",
    "        ddgs_all.append(binding_dg)\n",
    "    dgs_phase[i] = dgs_phase_all\n",
    "    ddgs[i] = ddgs_all\n",
    "    \n",
    "    \n"
   ]
  },
  {
   "cell_type": "code",
   "execution_count": 37,
   "metadata": {},
   "outputs": [],
   "source": [
    "forward_ddg = np.mean(ddgs[forward])\n",
    "forward_ci = np.percentile(ddgs[forward], 2.5), np.percentile(ddgs[forward], 97.5)\n",
    "# reverse_ddg = np.mean(ddgs[reverse])\n",
    "# reverse_ci = np.percentile(ddgs[reverse], 2.5), np.percentile(ddgs[reverse], 97.5)\n",
    "# negative_reverse_ci = sorted(np.array(reverse_ci)*-1)\n",
    "# discrepancy = tuple(np.array(forward_ci) - np.array(negative_reverse_ci))\n",
    "# output_kt = [forward_ddg, forward_ci, reverse_ddg, reverse_ci, discrepancy]\n",
    "# output_kcalmol = [round(forward_ddg*KT_KCALMOL, 2), tuple([round(val, 2)for val in np.array(forward_ci)*KT_KCALMOL]), round(reverse_ddg*KT_KCALMOL, 2), tuple([round(val, 2) for val in np.array(reverse_ci)*KT_KCALMOL]), tuple([round(val, 2) for val in np.array(discrepancy)*KT_KCALMOL])]\n",
    "\n",
    "output_kcalmol = [round(forward_ddg*KT_KCALMOL, 2), tuple([round(val, 2)for val in np.array(forward_ci)*KT_KCALMOL])]\n",
    "\n"
   ]
  },
  {
   "cell_type": "code",
   "execution_count": 38,
   "metadata": {},
   "outputs": [
    {
     "data": {
      "text/plain": [
       "[0.08, (-0.43, 0.6)]"
      ]
     },
     "execution_count": 38,
     "metadata": {},
     "output_type": "execute_result"
    }
   ],
   "source": [
    "output_kcalmol"
   ]
  },
  {
   "cell_type": "code",
   "execution_count": 39,
   "metadata": {},
   "outputs": [],
   "source": [
    "# pd.DataFrame([output_kcalmol]).to_csv(f\"/data/chodera/zhangi/perses_benchmark/neq/{dir_num}/{forward}/analysis_{titles[0]}_{titles[1]}.csv\")"
   ]
  },
  {
   "cell_type": "code",
   "execution_count": 40,
   "metadata": {},
   "outputs": [],
   "source": [
    "with open(f\"/data/chodera/zhangi/perses_benchmark/neq/{dir_num}/{forward}/dgs_phase.pickle\", \"wb\") as f:\n",
    "    pickle.dump(dgs_phase, f)\n",
    "with open(f\"/data/chodera/zhangi/perses_benchmark/neq/{dir_num}/{forward}/ddgs.pickle\", \"wb\") as f:\n",
    "    pickle.dump(ddgs, f)"
   ]
  },
  {
   "cell_type": "code",
   "execution_count": 41,
   "metadata": {},
   "outputs": [],
   "source": [
    "with open(f\"/data/chodera/zhangi/perses_benchmark/neq/{dir_num}/{forward}/dgs_phase.pickle\", \"rb\") as f:\n",
    "    dgs_phase = pickle.load(f)\n",
    "with open(f\"/data/chodera/zhangi/perses_benchmark/neq/{dir_num}/{forward}/ddgs.pickle\", \"rb\") as f:\n",
    "    ddgs = pickle.load(f)"
   ]
  },
  {
   "cell_type": "code",
   "execution_count": 42,
   "metadata": {
    "scrolled": true
   },
   "outputs": [
    {
     "data": {
      "text/plain": [
       "<matplotlib.legend.Legend at 0x2b43e9814ac0>"
      ]
     },
     "execution_count": 42,
     "metadata": {},
     "output_type": "execute_result"
    },
    {
     "data": {
      "image/png": "[encoded data removed]",
      "text/plain": [
       "<Figure size 432x288 with 1 Axes>"
      ]
     },
     "metadata": {
      "needs_background": "light"
     },
     "output_type": "display_data"
    }
   ],
   "source": [
    "# Plot ddgs\n",
    "sns.distplot(np.array(ddgs[forward])*KT_KCALMOL, rug=True, label=titles[0])\n",
    "# sns.distplot(np.array(ddgs[reverse])*-KT_KCALMOL, rug=True, label=f\"-({titles[1]})\")\n",
    "plt.xlabel(\"binding ddg (kcal/mol)\")\n",
    "plt.legend()"
   ]
  },
  {
   "cell_type": "code",
   "execution_count": 43,
   "metadata": {},
   "outputs": [
    {
     "data": {
      "text/plain": [
       "0.2672803824344177"
      ]
     },
     "execution_count": 43,
     "metadata": {},
     "output_type": "execute_result"
    }
   ],
   "source": [
    "# Get the std error\n",
    "np.std(np.array(ddgs[forward])*KT_KCALMOL)"
   ]
  },
  {
   "cell_type": "code",
   "execution_count": 44,
   "metadata": {},
   "outputs": [],
   "source": [
    "apo_dg = np.mean([d['apo'][0] for d in dgs_phase[forward]])\n",
    "apo_ci = np.percentile([d['apo'][0] for d in dgs_phase[forward]], 2.5), np.percentile([d['apo'][0] for d in dgs_phase[forward]], 97.5)\n",
    "output_kcalmol_apo = [round(apo_dg*KT_KCALMOL, 2), tuple([round(val, 2)for val in np.array(apo_ci)*KT_KCALMOL])]\n",
    "\n",
    "complex_dg = np.mean([d['complex'][0] for d in dgs_phase[forward]])\n",
    "complex_ci = np.percentile([d['complex'][0] for d in dgs_phase[forward]], 2.5), np.percentile([d['complex'][0] for d in dgs_phase[forward]], 97.5)\n",
    "output_kcalmol_complex = [round(complex_dg*KT_KCALMOL, 2), tuple([round(val, 2)for val in np.array(complex_ci)*KT_KCALMOL])]\n"
   ]
  },
  {
   "cell_type": "code",
   "execution_count": 45,
   "metadata": {},
   "outputs": [
    {
     "data": {
      "text/plain": [
       "[14.99, (14.77, 15.21)]"
      ]
     },
     "execution_count": 45,
     "metadata": {},
     "output_type": "execute_result"
    }
   ],
   "source": [
    "output_kcalmol_apo"
   ]
  },
  {
   "cell_type": "code",
   "execution_count": 46,
   "metadata": {},
   "outputs": [
    {
     "data": {
      "text/plain": [
       "[15.07, (14.6, 15.55)]"
      ]
     },
     "execution_count": 46,
     "metadata": {},
     "output_type": "execute_result"
    }
   ],
   "source": [
    "output_kcalmol_complex"
   ]
  },
  {
   "cell_type": "code",
   "execution_count": 47,
   "metadata": {},
   "outputs": [
    {
     "data": {
      "text/plain": [
       "<matplotlib.legend.Legend at 0x2b43e9f6e0d0>"
      ]
     },
     "execution_count": 47,
     "metadata": {},
     "output_type": "execute_result"
    },
    {
     "data": {
      "image/png": "[encoded data removed]",
      "text/plain": [
       "<Figure size 432x288 with 1 Axes>"
      ]
     },
     "metadata": {
      "needs_background": "light"
     },
     "output_type": "display_data"
    }
   ],
   "source": [
    "# Plot ddgs\n",
    "sns.distplot(np.array([dgs_phase[forward][i]['apo'][0]*KT_KCALMOL for i in range(100)]), rug=True, label=titles[0])\n",
    "plt.xlabel(\"apo binding dg (kcal/mol)\")\n",
    "plt.legend()"
   ]
  },
  {
   "cell_type": "code",
   "execution_count": 48,
   "metadata": {
    "scrolled": true
   },
   "outputs": [
    {
     "data": {
      "text/plain": [
       "<matplotlib.legend.Legend at 0x2b43e9fa9c10>"
      ]
     },
     "execution_count": 48,
     "metadata": {},
     "output_type": "execute_result"
    },
    {
     "data": {
      "image/png": "[encoded data removed]",
      "text/plain": [
       "<Figure size 432x288 with 1 Axes>"
      ]
     },
     "metadata": {
      "needs_background": "light"
     },
     "output_type": "display_data"
    }
   ],
   "source": [
    "# Plot ddgs\n",
    "sns.distplot(np.array([dgs_phase[forward][i]['complex'][0]*KT_KCALMOL for i in range(100)]), rug=True, label=titles[0])\n",
    "plt.xlabel(\"complex binding dg (kcal/mol)\")\n",
    "plt.legend()"
   ]
  },
  {
   "cell_type": "code",
   "execution_count": null,
   "metadata": {},
   "outputs": [],
   "source": []
  },
  {
   "cell_type": "markdown",
   "metadata": {},
   "source": [
    "## 15/177"
   ]
  },
  {
   "cell_type": "code",
   "execution_count": 49,
   "metadata": {
    "scrolled": false
   },
   "outputs": [
    {
     "data": {
      "application/vnd.jupyter.widget-view+json": {
       "model_id": "f65fc2d5d7764cea9ec007b4b118c993",
       "version_major": 2,
       "version_minor": 0
      },
      "text/plain": [
       "  0%|          | 0/1 [00:00<?, ?it/s]"
      ]
     },
     "metadata": {},
     "output_type": "display_data"
    },
    {
     "name": "stdout",
     "output_type": "stream",
     "text": [
      "dir: 177\n",
      "100\n",
      "about to save: complex forward\n",
      "100\n",
      "about to save: complex reverse\n",
      "100\n",
      "about to save: apo forward\n",
      "100\n",
      "about to save: apo reverse\n",
      "plotting work trajs\n",
      "saved to: /data/chodera/zhangi/perses_benchmark/neq/15/177/177_complex_work_traj.png\n",
      "plotting work distrib\n",
      "saved to: /data/chodera/zhangi/perses_benchmark/neq/15/177/177_complex_work_dist.png\n",
      "plotting work trajs\n",
      "saved to: /data/chodera/zhangi/perses_benchmark/neq/15/177/177_apo_work_traj.png\n",
      "plotting work distrib\n",
      "saved to: /data/chodera/zhangi/perses_benchmark/neq/15/177/177_apo_work_dist.png\n"
     ]
    },
    {
     "data": {
      "text/plain": [
       "<Figure size 432x288 with 0 Axes>"
      ]
     },
     "metadata": {},
     "output_type": "display_data"
    }
   ],
   "source": [
    "# Load data into dicts and plot \n",
    "titles = [\"N501C\"]\n",
    "phases = ['complex', 'apo']\n",
    "directions = ['forward', 'reverse']\n",
    "d_input = {}\n",
    "dir_num = 15\n",
    "forward = 177\n",
    "for i in tqdm_notebook([forward]):\n",
    "    print(f\"dir: {i}\")\n",
    "    d_works = {\"complex\": {}, \"apo\":{}}\n",
    "    d_combined_works = {\"complex\": {}, \"apo\":{}}\n",
    "    for phase in phases:\n",
    "        for direction in directions:\n",
    "            all_arrays = []\n",
    "            for j in range(100):\n",
    "                path = f\"/data/chodera/zhangi/perses_benchmark/neq/{dir_num}/{i}/{i}_{phase}_{j}_{direction}.npy\"\n",
    "                try:\n",
    "                    if os.path.exists(path):\n",
    "                        with open(path, 'rb') as f:\n",
    "                            array = np.load(f)\n",
    "                            if not np.isnan(np.sum(array)):\n",
    "                                all_arrays.append(array)\n",
    "                except:\n",
    "                    continue\n",
    "            print(len(all_arrays))\n",
    "            if all_arrays:\n",
    "                combined = np.concatenate(all_arrays)\n",
    "                accumulated = np.array([cycle[-1] - cycle[0] for cycle in combined])\n",
    "#                 combined = np.array([cycle[0::100] for cycle in combined])\n",
    "                print(f\"about to save: {phase} {direction}\")\n",
    "                d_combined_works[phase][direction] = combined\n",
    "                d_works[phase][direction] = accumulated\n",
    "\n",
    "    d_input[i] = d_works\n",
    "    \n",
    "    # Plot\n",
    "    complex_dg, complex_ddg = analyze(d_works['complex']['forward'], d_works['complex']['reverse'])\n",
    "    apo_dg, apo_ddg = analyze(d_works['apo']['forward'], d_works['apo']['reverse'])\n",
    "    plot(d_combined_works['complex']['forward'], d_combined_works['complex']['reverse'], complex_dg, complex_ddg, i, 'complex', os.path.dirname(path), titles[i-forward])\n",
    "    plot(d_combined_works['apo']['forward'], d_combined_works['apo']['reverse'], apo_dg, apo_ddg, i, 'apo', os.path.dirname(path), titles[i-forward])\n",
    "        "
   ]
  },
  {
   "cell_type": "code",
   "execution_count": 50,
   "metadata": {
    "scrolled": true
   },
   "outputs": [
    {
     "data": {
      "text/plain": [
       "(array([ 1.,  0.,  3., 13., 17., 20., 27., 16.,  1.,  2.]),\n",
       " array([118.72966564, 120.89325629, 123.05684693, 125.22043758,\n",
       "        127.38402823, 129.54761887, 131.71120952, 133.87480016,\n",
       "        136.03839081, 138.20198146, 140.3655721 ]),\n",
       " <BarContainer object of 10 artists>)"
      ]
     },
     "execution_count": 50,
     "metadata": {},
     "output_type": "execute_result"
    },
    {
     "data": {
      "image/png": "[encoded data removed]",
      "text/plain": [
       "<Figure size 432x288 with 1 Axes>"
      ]
     },
     "metadata": {
      "needs_background": "light"
     },
     "output_type": "display_data"
    }
   ],
   "source": [
    "plt.hist(d_works['complex']['forward'])\n",
    "plt.hist(d_works['complex']['reverse']*-1)"
   ]
  },
  {
   "cell_type": "code",
   "execution_count": 51,
   "metadata": {},
   "outputs": [
    {
     "data": {
      "application/vnd.jupyter.widget-view+json": {
       "model_id": "8f97d4ccd53a40f4848b69f58f755a56",
       "version_major": 2,
       "version_minor": 0
      },
      "text/plain": [
       "  0%|          | 0/10000 [00:00<?, ?it/s]"
      ]
     },
     "metadata": {},
     "output_type": "display_data"
    }
   ],
   "source": [
    "# Bootstrap works\n",
    "N_bootstraps = 10000\n",
    "phases = ['complex', 'apo']\n",
    "directions = ['forward', 'reverse']\n",
    "dgs_phase = {}\n",
    "ddgs = {}\n",
    "for i in [forward]:\n",
    "    dgs_phase_all = []\n",
    "    ddgs_all = []\n",
    "    for _ in tqdm_notebook(range(N_bootstraps)):\n",
    "        # Initialize data structure for works\n",
    "        d_works = {\"complex\": {\"forward\":{}, \"reverse\":{}}, \"apo\":{\"forward\":{}, \"reverse\":{}}}\n",
    "\n",
    "        # Save subsampled works\n",
    "        for phase in phases:\n",
    "            for direction in directions:\n",
    "                work_array = np.array(d_input[i][phase][direction])\n",
    "                num_samples = work_array.shape[0]\n",
    "                subsample_indices = np.random.choice(range(num_samples), num_samples)\n",
    "                d_works[phase][direction] = work_array[subsample_indices]\n",
    "        d_dgs_phase, binding_dg = analyze_bootstrap(d_works)\n",
    "        dgs_phase_all.append(d_dgs_phase)\n",
    "        ddgs_all.append(binding_dg)\n",
    "    dgs_phase[i] = dgs_phase_all\n",
    "    ddgs[i] = ddgs_all\n",
    "    \n",
    "    \n"
   ]
  },
  {
   "cell_type": "code",
   "execution_count": 52,
   "metadata": {},
   "outputs": [],
   "source": [
    "forward_ddg = np.mean(ddgs[forward])\n",
    "forward_ci = np.percentile(ddgs[forward], 2.5), np.percentile(ddgs[forward], 97.5)\n",
    "# reverse_ddg = np.mean(ddgs[reverse])\n",
    "# reverse_ci = np.percentile(ddgs[reverse], 2.5), np.percentile(ddgs[reverse], 97.5)\n",
    "# negative_reverse_ci = sorted(np.array(reverse_ci)*-1)\n",
    "# discrepancy = tuple(np.array(forward_ci) - np.array(negative_reverse_ci))\n",
    "# output_kt = [forward_ddg, forward_ci, reverse_ddg, reverse_ci, discrepancy]\n",
    "# output_kcalmol = [round(forward_ddg*KT_KCALMOL, 2), tuple([round(val, 2)for val in np.array(forward_ci)*KT_KCALMOL]), round(reverse_ddg*KT_KCALMOL, 2), tuple([round(val, 2) for val in np.array(reverse_ci)*KT_KCALMOL]), tuple([round(val, 2) for val in np.array(discrepancy)*KT_KCALMOL])]\n",
    "\n",
    "output_kcalmol = [round(forward_ddg*KT_KCALMOL, 2), tuple([round(val, 2)for val in np.array(forward_ci)*KT_KCALMOL])]\n",
    "\n"
   ]
  },
  {
   "cell_type": "code",
   "execution_count": 53,
   "metadata": {},
   "outputs": [
    {
     "data": {
      "text/plain": [
       "[-0.84, (-1.18, -0.49)]"
      ]
     },
     "execution_count": 53,
     "metadata": {},
     "output_type": "execute_result"
    }
   ],
   "source": [
    "output_kcalmol"
   ]
  },
  {
   "cell_type": "code",
   "execution_count": 54,
   "metadata": {},
   "outputs": [],
   "source": [
    "# pd.DataFrame([output_kcalmol]).to_csv(f\"/data/chodera/zhangi/perses_benchmark/neq/{dir_num}/{forward}/analysis_{titles[0]}_{titles[1]}.csv\")"
   ]
  },
  {
   "cell_type": "code",
   "execution_count": 55,
   "metadata": {},
   "outputs": [],
   "source": [
    "with open(f\"/data/chodera/zhangi/perses_benchmark/neq/{dir_num}/{forward}/dgs_phase.pickle\", \"wb\") as f:\n",
    "    pickle.dump(dgs_phase, f)\n",
    "with open(f\"/data/chodera/zhangi/perses_benchmark/neq/{dir_num}/{forward}/ddgs.pickle\", \"wb\") as f:\n",
    "    pickle.dump(ddgs, f)"
   ]
  },
  {
   "cell_type": "code",
   "execution_count": 56,
   "metadata": {},
   "outputs": [],
   "source": [
    "with open(f\"/data/chodera/zhangi/perses_benchmark/neq/{dir_num}/{forward}/dgs_phase.pickle\", \"rb\") as f:\n",
    "    dgs_phase = pickle.load(f)\n",
    "with open(f\"/data/chodera/zhangi/perses_benchmark/neq/{dir_num}/{forward}/ddgs.pickle\", \"rb\") as f:\n",
    "    ddgs = pickle.load(f)"
   ]
  },
  {
   "cell_type": "code",
   "execution_count": 57,
   "metadata": {
    "scrolled": true
   },
   "outputs": [
    {
     "data": {
      "text/plain": [
       "<matplotlib.legend.Legend at 0x2b43dbe9e070>"
      ]
     },
     "execution_count": 57,
     "metadata": {},
     "output_type": "execute_result"
    },
    {
     "data": {
      "image/png": "[encoded data removed]",
      "text/plain": [
       "<Figure size 432x288 with 1 Axes>"
      ]
     },
     "metadata": {
      "needs_background": "light"
     },
     "output_type": "display_data"
    }
   ],
   "source": [
    "# Plot ddgs\n",
    "sns.distplot(np.array(ddgs[forward])*KT_KCALMOL, rug=True, label=titles[0])\n",
    "# sns.distplot(np.array(ddgs[reverse])*-KT_KCALMOL, rug=True, label=f\"-({titles[1]})\")\n",
    "plt.xlabel(\"binding ddg (kcal/mol)\")\n",
    "plt.legend()"
   ]
  },
  {
   "cell_type": "code",
   "execution_count": 58,
   "metadata": {},
   "outputs": [
    {
     "data": {
      "text/plain": [
       "0.1777107751167174"
      ]
     },
     "execution_count": 58,
     "metadata": {},
     "output_type": "execute_result"
    }
   ],
   "source": [
    "# Get the std error\n",
    "np.std(np.array(ddgs[forward])*KT_KCALMOL)"
   ]
  },
  {
   "cell_type": "code",
   "execution_count": 59,
   "metadata": {},
   "outputs": [],
   "source": [
    "apo_dg = np.mean([d['apo'][0] for d in dgs_phase[forward]])\n",
    "apo_ci = np.percentile([d['apo'][0] for d in dgs_phase[forward]], 2.5), np.percentile([d['apo'][0] for d in dgs_phase[forward]], 97.5)\n",
    "output_kcalmol_apo = [round(apo_dg*KT_KCALMOL, 2), tuple([round(val, 2)for val in np.array(apo_ci)*KT_KCALMOL])]\n",
    "\n",
    "complex_dg = np.mean([d['complex'][0] for d in dgs_phase[forward]])\n",
    "complex_ci = np.percentile([d['complex'][0] for d in dgs_phase[forward]], 2.5), np.percentile([d['complex'][0] for d in dgs_phase[forward]], 97.5)\n",
    "output_kcalmol_complex = [round(complex_dg*KT_KCALMOL, 2), tuple([round(val, 2)for val in np.array(complex_ci)*KT_KCALMOL])]\n"
   ]
  },
  {
   "cell_type": "code",
   "execution_count": 60,
   "metadata": {},
   "outputs": [
    {
     "data": {
      "text/plain": [
       "[80.98, (80.75, 81.19)]"
      ]
     },
     "execution_count": 60,
     "metadata": {},
     "output_type": "execute_result"
    }
   ],
   "source": [
    "output_kcalmol_apo"
   ]
  },
  {
   "cell_type": "code",
   "execution_count": 61,
   "metadata": {},
   "outputs": [
    {
     "data": {
      "text/plain": [
       "[80.14, (79.87, 80.4)]"
      ]
     },
     "execution_count": 61,
     "metadata": {},
     "output_type": "execute_result"
    }
   ],
   "source": [
    "output_kcalmol_complex"
   ]
  },
  {
   "cell_type": "code",
   "execution_count": 62,
   "metadata": {},
   "outputs": [
    {
     "data": {
      "text/plain": [
       "<matplotlib.legend.Legend at 0x2b43e8799100>"
      ]
     },
     "execution_count": 62,
     "metadata": {},
     "output_type": "execute_result"
    },
    {
     "data": {
      "image/png": "[encoded data removed]",
      "text/plain": [
       "<Figure size 432x288 with 1 Axes>"
      ]
     },
     "metadata": {
      "needs_background": "light"
     },
     "output_type": "display_data"
    }
   ],
   "source": [
    "# Plot ddgs\n",
    "sns.distplot(np.array([dgs_phase[forward][i]['apo'][0]*KT_KCALMOL for i in range(100)]), rug=True, label=titles[0])\n",
    "plt.xlabel(\"apo binding dg (kcal/mol)\")\n",
    "plt.legend()"
   ]
  },
  {
   "cell_type": "code",
   "execution_count": 63,
   "metadata": {
    "scrolled": false
   },
   "outputs": [
    {
     "data": {
      "text/plain": [
       "<matplotlib.legend.Legend at 0x2b43ea0fc520>"
      ]
     },
     "execution_count": 63,
     "metadata": {},
     "output_type": "execute_result"
    },
    {
     "data": {
      "image/png": "[encoded data removed]",
      "text/plain": [
       "<Figure size 432x288 with 1 Axes>"
      ]
     },
     "metadata": {
      "needs_background": "light"
     },
     "output_type": "display_data"
    }
   ],
   "source": [
    "# Plot ddgs\n",
    "sns.distplot(np.array([dgs_phase[forward][i]['complex'][0]*KT_KCALMOL for i in range(100)]), rug=True, label=titles[0])\n",
    "plt.xlabel(\"complex binding dg (kcal/mol)\")\n",
    "plt.legend()"
   ]
  },
  {
   "cell_type": "code",
   "execution_count": null,
   "metadata": {},
   "outputs": [],
   "source": []
  },
  {
   "cell_type": "markdown",
   "metadata": {},
   "source": [
    "## 15/178"
   ]
  },
  {
   "cell_type": "code",
   "execution_count": 64,
   "metadata": {
    "scrolled": false
   },
   "outputs": [
    {
     "data": {
      "application/vnd.jupyter.widget-view+json": {
       "model_id": "86428604d4484bfaa1ad5a2062beeeb2",
       "version_major": 2,
       "version_minor": 0
      },
      "text/plain": [
       "  0%|          | 0/1 [00:00<?, ?it/s]"
      ]
     },
     "metadata": {},
     "output_type": "display_data"
    },
    {
     "name": "stdout",
     "output_type": "stream",
     "text": [
      "dir: 178\n",
      "100\n",
      "about to save: complex forward\n",
      "100\n",
      "about to save: complex reverse\n",
      "100\n",
      "about to save: apo forward\n",
      "100\n",
      "about to save: apo reverse\n",
      "plotting work trajs\n",
      "saved to: /data/chodera/zhangi/perses_benchmark/neq/15/178/178_complex_work_traj.png\n",
      "plotting work distrib\n",
      "saved to: /data/chodera/zhangi/perses_benchmark/neq/15/178/178_complex_work_dist.png\n",
      "plotting work trajs\n",
      "saved to: /data/chodera/zhangi/perses_benchmark/neq/15/178/178_apo_work_traj.png\n",
      "plotting work distrib\n",
      "saved to: /data/chodera/zhangi/perses_benchmark/neq/15/178/178_apo_work_dist.png\n"
     ]
    },
    {
     "data": {
      "text/plain": [
       "<Figure size 432x288 with 0 Axes>"
      ]
     },
     "metadata": {},
     "output_type": "display_data"
    }
   ],
   "source": [
    "# Load data into dicts and plot \n",
    "titles = [\"N501G\"]\n",
    "phases = ['complex', 'apo']\n",
    "directions = ['forward', 'reverse']\n",
    "d_input = {}\n",
    "dir_num = 15\n",
    "forward = 178\n",
    "for i in tqdm_notebook([forward]):\n",
    "    print(f\"dir: {i}\")\n",
    "    d_works = {\"complex\": {}, \"apo\":{}}\n",
    "    d_combined_works = {\"complex\": {}, \"apo\":{}}\n",
    "    for phase in phases:\n",
    "        for direction in directions:\n",
    "            all_arrays = []\n",
    "            for j in range(100):\n",
    "                path = f\"/data/chodera/zhangi/perses_benchmark/neq/{dir_num}/{i}/{i}_{phase}_{j}_{direction}.npy\"\n",
    "                try:\n",
    "                    if os.path.exists(path):\n",
    "                        with open(path, 'rb') as f:\n",
    "                            array = np.load(f)\n",
    "                            if not np.isnan(np.sum(array)):\n",
    "                                all_arrays.append(array)\n",
    "                except:\n",
    "                    continue\n",
    "            print(len(all_arrays))\n",
    "            if all_arrays:\n",
    "                combined = np.concatenate(all_arrays)\n",
    "                accumulated = np.array([cycle[-1] - cycle[0] for cycle in combined])\n",
    "#                 combined = np.array([cycle[0::100] for cycle in combined])\n",
    "                print(f\"about to save: {phase} {direction}\")\n",
    "                d_combined_works[phase][direction] = combined\n",
    "                d_works[phase][direction] = accumulated\n",
    "\n",
    "    d_input[i] = d_works\n",
    "    \n",
    "    # Plot\n",
    "    complex_dg, complex_ddg = analyze(d_works['complex']['forward'], d_works['complex']['reverse'])\n",
    "    apo_dg, apo_ddg = analyze(d_works['apo']['forward'], d_works['apo']['reverse'])\n",
    "    plot(d_combined_works['complex']['forward'], d_combined_works['complex']['reverse'], complex_dg, complex_ddg, i, 'complex', os.path.dirname(path), titles[i-forward])\n",
    "    plot(d_combined_works['apo']['forward'], d_combined_works['apo']['reverse'], apo_dg, apo_ddg, i, 'apo', os.path.dirname(path), titles[i-forward])\n",
    "        "
   ]
  },
  {
   "cell_type": "code",
   "execution_count": 65,
   "metadata": {
    "scrolled": true
   },
   "outputs": [
    {
     "data": {
      "text/plain": [
       "(array([ 2.,  2.,  7.,  8., 16., 12., 28., 19.,  5.,  1.]),\n",
       " array([ 80.47744598,  84.35771614,  88.2379863 ,  92.11825646,\n",
       "         95.99852661,  99.87879677, 103.75906693, 107.63933708,\n",
       "        111.51960724, 115.3998774 , 119.28014756]),\n",
       " <BarContainer object of 10 artists>)"
      ]
     },
     "execution_count": 65,
     "metadata": {},
     "output_type": "execute_result"
    },
    {
     "data": {
      "image/png": "[encoded data removed]",
      "text/plain": [
       "<Figure size 432x288 with 1 Axes>"
      ]
     },
     "metadata": {
      "needs_background": "light"
     },
     "output_type": "display_data"
    }
   ],
   "source": [
    "plt.hist(d_works['complex']['forward'])\n",
    "plt.hist(d_works['complex']['reverse']*-1)"
   ]
  },
  {
   "cell_type": "code",
   "execution_count": 66,
   "metadata": {},
   "outputs": [
    {
     "data": {
      "application/vnd.jupyter.widget-view+json": {
       "model_id": "6f3ea17093cc43b28c7eb0438d66790b",
       "version_major": 2,
       "version_minor": 0
      },
      "text/plain": [
       "  0%|          | 0/10000 [00:00<?, ?it/s]"
      ]
     },
     "metadata": {},
     "output_type": "display_data"
    }
   ],
   "source": [
    "# Bootstrap works\n",
    "N_bootstraps = 10000\n",
    "phases = ['complex', 'apo']\n",
    "directions = ['forward', 'reverse']\n",
    "dgs_phase = {}\n",
    "ddgs = {}\n",
    "for i in [forward]:\n",
    "    dgs_phase_all = []\n",
    "    ddgs_all = []\n",
    "    for _ in tqdm_notebook(range(N_bootstraps)):\n",
    "        # Initialize data structure for works\n",
    "        d_works = {\"complex\": {\"forward\":{}, \"reverse\":{}}, \"apo\":{\"forward\":{}, \"reverse\":{}}}\n",
    "\n",
    "        # Save subsampled works\n",
    "        for phase in phases:\n",
    "            for direction in directions:\n",
    "                work_array = np.array(d_input[i][phase][direction])\n",
    "                num_samples = work_array.shape[0]\n",
    "                subsample_indices = np.random.choice(range(num_samples), num_samples)\n",
    "                d_works[phase][direction] = work_array[subsample_indices]\n",
    "        d_dgs_phase, binding_dg = analyze_bootstrap(d_works)\n",
    "        dgs_phase_all.append(d_dgs_phase)\n",
    "        ddgs_all.append(binding_dg)\n",
    "    dgs_phase[i] = dgs_phase_all\n",
    "    ddgs[i] = ddgs_all\n",
    "    \n",
    "    \n"
   ]
  },
  {
   "cell_type": "code",
   "execution_count": 67,
   "metadata": {},
   "outputs": [],
   "source": [
    "forward_ddg = np.mean(ddgs[forward])\n",
    "forward_ci = np.percentile(ddgs[forward], 2.5), np.percentile(ddgs[forward], 97.5)\n",
    "# reverse_ddg = np.mean(ddgs[reverse])\n",
    "# reverse_ci = np.percentile(ddgs[reverse], 2.5), np.percentile(ddgs[reverse], 97.5)\n",
    "# negative_reverse_ci = sorted(np.array(reverse_ci)*-1)\n",
    "# discrepancy = tuple(np.array(forward_ci) - np.array(negative_reverse_ci))\n",
    "# output_kt = [forward_ddg, forward_ci, reverse_ddg, reverse_ci, discrepancy]\n",
    "# output_kcalmol = [round(forward_ddg*KT_KCALMOL, 2), tuple([round(val, 2)for val in np.array(forward_ci)*KT_KCALMOL]), round(reverse_ddg*KT_KCALMOL, 2), tuple([round(val, 2) for val in np.array(reverse_ci)*KT_KCALMOL]), tuple([round(val, 2) for val in np.array(discrepancy)*KT_KCALMOL])]\n",
    "\n",
    "output_kcalmol = [round(forward_ddg*KT_KCALMOL, 2), tuple([round(val, 2)for val in np.array(forward_ci)*KT_KCALMOL])]\n",
    "\n"
   ]
  },
  {
   "cell_type": "code",
   "execution_count": 68,
   "metadata": {},
   "outputs": [
    {
     "data": {
      "text/plain": [
       "[-0.3, (-0.97, 0.34)]"
      ]
     },
     "execution_count": 68,
     "metadata": {},
     "output_type": "execute_result"
    }
   ],
   "source": [
    "output_kcalmol"
   ]
  },
  {
   "cell_type": "code",
   "execution_count": 69,
   "metadata": {},
   "outputs": [],
   "source": [
    "# pd.DataFrame([output_kcalmol]).to_csv(f\"/data/chodera/zhangi/perses_benchmark/neq/{dir_num}/{forward}/analysis_{titles[0]}_{titles[1]}.csv\")"
   ]
  },
  {
   "cell_type": "code",
   "execution_count": 70,
   "metadata": {},
   "outputs": [],
   "source": [
    "with open(f\"/data/chodera/zhangi/perses_benchmark/neq/{dir_num}/{forward}/dgs_phase.pickle\", \"wb\") as f:\n",
    "    pickle.dump(dgs_phase, f)\n",
    "with open(f\"/data/chodera/zhangi/perses_benchmark/neq/{dir_num}/{forward}/ddgs.pickle\", \"wb\") as f:\n",
    "    pickle.dump(ddgs, f)"
   ]
  },
  {
   "cell_type": "code",
   "execution_count": 71,
   "metadata": {},
   "outputs": [],
   "source": [
    "with open(f\"/data/chodera/zhangi/perses_benchmark/neq/{dir_num}/{forward}/dgs_phase.pickle\", \"rb\") as f:\n",
    "    dgs_phase = pickle.load(f)\n",
    "with open(f\"/data/chodera/zhangi/perses_benchmark/neq/{dir_num}/{forward}/ddgs.pickle\", \"rb\") as f:\n",
    "    ddgs = pickle.load(f)"
   ]
  },
  {
   "cell_type": "code",
   "execution_count": 72,
   "metadata": {
    "scrolled": true
   },
   "outputs": [
    {
     "data": {
      "text/plain": [
       "<matplotlib.legend.Legend at 0x2b43eaa31970>"
      ]
     },
     "execution_count": 72,
     "metadata": {},
     "output_type": "execute_result"
    },
    {
     "data": {
      "image/png": "[encoded data removed]",
      "text/plain": [
       "<Figure size 432x288 with 1 Axes>"
      ]
     },
     "metadata": {
      "needs_background": "light"
     },
     "output_type": "display_data"
    }
   ],
   "source": [
    "# Plot ddgs\n",
    "sns.distplot(np.array(ddgs[forward])*KT_KCALMOL, rug=True, label=titles[0])\n",
    "# sns.distplot(np.array(ddgs[reverse])*-KT_KCALMOL, rug=True, label=f\"-({titles[1]})\")\n",
    "plt.xlabel(\"binding ddg (kcal/mol)\")\n",
    "plt.legend()"
   ]
  },
  {
   "cell_type": "code",
   "execution_count": 73,
   "metadata": {},
   "outputs": [
    {
     "data": {
      "text/plain": [
       "0.32746463905184764"
      ]
     },
     "execution_count": 73,
     "metadata": {},
     "output_type": "execute_result"
    }
   ],
   "source": [
    "# Get the std error\n",
    "np.std(np.array(ddgs[forward])*KT_KCALMOL)"
   ]
  },
  {
   "cell_type": "code",
   "execution_count": 74,
   "metadata": {},
   "outputs": [],
   "source": [
    "apo_dg = np.mean([d['apo'][0] for d in dgs_phase[forward]])\n",
    "apo_ci = np.percentile([d['apo'][0] for d in dgs_phase[forward]], 2.5), np.percentile([d['apo'][0] for d in dgs_phase[forward]], 97.5)\n",
    "output_kcalmol_apo = [round(apo_dg*KT_KCALMOL, 2), tuple([round(val, 2)for val in np.array(apo_ci)*KT_KCALMOL])]\n",
    "\n",
    "complex_dg = np.mean([d['complex'][0] for d in dgs_phase[forward]])\n",
    "complex_ci = np.percentile([d['complex'][0] for d in dgs_phase[forward]], 2.5), np.percentile([d['complex'][0] for d in dgs_phase[forward]], 97.5)\n",
    "output_kcalmol_complex = [round(complex_dg*KT_KCALMOL, 2), tuple([round(val, 2)for val in np.array(complex_ci)*KT_KCALMOL])]\n"
   ]
  },
  {
   "cell_type": "code",
   "execution_count": 75,
   "metadata": {},
   "outputs": [
    {
     "data": {
      "text/plain": [
       "[68.63, (68.36, 68.88)]"
      ]
     },
     "execution_count": 75,
     "metadata": {},
     "output_type": "execute_result"
    }
   ],
   "source": [
    "output_kcalmol_apo"
   ]
  },
  {
   "cell_type": "code",
   "execution_count": 76,
   "metadata": {},
   "outputs": [
    {
     "data": {
      "text/plain": [
       "[68.33, (67.72, 68.9)]"
      ]
     },
     "execution_count": 76,
     "metadata": {},
     "output_type": "execute_result"
    }
   ],
   "source": [
    "output_kcalmol_complex"
   ]
  },
  {
   "cell_type": "code",
   "execution_count": 77,
   "metadata": {},
   "outputs": [
    {
     "data": {
      "text/plain": [
       "<matplotlib.legend.Legend at 0x2b43e92f9820>"
      ]
     },
     "execution_count": 77,
     "metadata": {},
     "output_type": "execute_result"
    },
    {
     "data": {
      "image/png": "[encoded data removed]",
      "text/plain": [
       "<Figure size 432x288 with 1 Axes>"
      ]
     },
     "metadata": {
      "needs_background": "light"
     },
     "output_type": "display_data"
    }
   ],
   "source": [
    "# Plot ddgs\n",
    "sns.distplot(np.array([dgs_phase[forward][i]['apo'][0]*KT_KCALMOL for i in range(100)]), rug=True, label=titles[0])\n",
    "plt.xlabel(\"apo binding dg (kcal/mol)\")\n",
    "plt.legend()"
   ]
  },
  {
   "cell_type": "code",
   "execution_count": 78,
   "metadata": {
    "scrolled": false
   },
   "outputs": [
    {
     "data": {
      "text/plain": [
       "<matplotlib.legend.Legend at 0x2b43eabb4f10>"
      ]
     },
     "execution_count": 78,
     "metadata": {},
     "output_type": "execute_result"
    },
    {
     "data": {
      "image/png": "[encoded data removed]",
      "text/plain": [
       "<Figure size 432x288 with 1 Axes>"
      ]
     },
     "metadata": {
      "needs_background": "light"
     },
     "output_type": "display_data"
    }
   ],
   "source": [
    "# Plot ddgs\n",
    "sns.distplot(np.array([dgs_phase[forward][i]['complex'][0]*KT_KCALMOL for i in range(100)]), rug=True, label=titles[0])\n",
    "plt.xlabel(\"complex binding dg (kcal/mol)\")\n",
    "plt.legend()"
   ]
  },
  {
   "cell_type": "markdown",
   "metadata": {},
   "source": [
    "## 15/179"
   ]
  },
  {
   "cell_type": "code",
   "execution_count": 3,
   "metadata": {
    "scrolled": false
   },
   "outputs": [
    {
     "data": {
      "application/vnd.jupyter.widget-view+json": {
       "model_id": "ab60f7f3e1c24335ac0c2c45b90c5292",
       "version_major": 2,
       "version_minor": 0
      },
      "text/plain": [
       "  0%|          | 0/1 [00:00<?, ?it/s]"
      ]
     },
     "metadata": {},
     "output_type": "display_data"
    },
    {
     "name": "stdout",
     "output_type": "stream",
     "text": [
      "dir: 179\n",
      "100\n",
      "about to save: complex forward\n",
      "100\n",
      "about to save: complex reverse\n",
      "100\n",
      "about to save: apo forward\n",
      "100\n",
      "about to save: apo reverse\n",
      "plotting work trajs\n",
      "saved to: /data/chodera/zhangi/perses_benchmark/neq/15/179/179_complex_work_traj.png\n",
      "plotting work distrib\n",
      "saved to: /data/chodera/zhangi/perses_benchmark/neq/15/179/179_complex_work_dist.png\n",
      "plotting work trajs\n",
      "saved to: /data/chodera/zhangi/perses_benchmark/neq/15/179/179_apo_work_traj.png\n",
      "plotting work distrib\n",
      "saved to: /data/chodera/zhangi/perses_benchmark/neq/15/179/179_apo_work_dist.png\n"
     ]
    },
    {
     "data": {
      "text/plain": [
       "<Figure size 432x288 with 0 Axes>"
      ]
     },
     "metadata": {},
     "output_type": "display_data"
    }
   ],
   "source": [
    "# Load data into dicts and plot \n",
    "titles = [\"N501R\"]\n",
    "phases = ['complex', 'apo']\n",
    "directions = ['forward', 'reverse']\n",
    "d_input = {}\n",
    "dir_num = 15\n",
    "forward = 179\n",
    "for i in tqdm_notebook([forward]):\n",
    "    print(f\"dir: {i}\")\n",
    "    d_works = {\"complex\": {}, \"apo\":{}}\n",
    "    d_combined_works = {\"complex\": {}, \"apo\":{}}\n",
    "    for phase in phases:\n",
    "        for direction in directions:\n",
    "            all_arrays = []\n",
    "            for j in range(100):\n",
    "                path = f\"/data/chodera/zhangi/perses_benchmark/neq/{dir_num}/{i}/{i}_{phase}_{j}_{direction}.npy\"\n",
    "                try:\n",
    "                    if os.path.exists(path):\n",
    "                        with open(path, 'rb') as f:\n",
    "                            array = np.load(f)\n",
    "                            if not np.isnan(np.sum(array)):\n",
    "                                all_arrays.append(array)\n",
    "                except:\n",
    "                    continue\n",
    "            print(len(all_arrays))\n",
    "            if all_arrays:\n",
    "                combined = np.concatenate(all_arrays)\n",
    "                accumulated = np.array([cycle[-1] - cycle[0] for cycle in combined])\n",
    "#                 combined = np.array([cycle[0::100] for cycle in combined])\n",
    "                print(f\"about to save: {phase} {direction}\")\n",
    "                d_combined_works[phase][direction] = combined\n",
    "                d_works[phase][direction] = accumulated\n",
    "\n",
    "    d_input[i] = d_works\n",
    "    \n",
    "    # Plot\n",
    "    complex_dg, complex_ddg = analyze(d_works['complex']['forward'], d_works['complex']['reverse'])\n",
    "    apo_dg, apo_ddg = analyze(d_works['apo']['forward'], d_works['apo']['reverse'])\n",
    "    plot(d_combined_works['complex']['forward'], d_combined_works['complex']['reverse'], complex_dg, complex_ddg, i, 'complex', os.path.dirname(path), titles[i-forward])\n",
    "    plot(d_combined_works['apo']['forward'], d_combined_works['apo']['reverse'], apo_dg, apo_ddg, i, 'apo', os.path.dirname(path), titles[i-forward])\n",
    "        "
   ]
  },
  {
   "cell_type": "code",
   "execution_count": 4,
   "metadata": {
    "scrolled": true
   },
   "outputs": [
    {
     "data": {
      "text/plain": [
       "(array([ 1.,  1., 11., 11., 18., 12., 11., 19., 12.,  4.]),\n",
       " array([-310.97276236, -309.03307132, -307.09338028, -305.15368924,\n",
       "        -303.2139982 , -301.27430716, -299.33461612, -297.39492508,\n",
       "        -295.45523404, -293.515543  , -291.57585196]),\n",
       " <BarContainer object of 10 artists>)"
      ]
     },
     "execution_count": 4,
     "metadata": {},
     "output_type": "execute_result"
    },
    {
     "data": {
      "image/png": "[encoded data removed]",
      "text/plain": [
       "<Figure size 432x288 with 1 Axes>"
      ]
     },
     "metadata": {
      "needs_background": "light"
     },
     "output_type": "display_data"
    }
   ],
   "source": [
    "plt.hist(d_works['complex']['forward'])\n",
    "plt.hist(d_works['complex']['reverse']*-1)"
   ]
  },
  {
   "cell_type": "code",
   "execution_count": 5,
   "metadata": {},
   "outputs": [
    {
     "data": {
      "application/vnd.jupyter.widget-view+json": {
       "model_id": "6884913139d4438fb42a4bb6e4fce2ab",
       "version_major": 2,
       "version_minor": 0
      },
      "text/plain": [
       "  0%|          | 0/10000 [00:00<?, ?it/s]"
      ]
     },
     "metadata": {},
     "output_type": "display_data"
    }
   ],
   "source": [
    "# Bootstrap works\n",
    "N_bootstraps = 10000\n",
    "phases = ['complex', 'apo']\n",
    "directions = ['forward', 'reverse']\n",
    "dgs_phase = {}\n",
    "ddgs = {}\n",
    "for i in [forward]:\n",
    "    dgs_phase_all = []\n",
    "    ddgs_all = []\n",
    "    for _ in tqdm_notebook(range(N_bootstraps)):\n",
    "        # Initialize data structure for works\n",
    "        d_works = {\"complex\": {\"forward\":{}, \"reverse\":{}}, \"apo\":{\"forward\":{}, \"reverse\":{}}}\n",
    "\n",
    "        # Save subsampled works\n",
    "        for phase in phases:\n",
    "            for direction in directions:\n",
    "                work_array = np.array(d_input[i][phase][direction])\n",
    "                num_samples = work_array.shape[0]\n",
    "                subsample_indices = np.random.choice(range(num_samples), num_samples)\n",
    "                d_works[phase][direction] = work_array[subsample_indices]\n",
    "        d_dgs_phase, binding_dg = analyze_bootstrap(d_works)\n",
    "        dgs_phase_all.append(d_dgs_phase)\n",
    "        ddgs_all.append(binding_dg)\n",
    "    dgs_phase[i] = dgs_phase_all\n",
    "    ddgs[i] = ddgs_all\n",
    "    \n",
    "    \n"
   ]
  },
  {
   "cell_type": "code",
   "execution_count": 6,
   "metadata": {},
   "outputs": [],
   "source": [
    "forward_ddg = np.mean(ddgs[forward])\n",
    "forward_ci = np.percentile(ddgs[forward], 2.5), np.percentile(ddgs[forward], 97.5)\n",
    "# reverse_ddg = np.mean(ddgs[reverse])\n",
    "# reverse_ci = np.percentile(ddgs[reverse], 2.5), np.percentile(ddgs[reverse], 97.5)\n",
    "# negative_reverse_ci = sorted(np.array(reverse_ci)*-1)\n",
    "# discrepancy = tuple(np.array(forward_ci) - np.array(negative_reverse_ci))\n",
    "# output_kt = [forward_ddg, forward_ci, reverse_ddg, reverse_ci, discrepancy]\n",
    "# output_kcalmol = [round(forward_ddg*KT_KCALMOL, 2), tuple([round(val, 2)for val in np.array(forward_ci)*KT_KCALMOL]), round(reverse_ddg*KT_KCALMOL, 2), tuple([round(val, 2) for val in np.array(reverse_ci)*KT_KCALMOL]), tuple([round(val, 2) for val in np.array(discrepancy)*KT_KCALMOL])]\n",
    "\n",
    "output_kcalmol = [round(forward_ddg*KT_KCALMOL, 2), tuple([round(val, 2)for val in np.array(forward_ci)*KT_KCALMOL])]\n",
    "\n"
   ]
  },
  {
   "cell_type": "code",
   "execution_count": 7,
   "metadata": {},
   "outputs": [
    {
     "data": {
      "text/plain": [
       "[4.01, (3.32, 5.9)]"
      ]
     },
     "execution_count": 7,
     "metadata": {},
     "output_type": "execute_result"
    }
   ],
   "source": [
    "output_kcalmol"
   ]
  },
  {
   "cell_type": "code",
   "execution_count": 8,
   "metadata": {},
   "outputs": [],
   "source": [
    "# pd.DataFrame([output_kcalmol]).to_csv(f\"/data/chodera/zhangi/perses_benchmark/neq/{dir_num}/{forward}/analysis_{titles[0]}_{titles[1]}.csv\")"
   ]
  },
  {
   "cell_type": "code",
   "execution_count": 9,
   "metadata": {},
   "outputs": [],
   "source": [
    "with open(f\"/data/chodera/zhangi/perses_benchmark/neq/{dir_num}/{forward}/dgs_phase.pickle\", \"wb\") as f:\n",
    "    pickle.dump(dgs_phase, f)\n",
    "with open(f\"/data/chodera/zhangi/perses_benchmark/neq/{dir_num}/{forward}/ddgs.pickle\", \"wb\") as f:\n",
    "    pickle.dump(ddgs, f)"
   ]
  },
  {
   "cell_type": "code",
   "execution_count": 10,
   "metadata": {},
   "outputs": [],
   "source": [
    "with open(f\"/data/chodera/zhangi/perses_benchmark/neq/{dir_num}/{forward}/dgs_phase.pickle\", \"rb\") as f:\n",
    "    dgs_phase = pickle.load(f)\n",
    "with open(f\"/data/chodera/zhangi/perses_benchmark/neq/{dir_num}/{forward}/ddgs.pickle\", \"rb\") as f:\n",
    "    ddgs = pickle.load(f)"
   ]
  },
  {
   "cell_type": "code",
   "execution_count": 11,
   "metadata": {
    "scrolled": true
   },
   "outputs": [
    {
     "data": {
      "text/plain": [
       "<matplotlib.legend.Legend at 0x2b7edab386a0>"
      ]
     },
     "execution_count": 11,
     "metadata": {},
     "output_type": "execute_result"
    },
    {
     "data": {
      "image/png": "[encoded data removed]",
      "text/plain": [
       "<Figure size 432x288 with 1 Axes>"
      ]
     },
     "metadata": {
      "needs_background": "light"
     },
     "output_type": "display_data"
    }
   ],
   "source": [
    "# Plot ddgs\n",
    "sns.distplot(np.array(ddgs[forward])*KT_KCALMOL, rug=True, label=titles[0])\n",
    "# sns.distplot(np.array(ddgs[reverse])*-KT_KCALMOL, rug=True, label=f\"-({titles[1]})\")\n",
    "plt.xlabel(\"binding ddg (kcal/mol)\")\n",
    "plt.legend()"
   ]
  },
  {
   "cell_type": "code",
   "execution_count": 12,
   "metadata": {},
   "outputs": [
    {
     "data": {
      "text/plain": [
       "0.6355788588981192"
      ]
     },
     "execution_count": 12,
     "metadata": {},
     "output_type": "execute_result"
    }
   ],
   "source": [
    "# Get the std error\n",
    "np.std(np.array(ddgs[forward])*KT_KCALMOL)"
   ]
  },
  {
   "cell_type": "code",
   "execution_count": 13,
   "metadata": {},
   "outputs": [],
   "source": [
    "apo_dg = np.mean([d['apo'][0] for d in dgs_phase[forward]])\n",
    "apo_ci = np.percentile([d['apo'][0] for d in dgs_phase[forward]], 2.5), np.percentile([d['apo'][0] for d in dgs_phase[forward]], 97.5)\n",
    "output_kcalmol_apo = [round(apo_dg*KT_KCALMOL, 2), tuple([round(val, 2)for val in np.array(apo_ci)*KT_KCALMOL])]\n",
    "\n",
    "complex_dg = np.mean([d['complex'][0] for d in dgs_phase[forward]])\n",
    "complex_ci = np.percentile([d['complex'][0] for d in dgs_phase[forward]], 2.5), np.percentile([d['complex'][0] for d in dgs_phase[forward]], 97.5)\n",
    "output_kcalmol_complex = [round(complex_dg*KT_KCALMOL, 2), tuple([round(val, 2)for val in np.array(complex_ci)*KT_KCALMOL])]\n"
   ]
  },
  {
   "cell_type": "code",
   "execution_count": 14,
   "metadata": {},
   "outputs": [
    {
     "data": {
      "text/plain": [
       "[-174.7, (-174.93, -174.45)]"
      ]
     },
     "execution_count": 14,
     "metadata": {},
     "output_type": "execute_result"
    }
   ],
   "source": [
    "output_kcalmol_apo"
   ]
  },
  {
   "cell_type": "code",
   "execution_count": 15,
   "metadata": {},
   "outputs": [
    {
     "data": {
      "text/plain": [
       "[-170.69, (-171.31, -168.81)]"
      ]
     },
     "execution_count": 15,
     "metadata": {},
     "output_type": "execute_result"
    }
   ],
   "source": [
    "output_kcalmol_complex"
   ]
  },
  {
   "cell_type": "code",
   "execution_count": 16,
   "metadata": {},
   "outputs": [
    {
     "data": {
      "text/plain": [
       "<matplotlib.legend.Legend at 0x2b7edb774670>"
      ]
     },
     "execution_count": 16,
     "metadata": {},
     "output_type": "execute_result"
    },
    {
     "data": {
      "image/png": "[encoded data removed]",
      "text/plain": [
       "<Figure size 432x288 with 1 Axes>"
      ]
     },
     "metadata": {
      "needs_background": "light"
     },
     "output_type": "display_data"
    }
   ],
   "source": [
    "# Plot ddgs\n",
    "sns.distplot(np.array([dgs_phase[forward][i]['apo'][0]*KT_KCALMOL for i in range(100)]), rug=True, label=titles[0])\n",
    "plt.xlabel(\"apo binding dg (kcal/mol)\")\n",
    "plt.legend()"
   ]
  },
  {
   "cell_type": "code",
   "execution_count": 17,
   "metadata": {
    "scrolled": true
   },
   "outputs": [
    {
     "data": {
      "text/plain": [
       "<matplotlib.legend.Legend at 0x2b7edb7937f0>"
      ]
     },
     "execution_count": 17,
     "metadata": {},
     "output_type": "execute_result"
    },
    {
     "data": {
      "image/png": "[encoded data removed]",
      "text/plain": [
       "<Figure size 432x288 with 1 Axes>"
      ]
     },
     "metadata": {
      "needs_background": "light"
     },
     "output_type": "display_data"
    }
   ],
   "source": [
    "# Plot ddgs\n",
    "sns.distplot(np.array([dgs_phase[forward][i]['complex'][0]*KT_KCALMOL for i in range(100)]), rug=True, label=titles[0])\n",
    "plt.xlabel(\"complex binding dg (kcal/mol)\")\n",
    "plt.legend()"
   ]
  },
  {
   "cell_type": "code",
   "execution_count": null,
   "metadata": {},
   "outputs": [],
   "source": []
  },
  {
   "cell_type": "markdown",
   "metadata": {},
   "source": [
    "## 15/180"
   ]
  },
  {
   "cell_type": "code",
   "execution_count": 80,
   "metadata": {
    "scrolled": false
   },
   "outputs": [
    {
     "data": {
      "application/vnd.jupyter.widget-view+json": {
       "model_id": "371e7d2b33244cce9c8574f4101b5d62",
       "version_major": 2,
       "version_minor": 0
      },
      "text/plain": [
       "  0%|          | 0/1 [00:00<?, ?it/s]"
      ]
     },
     "metadata": {},
     "output_type": "display_data"
    },
    {
     "name": "stdout",
     "output_type": "stream",
     "text": [
      "dir: 180\n",
      "100\n",
      "about to save: complex forward\n",
      "100\n",
      "about to save: complex reverse\n",
      "96\n",
      "about to save: apo forward\n",
      "96\n",
      "about to save: apo reverse\n",
      "plotting work trajs\n",
      "saved to: /data/chodera/zhangi/perses_benchmark/neq/15/180/180_complex_work_traj.png\n",
      "plotting work distrib\n",
      "saved to: /data/chodera/zhangi/perses_benchmark/neq/15/180/180_complex_work_dist.png\n",
      "plotting work trajs\n",
      "saved to: /data/chodera/zhangi/perses_benchmark/neq/15/180/180_apo_work_traj.png\n",
      "plotting work distrib\n",
      "saved to: /data/chodera/zhangi/perses_benchmark/neq/15/180/180_apo_work_dist.png\n"
     ]
    },
    {
     "data": {
      "text/plain": [
       "<Figure size 432x288 with 0 Axes>"
      ]
     },
     "metadata": {},
     "output_type": "display_data"
    }
   ],
   "source": [
    "# Load data into dicts and plot \n",
    "titles = [\"N501H\"]\n",
    "phases = ['complex', 'apo']\n",
    "directions = ['forward', 'reverse']\n",
    "d_input = {}\n",
    "dir_num = 15\n",
    "forward = 180\n",
    "for i in tqdm_notebook([forward]):\n",
    "    print(f\"dir: {i}\")\n",
    "    d_works = {\"complex\": {}, \"apo\":{}}\n",
    "    d_combined_works = {\"complex\": {}, \"apo\":{}}\n",
    "    for phase in phases:\n",
    "        for direction in directions:\n",
    "            all_arrays = []\n",
    "            for j in range(100):\n",
    "                path = f\"/data/chodera/zhangi/perses_benchmark/neq/{dir_num}/{i}/{i}_{phase}_{j}_{direction}.npy\"\n",
    "                try:\n",
    "                    if os.path.exists(path):\n",
    "                        with open(path, 'rb') as f:\n",
    "                            array = np.load(f)\n",
    "                            if not np.isnan(np.sum(array)):\n",
    "                                all_arrays.append(array)\n",
    "                except:\n",
    "                    continue\n",
    "            print(len(all_arrays))\n",
    "            if all_arrays:\n",
    "                combined = np.concatenate(all_arrays)\n",
    "                accumulated = np.array([cycle[-1] - cycle[0] for cycle in combined])\n",
    "#                 combined = np.array([cycle[0::100] for cycle in combined])\n",
    "                print(f\"about to save: {phase} {direction}\")\n",
    "                d_combined_works[phase][direction] = combined\n",
    "                d_works[phase][direction] = accumulated\n",
    "\n",
    "    d_input[i] = d_works\n",
    "    \n",
    "    # Plot\n",
    "    complex_dg, complex_ddg = analyze(d_works['complex']['forward'], d_works['complex']['reverse'])\n",
    "    apo_dg, apo_ddg = analyze(d_works['apo']['forward'], d_works['apo']['reverse'])\n",
    "    plot(d_combined_works['complex']['forward'], d_combined_works['complex']['reverse'], complex_dg, complex_ddg, i, 'complex', os.path.dirname(path), titles[i-forward])\n",
    "    plot(d_combined_works['apo']['forward'], d_combined_works['apo']['reverse'], apo_dg, apo_ddg, i, 'apo', os.path.dirname(path), titles[i-forward])\n",
    "        "
   ]
  },
  {
   "cell_type": "code",
   "execution_count": 81,
   "metadata": {
    "scrolled": true
   },
   "outputs": [
    {
     "data": {
      "text/plain": [
       "(array([ 2.,  4.,  1.,  4., 12., 18., 19., 23., 11.,  6.]),\n",
       " array([ 94.4750449 ,  96.91764505,  99.36024521, 101.80284536,\n",
       "        104.24544551, 106.68804566, 109.13064581, 111.57324596,\n",
       "        114.01584611, 116.45844626, 118.90104641]),\n",
       " <BarContainer object of 10 artists>)"
      ]
     },
     "execution_count": 81,
     "metadata": {},
     "output_type": "execute_result"
    },
    {
     "data": {
      "image/png": "[encoded data removed]",
      "text/plain": [
       "<Figure size 432x288 with 1 Axes>"
      ]
     },
     "metadata": {
      "needs_background": "light"
     },
     "output_type": "display_data"
    }
   ],
   "source": [
    "plt.hist(d_works['complex']['forward'])\n",
    "plt.hist(d_works['complex']['reverse']*-1)"
   ]
  },
  {
   "cell_type": "code",
   "execution_count": 82,
   "metadata": {},
   "outputs": [
    {
     "data": {
      "application/vnd.jupyter.widget-view+json": {
       "model_id": "88d0532743694ba4b6b515bfd7ea0266",
       "version_major": 2,
       "version_minor": 0
      },
      "text/plain": [
       "  0%|          | 0/10000 [00:00<?, ?it/s]"
      ]
     },
     "metadata": {},
     "output_type": "display_data"
    }
   ],
   "source": [
    "# Bootstrap works\n",
    "N_bootstraps = 10000\n",
    "phases = ['complex', 'apo']\n",
    "directions = ['forward', 'reverse']\n",
    "dgs_phase = {}\n",
    "ddgs = {}\n",
    "for i in [forward]:\n",
    "    dgs_phase_all = []\n",
    "    ddgs_all = []\n",
    "    for _ in tqdm_notebook(range(N_bootstraps)):\n",
    "        # Initialize data structure for works\n",
    "        d_works = {\"complex\": {\"forward\":{}, \"reverse\":{}}, \"apo\":{\"forward\":{}, \"reverse\":{}}}\n",
    "\n",
    "        # Save subsampled works\n",
    "        for phase in phases:\n",
    "            for direction in directions:\n",
    "                work_array = np.array(d_input[i][phase][direction])\n",
    "                num_samples = work_array.shape[0]\n",
    "                subsample_indices = np.random.choice(range(num_samples), num_samples)\n",
    "                d_works[phase][direction] = work_array[subsample_indices]\n",
    "        d_dgs_phase, binding_dg = analyze_bootstrap(d_works)\n",
    "        dgs_phase_all.append(d_dgs_phase)\n",
    "        ddgs_all.append(binding_dg)\n",
    "    dgs_phase[i] = dgs_phase_all\n",
    "    ddgs[i] = ddgs_all\n",
    "    \n",
    "    \n"
   ]
  },
  {
   "cell_type": "code",
   "execution_count": 83,
   "metadata": {},
   "outputs": [],
   "source": [
    "forward_ddg = np.mean(ddgs[forward])\n",
    "forward_ci = np.percentile(ddgs[forward], 2.5), np.percentile(ddgs[forward], 97.5)\n",
    "# reverse_ddg = np.mean(ddgs[reverse])\n",
    "# reverse_ci = np.percentile(ddgs[reverse], 2.5), np.percentile(ddgs[reverse], 97.5)\n",
    "# negative_reverse_ci = sorted(np.array(reverse_ci)*-1)\n",
    "# discrepancy = tuple(np.array(forward_ci) - np.array(negative_reverse_ci))\n",
    "# output_kt = [forward_ddg, forward_ci, reverse_ddg, reverse_ci, discrepancy]\n",
    "# output_kcalmol = [round(forward_ddg*KT_KCALMOL, 2), tuple([round(val, 2)for val in np.array(forward_ci)*KT_KCALMOL]), round(reverse_ddg*KT_KCALMOL, 2), tuple([round(val, 2) for val in np.array(reverse_ci)*KT_KCALMOL]), tuple([round(val, 2) for val in np.array(discrepancy)*KT_KCALMOL])]\n",
    "\n",
    "output_kcalmol = [round(forward_ddg*KT_KCALMOL, 2), tuple([round(val, 2)for val in np.array(forward_ci)*KT_KCALMOL])]\n",
    "\n"
   ]
  },
  {
   "cell_type": "code",
   "execution_count": 84,
   "metadata": {},
   "outputs": [
    {
     "data": {
      "text/plain": [
       "[0.68, (0.21, 1.15)]"
      ]
     },
     "execution_count": 84,
     "metadata": {},
     "output_type": "execute_result"
    }
   ],
   "source": [
    "output_kcalmol"
   ]
  },
  {
   "cell_type": "code",
   "execution_count": 85,
   "metadata": {},
   "outputs": [],
   "source": [
    "# pd.DataFrame([output_kcalmol]).to_csv(f\"/data/chodera/zhangi/perses_benchmark/neq/{dir_num}/{forward}/analysis_{titles[0]}_{titles[1]}.csv\")"
   ]
  },
  {
   "cell_type": "code",
   "execution_count": 86,
   "metadata": {},
   "outputs": [],
   "source": [
    "with open(f\"/data/chodera/zhangi/perses_benchmark/neq/{dir_num}/{forward}/dgs_phase.pickle\", \"wb\") as f:\n",
    "    pickle.dump(dgs_phase, f)\n",
    "with open(f\"/data/chodera/zhangi/perses_benchmark/neq/{dir_num}/{forward}/ddgs.pickle\", \"wb\") as f:\n",
    "    pickle.dump(ddgs, f)"
   ]
  },
  {
   "cell_type": "code",
   "execution_count": 87,
   "metadata": {},
   "outputs": [],
   "source": [
    "with open(f\"/data/chodera/zhangi/perses_benchmark/neq/{dir_num}/{forward}/dgs_phase.pickle\", \"rb\") as f:\n",
    "    dgs_phase = pickle.load(f)\n",
    "with open(f\"/data/chodera/zhangi/perses_benchmark/neq/{dir_num}/{forward}/ddgs.pickle\", \"rb\") as f:\n",
    "    ddgs = pickle.load(f)"
   ]
  },
  {
   "cell_type": "code",
   "execution_count": 88,
   "metadata": {
    "scrolled": true
   },
   "outputs": [
    {
     "data": {
      "text/plain": [
       "<matplotlib.legend.Legend at 0x2b43eb1bcbe0>"
      ]
     },
     "execution_count": 88,
     "metadata": {},
     "output_type": "execute_result"
    },
    {
     "data": {
      "image/png": "[encoded data removed]",
      "text/plain": [
       "<Figure size 432x288 with 1 Axes>"
      ]
     },
     "metadata": {
      "needs_background": "light"
     },
     "output_type": "display_data"
    }
   ],
   "source": [
    "# Plot ddgs\n",
    "sns.distplot(np.array(ddgs[forward])*KT_KCALMOL, rug=True, label=titles[0])\n",
    "# sns.distplot(np.array(ddgs[reverse])*-KT_KCALMOL, rug=True, label=f\"-({titles[1]})\")\n",
    "plt.xlabel(\"binding ddg (kcal/mol)\")\n",
    "plt.legend()"
   ]
  },
  {
   "cell_type": "code",
   "execution_count": 89,
   "metadata": {},
   "outputs": [
    {
     "data": {
      "text/plain": [
       "0.24110201261647754"
      ]
     },
     "execution_count": 89,
     "metadata": {},
     "output_type": "execute_result"
    }
   ],
   "source": [
    "# Get the std error\n",
    "np.std(np.array(ddgs[forward])*KT_KCALMOL)"
   ]
  },
  {
   "cell_type": "code",
   "execution_count": 90,
   "metadata": {},
   "outputs": [],
   "source": [
    "apo_dg = np.mean([d['apo'][0] for d in dgs_phase[forward]])\n",
    "apo_ci = np.percentile([d['apo'][0] for d in dgs_phase[forward]], 2.5), np.percentile([d['apo'][0] for d in dgs_phase[forward]], 97.5)\n",
    "output_kcalmol_apo = [round(apo_dg*KT_KCALMOL, 2), tuple([round(val, 2)for val in np.array(apo_ci)*KT_KCALMOL])]\n",
    "\n",
    "complex_dg = np.mean([d['complex'][0] for d in dgs_phase[forward]])\n",
    "complex_ci = np.percentile([d['complex'][0] for d in dgs_phase[forward]], 2.5), np.percentile([d['complex'][0] for d in dgs_phase[forward]], 97.5)\n",
    "output_kcalmol_complex = [round(complex_dg*KT_KCALMOL, 2), tuple([round(val, 2)for val in np.array(complex_ci)*KT_KCALMOL])]\n"
   ]
  },
  {
   "cell_type": "code",
   "execution_count": 91,
   "metadata": {},
   "outputs": [
    {
     "data": {
      "text/plain": [
       "[67.7, (67.5, 67.89)]"
      ]
     },
     "execution_count": 91,
     "metadata": {},
     "output_type": "execute_result"
    }
   ],
   "source": [
    "output_kcalmol_apo"
   ]
  },
  {
   "cell_type": "code",
   "execution_count": 92,
   "metadata": {},
   "outputs": [
    {
     "data": {
      "text/plain": [
       "[68.37, (67.94, 68.8)]"
      ]
     },
     "execution_count": 92,
     "metadata": {},
     "output_type": "execute_result"
    }
   ],
   "source": [
    "output_kcalmol_complex"
   ]
  },
  {
   "cell_type": "code",
   "execution_count": 93,
   "metadata": {},
   "outputs": [
    {
     "data": {
      "text/plain": [
       "<matplotlib.legend.Legend at 0x2b43eb739ee0>"
      ]
     },
     "execution_count": 93,
     "metadata": {},
     "output_type": "execute_result"
    },
    {
     "data": {
      "image/png": "[encoded data removed]",
      "text/plain": [
       "<Figure size 432x288 with 1 Axes>"
      ]
     },
     "metadata": {
      "needs_background": "light"
     },
     "output_type": "display_data"
    }
   ],
   "source": [
    "# Plot ddgs\n",
    "sns.distplot(np.array([dgs_phase[forward][i]['apo'][0]*KT_KCALMOL for i in range(100)]), rug=True, label=titles[0])\n",
    "plt.xlabel(\"apo binding dg (kcal/mol)\")\n",
    "plt.legend()"
   ]
  },
  {
   "cell_type": "code",
   "execution_count": 94,
   "metadata": {
    "scrolled": true
   },
   "outputs": [
    {
     "data": {
      "text/plain": [
       "<matplotlib.legend.Legend at 0x2b43eb799a60>"
      ]
     },
     "execution_count": 94,
     "metadata": {},
     "output_type": "execute_result"
    },
    {
     "data": {
      "image/png": "[encoded data removed]",
      "text/plain": [
       "<Figure size 432x288 with 1 Axes>"
      ]
     },
     "metadata": {
      "needs_background": "light"
     },
     "output_type": "display_data"
    }
   ],
   "source": [
    "# Plot ddgs\n",
    "sns.distplot(np.array([dgs_phase[forward][i]['complex'][0]*KT_KCALMOL for i in range(100)]), rug=True, label=titles[0])\n",
    "plt.xlabel(\"complex binding dg (kcal/mol)\")\n",
    "plt.legend()"
   ]
  },
  {
   "cell_type": "code",
   "execution_count": null,
   "metadata": {},
   "outputs": [],
   "source": []
  },
  {
   "cell_type": "markdown",
   "metadata": {},
   "source": [
    "## 15/181"
   ]
  },
  {
   "cell_type": "code",
   "execution_count": 95,
   "metadata": {
    "scrolled": false
   },
   "outputs": [
    {
     "data": {
      "application/vnd.jupyter.widget-view+json": {
       "model_id": "fac0f07c2dce4c1099409de8ffa1d3f1",
       "version_major": 2,
       "version_minor": 0
      },
      "text/plain": [
       "  0%|          | 0/1 [00:00<?, ?it/s]"
      ]
     },
     "metadata": {},
     "output_type": "display_data"
    },
    {
     "name": "stdout",
     "output_type": "stream",
     "text": [
      "dir: 181\n",
      "100\n",
      "about to save: complex forward\n",
      "100\n",
      "about to save: complex reverse\n",
      "100\n",
      "about to save: apo forward\n",
      "100\n",
      "about to save: apo reverse\n",
      "plotting work trajs\n",
      "saved to: /data/chodera/zhangi/perses_benchmark/neq/15/181/181_complex_work_traj.png\n",
      "plotting work distrib\n",
      "saved to: /data/chodera/zhangi/perses_benchmark/neq/15/181/181_complex_work_dist.png\n",
      "plotting work trajs\n",
      "saved to: /data/chodera/zhangi/perses_benchmark/neq/15/181/181_apo_work_traj.png\n",
      "plotting work distrib\n",
      "saved to: /data/chodera/zhangi/perses_benchmark/neq/15/181/181_apo_work_dist.png\n"
     ]
    },
    {
     "data": {
      "text/plain": [
       "<Figure size 432x288 with 0 Axes>"
      ]
     },
     "metadata": {},
     "output_type": "display_data"
    }
   ],
   "source": [
    "# Load data into dicts and plot \n",
    "titles = [\"N501K\"]\n",
    "phases = ['complex', 'apo']\n",
    "directions = ['forward', 'reverse']\n",
    "d_input = {}\n",
    "dir_num = 15\n",
    "forward = 181\n",
    "for i in tqdm_notebook([forward]):\n",
    "    print(f\"dir: {i}\")\n",
    "    d_works = {\"complex\": {}, \"apo\":{}}\n",
    "    d_combined_works = {\"complex\": {}, \"apo\":{}}\n",
    "    for phase in phases:\n",
    "        for direction in directions:\n",
    "            all_arrays = []\n",
    "            for j in range(100):\n",
    "                path = f\"/data/chodera/zhangi/perses_benchmark/neq/{dir_num}/{i}/{i}_{phase}_{j}_{direction}.npy\"\n",
    "                try:\n",
    "                    if os.path.exists(path):\n",
    "                        with open(path, 'rb') as f:\n",
    "                            array = np.load(f)\n",
    "                            if not np.isnan(np.sum(array)):\n",
    "                                all_arrays.append(array)\n",
    "                except:\n",
    "                    continue\n",
    "            print(len(all_arrays))\n",
    "            if all_arrays:\n",
    "                combined = np.concatenate(all_arrays)\n",
    "                accumulated = np.array([cycle[-1] - cycle[0] for cycle in combined])\n",
    "#                 combined = np.array([cycle[0::100] for cycle in combined])\n",
    "                print(f\"about to save: {phase} {direction}\")\n",
    "                d_combined_works[phase][direction] = combined\n",
    "                d_works[phase][direction] = accumulated\n",
    "\n",
    "    d_input[i] = d_works\n",
    "    \n",
    "    # Plot\n",
    "    complex_dg, complex_ddg = analyze(d_works['complex']['forward'], d_works['complex']['reverse'])\n",
    "    apo_dg, apo_ddg = analyze(d_works['apo']['forward'], d_works['apo']['reverse'])\n",
    "    plot(d_combined_works['complex']['forward'], d_combined_works['complex']['reverse'], complex_dg, complex_ddg, i, 'complex', os.path.dirname(path), titles[i-forward])\n",
    "    plot(d_combined_works['apo']['forward'], d_combined_works['apo']['reverse'], apo_dg, apo_ddg, i, 'apo', os.path.dirname(path), titles[i-forward])\n",
    "        "
   ]
  },
  {
   "cell_type": "code",
   "execution_count": 96,
   "metadata": {
    "scrolled": true
   },
   "outputs": [
    {
     "data": {
      "text/plain": [
       "(array([ 2.,  1., 14., 26., 16., 14., 11., 13.,  2.,  1.]),\n",
       " array([-46.14927699, -42.71597596, -39.28267494, -35.84937391,\n",
       "        -32.41607288, -28.98277186, -25.54947083, -22.11616981,\n",
       "        -18.68286878, -15.24956776, -11.81626673]),\n",
       " <BarContainer object of 10 artists>)"
      ]
     },
     "execution_count": 96,
     "metadata": {},
     "output_type": "execute_result"
    },
    {
     "data": {
      "image/png": "[encoded data removed]",
      "text/plain": [
       "<Figure size 432x288 with 1 Axes>"
      ]
     },
     "metadata": {
      "needs_background": "light"
     },
     "output_type": "display_data"
    }
   ],
   "source": [
    "plt.hist(d_works['complex']['forward'])\n",
    "plt.hist(d_works['complex']['reverse']*-1)"
   ]
  },
  {
   "cell_type": "code",
   "execution_count": 97,
   "metadata": {},
   "outputs": [
    {
     "data": {
      "application/vnd.jupyter.widget-view+json": {
       "model_id": "ec177bc92bfb4b2e9d9972b275295199",
       "version_major": 2,
       "version_minor": 0
      },
      "text/plain": [
       "  0%|          | 0/10000 [00:00<?, ?it/s]"
      ]
     },
     "metadata": {},
     "output_type": "display_data"
    }
   ],
   "source": [
    "# Bootstrap works\n",
    "N_bootstraps = 10000\n",
    "phases = ['complex', 'apo']\n",
    "directions = ['forward', 'reverse']\n",
    "dgs_phase = {}\n",
    "ddgs = {}\n",
    "for i in [forward]:\n",
    "    dgs_phase_all = []\n",
    "    ddgs_all = []\n",
    "    for _ in tqdm_notebook(range(N_bootstraps)):\n",
    "        # Initialize data structure for works\n",
    "        d_works = {\"complex\": {\"forward\":{}, \"reverse\":{}}, \"apo\":{\"forward\":{}, \"reverse\":{}}}\n",
    "\n",
    "        # Save subsampled works\n",
    "        for phase in phases:\n",
    "            for direction in directions:\n",
    "                work_array = np.array(d_input[i][phase][direction])\n",
    "                num_samples = work_array.shape[0]\n",
    "                subsample_indices = np.random.choice(range(num_samples), num_samples)\n",
    "                d_works[phase][direction] = work_array[subsample_indices]\n",
    "        d_dgs_phase, binding_dg = analyze_bootstrap(d_works)\n",
    "        dgs_phase_all.append(d_dgs_phase)\n",
    "        ddgs_all.append(binding_dg)\n",
    "    dgs_phase[i] = dgs_phase_all\n",
    "    ddgs[i] = ddgs_all\n",
    "    \n",
    "    \n"
   ]
  },
  {
   "cell_type": "code",
   "execution_count": 98,
   "metadata": {},
   "outputs": [],
   "source": [
    "forward_ddg = np.mean(ddgs[forward])\n",
    "forward_ci = np.percentile(ddgs[forward], 2.5), np.percentile(ddgs[forward], 97.5)\n",
    "# reverse_ddg = np.mean(ddgs[reverse])\n",
    "# reverse_ci = np.percentile(ddgs[reverse], 2.5), np.percentile(ddgs[reverse], 97.5)\n",
    "# negative_reverse_ci = sorted(np.array(reverse_ci)*-1)\n",
    "# discrepancy = tuple(np.array(forward_ci) - np.array(negative_reverse_ci))\n",
    "# output_kt = [forward_ddg, forward_ci, reverse_ddg, reverse_ci, discrepancy]\n",
    "# output_kcalmol = [round(forward_ddg*KT_KCALMOL, 2), tuple([round(val, 2)for val in np.array(forward_ci)*KT_KCALMOL]), round(reverse_ddg*KT_KCALMOL, 2), tuple([round(val, 2) for val in np.array(reverse_ci)*KT_KCALMOL]), tuple([round(val, 2) for val in np.array(discrepancy)*KT_KCALMOL])]\n",
    "\n",
    "output_kcalmol = [round(forward_ddg*KT_KCALMOL, 2), tuple([round(val, 2)for val in np.array(forward_ci)*KT_KCALMOL])]\n",
    "\n"
   ]
  },
  {
   "cell_type": "code",
   "execution_count": 99,
   "metadata": {},
   "outputs": [
    {
     "data": {
      "text/plain": [
       "[7.75, (4.98, 10.76)]"
      ]
     },
     "execution_count": 99,
     "metadata": {},
     "output_type": "execute_result"
    }
   ],
   "source": [
    "output_kcalmol"
   ]
  },
  {
   "cell_type": "code",
   "execution_count": 100,
   "metadata": {},
   "outputs": [],
   "source": [
    "# pd.DataFrame([output_kcalmol]).to_csv(f\"/data/chodera/zhangi/perses_benchmark/neq/{dir_num}/{forward}/analysis_{titles[0]}_{titles[1]}.csv\")"
   ]
  },
  {
   "cell_type": "code",
   "execution_count": 101,
   "metadata": {},
   "outputs": [],
   "source": [
    "with open(f\"/data/chodera/zhangi/perses_benchmark/neq/{dir_num}/{forward}/dgs_phase.pickle\", \"wb\") as f:\n",
    "    pickle.dump(dgs_phase, f)\n",
    "with open(f\"/data/chodera/zhangi/perses_benchmark/neq/{dir_num}/{forward}/ddgs.pickle\", \"wb\") as f:\n",
    "    pickle.dump(ddgs, f)"
   ]
  },
  {
   "cell_type": "code",
   "execution_count": 102,
   "metadata": {},
   "outputs": [],
   "source": [
    "with open(f\"/data/chodera/zhangi/perses_benchmark/neq/{dir_num}/{forward}/dgs_phase.pickle\", \"rb\") as f:\n",
    "    dgs_phase = pickle.load(f)\n",
    "with open(f\"/data/chodera/zhangi/perses_benchmark/neq/{dir_num}/{forward}/ddgs.pickle\", \"rb\") as f:\n",
    "    ddgs = pickle.load(f)"
   ]
  },
  {
   "cell_type": "code",
   "execution_count": 103,
   "metadata": {
    "scrolled": true
   },
   "outputs": [
    {
     "data": {
      "text/plain": [
       "<matplotlib.legend.Legend at 0x2b43eb8ac3d0>"
      ]
     },
     "execution_count": 103,
     "metadata": {},
     "output_type": "execute_result"
    },
    {
     "data": {
      "image/png": "[encoded data removed]",
      "text/plain": [
       "<Figure size 432x288 with 1 Axes>"
      ]
     },
     "metadata": {
      "needs_background": "light"
     },
     "output_type": "display_data"
    }
   ],
   "source": [
    "# Plot ddgs\n",
    "sns.distplot(np.array(ddgs[forward])*KT_KCALMOL, rug=True, label=titles[0])\n",
    "# sns.distplot(np.array(ddgs[reverse])*-KT_KCALMOL, rug=True, label=f\"-({titles[1]})\")\n",
    "plt.xlabel(\"binding ddg (kcal/mol)\")\n",
    "plt.legend()"
   ]
  },
  {
   "cell_type": "code",
   "execution_count": 104,
   "metadata": {},
   "outputs": [
    {
     "data": {
      "text/plain": [
       "1.8751896299570048"
      ]
     },
     "execution_count": 104,
     "metadata": {},
     "output_type": "execute_result"
    }
   ],
   "source": [
    "# Get the std error\n",
    "np.std(np.array(ddgs[forward])*KT_KCALMOL)"
   ]
  },
  {
   "cell_type": "code",
   "execution_count": 105,
   "metadata": {},
   "outputs": [],
   "source": [
    "apo_dg = np.mean([d['apo'][0] for d in dgs_phase[forward]])\n",
    "apo_ci = np.percentile([d['apo'][0] for d in dgs_phase[forward]], 2.5), np.percentile([d['apo'][0] for d in dgs_phase[forward]], 97.5)\n",
    "output_kcalmol_apo = [round(apo_dg*KT_KCALMOL, 2), tuple([round(val, 2)for val in np.array(apo_ci)*KT_KCALMOL])]\n",
    "\n",
    "complex_dg = np.mean([d['complex'][0] for d in dgs_phase[forward]])\n",
    "complex_ci = np.percentile([d['complex'][0] for d in dgs_phase[forward]], 2.5), np.percentile([d['complex'][0] for d in dgs_phase[forward]], 97.5)\n",
    "output_kcalmol_complex = [round(complex_dg*KT_KCALMOL, 2), tuple([round(val, 2)for val in np.array(complex_ci)*KT_KCALMOL])]\n"
   ]
  },
  {
   "cell_type": "code",
   "execution_count": 106,
   "metadata": {},
   "outputs": [
    {
     "data": {
      "text/plain": [
       "[-15.93, (-16.15, -15.7)]"
      ]
     },
     "execution_count": 106,
     "metadata": {},
     "output_type": "execute_result"
    }
   ],
   "source": [
    "output_kcalmol_apo"
   ]
  },
  {
   "cell_type": "code",
   "execution_count": 107,
   "metadata": {},
   "outputs": [
    {
     "data": {
      "text/plain": [
       "[-8.18, (-10.93, -5.17)]"
      ]
     },
     "execution_count": 107,
     "metadata": {},
     "output_type": "execute_result"
    }
   ],
   "source": [
    "output_kcalmol_complex"
   ]
  },
  {
   "cell_type": "code",
   "execution_count": 108,
   "metadata": {},
   "outputs": [
    {
     "data": {
      "text/plain": [
       "<matplotlib.legend.Legend at 0x2b43ebef4460>"
      ]
     },
     "execution_count": 108,
     "metadata": {},
     "output_type": "execute_result"
    },
    {
     "data": {
      "image/png": "[encoded data removed]",
      "text/plain": [
       "<Figure size 432x288 with 1 Axes>"
      ]
     },
     "metadata": {
      "needs_background": "light"
     },
     "output_type": "display_data"
    }
   ],
   "source": [
    "# Plot ddgs\n",
    "sns.distplot(np.array([dgs_phase[forward][i]['apo'][0]*KT_KCALMOL for i in range(100)]), rug=True, label=titles[0])\n",
    "plt.xlabel(\"apo binding dg (kcal/mol)\")\n",
    "plt.legend()"
   ]
  },
  {
   "cell_type": "code",
   "execution_count": 109,
   "metadata": {
    "scrolled": false
   },
   "outputs": [
    {
     "data": {
      "text/plain": [
       "<matplotlib.legend.Legend at 0x2b43eb14b280>"
      ]
     },
     "execution_count": 109,
     "metadata": {},
     "output_type": "execute_result"
    },
    {
     "data": {
      "image/png": "[encoded data removed]",
      "text/plain": [
       "<Figure size 432x288 with 1 Axes>"
      ]
     },
     "metadata": {
      "needs_background": "light"
     },
     "output_type": "display_data"
    }
   ],
   "source": [
    "# Plot ddgs\n",
    "sns.distplot(np.array([dgs_phase[forward][i]['complex'][0]*KT_KCALMOL for i in range(100)]), rug=True, label=titles[0])\n",
    "plt.xlabel(\"complex binding dg (kcal/mol)\")\n",
    "plt.legend()"
   ]
  },
  {
   "cell_type": "code",
   "execution_count": null,
   "metadata": {},
   "outputs": [],
   "source": []
  },
  {
   "cell_type": "markdown",
   "metadata": {},
   "source": [
    "## 15/182"
   ]
  },
  {
   "cell_type": "code",
   "execution_count": 110,
   "metadata": {
    "scrolled": false
   },
   "outputs": [
    {
     "data": {
      "application/vnd.jupyter.widget-view+json": {
       "model_id": "55baa2a1dfa54bd38b504450a1541d7d",
       "version_major": 2,
       "version_minor": 0
      },
      "text/plain": [
       "  0%|          | 0/1 [00:00<?, ?it/s]"
      ]
     },
     "metadata": {},
     "output_type": "display_data"
    },
    {
     "name": "stdout",
     "output_type": "stream",
     "text": [
      "dir: 182\n",
      "100\n",
      "about to save: complex forward\n",
      "100\n",
      "about to save: complex reverse\n",
      "100\n",
      "about to save: apo forward\n",
      "100\n",
      "about to save: apo reverse\n",
      "plotting work trajs\n",
      "saved to: /data/chodera/zhangi/perses_benchmark/neq/15/182/182_complex_work_traj.png\n",
      "plotting work distrib\n",
      "saved to: /data/chodera/zhangi/perses_benchmark/neq/15/182/182_complex_work_dist.png\n",
      "plotting work trajs\n",
      "saved to: /data/chodera/zhangi/perses_benchmark/neq/15/182/182_apo_work_traj.png\n",
      "plotting work distrib\n",
      "saved to: /data/chodera/zhangi/perses_benchmark/neq/15/182/182_apo_work_dist.png\n"
     ]
    },
    {
     "data": {
      "text/plain": [
       "<Figure size 432x288 with 0 Axes>"
      ]
     },
     "metadata": {},
     "output_type": "display_data"
    }
   ],
   "source": [
    "# Load data into dicts and plot \n",
    "titles = [\"N501D\"]\n",
    "phases = ['complex', 'apo']\n",
    "directions = ['forward', 'reverse']\n",
    "d_input = {}\n",
    "dir_num = 15\n",
    "forward = 182\n",
    "for i in tqdm_notebook([forward]):\n",
    "    print(f\"dir: {i}\")\n",
    "    d_works = {\"complex\": {}, \"apo\":{}}\n",
    "    d_combined_works = {\"complex\": {}, \"apo\":{}}\n",
    "    for phase in phases:\n",
    "        for direction in directions:\n",
    "            all_arrays = []\n",
    "            for j in range(100):\n",
    "                path = f\"/data/chodera/zhangi/perses_benchmark/neq/{dir_num}/{i}/{i}_{phase}_{j}_{direction}.npy\"\n",
    "                try:\n",
    "                    if os.path.exists(path):\n",
    "                        with open(path, 'rb') as f:\n",
    "                            array = np.load(f)\n",
    "                            if not np.isnan(np.sum(array)):\n",
    "                                all_arrays.append(array)\n",
    "                except:\n",
    "                    continue\n",
    "            print(len(all_arrays))\n",
    "            if all_arrays:\n",
    "                combined = np.concatenate(all_arrays)\n",
    "                accumulated = np.array([cycle[-1] - cycle[0] for cycle in combined])\n",
    "#                 combined = np.array([cycle[0::100] for cycle in combined])\n",
    "                print(f\"about to save: {phase} {direction}\")\n",
    "                d_combined_works[phase][direction] = combined\n",
    "                d_works[phase][direction] = accumulated\n",
    "\n",
    "    d_input[i] = d_works\n",
    "    \n",
    "    # Plot\n",
    "    complex_dg, complex_ddg = analyze(d_works['complex']['forward'], d_works['complex']['reverse'])\n",
    "    apo_dg, apo_ddg = analyze(d_works['apo']['forward'], d_works['apo']['reverse'])\n",
    "    plot(d_combined_works['complex']['forward'], d_combined_works['complex']['reverse'], complex_dg, complex_ddg, i, 'complex', os.path.dirname(path), titles[i-forward])\n",
    "    plot(d_combined_works['apo']['forward'], d_combined_works['apo']['reverse'], apo_dg, apo_ddg, i, 'apo', os.path.dirname(path), titles[i-forward])\n",
    "        "
   ]
  },
  {
   "cell_type": "code",
   "execution_count": 111,
   "metadata": {
    "scrolled": true
   },
   "outputs": [
    {
     "data": {
      "text/plain": [
       "(array([ 1.,  3., 10., 16., 19., 16., 22.,  9.,  3.,  1.]),\n",
       " array([-158.10051361, -155.0335541 , -151.96659458, -148.89963507,\n",
       "        -145.83267555, -142.76571604, -139.69875652, -136.63179701,\n",
       "        -133.56483749, -130.49787798, -127.43091846]),\n",
       " <BarContainer object of 10 artists>)"
      ]
     },
     "execution_count": 111,
     "metadata": {},
     "output_type": "execute_result"
    },
    {
     "data": {
      "image/png": "[encoded data removed]",
      "text/plain": [
       "<Figure size 432x288 with 1 Axes>"
      ]
     },
     "metadata": {
      "needs_background": "light"
     },
     "output_type": "display_data"
    }
   ],
   "source": [
    "plt.hist(d_works['complex']['forward'])\n",
    "plt.hist(d_works['complex']['reverse']*-1)"
   ]
  },
  {
   "cell_type": "code",
   "execution_count": 112,
   "metadata": {},
   "outputs": [
    {
     "data": {
      "text/plain": [
       "9.258491928057564"
      ]
     },
     "execution_count": 112,
     "metadata": {},
     "output_type": "execute_result"
    }
   ],
   "source": [
    "np.std(d_works['complex']['forward'])"
   ]
  },
  {
   "cell_type": "code",
   "execution_count": 113,
   "metadata": {},
   "outputs": [
    {
     "data": {
      "text/plain": [
       "5.77679991830614"
      ]
     },
     "execution_count": 113,
     "metadata": {},
     "output_type": "execute_result"
    }
   ],
   "source": [
    "np.std(d_works['complex']['reverse']*-1)"
   ]
  },
  {
   "cell_type": "code",
   "execution_count": 114,
   "metadata": {},
   "outputs": [
    {
     "data": {
      "application/vnd.jupyter.widget-view+json": {
       "model_id": "374983da9a2648b487dd6b964a180d5a",
       "version_major": 2,
       "version_minor": 0
      },
      "text/plain": [
       "  0%|          | 0/10000 [00:00<?, ?it/s]"
      ]
     },
     "metadata": {},
     "output_type": "display_data"
    }
   ],
   "source": [
    "# Bootstrap works\n",
    "N_bootstraps = 10000\n",
    "phases = ['complex', 'apo']\n",
    "directions = ['forward', 'reverse']\n",
    "dgs_phase = {}\n",
    "ddgs = {}\n",
    "for i in [forward]:\n",
    "    dgs_phase_all = []\n",
    "    ddgs_all = []\n",
    "    for _ in tqdm_notebook(range(N_bootstraps)):\n",
    "        # Initialize data structure for works\n",
    "        d_works = {\"complex\": {\"forward\":{}, \"reverse\":{}}, \"apo\":{\"forward\":{}, \"reverse\":{}}}\n",
    "\n",
    "        # Save subsampled works\n",
    "        for phase in phases:\n",
    "            for direction in directions:\n",
    "                work_array = np.array(d_input[i][phase][direction])\n",
    "                num_samples = work_array.shape[0]\n",
    "                subsample_indices = np.random.choice(range(num_samples), num_samples)\n",
    "                d_works[phase][direction] = work_array[subsample_indices]\n",
    "        d_dgs_phase, binding_dg = analyze_bootstrap(d_works)\n",
    "        dgs_phase_all.append(d_dgs_phase)\n",
    "        ddgs_all.append(binding_dg)\n",
    "    dgs_phase[i] = dgs_phase_all\n",
    "    ddgs[i] = ddgs_all\n",
    "    \n",
    "    \n"
   ]
  },
  {
   "cell_type": "code",
   "execution_count": 115,
   "metadata": {},
   "outputs": [],
   "source": [
    "forward_ddg = np.mean(ddgs[forward])\n",
    "forward_ci = np.percentile(ddgs[forward], 2.5), np.percentile(ddgs[forward], 97.5)\n",
    "# reverse_ddg = np.mean(ddgs[reverse])\n",
    "# reverse_ci = np.percentile(ddgs[reverse], 2.5), np.percentile(ddgs[reverse], 97.5)\n",
    "# negative_reverse_ci = sorted(np.array(reverse_ci)*-1)\n",
    "# discrepancy = tuple(np.array(forward_ci) - np.array(negative_reverse_ci))\n",
    "# output_kt = [forward_ddg, forward_ci, reverse_ddg, reverse_ci, discrepancy]\n",
    "# output_kcalmol = [round(forward_ddg*KT_KCALMOL, 2), tuple([round(val, 2)for val in np.array(forward_ci)*KT_KCALMOL]), round(reverse_ddg*KT_KCALMOL, 2), tuple([round(val, 2) for val in np.array(reverse_ci)*KT_KCALMOL]), tuple([round(val, 2) for val in np.array(discrepancy)*KT_KCALMOL])]\n",
    "\n",
    "output_kcalmol = [round(forward_ddg*KT_KCALMOL, 2), tuple([round(val, 2)for val in np.array(forward_ci)*KT_KCALMOL])]\n",
    "\n"
   ]
  },
  {
   "cell_type": "code",
   "execution_count": 116,
   "metadata": {},
   "outputs": [
    {
     "data": {
      "text/plain": [
       "[5.88, (4.75, 7.3)]"
      ]
     },
     "execution_count": 116,
     "metadata": {},
     "output_type": "execute_result"
    }
   ],
   "source": [
    "output_kcalmol"
   ]
  },
  {
   "cell_type": "code",
   "execution_count": 117,
   "metadata": {},
   "outputs": [],
   "source": [
    "# pd.DataFrame([output_kcalmol]).to_csv(f\"/data/chodera/zhangi/perses_benchmark/neq/{dir_num}/{forward}/analysis_{titles[0]}_{titles[1]}.csv\")"
   ]
  },
  {
   "cell_type": "code",
   "execution_count": 118,
   "metadata": {},
   "outputs": [],
   "source": [
    "with open(f\"/data/chodera/zhangi/perses_benchmark/neq/{dir_num}/{forward}/dgs_phase.pickle\", \"wb\") as f:\n",
    "    pickle.dump(dgs_phase, f)\n",
    "with open(f\"/data/chodera/zhangi/perses_benchmark/neq/{dir_num}/{forward}/ddgs.pickle\", \"wb\") as f:\n",
    "    pickle.dump(ddgs, f)"
   ]
  },
  {
   "cell_type": "code",
   "execution_count": 119,
   "metadata": {},
   "outputs": [],
   "source": [
    "with open(f\"/data/chodera/zhangi/perses_benchmark/neq/{dir_num}/{forward}/dgs_phase.pickle\", \"rb\") as f:\n",
    "    dgs_phase = pickle.load(f)\n",
    "with open(f\"/data/chodera/zhangi/perses_benchmark/neq/{dir_num}/{forward}/ddgs.pickle\", \"rb\") as f:\n",
    "    ddgs = pickle.load(f)"
   ]
  },
  {
   "cell_type": "code",
   "execution_count": 120,
   "metadata": {
    "scrolled": true
   },
   "outputs": [
    {
     "data": {
      "text/plain": [
       "<matplotlib.legend.Legend at 0x2b43eba7c2e0>"
      ]
     },
     "execution_count": 120,
     "metadata": {},
     "output_type": "execute_result"
    },
    {
     "data": {
      "image/png": "[encoded data removed]",
      "text/plain": [
       "<Figure size 432x288 with 1 Axes>"
      ]
     },
     "metadata": {
      "needs_background": "light"
     },
     "output_type": "display_data"
    }
   ],
   "source": [
    "# Plot ddgs\n",
    "sns.distplot(np.array(ddgs[forward])*KT_KCALMOL, rug=True, label=titles[0])\n",
    "# sns.distplot(np.array(ddgs[reverse])*-KT_KCALMOL, rug=True, label=f\"-({titles[1]})\")\n",
    "plt.xlabel(\"binding ddg (kcal/mol)\")\n",
    "plt.legend()"
   ]
  },
  {
   "cell_type": "code",
   "execution_count": 121,
   "metadata": {},
   "outputs": [
    {
     "data": {
      "text/plain": [
       "0.6923151037422459"
      ]
     },
     "execution_count": 121,
     "metadata": {},
     "output_type": "execute_result"
    }
   ],
   "source": [
    "# Get the std error\n",
    "np.std(np.array(ddgs[forward])*KT_KCALMOL)"
   ]
  },
  {
   "cell_type": "code",
   "execution_count": 122,
   "metadata": {},
   "outputs": [],
   "source": [
    "apo_dg = np.mean([d['apo'][0] for d in dgs_phase[forward]])\n",
    "apo_ci = np.percentile([d['apo'][0] for d in dgs_phase[forward]], 2.5), np.percentile([d['apo'][0] for d in dgs_phase[forward]], 97.5)\n",
    "output_kcalmol_apo = [round(apo_dg*KT_KCALMOL, 2), tuple([round(val, 2)for val in np.array(apo_ci)*KT_KCALMOL])]\n",
    "\n",
    "complex_dg = np.mean([d['complex'][0] for d in dgs_phase[forward]])\n",
    "complex_ci = np.percentile([d['complex'][0] for d in dgs_phase[forward]], 2.5), np.percentile([d['complex'][0] for d in dgs_phase[forward]], 97.5)\n",
    "output_kcalmol_complex = [round(complex_dg*KT_KCALMOL, 2), tuple([round(val, 2)for val in np.array(complex_ci)*KT_KCALMOL])]\n"
   ]
  },
  {
   "cell_type": "code",
   "execution_count": 123,
   "metadata": {},
   "outputs": [
    {
     "data": {
      "text/plain": [
       "[-82.61, (-82.83, -82.38)]"
      ]
     },
     "execution_count": 123,
     "metadata": {},
     "output_type": "execute_result"
    }
   ],
   "source": [
    "output_kcalmol_apo"
   ]
  },
  {
   "cell_type": "code",
   "execution_count": 124,
   "metadata": {},
   "outputs": [
    {
     "data": {
      "text/plain": [
       "[-76.72, (-77.82, -75.32)]"
      ]
     },
     "execution_count": 124,
     "metadata": {},
     "output_type": "execute_result"
    }
   ],
   "source": [
    "output_kcalmol_complex"
   ]
  },
  {
   "cell_type": "code",
   "execution_count": 125,
   "metadata": {},
   "outputs": [
    {
     "data": {
      "text/plain": [
       "<matplotlib.legend.Legend at 0x2b43ec6ec4c0>"
      ]
     },
     "execution_count": 125,
     "metadata": {},
     "output_type": "execute_result"
    },
    {
     "data": {
      "image/png": "[encoded data removed]",
      "text/plain": [
       "<Figure size 432x288 with 1 Axes>"
      ]
     },
     "metadata": {
      "needs_background": "light"
     },
     "output_type": "display_data"
    }
   ],
   "source": [
    "# Plot ddgs\n",
    "sns.distplot(np.array([dgs_phase[forward][i]['apo'][0]*KT_KCALMOL for i in range(100)]), rug=True, label=titles[0])\n",
    "plt.xlabel(\"apo binding dg (kcal/mol)\")\n",
    "plt.legend()"
   ]
  },
  {
   "cell_type": "code",
   "execution_count": 126,
   "metadata": {
    "scrolled": true
   },
   "outputs": [
    {
     "data": {
      "text/plain": [
       "<matplotlib.legend.Legend at 0x2b43ec74ca60>"
      ]
     },
     "execution_count": 126,
     "metadata": {},
     "output_type": "execute_result"
    },
    {
     "data": {
      "image/png": "[encoded data removed]",
      "text/plain": [
       "<Figure size 432x288 with 1 Axes>"
      ]
     },
     "metadata": {
      "needs_background": "light"
     },
     "output_type": "display_data"
    }
   ],
   "source": [
    "# Plot ddgs\n",
    "sns.distplot(np.array([dgs_phase[forward][i]['complex'][0]*KT_KCALMOL for i in range(100)]), rug=True, label=titles[0])\n",
    "plt.xlabel(\"complex binding dg (kcal/mol)\")\n",
    "plt.legend()"
   ]
  },
  {
   "cell_type": "markdown",
   "metadata": {},
   "source": [
    "## 15/183"
   ]
  },
  {
   "cell_type": "code",
   "execution_count": 18,
   "metadata": {
    "scrolled": false
   },
   "outputs": [
    {
     "data": {
      "application/vnd.jupyter.widget-view+json": {
       "model_id": "2905064908d04751987b3e9b1422d831",
       "version_major": 2,
       "version_minor": 0
      },
      "text/plain": [
       "  0%|          | 0/1 [00:00<?, ?it/s]"
      ]
     },
     "metadata": {},
     "output_type": "display_data"
    },
    {
     "name": "stdout",
     "output_type": "stream",
     "text": [
      "dir: 183\n",
      "100\n",
      "about to save: complex forward\n",
      "100\n",
      "about to save: complex reverse\n",
      "100\n",
      "about to save: apo forward\n",
      "100\n",
      "about to save: apo reverse\n",
      "plotting work trajs\n",
      "saved to: /data/chodera/zhangi/perses_benchmark/neq/15/183/183_complex_work_traj.png\n",
      "plotting work distrib\n",
      "saved to: /data/chodera/zhangi/perses_benchmark/neq/15/183/183_complex_work_dist.png\n",
      "plotting work trajs\n",
      "saved to: /data/chodera/zhangi/perses_benchmark/neq/15/183/183_apo_work_traj.png\n",
      "plotting work distrib\n",
      "saved to: /data/chodera/zhangi/perses_benchmark/neq/15/183/183_apo_work_dist.png\n"
     ]
    },
    {
     "data": {
      "text/plain": [
       "<Figure size 432x288 with 0 Axes>"
      ]
     },
     "metadata": {},
     "output_type": "display_data"
    }
   ],
   "source": [
    "# Load data into dicts and plot \n",
    "titles = [\"N501E\"]\n",
    "phases = ['complex', 'apo']\n",
    "directions = ['forward', 'reverse']\n",
    "d_input = {}\n",
    "dir_num = 15\n",
    "forward = 183\n",
    "for i in tqdm_notebook([forward]):\n",
    "    print(f\"dir: {i}\")\n",
    "    d_works = {\"complex\": {}, \"apo\":{}}\n",
    "    d_combined_works = {\"complex\": {}, \"apo\":{}}\n",
    "    for phase in phases:\n",
    "        for direction in directions:\n",
    "            all_arrays = []\n",
    "            for j in range(100):\n",
    "                path = f\"/data/chodera/zhangi/perses_benchmark/neq/{dir_num}/{i}/{i}_{phase}_{j}_{direction}.npy\"\n",
    "                try:\n",
    "                    if os.path.exists(path):\n",
    "                        with open(path, 'rb') as f:\n",
    "                            array = np.load(f)\n",
    "                            if not np.isnan(np.sum(array)):\n",
    "                                all_arrays.append(array)\n",
    "                except:\n",
    "                    continue\n",
    "            print(len(all_arrays))\n",
    "            if all_arrays:\n",
    "                combined = np.concatenate(all_arrays)\n",
    "                accumulated = np.array([cycle[-1] - cycle[0] for cycle in combined])\n",
    "#                 combined = np.array([cycle[0::100] for cycle in combined])\n",
    "                print(f\"about to save: {phase} {direction}\")\n",
    "                d_combined_works[phase][direction] = combined\n",
    "                d_works[phase][direction] = accumulated\n",
    "\n",
    "    d_input[i] = d_works\n",
    "    \n",
    "    # Plot\n",
    "    complex_dg, complex_ddg = analyze(d_works['complex']['forward'], d_works['complex']['reverse'])\n",
    "    apo_dg, apo_ddg = analyze(d_works['apo']['forward'], d_works['apo']['reverse'])\n",
    "    plot(d_combined_works['complex']['forward'], d_combined_works['complex']['reverse'], complex_dg, complex_ddg, i, 'complex', os.path.dirname(path), titles[i-forward])\n",
    "    plot(d_combined_works['apo']['forward'], d_combined_works['apo']['reverse'], apo_dg, apo_ddg, i, 'apo', os.path.dirname(path), titles[i-forward])\n",
    "        "
   ]
  },
  {
   "cell_type": "code",
   "execution_count": 19,
   "metadata": {
    "scrolled": true
   },
   "outputs": [
    {
     "data": {
      "text/plain": [
       "(array([ 8.,  2.,  9., 17., 17., 15., 14.,  9.,  7.,  2.]),\n",
       " array([-152.8783469 , -149.88349012, -146.88863334, -143.89377655,\n",
       "        -140.89891977, -137.90406299, -134.90920621, -131.91434943,\n",
       "        -128.91949265, -125.92463587, -122.92977908]),\n",
       " <BarContainer object of 10 artists>)"
      ]
     },
     "execution_count": 19,
     "metadata": {},
     "output_type": "execute_result"
    },
    {
     "data": {
      "image/png": "[encoded data removed]",
      "text/plain": [
       "<Figure size 432x288 with 1 Axes>"
      ]
     },
     "metadata": {
      "needs_background": "light"
     },
     "output_type": "display_data"
    }
   ],
   "source": [
    "plt.hist(d_works['complex']['forward'])\n",
    "plt.hist(d_works['complex']['reverse']*-1)"
   ]
  },
  {
   "cell_type": "code",
   "execution_count": 20,
   "metadata": {},
   "outputs": [
    {
     "data": {
      "text/plain": [
       "7.244167238041575"
      ]
     },
     "execution_count": 20,
     "metadata": {},
     "output_type": "execute_result"
    }
   ],
   "source": [
    "np.std(d_works['complex']['forward'])"
   ]
  },
  {
   "cell_type": "code",
   "execution_count": 21,
   "metadata": {},
   "outputs": [
    {
     "data": {
      "text/plain": [
       "6.774116983628179"
      ]
     },
     "execution_count": 21,
     "metadata": {},
     "output_type": "execute_result"
    }
   ],
   "source": [
    "np.std(d_works['complex']['reverse']*-1)"
   ]
  },
  {
   "cell_type": "code",
   "execution_count": 22,
   "metadata": {},
   "outputs": [
    {
     "data": {
      "application/vnd.jupyter.widget-view+json": {
       "model_id": "5b70715482c44697833601db1a8e3b48",
       "version_major": 2,
       "version_minor": 0
      },
      "text/plain": [
       "  0%|          | 0/10000 [00:00<?, ?it/s]"
      ]
     },
     "metadata": {},
     "output_type": "display_data"
    }
   ],
   "source": [
    "# Bootstrap works\n",
    "N_bootstraps = 10000\n",
    "phases = ['complex', 'apo']\n",
    "directions = ['forward', 'reverse']\n",
    "dgs_phase = {}\n",
    "ddgs = {}\n",
    "for i in [forward]:\n",
    "    dgs_phase_all = []\n",
    "    ddgs_all = []\n",
    "    for _ in tqdm_notebook(range(N_bootstraps)):\n",
    "        # Initialize data structure for works\n",
    "        d_works = {\"complex\": {\"forward\":{}, \"reverse\":{}}, \"apo\":{\"forward\":{}, \"reverse\":{}}}\n",
    "\n",
    "        # Save subsampled works\n",
    "        for phase in phases:\n",
    "            for direction in directions:\n",
    "                work_array = np.array(d_input[i][phase][direction])\n",
    "                num_samples = work_array.shape[0]\n",
    "                subsample_indices = np.random.choice(range(num_samples), num_samples)\n",
    "                d_works[phase][direction] = work_array[subsample_indices]\n",
    "        d_dgs_phase, binding_dg = analyze_bootstrap(d_works)\n",
    "        dgs_phase_all.append(d_dgs_phase)\n",
    "        ddgs_all.append(binding_dg)\n",
    "    dgs_phase[i] = dgs_phase_all\n",
    "    ddgs[i] = ddgs_all\n",
    "    \n",
    "    \n"
   ]
  },
  {
   "cell_type": "code",
   "execution_count": 23,
   "metadata": {},
   "outputs": [],
   "source": [
    "forward_ddg = np.mean(ddgs[forward])\n",
    "forward_ci = np.percentile(ddgs[forward], 2.5), np.percentile(ddgs[forward], 97.5)\n",
    "# reverse_ddg = np.mean(ddgs[reverse])\n",
    "# reverse_ci = np.percentile(ddgs[reverse], 2.5), np.percentile(ddgs[reverse], 97.5)\n",
    "# negative_reverse_ci = sorted(np.array(reverse_ci)*-1)\n",
    "# discrepancy = tuple(np.array(forward_ci) - np.array(negative_reverse_ci))\n",
    "# output_kt = [forward_ddg, forward_ci, reverse_ddg, reverse_ci, discrepancy]\n",
    "# output_kcalmol = [round(forward_ddg*KT_KCALMOL, 2), tuple([round(val, 2)for val in np.array(forward_ci)*KT_KCALMOL]), round(reverse_ddg*KT_KCALMOL, 2), tuple([round(val, 2) for val in np.array(reverse_ci)*KT_KCALMOL]), tuple([round(val, 2) for val in np.array(discrepancy)*KT_KCALMOL])]\n",
    "\n",
    "output_kcalmol = [round(forward_ddg*KT_KCALMOL, 2), tuple([round(val, 2)for val in np.array(forward_ci)*KT_KCALMOL])]\n",
    "\n"
   ]
  },
  {
   "cell_type": "code",
   "execution_count": 24,
   "metadata": {},
   "outputs": [
    {
     "data": {
      "text/plain": [
       "[6.21, (5.14, 7.41)]"
      ]
     },
     "execution_count": 24,
     "metadata": {},
     "output_type": "execute_result"
    }
   ],
   "source": [
    "output_kcalmol"
   ]
  },
  {
   "cell_type": "code",
   "execution_count": 25,
   "metadata": {},
   "outputs": [],
   "source": [
    "# pd.DataFrame([output_kcalmol]).to_csv(f\"/data/chodera/zhangi/perses_benchmark/neq/{dir_num}/{forward}/analysis_{titles[0]}_{titles[1]}.csv\")"
   ]
  },
  {
   "cell_type": "code",
   "execution_count": 26,
   "metadata": {},
   "outputs": [],
   "source": [
    "with open(f\"/data/chodera/zhangi/perses_benchmark/neq/{dir_num}/{forward}/dgs_phase.pickle\", \"wb\") as f:\n",
    "    pickle.dump(dgs_phase, f)\n",
    "with open(f\"/data/chodera/zhangi/perses_benchmark/neq/{dir_num}/{forward}/ddgs.pickle\", \"wb\") as f:\n",
    "    pickle.dump(ddgs, f)"
   ]
  },
  {
   "cell_type": "code",
   "execution_count": 27,
   "metadata": {},
   "outputs": [],
   "source": [
    "with open(f\"/data/chodera/zhangi/perses_benchmark/neq/{dir_num}/{forward}/dgs_phase.pickle\", \"rb\") as f:\n",
    "    dgs_phase = pickle.load(f)\n",
    "with open(f\"/data/chodera/zhangi/perses_benchmark/neq/{dir_num}/{forward}/ddgs.pickle\", \"rb\") as f:\n",
    "    ddgs = pickle.load(f)"
   ]
  },
  {
   "cell_type": "code",
   "execution_count": 28,
   "metadata": {
    "scrolled": true
   },
   "outputs": [
    {
     "data": {
      "text/plain": [
       "<matplotlib.legend.Legend at 0x2b7edbe3a7f0>"
      ]
     },
     "execution_count": 28,
     "metadata": {},
     "output_type": "execute_result"
    },
    {
     "data": {
      "image/png": "[encoded data removed]",
      "text/plain": [
       "<Figure size 432x288 with 1 Axes>"
      ]
     },
     "metadata": {
      "needs_background": "light"
     },
     "output_type": "display_data"
    }
   ],
   "source": [
    "# Plot ddgs\n",
    "sns.distplot(np.array(ddgs[forward])*KT_KCALMOL, rug=True, label=titles[0])\n",
    "# sns.distplot(np.array(ddgs[reverse])*-KT_KCALMOL, rug=True, label=f\"-({titles[1]})\")\n",
    "plt.xlabel(\"binding ddg (kcal/mol)\")\n",
    "plt.legend()"
   ]
  },
  {
   "cell_type": "code",
   "execution_count": 29,
   "metadata": {},
   "outputs": [
    {
     "data": {
      "text/plain": [
       "0.5496240343336427"
      ]
     },
     "execution_count": 29,
     "metadata": {},
     "output_type": "execute_result"
    }
   ],
   "source": [
    "# Get the std error\n",
    "np.std(np.array(ddgs[forward])*KT_KCALMOL)"
   ]
  },
  {
   "cell_type": "code",
   "execution_count": 30,
   "metadata": {},
   "outputs": [],
   "source": [
    "apo_dg = np.mean([d['apo'][0] for d in dgs_phase[forward]])\n",
    "apo_ci = np.percentile([d['apo'][0] for d in dgs_phase[forward]], 2.5), np.percentile([d['apo'][0] for d in dgs_phase[forward]], 97.5)\n",
    "output_kcalmol_apo = [round(apo_dg*KT_KCALMOL, 2), tuple([round(val, 2)for val in np.array(apo_ci)*KT_KCALMOL])]\n",
    "\n",
    "complex_dg = np.mean([d['complex'][0] for d in dgs_phase[forward]])\n",
    "complex_ci = np.percentile([d['complex'][0] for d in dgs_phase[forward]], 2.5), np.percentile([d['complex'][0] for d in dgs_phase[forward]], 97.5)\n",
    "output_kcalmol_complex = [round(complex_dg*KT_KCALMOL, 2), tuple([round(val, 2)for val in np.array(complex_ci)*KT_KCALMOL])]\n"
   ]
  },
  {
   "cell_type": "code",
   "execution_count": 31,
   "metadata": {},
   "outputs": [
    {
     "data": {
      "text/plain": [
       "[-78.6, (-78.82, -78.37)]"
      ]
     },
     "execution_count": 31,
     "metadata": {},
     "output_type": "execute_result"
    }
   ],
   "source": [
    "output_kcalmol_apo"
   ]
  },
  {
   "cell_type": "code",
   "execution_count": 32,
   "metadata": {},
   "outputs": [
    {
     "data": {
      "text/plain": [
       "[-72.39, (-73.43, -71.21)]"
      ]
     },
     "execution_count": 32,
     "metadata": {},
     "output_type": "execute_result"
    }
   ],
   "source": [
    "output_kcalmol_complex"
   ]
  },
  {
   "cell_type": "code",
   "execution_count": 33,
   "metadata": {},
   "outputs": [
    {
     "data": {
      "text/plain": [
       "<matplotlib.legend.Legend at 0x2b7edbc65580>"
      ]
     },
     "execution_count": 33,
     "metadata": {},
     "output_type": "execute_result"
    },
    {
     "data": {
      "image/png": "[encoded data removed]",
      "text/plain": [
       "<Figure size 432x288 with 1 Axes>"
      ]
     },
     "metadata": {
      "needs_background": "light"
     },
     "output_type": "display_data"
    }
   ],
   "source": [
    "# Plot ddgs\n",
    "sns.distplot(np.array([dgs_phase[forward][i]['apo'][0]*KT_KCALMOL for i in range(100)]), rug=True, label=titles[0])\n",
    "plt.xlabel(\"apo binding dg (kcal/mol)\")\n",
    "plt.legend()"
   ]
  },
  {
   "cell_type": "code",
   "execution_count": 34,
   "metadata": {
    "scrolled": false
   },
   "outputs": [
    {
     "data": {
      "text/plain": [
       "<matplotlib.legend.Legend at 0x2b7edbc61d60>"
      ]
     },
     "execution_count": 34,
     "metadata": {},
     "output_type": "execute_result"
    },
    {
     "data": {
      "image/png": "[encoded data removed]",
      "text/plain": [
       "<Figure size 432x288 with 1 Axes>"
      ]
     },
     "metadata": {
      "needs_background": "light"
     },
     "output_type": "display_data"
    }
   ],
   "source": [
    "# Plot ddgs\n",
    "sns.distplot(np.array([dgs_phase[forward][i]['complex'][0]*KT_KCALMOL for i in range(100)]), rug=True, label=titles[0])\n",
    "plt.xlabel(\"complex binding dg (kcal/mol)\")\n",
    "plt.legend()"
   ]
  },
  {
   "cell_type": "code",
   "execution_count": null,
   "metadata": {},
   "outputs": [],
   "source": []
  },
  {
   "cell_type": "code",
   "execution_count": null,
   "metadata": {},
   "outputs": [],
   "source": []
  }
 ],
 "metadata": {
  "kernelspec": {
   "display_name": "Python 3 (ipykernel)",
   "language": "python",
   "name": "python3"
  },
  "language_info": {
   "codemirror_mode": {
    "name": "ipython",
    "version": 3
   },
   "file_extension": ".py",
   "mimetype": "text/x-python",
   "name": "python",
   "nbconvert_exporter": "python",
   "pygments_lexer": "ipython3",
   "version": "3.8.12"
  }
 },
 "nbformat": 4,
 "nbformat_minor": 4
}
