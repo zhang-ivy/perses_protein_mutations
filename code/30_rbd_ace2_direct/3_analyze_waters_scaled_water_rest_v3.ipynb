{
 "cells": [
  {
   "cell_type": "markdown",
   "id": "c89fe63e",
   "metadata": {},
   "source": [
    "# Check number of waters near Y501 in rest cache"
   ]
  },
  {
   "cell_type": "code",
   "execution_count": 1,
   "id": "37827294",
   "metadata": {},
   "outputs": [
    {
     "name": "stderr",
     "output_type": "stream",
     "text": [
      "Warning: importing 'simtk.openmm' is deprecated.  Import 'openmm' instead.\n"
     ]
    }
   ],
   "source": [
    "import mdtraj as md\n",
    "import numpy as np\n",
    "import pickle\n",
    "import os\n",
    "from tqdm import tqdm_notebook\n",
    "from simtk.openmm import app\n",
    "from simtk.openmm import unit\n",
    "import matplotlib.pyplot as plt\n",
    "from pymbar import timeseries"
   ]
  },
  {
   "cell_type": "code",
   "execution_count": 51,
   "id": "0fa445bb",
   "metadata": {},
   "outputs": [],
   "source": [
    "def new_positions(hybrid_positions):\n",
    "    n_atoms_new = htf._topology_proposal.n_atoms_new\n",
    "    hybrid_indices = [htf._new_to_hybrid_map[idx] for idx in range(n_atoms_new)]\n",
    "    return hybrid_positions[hybrid_indices, :]\n",
    "    \n",
    "def old_positions(hybrid_positions):\n",
    "    n_atoms_old = htf._topology_proposal.n_atoms_old\n",
    "    hybrid_indices = [htf._old_to_hybrid_map[idx] for idx in range(n_atoms_old)]\n",
    "    return hybrid_positions[hybrid_indices, :]\n",
    "\n",
    "def make_traj(outdir, htf, i, phase, name, endstate, is_old=True, keep_solvent=False):\n",
    "    with open(os.path.join(outdir, f\"{i}_{phase}_{name}_1ns_snapshots.npy\"), \"rb\") as f:\n",
    "        cache = np.load(f)\n",
    "        \n",
    "#     lengths = np.array([val[i].value_in_unit_system(unit.md_unit_system) for i, val in enumerate(htf.hybrid_system.getDefaultPeriodicBoxVectors())])\n",
    "#     lengths = np.array([lengths], dtype=np.float64)\n",
    "#     lengths = np.repeat(lengths, 100, axis=0)\n",
    "\n",
    "#     angles = np.array([90, 90, 90])\n",
    "#     angles = np.repeat(np.array([angles]), 100, axis=0)\n",
    "        \n",
    "    if is_old:\n",
    "        old_pos = np.zeros(shape=(100, htf._topology_proposal.old_topology.getNumAtoms(), 3))\n",
    "        for j, pos in tqdm_notebook(enumerate(cache)):\n",
    "            old_pos[j] = old_positions(unit.Quantity(pos, unit=unit.nanometers)).value_in_unit_system(unit.md_unit_system)\n",
    "        \n",
    "        traj = md.Trajectory(old_pos, md.Topology.from_openmm(htf._topology_proposal.old_topology))\n",
    "\n",
    "#         traj = md.Trajectory(old_pos, md.Topology.from_openmm(htf._topology_proposal.old_topology), unitcell_lengths=lengths, unitcell_angles=angles)\n",
    "    else:\n",
    "        new_pos = np.zeros(shape=(100, htf._topology_proposal.new_topology.getNumAtoms(), 3))\n",
    "        for j, pos in tqdm_notebook(enumerate(cache)):\n",
    "            new_pos[j] = new_positions(unit.Quantity(pos, unit=unit.nanometers)).value_in_unit_system(unit.md_unit_system)\n",
    "        \n",
    "        traj = md.Trajectory(new_pos, md.Topology.from_openmm(htf._topology_proposal.new_topology))\n",
    "\n",
    "#         traj = md.Trajectory(new_pos, md.Topology.from_openmm(htf._topology_proposal.new_topology), unitcell_lengths=lengths, unitcell_angles=angles)\n",
    "      \n",
    "\n",
    "           \n",
    "#     # Set unit cell vectors in traj \n",
    "#     traj.unitcell_vectors = box_vectors\n",
    "#     print(type(traj.unitcell_vectors[0]))\n",
    "#     traj.image_molecules(inplace=True)\n",
    "    \n",
    "#     if not keep_solvent:\n",
    "#         traj = traj.remove_solvent(exclude=['Na+', 'Cl-'])\n",
    "    \n",
    "    return traj\n",
    "       "
   ]
  },
  {
   "cell_type": "markdown",
   "id": "0f9cef52",
   "metadata": {},
   "source": [
    "## Y501 complex (15/149)"
   ]
  },
  {
   "cell_type": "code",
   "execution_count": 68,
   "id": "b8cbc7dc",
   "metadata": {},
   "outputs": [],
   "source": [
    "outdir = \"/data/chodera/zhangi/perses_benchmark/neq/15/149/\"\n",
    "i = 149\n",
    "phase = 'complex'\n",
    "htf = pickle.load(open(os.path.join(outdir, f\"{i}_{phase}.pickle\"), \"rb\"))"
   ]
  },
  {
   "cell_type": "code",
   "execution_count": 69,
   "id": "7f76ebea",
   "metadata": {},
   "outputs": [
    {
     "name": "stderr",
     "output_type": "stream",
     "text": [
      "/scratch/lsftmp/3182888.tmpdir/ipykernel_40087/965879479.py:32: TqdmDeprecationWarning: This function will be removed in tqdm==5.0.0\n",
      "Please use `tqdm.notebook.tqdm` instead of `tqdm.tqdm_notebook`\n",
      "  for j, pos in tqdm_notebook(enumerate(cache)):\n"
     ]
    },
    {
     "data": {
      "application/vnd.jupyter.widget-view+json": {
       "model_id": "b51430ba8ea64a649e2be73738a003d6",
       "version_major": 2,
       "version_minor": 0
      },
      "text/plain": [
       "0it [00:00, ?it/s]"
      ]
     },
     "metadata": {},
     "output_type": "display_data"
    }
   ],
   "source": [
    "name = \"tyr\"\n",
    "endstate = 1\n",
    "is_old = False\n",
    "traj_rest_solvent = make_traj(outdir, htf, i, phase, name, endstate, is_old, keep_solvent=True)"
   ]
  },
  {
   "cell_type": "code",
   "execution_count": 14,
   "id": "5f13f42e",
   "metadata": {},
   "outputs": [],
   "source": [
    "# traj_rest_solvent.save(os.path.join(outdir, f\"{i}_{phase}_Y501_rest.dcd\"))\n",
    "# traj_rest_solvent[0].save(os.path.join(outdir, f\"{i}_{phase}_Y501_rest.pdb\"))"
   ]
  },
  {
   "cell_type": "code",
   "execution_count": 70,
   "id": "35f5f608",
   "metadata": {},
   "outputs": [
    {
     "name": "stdout",
     "output_type": "stream",
     "text": [
      "TYR501-OH 501 2620\n"
     ]
    }
   ],
   "source": [
    "tyr_atoms = []\n",
    "for atom in traj_rest_solvent.topology.atoms:\n",
    "    if atom.residue.resSeq == 501 and atom.residue.name == 'TYR':\n",
    "        if atom.name == 'OH':\n",
    "            print(atom, atom.residue.resSeq, atom.index)\n",
    "            tyr_atoms.append(atom.index)"
   ]
  },
  {
   "cell_type": "code",
   "execution_count": 71,
   "id": "855cb907",
   "metadata": {},
   "outputs": [],
   "source": [
    "water_atoms = traj_rest_solvent.topology.select(\"water and symbol == 'O'\")"
   ]
  },
  {
   "cell_type": "code",
   "execution_count": 72,
   "id": "ac88fcee",
   "metadata": {},
   "outputs": [],
   "source": [
    "neighbors = md.compute_neighbors(traj_rest_solvent, 0.5, tyr_atoms, haystack_indices=water_atoms)"
   ]
  },
  {
   "cell_type": "code",
   "execution_count": 73,
   "id": "10a43e74",
   "metadata": {
    "scrolled": true
   },
   "outputs": [
    {
     "data": {
      "text/plain": [
       "Text(0.5, 1.0, 'Y501 complex')"
      ]
     },
     "execution_count": 73,
     "metadata": {},
     "output_type": "execute_result"
    },
    {
     "data": {
      "image/png": "[encoded data removed]",
      "text/plain": [
       "<Figure size 432x288 with 1 Axes>"
      ]
     },
     "metadata": {
      "needs_background": "light"
     },
     "output_type": "display_data"
    }
   ],
   "source": [
    "plt.scatter(range(len(neighbors)), [len(frame) for frame in neighbors])\n",
    "plt.ylabel(\"number of waters\")\n",
    "plt.xlabel(\"rest snapshot\")\n",
    "plt.title(\"Y501 complex\")"
   ]
  },
  {
   "cell_type": "code",
   "execution_count": 74,
   "id": "d4151957",
   "metadata": {},
   "outputs": [
    {
     "data": {
      "text/plain": [
       "3.510932475884243"
      ]
     },
     "execution_count": 74,
     "metadata": {},
     "output_type": "execute_result"
    }
   ],
   "source": [
    "y501_waters = [len(frame) for frame in neighbors]\n",
    "timeseries.statisticalInefficiency(y501_waters)\n"
   ]
  },
  {
   "cell_type": "markdown",
   "id": "ea892a8f",
   "metadata": {},
   "source": [
    "## Y501 complex (15/150)"
   ]
  },
  {
   "cell_type": "code",
   "execution_count": 75,
   "id": "c321238d",
   "metadata": {},
   "outputs": [],
   "source": [
    "outdir = \"/data/chodera/zhangi/perses_benchmark/neq/15/150/\"\n",
    "i = 150\n",
    "phase = 'complex'\n",
    "htf = pickle.load(open(os.path.join(outdir, f\"{i}_{phase}.pickle\"), \"rb\"))"
   ]
  },
  {
   "cell_type": "code",
   "execution_count": 76,
   "id": "ba84565a",
   "metadata": {},
   "outputs": [
    {
     "name": "stderr",
     "output_type": "stream",
     "text": [
      "/scratch/lsftmp/3182888.tmpdir/ipykernel_40087/965879479.py:32: TqdmDeprecationWarning: This function will be removed in tqdm==5.0.0\n",
      "Please use `tqdm.notebook.tqdm` instead of `tqdm.tqdm_notebook`\n",
      "  for j, pos in tqdm_notebook(enumerate(cache)):\n"
     ]
    },
    {
     "data": {
      "application/vnd.jupyter.widget-view+json": {
       "model_id": "ff99b96317b042349d4983291b9f92c8",
       "version_major": 2,
       "version_minor": 0
      },
      "text/plain": [
       "0it [00:00, ?it/s]"
      ]
     },
     "metadata": {},
     "output_type": "display_data"
    }
   ],
   "source": [
    "name = \"tyr\"\n",
    "endstate = 1\n",
    "is_old = False\n",
    "traj_rest_solvent = make_traj(outdir, htf, i, phase, name, endstate, is_old, keep_solvent=True)"
   ]
  },
  {
   "cell_type": "code",
   "execution_count": 5,
   "id": "b35bab44",
   "metadata": {},
   "outputs": [],
   "source": [
    "# traj_rest_solvent.save(os.path.join(outdir, f\"{i}_{phase}_Y501_rest.dcd\"))\n",
    "# traj_rest_solvent[0].save(os.path.join(outdir, f\"{i}_{phase}_Y501_rest.pdb\"))"
   ]
  },
  {
   "cell_type": "code",
   "execution_count": 77,
   "id": "fadc9b90",
   "metadata": {},
   "outputs": [
    {
     "name": "stdout",
     "output_type": "stream",
     "text": [
      "TYR501-OH 501 2620\n"
     ]
    }
   ],
   "source": [
    "tyr_atoms = []\n",
    "for atom in traj_rest_solvent.topology.atoms:\n",
    "    if atom.residue.resSeq == 501 and atom.residue.name == 'TYR':\n",
    "        if atom.name == 'OH':\n",
    "            print(atom, atom.residue.resSeq, atom.index)\n",
    "            tyr_atoms.append(atom.index)"
   ]
  },
  {
   "cell_type": "code",
   "execution_count": 78,
   "id": "632aa40a",
   "metadata": {},
   "outputs": [],
   "source": [
    "water_atoms = traj_rest_solvent.topology.select(\"water and symbol == 'O'\")"
   ]
  },
  {
   "cell_type": "code",
   "execution_count": 79,
   "id": "754ae370",
   "metadata": {},
   "outputs": [],
   "source": [
    "neighbors = md.compute_neighbors(traj_rest_solvent, 0.5, tyr_atoms, haystack_indices=water_atoms)"
   ]
  },
  {
   "cell_type": "code",
   "execution_count": 80,
   "id": "b7e4dd29",
   "metadata": {
    "scrolled": true
   },
   "outputs": [
    {
     "data": {
      "text/plain": [
       "Text(0.5, 1.0, 'Y501 complex')"
      ]
     },
     "execution_count": 80,
     "metadata": {},
     "output_type": "execute_result"
    },
    {
     "data": {
      "image/png": "[encoded data removed]",
      "text/plain": [
       "<Figure size 432x288 with 1 Axes>"
      ]
     },
     "metadata": {
      "needs_background": "light"
     },
     "output_type": "display_data"
    }
   ],
   "source": [
    "plt.scatter(range(len(neighbors)), [len(frame) for frame in neighbors])\n",
    "plt.ylabel(\"number of waters\")\n",
    "plt.xlabel(\"rest snapshot\")\n",
    "plt.title(\"Y501 complex\")"
   ]
  },
  {
   "cell_type": "code",
   "execution_count": 81,
   "id": "7f2c8096",
   "metadata": {},
   "outputs": [
    {
     "data": {
      "text/plain": [
       "2.516716145238639"
      ]
     },
     "execution_count": 81,
     "metadata": {},
     "output_type": "execute_result"
    }
   ],
   "source": [
    "y501_waters = [len(frame) for frame in neighbors]\n",
    "timeseries.statisticalInefficiency(y501_waters)\n"
   ]
  },
  {
   "cell_type": "markdown",
   "id": "95635ac7",
   "metadata": {},
   "source": [
    "## Y501 complex (24/1)"
   ]
  },
  {
   "cell_type": "code",
   "execution_count": 60,
   "id": "d86beb3d",
   "metadata": {},
   "outputs": [],
   "source": [
    "outdir = \"/data/chodera/zhangi/perses_benchmark/neq/24/1/\"\n",
    "i = 1\n",
    "phase = 'complex'\n",
    "htf = pickle.load(open(os.path.join(outdir, f\"{i}_{phase}.pickle\"), \"rb\"))"
   ]
  },
  {
   "cell_type": "code",
   "execution_count": 61,
   "id": "d4c77eb0",
   "metadata": {},
   "outputs": [
    {
     "name": "stderr",
     "output_type": "stream",
     "text": [
      "/scratch/lsftmp/3182888.tmpdir/ipykernel_40087/965879479.py:32: TqdmDeprecationWarning: This function will be removed in tqdm==5.0.0\n",
      "Please use `tqdm.notebook.tqdm` instead of `tqdm.tqdm_notebook`\n",
      "  for j, pos in tqdm_notebook(enumerate(cache)):\n"
     ]
    },
    {
     "data": {
      "application/vnd.jupyter.widget-view+json": {
       "model_id": "34a5ea490a514017828e3dd37ceced72",
       "version_major": 2,
       "version_minor": 0
      },
      "text/plain": [
       "0it [00:00, ?it/s]"
      ]
     },
     "metadata": {},
     "output_type": "display_data"
    }
   ],
   "source": [
    "name = \"tyr\"\n",
    "endstate = 1\n",
    "is_old = False\n",
    "traj_rest_solvent = make_traj(outdir, htf, i, phase, name, endstate, is_old, keep_solvent=True)"
   ]
  },
  {
   "cell_type": "code",
   "execution_count": 62,
   "id": "fcae2055",
   "metadata": {},
   "outputs": [],
   "source": [
    "traj_rest_solvent.save(os.path.join(outdir, f\"{i}_{phase}_Y501_rest_notimaged.dcd\"))\n",
    "traj_rest_solvent[0].save(os.path.join(outdir, f\"{i}_{phase}_Y501_rest_notimaged.pdb\"))"
   ]
  },
  {
   "cell_type": "code",
   "execution_count": 63,
   "id": "b765f493",
   "metadata": {},
   "outputs": [
    {
     "name": "stdout",
     "output_type": "stream",
     "text": [
      "TYR501-OH 501 2620\n"
     ]
    }
   ],
   "source": [
    "tyr_atoms = []\n",
    "for atom in traj_rest_solvent.topology.atoms:\n",
    "    if atom.residue.resSeq == 501 and atom.residue.name == 'TYR':\n",
    "        if atom.name == 'OH':\n",
    "            print(atom, atom.residue.resSeq, atom.index)\n",
    "            tyr_atoms.append(atom.index)"
   ]
  },
  {
   "cell_type": "code",
   "execution_count": 64,
   "id": "b655ccc5",
   "metadata": {},
   "outputs": [],
   "source": [
    "water_atoms = traj_rest_solvent.topology.select(\"water and symbol == 'O'\")"
   ]
  },
  {
   "cell_type": "code",
   "execution_count": 65,
   "id": "e424c4a3",
   "metadata": {},
   "outputs": [],
   "source": [
    "neighbors = md.compute_neighbors(traj_rest_solvent, 0.5, tyr_atoms, haystack_indices=water_atoms)"
   ]
  },
  {
   "cell_type": "code",
   "execution_count": 66,
   "id": "58d40778",
   "metadata": {
    "scrolled": true
   },
   "outputs": [
    {
     "data": {
      "text/plain": [
       "Text(0.5, 1.0, 'Y501 complex')"
      ]
     },
     "execution_count": 66,
     "metadata": {},
     "output_type": "execute_result"
    },
    {
     "data": {
      "image/png": "[encoded data removed]",
      "text/plain": [
       "<Figure size 432x288 with 1 Axes>"
      ]
     },
     "metadata": {
      "needs_background": "light"
     },
     "output_type": "display_data"
    }
   ],
   "source": [
    "plt.scatter(range(len(neighbors)), [len(frame) for frame in neighbors])\n",
    "plt.ylabel(\"number of waters\")\n",
    "plt.xlabel(\"rest snapshot\")\n",
    "plt.title(\"Y501 complex\")"
   ]
  },
  {
   "cell_type": "code",
   "execution_count": 67,
   "id": "075d6254",
   "metadata": {},
   "outputs": [
    {
     "data": {
      "text/plain": [
       "2.8913344316309715"
      ]
     },
     "execution_count": 67,
     "metadata": {},
     "output_type": "execute_result"
    }
   ],
   "source": [
    "y501_waters = [len(frame) for frame in neighbors]\n",
    "timeseries.statisticalInefficiency(y501_waters)\n"
   ]
  },
  {
   "cell_type": "markdown",
   "id": "c5d984c0",
   "metadata": {},
   "source": [
    "## Y501 complex (24/2)"
   ]
  },
  {
   "cell_type": "code",
   "execution_count": 36,
   "id": "b416622b",
   "metadata": {},
   "outputs": [],
   "source": [
    "outdir = \"/data/chodera/zhangi/perses_benchmark/neq/24/2/\"\n",
    "i = 2\n",
    "phase = 'complex'\n",
    "htf = pickle.load(open(os.path.join(outdir, f\"{i}_{phase}.pickle\"), \"rb\"))"
   ]
  },
  {
   "cell_type": "code",
   "execution_count": 52,
   "id": "f493e625",
   "metadata": {},
   "outputs": [
    {
     "name": "stderr",
     "output_type": "stream",
     "text": [
      "/scratch/lsftmp/3182888.tmpdir/ipykernel_40087/965879479.py:32: TqdmDeprecationWarning: This function will be removed in tqdm==5.0.0\n",
      "Please use `tqdm.notebook.tqdm` instead of `tqdm.tqdm_notebook`\n",
      "  for j, pos in tqdm_notebook(enumerate(cache)):\n"
     ]
    },
    {
     "data": {
      "application/vnd.jupyter.widget-view+json": {
       "model_id": "7ce5959ba3864b5d8a56eda4e6a1538e",
       "version_major": 2,
       "version_minor": 0
      },
      "text/plain": [
       "0it [00:00, ?it/s]"
      ]
     },
     "metadata": {},
     "output_type": "display_data"
    }
   ],
   "source": [
    "name = \"tyr\"\n",
    "endstate = 1\n",
    "is_old = False\n",
    "traj_rest_solvent = make_traj(outdir, htf, i, phase, name, endstate, is_old, keep_solvent=True)"
   ]
  },
  {
   "cell_type": "code",
   "execution_count": 53,
   "id": "c5ebe0ef",
   "metadata": {},
   "outputs": [],
   "source": [
    "traj_rest_solvent.save(os.path.join(outdir, f\"{i}_{phase}_Y501_rest_notimaged.dcd\"))\n",
    "traj_rest_solvent[0].save(os.path.join(outdir, f\"{i}_{phase}_Y501_rest_notimaged.pdb\"))"
   ]
  },
  {
   "cell_type": "code",
   "execution_count": 54,
   "id": "38eed25c",
   "metadata": {},
   "outputs": [
    {
     "name": "stdout",
     "output_type": "stream",
     "text": [
      "TYR501-OH 501 2620\n"
     ]
    }
   ],
   "source": [
    "tyr_atoms = []\n",
    "for atom in traj_rest_solvent.topology.atoms:\n",
    "    if atom.residue.resSeq == 501 and atom.residue.name == 'TYR':\n",
    "        if atom.name == 'OH':\n",
    "            print(atom, atom.residue.resSeq, atom.index)\n",
    "            tyr_atoms.append(atom.index)"
   ]
  },
  {
   "cell_type": "code",
   "execution_count": 55,
   "id": "cd5c279c",
   "metadata": {},
   "outputs": [],
   "source": [
    "water_atoms = traj_rest_solvent.topology.select(\"water and symbol == 'O'\")"
   ]
  },
  {
   "cell_type": "code",
   "execution_count": 56,
   "id": "8f28b241",
   "metadata": {},
   "outputs": [],
   "source": [
    "neighbors = md.compute_neighbors(traj_rest_solvent, 0.5, tyr_atoms, haystack_indices=water_atoms)"
   ]
  },
  {
   "cell_type": "code",
   "execution_count": 57,
   "id": "3ac14dcd",
   "metadata": {
    "scrolled": false
   },
   "outputs": [
    {
     "data": {
      "text/plain": [
       "Text(0.5, 1.0, 'Y501 complex')"
      ]
     },
     "execution_count": 57,
     "metadata": {},
     "output_type": "execute_result"
    },
    {
     "data": {
      "image/png": "[encoded data removed]",
      "text/plain": [
       "<Figure size 432x288 with 1 Axes>"
      ]
     },
     "metadata": {
      "needs_background": "light"
     },
     "output_type": "display_data"
    }
   ],
   "source": [
    "# not imaged\n",
    "plt.scatter(range(len(neighbors)), [len(frame) for frame in neighbors])\n",
    "plt.ylabel(\"number of waters\")\n",
    "plt.xlabel(\"rest snapshot\")\n",
    "plt.title(\"Y501 complex\")"
   ]
  },
  {
   "cell_type": "code",
   "execution_count": 58,
   "id": "2390423d",
   "metadata": {},
   "outputs": [
    {
     "data": {
      "text/plain": [
       "13.811428571428578"
      ]
     },
     "execution_count": 58,
     "metadata": {},
     "output_type": "execute_result"
    }
   ],
   "source": [
    "y501_waters = [len(frame) for frame in neighbors]\n",
    "timeseries.statisticalInefficiency(y501_waters)\n"
   ]
  },
  {
   "cell_type": "code",
   "execution_count": 59,
   "id": "92ce0d09",
   "metadata": {},
   "outputs": [
    {
     "data": {
      "text/plain": [
       "Text(0.5, 1.0, 'Y501 complex')"
      ]
     },
     "execution_count": 59,
     "metadata": {},
     "output_type": "execute_result"
    },
    {
     "data": {
      "image/png": "[encoded data removed]",
      "text/plain": [
       "<Figure size 432x288 with 1 Axes>"
      ]
     },
     "metadata": {
      "needs_background": "light"
     },
     "output_type": "display_data"
    }
   ],
   "source": [
    "# imaged\n",
    "plt.scatter(range(len(neighbors)), [len(frame) for frame in neighbors])\n",
    "plt.ylabel(\"number of waters\")\n",
    "plt.xlabel(\"rest snapshot\")\n",
    "plt.title(\"Y501 complex\")"
   ]
  },
  {
   "cell_type": "code",
   "execution_count": 43,
   "id": "d379b967",
   "metadata": {},
   "outputs": [
    {
     "data": {
      "text/plain": [
       "3.5569829683698297"
      ]
     },
     "execution_count": 43,
     "metadata": {},
     "output_type": "execute_result"
    }
   ],
   "source": [
    "y501_waters = [len(frame) for frame in neighbors]\n",
    "timeseries.statisticalInefficiency(y501_waters)\n"
   ]
  },
  {
   "cell_type": "code",
   "execution_count": 50,
   "id": "4eac6a60",
   "metadata": {},
   "outputs": [
    {
     "data": {
      "text/plain": [
       "185384"
      ]
     },
     "execution_count": 50,
     "metadata": {},
     "output_type": "execute_result"
    }
   ],
   "source": [
    "traj_rest_solvent.xyz.shape[1]"
   ]
  },
  {
   "cell_type": "code",
   "execution_count": null,
   "id": "46b1899a",
   "metadata": {},
   "outputs": [],
   "source": []
  }
 ],
 "metadata": {
  "kernelspec": {
   "display_name": "Python 3 (ipykernel)",
   "language": "python",
   "name": "python3"
  },
  "language_info": {
   "codemirror_mode": {
    "name": "ipython",
    "version": 3
   },
   "file_extension": ".py",
   "mimetype": "text/x-python",
   "name": "python",
   "nbconvert_exporter": "python",
   "pygments_lexer": "ipython3",
   "version": "3.9.7"
  }
 },
 "nbformat": 4,
 "nbformat_minor": 5
}
