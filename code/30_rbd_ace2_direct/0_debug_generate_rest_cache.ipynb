{
 "cells": [
  {
   "cell_type": "code",
   "execution_count": 1,
   "id": "da77f3bd",
   "metadata": {},
   "outputs": [
    {
     "name": "stderr",
     "output_type": "stream",
     "text": [
      "Warning: importing 'simtk.openmm' is deprecated.  Import 'openmm' instead.\n",
      "INFO:numexpr.utils:Note: detected 80 virtual cores but NumExpr set to maximum of 64, check \"NUMEXPR_MAX_THREADS\" environment variable.\n",
      "INFO:numexpr.utils:Note: NumExpr detected 80 cores but \"NUMEXPR_MAX_THREADS\" not set, so enforcing safe limit of 8.\n",
      "INFO:numexpr.utils:NumExpr defaulting to 8 threads.\n"
     ]
    },
    {
     "name": "stdout",
     "output_type": "stream",
     "text": [
      "conducting subsequent work with the following platform: CUDA\n",
      "conducting subsequent work with the following platform: CUDA\n"
     ]
    },
    {
     "name": "stderr",
     "output_type": "stream",
     "text": [
      "INFO:rdkit:Enabling RDKit 2021.03.4 jupyter extensions\n"
     ]
    }
   ],
   "source": [
    "import pickle\n",
    "import os\n",
    "from perses.annihilation.rest import RESTTopologyFactory\n",
    "from perses.annihilation.lambda_protocol import RESTState\n",
    "from openmmtools.states import SamplerState, ThermodynamicState, CompoundThermodynamicState\n",
    "from openmmtools import cache, utils\n",
    "from perses.dispersed.utils import configure_platform\n",
    "cache.global_context_cache.platform = configure_platform(utils.get_fastest_platform().getName())\n",
    "from simtk import openmm, unit\n",
    "import math\n",
    "from openmmtools.constants import kB\n",
    "from openmmtools import mcmc, multistate\n",
    "import argparse\n",
    "import copy\n",
    "from perses.dispersed import feptasks\n",
    "import mdtraj as md\n",
    "import numpy as np\n",
    "from perses.app.relative_point_mutation_setup import PointMutationExecutor\n",
    "\n",
    "from openmmtools.integrators import LangevinIntegrator\n",
    "from simtk.openmm import unit, app\n",
    "\n",
    "# Set up logger\n",
    "import logging\n",
    "_logger = logging.getLogger()\n",
    "_logger.setLevel(logging.INFO)"
   ]
  },
  {
   "cell_type": "code",
   "execution_count": 2,
   "id": "6ca53974",
   "metadata": {},
   "outputs": [],
   "source": [
    "outdir = \"/data/chodera/zhangi/perses_benchmark/neq/14/113/\"\n",
    "resid = \"501\"\n",
    "name = \"TYR\"\n",
    "state = 1\n",
    "t_max = 1200\n",
    "radius = 0.5\n",
    "phase = 'complex'\n",
    "length = 1\n",
    "move_length = 1\n",
    "timestep = 4\n",
    "radius = 0.5"
   ]
  },
  {
   "cell_type": "code",
   "execution_count": 3,
   "id": "811e2db5",
   "metadata": {},
   "outputs": [
    {
     "name": "stderr",
     "output_type": "stream",
     "text": [
      "INFO:root:path: /data/chodera/zhangi/perses_benchmark/neq/14/113/113_complex_1.pickle\n"
     ]
    }
   ],
   "source": [
    "# Load rhtf\n",
    "i = os.path.basename(os.path.dirname(outdir))\n",
    "path = os.path.join(outdir, f\"{i}_{phase}_{state}.pickle\")\n",
    "_logger.info(f\"path: {path}\")\n",
    "htf = pickle.load(open(path, \"rb\" ))"
   ]
  },
  {
   "cell_type": "code",
   "execution_count": 5,
   "id": "1c2649ae",
   "metadata": {},
   "outputs": [
    {
     "name": "stderr",
     "output_type": "stream",
     "text": [
      "INFO:root:Minimizing positions\n"
     ]
    }
   ],
   "source": [
    "# Minimize positions\n",
    "_logger.info(\"Minimizing positions\")\n",
    "integrator = LangevinIntegrator(timestep=4.0 * unit.femtoseconds)\n",
    "platform_name = 'CUDA'\n",
    "platform = openmm.Platform.getPlatformByName(platform_name)\n",
    "if platform_name in ['CUDA', 'OpenCL']:\n",
    "    platform.setPropertyDefaultValue('Precision', 'mixed')\n",
    "if platform_name in ['CUDA']:\n",
    "    platform.setPropertyDefaultValue('DeterministicForces', 'true')\n",
    "context = openmm.Context(htf.hybrid_system, integrator, platform)\n",
    "# context = openmm.Context(hybrid_system_copy, integrator, platform)\n",
    "# lambda_alchemical_state = RelativeAlchemicalState.from_system(htf.hybrid_system)\n",
    "# lambda_protocol = LambdaProtocol(functions = 'default')\n",
    "# lambda_alchemical_state.set_alchemical_parameters(1, lambda_protocol)\n",
    "# thermodynamic_state = CompoundThermodynamicState(ThermodynamicState(htf.hybrid_system, temperature=298 * unit.kelvin), composable_states=[lambda_alchemical_state])\n"
   ]
  },
  {
   "cell_type": "code",
   "execution_count": null,
   "id": "2bf9d977",
   "metadata": {},
   "outputs": [],
   "source": [
    "# context = thermodynamic_state.create_context(integrator, platform=platform)\n"
   ]
  },
  {
   "cell_type": "code",
   "execution_count": 6,
   "id": "0bdff429",
   "metadata": {},
   "outputs": [],
   "source": [
    "context.setPositions(htf.hybrid_positions)\n",
    "openmm.LocalEnergyMinimizer.minimize(context)\n",
    "positions = context.getState(getPositions=True).getPositions()\n",
    "positions_minimized = unit.quantity.Quantity(value=np.array([list(atom_pos) for atom_pos in positions.value_in_unit_system(unit.md_unit_system)]), unit=unit.nanometers)\n"
   ]
  },
  {
   "cell_type": "code",
   "execution_count": 7,
   "id": "a95a1967",
   "metadata": {},
   "outputs": [],
   "source": [
    "app.PDBFile.writeFile(htf._topology_proposal.old_topology, htf.old_positions(positions_minimized), open(os.path.join(outdir, f\"positions_minimized_old.pdb\"), \"w\"), keepIds=True)\n",
    "app.PDBFile.writeFile(htf._topology_proposal.new_topology, htf.new_positions(positions_minimized), open(os.path.join(outdir, f\"positions_minimized_new.pdb\"), \"w\"), keepIds=True)"
   ]
  },
  {
   "cell_type": "code",
   "execution_count": 9,
   "id": "13bfffbc",
   "metadata": {},
   "outputs": [
    {
     "name": "stdout",
     "output_type": "stream",
     "text": [
      "-5810070.91214643 kJ/mol\n"
     ]
    }
   ],
   "source": [
    "print(context.getState(getEnergy=True).getPotentialEnergy())"
   ]
  },
  {
   "cell_type": "code",
   "execution_count": null,
   "id": "05b1f593",
   "metadata": {},
   "outputs": [],
   "source": [
    "# Build REST factory\n",
    "_logger.info(\"Generating REST factory\")\n",
    "_logger.info(f\"radius:{radius} nm\")\n",
    "for res in htf.hybrid_topology.residues:\n",
    "    if res.resSeq == int(resid) and res.chain.index == 0:\n",
    "        mutated_res = res\n",
    "query_indices = [atom.index for atom in mutated_res.atoms]\n",
    "_logger.info(f\"query indices {query_indices}\")\n",
    "traj = md.Trajectory(np.array(positions_minimized), htf.hybrid_topology)\n",
    "solute_atoms = list(traj.topology.select(\"is_protein\"))\n",
    "rest_atoms = list(md.compute_neighbors(traj, radius, query_indices, haystack_indices=solute_atoms)[0])\n",
    "_logger.info(f\"rest atoms {rest_atoms}\")\n",
    "factory = RESTTopologyFactory(htf.hybrid_system, solute_region=rest_atoms, use_dispersion_correction=True)"
   ]
  },
  {
   "cell_type": "code",
   "execution_count": 10,
   "id": "586531a2",
   "metadata": {},
   "outputs": [],
   "source": [
    "with open(os.path.join(outdir, \"113_complex_rest_factory.pickle\"), \"wb\") as f:\n",
    "    pickle.dump(factory, f)\n",
    "with open(os.path.join(outdir, \"minimized_positions.npy\"), \"wb\") as f:\n",
    "    np.save(f, positions_minimized)"
   ]
  },
  {
   "cell_type": "code",
   "execution_count": 4,
   "id": "5a3ef6d5",
   "metadata": {},
   "outputs": [],
   "source": [
    "with open(os.path.join(outdir, \"113_complex_rest_factory.pickle\"), \"rb\") as f:\n",
    "    factory = pickle.load(f)\n",
    "with open(os.path.join(outdir, \"minimized_positions.npy\"), \"rb\") as f:\n",
    "    positions_minimized = np.load(f)"
   ]
  },
  {
   "cell_type": "code",
   "execution_count": 5,
   "id": "1f15ad9a",
   "metadata": {},
   "outputs": [
    {
     "name": "stderr",
     "output_type": "stream",
     "text": [
      "INFO:root:Generating REST states\n"
     ]
    }
   ],
   "source": [
    "_logger.info(\"Generating REST states\")\n",
    "# Get REST system\n",
    "REST_system = factory.REST_system\n",
    "\n",
    "# Create states for each replica\n",
    "n_replicas = 24  # Number of temperature replicas.\n",
    "T_min = 298.0 * unit.kelvin  # Minimum temperature.\n",
    "T_max = t_max * unit.kelvin  # Maximum temperature.\n",
    "temperatures = [T_min + (T_max - T_min) * (math.exp(float(i) / float(n_replicas-1)) - 1.0) / (math.e - 1.0)\n",
    "                for i in range(n_replicas)]\n",
    "\n",
    "# Create reference thermodynamic state\n",
    "lambda_zero_alchemical_state = RESTState.from_system(REST_system)\n",
    "thermostate = ThermodynamicState(REST_system, temperature=T_min)\n",
    "compound_thermodynamic_state = CompoundThermodynamicState(thermostate, composable_states=[lambda_zero_alchemical_state])\n",
    "\n",
    "context_cache = cache.ContextCache()"
   ]
  },
  {
   "cell_type": "code",
   "execution_count": 6,
   "id": "77e758ed",
   "metadata": {},
   "outputs": [],
   "source": [
    "import time"
   ]
  },
  {
   "cell_type": "code",
   "execution_count": 7,
   "id": "808b4050",
   "metadata": {},
   "outputs": [
    {
     "name": "stdout",
     "output_type": "stream",
     "text": [
      "starting temp: 298.0 K\n",
      "elapsed time: 212.58193469047546 s\n",
      "starting temp: 321.3270432882694 K\n",
      "elapsed time: 189.46807765960693 s\n",
      "starting temp: 345.6906771384804 K\n",
      "elapsed time: 190.83197569847107 s\n",
      "starting temp: 371.1369648249121 K\n",
      "elapsed time: 281.1197576522827 s\n",
      "starting temp: 397.71401654887063 K\n",
      "elapsed time: 188.18447375297546 s\n",
      "starting temp: 425.4720803985772 K\n",
      "elapsed time: 188.74381375312805 s\n",
      "starting temp: 454.4636373510657 K\n",
      "elapsed time: 280.0181608200073 s\n",
      "starting temp: 484.7435004957092 K\n",
      "elapsed time: 187.4496133327484 s\n",
      "starting temp: 516.3689186669689 K\n",
      "elapsed time: 189.01001453399658 s\n",
      "starting temp: 549.3996846823022 K\n",
      "elapsed time: 186.83598041534424 s\n",
      "starting temp: 583.898248389871 K\n",
      "elapsed time: 279.67587995529175 s\n",
      "starting temp: 619.929834739782 K\n",
      "elapsed time: 187.77266144752502 s\n",
      "starting temp: 657.5625671020932 K\n",
      "elapsed time: 187.35524463653564 s\n",
      "starting temp: 696.8675960647399 K\n",
      "elapsed time: 279.33665323257446 s\n",
      "starting temp: 737.9192339548888 K\n",
      "elapsed time: 279.95382356643677 s\n",
      "starting temp: 780.7950953380587 K\n",
      "elapsed time: 187.47626280784607 s\n",
      "starting temp: 825.5762437606389 K\n",
      "elapsed time: 190.00871324539185 s\n",
      "starting temp: 872.3473450132509 K\n",
      "elapsed time: 279.5641758441925 s\n",
      "starting temp: 921.1968272047134 K\n",
      "elapsed time: 186.6841835975647 s\n",
      "starting temp: 972.2170479492636 K\n",
      "elapsed time: 188.0179319381714 s\n",
      "starting temp: 1025.5044689831273 K\n",
      "elapsed time: 278.2956578731537 s\n",
      "starting temp: 1081.1598385405696 K\n",
      "elapsed time: 188.25186562538147 s\n",
      "starting temp: 1139.2883818342493 K\n",
      "elapsed time: 186.7709457874298 s\n",
      "starting temp: 1200.0 K\n",
      "elapsed time: 189.13328337669373 s\n"
     ]
    }
   ],
   "source": [
    "# Create thermodynamics states\n",
    "sampler_state =  SamplerState(positions_minimized, box_vectors=htf.hybrid_system.getDefaultPeriodicBoxVectors())\n",
    "beta_0 = 1/(kB*T_min)\n",
    "thermodynamic_state_list = []\n",
    "sampler_state_list = []\n",
    "for temperature in temperatures:\n",
    "    print(f\"starting temp: {temperature}\")\n",
    "    initial_time = time.time()\n",
    "    beta_m = 1/(kB*temperature)\n",
    "    compound_thermodynamic_state_copy = copy.deepcopy(compound_thermodynamic_state)\n",
    "    compound_thermodynamic_state_copy.set_alchemical_parameters(beta_0, beta_m)\n",
    "    thermodynamic_state_list.append(compound_thermodynamic_state_copy)\n",
    "\n",
    "    # now generating a sampler_state for each thermodynamic state, with relaxed positions\n",
    "    # context, context_integrator = context_cache.get_context(compound_thermodynamic_state_copy)\n",
    "    feptasks.minimize(compound_thermodynamic_state_copy, sampler_state, max_iterations=0)\n",
    "    sampler_state_list.append(copy.deepcopy(sampler_state))\n",
    "    elapsed_time = (time.time() - initial_time) * unit.seconds\n",
    "    print(f\"elapsed time: {elapsed_time}\")"
   ]
  },
  {
   "cell_type": "code",
   "execution_count": 9,
   "id": "26b52de7",
   "metadata": {},
   "outputs": [],
   "source": [
    "with open(os.path.join(outdir, \"sampler_state_list.pickle\"), \"wb\") as f:\n",
    "    pickle.dump(sampler_state_list, f)"
   ]
  },
  {
   "cell_type": "code",
   "execution_count": 5,
   "id": "f66d39f1",
   "metadata": {},
   "outputs": [],
   "source": [
    "with open(os.path.join(outdir, \"sampler_state_list.pickle\"), \"rb\") as f:\n",
    "    sampler_state_list = pickle.load(f)"
   ]
  },
  {
   "cell_type": "code",
   "execution_count": 6,
   "id": "6d983b84",
   "metadata": {},
   "outputs": [],
   "source": [
    "for i, ss in enumerate(sampler_state_list):\n",
    "    app.PDBFile.writeFile(htf._topology_proposal.old_topology, htf.old_positions(ss.positions), open(os.path.join(outdir, f\"{i}_old.pdb\"), \"w\"), keepIds=True)\n",
    "    app.PDBFile.writeFile(htf._topology_proposal.new_topology, htf.new_positions(ss.positions), open(os.path.join(outdir, f\"{i}_new.pdb\"), \"w\"), keepIds=True)"
   ]
  },
  {
   "cell_type": "code",
   "execution_count": 15,
   "id": "6bc117da",
   "metadata": {},
   "outputs": [
    {
     "data": {
      "text/plain": [
       "Quantity(value=array([[-3.3747    ,  1.7107    ,  4.8754    ],\n",
       "       [-3.2953    ,  1.6332    ,  4.9304    ],\n",
       "       [-3.363     ,  1.8605    ,  4.8939    ],\n",
       "       ...,\n",
       "       [-2.9511449 ,  2.00742073,  0.43268726],\n",
       "       [-3.11468275,  1.82748376,  0.37035705],\n",
       "       [-3.03894171,  1.83670447,  0.44679181]]), unit=nanometer)"
      ]
     },
     "execution_count": 15,
     "metadata": {},
     "output_type": "execute_result"
    }
   ],
   "source": [
    "htf.hybrid_positions"
   ]
  },
  {
   "cell_type": "code",
   "execution_count": 20,
   "id": "2b98aa75",
   "metadata": {},
   "outputs": [],
   "source": [
    "app.PDBFile.writeFile(htf._topology_proposal.old_topology, htf.old_positions(unit.Quantity(value=positions_minimized, unit=unit.nanometers)), open(os.path.join(outdir, f\"positions_minimized_old.pdb\"), \"w\"), keepIds=True)\n",
    "app.PDBFile.writeFile(htf._topology_proposal.new_topology, htf.new_positions(unit.Quantity(value=positions_minimized, unit=unit.nanometers)), open(os.path.join(outdir, f\"positions_minimized_new.pdb\"), \"w\"), keepIds=True)"
   ]
  },
  {
   "cell_type": "code",
   "execution_count": null,
   "id": "f2b6c57b",
   "metadata": {},
   "outputs": [],
   "source": []
  },
  {
   "cell_type": "code",
   "execution_count": null,
   "id": "61678a49",
   "metadata": {},
   "outputs": [],
   "source": [
    "from openmmtools.multistate import ReplicaExchangeSampler\n",
    "import mpiplus\n",
    "class ReplicaExchangeSampler2(ReplicaExchangeSampler):\n",
    "    @mpiplus.on_single_node(rank=0, broadcast_result=False, sync_nodes=False)\n",
    "    @mpiplus.delayed_termination\n",
    "    def _report_iteration_items(self):\n",
    "        \"\"\"\n",
    "        Sub-function of :func:`_report_iteration` which handles all the actual individual item reporting in a\n",
    "        sub-class friendly way. The final actions of writing timestamp, last-good-iteration, and syncing\n",
    "        should be left to the :func:`_report_iteration` and subclasses should extend this function instead\n",
    "        \"\"\"\n",
    "        replica_id = np.where(self._replica_thermodynamic_states == 0)[0][0]\n",
    "        print(\"ITERATION: \", self._iteration)\n",
    "        print(\"REPLICA THERMOSTATES \", self._replica_thermodynamic_states, type(self._replica_thermodynamic_states))\n",
    "        print(\"REPLICA ID \", replica_id, type(replica_id))\n",
    "        self._reporter.write_sampler_states([self._sampler_states[replica_id]], self._iteration)\n",
    "\n",
    "        self._reporter.write_replica_thermodynamic_states(self._replica_thermodynamic_states, self._iteration)\n",
    "        self._reporter.write_mcmc_moves(self._mcmc_moves)  # MCMCMoves can store internal statistics.\n",
    "        self._reporter.write_energies(self._energy_thermodynamic_states, self._neighborhoods, self._energy_unsampled_states,\n",
    "                                      self._iteration)\n",
    "        self._reporter.write_mixing_statistics(self._n_accepted_matrix, self._n_proposed_matrix, self._iteration)\n"
   ]
  },
  {
   "cell_type": "code",
   "execution_count": null,
   "id": "77fe5822",
   "metadata": {},
   "outputs": [],
   "source": [
    "# Set up sampler\n",
    "_logger.setLevel(logging.DEBUG)\n",
    "_logger.info(\"About to start repex\")\n",
    "print(f\"move steps: {int((move_length*1000)/timestep)}\")\n",
    "print(f\"timestep: {timestep} fs\")\n",
    "move = mcmc.LangevinSplittingDynamicsMove(timestep=timestep*unit.femtoseconds, n_steps=int((move_length*1000)/timestep))\n",
    "simulation = ReplicaExchangeSampler2(mcmc_moves=move, number_of_iterations=length*1000)\n",
    "\n",
    "# Run t-repex\n",
    "reporter_file = os.path.join(outdir, f\"{i}_{phase}_{name.lower()}_{length}ns.nc\")\n",
    "reporter = multistate.MultiStateReporter(reporter_file, checkpoint_interval=1)\n",
    "simulation.create(thermodynamic_states=thermodynamic_state_list,\n",
    "                  sampler_states=sampler_state_list,\n",
    "                  storage=reporter)\n",
    "simulation.run()"
   ]
  },
  {
   "cell_type": "markdown",
   "id": "1f13c972",
   "metadata": {},
   "source": [
    "# Generate htf for ALA->TYR"
   ]
  },
  {
   "cell_type": "code",
   "execution_count": 53,
   "id": "be0fb40a",
   "metadata": {},
   "outputs": [],
   "source": [
    "from perses.tests.test_topology_proposal import generate_atp, generate_dipeptide_top_pos_sys"
   ]
  },
  {
   "cell_type": "code",
   "execution_count": 54,
   "id": "24b662d4",
   "metadata": {},
   "outputs": [],
   "source": [
    "atp, system_generator = generate_atp()"
   ]
  },
  {
   "cell_type": "code",
   "execution_count": 61,
   "id": "f91af91c",
   "metadata": {
    "scrolled": true
   },
   "outputs": [
    {
     "name": "stderr",
     "output_type": "stream",
     "text": [
      "INFO:proposal_generator:\tConducting polymer point mutation proposal...\n",
      "WARNING:atom_mapping:Molecules do not appear to share a common scaffold.\n",
      "WARNING:atom_mapping:Proceeding with direct mapping of molecules, but please check atom mapping and the geometry of the ligands.\n"
     ]
    },
    {
     "name": "stdout",
     "output_type": "stream",
     "text": [
      "making topology proposal\n"
     ]
    },
    {
     "name": "stderr",
     "output_type": "stream",
     "text": [
      "INFO:proposal_generator:[Atom(name=CB, atomic number=6), Atom(name=HB1, atomic number=1), Atom(name=HB2, atomic number=1), Atom(name=HB3, atomic number=1)]\n",
      "INFO:proposal_generator:[Atom(name=CB, atomic number=6), Atom(name=CG, atomic number=6), Atom(name=CD1, atomic number=6), Atom(name=CD2, atomic number=6), Atom(name=CE1, atomic number=6), Atom(name=CE2, atomic number=6), Atom(name=CZ, atomic number=6), Atom(name=OH, atomic number=8), Atom(name=HB2, atomic number=1), Atom(name=HB3, atomic number=1), Atom(name=HD1, atomic number=1), Atom(name=HD2, atomic number=1), Atom(name=HE1, atomic number=1), Atom(name=HE2, atomic number=1), Atom(name=HH, atomic number=1)]\n",
      "INFO:geometry:propose: performing forward proposal\n",
      "INFO:geometry:propose: unique new atoms detected; proceeding to _logp_propose...\n",
      "INFO:geometry:Conducting forward proposal...\n",
      "INFO:geometry:Computing proposal order with NetworkX...\n",
      "INFO:geometry:number of atoms to be placed: 15\n",
      "INFO:geometry:Atom index proposal order is [10, 15, 16, 25, 18, 23, 20, 21, 17, 11, 12, 26, 24, 22, 19]\n",
      "INFO:geometry:omitted_bonds: [(20, 23)]\n",
      "INFO:geometry:direction of proposal is forward; creating atoms_with_positions and new positions from old system/topology...\n",
      "INFO:geometry:creating growth system...\n",
      "INFO:geometry:\tcreating bond force...\n",
      "INFO:geometry:\tthere are 17 bonds in reference force.\n",
      "INFO:geometry:\tcreating angle force...\n",
      "INFO:geometry:\tthere are 55 angles in reference force.\n",
      "INFO:geometry:\tcreating torsion force...\n",
      "INFO:geometry:\tcreating extra torsions force...\n",
      "INFO:geometry:\tthere are 86 torsions in reference force.\n",
      "INFO:geometry:\tcreating nonbonded force...\n",
      "INFO:geometry:\t\tgrabbing reference nonbonded method, cutoff, switching function, switching distance...\n",
      "INFO:geometry:\t\tcreating nonbonded exception force (i.e. custom bond for 1,4s)...\n",
      "INFO:geometry:\t\tlooping through exceptions calculating growth indices, and adding appropriate interactions to custom bond force.\n",
      "INFO:geometry:\t\tthere are 158 in the reference Nonbonded force\n",
      "WARNING:geometry:\t\t\t\t\tchiral atom <Atom 8 (CA) of chain 0 residue 1 (TYR)> with neighbors [<Atom 9 (HA) of chain 0 residue 1 (TYR)>, <Atom 10 (CB) of chain 0 residue 1 (TYR)>, <Atom 13 (C) of chain 0 residue 1 (TYR)>, <Atom 6 (N) of chain 0 residue 1 (TYR)>] is surrounded by 3 core neighbors.  omitting chirality bias torsion\n",
      "INFO:geometry:Neglected angle terms : []\n",
      "INFO:geometry:omitted_growth_terms: {'bonds': [(20, 23)], 'angles': [(18, 20, 23), (20, 23, 24), (20, 23, 25), (21, 20, 23)], 'torsions': [(15, 25, 23, 20), (16, 18, 20, 23), (18, 20, 23, 24), (18, 20, 23, 25), (19, 18, 20, 23), (20, 23, 25, 26), (21, 20, 23, 24), (21, 20, 23, 25), (22, 21, 20, 23), (22, 21, 20, 23), (18, 23, 20, 21)], '1,4s': [(15, 20), (16, 23), (19, 23), (22, 23), (18, 24), (21, 24), (18, 25), (21, 25), (20, 26)]}\n",
      "INFO:geometry:extra torsions: {0: (22, 21, 20, 18, [1, Quantity(value=-0.002870001521861454, unit=radian), Quantity(value=1200.0, unit=kilocalorie/mole), 14]), 1: (19, 18, 20, 21, [1, Quantity(value=3.1393768365632813, unit=radian), Quantity(value=1200.0, unit=kilocalorie/mole), 15]), 2: (16, 18, 20, 21, [1, Quantity(value=0.0022213748613295614, unit=radian), Quantity(value=1200.0, unit=kilocalorie/mole), 8]), 3: (19, 18, 16, 17, [1, Quantity(value=3.139771005499866, unit=radian), Quantity(value=1200.0, unit=kilocalorie/mole), 15]), 4: (19, 18, 16, 15, [1, Quantity(value=0.0069177728493503565, unit=radian), Quantity(value=1200.0, unit=kilocalorie/mole), 15]), 5: (20, 18, 16, 17, [1, Quantity(value=-0.0062808214457872324, unit=radian), Quantity(value=1200.0, unit=kilocalorie/mole), 9]), 6: (20, 18, 16, 15, [1, Quantity(value=-3.1391340540962216, unit=radian), Quantity(value=1200.0, unit=kilocalorie/mole), 7]), 7: (18, 16, 15, 25, [1, Quantity(value=3.1373539745559547, unit=radian), Quantity(value=1200.0, unit=kilocalorie/mole), 5]), 8: (18, 16, 15, 10, [1, Quantity(value=-0.012555513663626172, unit=radian), Quantity(value=1200.0, unit=kilocalorie/mole), 5]), 9: (17, 16, 15, 25, [1, Quantity(value=0.004577035070323365, unit=radian), Quantity(value=1200.0, unit=kilocalorie/mole), 9]), 10: (17, 16, 15, 10, [1, Quantity(value=3.137852854030348, unit=radian), Quantity(value=1200.0, unit=kilocalorie/mole), 9]), 11: (24, 23, 25, 15, [1, Quantity(value=-0.006701599266596858, unit=radian), Quantity(value=1200.0, unit=kilocalorie/mole), 13]), 12: (24, 23, 25, 26, [1, Quantity(value=-3.134703221499019, unit=radian), Quantity(value=1200.0, unit=kilocalorie/mole), 13]), 13: (16, 15, 25, 23, [1, Quantity(value=-3.137699428633435, unit=radian), Quantity(value=1200.0, unit=kilocalorie/mole), 6]), 14: (16, 15, 25, 26, [1, Quantity(value=-0.009793556643590051, unit=radian), Quantity(value=1200.0, unit=kilocalorie/mole), 12]), 15: (10, 15, 25, 23, [1, Quantity(value=0.012140215312939961, unit=radian), Quantity(value=1200.0, unit=kilocalorie/mole), 6]), 16: (10, 15, 25, 26, [1, Quantity(value=3.14004608730288, unit=radian), Quantity(value=1200.0, unit=kilocalorie/mole), 12]), 17: (10, 8, 6, 7, [1, Quantity(value=1.047411640674822, unit=radian), Quantity(value=1200.0, unit=kilocalorie/mole), 1])}\n",
      "INFO:geometry:neglected angle terms include []\n",
      "INFO:geometry:log probability choice of torsions and atom order: -22.730815681028417\n",
      "INFO:geometry:creating platform, integrators, and contexts; setting growth parameter\n"
     ]
    },
    {
     "name": "stdout",
     "output_type": "stream",
     "text": [
      "generating geometry engine\n",
      "making geometry proposal from ALA to TYR\n",
      "conducting subsequent work with the following platform: CUDA\n"
     ]
    },
    {
     "name": "stderr",
     "output_type": "stream",
     "text": [
      "INFO:geometry:setting atoms_with_positions context new positions\n"
     ]
    },
    {
     "name": "stdout",
     "output_type": "stream",
     "text": [
      "conducting subsequent work with the following platform: CUDA\n"
     ]
    },
    {
     "name": "stderr",
     "output_type": "stream",
     "text": [
      "INFO:geometry:There are 15 new atoms\n",
      "INFO:geometry:\treduced angle potential = 0.08529052117921833.\n",
      "INFO:geometry:\treduced angle potential = 0.09807410094894527.\n",
      "INFO:geometry:\treduced angle potential = 0.2412011620972029.\n",
      "INFO:geometry:\treduced angle potential = 0.10532259576832456.\n",
      "INFO:geometry:\treduced angle potential = 2.0962938835995546.\n",
      "INFO:geometry:\treduced angle potential = 0.12278481451092867.\n",
      "INFO:geometry:\treduced angle potential = 2.977671882327864e-06.\n",
      "INFO:geometry:\treduced angle potential = 0.19719332685834068.\n",
      "INFO:geometry:\treduced angle potential = 0.0004133401554147058.\n",
      "INFO:geometry:\treduced angle potential = 0.1806536312564655.\n",
      "INFO:geometry:\treduced angle potential = 1.4263924294356027.\n",
      "INFO:geometry:\treduced angle potential = 1.6439428904187712.\n",
      "INFO:geometry:\treduced angle potential = 0.021453551341396176.\n",
      "INFO:geometry:\treduced angle potential = 0.39757350368422306.\n",
      "INFO:geometry:\treduced angle potential = 0.41585757609452306.\n",
      "INFO:geometry:\tbeginning construction of no_nonbonded final system...\n",
      "INFO:geometry:\tinitial no-nonbonded final system forces ['HarmonicBondForce', 'HarmonicAngleForce', 'PeriodicTorsionForce', 'NonbondedForce']\n",
      "INFO:geometry:\tfinal no-nonbonded final system forces dict_keys(['HarmonicBondForce', 'HarmonicAngleForce', 'PeriodicTorsionForce', 'NonbondedForce'])\n",
      "INFO:geometry:\tthere are 17 bond forces in the no-nonbonded final system\n",
      "INFO:geometry:\tthere are 55 angle forces in the no-nonbonded final system\n",
      "INFO:geometry:\tthere are 86 torsion forces in the no-nonbonded final system\n",
      "INFO:geometry:forward final system defined with 0 neglected angles.\n"
     ]
    },
    {
     "name": "stdout",
     "output_type": "stream",
     "text": [
      "conducting subsequent work with the following platform: CUDA\n",
      "conducting subsequent work with the following platform: CUDA\n"
     ]
    },
    {
     "name": "stderr",
     "output_type": "stream",
     "text": [
      "INFO:geometry:total reduced potential before atom placement: 9.11648114171204\n"
     ]
    },
    {
     "name": "stdout",
     "output_type": "stream",
     "text": [
      "conducting subsequent work with the following platform: CUDA\n",
      "conducting subsequent work with the following platform: CUDA\n",
      "conducting subsequent work with the following platform: CUDA\n"
     ]
    },
    {
     "name": "stderr",
     "output_type": "stream",
     "text": [
      "INFO:geometry:total reduced energy added from growth system: 36.74753573195212\n",
      "INFO:geometry:final reduced energy 123.4614259393466\n",
      "INFO:geometry:sum of energies: 45.864016873664156\n",
      "INFO:geometry:magnitude of difference in the energies: 77.59740906568243\n",
      "INFO:geometry:Final logp_proposal: 122.84364842423892\n"
     ]
    },
    {
     "name": "stdout",
     "output_type": "stream",
     "text": [
      "added energy components: [('CustomBondForce', 2.4220590031333447), ('CustomAngleForce', 18.501733134238528), ('CustomTorsionForce', 13.941629434338022), ('CustomBondForce', 1.8821141602422287)]\n"
     ]
    },
    {
     "name": "stderr",
     "output_type": "stream",
     "text": [
      "INFO:geometry:logp_reverse: performing reverse proposal\n",
      "INFO:geometry:logp_reverse: unique new atoms detected; proceeding to _logp_propose...\n",
      "INFO:geometry:Conducting forward proposal...\n",
      "INFO:geometry:Computing proposal order with NetworkX...\n",
      "INFO:geometry:number of atoms to be placed: 4\n",
      "INFO:geometry:Atom index proposal order is [10, 13, 11, 12]\n",
      "INFO:geometry:omitted_bonds: []\n",
      "INFO:geometry:direction of proposal is reverse; creating atoms_with_positions from old system/topology\n",
      "INFO:geometry:creating growth system...\n",
      "INFO:geometry:\tcreating bond force...\n",
      "INFO:geometry:\tthere are 9 bonds in reference force.\n",
      "INFO:geometry:\tcreating angle force...\n",
      "INFO:geometry:\tthere are 36 angles in reference force.\n",
      "INFO:geometry:\tcreating torsion force...\n",
      "INFO:geometry:\tcreating extra torsions force...\n",
      "INFO:geometry:\tthere are 42 torsions in reference force.\n",
      "INFO:geometry:\tcreating nonbonded force...\n",
      "INFO:geometry:\t\tgrabbing reference nonbonded method, cutoff, switching function, switching distance...\n",
      "INFO:geometry:\t\tcreating nonbonded exception force (i.e. custom bond for 1,4s)...\n",
      "INFO:geometry:\t\tlooping through exceptions calculating growth indices, and adding appropriate interactions to custom bond force.\n",
      "INFO:geometry:\t\tthere are 98 in the reference Nonbonded force\n",
      "WARNING:geometry:\t\t\t\t\tchiral atom <Atom 8 (CA) of chain 0 residue 1 (ALA)> with neighbors [<Atom 9 (HA) of chain 0 residue 1 (ALA)>, <Atom 10 (CB) of chain 0 residue 1 (ALA)>, <Atom 14 (C) of chain 0 residue 1 (ALA)>, <Atom 6 (N) of chain 0 residue 1 (ALA)>] is surrounded by 3 core neighbors.  omitting chirality bias torsion\n",
      "INFO:geometry:Neglected angle terms : []\n",
      "INFO:geometry:omitted_growth_terms: {'bonds': [], 'angles': [], 'torsions': [], '1,4s': []}\n",
      "INFO:geometry:extra torsions: {0: (7, 6, 8, 10, [1, Quantity(value=0.9799661941737812, unit=radian), Quantity(value=1200.0, unit=kilocalorie/mole), 1]), 1: (6, 8, 10, 11, [1, Quantity(value=2.105358864604291, unit=radian), Quantity(value=1200.0, unit=kilocalorie/mole), 3]), 2: (6, 8, 10, 12, [1, Quantity(value=-2.0823006129211796, unit=radian), Quantity(value=1200.0, unit=kilocalorie/mole), 4]), 3: (6, 8, 10, 13, [1, Quantity(value=0.018582237407944735, unit=radian), Quantity(value=1200.0, unit=kilocalorie/mole), 2]), 4: (14, 8, 10, 11, [1, Quantity(value=-0.036945135932107576, unit=radian), Quantity(value=1200.0, unit=kilocalorie/mole), 3]), 5: (14, 8, 10, 12, [1, Quantity(value=2.0585806937220097, unit=radian), Quantity(value=1200.0, unit=kilocalorie/mole), 4]), 6: (14, 8, 10, 13, [1, Quantity(value=-2.1237217631284597, unit=radian), Quantity(value=1200.0, unit=kilocalorie/mole), 2]), 7: (9, 8, 10, 11, [1, Quantity(value=-2.119603470065817, unit=radian), Quantity(value=1200.0, unit=kilocalorie/mole), 3]), 8: (9, 8, 10, 12, [1, Quantity(value=-0.024077640411697132, unit=radian), Quantity(value=1200.0, unit=kilocalorie/mole), 4]), 9: (9, 8, 10, 13, [1, Quantity(value=2.0768052099174152, unit=radian), Quantity(value=1200.0, unit=kilocalorie/mole), 2])}\n",
      "INFO:geometry:neglected angle terms include []\n",
      "INFO:geometry:log probability choice of torsions and atom order: -5.78074351579233\n",
      "INFO:geometry:creating platform, integrators, and contexts; setting growth parameter\n"
     ]
    },
    {
     "name": "stdout",
     "output_type": "stream",
     "text": [
      "conducting subsequent work with the following platform: CUDA\n"
     ]
    },
    {
     "name": "stderr",
     "output_type": "stream",
     "text": [
      "INFO:geometry:setting atoms_with_positions context old positions\n"
     ]
    },
    {
     "name": "stdout",
     "output_type": "stream",
     "text": [
      "conducting subsequent work with the following platform: CUDA\n"
     ]
    },
    {
     "name": "stderr",
     "output_type": "stream",
     "text": [
      "INFO:geometry:There are 4 new atoms\n",
      "INFO:geometry:\treduced angle potential = 0.08012165173241892.\n",
      "INFO:geometry:\treduced angle potential = 7.39096069988752e-11.\n",
      "INFO:geometry:\treduced angle potential = 1.2915588460963948e-10.\n",
      "INFO:geometry:\treduced angle potential = 3.205832446488702e-13.\n",
      "INFO:geometry:\tbeginning construction of no_nonbonded final system...\n",
      "INFO:geometry:\tinitial no-nonbonded final system forces ['HarmonicBondForce', 'HarmonicAngleForce', 'PeriodicTorsionForce', 'NonbondedForce']\n",
      "INFO:geometry:\tfinal no-nonbonded final system forces dict_keys(['HarmonicBondForce', 'HarmonicAngleForce', 'PeriodicTorsionForce', 'NonbondedForce'])\n",
      "INFO:geometry:\tthere are 9 bond forces in the no-nonbonded final system\n",
      "INFO:geometry:\tthere are 36 angle forces in the no-nonbonded final system\n",
      "INFO:geometry:\tthere are 42 torsion forces in the no-nonbonded final system\n",
      "INFO:geometry:reverse final system defined with 0 neglected angles.\n"
     ]
    },
    {
     "name": "stdout",
     "output_type": "stream",
     "text": [
      "conducting subsequent work with the following platform: CUDA\n",
      "conducting subsequent work with the following platform: CUDA\n"
     ]
    },
    {
     "name": "stderr",
     "output_type": "stream",
     "text": [
      "INFO:geometry:total reduced potential before atom placement: 9.116481141712038\n"
     ]
    },
    {
     "name": "stdout",
     "output_type": "stream",
     "text": [
      "conducting subsequent work with the following platform: CUDA\n",
      "conducting subsequent work with the following platform: CUDA\n",
      "conducting subsequent work with the following platform: CUDA\n"
     ]
    },
    {
     "name": "stderr",
     "output_type": "stream",
     "text": [
      "INFO:geometry:total reduced energy added from growth system: 20.67298667212561\n",
      "INFO:geometry:final reduced energy 29.78946596595153\n",
      "INFO:geometry:sum of energies: 29.789467813837646\n",
      "INFO:geometry:magnitude of difference in the energies: 1.8478861179005435e-06\n",
      "INFO:geometry:Final logp_proposal: -26942.869531381337\n"
     ]
    },
    {
     "name": "stdout",
     "output_type": "stream",
     "text": [
      "added energy components: [('CustomBondForce', 0.0005202039273265048), ('CustomAngleForce', 0.45111977562481365), ('CustomTorsionForce', 7.25046332853325), ('CustomBondForce', 12.970883364040219)]\n"
     ]
    },
    {
     "name": "stderr",
     "output_type": "stream",
     "text": [
      "INFO:relative:*** Generating vanilla HybridTopologyFactory ***\n",
      "INFO:relative:Beginning nonbonded method, total particle, barostat, and exceptions retrieval...\n",
      "INFO:relative:Flattening torsions of unique new/old at lambda = 0/1\n",
      "INFO:relative:Flattening exceptions of unique new/old at lambda = 0/1\n",
      "INFO:relative:Old system forces: dict_keys(['HarmonicBondForce', 'HarmonicAngleForce', 'PeriodicTorsionForce', 'NonbondedForce'])\n",
      "INFO:relative:New system forces: dict_keys(['HarmonicBondForce', 'HarmonicAngleForce', 'PeriodicTorsionForce', 'NonbondedForce'])\n",
      "INFO:relative:No unknown forces.\n",
      "INFO:relative:Nonbonded method to be used (i.e. from old system): 0\n",
      "INFO:relative:Adding and mapping old atoms to hybrid system...\n",
      "INFO:relative:Adding and mapping new atoms to hybrid system...\n",
      "INFO:relative:No MonteCarloBarostat added.\n",
      "INFO:relative:getDefaultPeriodicBoxVectors added to hybrid: [Quantity(value=Vec3(x=2.0, y=0.0, z=0.0), unit=nanometer), Quantity(value=Vec3(x=0.0, y=2.0, z=0.0), unit=nanometer), Quantity(value=Vec3(x=0.0, y=0.0, z=2.0), unit=nanometer)]\n",
      "INFO:relative:Determined atom classes.\n",
      "INFO:relative:Generating old system exceptions dict...\n",
      "INFO:relative:Generating new system exceptions dict...\n",
      "INFO:relative:Handling constraints...\n",
      "INFO:relative:Handling virtual sites...\n",
      "INFO:relative:\t_handle_virtual_sites: numVirtualSites: 0\n",
      "INFO:relative:Adding bond force terms...\n",
      "INFO:relative:Adding angle force terms...\n",
      "INFO:relative:Adding torsion force terms...\n",
      "INFO:relative:Adding nonbonded force terms...\n",
      "INFO:relative:\t_add_nonbonded_force_terms: <openmm.openmm.NonbondedForce; proxy of <Swig Object of type 'OpenMM::NonbondedForce *' at 0x2b276bb11540> > added to hybrid system\n",
      "INFO:relative:\t_add_nonbonded_force_terms: nonbonded_method is NoCutoff\n",
      "INFO:relative:\t_add_nonbonded_force_terms: 0 added to standard nonbonded force\n",
      "INFO:relative:\t_add_nonbonded_force_terms: 0 added to sterics_custom_nonbonded force\n",
      "INFO:relative:\t_add_nonbonded_force_terms: <openmm.openmm.CustomNonbondedForce; proxy of <Swig Object of type 'OpenMM::CustomNonbondedForce *' at 0x2b276bb11510> > added to hybrid system\n",
      "INFO:relative:Handling harmonic bonds...\n",
      "INFO:relative:\thandle_harmonic_bonds: looping through old_system to add relevant terms...\n",
      "INFO:relative:\thandle_harmonic_bonds: looping through new_system to add relevant terms...\n",
      "INFO:relative:Handling harmonic angles...\n",
      "INFO:relative:\thandle_harmonic_angles: looping through old_system to add relevant terms...\n",
      "INFO:relative:\thandle_harmonic_angles: looping through new_system to add relevant terms...\n",
      "INFO:relative:Handling torsion forces...\n",
      "INFO:relative:\thandle_periodic_torsion_forces: looping through old_system to add relevant terms...\n",
      "INFO:relative:\thandle_periodic_torsion_forces: looping through new_system to add relevant terms...\n",
      "INFO:relative:Handling nonbonded forces...\n",
      "INFO:relative:\thandle_nonbonded: looping through all particles in hybrid...\n",
      "INFO:relative:\thandle_nonbonded: Handling Interaction Groups...\n",
      "INFO:relative:\thandle_nonbonded: Handling Hybrid Exceptions...\n",
      "INFO:relative:\thandle_nonbonded: Handling Original Exceptions...\n",
      "INFO:relative:Handling unique_new/old interaction exceptions...\n",
      "INFO:relative:There are old or new system exceptions...proceeding.\n"
     ]
    }
   ],
   "source": [
    "htf = generate_dipeptide_top_pos_sys(atp.topology, 'TYR', atp.system, atp.positions, system_generator, validate_energy_bookkeeping=False, conduct_htf_prop = True, flatten_exceptions=True, flatten_torsions=True, validate_endstate_energy=False)"
   ]
  },
  {
   "cell_type": "code",
   "execution_count": 62,
   "id": "db07cbbd",
   "metadata": {},
   "outputs": [],
   "source": [
    "app.PDBFile.writeFile(htf._topology_proposal.new_topology, htf.new_positions(htf.hybrid_positions), open(\"tyr.pdb\", \"w\"))"
   ]
  },
  {
   "cell_type": "markdown",
   "id": "3b21f87f",
   "metadata": {},
   "source": [
    "# Generate htf allowing for multiple geometry proposals"
   ]
  },
  {
   "cell_type": "code",
   "execution_count": 11,
   "id": "bdf5661d",
   "metadata": {},
   "outputs": [],
   "source": [
    "from perses.app.relative_point_mutation_setup import PointMutationExecutor\n",
    "import os\n",
    "import pickle\n",
    "from openmmtools.integrators import LangevinIntegrator \n",
    "\n"
   ]
  },
  {
   "cell_type": "code",
   "execution_count": 2,
   "id": "f736b72a",
   "metadata": {},
   "outputs": [],
   "source": [
    "from __future__ import absolute_import\n",
    "\n",
    "from perses.utils.openeye import createOEMolFromSDF, extractPositionsFromOEMol\n",
    "from perses.annihilation.relative import HybridTopologyFactory, RepartitionedHybridTopologyFactory\n",
    "from perses.rjmc.topology_proposal import PointMutationEngine\n",
    "from perses.rjmc.geometry import FFAllAngleGeometryEngine\n",
    "\n",
    "import simtk.openmm as openmm\n",
    "import simtk.openmm.app as app\n",
    "import simtk.unit as unit\n",
    "import numpy as np\n",
    "from openmoltools import forcefield_generators\n",
    "import mdtraj as md\n",
    "from openmmtools.constants import kB\n",
    "from perses.tests.utils import validate_endstate_energies\n",
    "from openff.toolkit.topology import Molecule\n",
    "from openmmforcefields.generators import SystemGenerator\n",
    "\n",
    "ENERGY_THRESHOLD = 1e-2\n",
    "temperature = 300 * unit.kelvin\n",
    "kT = kB * temperature\n",
    "beta = 1.0/kT\n",
    "ring_amino_acids = ['TYR', 'PHE', 'TRP', 'PRO', 'HIS']\n",
    "\n",
    "# Set up logger\n",
    "import logging\n",
    "_logger = logging.getLogger(\"setup\")\n",
    "_logger.setLevel(logging.INFO)\n",
    "\n"
   ]
  },
  {
   "cell_type": "code",
   "execution_count": 5,
   "id": "77f1e353",
   "metadata": {},
   "outputs": [],
   "source": [
    "outdir = \"/data/chodera/zhangi/perses_benchmark/neq/14/113/\"\n",
    "with open(\"/data/chodera/zhangi/perses_benchmark/neq/14/113/113_complex.pickle\", \"rb\") as f:\n",
    "    htf = pickle.load(f)\n",
    "    topology_proposal = htf._topology_proposal\n",
    "    "
   ]
  },
  {
   "cell_type": "code",
   "execution_count": 7,
   "id": "b5844d5c",
   "metadata": {},
   "outputs": [],
   "source": []
  },
  {
   "cell_type": "code",
   "execution_count": 12,
   "id": "a7722197",
   "metadata": {},
   "outputs": [
    {
     "name": "stderr",
     "output_type": "stream",
     "text": [
      "INFO:geometry:propose: performing forward proposal\n",
      "INFO:geometry:propose: unique new atoms detected; proceeding to _logp_propose...\n",
      "INFO:geometry:Conducting forward proposal...\n",
      "INFO:geometry:Computing proposal order with NetworkX...\n",
      "INFO:geometry:number of atoms to be placed: 15\n",
      "INFO:geometry:Atom index proposal order is [2611, 2614, 2615, 2617, 2624, 2619, 2622, 2620, 2612, 2623, 2625, 2618, 2616, 2613, 2621]\n",
      "INFO:geometry:omitted_bonds: [(2622, 2624)]\n",
      "INFO:geometry:direction of proposal is forward; creating atoms_with_positions and new positions from old system/topology...\n",
      "INFO:geometry:creating growth system...\n",
      "INFO:geometry:\tcreating bond force...\n",
      "INFO:geometry:\tthere are 8439 bonds in reference force.\n",
      "INFO:geometry:\tcreating angle force...\n",
      "INFO:geometry:\tthere are 29350 angles in reference force.\n",
      "INFO:geometry:\tcreating torsion force...\n",
      "INFO:geometry:\tcreating extra torsions force...\n",
      "INFO:geometry:\tthere are 55146 torsions in reference force.\n",
      "INFO:geometry:\tcreating nonbonded force...\n",
      "INFO:geometry:\t\tgrabbing reference nonbonded method, cutoff, switching function, switching distance...\n",
      "INFO:geometry:\t\tcreating nonbonded exception force (i.e. custom bond for 1,4s)...\n",
      "INFO:geometry:\t\tlooping through exceptions calculating growth indices, and adding appropriate interactions to custom bond force.\n",
      "INFO:geometry:\t\tthere are 417102 in the reference Nonbonded force\n",
      "INFO:geometry:Neglected angle terms : []\n",
      "INFO:geometry:omitted_growth_terms: {'bonds': [(2622, 2624)], 'angles': [(2614, 2624, 2622), (2619, 2622, 2624), (2622, 2624, 2625), (2623, 2622, 2624)], 'torsions': [(2611, 2614, 2624, 2622), (2614, 2624, 2622, 2619), (2614, 2624, 2622, 2623), (2615, 2614, 2624, 2622), (2617, 2619, 2622, 2624), (2619, 2622, 2624, 2625), (2620, 2619, 2622, 2624), (2623, 2622, 2624, 2625), (2619, 2624, 2622, 2623), (2614, 2622, 2624, 2625)], '1,4s': [(2614, 2619), (2611, 2622), (2615, 2622), (2614, 2623), (2617, 2624), (2620, 2624), (2619, 2625), (2623, 2625)]}\n",
      "INFO:geometry:extra torsions: {0: (2621, 2620, 2619, 2617, [1, Quantity(value=-0.002870001521861454, unit=radian), Quantity(value=1200.0, unit=kilocalorie/mole), 15]), 1: (2621, 2620, 2619, 2622, [1, Quantity(value=3.141243637296504, unit=radian), Quantity(value=1200.0, unit=kilocalorie/mole), 15]), 2: (2618, 2617, 2619, 2620, [1, Quantity(value=3.1393768365632813, unit=radian), Quantity(value=1200.0, unit=kilocalorie/mole), 12]), 3: (2618, 2617, 2619, 2622, [1, Quantity(value=-0.004738876670822734, unit=radian), Quantity(value=1200.0, unit=kilocalorie/mole), 12]), 4: (2615, 2617, 2619, 2620, [1, Quantity(value=0.0022213748613295614, unit=radian), Quantity(value=1200.0, unit=kilocalorie/mole), 8]), 5: (2615, 2617, 2619, 2622, [1, Quantity(value=3.1412909688070316, unit=radian), Quantity(value=1200.0, unit=kilocalorie/mole), 7]), 6: (2618, 2617, 2615, 2616, [1, Quantity(value=3.139771005499866, unit=radian), Quantity(value=1200.0, unit=kilocalorie/mole), 13]), 7: (2618, 2617, 2615, 2614, [1, Quantity(value=0.0069177728493503565, unit=radian), Quantity(value=1200.0, unit=kilocalorie/mole), 12]), 8: (2619, 2617, 2615, 2616, [1, Quantity(value=-0.0062808214457872324, unit=radian), Quantity(value=1200.0, unit=kilocalorie/mole), 13]), 9: (2619, 2617, 2615, 2614, [1, Quantity(value=-3.1391340540962216, unit=radian), Quantity(value=1200.0, unit=kilocalorie/mole), 6]), 10: (2620, 2619, 2622, 2623, [1, Quantity(value=-3.139177180078741, unit=radian), Quantity(value=1200.0, unit=kilocalorie/mole), 10]), 11: (2617, 2619, 2622, 2623, [1, Quantity(value=0.004943742033914678, unit=radian), Quantity(value=1200.0, unit=kilocalorie/mole), 10]), 12: (2617, 2615, 2614, 2624, [1, Quantity(value=3.1373539745559547, unit=radian), Quantity(value=1200.0, unit=kilocalorie/mole), 5]), 13: (2617, 2615, 2614, 2611, [1, Quantity(value=-0.012555513663626172, unit=radian), Quantity(value=1200.0, unit=kilocalorie/mole), 4]), 14: (2616, 2615, 2614, 2624, [1, Quantity(value=0.004577035070323365, unit=radian), Quantity(value=1200.0, unit=kilocalorie/mole), 13]), 15: (2616, 2615, 2614, 2611, [1, Quantity(value=3.137852854030348, unit=radian), Quantity(value=1200.0, unit=kilocalorie/mole), 13]), 16: (2615, 2614, 2624, 2625, [1, Quantity(value=-0.009793556643590051, unit=radian), Quantity(value=1200.0, unit=kilocalorie/mole), 11]), 17: (2611, 2614, 2624, 2625, [1, Quantity(value=3.14004608730288, unit=radian), Quantity(value=1200.0, unit=kilocalorie/mole), 11]), 18: (2611, 2607, 2605, 2606, [1, Quantity(value=1.047411640674822, unit=radian), Quantity(value=1200.0, unit=kilocalorie/mole), 1])}\n",
      "INFO:geometry:neglected angle terms include []\n",
      "INFO:geometry:log probability choice of torsions and atom order: -23.31918088224982\n",
      "INFO:geometry:creating platform, integrators, and contexts; setting growth parameter\n"
     ]
    },
    {
     "name": "stdout",
     "output_type": "stream",
     "text": [
      "conducting subsequent work with the following platform: CUDA\n"
     ]
    },
    {
     "name": "stderr",
     "output_type": "stream",
     "text": [
      "INFO:geometry:setting atoms_with_positions context new positions\n"
     ]
    },
    {
     "name": "stdout",
     "output_type": "stream",
     "text": [
      "conducting subsequent work with the following platform: CUDA\n"
     ]
    },
    {
     "name": "stderr",
     "output_type": "stream",
     "text": [
      "INFO:geometry:There are 15 new atoms\n",
      "INFO:geometry:\treduced angle potential = 0.2490447547103794.\n",
      "INFO:geometry:\treduced angle potential = 0.6304372383699829.\n",
      "INFO:geometry:\treduced angle potential = 0.13437060169044188.\n",
      "INFO:geometry:\treduced angle potential = 0.006128155223984333.\n",
      "INFO:geometry:\treduced angle potential = 0.4036751228305759.\n",
      "INFO:geometry:\treduced angle potential = 0.029156827278966332.\n",
      "INFO:geometry:\treduced angle potential = 0.06516142210056118.\n",
      "INFO:geometry:\treduced angle potential = 0.035813503118536885.\n",
      "INFO:geometry:\treduced angle potential = 8.545518562010487e-05.\n",
      "INFO:geometry:\treduced angle potential = 0.2943690178177199.\n",
      "INFO:geometry:\treduced angle potential = 0.0015900631477493358.\n",
      "INFO:geometry:\treduced angle potential = 1.1300828360503914.\n",
      "INFO:geometry:\treduced angle potential = 0.0982284127309357.\n",
      "INFO:geometry:\treduced angle potential = 0.10762167458574802.\n",
      "INFO:geometry:\treduced angle potential = 0.005219459092383839.\n",
      "INFO:geometry:\tbeginning construction of no_nonbonded final system...\n",
      "INFO:geometry:\tinitial no-nonbonded final system forces ['HarmonicBondForce', 'HarmonicAngleForce', 'PeriodicTorsionForce', 'NonbondedForce', 'MonteCarloBarostat']\n",
      "INFO:geometry:\tfinal no-nonbonded final system forces dict_keys(['HarmonicBondForce', 'HarmonicAngleForce', 'PeriodicTorsionForce', 'NonbondedForce'])\n",
      "INFO:geometry:\tthere are 8439 bond forces in the no-nonbonded final system\n",
      "INFO:geometry:\tthere are 29350 angle forces in the no-nonbonded final system\n",
      "INFO:geometry:\tthere are 55146 torsion forces in the no-nonbonded final system\n",
      "INFO:geometry:forward final system defined with 0 neglected angles.\n"
     ]
    },
    {
     "name": "stdout",
     "output_type": "stream",
     "text": [
      "conducting subsequent work with the following platform: CUDA\n",
      "conducting subsequent work with the following platform: CUDA\n"
     ]
    },
    {
     "name": "stderr",
     "output_type": "stream",
     "text": [
      "INFO:geometry:total reduced potential before atom placement: 23419.390629614598\n"
     ]
    },
    {
     "name": "stdout",
     "output_type": "stream",
     "text": [
      "conducting subsequent work with the following platform: CUDA\n",
      "conducting subsequent work with the following platform: CUDA\n",
      "conducting subsequent work with the following platform: CUDA\n"
     ]
    },
    {
     "name": "stderr",
     "output_type": "stream",
     "text": [
      "INFO:geometry:total reduced energy added from growth system: 398.5803222533839\n",
      "INFO:geometry:final reduced energy 23877.241621105954\n",
      "INFO:geometry:sum of energies: 23817.97095186798\n",
      "INFO:geometry:magnitude of difference in the energies: 59.27066923797179\n",
      "INFO:geometry:Final logp_proposal: 129.06121582412942\n"
     ]
    },
    {
     "name": "stdout",
     "output_type": "stream",
     "text": [
      "added energy components: [('CustomBondForce', 5.568894703537447), ('CustomAngleForce', 314.4292712368908), ('CustomTorsionForce', 13.446069738437949), ('CustomBondForce', 65.13608657451762)]\n"
     ]
    },
    {
     "name": "stderr",
     "output_type": "stream",
     "text": [
      "INFO:geometry:logp_reverse: performing reverse proposal\n",
      "INFO:geometry:logp_reverse: unique new atoms detected; proceeding to _logp_propose...\n",
      "INFO:geometry:Conducting forward proposal...\n",
      "INFO:geometry:Computing proposal order with NetworkX...\n",
      "INFO:geometry:number of atoms to be placed: 8\n",
      "INFO:geometry:Atom index proposal order is [2611, 2614, 2615, 2618, 2613, 2612, 2616, 2617]\n",
      "INFO:geometry:omitted_bonds: []\n",
      "INFO:geometry:direction of proposal is reverse; creating atoms_with_positions from old system/topology\n",
      "INFO:geometry:creating growth system...\n",
      "INFO:geometry:\tcreating bond force...\n",
      "INFO:geometry:\tthere are 8434 bonds in reference force.\n",
      "INFO:geometry:\tcreating angle force...\n",
      "INFO:geometry:\tthere are 29337 angles in reference force.\n",
      "INFO:geometry:\tcreating torsion force...\n",
      "INFO:geometry:\tcreating extra torsions force...\n",
      "INFO:geometry:\tthere are 55124 torsions in reference force.\n",
      "INFO:geometry:\tcreating nonbonded force...\n",
      "INFO:geometry:\t\tgrabbing reference nonbonded method, cutoff, switching function, switching distance...\n",
      "INFO:geometry:\t\tcreating nonbonded exception force (i.e. custom bond for 1,4s)...\n",
      "INFO:geometry:\t\tlooping through exceptions calculating growth indices, and adding appropriate interactions to custom bond force.\n",
      "INFO:geometry:\t\tthere are 417062 in the reference Nonbonded force\n",
      "INFO:geometry:Neglected angle terms : []\n",
      "INFO:geometry:omitted_growth_terms: {'bonds': [], 'angles': [], 'torsions': [], '1,4s': []}\n",
      "INFO:geometry:extra torsions: {0: (2606, 2605, 2607, 2611, [1, Quantity(value=1.0033542268906723, unit=radian), Quantity(value=1200.0, unit=kilocalorie/mole), 1]), 1: (2617, 2615, 2614, 2611, [1, Quantity(value=-3.0613628096248338, unit=radian), Quantity(value=1200.0, unit=kilocalorie/mole), 8]), 2: (2617, 2615, 2614, 2618, [1, Quantity(value=0.1006962644006828, unit=radian), Quantity(value=1200.0, unit=kilocalorie/mole), 8]), 3: (2616, 2615, 2614, 2611, [1, Quantity(value=-0.163557181151619, unit=radian), Quantity(value=1200.0, unit=kilocalorie/mole), 7]), 4: (2616, 2615, 2614, 2618, [1, Quantity(value=2.998501892873897, unit=radian), Quantity(value=1200.0, unit=kilocalorie/mole), 7])}\n",
      "INFO:geometry:neglected angle terms include []\n",
      "INFO:geometry:log probability choice of torsions and atom order: -9.400630098419315\n",
      "INFO:geometry:creating platform, integrators, and contexts; setting growth parameter\n"
     ]
    },
    {
     "name": "stdout",
     "output_type": "stream",
     "text": [
      "conducting subsequent work with the following platform: CUDA\n"
     ]
    },
    {
     "name": "stderr",
     "output_type": "stream",
     "text": [
      "INFO:geometry:setting atoms_with_positions context old positions\n"
     ]
    },
    {
     "name": "stdout",
     "output_type": "stream",
     "text": [
      "conducting subsequent work with the following platform: CUDA\n"
     ]
    },
    {
     "name": "stderr",
     "output_type": "stream",
     "text": [
      "INFO:geometry:There are 8 new atoms\n",
      "INFO:geometry:\treduced angle potential = 0.006118641034753415.\n",
      "INFO:geometry:\treduced angle potential = 0.5604275396387628.\n",
      "INFO:geometry:\treduced angle potential = 0.167841485694284.\n",
      "INFO:geometry:\treduced angle potential = 0.07650810571585355.\n",
      "INFO:geometry:\treduced angle potential = 0.00196711090900495.\n",
      "INFO:geometry:\treduced angle potential = 0.05080755139859599.\n",
      "INFO:geometry:\treduced angle potential = 1.3306562413993697.\n",
      "INFO:geometry:\treduced angle potential = 0.17311349100355702.\n",
      "INFO:geometry:\tbeginning construction of no_nonbonded final system...\n",
      "INFO:geometry:\tinitial no-nonbonded final system forces ['HarmonicBondForce', 'HarmonicAngleForce', 'PeriodicTorsionForce', 'NonbondedForce', 'MonteCarloBarostat']\n",
      "INFO:geometry:\tfinal no-nonbonded final system forces dict_keys(['HarmonicBondForce', 'HarmonicAngleForce', 'PeriodicTorsionForce', 'NonbondedForce'])\n",
      "INFO:geometry:\tthere are 8434 bond forces in the no-nonbonded final system\n",
      "INFO:geometry:\tthere are 29337 angle forces in the no-nonbonded final system\n",
      "INFO:geometry:\tthere are 55124 torsion forces in the no-nonbonded final system\n",
      "INFO:geometry:reverse final system defined with 0 neglected angles.\n"
     ]
    },
    {
     "name": "stdout",
     "output_type": "stream",
     "text": [
      "conducting subsequent work with the following platform: CUDA\n",
      "conducting subsequent work with the following platform: CUDA\n"
     ]
    },
    {
     "name": "stderr",
     "output_type": "stream",
     "text": [
      "INFO:geometry:total reduced potential before atom placement: 23419.390629614598\n"
     ]
    },
    {
     "name": "stdout",
     "output_type": "stream",
     "text": [
      "conducting subsequent work with the following platform: CUDA\n",
      "conducting subsequent work with the following platform: CUDA\n",
      "conducting subsequent work with the following platform: CUDA\n"
     ]
    },
    {
     "name": "stderr",
     "output_type": "stream",
     "text": [
      "INFO:geometry:total reduced energy added from growth system: -78.52971601361988\n",
      "INFO:geometry:final reduced energy 23340.860902628185\n",
      "INFO:geometry:sum of energies: 23340.860913600976\n",
      "INFO:geometry:magnitude of difference in the energies: 1.097279327666456e-05\n",
      "INFO:geometry:Final logp_proposal: -6190.520629061203\n"
     ]
    },
    {
     "name": "stdout",
     "output_type": "stream",
     "text": [
      "added energy components: [('CustomBondForce', 1.6573143691887435), ('CustomAngleForce', 3.5180754491855795), ('CustomTorsionForce', 38.9781972120978), ('CustomBondForce', -122.68330304409201)]\n",
      "POTENTIAL ENERGY:  409244109.04521334 kJ/mol\n"
     ]
    },
    {
     "name": "stderr",
     "output_type": "stream",
     "text": [
      "INFO:geometry:propose: performing forward proposal\n",
      "INFO:geometry:propose: unique new atoms detected; proceeding to _logp_propose...\n",
      "INFO:geometry:Conducting forward proposal...\n",
      "INFO:geometry:Computing proposal order with NetworkX...\n",
      "INFO:geometry:number of atoms to be placed: 15\n",
      "INFO:geometry:Atom index proposal order is [2611, 2614, 2624, 2615, 2617, 2622, 2619, 2620, 2613, 2623, 2612, 2625, 2618, 2621, 2616]\n",
      "INFO:geometry:omitted_bonds: [(2619, 2622)]\n",
      "INFO:geometry:direction of proposal is forward; creating atoms_with_positions and new positions from old system/topology...\n",
      "INFO:geometry:creating growth system...\n",
      "INFO:geometry:\tcreating bond force...\n",
      "INFO:geometry:\tthere are 8439 bonds in reference force.\n",
      "INFO:geometry:\tcreating angle force...\n",
      "INFO:geometry:\tthere are 29350 angles in reference force.\n",
      "INFO:geometry:\tcreating torsion force...\n",
      "INFO:geometry:\tcreating extra torsions force...\n",
      "INFO:geometry:\tthere are 55146 torsions in reference force.\n",
      "INFO:geometry:\tcreating nonbonded force...\n",
      "INFO:geometry:\t\tgrabbing reference nonbonded method, cutoff, switching function, switching distance...\n",
      "INFO:geometry:\t\tcreating nonbonded exception force (i.e. custom bond for 1,4s)...\n",
      "INFO:geometry:\t\tlooping through exceptions calculating growth indices, and adding appropriate interactions to custom bond force.\n",
      "INFO:geometry:\t\tthere are 417102 in the reference Nonbonded force\n",
      "INFO:geometry:Neglected angle terms : []\n",
      "INFO:geometry:omitted_growth_terms: {'bonds': [(2619, 2622)], 'angles': [(2617, 2619, 2622), (2619, 2622, 2623), (2619, 2622, 2624), (2620, 2619, 2622)], 'torsions': [(2614, 2624, 2622, 2619), (2615, 2617, 2619, 2622), (2617, 2619, 2622, 2623), (2617, 2619, 2622, 2624), (2618, 2617, 2619, 2622), (2619, 2622, 2624, 2625), (2620, 2619, 2622, 2623), (2620, 2619, 2622, 2624), (2621, 2620, 2619, 2622), (2621, 2620, 2619, 2622), (2617, 2622, 2619, 2620)], '1,4s': [(2614, 2619), (2615, 2622), (2618, 2622), (2621, 2622), (2617, 2623), (2620, 2623), (2617, 2624), (2620, 2624), (2619, 2625)]}\n",
      "INFO:geometry:extra torsions: {0: (2621, 2620, 2619, 2617, [1, Quantity(value=-0.002870001521861454, unit=radian), Quantity(value=1200.0, unit=kilocalorie/mole), 14]), 1: (2618, 2617, 2619, 2620, [1, Quantity(value=3.1393768365632813, unit=radian), Quantity(value=1200.0, unit=kilocalorie/mole), 13]), 2: (2615, 2617, 2619, 2620, [1, Quantity(value=0.0022213748613295614, unit=radian), Quantity(value=1200.0, unit=kilocalorie/mole), 8]), 3: (2618, 2617, 2615, 2616, [1, Quantity(value=3.139771005499866, unit=radian), Quantity(value=1200.0, unit=kilocalorie/mole), 15]), 4: (2618, 2617, 2615, 2614, [1, Quantity(value=0.0069177728493503565, unit=radian), Quantity(value=1200.0, unit=kilocalorie/mole), 13]), 5: (2619, 2617, 2615, 2616, [1, Quantity(value=-0.0062808214457872324, unit=radian), Quantity(value=1200.0, unit=kilocalorie/mole), 15]), 6: (2619, 2617, 2615, 2614, [1, Quantity(value=-3.1391340540962216, unit=radian), Quantity(value=1200.0, unit=kilocalorie/mole), 7]), 7: (2617, 2615, 2614, 2624, [1, Quantity(value=3.1373539745559547, unit=radian), Quantity(value=1200.0, unit=kilocalorie/mole), 5]), 8: (2617, 2615, 2614, 2611, [1, Quantity(value=-0.012555513663626172, unit=radian), Quantity(value=1200.0, unit=kilocalorie/mole), 5]), 9: (2616, 2615, 2614, 2624, [1, Quantity(value=0.004577035070323365, unit=radian), Quantity(value=1200.0, unit=kilocalorie/mole), 15]), 10: (2616, 2615, 2614, 2611, [1, Quantity(value=3.137852854030348, unit=radian), Quantity(value=1200.0, unit=kilocalorie/mole), 15]), 11: (2623, 2622, 2624, 2614, [1, Quantity(value=-0.006701599266596858, unit=radian), Quantity(value=1200.0, unit=kilocalorie/mole), 10]), 12: (2623, 2622, 2624, 2625, [1, Quantity(value=-3.134703221499019, unit=radian), Quantity(value=1200.0, unit=kilocalorie/mole), 12]), 13: (2615, 2614, 2624, 2622, [1, Quantity(value=-3.137699428633435, unit=radian), Quantity(value=1200.0, unit=kilocalorie/mole), 6]), 14: (2615, 2614, 2624, 2625, [1, Quantity(value=-0.009793556643590051, unit=radian), Quantity(value=1200.0, unit=kilocalorie/mole), 12]), 15: (2611, 2614, 2624, 2622, [1, Quantity(value=0.012140215312939961, unit=radian), Quantity(value=1200.0, unit=kilocalorie/mole), 6]), 16: (2611, 2614, 2624, 2625, [1, Quantity(value=3.14004608730288, unit=radian), Quantity(value=1200.0, unit=kilocalorie/mole), 12]), 17: (2611, 2607, 2605, 2606, [1, Quantity(value=1.047411640674822, unit=radian), Quantity(value=1200.0, unit=kilocalorie/mole), 1])}\n",
      "INFO:geometry:neglected angle terms include []\n",
      "INFO:geometry:log probability choice of torsions and atom order: -22.361068655522327\n",
      "INFO:geometry:creating platform, integrators, and contexts; setting growth parameter\n"
     ]
    },
    {
     "name": "stdout",
     "output_type": "stream",
     "text": [
      "conducting subsequent work with the following platform: CUDA\n"
     ]
    },
    {
     "name": "stderr",
     "output_type": "stream",
     "text": [
      "INFO:geometry:setting atoms_with_positions context new positions\n"
     ]
    },
    {
     "name": "stdout",
     "output_type": "stream",
     "text": [
      "conducting subsequent work with the following platform: CUDA\n"
     ]
    },
    {
     "name": "stderr",
     "output_type": "stream",
     "text": [
      "INFO:geometry:There are 15 new atoms\n",
      "INFO:geometry:\treduced angle potential = 1.897207331467695.\n",
      "INFO:geometry:\treduced angle potential = 0.226463884894054.\n",
      "INFO:geometry:\treduced angle potential = 0.024314439313098266.\n",
      "INFO:geometry:\treduced angle potential = 0.004293000591986166.\n",
      "INFO:geometry:\treduced angle potential = 0.4196367745283447.\n",
      "INFO:geometry:\treduced angle potential = 0.17199417453873506.\n",
      "INFO:geometry:\treduced angle potential = 1.0841368023649567.\n",
      "INFO:geometry:\treduced angle potential = 0.05575191375376004.\n",
      "INFO:geometry:\treduced angle potential = 0.057182840724510846.\n",
      "INFO:geometry:\treduced angle potential = 3.237963120268895.\n",
      "INFO:geometry:\treduced angle potential = 0.6296862525749256.\n",
      "INFO:geometry:\treduced angle potential = 0.3327511599725279.\n",
      "INFO:geometry:\treduced angle potential = 0.2384749213088826.\n",
      "INFO:geometry:\treduced angle potential = 1.1631222316764103.\n",
      "INFO:geometry:\treduced angle potential = 1.6627713833307163.\n",
      "INFO:geometry:\tbeginning construction of no_nonbonded final system...\n",
      "INFO:geometry:\tinitial no-nonbonded final system forces ['HarmonicBondForce', 'HarmonicAngleForce', 'PeriodicTorsionForce', 'NonbondedForce', 'MonteCarloBarostat']\n",
      "INFO:geometry:\tfinal no-nonbonded final system forces dict_keys(['HarmonicBondForce', 'HarmonicAngleForce', 'PeriodicTorsionForce', 'NonbondedForce'])\n",
      "INFO:geometry:\tthere are 8439 bond forces in the no-nonbonded final system\n",
      "INFO:geometry:\tthere are 29350 angle forces in the no-nonbonded final system\n",
      "INFO:geometry:\tthere are 55146 torsion forces in the no-nonbonded final system\n",
      "INFO:geometry:forward final system defined with 0 neglected angles.\n"
     ]
    },
    {
     "name": "stdout",
     "output_type": "stream",
     "text": [
      "conducting subsequent work with the following platform: CUDA\n",
      "conducting subsequent work with the following platform: CUDA\n"
     ]
    },
    {
     "name": "stderr",
     "output_type": "stream",
     "text": [
      "INFO:geometry:total reduced potential before atom placement: 23419.390629614598\n"
     ]
    },
    {
     "name": "stdout",
     "output_type": "stream",
     "text": [
      "conducting subsequent work with the following platform: CUDA\n",
      "conducting subsequent work with the following platform: CUDA\n",
      "conducting subsequent work with the following platform: CUDA\n"
     ]
    },
    {
     "name": "stderr",
     "output_type": "stream",
     "text": [
      "INFO:geometry:total reduced energy added from growth system: 622.1235131804085\n",
      "INFO:geometry:final reduced energy 24166.12557185749\n",
      "INFO:geometry:sum of energies: 24041.514142795008\n",
      "INFO:geometry:magnitude of difference in the energies: 124.61142906248392\n",
      "INFO:geometry:Final logp_proposal: 120.29695179399407\n"
     ]
    },
    {
     "name": "stdout",
     "output_type": "stream",
     "text": [
      "added energy components: [('CustomBondForce', 8.800339763407715), ('CustomAngleForce', 327.638509522464), ('CustomTorsionForce', 15.158628661858858), ('CustomBondForce', 270.5260352326778)]\n"
     ]
    },
    {
     "name": "stderr",
     "output_type": "stream",
     "text": [
      "INFO:geometry:logp_reverse: performing reverse proposal\n",
      "INFO:geometry:logp_reverse: unique new atoms detected; proceeding to _logp_propose...\n",
      "INFO:geometry:Conducting forward proposal...\n",
      "INFO:geometry:Computing proposal order with NetworkX...\n",
      "INFO:geometry:number of atoms to be placed: 8\n",
      "INFO:geometry:Atom index proposal order is [2611, 2614, 2618, 2615, 2616, 2617, 2612, 2613]\n",
      "INFO:geometry:omitted_bonds: []\n",
      "INFO:geometry:direction of proposal is reverse; creating atoms_with_positions from old system/topology\n",
      "INFO:geometry:creating growth system...\n",
      "INFO:geometry:\tcreating bond force...\n",
      "INFO:geometry:\tthere are 8434 bonds in reference force.\n",
      "INFO:geometry:\tcreating angle force...\n",
      "INFO:geometry:\tthere are 29337 angles in reference force.\n",
      "INFO:geometry:\tcreating torsion force...\n",
      "INFO:geometry:\tcreating extra torsions force...\n",
      "INFO:geometry:\tthere are 55124 torsions in reference force.\n",
      "INFO:geometry:\tcreating nonbonded force...\n",
      "INFO:geometry:\t\tgrabbing reference nonbonded method, cutoff, switching function, switching distance...\n",
      "INFO:geometry:\t\tcreating nonbonded exception force (i.e. custom bond for 1,4s)...\n",
      "INFO:geometry:\t\tlooping through exceptions calculating growth indices, and adding appropriate interactions to custom bond force.\n",
      "INFO:geometry:\t\tthere are 417062 in the reference Nonbonded force\n",
      "INFO:geometry:Neglected angle terms : []\n",
      "INFO:geometry:omitted_growth_terms: {'bonds': [], 'angles': [], 'torsions': [], '1,4s': []}\n",
      "INFO:geometry:extra torsions: {0: (2606, 2605, 2607, 2611, [1, Quantity(value=1.0033542268906723, unit=radian), Quantity(value=1200.0, unit=kilocalorie/mole), 1]), 1: (2617, 2615, 2614, 2611, [1, Quantity(value=-3.0613628096248338, unit=radian), Quantity(value=1200.0, unit=kilocalorie/mole), 6]), 2: (2617, 2615, 2614, 2618, [1, Quantity(value=0.1006962644006828, unit=radian), Quantity(value=1200.0, unit=kilocalorie/mole), 6]), 3: (2616, 2615, 2614, 2611, [1, Quantity(value=-0.163557181151619, unit=radian), Quantity(value=1200.0, unit=kilocalorie/mole), 5]), 4: (2616, 2615, 2614, 2618, [1, Quantity(value=2.998501892873897, unit=radian), Quantity(value=1200.0, unit=kilocalorie/mole), 5])}\n",
      "INFO:geometry:neglected angle terms include []\n",
      "INFO:geometry:log probability choice of torsions and atom order: -11.520893634619403\n",
      "INFO:geometry:creating platform, integrators, and contexts; setting growth parameter\n"
     ]
    },
    {
     "name": "stdout",
     "output_type": "stream",
     "text": [
      "conducting subsequent work with the following platform: CUDA\n"
     ]
    },
    {
     "name": "stderr",
     "output_type": "stream",
     "text": [
      "INFO:geometry:setting atoms_with_positions context old positions\n"
     ]
    },
    {
     "name": "stdout",
     "output_type": "stream",
     "text": [
      "conducting subsequent work with the following platform: CUDA\n"
     ]
    },
    {
     "name": "stderr",
     "output_type": "stream",
     "text": [
      "INFO:geometry:There are 8 new atoms\n",
      "INFO:geometry:\treduced angle potential = 0.01875112484757164.\n",
      "INFO:geometry:\treduced angle potential = 0.5604275396387628.\n",
      "INFO:geometry:\treduced angle potential = 0.07650810571585355.\n",
      "INFO:geometry:\treduced angle potential = 0.167841485694284.\n",
      "INFO:geometry:\treduced angle potential = 1.3306562413993697.\n",
      "INFO:geometry:\treduced angle potential = 0.17311349100355702.\n",
      "INFO:geometry:\treduced angle potential = 0.012217088956631855.\n",
      "INFO:geometry:\treduced angle potential = 0.11607969104718184.\n",
      "INFO:geometry:\tbeginning construction of no_nonbonded final system...\n",
      "INFO:geometry:\tinitial no-nonbonded final system forces ['HarmonicBondForce', 'HarmonicAngleForce', 'PeriodicTorsionForce', 'NonbondedForce', 'MonteCarloBarostat']\n",
      "INFO:geometry:\tfinal no-nonbonded final system forces dict_keys(['HarmonicBondForce', 'HarmonicAngleForce', 'PeriodicTorsionForce', 'NonbondedForce'])\n",
      "INFO:geometry:\tthere are 8434 bond forces in the no-nonbonded final system\n",
      "INFO:geometry:\tthere are 29337 angle forces in the no-nonbonded final system\n",
      "INFO:geometry:\tthere are 55124 torsion forces in the no-nonbonded final system\n",
      "INFO:geometry:reverse final system defined with 0 neglected angles.\n"
     ]
    },
    {
     "name": "stdout",
     "output_type": "stream",
     "text": [
      "conducting subsequent work with the following platform: CUDA\n",
      "conducting subsequent work with the following platform: CUDA\n"
     ]
    },
    {
     "name": "stderr",
     "output_type": "stream",
     "text": [
      "INFO:geometry:total reduced potential before atom placement: 23419.390629614598\n"
     ]
    },
    {
     "name": "stdout",
     "output_type": "stream",
     "text": [
      "conducting subsequent work with the following platform: CUDA\n",
      "conducting subsequent work with the following platform: CUDA\n",
      "conducting subsequent work with the following platform: CUDA\n"
     ]
    },
    {
     "name": "stderr",
     "output_type": "stream",
     "text": [
      "INFO:geometry:total reduced energy added from growth system: -78.52971601361988\n",
      "INFO:geometry:final reduced energy 23340.860902628185\n",
      "INFO:geometry:sum of energies: 23340.860913600976\n",
      "INFO:geometry:magnitude of difference in the energies: 1.097279327666456e-05\n",
      "INFO:geometry:Final logp_proposal: -6206.24770256901\n"
     ]
    },
    {
     "name": "stdout",
     "output_type": "stream",
     "text": [
      "added energy components: [('CustomBondForce', 1.6573143691887435), ('CustomAngleForce', 3.5180754491855795), ('CustomTorsionForce', 38.9781972120978), ('CustomBondForce', -122.68330304409201)]\n",
      "POTENTIAL ENERGY:  256705668.86083952 kJ/mol\n"
     ]
    },
    {
     "name": "stderr",
     "output_type": "stream",
     "text": [
      "INFO:geometry:propose: performing forward proposal\n",
      "INFO:geometry:propose: unique new atoms detected; proceeding to _logp_propose...\n",
      "INFO:geometry:Conducting forward proposal...\n",
      "INFO:geometry:Computing proposal order with NetworkX...\n",
      "INFO:geometry:number of atoms to be placed: 15\n",
      "INFO:geometry:Atom index proposal order is [2611, 2614, 2624, 2622, 2615, 2617, 2619, 2620, 2625, 2623, 2612, 2613, 2618, 2616, 2621]\n",
      "INFO:geometry:omitted_bonds: [(2619, 2622)]\n",
      "INFO:geometry:direction of proposal is forward; creating atoms_with_positions and new positions from old system/topology...\n",
      "INFO:geometry:creating growth system...\n",
      "INFO:geometry:\tcreating bond force...\n",
      "INFO:geometry:\tthere are 8439 bonds in reference force.\n",
      "INFO:geometry:\tcreating angle force...\n",
      "INFO:geometry:\tthere are 29350 angles in reference force.\n",
      "INFO:geometry:\tcreating torsion force...\n",
      "INFO:geometry:\tcreating extra torsions force...\n",
      "INFO:geometry:\tthere are 55146 torsions in reference force.\n",
      "INFO:geometry:\tcreating nonbonded force...\n",
      "INFO:geometry:\t\tgrabbing reference nonbonded method, cutoff, switching function, switching distance...\n",
      "INFO:geometry:\t\tcreating nonbonded exception force (i.e. custom bond for 1,4s)...\n",
      "INFO:geometry:\t\tlooping through exceptions calculating growth indices, and adding appropriate interactions to custom bond force.\n",
      "INFO:geometry:\t\tthere are 417102 in the reference Nonbonded force\n",
      "INFO:geometry:Neglected angle terms : []\n",
      "INFO:geometry:omitted_growth_terms: {'bonds': [(2619, 2622)], 'angles': [(2617, 2619, 2622), (2619, 2622, 2623), (2619, 2622, 2624), (2620, 2619, 2622)], 'torsions': [(2614, 2624, 2622, 2619), (2615, 2617, 2619, 2622), (2617, 2619, 2622, 2623), (2617, 2619, 2622, 2624), (2618, 2617, 2619, 2622), (2619, 2622, 2624, 2625), (2620, 2619, 2622, 2623), (2620, 2619, 2622, 2624), (2621, 2620, 2619, 2622), (2621, 2620, 2619, 2622), (2617, 2622, 2619, 2620)], '1,4s': [(2614, 2619), (2615, 2622), (2618, 2622), (2621, 2622), (2617, 2623), (2620, 2623), (2617, 2624), (2620, 2624), (2619, 2625)]}\n",
      "INFO:geometry:extra torsions: {0: (2621, 2620, 2619, 2617, [1, Quantity(value=-0.002870001521861454, unit=radian), Quantity(value=1200.0, unit=kilocalorie/mole), 15]), 1: (2618, 2617, 2619, 2620, [1, Quantity(value=3.1393768365632813, unit=radian), Quantity(value=1200.0, unit=kilocalorie/mole), 13]), 2: (2615, 2617, 2619, 2620, [1, Quantity(value=0.0022213748613295614, unit=radian), Quantity(value=1200.0, unit=kilocalorie/mole), 8]), 3: (2618, 2617, 2615, 2616, [1, Quantity(value=3.139771005499866, unit=radian), Quantity(value=1200.0, unit=kilocalorie/mole), 14]), 4: (2618, 2617, 2615, 2614, [1, Quantity(value=0.0069177728493503565, unit=radian), Quantity(value=1200.0, unit=kilocalorie/mole), 13]), 5: (2619, 2617, 2615, 2616, [1, Quantity(value=-0.0062808214457872324, unit=radian), Quantity(value=1200.0, unit=kilocalorie/mole), 14]), 6: (2619, 2617, 2615, 2614, [1, Quantity(value=-3.1391340540962216, unit=radian), Quantity(value=1200.0, unit=kilocalorie/mole), 7]), 7: (2617, 2615, 2614, 2624, [1, Quantity(value=3.1373539745559547, unit=radian), Quantity(value=1200.0, unit=kilocalorie/mole), 6]), 8: (2617, 2615, 2614, 2611, [1, Quantity(value=-0.012555513663626172, unit=radian), Quantity(value=1200.0, unit=kilocalorie/mole), 6]), 9: (2616, 2615, 2614, 2624, [1, Quantity(value=0.004577035070323365, unit=radian), Quantity(value=1200.0, unit=kilocalorie/mole), 14]), 10: (2616, 2615, 2614, 2611, [1, Quantity(value=3.137852854030348, unit=radian), Quantity(value=1200.0, unit=kilocalorie/mole), 14]), 11: (2623, 2622, 2624, 2614, [1, Quantity(value=-0.006701599266596858, unit=radian), Quantity(value=1200.0, unit=kilocalorie/mole), 10]), 12: (2623, 2622, 2624, 2625, [1, Quantity(value=-3.134703221499019, unit=radian), Quantity(value=1200.0, unit=kilocalorie/mole), 10]), 13: (2615, 2614, 2624, 2622, [1, Quantity(value=-3.137699428633435, unit=radian), Quantity(value=1200.0, unit=kilocalorie/mole), 5]), 14: (2615, 2614, 2624, 2625, [1, Quantity(value=-0.009793556643590051, unit=radian), Quantity(value=1200.0, unit=kilocalorie/mole), 9]), 15: (2611, 2614, 2624, 2622, [1, Quantity(value=0.012140215312939961, unit=radian), Quantity(value=1200.0, unit=kilocalorie/mole), 4]), 16: (2611, 2614, 2624, 2625, [1, Quantity(value=3.14004608730288, unit=radian), Quantity(value=1200.0, unit=kilocalorie/mole), 9]), 17: (2611, 2607, 2605, 2606, [1, Quantity(value=1.047411640674822, unit=radian), Quantity(value=1200.0, unit=kilocalorie/mole), 1])}\n",
      "INFO:geometry:neglected angle terms include []\n",
      "INFO:geometry:log probability choice of torsions and atom order: -21.54626096255958\n",
      "INFO:geometry:creating platform, integrators, and contexts; setting growth parameter\n"
     ]
    },
    {
     "name": "stdout",
     "output_type": "stream",
     "text": [
      "conducting subsequent work with the following platform: CUDA\n"
     ]
    },
    {
     "name": "stderr",
     "output_type": "stream",
     "text": [
      "INFO:geometry:setting atoms_with_positions context new positions\n"
     ]
    },
    {
     "name": "stdout",
     "output_type": "stream",
     "text": [
      "conducting subsequent work with the following platform: CUDA\n"
     ]
    },
    {
     "name": "stderr",
     "output_type": "stream",
     "text": [
      "INFO:geometry:There are 15 new atoms\n",
      "INFO:geometry:\treduced angle potential = 0.37404554340621154.\n",
      "INFO:geometry:\treduced angle potential = 0.1374989620995695.\n",
      "INFO:geometry:\treduced angle potential = 0.7467343000550514.\n",
      "INFO:geometry:\treduced angle potential = 0.9845667570798413.\n",
      "INFO:geometry:\treduced angle potential = 0.07348724626025689.\n",
      "INFO:geometry:\treduced angle potential = 1.4786580636755484.\n",
      "INFO:geometry:\treduced angle potential = 0.3452912644394141.\n",
      "INFO:geometry:\treduced angle potential = 1.6326979194494333.\n",
      "INFO:geometry:\treduced angle potential = 2.4224207643919975.\n",
      "INFO:geometry:\treduced angle potential = 0.0004513741671470335.\n",
      "INFO:geometry:\treduced angle potential = 0.872049231284621.\n",
      "INFO:geometry:\treduced angle potential = 0.05624288826879616.\n",
      "INFO:geometry:\treduced angle potential = 0.0012615809150991564.\n",
      "INFO:geometry:\treduced angle potential = 0.957599504967818.\n",
      "INFO:geometry:\treduced angle potential = 0.03581413500689184.\n",
      "INFO:geometry:\tbeginning construction of no_nonbonded final system...\n",
      "INFO:geometry:\tinitial no-nonbonded final system forces ['HarmonicBondForce', 'HarmonicAngleForce', 'PeriodicTorsionForce', 'NonbondedForce', 'MonteCarloBarostat']\n",
      "INFO:geometry:\tfinal no-nonbonded final system forces dict_keys(['HarmonicBondForce', 'HarmonicAngleForce', 'PeriodicTorsionForce', 'NonbondedForce'])\n",
      "INFO:geometry:\tthere are 8439 bond forces in the no-nonbonded final system\n",
      "INFO:geometry:\tthere are 29350 angle forces in the no-nonbonded final system\n",
      "INFO:geometry:\tthere are 55146 torsion forces in the no-nonbonded final system\n",
      "INFO:geometry:forward final system defined with 0 neglected angles.\n"
     ]
    },
    {
     "name": "stdout",
     "output_type": "stream",
     "text": [
      "conducting subsequent work with the following platform: CUDA\n",
      "conducting subsequent work with the following platform: CUDA\n"
     ]
    },
    {
     "name": "stderr",
     "output_type": "stream",
     "text": [
      "INFO:geometry:total reduced potential before atom placement: 23419.390629614598\n"
     ]
    },
    {
     "name": "stdout",
     "output_type": "stream",
     "text": [
      "conducting subsequent work with the following platform: CUDA\n",
      "conducting subsequent work with the following platform: CUDA\n",
      "conducting subsequent work with the following platform: CUDA\n"
     ]
    },
    {
     "name": "stderr",
     "output_type": "stream",
     "text": [
      "INFO:geometry:total reduced energy added from growth system: 705.363096863465\n",
      "INFO:geometry:final reduced energy 24382.69066400568\n",
      "INFO:geometry:sum of energies: 24124.753726478062\n",
      "INFO:geometry:magnitude of difference in the energies: 257.9369375276176\n",
      "INFO:geometry:Final logp_proposal: 122.50362967637204\n"
     ]
    },
    {
     "name": "stdout",
     "output_type": "stream",
     "text": [
      "added energy components: [('CustomBondForce', 4.059180023429813), ('CustomAngleForce', 396.7562400600952), ('CustomTorsionForce', 12.967598363364303), ('CustomBondForce', 291.58007841657576)]\n"
     ]
    },
    {
     "name": "stderr",
     "output_type": "stream",
     "text": [
      "INFO:geometry:logp_reverse: performing reverse proposal\n",
      "INFO:geometry:logp_reverse: unique new atoms detected; proceeding to _logp_propose...\n",
      "INFO:geometry:Conducting forward proposal...\n",
      "INFO:geometry:Computing proposal order with NetworkX...\n",
      "INFO:geometry:number of atoms to be placed: 8\n",
      "INFO:geometry:Atom index proposal order is [2611, 2614, 2615, 2618, 2612, 2617, 2613, 2616]\n",
      "INFO:geometry:omitted_bonds: []\n",
      "INFO:geometry:direction of proposal is reverse; creating atoms_with_positions from old system/topology\n",
      "INFO:geometry:creating growth system...\n",
      "INFO:geometry:\tcreating bond force...\n",
      "INFO:geometry:\tthere are 8434 bonds in reference force.\n",
      "INFO:geometry:\tcreating angle force...\n",
      "INFO:geometry:\tthere are 29337 angles in reference force.\n",
      "INFO:geometry:\tcreating torsion force...\n",
      "INFO:geometry:\tcreating extra torsions force...\n",
      "INFO:geometry:\tthere are 55124 torsions in reference force.\n",
      "INFO:geometry:\tcreating nonbonded force...\n",
      "INFO:geometry:\t\tgrabbing reference nonbonded method, cutoff, switching function, switching distance...\n",
      "INFO:geometry:\t\tcreating nonbonded exception force (i.e. custom bond for 1,4s)...\n",
      "INFO:geometry:\t\tlooping through exceptions calculating growth indices, and adding appropriate interactions to custom bond force.\n",
      "INFO:geometry:\t\tthere are 417062 in the reference Nonbonded force\n",
      "INFO:geometry:Neglected angle terms : []\n",
      "INFO:geometry:omitted_growth_terms: {'bonds': [], 'angles': [], 'torsions': [], '1,4s': []}\n",
      "INFO:geometry:extra torsions: {0: (2606, 2605, 2607, 2611, [1, Quantity(value=1.0033542268906723, unit=radian), Quantity(value=1200.0, unit=kilocalorie/mole), 1]), 1: (2617, 2615, 2614, 2611, [1, Quantity(value=-3.0613628096248338, unit=radian), Quantity(value=1200.0, unit=kilocalorie/mole), 6]), 2: (2617, 2615, 2614, 2618, [1, Quantity(value=0.1006962644006828, unit=radian), Quantity(value=1200.0, unit=kilocalorie/mole), 6]), 3: (2616, 2615, 2614, 2611, [1, Quantity(value=-0.163557181151619, unit=radian), Quantity(value=1200.0, unit=kilocalorie/mole), 8]), 4: (2616, 2615, 2614, 2618, [1, Quantity(value=2.998501892873897, unit=radian), Quantity(value=1200.0, unit=kilocalorie/mole), 8])}\n",
      "INFO:geometry:neglected angle terms include []\n",
      "INFO:geometry:log probability choice of torsions and atom order: -9.960245886354738\n",
      "INFO:geometry:creating platform, integrators, and contexts; setting growth parameter\n"
     ]
    },
    {
     "name": "stdout",
     "output_type": "stream",
     "text": [
      "conducting subsequent work with the following platform: CUDA\n"
     ]
    },
    {
     "name": "stderr",
     "output_type": "stream",
     "text": [
      "INFO:geometry:setting atoms_with_positions context old positions\n"
     ]
    },
    {
     "name": "stdout",
     "output_type": "stream",
     "text": [
      "conducting subsequent work with the following platform: CUDA\n"
     ]
    },
    {
     "name": "stderr",
     "output_type": "stream",
     "text": [
      "INFO:geometry:There are 8 new atoms\n",
      "INFO:geometry:\treduced angle potential = 0.01875112484757164.\n",
      "INFO:geometry:\treduced angle potential = 0.5604275396387628.\n",
      "INFO:geometry:\treduced angle potential = 0.167841485694284.\n",
      "INFO:geometry:\treduced angle potential = 0.07650810571585355.\n",
      "INFO:geometry:\treduced angle potential = 0.05080755139859599.\n",
      "INFO:geometry:\treduced angle potential = 0.17311349100355702.\n",
      "INFO:geometry:\treduced angle potential = 0.00196711090900495.\n",
      "INFO:geometry:\treduced angle potential = 1.3306562413993697.\n",
      "INFO:geometry:\tbeginning construction of no_nonbonded final system...\n",
      "INFO:geometry:\tinitial no-nonbonded final system forces ['HarmonicBondForce', 'HarmonicAngleForce', 'PeriodicTorsionForce', 'NonbondedForce', 'MonteCarloBarostat']\n",
      "INFO:geometry:\tfinal no-nonbonded final system forces dict_keys(['HarmonicBondForce', 'HarmonicAngleForce', 'PeriodicTorsionForce', 'NonbondedForce'])\n",
      "INFO:geometry:\tthere are 8434 bond forces in the no-nonbonded final system\n",
      "INFO:geometry:\tthere are 29337 angle forces in the no-nonbonded final system\n",
      "INFO:geometry:\tthere are 55124 torsion forces in the no-nonbonded final system\n",
      "INFO:geometry:reverse final system defined with 0 neglected angles.\n"
     ]
    },
    {
     "name": "stdout",
     "output_type": "stream",
     "text": [
      "conducting subsequent work with the following platform: CUDA\n",
      "conducting subsequent work with the following platform: CUDA\n"
     ]
    },
    {
     "name": "stderr",
     "output_type": "stream",
     "text": [
      "INFO:geometry:total reduced potential before atom placement: 23419.390629614598\n"
     ]
    },
    {
     "name": "stdout",
     "output_type": "stream",
     "text": [
      "conducting subsequent work with the following platform: CUDA\n",
      "conducting subsequent work with the following platform: CUDA\n",
      "conducting subsequent work with the following platform: CUDA\n"
     ]
    },
    {
     "name": "stderr",
     "output_type": "stream",
     "text": [
      "INFO:geometry:total reduced energy added from growth system: -78.52971601361988\n",
      "INFO:geometry:final reduced energy 23340.860902628185\n",
      "INFO:geometry:sum of energies: 23340.860913600976\n",
      "INFO:geometry:magnitude of difference in the energies: 1.097279327666456e-05\n",
      "INFO:geometry:Final logp_proposal: -6217.228261812768\n"
     ]
    },
    {
     "name": "stdout",
     "output_type": "stream",
     "text": [
      "added energy components: [('CustomBondForce', 1.6573143691887435), ('CustomAngleForce', 3.5180754491855795), ('CustomTorsionForce', 38.9781972120978), ('CustomBondForce', -122.68330304409201)]\n",
      "POTENTIAL ENERGY:  1399171952.036478 kJ/mol\n"
     ]
    },
    {
     "name": "stderr",
     "output_type": "stream",
     "text": [
      "INFO:geometry:propose: performing forward proposal\n",
      "INFO:geometry:propose: unique new atoms detected; proceeding to _logp_propose...\n",
      "INFO:geometry:Conducting forward proposal...\n",
      "INFO:geometry:Computing proposal order with NetworkX...\n",
      "INFO:geometry:number of atoms to be placed: 15\n",
      "INFO:geometry:Atom index proposal order is [2611, 2614, 2624, 2622, 2615, 2617, 2619, 2620, 2612, 2616, 2621, 2613, 2623, 2625, 2618]\n",
      "INFO:geometry:omitted_bonds: [(2619, 2622)]\n",
      "INFO:geometry:direction of proposal is forward; creating atoms_with_positions and new positions from old system/topology...\n",
      "INFO:geometry:creating growth system...\n",
      "INFO:geometry:\tcreating bond force...\n",
      "INFO:geometry:\tthere are 8439 bonds in reference force.\n",
      "INFO:geometry:\tcreating angle force...\n",
      "INFO:geometry:\tthere are 29350 angles in reference force.\n",
      "INFO:geometry:\tcreating torsion force...\n",
      "INFO:geometry:\tcreating extra torsions force...\n",
      "INFO:geometry:\tthere are 55146 torsions in reference force.\n",
      "INFO:geometry:\tcreating nonbonded force...\n",
      "INFO:geometry:\t\tgrabbing reference nonbonded method, cutoff, switching function, switching distance...\n",
      "INFO:geometry:\t\tcreating nonbonded exception force (i.e. custom bond for 1,4s)...\n",
      "INFO:geometry:\t\tlooping through exceptions calculating growth indices, and adding appropriate interactions to custom bond force.\n",
      "INFO:geometry:\t\tthere are 417102 in the reference Nonbonded force\n",
      "INFO:geometry:Neglected angle terms : []\n",
      "INFO:geometry:omitted_growth_terms: {'bonds': [(2619, 2622)], 'angles': [(2617, 2619, 2622), (2619, 2622, 2623), (2619, 2622, 2624), (2620, 2619, 2622)], 'torsions': [(2614, 2624, 2622, 2619), (2615, 2617, 2619, 2622), (2617, 2619, 2622, 2623), (2617, 2619, 2622, 2624), (2618, 2617, 2619, 2622), (2619, 2622, 2624, 2625), (2620, 2619, 2622, 2623), (2620, 2619, 2622, 2624), (2621, 2620, 2619, 2622), (2621, 2620, 2619, 2622), (2617, 2622, 2619, 2620)], '1,4s': [(2614, 2619), (2615, 2622), (2618, 2622), (2621, 2622), (2617, 2623), (2620, 2623), (2617, 2624), (2620, 2624), (2619, 2625)]}\n",
      "INFO:geometry:extra torsions: {0: (2621, 2620, 2619, 2617, [1, Quantity(value=-0.002870001521861454, unit=radian), Quantity(value=1200.0, unit=kilocalorie/mole), 11]), 1: (2618, 2617, 2619, 2620, [1, Quantity(value=3.1393768365632813, unit=radian), Quantity(value=1200.0, unit=kilocalorie/mole), 15]), 2: (2615, 2617, 2619, 2620, [1, Quantity(value=0.0022213748613295614, unit=radian), Quantity(value=1200.0, unit=kilocalorie/mole), 8]), 3: (2618, 2617, 2615, 2616, [1, Quantity(value=3.139771005499866, unit=radian), Quantity(value=1200.0, unit=kilocalorie/mole), 15]), 4: (2618, 2617, 2615, 2614, [1, Quantity(value=0.0069177728493503565, unit=radian), Quantity(value=1200.0, unit=kilocalorie/mole), 15]), 5: (2619, 2617, 2615, 2616, [1, Quantity(value=-0.0062808214457872324, unit=radian), Quantity(value=1200.0, unit=kilocalorie/mole), 10]), 6: (2619, 2617, 2615, 2614, [1, Quantity(value=-3.1391340540962216, unit=radian), Quantity(value=1200.0, unit=kilocalorie/mole), 7]), 7: (2617, 2615, 2614, 2624, [1, Quantity(value=3.1373539745559547, unit=radian), Quantity(value=1200.0, unit=kilocalorie/mole), 6]), 8: (2617, 2615, 2614, 2611, [1, Quantity(value=-0.012555513663626172, unit=radian), Quantity(value=1200.0, unit=kilocalorie/mole), 6]), 9: (2616, 2615, 2614, 2624, [1, Quantity(value=0.004577035070323365, unit=radian), Quantity(value=1200.0, unit=kilocalorie/mole), 10]), 10: (2616, 2615, 2614, 2611, [1, Quantity(value=3.137852854030348, unit=radian), Quantity(value=1200.0, unit=kilocalorie/mole), 10]), 11: (2623, 2622, 2624, 2614, [1, Quantity(value=-0.006701599266596858, unit=radian), Quantity(value=1200.0, unit=kilocalorie/mole), 13]), 12: (2623, 2622, 2624, 2625, [1, Quantity(value=-3.134703221499019, unit=radian), Quantity(value=1200.0, unit=kilocalorie/mole), 14]), 13: (2615, 2614, 2624, 2622, [1, Quantity(value=-3.137699428633435, unit=radian), Quantity(value=1200.0, unit=kilocalorie/mole), 5]), 14: (2615, 2614, 2624, 2625, [1, Quantity(value=-0.009793556643590051, unit=radian), Quantity(value=1200.0, unit=kilocalorie/mole), 14]), 15: (2611, 2614, 2624, 2622, [1, Quantity(value=0.012140215312939961, unit=radian), Quantity(value=1200.0, unit=kilocalorie/mole), 4]), 16: (2611, 2614, 2624, 2625, [1, Quantity(value=3.14004608730288, unit=radian), Quantity(value=1200.0, unit=kilocalorie/mole), 14]), 17: (2611, 2607, 2605, 2606, [1, Quantity(value=1.047411640674822, unit=radian), Quantity(value=1200.0, unit=kilocalorie/mole), 1])}\n",
      "INFO:geometry:neglected angle terms include []\n",
      "INFO:geometry:log probability choice of torsions and atom order: -22.689572722494365\n",
      "INFO:geometry:creating platform, integrators, and contexts; setting growth parameter\n"
     ]
    },
    {
     "name": "stdout",
     "output_type": "stream",
     "text": [
      "conducting subsequent work with the following platform: CUDA\n"
     ]
    },
    {
     "name": "stderr",
     "output_type": "stream",
     "text": [
      "INFO:geometry:setting atoms_with_positions context new positions\n"
     ]
    },
    {
     "name": "stdout",
     "output_type": "stream",
     "text": [
      "conducting subsequent work with the following platform: CUDA\n"
     ]
    },
    {
     "name": "stderr",
     "output_type": "stream",
     "text": [
      "INFO:geometry:There are 15 new atoms\n",
      "INFO:geometry:\treduced angle potential = 0.048146163080240334.\n",
      "INFO:geometry:\treduced angle potential = 0.022565016698267035.\n",
      "INFO:geometry:\treduced angle potential = 0.04286139732555522.\n",
      "INFO:geometry:\treduced angle potential = 0.030606150179711418.\n",
      "INFO:geometry:\treduced angle potential = 0.8950901464652532.\n",
      "INFO:geometry:\treduced angle potential = 0.23841869715011035.\n",
      "INFO:geometry:\treduced angle potential = 0.20427461781371492.\n",
      "INFO:geometry:\treduced angle potential = 0.3095780193527887.\n",
      "INFO:geometry:\treduced angle potential = 0.03506193426800304.\n",
      "INFO:geometry:\treduced angle potential = 0.2550040921484999.\n",
      "INFO:geometry:\treduced angle potential = 0.051313064567398765.\n",
      "INFO:geometry:\treduced angle potential = 0.380518418311664.\n",
      "INFO:geometry:\treduced angle potential = 0.022130231077404357.\n",
      "INFO:geometry:\treduced angle potential = 0.39906141936138056.\n",
      "INFO:geometry:\treduced angle potential = 0.008236202268892495.\n",
      "INFO:geometry:\tbeginning construction of no_nonbonded final system...\n",
      "INFO:geometry:\tinitial no-nonbonded final system forces ['HarmonicBondForce', 'HarmonicAngleForce', 'PeriodicTorsionForce', 'NonbondedForce', 'MonteCarloBarostat']\n",
      "INFO:geometry:\tfinal no-nonbonded final system forces dict_keys(['HarmonicBondForce', 'HarmonicAngleForce', 'PeriodicTorsionForce', 'NonbondedForce'])\n",
      "INFO:geometry:\tthere are 8439 bond forces in the no-nonbonded final system\n",
      "INFO:geometry:\tthere are 29350 angle forces in the no-nonbonded final system\n",
      "INFO:geometry:\tthere are 55146 torsion forces in the no-nonbonded final system\n",
      "INFO:geometry:forward final system defined with 0 neglected angles.\n"
     ]
    },
    {
     "name": "stdout",
     "output_type": "stream",
     "text": [
      "conducting subsequent work with the following platform: CUDA\n",
      "conducting subsequent work with the following platform: CUDA\n"
     ]
    },
    {
     "name": "stderr",
     "output_type": "stream",
     "text": [
      "INFO:geometry:total reduced potential before atom placement: 23419.390629614598\n"
     ]
    },
    {
     "name": "stdout",
     "output_type": "stream",
     "text": [
      "conducting subsequent work with the following platform: CUDA\n",
      "conducting subsequent work with the following platform: CUDA\n",
      "conducting subsequent work with the following platform: CUDA\n"
     ]
    },
    {
     "name": "stderr",
     "output_type": "stream",
     "text": [
      "INFO:geometry:total reduced energy added from growth system: 494.29851080120187\n",
      "INFO:geometry:final reduced energy 24012.596094567092\n",
      "INFO:geometry:sum of energies: 23913.6891404158\n",
      "INFO:geometry:magnitude of difference in the energies: 98.9069541512925\n",
      "INFO:geometry:Final logp_proposal: 134.17189121114677\n"
     ]
    },
    {
     "name": "stdout",
     "output_type": "stream",
     "text": [
      "added energy components: [('CustomBondForce', 2.964647342796881), ('CustomAngleForce', 320.8354967074943), ('CustomTorsionForce', 13.506405955346045), ('CustomBondForce', 156.99196079556458)]\n"
     ]
    },
    {
     "name": "stderr",
     "output_type": "stream",
     "text": [
      "INFO:geometry:logp_reverse: performing reverse proposal\n",
      "INFO:geometry:logp_reverse: unique new atoms detected; proceeding to _logp_propose...\n",
      "INFO:geometry:Conducting forward proposal...\n",
      "INFO:geometry:Computing proposal order with NetworkX...\n",
      "INFO:geometry:number of atoms to be placed: 8\n",
      "INFO:geometry:Atom index proposal order is [2611, 2614, 2615, 2618, 2612, 2613, 2617, 2616]\n",
      "INFO:geometry:omitted_bonds: []\n",
      "INFO:geometry:direction of proposal is reverse; creating atoms_with_positions from old system/topology\n",
      "INFO:geometry:creating growth system...\n",
      "INFO:geometry:\tcreating bond force...\n",
      "INFO:geometry:\tthere are 8434 bonds in reference force.\n",
      "INFO:geometry:\tcreating angle force...\n",
      "INFO:geometry:\tthere are 29337 angles in reference force.\n",
      "INFO:geometry:\tcreating torsion force...\n",
      "INFO:geometry:\tcreating extra torsions force...\n",
      "INFO:geometry:\tthere are 55124 torsions in reference force.\n",
      "INFO:geometry:\tcreating nonbonded force...\n",
      "INFO:geometry:\t\tgrabbing reference nonbonded method, cutoff, switching function, switching distance...\n",
      "INFO:geometry:\t\tcreating nonbonded exception force (i.e. custom bond for 1,4s)...\n",
      "INFO:geometry:\t\tlooping through exceptions calculating growth indices, and adding appropriate interactions to custom bond force.\n",
      "INFO:geometry:\t\tthere are 417062 in the reference Nonbonded force\n",
      "INFO:geometry:Neglected angle terms : []\n",
      "INFO:geometry:omitted_growth_terms: {'bonds': [], 'angles': [], 'torsions': [], '1,4s': []}\n",
      "INFO:geometry:extra torsions: {0: (2606, 2605, 2607, 2611, [1, Quantity(value=1.0033542268906723, unit=radian), Quantity(value=1200.0, unit=kilocalorie/mole), 1]), 1: (2617, 2615, 2614, 2611, [1, Quantity(value=-3.0613628096248338, unit=radian), Quantity(value=1200.0, unit=kilocalorie/mole), 7]), 2: (2617, 2615, 2614, 2618, [1, Quantity(value=0.1006962644006828, unit=radian), Quantity(value=1200.0, unit=kilocalorie/mole), 7]), 3: (2616, 2615, 2614, 2611, [1, Quantity(value=-0.163557181151619, unit=radian), Quantity(value=1200.0, unit=kilocalorie/mole), 8]), 4: (2616, 2615, 2614, 2618, [1, Quantity(value=2.998501892873897, unit=radian), Quantity(value=1200.0, unit=kilocalorie/mole), 8])}\n",
      "INFO:geometry:neglected angle terms include []\n",
      "INFO:geometry:log probability choice of torsions and atom order: -9.400630098419315\n",
      "INFO:geometry:creating platform, integrators, and contexts; setting growth parameter\n"
     ]
    },
    {
     "name": "stdout",
     "output_type": "stream",
     "text": [
      "conducting subsequent work with the following platform: CUDA\n"
     ]
    },
    {
     "name": "stderr",
     "output_type": "stream",
     "text": [
      "INFO:geometry:setting atoms_with_positions context old positions\n"
     ]
    },
    {
     "name": "stdout",
     "output_type": "stream",
     "text": [
      "conducting subsequent work with the following platform: CUDA\n"
     ]
    },
    {
     "name": "stderr",
     "output_type": "stream",
     "text": [
      "INFO:geometry:There are 8 new atoms\n",
      "INFO:geometry:\treduced angle potential = 0.01875112484757164.\n",
      "INFO:geometry:\treduced angle potential = 0.5604275396387628.\n",
      "INFO:geometry:\treduced angle potential = 0.167841485694284.\n",
      "INFO:geometry:\treduced angle potential = 0.07650810571585355.\n",
      "INFO:geometry:\treduced angle potential = 0.05080755139859599.\n",
      "INFO:geometry:\treduced angle potential = 0.11607969104718184.\n",
      "INFO:geometry:\treduced angle potential = 0.17311349100355702.\n",
      "INFO:geometry:\treduced angle potential = 1.3306562413993697.\n",
      "INFO:geometry:\tbeginning construction of no_nonbonded final system...\n",
      "INFO:geometry:\tinitial no-nonbonded final system forces ['HarmonicBondForce', 'HarmonicAngleForce', 'PeriodicTorsionForce', 'NonbondedForce', 'MonteCarloBarostat']\n",
      "INFO:geometry:\tfinal no-nonbonded final system forces dict_keys(['HarmonicBondForce', 'HarmonicAngleForce', 'PeriodicTorsionForce', 'NonbondedForce'])\n",
      "INFO:geometry:\tthere are 8434 bond forces in the no-nonbonded final system\n",
      "INFO:geometry:\tthere are 29337 angle forces in the no-nonbonded final system\n",
      "INFO:geometry:\tthere are 55124 torsion forces in the no-nonbonded final system\n",
      "INFO:geometry:reverse final system defined with 0 neglected angles.\n"
     ]
    },
    {
     "name": "stdout",
     "output_type": "stream",
     "text": [
      "conducting subsequent work with the following platform: CUDA\n",
      "conducting subsequent work with the following platform: CUDA\n"
     ]
    },
    {
     "name": "stderr",
     "output_type": "stream",
     "text": [
      "INFO:geometry:total reduced potential before atom placement: 23419.390629614598\n"
     ]
    },
    {
     "name": "stdout",
     "output_type": "stream",
     "text": [
      "conducting subsequent work with the following platform: CUDA\n",
      "conducting subsequent work with the following platform: CUDA\n",
      "conducting subsequent work with the following platform: CUDA\n"
     ]
    },
    {
     "name": "stderr",
     "output_type": "stream",
     "text": [
      "INFO:geometry:total reduced energy added from growth system: -78.52971601361988\n",
      "INFO:geometry:final reduced energy 23340.860902628185\n",
      "INFO:geometry:sum of energies: 23340.860913600976\n",
      "INFO:geometry:magnitude of difference in the energies: 1.097279327666456e-05\n",
      "INFO:geometry:Final logp_proposal: -6213.154478046265\n"
     ]
    },
    {
     "name": "stdout",
     "output_type": "stream",
     "text": [
      "added energy components: [('CustomBondForce', 1.6573143691887435), ('CustomAngleForce', 3.5180754491855795), ('CustomTorsionForce', 38.9781972120978), ('CustomBondForce', -122.68330304409201)]\n",
      "POTENTIAL ENERGY:  2270715943377517.0 kJ/mol\n"
     ]
    },
    {
     "name": "stderr",
     "output_type": "stream",
     "text": [
      "INFO:geometry:propose: performing forward proposal\n",
      "INFO:geometry:propose: unique new atoms detected; proceeding to _logp_propose...\n",
      "INFO:geometry:Conducting forward proposal...\n",
      "INFO:geometry:Computing proposal order with NetworkX...\n",
      "INFO:geometry:number of atoms to be placed: 15\n",
      "INFO:geometry:Atom index proposal order is [2611, 2614, 2615, 2624, 2622, 2617, 2619, 2620, 2623, 2625, 2612, 2613, 2618, 2621, 2616]\n",
      "INFO:geometry:omitted_bonds: [(2619, 2622)]\n",
      "INFO:geometry:direction of proposal is forward; creating atoms_with_positions and new positions from old system/topology...\n",
      "INFO:geometry:creating growth system...\n",
      "INFO:geometry:\tcreating bond force...\n",
      "INFO:geometry:\tthere are 8439 bonds in reference force.\n",
      "INFO:geometry:\tcreating angle force...\n",
      "INFO:geometry:\tthere are 29350 angles in reference force.\n",
      "INFO:geometry:\tcreating torsion force...\n",
      "INFO:geometry:\tcreating extra torsions force...\n",
      "INFO:geometry:\tthere are 55146 torsions in reference force.\n",
      "INFO:geometry:\tcreating nonbonded force...\n",
      "INFO:geometry:\t\tgrabbing reference nonbonded method, cutoff, switching function, switching distance...\n",
      "INFO:geometry:\t\tcreating nonbonded exception force (i.e. custom bond for 1,4s)...\n",
      "INFO:geometry:\t\tlooping through exceptions calculating growth indices, and adding appropriate interactions to custom bond force.\n",
      "INFO:geometry:\t\tthere are 417102 in the reference Nonbonded force\n",
      "INFO:geometry:Neglected angle terms : []\n",
      "INFO:geometry:omitted_growth_terms: {'bonds': [(2619, 2622)], 'angles': [(2617, 2619, 2622), (2619, 2622, 2623), (2619, 2622, 2624), (2620, 2619, 2622)], 'torsions': [(2614, 2624, 2622, 2619), (2615, 2617, 2619, 2622), (2617, 2619, 2622, 2623), (2617, 2619, 2622, 2624), (2618, 2617, 2619, 2622), (2619, 2622, 2624, 2625), (2620, 2619, 2622, 2623), (2620, 2619, 2622, 2624), (2621, 2620, 2619, 2622), (2621, 2620, 2619, 2622), (2617, 2622, 2619, 2620)], '1,4s': [(2614, 2619), (2615, 2622), (2618, 2622), (2621, 2622), (2617, 2623), (2620, 2623), (2617, 2624), (2620, 2624), (2619, 2625)]}\n",
      "INFO:geometry:extra torsions: {0: (2621, 2620, 2619, 2617, [1, Quantity(value=-0.002870001521861454, unit=radian), Quantity(value=1200.0, unit=kilocalorie/mole), 14]), 1: (2618, 2617, 2619, 2620, [1, Quantity(value=3.1393768365632813, unit=radian), Quantity(value=1200.0, unit=kilocalorie/mole), 13]), 2: (2615, 2617, 2619, 2620, [1, Quantity(value=0.0022213748613295614, unit=radian), Quantity(value=1200.0, unit=kilocalorie/mole), 8]), 3: (2618, 2617, 2615, 2616, [1, Quantity(value=3.139771005499866, unit=radian), Quantity(value=1200.0, unit=kilocalorie/mole), 15]), 4: (2618, 2617, 2615, 2614, [1, Quantity(value=0.0069177728493503565, unit=radian), Quantity(value=1200.0, unit=kilocalorie/mole), 13]), 5: (2619, 2617, 2615, 2616, [1, Quantity(value=-0.0062808214457872324, unit=radian), Quantity(value=1200.0, unit=kilocalorie/mole), 15]), 6: (2619, 2617, 2615, 2614, [1, Quantity(value=-3.1391340540962216, unit=radian), Quantity(value=1200.0, unit=kilocalorie/mole), 7]), 7: (2617, 2615, 2614, 2624, [1, Quantity(value=3.1373539745559547, unit=radian), Quantity(value=1200.0, unit=kilocalorie/mole), 6]), 8: (2617, 2615, 2614, 2611, [1, Quantity(value=-0.012555513663626172, unit=radian), Quantity(value=1200.0, unit=kilocalorie/mole), 6]), 9: (2616, 2615, 2614, 2624, [1, Quantity(value=0.004577035070323365, unit=radian), Quantity(value=1200.0, unit=kilocalorie/mole), 15]), 10: (2616, 2615, 2614, 2611, [1, Quantity(value=3.137852854030348, unit=radian), Quantity(value=1200.0, unit=kilocalorie/mole), 15]), 11: (2623, 2622, 2624, 2614, [1, Quantity(value=-0.006701599266596858, unit=radian), Quantity(value=1200.0, unit=kilocalorie/mole), 9]), 12: (2623, 2622, 2624, 2625, [1, Quantity(value=-3.134703221499019, unit=radian), Quantity(value=1200.0, unit=kilocalorie/mole), 10]), 13: (2615, 2614, 2624, 2622, [1, Quantity(value=-3.137699428633435, unit=radian), Quantity(value=1200.0, unit=kilocalorie/mole), 5]), 14: (2615, 2614, 2624, 2625, [1, Quantity(value=-0.009793556643590051, unit=radian), Quantity(value=1200.0, unit=kilocalorie/mole), 10]), 15: (2611, 2614, 2624, 2622, [1, Quantity(value=0.012140215312939961, unit=radian), Quantity(value=1200.0, unit=kilocalorie/mole), 5]), 16: (2611, 2614, 2624, 2625, [1, Quantity(value=3.14004608730288, unit=radian), Quantity(value=1200.0, unit=kilocalorie/mole), 10]), 17: (2611, 2607, 2605, 2606, [1, Quantity(value=1.047411640674822, unit=radian), Quantity(value=1200.0, unit=kilocalorie/mole), 1])}\n",
      "INFO:geometry:neglected angle terms include []\n",
      "INFO:geometry:log probability choice of torsions and atom order: -22.64487325122769\n",
      "INFO:geometry:creating platform, integrators, and contexts; setting growth parameter\n"
     ]
    },
    {
     "name": "stdout",
     "output_type": "stream",
     "text": [
      "conducting subsequent work with the following platform: CUDA\n"
     ]
    },
    {
     "name": "stderr",
     "output_type": "stream",
     "text": [
      "INFO:geometry:setting atoms_with_positions context new positions\n"
     ]
    },
    {
     "name": "stdout",
     "output_type": "stream",
     "text": [
      "conducting subsequent work with the following platform: CUDA\n"
     ]
    },
    {
     "name": "stderr",
     "output_type": "stream",
     "text": [
      "INFO:geometry:There are 15 new atoms\n",
      "INFO:geometry:\treduced angle potential = 0.2658673548158505.\n",
      "INFO:geometry:\treduced angle potential = 0.008834924399465961.\n",
      "INFO:geometry:\treduced angle potential = 1.6766197797813478.\n",
      "INFO:geometry:\treduced angle potential = 1.2225648541688268.\n",
      "INFO:geometry:\treduced angle potential = 0.42683532717919587.\n",
      "INFO:geometry:\treduced angle potential = 0.004520706447675827.\n",
      "INFO:geometry:\treduced angle potential = 0.3747460804913771.\n",
      "INFO:geometry:\treduced angle potential = 0.0857546809382666.\n",
      "INFO:geometry:\treduced angle potential = 0.01676535389970548.\n",
      "INFO:geometry:\treduced angle potential = 0.215617902679983.\n",
      "INFO:geometry:\treduced angle potential = 0.32963368632454837.\n",
      "INFO:geometry:\treduced angle potential = 0.10709400776813233.\n",
      "INFO:geometry:\treduced angle potential = 0.415825950201439.\n",
      "INFO:geometry:\treduced angle potential = 0.27449663974503025.\n",
      "INFO:geometry:\treduced angle potential = 1.0077811151554368.\n",
      "INFO:geometry:\tbeginning construction of no_nonbonded final system...\n",
      "INFO:geometry:\tinitial no-nonbonded final system forces ['HarmonicBondForce', 'HarmonicAngleForce', 'PeriodicTorsionForce', 'NonbondedForce', 'MonteCarloBarostat']\n",
      "INFO:geometry:\tfinal no-nonbonded final system forces dict_keys(['HarmonicBondForce', 'HarmonicAngleForce', 'PeriodicTorsionForce', 'NonbondedForce'])\n",
      "INFO:geometry:\tthere are 8439 bond forces in the no-nonbonded final system\n",
      "INFO:geometry:\tthere are 29350 angle forces in the no-nonbonded final system\n",
      "INFO:geometry:\tthere are 55146 torsion forces in the no-nonbonded final system\n",
      "INFO:geometry:forward final system defined with 0 neglected angles.\n"
     ]
    },
    {
     "name": "stdout",
     "output_type": "stream",
     "text": [
      "conducting subsequent work with the following platform: CUDA\n",
      "conducting subsequent work with the following platform: CUDA\n"
     ]
    },
    {
     "name": "stderr",
     "output_type": "stream",
     "text": [
      "INFO:geometry:total reduced potential before atom placement: 23419.390629614598\n"
     ]
    },
    {
     "name": "stdout",
     "output_type": "stream",
     "text": [
      "conducting subsequent work with the following platform: CUDA\n",
      "conducting subsequent work with the following platform: CUDA\n",
      "conducting subsequent work with the following platform: CUDA\n"
     ]
    },
    {
     "name": "stderr",
     "output_type": "stream",
     "text": [
      "INFO:geometry:total reduced energy added from growth system: 487.6661789330635\n",
      "INFO:geometry:final reduced energy 23947.721187900206\n",
      "INFO:geometry:sum of energies: 23907.056808547663\n",
      "INFO:geometry:magnitude of difference in the energies: 40.664379352544756\n",
      "INFO:geometry:Final logp_proposal: 129.39463796398235\n"
     ]
    },
    {
     "name": "stdout",
     "output_type": "stream",
     "text": [
      "added energy components: [('CustomBondForce', 3.1270400522594843), ('CustomAngleForce', 292.71875017356865), ('CustomTorsionForce', 12.832800811876417), ('CustomBondForce', 178.98758789535916)]\n"
     ]
    },
    {
     "name": "stderr",
     "output_type": "stream",
     "text": [
      "INFO:geometry:logp_reverse: performing reverse proposal\n",
      "INFO:geometry:logp_reverse: unique new atoms detected; proceeding to _logp_propose...\n",
      "INFO:geometry:Conducting forward proposal...\n",
      "INFO:geometry:Computing proposal order with NetworkX...\n",
      "INFO:geometry:number of atoms to be placed: 8\n",
      "INFO:geometry:Atom index proposal order is [2611, 2614, 2618, 2615, 2612, 2613, 2617, 2616]\n",
      "INFO:geometry:omitted_bonds: []\n",
      "INFO:geometry:direction of proposal is reverse; creating atoms_with_positions from old system/topology\n",
      "INFO:geometry:creating growth system...\n",
      "INFO:geometry:\tcreating bond force...\n",
      "INFO:geometry:\tthere are 8434 bonds in reference force.\n",
      "INFO:geometry:\tcreating angle force...\n",
      "INFO:geometry:\tthere are 29337 angles in reference force.\n",
      "INFO:geometry:\tcreating torsion force...\n",
      "INFO:geometry:\tcreating extra torsions force...\n",
      "INFO:geometry:\tthere are 55124 torsions in reference force.\n",
      "INFO:geometry:\tcreating nonbonded force...\n",
      "INFO:geometry:\t\tgrabbing reference nonbonded method, cutoff, switching function, switching distance...\n",
      "INFO:geometry:\t\tcreating nonbonded exception force (i.e. custom bond for 1,4s)...\n",
      "INFO:geometry:\t\tlooping through exceptions calculating growth indices, and adding appropriate interactions to custom bond force.\n",
      "INFO:geometry:\t\tthere are 417062 in the reference Nonbonded force\n",
      "INFO:geometry:Neglected angle terms : []\n",
      "INFO:geometry:omitted_growth_terms: {'bonds': [], 'angles': [], 'torsions': [], '1,4s': []}\n",
      "INFO:geometry:extra torsions: {0: (2606, 2605, 2607, 2611, [1, Quantity(value=1.0033542268906723, unit=radian), Quantity(value=1200.0, unit=kilocalorie/mole), 1]), 1: (2617, 2615, 2614, 2611, [1, Quantity(value=-3.0613628096248338, unit=radian), Quantity(value=1200.0, unit=kilocalorie/mole), 7]), 2: (2617, 2615, 2614, 2618, [1, Quantity(value=0.1006962644006828, unit=radian), Quantity(value=1200.0, unit=kilocalorie/mole), 7]), 3: (2616, 2615, 2614, 2611, [1, Quantity(value=-0.163557181151619, unit=radian), Quantity(value=1200.0, unit=kilocalorie/mole), 8]), 4: (2616, 2615, 2614, 2618, [1, Quantity(value=2.998501892873897, unit=radian), Quantity(value=1200.0, unit=kilocalorie/mole), 8])}\n",
      "INFO:geometry:neglected angle terms include []\n",
      "INFO:geometry:log probability choice of torsions and atom order: -9.400630098419315\n",
      "INFO:geometry:creating platform, integrators, and contexts; setting growth parameter\n"
     ]
    },
    {
     "name": "stdout",
     "output_type": "stream",
     "text": [
      "conducting subsequent work with the following platform: CUDA\n"
     ]
    },
    {
     "name": "stderr",
     "output_type": "stream",
     "text": [
      "INFO:geometry:setting atoms_with_positions context old positions\n"
     ]
    },
    {
     "name": "stdout",
     "output_type": "stream",
     "text": [
      "conducting subsequent work with the following platform: CUDA\n"
     ]
    },
    {
     "name": "stderr",
     "output_type": "stream",
     "text": [
      "INFO:geometry:There are 8 new atoms\n",
      "INFO:geometry:\treduced angle potential = 0.006118641034753415.\n",
      "INFO:geometry:\treduced angle potential = 0.5604275396387628.\n",
      "INFO:geometry:\treduced angle potential = 0.07650810571585355.\n",
      "INFO:geometry:\treduced angle potential = 0.167841485694284.\n",
      "INFO:geometry:\treduced angle potential = 0.012217088956631855.\n",
      "INFO:geometry:\treduced angle potential = 0.11607969104718184.\n",
      "INFO:geometry:\treduced angle potential = 0.17311349100355702.\n",
      "INFO:geometry:\treduced angle potential = 1.3306562413993697.\n",
      "INFO:geometry:\tbeginning construction of no_nonbonded final system...\n",
      "INFO:geometry:\tinitial no-nonbonded final system forces ['HarmonicBondForce', 'HarmonicAngleForce', 'PeriodicTorsionForce', 'NonbondedForce', 'MonteCarloBarostat']\n",
      "INFO:geometry:\tfinal no-nonbonded final system forces dict_keys(['HarmonicBondForce', 'HarmonicAngleForce', 'PeriodicTorsionForce', 'NonbondedForce'])\n",
      "INFO:geometry:\tthere are 8434 bond forces in the no-nonbonded final system\n",
      "INFO:geometry:\tthere are 29337 angle forces in the no-nonbonded final system\n",
      "INFO:geometry:\tthere are 55124 torsion forces in the no-nonbonded final system\n",
      "INFO:geometry:reverse final system defined with 0 neglected angles.\n"
     ]
    },
    {
     "name": "stdout",
     "output_type": "stream",
     "text": [
      "conducting subsequent work with the following platform: CUDA\n",
      "conducting subsequent work with the following platform: CUDA\n"
     ]
    },
    {
     "name": "stderr",
     "output_type": "stream",
     "text": [
      "INFO:geometry:total reduced potential before atom placement: 23419.390629614598\n"
     ]
    },
    {
     "name": "stdout",
     "output_type": "stream",
     "text": [
      "conducting subsequent work with the following platform: CUDA\n"
     ]
    },
    {
     "ename": "KeyboardInterrupt",
     "evalue": "",
     "output_type": "error",
     "traceback": [
      "\u001b[0;31m---------------------------------------------------------------------------\u001b[0m",
      "\u001b[0;31mKeyboardInterrupt\u001b[0m                         Traceback (most recent call last)",
      "\u001b[0;32m/scratch/lsftmp/2290764.tmpdir/ipykernel_9484/1301512559.py\u001b[0m in \u001b[0;36m<module>\u001b[0;34m\u001b[0m\n\u001b[1;32m     20\u001b[0m     new_positions, logp_proposal = geometry_engine.propose(topology_proposal, positions, beta,\n\u001b[1;32m     21\u001b[0m                                                                validate_energy_bookkeeping=validate_bool)\n\u001b[0;32m---> 22\u001b[0;31m     logp_reverse = geometry_engine.logp_reverse(topology_proposal, new_positions, positions, beta,\n\u001b[0m\u001b[1;32m     23\u001b[0m                                             validate_energy_bookkeeping=validate_bool)\n\u001b[1;32m     24\u001b[0m     \u001b[0;31m# Check potential energy\u001b[0m\u001b[0;34m\u001b[0m\u001b[0;34m\u001b[0m\u001b[0;34m\u001b[0m\u001b[0m\n",
      "\u001b[0;32m~/miniconda3/envs/perses-rbd-ace2-direct/lib/python3.8/site-packages/perses-0.9.1+3.ge0dbd4a.dirty-py3.8.egg/perses/rjmc/geometry.py\u001b[0m in \u001b[0;36mlogp_reverse\u001b[0;34m(self, top_proposal, new_coordinates, old_coordinates, beta, validate_energy_bookkeeping)\u001b[0m\n\u001b[1;32m    287\u001b[0m         \u001b[0;31m# Compute log proposal probability for reverse direction\u001b[0m\u001b[0;34m\u001b[0m\u001b[0;34m\u001b[0m\u001b[0;34m\u001b[0m\u001b[0m\n\u001b[1;32m    288\u001b[0m         \u001b[0m_logger\u001b[0m\u001b[0;34m.\u001b[0m\u001b[0minfo\u001b[0m\u001b[0;34m(\u001b[0m\u001b[0;34m\"logp_reverse: unique new atoms detected; proceeding to _logp_propose...\"\u001b[0m\u001b[0;34m)\u001b[0m\u001b[0;34m\u001b[0m\u001b[0;34m\u001b[0m\u001b[0m\n\u001b[0;32m--> 289\u001b[0;31m         \u001b[0mlogp_proposal\u001b[0m\u001b[0;34m,\u001b[0m \u001b[0mnew_positions\u001b[0m\u001b[0;34m,\u001b[0m \u001b[0mrjmc_info\u001b[0m\u001b[0;34m,\u001b[0m \u001b[0matoms_with_positions_reduced_potential\u001b[0m\u001b[0;34m,\u001b[0m \u001b[0mfinal_context_reduced_potential\u001b[0m\u001b[0;34m,\u001b[0m \u001b[0mneglected_angle_terms\u001b[0m\u001b[0;34m,\u001b[0m \u001b[0momitted_terms\u001b[0m \u001b[0;34m=\u001b[0m \u001b[0mself\u001b[0m\u001b[0;34m.\u001b[0m\u001b[0m_logp_propose\u001b[0m\u001b[0;34m(\u001b[0m\u001b[0mtop_proposal\u001b[0m\u001b[0;34m,\u001b[0m \u001b[0mold_coordinates\u001b[0m\u001b[0;34m,\u001b[0m \u001b[0mbeta\u001b[0m\u001b[0;34m,\u001b[0m \u001b[0mnew_positions\u001b[0m\u001b[0;34m=\u001b[0m\u001b[0mnew_coordinates\u001b[0m\u001b[0;34m,\u001b[0m \u001b[0mdirection\u001b[0m\u001b[0;34m=\u001b[0m\u001b[0;34m'reverse'\u001b[0m\u001b[0;34m,\u001b[0m \u001b[0mvalidate_energy_bookkeeping\u001b[0m \u001b[0;34m=\u001b[0m \u001b[0mvalidate_energy_bookkeeping\u001b[0m\u001b[0;34m)\u001b[0m\u001b[0;34m\u001b[0m\u001b[0;34m\u001b[0m\u001b[0m\n\u001b[0m\u001b[1;32m    290\u001b[0m         \u001b[0mself\u001b[0m\u001b[0;34m.\u001b[0m\u001b[0mreverse_new_positions\u001b[0m\u001b[0;34m,\u001b[0m \u001b[0mself\u001b[0m\u001b[0;34m.\u001b[0m\u001b[0mreverse_rjmc_info\u001b[0m \u001b[0;34m=\u001b[0m \u001b[0mnew_positions\u001b[0m\u001b[0;34m,\u001b[0m \u001b[0mrjmc_info\u001b[0m\u001b[0;34m\u001b[0m\u001b[0;34m\u001b[0m\u001b[0m\n\u001b[1;32m    291\u001b[0m         \u001b[0mself\u001b[0m\u001b[0;34m.\u001b[0m\u001b[0mreverse_atoms_with_positions_reduced_potential\u001b[0m\u001b[0;34m,\u001b[0m \u001b[0mself\u001b[0m\u001b[0;34m.\u001b[0m\u001b[0mreverse_final_context_reduced_potential\u001b[0m \u001b[0;34m=\u001b[0m \u001b[0matoms_with_positions_reduced_potential\u001b[0m\u001b[0;34m,\u001b[0m \u001b[0mfinal_context_reduced_potential\u001b[0m\u001b[0;34m\u001b[0m\u001b[0;34m\u001b[0m\u001b[0m\n",
      "\u001b[0;32m~/miniconda3/envs/perses-rbd-ace2-direct/lib/python3.8/site-packages/perses-0.9.1+3.ge0dbd4a.dirty-py3.8.egg/perses/rjmc/geometry.py\u001b[0m in \u001b[0;36m_logp_propose\u001b[0;34m(self, top_proposal, old_positions, beta, new_positions, direction, validate_energy_bookkeeping)\u001b[0m\n\u001b[1;32m    652\u001b[0m \u001b[0;34m\u001b[0m\u001b[0m\n\u001b[1;32m    653\u001b[0m         \u001b[0m_logger\u001b[0m\u001b[0;34m.\u001b[0m\u001b[0mdebug\u001b[0m\u001b[0;34m(\u001b[0m\u001b[0;34mf\"potential components added from growth system:\"\u001b[0m\u001b[0;34m)\u001b[0m\u001b[0;34m\u001b[0m\u001b[0;34m\u001b[0m\u001b[0m\n\u001b[0;32m--> 654\u001b[0;31m         \u001b[0madded_energy_components\u001b[0m \u001b[0;34m=\u001b[0m \u001b[0;34m[\u001b[0m\u001b[0;34m(\u001b[0m\u001b[0mforce\u001b[0m\u001b[0;34m,\u001b[0m \u001b[0menergy\u001b[0m\u001b[0;34m*\u001b[0m\u001b[0mbeta\u001b[0m\u001b[0;34m)\u001b[0m \u001b[0;32mfor\u001b[0m \u001b[0mforce\u001b[0m\u001b[0;34m,\u001b[0m \u001b[0menergy\u001b[0m \u001b[0;32min\u001b[0m \u001b[0mcompute_potential_components\u001b[0m\u001b[0;34m(\u001b[0m\u001b[0mcontext\u001b[0m\u001b[0;34m)\u001b[0m\u001b[0;34m]\u001b[0m\u001b[0;34m\u001b[0m\u001b[0;34m\u001b[0m\u001b[0m\n\u001b[0m\u001b[1;32m    655\u001b[0m         \u001b[0;32mfor\u001b[0m \u001b[0mitem\u001b[0m \u001b[0;32min\u001b[0m \u001b[0madded_energy_components\u001b[0m\u001b[0;34m:\u001b[0m\u001b[0;34m\u001b[0m\u001b[0;34m\u001b[0m\u001b[0m\n\u001b[1;32m    656\u001b[0m             \u001b[0m_logger\u001b[0m\u001b[0;34m.\u001b[0m\u001b[0mdebug\u001b[0m\u001b[0;34m(\u001b[0m\u001b[0;34mf\"\\t\\t{item[0]}: {item[1]}\"\u001b[0m\u001b[0;34m)\u001b[0m\u001b[0;34m\u001b[0m\u001b[0;34m\u001b[0m\u001b[0m\n",
      "\u001b[0;32m~/miniconda3/envs/perses-rbd-ace2-direct/lib/python3.8/site-packages/perses-0.9.1+3.ge0dbd4a.dirty-py3.8.egg/perses/tests/utils.py\u001b[0m in \u001b[0;36mcompute_potential_components\u001b[0;34m(context, beta, platform)\u001b[0m\n\u001b[1;32m    315\u001b[0m     \u001b[0;31m# Create new Context.\u001b[0m\u001b[0;34m\u001b[0m\u001b[0;34m\u001b[0m\u001b[0;34m\u001b[0m\u001b[0m\n\u001b[1;32m    316\u001b[0m     \u001b[0mintegrator\u001b[0m \u001b[0;34m=\u001b[0m \u001b[0mopenmm\u001b[0m\u001b[0;34m.\u001b[0m\u001b[0mVerletIntegrator\u001b[0m\u001b[0;34m(\u001b[0m\u001b[0;36m1.0\u001b[0m \u001b[0;34m*\u001b[0m \u001b[0munit\u001b[0m\u001b[0;34m.\u001b[0m\u001b[0mfemtoseconds\u001b[0m\u001b[0;34m)\u001b[0m\u001b[0;34m\u001b[0m\u001b[0;34m\u001b[0m\u001b[0m\n\u001b[0;32m--> 317\u001b[0;31m     \u001b[0mcontext\u001b[0m \u001b[0;34m=\u001b[0m \u001b[0mopenmm\u001b[0m\u001b[0;34m.\u001b[0m\u001b[0mContext\u001b[0m\u001b[0;34m(\u001b[0m\u001b[0msystem\u001b[0m\u001b[0;34m,\u001b[0m \u001b[0mintegrator\u001b[0m\u001b[0;34m,\u001b[0m \u001b[0mplatform\u001b[0m\u001b[0;34m)\u001b[0m\u001b[0;34m\u001b[0m\u001b[0;34m\u001b[0m\u001b[0m\n\u001b[0m\u001b[1;32m    318\u001b[0m     \u001b[0mcontext\u001b[0m\u001b[0;34m.\u001b[0m\u001b[0msetPositions\u001b[0m\u001b[0;34m(\u001b[0m\u001b[0mpositions\u001b[0m\u001b[0;34m)\u001b[0m\u001b[0;34m\u001b[0m\u001b[0;34m\u001b[0m\u001b[0m\n\u001b[1;32m    319\u001b[0m     \u001b[0;32mfor\u001b[0m \u001b[0;34m(\u001b[0m\u001b[0mparameter\u001b[0m\u001b[0;34m,\u001b[0m \u001b[0mvalue\u001b[0m\u001b[0;34m)\u001b[0m \u001b[0;32min\u001b[0m \u001b[0mparameters\u001b[0m\u001b[0;34m.\u001b[0m\u001b[0mitems\u001b[0m\u001b[0;34m(\u001b[0m\u001b[0;34m)\u001b[0m\u001b[0;34m:\u001b[0m\u001b[0;34m\u001b[0m\u001b[0;34m\u001b[0m\u001b[0m\n",
      "\u001b[0;32m~/miniconda3/envs/perses-rbd-ace2-direct/lib/python3.8/site-packages/openmm/openmm.py\u001b[0m in \u001b[0;36m__init__\u001b[0;34m(self, *args)\u001b[0m\n\u001b[1;32m  12701\u001b[0m             \u001b[0ma\u001b[0m \u001b[0mset\u001b[0m \u001b[0mof\u001b[0m \u001b[0mvalues\u001b[0m \u001b[0;32mfor\u001b[0m \u001b[0mplatform\u001b[0m\u001b[0;34m-\u001b[0m\u001b[0mspecific\u001b[0m \u001b[0mproperties\u001b[0m\u001b[0;34m.\u001b[0m \u001b[0mKeys\u001b[0m \u001b[0mare\u001b[0m \u001b[0mthe\u001b[0m \u001b[0mproperty\u001b[0m \u001b[0mnames\u001b[0m\u001b[0;34m.\u001b[0m\u001b[0;34m\u001b[0m\u001b[0;34m\u001b[0m\u001b[0m\n\u001b[1;32m  12702\u001b[0m         \"\"\"\n\u001b[0;32m> 12703\u001b[0;31m         \u001b[0m_openmm\u001b[0m\u001b[0;34m.\u001b[0m\u001b[0mContext_swiginit\u001b[0m\u001b[0;34m(\u001b[0m\u001b[0mself\u001b[0m\u001b[0;34m,\u001b[0m \u001b[0m_openmm\u001b[0m\u001b[0;34m.\u001b[0m\u001b[0mnew_Context\u001b[0m\u001b[0;34m(\u001b[0m\u001b[0;34m*\u001b[0m\u001b[0margs\u001b[0m\u001b[0;34m)\u001b[0m\u001b[0;34m)\u001b[0m\u001b[0;34m\u001b[0m\u001b[0;34m\u001b[0m\u001b[0m\n\u001b[0m\u001b[1;32m  12704\u001b[0m \u001b[0;34m\u001b[0m\u001b[0m\n\u001b[1;32m  12705\u001b[0m         \u001b[0mself\u001b[0m\u001b[0;34m.\u001b[0m\u001b[0m_system\u001b[0m \u001b[0;34m=\u001b[0m \u001b[0margs\u001b[0m\u001b[0;34m[\u001b[0m\u001b[0;36m0\u001b[0m\u001b[0;34m]\u001b[0m\u001b[0;34m\u001b[0m\u001b[0;34m\u001b[0m\u001b[0m\n",
      "\u001b[0;31mKeyboardInterrupt\u001b[0m: "
     ]
    }
   ],
   "source": [
    "positions = htf.old_positions(htf.hybrid_positions)\n",
    "\n",
    "geometry_engine = FFAllAngleGeometryEngine(metadata=None,\n",
    "                                                use_sterics=False,\n",
    "                                                n_bond_divisions=100,\n",
    "                                                n_angle_divisions=180,\n",
    "                                                n_torsion_divisions=360,\n",
    "                                                verbose=True,\n",
    "                                                storage=None,\n",
    "                                                bond_softening_constant=1.0,\n",
    "                                                angle_softening_constant=1.0,\n",
    "                                                neglect_angles = False,\n",
    "                                                use_14_nonbondeds = True)\n",
    "\n",
    "# Only validate energy bookkeeping if the WT and proposed residues do not involve rings\n",
    "validate_bool = False\n",
    "\n",
    "# Create geometry proposal\n",
    "for i in range(5):\n",
    "    new_positions, logp_proposal = geometry_engine.propose(topology_proposal, positions, beta,\n",
    "                                                               validate_energy_bookkeeping=validate_bool)\n",
    "    logp_reverse = geometry_engine.logp_reverse(topology_proposal, new_positions, positions, beta,\n",
    "                                            validate_energy_bookkeeping=validate_bool)\n",
    "    # Check potential energy\n",
    "    platform = openmm.Platform.getPlatformByName('Reference')\n",
    "    integrator = LangevinIntegrator(temperature=temperature)\n",
    "    context = openmm.Context(topology_proposal.new_system, integrator, platform)\n",
    "    context.setPeriodicBoxVectors(*topology_proposal.new_system.getDefaultPeriodicBoxVectors())\n",
    "    context.setPositions(new_positions)\n",
    "    context.setVelocitiesToTemperature(temperature)\n",
    "    potential_energy = context.getState(getEnergy=True).getPotentialEnergy()\n",
    "\n",
    "    print(\"POTENTIAL ENERGY: \", potential_energy)\n",
    "    app.PDBFile.writeFile(topology_proposal.new_topology, new_positions, open(os.path.join(outdir, f\"minimized_{i}.pdb\"), \"w\"), keepIds=True)\n",
    "    "
   ]
  },
  {
   "cell_type": "code",
   "execution_count": 14,
   "id": "6a744131",
   "metadata": {},
   "outputs": [],
   "source": [
    "pdb = app.PDBFile(os.path.join(outdir, \"minimized_0.pdb\"))\n",
    "\n",
    "\n"
   ]
  },
  {
   "cell_type": "code",
   "execution_count": 15,
   "id": "3a95be35",
   "metadata": {},
   "outputs": [],
   "source": [
    "integrator = LangevinIntegrator(timestep=4.0 * unit.femtoseconds)\n",
    "platform_name = 'CUDA'\n",
    "platform = openmm.Platform.getPlatformByName(platform_name)\n",
    "if platform_name in ['CUDA', 'OpenCL']:\n",
    "    platform.setPropertyDefaultValue('Precision', 'mixed')\n",
    "if platform_name in ['CUDA']:\n",
    "    platform.setPropertyDefaultValue('DeterministicForces', 'true')\n",
    "\n"
   ]
  },
  {
   "cell_type": "code",
   "execution_count": 16,
   "id": "3b5cbc3d",
   "metadata": {},
   "outputs": [
    {
     "name": "stdout",
     "output_type": "stream",
     "text": [
      "POTENTIAL ENERGY:  409488352.9070268 kJ/mol\n"
     ]
    }
   ],
   "source": [
    "context = openmm.Context(htf._topology_proposal.new_system, integrator, platform)\n",
    "context.setPositions(pdb.positions)\n",
    "potential_energy = context.getState(getEnergy=True).getPotentialEnergy()\n",
    "print(\"POTENTIAL ENERGY: \", potential_energy)"
   ]
  },
  {
   "cell_type": "code",
   "execution_count": 17,
   "id": "70f15a7c",
   "metadata": {},
   "outputs": [],
   "source": [
    "openmm.LocalEnergyMinimizer.minimize(context)"
   ]
  },
  {
   "cell_type": "code",
   "execution_count": 18,
   "id": "58172cdf",
   "metadata": {},
   "outputs": [],
   "source": [
    "pos = context.getState(getPositions=True).getPositions()"
   ]
  },
  {
   "cell_type": "code",
   "execution_count": 20,
   "id": "e2b07d84",
   "metadata": {},
   "outputs": [],
   "source": [
    "app.PDBFile.writeFile(htf._topology_proposal.new_topology, pos, open(\"/data/chodera/zhangi/perses_benchmark/neq/14/113/complex_new_minimized_0.pdb\", \"w\"), keepIds=True)"
   ]
  },
  {
   "cell_type": "code",
   "execution_count": 21,
   "id": "bb59ef77",
   "metadata": {},
   "outputs": [
    {
     "name": "stdout",
     "output_type": "stream",
     "text": [
      "POTENTIAL ENERGY:  -5822689.320420526 kJ/mol\n"
     ]
    }
   ],
   "source": [
    "potential_energy = context.getState(getEnergy=True).getPotentialEnergy()\n",
    "print(\"POTENTIAL ENERGY: \", potential_energy)"
   ]
  },
  {
   "cell_type": "code",
   "execution_count": null,
   "id": "b0567cb3",
   "metadata": {},
   "outputs": [],
   "source": []
  },
  {
   "cell_type": "code",
   "execution_count": 22,
   "id": "67b68fe5",
   "metadata": {},
   "outputs": [],
   "source": [
    "pdb = app.PDBFile(os.path.join(outdir, \"minimized_3.pdb\"))\n",
    "\n",
    "\n"
   ]
  },
  {
   "cell_type": "code",
   "execution_count": 23,
   "id": "d6b4ca66",
   "metadata": {},
   "outputs": [],
   "source": [
    "integrator = LangevinIntegrator(timestep=4.0 * unit.femtoseconds)\n",
    "platform_name = 'CUDA'\n",
    "platform = openmm.Platform.getPlatformByName(platform_name)\n",
    "if platform_name in ['CUDA', 'OpenCL']:\n",
    "    platform.setPropertyDefaultValue('Precision', 'mixed')\n",
    "if platform_name in ['CUDA']:\n",
    "    platform.setPropertyDefaultValue('DeterministicForces', 'true')\n",
    "\n"
   ]
  },
  {
   "cell_type": "code",
   "execution_count": 24,
   "id": "f0c47390",
   "metadata": {},
   "outputs": [
    {
     "name": "stdout",
     "output_type": "stream",
     "text": [
      "POTENTIAL ENERGY:  2315388684830571.5 kJ/mol\n"
     ]
    }
   ],
   "source": [
    "context = openmm.Context(htf._topology_proposal.new_system, integrator, platform)\n",
    "context.setPositions(pdb.positions)\n",
    "potential_energy = context.getState(getEnergy=True).getPotentialEnergy()\n",
    "print(\"POTENTIAL ENERGY: \", potential_energy)"
   ]
  },
  {
   "cell_type": "code",
   "execution_count": 25,
   "id": "30fef63e",
   "metadata": {},
   "outputs": [],
   "source": [
    "openmm.LocalEnergyMinimizer.minimize(context)"
   ]
  },
  {
   "cell_type": "code",
   "execution_count": 26,
   "id": "25e973e0",
   "metadata": {},
   "outputs": [],
   "source": [
    "pos = context.getState(getPositions=True).getPositions()"
   ]
  },
  {
   "cell_type": "code",
   "execution_count": 27,
   "id": "6bd818f6",
   "metadata": {},
   "outputs": [],
   "source": [
    "app.PDBFile.writeFile(htf._topology_proposal.new_topology, pos, open(\"/data/chodera/zhangi/perses_benchmark/neq/14/113/complex_new_minimized_3.pdb\", \"w\"), keepIds=True)"
   ]
  },
  {
   "cell_type": "code",
   "execution_count": 28,
   "id": "e56a9779",
   "metadata": {},
   "outputs": [
    {
     "name": "stdout",
     "output_type": "stream",
     "text": [
      "POTENTIAL ENERGY:  -5841484.500344999 kJ/mol\n"
     ]
    }
   ],
   "source": [
    "potential_energy = context.getState(getEnergy=True).getPotentialEnergy()\n",
    "print(\"POTENTIAL ENERGY: \", potential_energy)"
   ]
  },
  {
   "cell_type": "code",
   "execution_count": null,
   "id": "de1364bb",
   "metadata": {},
   "outputs": [],
   "source": []
  },
  {
   "cell_type": "markdown",
   "id": "d215f782",
   "metadata": {},
   "source": [
    "# Generate geometry proposals for ASN->TYR"
   ]
  },
  {
   "cell_type": "code",
   "execution_count": 21,
   "id": "60fd92c4",
   "metadata": {},
   "outputs": [],
   "source": [
    "from openmmforcefields.generators import SystemGenerator\n",
    "from simtk import openmm\n",
    "from simtk.openmm import app, unit\n",
    "from openmmtools.integrators import LangevinIntegrator \n",
    "from perses.rjmc.geometry import FFAllAngleGeometryEngine\n",
    "from perses.rjmc.topology_proposal import PointMutationEngine\n",
    "\n",
    "from openmmtools.constants import kB\n",
    "temperature = 300*unit.kelvin\n",
    "# Compute kT and inverse temperature.\n",
    "kT = kB * temperature\n",
    "beta = 1.0 / kT"
   ]
  },
  {
   "cell_type": "code",
   "execution_count": 6,
   "id": "6749a4f2",
   "metadata": {},
   "outputs": [],
   "source": [
    "pdb = app.PDBFile(\"../../input/asn_vacuum.pdb\")"
   ]
  },
  {
   "cell_type": "code",
   "execution_count": 4,
   "id": "794cc48b",
   "metadata": {},
   "outputs": [],
   "source": [
    "forcefield_files = ['gaff.xml', 'amber14/protein.ff14SB.xml', 'amber14/tip3p.xml']"
   ]
  },
  {
   "cell_type": "code",
   "execution_count": 7,
   "id": "b18e1b9b",
   "metadata": {},
   "outputs": [],
   "source": [
    "barostat = None\n",
    "system_generator = SystemGenerator(forcefield_files,\n",
    "                               barostat=barostat,\n",
    "                               forcefield_kwargs={'removeCMMotion': False,\n",
    "                                                    'ewaldErrorTolerance': 1e-4,\n",
    "                                                    'constraints' : app.HBonds,\n",
    "                                                    'hydrogenMass' : 4 * unit.amus},\n",
    "                                nonperiodic_forcefield_kwargs={'nonbondedMethod': app.NoCutoff},\n",
    "                                small_molecule_forcefield='gaff-2.11',\n",
    "                                molecules=None,\n",
    "                                cache=None)\n",
    "\n",
    "system = system_generator.create_system(pdb.topology) # Update the parametrization scheme to amberff14sb\n"
   ]
  },
  {
   "cell_type": "code",
   "execution_count": 9,
   "id": "3d1f9532",
   "metadata": {},
   "outputs": [],
   "source": [
    "integrator = LangevinIntegrator(timestep=4.0 * unit.femtoseconds)\n",
    "platform_name = 'CUDA'\n",
    "platform = openmm.Platform.getPlatformByName(platform_name)\n",
    "if platform_name in ['CUDA', 'OpenCL']:\n",
    "    platform.setPropertyDefaultValue('Precision', 'mixed')\n",
    "if platform_name in ['CUDA']:\n",
    "    platform.setPropertyDefaultValue('DeterministicForces', 'true')\n",
    "\n"
   ]
  },
  {
   "cell_type": "code",
   "execution_count": 10,
   "id": "585d42a7",
   "metadata": {},
   "outputs": [],
   "source": [
    "context = openmm.Context(system, integrator, platform)\n",
    "context.setPositions(pdb.positions)\n",
    "openmm.LocalEnergyMinimizer.minimize(context)"
   ]
  },
  {
   "cell_type": "code",
   "execution_count": 13,
   "id": "9e2e183f",
   "metadata": {},
   "outputs": [],
   "source": [
    "pos = context.getState(getPositions=True).getPositions()\n",
    "app.PDBFile.writeFile(pdb.topology, pos, open(\"asn_minimized.pdb\", \"w\"), keepIds=True)"
   ]
  },
  {
   "cell_type": "code",
   "execution_count": 15,
   "id": "d0031e83",
   "metadata": {},
   "outputs": [],
   "source": [
    "# Create the point mutation engine\n",
    "new_res = 'TYR'\n",
    "point_mutation_engine = PointMutationEngine(wildtype_topology=pdb.topology,\n",
    "                                            system_generator=system_generator,\n",
    "                                            chain_id='A', # Denote the chain id allowed to mutate (it's always a string variable)\n",
    "                                            max_point_mutants=1,\n",
    "                                            residues_allowed_to_mutate=['2'], # The residue ids allowed to mutate\n",
    "                                            allowed_mutations=[('2', new_res)], # The residue ids allowed to mutate with the three-letter code allowed to change\n",
    "                                            aggregate=True) # Always allow aggregation\n"
   ]
  },
  {
   "cell_type": "code",
   "execution_count": 16,
   "id": "f55eccc2",
   "metadata": {},
   "outputs": [
    {
     "name": "stderr",
     "output_type": "stream",
     "text": [
      "INFO:proposal_generator:\tConducting polymer point mutation proposal...\n",
      "INFO:rdkit:Enabling RDKit 2021.03.4 jupyter extensions\n",
      "WARNING:atom_mapping:Molecules do not appear to share a common scaffold.\n",
      "WARNING:atom_mapping:Proceeding with direct mapping of molecules, but please check atom mapping and the geometry of the ligands.\n",
      "INFO:proposal_generator:[Atom(name=CB, atomic number=6), Atom(name=CG, atomic number=6), Atom(name=ND2, atomic number=7), Atom(name=OD1, atomic number=8), Atom(name=HB2, atomic number=1), Atom(name=HB3, atomic number=1), Atom(name=HD21, atomic number=1), Atom(name=HD22, atomic number=1)]\n",
      "INFO:proposal_generator:[Atom(name=CB, atomic number=6), Atom(name=CG, atomic number=6), Atom(name=CD1, atomic number=6), Atom(name=CD2, atomic number=6), Atom(name=CE1, atomic number=6), Atom(name=CE2, atomic number=6), Atom(name=CZ, atomic number=6), Atom(name=OH, atomic number=8), Atom(name=HB2, atomic number=1), Atom(name=HB3, atomic number=1), Atom(name=HD1, atomic number=1), Atom(name=HD2, atomic number=1), Atom(name=HE1, atomic number=1), Atom(name=HE2, atomic number=1), Atom(name=HH, atomic number=1)]\n"
     ]
    }
   ],
   "source": [
    "topology_proposal = point_mutation_engine.propose(current_system=system, current_topology=pdb.topology)"
   ]
  },
  {
   "cell_type": "code",
   "execution_count": 19,
   "id": "d6c37288",
   "metadata": {},
   "outputs": [],
   "source": [
    "geometry_engine = FFAllAngleGeometryEngine(metadata=None,\n",
    "                                       use_sterics=False,\n",
    "                                       n_bond_divisions=100,\n",
    "                                       n_angle_divisions=180,\n",
    "                                       n_torsion_divisions=360,\n",
    "                                       verbose=True,\n",
    "                                       storage=None,\n",
    "                                       bond_softening_constant=1.0,\n",
    "                                       angle_softening_constant=1.0,\n",
    "                                       neglect_angles = False,\n",
    "                                       use_14_nonbondeds = True)\n",
    "\n",
    "\n"
   ]
  },
  {
   "cell_type": "code",
   "execution_count": 25,
   "id": "8972ba98",
   "metadata": {
    "scrolled": true
   },
   "outputs": [
    {
     "name": "stderr",
     "output_type": "stream",
     "text": [
      "INFO:geometry:propose: performing forward proposal\n",
      "INFO:geometry:propose: unique new atoms detected; proceeding to _logp_propose...\n",
      "INFO:geometry:Conducting forward proposal...\n",
      "INFO:geometry:Computing proposal order with NetworkX...\n",
      "INFO:geometry:number of atoms to be placed: 15\n",
      "INFO:geometry:Atom index proposal order is [10, 15, 16, 25, 18, 20, 23, 21, 11, 12, 22, 17, 19, 24, 26]\n",
      "INFO:geometry:omitted_bonds: [(20, 23)]\n",
      "INFO:geometry:direction of proposal is forward; creating atoms_with_positions and new positions from old system/topology...\n",
      "INFO:geometry:creating growth system...\n",
      "INFO:geometry:\tcreating bond force...\n",
      "INFO:geometry:\tthere are 17 bonds in reference force.\n",
      "INFO:geometry:\tcreating angle force...\n",
      "INFO:geometry:\tthere are 55 angles in reference force.\n",
      "INFO:geometry:\tcreating torsion force...\n",
      "INFO:geometry:\tcreating extra torsions force...\n",
      "INFO:geometry:\tthere are 86 torsions in reference force.\n",
      "INFO:geometry:\tcreating nonbonded force...\n",
      "INFO:geometry:\t\tgrabbing reference nonbonded method, cutoff, switching function, switching distance...\n",
      "INFO:geometry:\t\tcreating nonbonded exception force (i.e. custom bond for 1,4s)...\n",
      "INFO:geometry:\t\tlooping through exceptions calculating growth indices, and adding appropriate interactions to custom bond force.\n",
      "INFO:geometry:\t\tthere are 158 in the reference Nonbonded force\n",
      "WARNING:geometry:\t\t\t\t\tchiral atom <Atom 8 (CA) of chain 0 residue 1 (TYR)> with neighbors [<Atom 13 (C) of chain 0 residue 1 (TYR)>, <Atom 10 (CB) of chain 0 residue 1 (TYR)>, <Atom 9 (HA) of chain 0 residue 1 (TYR)>, <Atom 6 (N) of chain 0 residue 1 (TYR)>] is surrounded by 3 core neighbors.  omitting chirality bias torsion\n",
      "INFO:geometry:Neglected angle terms : []\n",
      "INFO:geometry:omitted_growth_terms: {'bonds': [(20, 23)], 'angles': [(18, 20, 23), (20, 23, 24), (20, 23, 25), (21, 20, 23)], 'torsions': [(15, 25, 23, 20), (16, 18, 20, 23), (18, 20, 23, 24), (18, 20, 23, 25), (19, 18, 20, 23), (20, 23, 25, 26), (21, 20, 23, 24), (21, 20, 23, 25), (22, 21, 20, 23), (22, 21, 20, 23), (18, 23, 20, 21)], '1,4s': [(15, 20), (16, 23), (19, 23), (22, 23), (18, 24), (21, 24), (18, 25), (21, 25), (20, 26)]}\n",
      "INFO:geometry:extra torsions: {0: (22, 21, 20, 18, [1, Quantity(value=-0.002870001521861454, unit=radian), Quantity(value=1200.0, unit=kilocalorie/mole), 11]), 1: (19, 18, 20, 21, [1, Quantity(value=3.1393768365632813, unit=radian), Quantity(value=1200.0, unit=kilocalorie/mole), 13]), 2: (16, 18, 20, 21, [1, Quantity(value=0.0022213748613295614, unit=radian), Quantity(value=1200.0, unit=kilocalorie/mole), 8]), 3: (19, 18, 16, 17, [1, Quantity(value=3.139771005499866, unit=radian), Quantity(value=1200.0, unit=kilocalorie/mole), 13]), 4: (19, 18, 16, 15, [1, Quantity(value=0.0069177728493503565, unit=radian), Quantity(value=1200.0, unit=kilocalorie/mole), 13]), 5: (20, 18, 16, 17, [1, Quantity(value=-0.0062808214457872324, unit=radian), Quantity(value=1200.0, unit=kilocalorie/mole), 12]), 6: (20, 18, 16, 15, [1, Quantity(value=-3.1391340540962216, unit=radian), Quantity(value=1200.0, unit=kilocalorie/mole), 6]), 7: (18, 16, 15, 25, [1, Quantity(value=3.1373539745559547, unit=radian), Quantity(value=1200.0, unit=kilocalorie/mole), 5]), 8: (18, 16, 15, 10, [1, Quantity(value=-0.012555513663626172, unit=radian), Quantity(value=1200.0, unit=kilocalorie/mole), 5]), 9: (17, 16, 15, 25, [1, Quantity(value=0.004577035070323365, unit=radian), Quantity(value=1200.0, unit=kilocalorie/mole), 12]), 10: (17, 16, 15, 10, [1, Quantity(value=3.137852854030348, unit=radian), Quantity(value=1200.0, unit=kilocalorie/mole), 12]), 11: (24, 23, 25, 15, [1, Quantity(value=-0.006701599266596858, unit=radian), Quantity(value=1200.0, unit=kilocalorie/mole), 14]), 12: (24, 23, 25, 26, [1, Quantity(value=-3.134703221499019, unit=radian), Quantity(value=1200.0, unit=kilocalorie/mole), 15]), 13: (16, 15, 25, 23, [1, Quantity(value=-3.137699428633435, unit=radian), Quantity(value=1200.0, unit=kilocalorie/mole), 7]), 14: (16, 15, 25, 26, [1, Quantity(value=-0.009793556643590051, unit=radian), Quantity(value=1200.0, unit=kilocalorie/mole), 15]), 15: (10, 15, 25, 23, [1, Quantity(value=0.012140215312939961, unit=radian), Quantity(value=1200.0, unit=kilocalorie/mole), 7]), 16: (10, 15, 25, 26, [1, Quantity(value=3.14004608730288, unit=radian), Quantity(value=1200.0, unit=kilocalorie/mole), 15]), 17: (10, 8, 6, 7, [1, Quantity(value=1.047411640674822, unit=radian), Quantity(value=1200.0, unit=kilocalorie/mole), 1])}\n",
      "INFO:geometry:neglected angle terms include []\n",
      "INFO:geometry:log probability choice of torsions and atom order: -23.488668481063694\n",
      "INFO:geometry:creating platform, integrators, and contexts; setting growth parameter\n"
     ]
    },
    {
     "name": "stdout",
     "output_type": "stream",
     "text": [
      "conducting subsequent work with the following platform: CUDA\n"
     ]
    },
    {
     "name": "stderr",
     "output_type": "stream",
     "text": [
      "INFO:geometry:setting atoms_with_positions context new positions\n"
     ]
    },
    {
     "name": "stdout",
     "output_type": "stream",
     "text": [
      "conducting subsequent work with the following platform: CUDA\n"
     ]
    },
    {
     "name": "stderr",
     "output_type": "stream",
     "text": [
      "INFO:geometry:There are 15 new atoms\n",
      "INFO:geometry:\treduced angle potential = 0.018297205083098084.\n",
      "INFO:geometry:\treduced angle potential = 0.0017512408455965297.\n",
      "INFO:geometry:\treduced angle potential = 0.19804990154351074.\n",
      "INFO:geometry:\treduced angle potential = 0.5786945224126003.\n",
      "INFO:geometry:\treduced angle potential = 1.3891168557141718.\n",
      "INFO:geometry:\treduced angle potential = 2.7509704781852733.\n",
      "INFO:geometry:\treduced angle potential = 0.0004169074618967446.\n",
      "INFO:geometry:\treduced angle potential = 0.027057048114269382.\n",
      "INFO:geometry:\treduced angle potential = 0.01817911400534157.\n",
      "INFO:geometry:\treduced angle potential = 1.346068800150258.\n",
      "INFO:geometry:\treduced angle potential = 0.14026096819804518.\n",
      "INFO:geometry:\treduced angle potential = 0.14060751990384923.\n",
      "INFO:geometry:\treduced angle potential = 0.014249066433631918.\n",
      "INFO:geometry:\treduced angle potential = 0.0005737253802920767.\n",
      "INFO:geometry:\treduced angle potential = 0.001659243744820202.\n",
      "INFO:geometry:\tbeginning construction of no_nonbonded final system...\n",
      "INFO:geometry:\tinitial no-nonbonded final system forces ['HarmonicBondForce', 'HarmonicAngleForce', 'PeriodicTorsionForce', 'NonbondedForce']\n",
      "INFO:geometry:\tfinal no-nonbonded final system forces dict_keys(['HarmonicBondForce', 'HarmonicAngleForce', 'PeriodicTorsionForce', 'NonbondedForce'])\n",
      "INFO:geometry:\tthere are 17 bond forces in the no-nonbonded final system\n",
      "INFO:geometry:\tthere are 55 angle forces in the no-nonbonded final system\n",
      "INFO:geometry:\tthere are 86 torsion forces in the no-nonbonded final system\n",
      "INFO:geometry:forward final system defined with 0 neglected angles.\n"
     ]
    },
    {
     "name": "stdout",
     "output_type": "stream",
     "text": [
      "conducting subsequent work with the following platform: CUDA\n",
      "conducting subsequent work with the following platform: CUDA\n"
     ]
    },
    {
     "name": "stderr",
     "output_type": "stream",
     "text": [
      "INFO:geometry:total reduced potential before atom placement: 9.117938551333578\n"
     ]
    },
    {
     "name": "stdout",
     "output_type": "stream",
     "text": [
      "conducting subsequent work with the following platform: CUDA\n",
      "conducting subsequent work with the following platform: CUDA\n",
      "conducting subsequent work with the following platform: CUDA\n"
     ]
    },
    {
     "name": "stderr",
     "output_type": "stream",
     "text": [
      "INFO:geometry:total reduced energy added from growth system: 22.901198145856075\n",
      "INFO:geometry:final reduced energy 37.69435041851095\n",
      "INFO:geometry:sum of energies: 32.01913669718965\n",
      "INFO:geometry:magnitude of difference in the energies: 5.675213721321295\n",
      "INFO:geometry:Final logp_proposal: 123.4462235866461\n"
     ]
    },
    {
     "name": "stdout",
     "output_type": "stream",
     "text": [
      "added energy components: [('CustomBondForce', 3.2140165726663366), ('CustomAngleForce', 12.449681522662656), ('CustomTorsionForce', 11.607848848502655), ('CustomBondForce', -4.3703487979755735)]\n"
     ]
    },
    {
     "name": "stderr",
     "output_type": "stream",
     "text": [
      "INFO:geometry:propose: performing forward proposal\n",
      "INFO:geometry:propose: unique new atoms detected; proceeding to _logp_propose...\n",
      "INFO:geometry:Conducting forward proposal...\n",
      "INFO:geometry:Computing proposal order with NetworkX...\n",
      "INFO:geometry:number of atoms to be placed: 15\n",
      "INFO:geometry:Atom index proposal order is [10, 15, 16, 25, 23, 18, 20, 21, 17, 19, 24, 12, 22, 11, 26]\n",
      "INFO:geometry:omitted_bonds: [(20, 23)]\n",
      "INFO:geometry:direction of proposal is forward; creating atoms_with_positions and new positions from old system/topology...\n",
      "INFO:geometry:creating growth system...\n",
      "INFO:geometry:\tcreating bond force...\n",
      "INFO:geometry:\tthere are 17 bonds in reference force.\n",
      "INFO:geometry:\tcreating angle force...\n",
      "INFO:geometry:\tthere are 55 angles in reference force.\n",
      "INFO:geometry:\tcreating torsion force...\n",
      "INFO:geometry:\tcreating extra torsions force...\n",
      "INFO:geometry:\tthere are 86 torsions in reference force.\n",
      "INFO:geometry:\tcreating nonbonded force...\n",
      "INFO:geometry:\t\tgrabbing reference nonbonded method, cutoff, switching function, switching distance...\n",
      "INFO:geometry:\t\tcreating nonbonded exception force (i.e. custom bond for 1,4s)...\n",
      "INFO:geometry:\t\tlooping through exceptions calculating growth indices, and adding appropriate interactions to custom bond force.\n",
      "INFO:geometry:\t\tthere are 158 in the reference Nonbonded force\n",
      "WARNING:geometry:\t\t\t\t\tchiral atom <Atom 8 (CA) of chain 0 residue 1 (TYR)> with neighbors [<Atom 13 (C) of chain 0 residue 1 (TYR)>, <Atom 10 (CB) of chain 0 residue 1 (TYR)>, <Atom 9 (HA) of chain 0 residue 1 (TYR)>, <Atom 6 (N) of chain 0 residue 1 (TYR)>] is surrounded by 3 core neighbors.  omitting chirality bias torsion\n",
      "INFO:geometry:Neglected angle terms : []\n",
      "INFO:geometry:omitted_growth_terms: {'bonds': [(20, 23)], 'angles': [(18, 20, 23), (20, 23, 24), (20, 23, 25), (21, 20, 23)], 'torsions': [(15, 25, 23, 20), (16, 18, 20, 23), (18, 20, 23, 24), (18, 20, 23, 25), (19, 18, 20, 23), (20, 23, 25, 26), (21, 20, 23, 24), (21, 20, 23, 25), (22, 21, 20, 23), (22, 21, 20, 23), (18, 23, 20, 21)], '1,4s': [(15, 20), (16, 23), (19, 23), (22, 23), (18, 24), (21, 24), (18, 25), (21, 25), (20, 26)]}\n",
      "INFO:geometry:extra torsions: {0: (22, 21, 20, 18, [1, Quantity(value=-0.002870001521861454, unit=radian), Quantity(value=1200.0, unit=kilocalorie/mole), 13]), 1: (19, 18, 20, 21, [1, Quantity(value=3.1393768365632813, unit=radian), Quantity(value=1200.0, unit=kilocalorie/mole), 10]), 2: (16, 18, 20, 21, [1, Quantity(value=0.0022213748613295614, unit=radian), Quantity(value=1200.0, unit=kilocalorie/mole), 8]), 3: (19, 18, 16, 17, [1, Quantity(value=3.139771005499866, unit=radian), Quantity(value=1200.0, unit=kilocalorie/mole), 10]), 4: (19, 18, 16, 15, [1, Quantity(value=0.0069177728493503565, unit=radian), Quantity(value=1200.0, unit=kilocalorie/mole), 10]), 5: (20, 18, 16, 17, [1, Quantity(value=-0.0062808214457872324, unit=radian), Quantity(value=1200.0, unit=kilocalorie/mole), 9]), 6: (20, 18, 16, 15, [1, Quantity(value=-3.1391340540962216, unit=radian), Quantity(value=1200.0, unit=kilocalorie/mole), 7]), 7: (18, 16, 15, 25, [1, Quantity(value=3.1373539745559547, unit=radian), Quantity(value=1200.0, unit=kilocalorie/mole), 6]), 8: (18, 16, 15, 10, [1, Quantity(value=-0.012555513663626172, unit=radian), Quantity(value=1200.0, unit=kilocalorie/mole), 6]), 9: (17, 16, 15, 25, [1, Quantity(value=0.004577035070323365, unit=radian), Quantity(value=1200.0, unit=kilocalorie/mole), 9]), 10: (17, 16, 15, 10, [1, Quantity(value=3.137852854030348, unit=radian), Quantity(value=1200.0, unit=kilocalorie/mole), 9]), 11: (24, 23, 25, 15, [1, Quantity(value=-0.006701599266596858, unit=radian), Quantity(value=1200.0, unit=kilocalorie/mole), 11]), 12: (24, 23, 25, 26, [1, Quantity(value=-3.134703221499019, unit=radian), Quantity(value=1200.0, unit=kilocalorie/mole), 15]), 13: (16, 15, 25, 23, [1, Quantity(value=-3.137699428633435, unit=radian), Quantity(value=1200.0, unit=kilocalorie/mole), 5]), 14: (16, 15, 25, 26, [1, Quantity(value=-0.009793556643590051, unit=radian), Quantity(value=1200.0, unit=kilocalorie/mole), 15]), 15: (10, 15, 25, 23, [1, Quantity(value=0.012140215312939961, unit=radian), Quantity(value=1200.0, unit=kilocalorie/mole), 5]), 16: (10, 15, 25, 26, [1, Quantity(value=3.14004608730288, unit=radian), Quantity(value=1200.0, unit=kilocalorie/mole), 15]), 17: (10, 8, 6, 7, [1, Quantity(value=1.047411640674822, unit=radian), Quantity(value=1200.0, unit=kilocalorie/mole), 1])}\n",
      "INFO:geometry:neglected angle terms include []\n",
      "INFO:geometry:log probability choice of torsions and atom order: -23.57643145523263\n",
      "INFO:geometry:creating platform, integrators, and contexts; setting growth parameter\n"
     ]
    },
    {
     "name": "stdout",
     "output_type": "stream",
     "text": [
      "conducting subsequent work with the following platform: CUDA\n"
     ]
    },
    {
     "name": "stderr",
     "output_type": "stream",
     "text": [
      "INFO:geometry:setting atoms_with_positions context new positions\n"
     ]
    },
    {
     "name": "stdout",
     "output_type": "stream",
     "text": [
      "conducting subsequent work with the following platform: CUDA\n"
     ]
    },
    {
     "name": "stderr",
     "output_type": "stream",
     "text": [
      "INFO:geometry:There are 15 new atoms\n",
      "INFO:geometry:\treduced angle potential = 0.2512426847402909.\n",
      "INFO:geometry:\treduced angle potential = 1.525139664619262.\n",
      "INFO:geometry:\treduced angle potential = 1.7274942437992256.\n",
      "INFO:geometry:\treduced angle potential = 0.8408183239282642.\n",
      "INFO:geometry:\treduced angle potential = 0.04733045532830784.\n",
      "INFO:geometry:\treduced angle potential = 0.053454979035807045.\n",
      "INFO:geometry:\treduced angle potential = 1.0580689356027688.\n",
      "INFO:geometry:\treduced angle potential = 1.6833662835303.\n",
      "INFO:geometry:\treduced angle potential = 0.44150325990088757.\n",
      "INFO:geometry:\treduced angle potential = 0.13750522120256467.\n",
      "INFO:geometry:\treduced angle potential = 0.7951519070745404.\n",
      "INFO:geometry:\treduced angle potential = 0.08338270629010147.\n",
      "INFO:geometry:\treduced angle potential = 0.22309822450736091.\n",
      "INFO:geometry:\treduced angle potential = 1.6769637134339577.\n",
      "INFO:geometry:\treduced angle potential = 0.006996481651008777.\n",
      "INFO:geometry:\tbeginning construction of no_nonbonded final system...\n",
      "INFO:geometry:\tinitial no-nonbonded final system forces ['HarmonicBondForce', 'HarmonicAngleForce', 'PeriodicTorsionForce', 'NonbondedForce']\n",
      "INFO:geometry:\tfinal no-nonbonded final system forces dict_keys(['HarmonicBondForce', 'HarmonicAngleForce', 'PeriodicTorsionForce', 'NonbondedForce'])\n",
      "INFO:geometry:\tthere are 17 bond forces in the no-nonbonded final system\n",
      "INFO:geometry:\tthere are 55 angle forces in the no-nonbonded final system\n",
      "INFO:geometry:\tthere are 86 torsion forces in the no-nonbonded final system\n",
      "INFO:geometry:forward final system defined with 0 neglected angles.\n"
     ]
    },
    {
     "name": "stdout",
     "output_type": "stream",
     "text": [
      "conducting subsequent work with the following platform: CUDA\n",
      "conducting subsequent work with the following platform: CUDA\n"
     ]
    },
    {
     "name": "stderr",
     "output_type": "stream",
     "text": [
      "INFO:geometry:total reduced potential before atom placement: 9.117938551333578\n"
     ]
    },
    {
     "name": "stdout",
     "output_type": "stream",
     "text": [
      "conducting subsequent work with the following platform: CUDA\n",
      "conducting subsequent work with the following platform: CUDA\n",
      "conducting subsequent work with the following platform: CUDA\n"
     ]
    },
    {
     "name": "stderr",
     "output_type": "stream",
     "text": [
      "INFO:geometry:total reduced energy added from growth system: 27.725045658437672\n",
      "INFO:geometry:final reduced energy 38.64123876257027\n",
      "INFO:geometry:sum of energies: 36.84298420977125\n",
      "INFO:geometry:magnitude of difference in the energies: 1.7982545527990155\n",
      "INFO:geometry:Final logp_proposal: 120.48388474339936\n"
     ]
    },
    {
     "name": "stdout",
     "output_type": "stream",
     "text": [
      "added energy components: [('CustomBondForce', 2.2787205467435543), ('CustomAngleForce', 19.05370266703903), ('CustomTorsionForce', 10.22257270758853), ('CustomBondForce', -3.8299502629334428)]\n"
     ]
    },
    {
     "name": "stderr",
     "output_type": "stream",
     "text": [
      "INFO:geometry:propose: performing forward proposal\n",
      "INFO:geometry:propose: unique new atoms detected; proceeding to _logp_propose...\n",
      "INFO:geometry:Conducting forward proposal...\n",
      "INFO:geometry:Computing proposal order with NetworkX...\n",
      "INFO:geometry:number of atoms to be placed: 15\n",
      "INFO:geometry:Atom index proposal order is [10, 15, 16, 25, 18, 20, 21, 23, 11, 26, 12, 17, 24, 19, 22]\n",
      "INFO:geometry:omitted_bonds: [(23, 25)]\n",
      "INFO:geometry:direction of proposal is forward; creating atoms_with_positions and new positions from old system/topology...\n",
      "INFO:geometry:creating growth system...\n",
      "INFO:geometry:\tcreating bond force...\n",
      "INFO:geometry:\tthere are 17 bonds in reference force.\n",
      "INFO:geometry:\tcreating angle force...\n",
      "INFO:geometry:\tthere are 55 angles in reference force.\n",
      "INFO:geometry:\tcreating torsion force...\n",
      "INFO:geometry:\tcreating extra torsions force...\n",
      "INFO:geometry:\tthere are 86 torsions in reference force.\n",
      "INFO:geometry:\tcreating nonbonded force...\n",
      "INFO:geometry:\t\tgrabbing reference nonbonded method, cutoff, switching function, switching distance...\n",
      "INFO:geometry:\t\tcreating nonbonded exception force (i.e. custom bond for 1,4s)...\n",
      "INFO:geometry:\t\tlooping through exceptions calculating growth indices, and adding appropriate interactions to custom bond force.\n",
      "INFO:geometry:\t\tthere are 158 in the reference Nonbonded force\n",
      "WARNING:geometry:\t\t\t\t\tchiral atom <Atom 8 (CA) of chain 0 residue 1 (TYR)> with neighbors [<Atom 13 (C) of chain 0 residue 1 (TYR)>, <Atom 10 (CB) of chain 0 residue 1 (TYR)>, <Atom 9 (HA) of chain 0 residue 1 (TYR)>, <Atom 6 (N) of chain 0 residue 1 (TYR)>] is surrounded by 3 core neighbors.  omitting chirality bias torsion\n",
      "INFO:geometry:Neglected angle terms : []\n",
      "INFO:geometry:omitted_growth_terms: {'bonds': [(23, 25)], 'angles': [(15, 25, 23), (20, 23, 25), (23, 25, 26), (24, 23, 25)], 'torsions': [(10, 15, 25, 23), (15, 25, 23, 20), (15, 25, 23, 24), (16, 15, 25, 23), (18, 20, 23, 25), (20, 23, 25, 26), (21, 20, 23, 25), (24, 23, 25, 26), (20, 25, 23, 24), (15, 23, 25, 26)], '1,4s': [(15, 20), (10, 23), (16, 23), (15, 24), (18, 25), (21, 25), (20, 26), (24, 26)]}\n",
      "INFO:geometry:extra torsions: {0: (22, 21, 20, 18, [1, Quantity(value=-0.002870001521861454, unit=radian), Quantity(value=1200.0, unit=kilocalorie/mole), 15]), 1: (22, 21, 20, 23, [1, Quantity(value=3.141243637296504, unit=radian), Quantity(value=1200.0, unit=kilocalorie/mole), 15]), 2: (19, 18, 20, 21, [1, Quantity(value=3.1393768365632813, unit=radian), Quantity(value=1200.0, unit=kilocalorie/mole), 14]), 3: (19, 18, 20, 23, [1, Quantity(value=-0.004738876670822734, unit=radian), Quantity(value=1200.0, unit=kilocalorie/mole), 14]), 4: (16, 18, 20, 21, [1, Quantity(value=0.0022213748613295614, unit=radian), Quantity(value=1200.0, unit=kilocalorie/mole), 7]), 5: (16, 18, 20, 23, [1, Quantity(value=3.1412909688070316, unit=radian), Quantity(value=1200.0, unit=kilocalorie/mole), 8]), 6: (19, 18, 16, 17, [1, Quantity(value=3.139771005499866, unit=radian), Quantity(value=1200.0, unit=kilocalorie/mole), 14]), 7: (19, 18, 16, 15, [1, Quantity(value=0.0069177728493503565, unit=radian), Quantity(value=1200.0, unit=kilocalorie/mole), 14]), 8: (20, 18, 16, 17, [1, Quantity(value=-0.0062808214457872324, unit=radian), Quantity(value=1200.0, unit=kilocalorie/mole), 12]), 9: (20, 18, 16, 15, [1, Quantity(value=-3.1391340540962216, unit=radian), Quantity(value=1200.0, unit=kilocalorie/mole), 6]), 10: (21, 20, 23, 24, [1, Quantity(value=-3.139177180078741, unit=radian), Quantity(value=1200.0, unit=kilocalorie/mole), 13]), 11: (18, 20, 23, 24, [1, Quantity(value=0.004943742033914678, unit=radian), Quantity(value=1200.0, unit=kilocalorie/mole), 13]), 12: (18, 16, 15, 25, [1, Quantity(value=3.1373539745559547, unit=radian), Quantity(value=1200.0, unit=kilocalorie/mole), 5]), 13: (18, 16, 15, 10, [1, Quantity(value=-0.012555513663626172, unit=radian), Quantity(value=1200.0, unit=kilocalorie/mole), 5]), 14: (17, 16, 15, 25, [1, Quantity(value=0.004577035070323365, unit=radian), Quantity(value=1200.0, unit=kilocalorie/mole), 12]), 15: (17, 16, 15, 10, [1, Quantity(value=3.137852854030348, unit=radian), Quantity(value=1200.0, unit=kilocalorie/mole), 12]), 16: (16, 15, 25, 26, [1, Quantity(value=-0.009793556643590051, unit=radian), Quantity(value=1200.0, unit=kilocalorie/mole), 10]), 17: (10, 15, 25, 26, [1, Quantity(value=3.14004608730288, unit=radian), Quantity(value=1200.0, unit=kilocalorie/mole), 10]), 18: (10, 8, 6, 7, [1, Quantity(value=1.047411640674822, unit=radian), Quantity(value=1200.0, unit=kilocalorie/mole), 1])}\n",
      "INFO:geometry:neglected angle terms include []\n",
      "INFO:geometry:log probability choice of torsions and atom order: -22.989677314944704\n",
      "INFO:geometry:creating platform, integrators, and contexts; setting growth parameter\n"
     ]
    },
    {
     "name": "stdout",
     "output_type": "stream",
     "text": [
      "conducting subsequent work with the following platform: CUDA\n"
     ]
    },
    {
     "name": "stderr",
     "output_type": "stream",
     "text": [
      "INFO:geometry:setting atoms_with_positions context new positions\n"
     ]
    },
    {
     "name": "stdout",
     "output_type": "stream",
     "text": [
      "conducting subsequent work with the following platform: CUDA\n"
     ]
    },
    {
     "name": "stderr",
     "output_type": "stream",
     "text": [
      "INFO:geometry:There are 15 new atoms\n",
      "INFO:geometry:\treduced angle potential = 0.08035823503702288.\n",
      "INFO:geometry:\treduced angle potential = 0.0022793628341715505.\n",
      "INFO:geometry:\treduced angle potential = 6.432362082126788e-05.\n",
      "INFO:geometry:\treduced angle potential = 0.6299426195424429.\n",
      "INFO:geometry:\treduced angle potential = 0.1872630299982328.\n",
      "INFO:geometry:\treduced angle potential = 0.046428852363809725.\n",
      "INFO:geometry:\treduced angle potential = 0.6386213680914505.\n",
      "INFO:geometry:\treduced angle potential = 0.13841117139201148.\n",
      "INFO:geometry:\treduced angle potential = 3.5357401219676543.\n",
      "INFO:geometry:\treduced angle potential = 0.07073094412264345.\n",
      "INFO:geometry:\treduced angle potential = 0.5366012175419844.\n",
      "INFO:geometry:\treduced angle potential = 0.922071221700945.\n",
      "INFO:geometry:\treduced angle potential = 0.024116516999980263.\n",
      "INFO:geometry:\treduced angle potential = 0.18205792874221513.\n",
      "INFO:geometry:\treduced angle potential = 0.021362488009218816.\n",
      "INFO:geometry:\tbeginning construction of no_nonbonded final system...\n",
      "INFO:geometry:\tinitial no-nonbonded final system forces ['HarmonicBondForce', 'HarmonicAngleForce', 'PeriodicTorsionForce', 'NonbondedForce']\n",
      "INFO:geometry:\tfinal no-nonbonded final system forces dict_keys(['HarmonicBondForce', 'HarmonicAngleForce', 'PeriodicTorsionForce', 'NonbondedForce'])\n",
      "INFO:geometry:\tthere are 17 bond forces in the no-nonbonded final system\n",
      "INFO:geometry:\tthere are 55 angle forces in the no-nonbonded final system\n",
      "INFO:geometry:\tthere are 86 torsion forces in the no-nonbonded final system\n",
      "INFO:geometry:forward final system defined with 0 neglected angles.\n"
     ]
    },
    {
     "name": "stdout",
     "output_type": "stream",
     "text": [
      "conducting subsequent work with the following platform: CUDA\n",
      "conducting subsequent work with the following platform: CUDA\n"
     ]
    },
    {
     "name": "stderr",
     "output_type": "stream",
     "text": [
      "INFO:geometry:total reduced potential before atom placement: 9.117938551333578\n"
     ]
    },
    {
     "name": "stdout",
     "output_type": "stream",
     "text": [
      "conducting subsequent work with the following platform: CUDA\n",
      "conducting subsequent work with the following platform: CUDA\n",
      "conducting subsequent work with the following platform: CUDA\n"
     ]
    },
    {
     "name": "stderr",
     "output_type": "stream",
     "text": [
      "INFO:geometry:total reduced energy added from growth system: -27.99350684140449\n",
      "INFO:geometry:final reduced energy 52.909341073341594\n",
      "INFO:geometry:sum of energies: -18.87556829007091\n",
      "INFO:geometry:magnitude of difference in the energies: 71.78490936341251\n",
      "INFO:geometry:Final logp_proposal: 122.86969445587856\n"
     ]
    },
    {
     "name": "stdout",
     "output_type": "stream",
     "text": [
      "added energy components: [('CustomBondForce', 4.4309329110333655), ('CustomAngleForce', 11.575144949511756), ('CustomTorsionForce', 10.107710314816105), ('CustomBondForce', -54.10729501676571)]\n"
     ]
    },
    {
     "name": "stderr",
     "output_type": "stream",
     "text": [
      "INFO:geometry:propose: performing forward proposal\n",
      "INFO:geometry:propose: unique new atoms detected; proceeding to _logp_propose...\n",
      "INFO:geometry:Conducting forward proposal...\n",
      "INFO:geometry:Computing proposal order with NetworkX...\n",
      "INFO:geometry:number of atoms to be placed: 15\n",
      "INFO:geometry:Atom index proposal order is [10, 15, 16, 18, 20, 25, 21, 23, 11, 24, 19, 17, 12, 22, 26]\n",
      "INFO:geometry:omitted_bonds: [(20, 23)]\n",
      "INFO:geometry:direction of proposal is forward; creating atoms_with_positions and new positions from old system/topology...\n",
      "INFO:geometry:creating growth system...\n",
      "INFO:geometry:\tcreating bond force...\n",
      "INFO:geometry:\tthere are 17 bonds in reference force.\n",
      "INFO:geometry:\tcreating angle force...\n",
      "INFO:geometry:\tthere are 55 angles in reference force.\n",
      "INFO:geometry:\tcreating torsion force...\n",
      "INFO:geometry:\tcreating extra torsions force...\n",
      "INFO:geometry:\tthere are 86 torsions in reference force.\n",
      "INFO:geometry:\tcreating nonbonded force...\n",
      "INFO:geometry:\t\tgrabbing reference nonbonded method, cutoff, switching function, switching distance...\n",
      "INFO:geometry:\t\tcreating nonbonded exception force (i.e. custom bond for 1,4s)...\n",
      "INFO:geometry:\t\tlooping through exceptions calculating growth indices, and adding appropriate interactions to custom bond force.\n",
      "INFO:geometry:\t\tthere are 158 in the reference Nonbonded force\n",
      "WARNING:geometry:\t\t\t\t\tchiral atom <Atom 8 (CA) of chain 0 residue 1 (TYR)> with neighbors [<Atom 13 (C) of chain 0 residue 1 (TYR)>, <Atom 10 (CB) of chain 0 residue 1 (TYR)>, <Atom 9 (HA) of chain 0 residue 1 (TYR)>, <Atom 6 (N) of chain 0 residue 1 (TYR)>] is surrounded by 3 core neighbors.  omitting chirality bias torsion\n",
      "INFO:geometry:Neglected angle terms : []\n",
      "INFO:geometry:omitted_growth_terms: {'bonds': [(20, 23)], 'angles': [(18, 20, 23), (20, 23, 24), (20, 23, 25), (21, 20, 23)], 'torsions': [(15, 25, 23, 20), (16, 18, 20, 23), (18, 20, 23, 24), (18, 20, 23, 25), (19, 18, 20, 23), (20, 23, 25, 26), (21, 20, 23, 24), (21, 20, 23, 25), (22, 21, 20, 23), (22, 21, 20, 23), (18, 23, 20, 21)], '1,4s': [(15, 20), (16, 23), (19, 23), (22, 23), (18, 24), (21, 24), (18, 25), (21, 25), (20, 26)]}\n",
      "INFO:geometry:extra torsions: {0: (22, 21, 20, 18, [1, Quantity(value=-0.002870001521861454, unit=radian), Quantity(value=1200.0, unit=kilocalorie/mole), 14]), 1: (19, 18, 20, 21, [1, Quantity(value=3.1393768365632813, unit=radian), Quantity(value=1200.0, unit=kilocalorie/mole), 11]), 2: (16, 18, 20, 21, [1, Quantity(value=0.0022213748613295614, unit=radian), Quantity(value=1200.0, unit=kilocalorie/mole), 7]), 3: (19, 18, 16, 17, [1, Quantity(value=3.139771005499866, unit=radian), Quantity(value=1200.0, unit=kilocalorie/mole), 12]), 4: (19, 18, 16, 15, [1, Quantity(value=0.0069177728493503565, unit=radian), Quantity(value=1200.0, unit=kilocalorie/mole), 11]), 5: (20, 18, 16, 17, [1, Quantity(value=-0.0062808214457872324, unit=radian), Quantity(value=1200.0, unit=kilocalorie/mole), 12]), 6: (20, 18, 16, 15, [1, Quantity(value=-3.1391340540962216, unit=radian), Quantity(value=1200.0, unit=kilocalorie/mole), 5]), 7: (18, 16, 15, 25, [1, Quantity(value=3.1373539745559547, unit=radian), Quantity(value=1200.0, unit=kilocalorie/mole), 6]), 8: (18, 16, 15, 10, [1, Quantity(value=-0.012555513663626172, unit=radian), Quantity(value=1200.0, unit=kilocalorie/mole), 4]), 9: (17, 16, 15, 25, [1, Quantity(value=0.004577035070323365, unit=radian), Quantity(value=1200.0, unit=kilocalorie/mole), 12]), 10: (17, 16, 15, 10, [1, Quantity(value=3.137852854030348, unit=radian), Quantity(value=1200.0, unit=kilocalorie/mole), 12]), 11: (24, 23, 25, 15, [1, Quantity(value=-0.006701599266596858, unit=radian), Quantity(value=1200.0, unit=kilocalorie/mole), 10]), 12: (24, 23, 25, 26, [1, Quantity(value=-3.134703221499019, unit=radian), Quantity(value=1200.0, unit=kilocalorie/mole), 15]), 13: (16, 15, 25, 23, [1, Quantity(value=-3.137699428633435, unit=radian), Quantity(value=1200.0, unit=kilocalorie/mole), 8]), 14: (16, 15, 25, 26, [1, Quantity(value=-0.009793556643590051, unit=radian), Quantity(value=1200.0, unit=kilocalorie/mole), 15]), 15: (10, 15, 25, 23, [1, Quantity(value=0.012140215312939961, unit=radian), Quantity(value=1200.0, unit=kilocalorie/mole), 8]), 16: (10, 15, 25, 26, [1, Quantity(value=3.14004608730288, unit=radian), Quantity(value=1200.0, unit=kilocalorie/mole), 15]), 17: (10, 8, 6, 7, [1, Quantity(value=1.047411640674822, unit=radian), Quantity(value=1200.0, unit=kilocalorie/mole), 1])}\n",
      "INFO:geometry:neglected angle terms include []\n",
      "INFO:geometry:log probability choice of torsions and atom order: -24.69442540718313\n",
      "INFO:geometry:creating platform, integrators, and contexts; setting growth parameter\n"
     ]
    },
    {
     "name": "stdout",
     "output_type": "stream",
     "text": [
      "conducting subsequent work with the following platform: CUDA\n"
     ]
    },
    {
     "name": "stderr",
     "output_type": "stream",
     "text": [
      "INFO:geometry:setting atoms_with_positions context new positions\n"
     ]
    },
    {
     "name": "stdout",
     "output_type": "stream",
     "text": [
      "conducting subsequent work with the following platform: CUDA\n"
     ]
    },
    {
     "name": "stderr",
     "output_type": "stream",
     "text": [
      "INFO:geometry:There are 15 new atoms\n",
      "INFO:geometry:\treduced angle potential = 0.6680888805904429.\n",
      "INFO:geometry:\treduced angle potential = 0.11229263464433951.\n",
      "INFO:geometry:\treduced angle potential = 0.303737482842887.\n",
      "INFO:geometry:\treduced angle potential = 0.18360779077865044.\n",
      "INFO:geometry:\treduced angle potential = 0.10138831076276282.\n",
      "INFO:geometry:\treduced angle potential = 0.1458175048206577.\n",
      "INFO:geometry:\treduced angle potential = 0.039113013859161425.\n",
      "INFO:geometry:\treduced angle potential = 0.31154114055384496.\n",
      "INFO:geometry:\treduced angle potential = 1.028527443634595.\n",
      "INFO:geometry:\treduced angle potential = 0.26119487671996733.\n",
      "INFO:geometry:\treduced angle potential = 1.7767163724819566.\n",
      "INFO:geometry:\treduced angle potential = 2.0777281356472073.\n",
      "INFO:geometry:\treduced angle potential = 0.11143751956461824.\n",
      "INFO:geometry:\treduced angle potential = 1.7878646316356435.\n",
      "INFO:geometry:\treduced angle potential = 0.2524011708167918.\n",
      "INFO:geometry:\tbeginning construction of no_nonbonded final system...\n",
      "INFO:geometry:\tinitial no-nonbonded final system forces ['HarmonicBondForce', 'HarmonicAngleForce', 'PeriodicTorsionForce', 'NonbondedForce']\n",
      "INFO:geometry:\tfinal no-nonbonded final system forces dict_keys(['HarmonicBondForce', 'HarmonicAngleForce', 'PeriodicTorsionForce', 'NonbondedForce'])\n",
      "INFO:geometry:\tthere are 17 bond forces in the no-nonbonded final system\n",
      "INFO:geometry:\tthere are 55 angle forces in the no-nonbonded final system\n",
      "INFO:geometry:\tthere are 86 torsion forces in the no-nonbonded final system\n",
      "INFO:geometry:forward final system defined with 0 neglected angles.\n"
     ]
    },
    {
     "name": "stdout",
     "output_type": "stream",
     "text": [
      "conducting subsequent work with the following platform: CUDA\n",
      "conducting subsequent work with the following platform: CUDA\n"
     ]
    },
    {
     "name": "stderr",
     "output_type": "stream",
     "text": [
      "INFO:geometry:total reduced potential before atom placement: 9.117938551333578\n"
     ]
    },
    {
     "name": "stdout",
     "output_type": "stream",
     "text": [
      "conducting subsequent work with the following platform: CUDA\n",
      "conducting subsequent work with the following platform: CUDA\n",
      "conducting subsequent work with the following platform: CUDA\n"
     ]
    },
    {
     "name": "stderr",
     "output_type": "stream",
     "text": [
      "INFO:geometry:total reduced energy added from growth system: 40.14443995881862\n",
      "INFO:geometry:final reduced energy 47.43345888766523\n",
      "INFO:geometry:sum of energies: 49.2623785101522\n",
      "INFO:geometry:magnitude of difference in the energies: 1.8289196224869713\n",
      "INFO:geometry:Final logp_proposal: 120.20660251296084\n"
     ]
    },
    {
     "name": "stdout",
     "output_type": "stream",
     "text": [
      "added energy components: [('CustomBondForce', 0.9237550662161349), ('CustomAngleForce', 23.4403324339747), ('CustomTorsionForce', 14.559023339400586), ('CustomBondForce', 1.2213291192271964)]\n"
     ]
    },
    {
     "name": "stderr",
     "output_type": "stream",
     "text": [
      "INFO:geometry:propose: performing forward proposal\n",
      "INFO:geometry:propose: unique new atoms detected; proceeding to _logp_propose...\n",
      "INFO:geometry:Conducting forward proposal...\n",
      "INFO:geometry:Computing proposal order with NetworkX...\n",
      "INFO:geometry:number of atoms to be placed: 15\n",
      "INFO:geometry:Atom index proposal order is [10, 15, 16, 18, 25, 20, 23, 21, 26, 12, 19, 24, 11, 17, 22]\n",
      "INFO:geometry:omitted_bonds: [(23, 25)]\n",
      "INFO:geometry:direction of proposal is forward; creating atoms_with_positions and new positions from old system/topology...\n",
      "INFO:geometry:creating growth system...\n",
      "INFO:geometry:\tcreating bond force...\n",
      "INFO:geometry:\tthere are 17 bonds in reference force.\n",
      "INFO:geometry:\tcreating angle force...\n",
      "INFO:geometry:\tthere are 55 angles in reference force.\n",
      "INFO:geometry:\tcreating torsion force...\n",
      "INFO:geometry:\tcreating extra torsions force...\n",
      "INFO:geometry:\tthere are 86 torsions in reference force.\n",
      "INFO:geometry:\tcreating nonbonded force...\n",
      "INFO:geometry:\t\tgrabbing reference nonbonded method, cutoff, switching function, switching distance...\n",
      "INFO:geometry:\t\tcreating nonbonded exception force (i.e. custom bond for 1,4s)...\n",
      "INFO:geometry:\t\tlooping through exceptions calculating growth indices, and adding appropriate interactions to custom bond force.\n",
      "INFO:geometry:\t\tthere are 158 in the reference Nonbonded force\n",
      "WARNING:geometry:\t\t\t\t\tchiral atom <Atom 8 (CA) of chain 0 residue 1 (TYR)> with neighbors [<Atom 13 (C) of chain 0 residue 1 (TYR)>, <Atom 10 (CB) of chain 0 residue 1 (TYR)>, <Atom 9 (HA) of chain 0 residue 1 (TYR)>, <Atom 6 (N) of chain 0 residue 1 (TYR)>] is surrounded by 3 core neighbors.  omitting chirality bias torsion\n",
      "INFO:geometry:Neglected angle terms : []\n",
      "INFO:geometry:omitted_growth_terms: {'bonds': [(23, 25)], 'angles': [(15, 25, 23), (20, 23, 25), (23, 25, 26), (24, 23, 25)], 'torsions': [(10, 15, 25, 23), (15, 25, 23, 20), (15, 25, 23, 24), (16, 15, 25, 23), (18, 20, 23, 25), (20, 23, 25, 26), (21, 20, 23, 25), (24, 23, 25, 26), (20, 25, 23, 24), (15, 23, 25, 26)], '1,4s': [(15, 20), (10, 23), (16, 23), (15, 24), (18, 25), (21, 25), (20, 26), (24, 26)]}\n",
      "INFO:geometry:extra torsions: {0: (22, 21, 20, 18, [1, Quantity(value=-0.002870001521861454, unit=radian), Quantity(value=1200.0, unit=kilocalorie/mole), 15]), 1: (22, 21, 20, 23, [1, Quantity(value=3.141243637296504, unit=radian), Quantity(value=1200.0, unit=kilocalorie/mole), 15]), 2: (19, 18, 20, 21, [1, Quantity(value=3.1393768365632813, unit=radian), Quantity(value=1200.0, unit=kilocalorie/mole), 11]), 3: (19, 18, 20, 23, [1, Quantity(value=-0.004738876670822734, unit=radian), Quantity(value=1200.0, unit=kilocalorie/mole), 11]), 4: (16, 18, 20, 21, [1, Quantity(value=0.0022213748613295614, unit=radian), Quantity(value=1200.0, unit=kilocalorie/mole), 8]), 5: (16, 18, 20, 23, [1, Quantity(value=3.1412909688070316, unit=radian), Quantity(value=1200.0, unit=kilocalorie/mole), 7]), 6: (19, 18, 16, 17, [1, Quantity(value=3.139771005499866, unit=radian), Quantity(value=1200.0, unit=kilocalorie/mole), 14]), 7: (19, 18, 16, 15, [1, Quantity(value=0.0069177728493503565, unit=radian), Quantity(value=1200.0, unit=kilocalorie/mole), 11]), 8: (20, 18, 16, 17, [1, Quantity(value=-0.0062808214457872324, unit=radian), Quantity(value=1200.0, unit=kilocalorie/mole), 14]), 9: (20, 18, 16, 15, [1, Quantity(value=-3.1391340540962216, unit=radian), Quantity(value=1200.0, unit=kilocalorie/mole), 6]), 10: (21, 20, 23, 24, [1, Quantity(value=-3.139177180078741, unit=radian), Quantity(value=1200.0, unit=kilocalorie/mole), 12]), 11: (18, 20, 23, 24, [1, Quantity(value=0.004943742033914678, unit=radian), Quantity(value=1200.0, unit=kilocalorie/mole), 12]), 12: (18, 16, 15, 25, [1, Quantity(value=3.1373539745559547, unit=radian), Quantity(value=1200.0, unit=kilocalorie/mole), 5]), 13: (18, 16, 15, 10, [1, Quantity(value=-0.012555513663626172, unit=radian), Quantity(value=1200.0, unit=kilocalorie/mole), 4]), 14: (17, 16, 15, 25, [1, Quantity(value=0.004577035070323365, unit=radian), Quantity(value=1200.0, unit=kilocalorie/mole), 14]), 15: (17, 16, 15, 10, [1, Quantity(value=3.137852854030348, unit=radian), Quantity(value=1200.0, unit=kilocalorie/mole), 14]), 16: (16, 15, 25, 26, [1, Quantity(value=-0.009793556643590051, unit=radian), Quantity(value=1200.0, unit=kilocalorie/mole), 9]), 17: (10, 15, 25, 26, [1, Quantity(value=3.14004608730288, unit=radian), Quantity(value=1200.0, unit=kilocalorie/mole), 9]), 18: (10, 8, 6, 7, [1, Quantity(value=1.047411640674822, unit=radian), Quantity(value=1200.0, unit=kilocalorie/mole), 1])}\n",
      "INFO:geometry:neglected angle terms include []\n",
      "INFO:geometry:log probability choice of torsions and atom order: -23.454734520255112\n",
      "INFO:geometry:creating platform, integrators, and contexts; setting growth parameter\n"
     ]
    },
    {
     "name": "stdout",
     "output_type": "stream",
     "text": [
      "conducting subsequent work with the following platform: CUDA\n"
     ]
    },
    {
     "name": "stderr",
     "output_type": "stream",
     "text": [
      "INFO:geometry:setting atoms_with_positions context new positions\n"
     ]
    },
    {
     "name": "stdout",
     "output_type": "stream",
     "text": [
      "conducting subsequent work with the following platform: CUDA\n"
     ]
    },
    {
     "name": "stderr",
     "output_type": "stream",
     "text": [
      "INFO:geometry:There are 15 new atoms\n",
      "INFO:geometry:\treduced angle potential = 0.24501010222462344.\n",
      "INFO:geometry:\treduced angle potential = 0.022898073249057176.\n",
      "INFO:geometry:\treduced angle potential = 0.09336353954304949.\n",
      "INFO:geometry:\treduced angle potential = 0.13228351466877744.\n",
      "INFO:geometry:\treduced angle potential = 0.05240548549525233.\n",
      "INFO:geometry:\treduced angle potential = 0.23059200417856374.\n",
      "INFO:geometry:\treduced angle potential = 1.2953149453931982.\n",
      "INFO:geometry:\treduced angle potential = 0.12415236655715133.\n",
      "INFO:geometry:\treduced angle potential = 0.04922914589911929.\n",
      "INFO:geometry:\treduced angle potential = 0.06870319356111776.\n",
      "INFO:geometry:\treduced angle potential = 0.7648016279501699.\n",
      "INFO:geometry:\treduced angle potential = 0.07103664596606088.\n",
      "INFO:geometry:\treduced angle potential = 4.409814833817344.\n",
      "INFO:geometry:\treduced angle potential = 0.014472562722478328.\n",
      "INFO:geometry:\treduced angle potential = 0.000725181395213968.\n",
      "INFO:geometry:\tbeginning construction of no_nonbonded final system...\n",
      "INFO:geometry:\tinitial no-nonbonded final system forces ['HarmonicBondForce', 'HarmonicAngleForce', 'PeriodicTorsionForce', 'NonbondedForce']\n",
      "INFO:geometry:\tfinal no-nonbonded final system forces dict_keys(['HarmonicBondForce', 'HarmonicAngleForce', 'PeriodicTorsionForce', 'NonbondedForce'])\n",
      "INFO:geometry:\tthere are 17 bond forces in the no-nonbonded final system\n",
      "INFO:geometry:\tthere are 55 angle forces in the no-nonbonded final system\n",
      "INFO:geometry:\tthere are 86 torsion forces in the no-nonbonded final system\n",
      "INFO:geometry:forward final system defined with 0 neglected angles.\n"
     ]
    },
    {
     "name": "stdout",
     "output_type": "stream",
     "text": [
      "conducting subsequent work with the following platform: CUDA\n",
      "conducting subsequent work with the following platform: CUDA\n"
     ]
    },
    {
     "name": "stderr",
     "output_type": "stream",
     "text": [
      "INFO:geometry:total reduced potential before atom placement: 9.117938551333578\n"
     ]
    },
    {
     "name": "stdout",
     "output_type": "stream",
     "text": [
      "conducting subsequent work with the following platform: CUDA\n",
      "conducting subsequent work with the following platform: CUDA\n",
      "conducting subsequent work with the following platform: CUDA\n"
     ]
    },
    {
     "name": "stderr",
     "output_type": "stream",
     "text": [
      "INFO:geometry:total reduced energy added from growth system: -25.024134537430477\n",
      "INFO:geometry:final reduced energy 39.151656055183494\n",
      "INFO:geometry:sum of energies: -15.906195986096899\n",
      "INFO:geometry:magnitude of difference in the energies: 55.05785204128039\n",
      "INFO:geometry:Final logp_proposal: 124.2221854088079\n"
     ]
    },
    {
     "name": "stdout",
     "output_type": "stream",
     "text": [
      "added energy components: [('CustomBondForce', 5.219378629139631), ('CustomAngleForce', 12.862085243167074), ('CustomTorsionForce', 9.227495056562395), ('CustomBondForce', -52.33309346629958)]\n"
     ]
    }
   ],
   "source": [
    "for i in range(5):\n",
    "    forward_new_positions, logp_proposal = geometry_engine.propose(topology_proposal, pdb.positions, beta, validate_energy_bookkeeping=False)\n",
    "    app.PDBFile.writeFile(topology_proposal.new_topology, forward_new_positions, open(f\"tyr_proposal_{i}.pdb\", \"w\"), keepIds=True)"
   ]
  },
  {
   "cell_type": "code",
   "execution_count": 26,
   "id": "5b221290",
   "metadata": {},
   "outputs": [
    {
     "data": {
      "text/plain": [
       "{6: 6,\n",
       " 8: 8,\n",
       " 13: 13,\n",
       " 14: 14,\n",
       " 7: 7,\n",
       " 9: 9,\n",
       " 0: 0,\n",
       " 1: 1,\n",
       " 2: 2,\n",
       " 3: 3,\n",
       " 4: 4,\n",
       " 5: 5,\n",
       " 27: 20,\n",
       " 28: 21,\n",
       " 29: 22,\n",
       " 30: 23,\n",
       " 31: 24,\n",
       " 32: 25}"
      ]
     },
     "execution_count": 26,
     "metadata": {},
     "output_type": "execute_result"
    }
   ],
   "source": [
    "topology_proposal.core_new_to_old_atom_map"
   ]
  },
  {
   "cell_type": "code",
   "execution_count": 28,
   "id": "1c9f79dd",
   "metadata": {},
   "outputs": [
    {
     "name": "stdout",
     "output_type": "stream",
     "text": [
      "0 <Atom 0 (H1) of chain 0 residue 0 (ACE)>\n",
      "1 <Atom 1 (CH3) of chain 0 residue 0 (ACE)>\n",
      "2 <Atom 2 (H2) of chain 0 residue 0 (ACE)>\n",
      "3 <Atom 3 (H3) of chain 0 residue 0 (ACE)>\n",
      "4 <Atom 4 (C) of chain 0 residue 0 (ACE)>\n",
      "5 <Atom 5 (O) of chain 0 residue 0 (ACE)>\n",
      "6 <Atom 6 (N) of chain 0 residue 1 (ASN)>\n",
      "7 <Atom 7 (H) of chain 0 residue 1 (ASN)>\n",
      "8 <Atom 8 (CA) of chain 0 residue 1 (ASN)>\n",
      "9 <Atom 9 (HA) of chain 0 residue 1 (ASN)>\n",
      "10 <Atom 10 (CB) of chain 0 residue 1 (ASN)>\n",
      "11 <Atom 11 (HB2) of chain 0 residue 1 (ASN)>\n",
      "12 <Atom 12 (HB3) of chain 0 residue 1 (ASN)>\n",
      "13 <Atom 13 (C) of chain 0 residue 1 (ASN)>\n",
      "14 <Atom 14 (O) of chain 0 residue 1 (ASN)>\n",
      "15 <Atom 15 (CG) of chain 0 residue 1 (ASN)>\n",
      "16 <Atom 16 (OD1) of chain 0 residue 1 (ASN)>\n",
      "17 <Atom 17 (ND2) of chain 0 residue 1 (ASN)>\n",
      "18 <Atom 18 (HD21) of chain 0 residue 1 (ASN)>\n",
      "19 <Atom 19 (HD22) of chain 0 residue 1 (ASN)>\n",
      "20 <Atom 20 (N) of chain 0 residue 2 (NME)>\n",
      "21 <Atom 21 (H) of chain 0 residue 2 (NME)>\n",
      "22 <Atom 22 (C) of chain 0 residue 2 (NME)>\n",
      "23 <Atom 23 (H1) of chain 0 residue 2 (NME)>\n",
      "24 <Atom 24 (H2) of chain 0 residue 2 (NME)>\n",
      "25 <Atom 25 (H3) of chain 0 residue 2 (NME)>\n"
     ]
    }
   ],
   "source": [
    "for atom in pdb.topology.atoms():\n",
    "    print(atom.index, atom)"
   ]
  },
  {
   "cell_type": "code",
   "execution_count": null,
   "id": "9b04db67",
   "metadata": {},
   "outputs": [],
   "source": []
  }
 ],
 "metadata": {
  "kernelspec": {
   "display_name": "Python 3 (ipykernel)",
   "language": "python",
   "name": "python3"
  },
  "language_info": {
   "codemirror_mode": {
    "name": "ipython",
    "version": 3
   },
   "file_extension": ".py",
   "mimetype": "text/x-python",
   "name": "python",
   "nbconvert_exporter": "python",
   "pygments_lexer": "ipython3",
   "version": "3.8.11"
  }
 },
 "nbformat": 4,
 "nbformat_minor": 5
}
