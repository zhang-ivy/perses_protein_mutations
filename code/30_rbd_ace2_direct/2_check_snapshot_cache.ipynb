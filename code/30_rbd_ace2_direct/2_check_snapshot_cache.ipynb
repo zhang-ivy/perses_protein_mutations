{
 "cells": [
  {
   "cell_type": "code",
   "execution_count": 1,
   "id": "crazy-wagner",
   "metadata": {},
   "outputs": [
    {
     "name": "stderr",
     "output_type": "stream",
     "text": [
      "Warning: importing 'simtk.openmm' is deprecated.  Import 'openmm' instead.\n"
     ]
    }
   ],
   "source": [
    "import os\n",
    "import numpy as np\n",
    "import mdtraj as md\n",
    "import pickle\n",
    "from simtk.openmm import unit\n",
    "from tqdm import tqdm_notebook\n",
    "from simtk.openmm import app\n",
    "import matplotlib.pyplot as plt\n",
    "from openeye import oechem"
   ]
  },
  {
   "cell_type": "code",
   "execution_count": null,
   "id": "70422c08",
   "metadata": {},
   "outputs": [],
   "source": []
  },
  {
   "cell_type": "code",
   "execution_count": 2,
   "id": "eligible-apache",
   "metadata": {},
   "outputs": [],
   "source": [
    "def new_positions(hybrid_positions):\n",
    "    n_atoms_new = htf._topology_proposal.n_atoms_new\n",
    "    hybrid_indices = [htf._new_to_hybrid_map[idx] for idx in range(n_atoms_new)]\n",
    "    return hybrid_positions[hybrid_indices, :]\n",
    "    \n",
    "def old_positions(hybrid_positions):\n",
    "    n_atoms_old = htf._topology_proposal.n_atoms_old\n",
    "    hybrid_indices = [htf._old_to_hybrid_map[idx] for idx in range(n_atoms_old)]\n",
    "    return hybrid_positions[hybrid_indices, :]"
   ]
  },
  {
   "cell_type": "code",
   "execution_count": 6,
   "id": "derived-probe",
   "metadata": {},
   "outputs": [],
   "source": [
    "def make_traj(outdir, htf, i, phase, name, endstate, is_old=True, solvent_only=False):\n",
    "    with open(os.path.join(outdir, f\"{i}_{phase}_{name}_2ns_snapshots.npy\"), \"rb\") as f:\n",
    "        cache = np.load(f)\n",
    "    if is_old:\n",
    "        old_pos = np.zeros(shape=(200, htf._topology_proposal.old_topology.getNumAtoms(), 3))\n",
    "        for j, pos in tqdm_notebook(enumerate(cache)):\n",
    "            old_pos[j] = old_positions(unit.Quantity(pos, unit=unit.nanometers)).value_in_unit_system(unit.md_unit_system)\n",
    "        \n",
    "        traj = md.Trajectory(old_pos, md.Topology.from_openmm(htf._topology_proposal.old_topology))\n",
    "    else:\n",
    "        new_pos = np.zeros(shape=(200, htf._topology_proposal.new_topology.getNumAtoms(), 3))\n",
    "        for j, pos in tqdm_notebook(enumerate(cache)):\n",
    "            new_pos[j] = new_positions(unit.Quantity(pos, unit=unit.nanometers)).value_in_unit_system(unit.md_unit_system)\n",
    "        \n",
    "        traj = md.Trajectory(new_pos, md.Topology.from_openmm(htf._topology_proposal.new_topology))\n",
    "        \n",
    "    if solvent_only:\n",
    "        traj.atom_slice(traj.topology.select(\"water or resname 'na\\+' or resn 'cl\\-'\"), inplace=True)\n",
    "        \n",
    "    # Set unit cell vectors in traj \n",
    "    box_vectors = [val.value_in_unit_system(unit.md_unit_system) for val in htf.hybrid_system.getDefaultPeriodicBoxVectors()]\n",
    "    box_vectors_formatted = np.ndarray(shape=(3,3), buffer=np.array(box_vectors)).astype(np.float32) # note that mdraj expect np.ndarray, not np.arrays\n",
    "    box_vectors_repeated = np.repeat(np.array([box_vectors_formatted]), traj.xyz.shape[0], axis=0)\n",
    "    traj.unitcell_vectors = box_vectors_repeated\n",
    "    \n",
    "    traj = traj.image_molecules()\n",
    "    \n",
    "    if solvent_only:\n",
    "        traj.save(os.path.join(outdir, f\"{i}_{phase}_{endstate}_solvent.dcd\"))\n",
    "        traj[0].save(os.path.join(outdir, f\"{i}_{phase}_{endstate}_solvent.pdb\"))\n",
    "    else:\n",
    "        traj.save(os.path.join(outdir, f\"{i}_{phase}_{endstate}.dcd\"))\n",
    "#         traj[0].save(os.path.join(outdir, f\"{i}_{phase}_{endstate}.pdb\"))\n",
    "        app.PDBxFile.writeFile(traj.topology.to_openmm(), traj.openmm_positions(0), file=open(os.path.join(outdir, f\"{i}_{phase}_{endstate}.cif\"), \"w\"), keepIds=True)\n",
    "    return traj\n",
    "       "
   ]
  },
  {
   "cell_type": "markdown",
   "id": "adjusted-analyst",
   "metadata": {},
   "source": [
    "## 14/113 N501Y"
   ]
  },
  {
   "cell_type": "code",
   "execution_count": 10,
   "id": "dangerous-adult",
   "metadata": {
    "scrolled": true
   },
   "outputs": [
    {
     "name": "stderr",
     "output_type": "stream",
     "text": [
      "/scratch/lsftmp/2612224.tmpdir/ipykernel_110909/3781358887.py:6: TqdmDeprecationWarning: This function will be removed in tqdm==5.0.0\n",
      "Please use `tqdm.notebook.tqdm` instead of `tqdm.tqdm_notebook`\n",
      "  for j, pos in tqdm_notebook(enumerate(cache)):\n"
     ]
    },
    {
     "data": {
      "application/vnd.jupyter.widget-view+json": {
       "model_id": "663737b0a4164086b0454f0f71be379c",
       "version_major": 2,
       "version_minor": 0
      },
      "text/plain": [
       "0it [00:00, ?it/s]"
      ]
     },
     "metadata": {},
     "output_type": "display_data"
    },
    {
     "data": {
      "text/plain": [
       "<mdtraj.Trajectory with 100 frames, 185377 atoms, 57660 residues, and unitcells at 0x2b278789adf0>"
      ]
     },
     "execution_count": 10,
     "metadata": {},
     "output_type": "execute_result"
    }
   ],
   "source": [
    "outdir = \"/data/chodera/zhangi/perses_benchmark/neq/14/113/\"\n",
    "i = 113\n",
    "phase = 'complex'\n",
    "endstate = 0\n",
    "name = 'asn'\n",
    "is_old = True\n",
    "\n",
    "with open(os.path.join(outdir, f\"{i}_{phase}_{endstate}.pickle\"), \"rb\") as f:\n",
    "    htf = pickle.load(f)\n",
    "    \n",
    "make_traj(outdir, htf, i, phase, name, endstate, is_old)"
   ]
  },
  {
   "cell_type": "code",
   "execution_count": 11,
   "id": "driven-parcel",
   "metadata": {},
   "outputs": [
    {
     "name": "stderr",
     "output_type": "stream",
     "text": [
      "/scratch/lsftmp/2612224.tmpdir/ipykernel_110909/3781358887.py:6: TqdmDeprecationWarning: This function will be removed in tqdm==5.0.0\n",
      "Please use `tqdm.notebook.tqdm` instead of `tqdm.tqdm_notebook`\n",
      "  for j, pos in tqdm_notebook(enumerate(cache)):\n"
     ]
    },
    {
     "data": {
      "application/vnd.jupyter.widget-view+json": {
       "model_id": "e98e422436714b24a4d29e85214fb06b",
       "version_major": 2,
       "version_minor": 0
      },
      "text/plain": [
       "0it [00:00, ?it/s]"
      ]
     },
     "metadata": {},
     "output_type": "display_data"
    },
    {
     "data": {
      "text/plain": [
       "<mdtraj.Trajectory with 100 frames, 49086 atoms, 15547 residues, and unitcells at 0x2b27682bcca0>"
      ]
     },
     "execution_count": 11,
     "metadata": {},
     "output_type": "execute_result"
    }
   ],
   "source": [
    "outdir = \"/data/chodera/zhangi/perses_benchmark/neq/14/113/\"\n",
    "i = 113\n",
    "phase = 'apo'\n",
    "endstate = 0\n",
    "name = 'asn'\n",
    "is_old = True\n",
    "\n",
    "with open(os.path.join(outdir, f\"{i}_{phase}_{endstate}.pickle\"), \"rb\") as f:\n",
    "    htf = pickle.load(f)\n",
    "    \n",
    "make_traj(outdir, htf, i, phase, name, endstate, is_old)"
   ]
  },
  {
   "cell_type": "code",
   "execution_count": 12,
   "id": "adjustable-tutorial",
   "metadata": {
    "scrolled": true
   },
   "outputs": [
    {
     "name": "stderr",
     "output_type": "stream",
     "text": [
      "/scratch/lsftmp/2612224.tmpdir/ipykernel_110909/3781358887.py:12: TqdmDeprecationWarning: This function will be removed in tqdm==5.0.0\n",
      "Please use `tqdm.notebook.tqdm` instead of `tqdm.tqdm_notebook`\n",
      "  for j, pos in tqdm_notebook(enumerate(cache)):\n"
     ]
    },
    {
     "data": {
      "application/vnd.jupyter.widget-view+json": {
       "model_id": "ed2def947fb341188051f3709d66adc0",
       "version_major": 2,
       "version_minor": 0
      },
      "text/plain": [
       "0it [00:00, ?it/s]"
      ]
     },
     "metadata": {},
     "output_type": "display_data"
    },
    {
     "data": {
      "text/plain": [
       "<mdtraj.Trajectory with 100 frames, 185384 atoms, 57660 residues, and unitcells at 0x2b276987e580>"
      ]
     },
     "execution_count": 12,
     "metadata": {},
     "output_type": "execute_result"
    }
   ],
   "source": [
    "outdir = \"/data/chodera/zhangi/perses_benchmark/neq/14/113/\"\n",
    "i = 113\n",
    "phase = 'complex'\n",
    "endstate = 1\n",
    "name = 'tyr'\n",
    "is_old = False\n",
    "\n",
    "with open(os.path.join(outdir, f\"{i}_{phase}_{endstate}.pickle\"), \"rb\") as f:\n",
    "    htf = pickle.load(f)\n",
    "    \n",
    "make_traj(outdir, htf, i, phase, name, endstate, is_old)"
   ]
  },
  {
   "cell_type": "code",
   "execution_count": 13,
   "id": "removed-plenty",
   "metadata": {},
   "outputs": [
    {
     "name": "stderr",
     "output_type": "stream",
     "text": [
      "/scratch/lsftmp/2612224.tmpdir/ipykernel_110909/3781358887.py:12: TqdmDeprecationWarning: This function will be removed in tqdm==5.0.0\n",
      "Please use `tqdm.notebook.tqdm` instead of `tqdm.tqdm_notebook`\n",
      "  for j, pos in tqdm_notebook(enumerate(cache)):\n"
     ]
    },
    {
     "data": {
      "application/vnd.jupyter.widget-view+json": {
       "model_id": "42b6ef984ee04577ab4735bdcc7e9819",
       "version_major": 2,
       "version_minor": 0
      },
      "text/plain": [
       "0it [00:00, ?it/s]"
      ]
     },
     "metadata": {},
     "output_type": "display_data"
    },
    {
     "data": {
      "text/plain": [
       "<mdtraj.Trajectory with 100 frames, 49093 atoms, 15547 residues, and unitcells at 0x2b27b9d2c3d0>"
      ]
     },
     "execution_count": 13,
     "metadata": {},
     "output_type": "execute_result"
    }
   ],
   "source": [
    "outdir = \"/data/chodera/zhangi/perses_benchmark/neq/14/113/\"\n",
    "i = 113\n",
    "phase = 'apo'\n",
    "endstate = 1\n",
    "name = 'tyr'\n",
    "is_old = False\n",
    "\n",
    "with open(os.path.join(outdir, f\"{i}_{phase}_{endstate}.pickle\"), \"rb\") as f:\n",
    "    htf = pickle.load(f)\n",
    "    \n",
    "make_traj(outdir, htf, i, phase, name, endstate, is_old)"
   ]
  },
  {
   "cell_type": "code",
   "execution_count": null,
   "id": "enhanced-monte",
   "metadata": {},
   "outputs": [],
   "source": []
  },
  {
   "cell_type": "markdown",
   "id": "db1675a0",
   "metadata": {},
   "source": [
    "## 14/79 N501Y"
   ]
  },
  {
   "cell_type": "code",
   "execution_count": 5,
   "id": "3700da34",
   "metadata": {},
   "outputs": [
    {
     "name": "stderr",
     "output_type": "stream",
     "text": [
      "<ipython-input-4-cc0c8912dc55>:12: TqdmDeprecationWarning: This function will be removed in tqdm==5.0.0\n",
      "Please use `tqdm.notebook.tqdm` instead of `tqdm.tqdm_notebook`\n",
      "  for j, pos in tqdm_notebook(enumerate(cache)):\n"
     ]
    },
    {
     "data": {
      "application/vnd.jupyter.widget-view+json": {
       "model_id": "da025de63d4c461dbed11fedd0f5692f",
       "version_major": 2,
       "version_minor": 0
      },
      "text/plain": [
       "0it [00:00, ?it/s]"
      ]
     },
     "metadata": {},
     "output_type": "display_data"
    },
    {
     "data": {
      "text/plain": [
       "<mdtraj.Trajectory with 100 frames, 183585 atoms, 57059 residues, and unitcells at 0x2aae4fc00d90>"
      ]
     },
     "execution_count": 5,
     "metadata": {},
     "output_type": "execute_result"
    }
   ],
   "source": [
    "outdir = \"/data/chodera/zhangi/perses_benchmark/neq/14/79/\"\n",
    "i = 79\n",
    "phase = 'complex'\n",
    "endstate = 1\n",
    "name = 'tyr'\n",
    "is_old = False\n",
    "\n",
    "with open(os.path.join(outdir, f\"{i}_{phase}_{endstate}.pickle\"), \"rb\") as f:\n",
    "    htf = pickle.load(f)\n",
    "    \n",
    "make_traj(outdir, htf, i, phase, name, endstate, is_old)"
   ]
  },
  {
   "cell_type": "markdown",
   "id": "fac9fbd9",
   "metadata": {},
   "source": [
    "## 14/119 Y501N"
   ]
  },
  {
   "cell_type": "code",
   "execution_count": 4,
   "id": "71a18cd4",
   "metadata": {},
   "outputs": [
    {
     "name": "stderr",
     "output_type": "stream",
     "text": [
      "/scratch/lsftmp/2616297.tmpdir/ipykernel_146628/3781358887.py:6: TqdmDeprecationWarning: This function will be removed in tqdm==5.0.0\n",
      "Please use `tqdm.notebook.tqdm` instead of `tqdm.tqdm_notebook`\n",
      "  for j, pos in tqdm_notebook(enumerate(cache)):\n"
     ]
    },
    {
     "data": {
      "application/vnd.jupyter.widget-view+json": {
       "model_id": "ceb0735e3dd8494782a6bd443f071342",
       "version_major": 2,
       "version_minor": 0
      },
      "text/plain": [
       "0it [00:00, ?it/s]"
      ]
     },
     "metadata": {},
     "output_type": "display_data"
    },
    {
     "data": {
      "text/plain": [
       "<mdtraj.Trajectory with 100 frames, 145340 atoms, 44809 residues, and unitcells at 0x2ae22aa032e0>"
      ]
     },
     "execution_count": 4,
     "metadata": {},
     "output_type": "execute_result"
    }
   ],
   "source": [
    "outdir = \"/data/chodera/zhangi/perses_benchmark/neq/14/119/\"\n",
    "i = 119\n",
    "phase = 'complex'\n",
    "endstate = 0\n",
    "name = 'tyr'\n",
    "is_old = True\n",
    "\n",
    "with open(os.path.join(outdir, f\"{i}_{phase}_{endstate}.pickle\"), \"rb\") as f:\n",
    "    htf = pickle.load(f)\n",
    "    \n",
    "make_traj(outdir, htf, i, phase, name, endstate, is_old)"
   ]
  },
  {
   "cell_type": "markdown",
   "id": "df5e66f0",
   "metadata": {},
   "source": [
    "## 14/120 K417N"
   ]
  },
  {
   "cell_type": "code",
   "execution_count": 4,
   "id": "6138605f",
   "metadata": {
    "scrolled": true
   },
   "outputs": [
    {
     "name": "stderr",
     "output_type": "stream",
     "text": [
      "/scratch/lsftmp/2631282.tmpdir/ipykernel_353893/3781358887.py:6: TqdmDeprecationWarning: This function will be removed in tqdm==5.0.0\n",
      "Please use `tqdm.notebook.tqdm` instead of `tqdm.tqdm_notebook`\n",
      "  for j, pos in tqdm_notebook(enumerate(cache)):\n"
     ]
    },
    {
     "data": {
      "application/vnd.jupyter.widget-view+json": {
       "model_id": "87b7aaf448654429a8d0c2b93fa13d4b",
       "version_major": 2,
       "version_minor": 0
      },
      "text/plain": [
       "0it [00:00, ?it/s]"
      ]
     },
     "metadata": {},
     "output_type": "display_data"
    },
    {
     "data": {
      "text/plain": [
       "<mdtraj.Trajectory with 100 frames, 185785 atoms, 57660 residues, and unitcells at 0x2ad33e2238e0>"
      ]
     },
     "execution_count": 4,
     "metadata": {},
     "output_type": "execute_result"
    }
   ],
   "source": [
    "outdir = \"/data/chodera/zhangi/perses_benchmark/neq/14/120/\"\n",
    "i = 120\n",
    "phase = 'complex'\n",
    "endstate = 0\n",
    "name = 'lys'\n",
    "is_old = True\n",
    "\n",
    "with open(os.path.join(outdir, f\"{i}_{phase}_{endstate}.pickle\"), \"rb\") as f:\n",
    "    htf = pickle.load(f)\n",
    "    \n",
    "make_traj(outdir, htf, i, phase, name, endstate, is_old)"
   ]
  },
  {
   "cell_type": "code",
   "execution_count": 5,
   "id": "b9d62442",
   "metadata": {},
   "outputs": [
    {
     "name": "stderr",
     "output_type": "stream",
     "text": [
      "/scratch/lsftmp/2631282.tmpdir/ipykernel_353893/3781358887.py:12: TqdmDeprecationWarning: This function will be removed in tqdm==5.0.0\n",
      "Please use `tqdm.notebook.tqdm` instead of `tqdm.tqdm_notebook`\n",
      "  for j, pos in tqdm_notebook(enumerate(cache)):\n"
     ]
    },
    {
     "data": {
      "application/vnd.jupyter.widget-view+json": {
       "model_id": "71f85b775e8b49d49da7dd8f71e5d2a4",
       "version_major": 2,
       "version_minor": 0
      },
      "text/plain": [
       "0it [00:00, ?it/s]"
      ]
     },
     "metadata": {},
     "output_type": "display_data"
    },
    {
     "data": {
      "text/plain": [
       "<mdtraj.Trajectory with 100 frames, 185777 atoms, 57660 residues, and unitcells at 0x2ad2cfa5ad00>"
      ]
     },
     "execution_count": 5,
     "metadata": {},
     "output_type": "execute_result"
    }
   ],
   "source": [
    "outdir = \"/data/chodera/zhangi/perses_benchmark/neq/14/120/\"\n",
    "i = 120\n",
    "phase = 'complex'\n",
    "endstate = 1\n",
    "name = 'asn'\n",
    "is_old = False\n",
    "\n",
    "with open(os.path.join(outdir, f\"{i}_{phase}_{endstate}.pickle\"), \"rb\") as f:\n",
    "    htf = pickle.load(f)\n",
    "    \n",
    "make_traj(outdir, htf, i, phase, name, endstate, is_old)"
   ]
  },
  {
   "cell_type": "code",
   "execution_count": null,
   "id": "aa47602e",
   "metadata": {},
   "outputs": [],
   "source": []
  },
  {
   "cell_type": "markdown",
   "id": "454338df",
   "metadata": {},
   "source": [
    "## 14/147 N501Y with rest region as whole interface"
   ]
  },
  {
   "cell_type": "code",
   "execution_count": 4,
   "id": "cc886636",
   "metadata": {
    "scrolled": true
   },
   "outputs": [
    {
     "name": "stderr",
     "output_type": "stream",
     "text": [
      "/scratch/lsftmp/2777340.tmpdir/ipykernel_33893/3781358887.py:6: TqdmDeprecationWarning: This function will be removed in tqdm==5.0.0\n",
      "Please use `tqdm.notebook.tqdm` instead of `tqdm.tqdm_notebook`\n",
      "  for j, pos in tqdm_notebook(enumerate(cache)):\n"
     ]
    },
    {
     "data": {
      "application/vnd.jupyter.widget-view+json": {
       "model_id": "0b6c97aec49e48848d3002bc5cbb37e4",
       "version_major": 2,
       "version_minor": 0
      },
      "text/plain": [
       "0it [00:00, ?it/s]"
      ]
     },
     "metadata": {},
     "output_type": "display_data"
    },
    {
     "data": {
      "text/plain": [
       "<mdtraj.Trajectory with 100 frames, 185377 atoms, 57660 residues, and unitcells at 0x2abba5a49df0>"
      ]
     },
     "execution_count": 4,
     "metadata": {},
     "output_type": "execute_result"
    }
   ],
   "source": [
    "outdir = \"/data/chodera/zhangi/perses_benchmark/neq/14/147/\"\n",
    "i = 147\n",
    "phase = 'complex'\n",
    "endstate = 0\n",
    "name = 'asn'\n",
    "is_old = True\n",
    "\n",
    "with open(os.path.join(outdir, f\"{i}_{phase}_{endstate}.pickle\"), \"rb\") as f:\n",
    "    htf = pickle.load(f)\n",
    "    \n",
    "make_traj(outdir, htf, i, phase, name, endstate, is_old)"
   ]
  },
  {
   "cell_type": "code",
   "execution_count": 5,
   "id": "45e55930",
   "metadata": {
    "scrolled": true
   },
   "outputs": [
    {
     "ename": "KeyboardInterrupt",
     "evalue": "",
     "output_type": "error",
     "traceback": [
      "\u001b[0;31m---------------------------------------------------------------------------\u001b[0m",
      "\u001b[0;31mKeyboardInterrupt\u001b[0m                         Traceback (most recent call last)",
      "\u001b[0;32m/scratch/lsftmp/2777340.tmpdir/ipykernel_33893/2548722751.py\u001b[0m in \u001b[0;36m<module>\u001b[0;34m\u001b[0m\n\u001b[1;32m      8\u001b[0m \u001b[0;32mwith\u001b[0m \u001b[0mopen\u001b[0m\u001b[0;34m(\u001b[0m\u001b[0mos\u001b[0m\u001b[0;34m.\u001b[0m\u001b[0mpath\u001b[0m\u001b[0;34m.\u001b[0m\u001b[0mjoin\u001b[0m\u001b[0;34m(\u001b[0m\u001b[0moutdir\u001b[0m\u001b[0;34m,\u001b[0m \u001b[0;34mf\"{i}_{phase}_{endstate}.pickle\"\u001b[0m\u001b[0;34m)\u001b[0m\u001b[0;34m,\u001b[0m \u001b[0;34m\"rb\"\u001b[0m\u001b[0;34m)\u001b[0m \u001b[0;32mas\u001b[0m \u001b[0mf\u001b[0m\u001b[0;34m:\u001b[0m\u001b[0;34m\u001b[0m\u001b[0;34m\u001b[0m\u001b[0m\n\u001b[0;32m----> 9\u001b[0;31m     \u001b[0mhtf\u001b[0m \u001b[0;34m=\u001b[0m \u001b[0mpickle\u001b[0m\u001b[0;34m.\u001b[0m\u001b[0mload\u001b[0m\u001b[0;34m(\u001b[0m\u001b[0mf\u001b[0m\u001b[0;34m)\u001b[0m\u001b[0;34m\u001b[0m\u001b[0;34m\u001b[0m\u001b[0m\n\u001b[0m\u001b[1;32m     10\u001b[0m \u001b[0;34m\u001b[0m\u001b[0m\n",
      "\u001b[0;32m~/miniconda3/envs/perses-rbd-ace2-direct/lib/python3.8/site-packages/openmm/openmm.py\u001b[0m in \u001b[0;36m__setstate__\u001b[0;34m(self, serializationString)\u001b[0m\n\u001b[1;32m   1538\u001b[0m     \u001b[0;32mdef\u001b[0m \u001b[0m__setstate__\u001b[0m\u001b[0;34m(\u001b[0m\u001b[0mself\u001b[0m\u001b[0;34m,\u001b[0m \u001b[0mserializationString\u001b[0m\u001b[0;34m)\u001b[0m\u001b[0;34m:\u001b[0m\u001b[0;34m\u001b[0m\u001b[0;34m\u001b[0m\u001b[0m\n\u001b[0;32m-> 1539\u001b[0;31m         \u001b[0msystem\u001b[0m \u001b[0;34m=\u001b[0m \u001b[0mXmlSerializer\u001b[0m\u001b[0;34m.\u001b[0m\u001b[0mdeserialize\u001b[0m\u001b[0;34m(\u001b[0m\u001b[0mserializationString\u001b[0m\u001b[0;34m)\u001b[0m\u001b[0;34m\u001b[0m\u001b[0;34m\u001b[0m\u001b[0m\n\u001b[0m\u001b[1;32m   1540\u001b[0m         \u001b[0mself\u001b[0m\u001b[0;34m.\u001b[0m\u001b[0mthis\u001b[0m \u001b[0;34m=\u001b[0m \u001b[0msystem\u001b[0m\u001b[0;34m.\u001b[0m\u001b[0mthis\u001b[0m\u001b[0;34m\u001b[0m\u001b[0;34m\u001b[0m\u001b[0m\n",
      "\u001b[0;32m~/miniconda3/envs/perses-rbd-ace2-direct/lib/python3.8/site-packages/openmm/openmm.py\u001b[0m in \u001b[0;36mdeserialize\u001b[0;34m(inputString)\u001b[0m\n\u001b[1;32m   3562\u001b[0m       \u001b[0;32mif\u001b[0m \u001b[0mtype\u001b[0m \u001b[0;34m==\u001b[0m \u001b[0;34m\"Force\"\u001b[0m\u001b[0;34m:\u001b[0m\u001b[0;34m\u001b[0m\u001b[0;34m\u001b[0m\u001b[0m\n\u001b[0;32m-> 3563\u001b[0;31m         \u001b[0;32mreturn\u001b[0m \u001b[0mXmlSerializer\u001b[0m\u001b[0;34m.\u001b[0m\u001b[0m_deserializeForce\u001b[0m\u001b[0;34m(\u001b[0m\u001b[0minputString\u001b[0m\u001b[0;34m)\u001b[0m\u001b[0;34m\u001b[0m\u001b[0;34m\u001b[0m\u001b[0m\n\u001b[0m\u001b[1;32m   3564\u001b[0m       \u001b[0;32mif\u001b[0m \u001b[0mtype\u001b[0m \u001b[0;34m==\u001b[0m \u001b[0;34m\"Integrator\"\u001b[0m\u001b[0;34m:\u001b[0m\u001b[0;34m\u001b[0m\u001b[0;34m\u001b[0m\u001b[0m\n",
      "\u001b[0;32m~/miniconda3/envs/perses-rbd-ace2-direct/lib/python3.8/site-packages/openmm/openmm.py\u001b[0m in \u001b[0;36m_deserializeForce\u001b[0;34m(inputString)\u001b[0m\n\u001b[1;32m   3504\u001b[0m         \u001b[0;34mr\"\"\"_deserializeForce(inputString) -> Force\"\"\"\u001b[0m\u001b[0;34m\u001b[0m\u001b[0;34m\u001b[0m\u001b[0m\n\u001b[0;32m-> 3505\u001b[0;31m         \u001b[0;32mreturn\u001b[0m \u001b[0m_openmm\u001b[0m\u001b[0;34m.\u001b[0m\u001b[0mXmlSerializer__deserializeForce\u001b[0m\u001b[0;34m(\u001b[0m\u001b[0minputString\u001b[0m\u001b[0;34m)\u001b[0m\u001b[0;34m\u001b[0m\u001b[0;34m\u001b[0m\u001b[0m\n\u001b[0m\u001b[1;32m   3506\u001b[0m \u001b[0;34m\u001b[0m\u001b[0m\n",
      "\u001b[0;31mKeyboardInterrupt\u001b[0m: ",
      "\nDuring handling of the above exception, another exception occurred:\n",
      "\u001b[0;31mKeyboardInterrupt\u001b[0m                         Traceback (most recent call last)",
      "\u001b[0;32m/scratch/lsftmp/2777340.tmpdir/ipykernel_33893/2548722751.py\u001b[0m in \u001b[0;36m<module>\u001b[0;34m\u001b[0m\n\u001b[1;32m      7\u001b[0m \u001b[0;34m\u001b[0m\u001b[0m\n\u001b[1;32m      8\u001b[0m \u001b[0;32mwith\u001b[0m \u001b[0mopen\u001b[0m\u001b[0;34m(\u001b[0m\u001b[0mos\u001b[0m\u001b[0;34m.\u001b[0m\u001b[0mpath\u001b[0m\u001b[0;34m.\u001b[0m\u001b[0mjoin\u001b[0m\u001b[0;34m(\u001b[0m\u001b[0moutdir\u001b[0m\u001b[0;34m,\u001b[0m \u001b[0;34mf\"{i}_{phase}_{endstate}.pickle\"\u001b[0m\u001b[0;34m)\u001b[0m\u001b[0;34m,\u001b[0m \u001b[0;34m\"rb\"\u001b[0m\u001b[0;34m)\u001b[0m \u001b[0;32mas\u001b[0m \u001b[0mf\u001b[0m\u001b[0;34m:\u001b[0m\u001b[0;34m\u001b[0m\u001b[0;34m\u001b[0m\u001b[0m\n\u001b[0;32m----> 9\u001b[0;31m     \u001b[0mhtf\u001b[0m \u001b[0;34m=\u001b[0m \u001b[0mpickle\u001b[0m\u001b[0;34m.\u001b[0m\u001b[0mload\u001b[0m\u001b[0;34m(\u001b[0m\u001b[0mf\u001b[0m\u001b[0;34m)\u001b[0m\u001b[0;34m\u001b[0m\u001b[0;34m\u001b[0m\u001b[0m\n\u001b[0m\u001b[1;32m     10\u001b[0m \u001b[0;34m\u001b[0m\u001b[0m\n\u001b[1;32m     11\u001b[0m \u001b[0mmake_traj\u001b[0m\u001b[0;34m(\u001b[0m\u001b[0moutdir\u001b[0m\u001b[0;34m,\u001b[0m \u001b[0mhtf\u001b[0m\u001b[0;34m,\u001b[0m \u001b[0mi\u001b[0m\u001b[0;34m,\u001b[0m \u001b[0mphase\u001b[0m\u001b[0;34m,\u001b[0m \u001b[0mname\u001b[0m\u001b[0;34m,\u001b[0m \u001b[0mendstate\u001b[0m\u001b[0;34m,\u001b[0m \u001b[0mis_old\u001b[0m\u001b[0;34m)\u001b[0m\u001b[0;34m\u001b[0m\u001b[0;34m\u001b[0m\u001b[0m\n",
      "\u001b[0;31mKeyboardInterrupt\u001b[0m: "
     ]
    }
   ],
   "source": [
    "outdir = \"/data/chodera/zhangi/perses_benchmark/neq/14/147/\"\n",
    "i = 147\n",
    "phase = 'complex'\n",
    "endstate = 1\n",
    "name = 'tyr'\n",
    "is_old = False\n",
    "\n",
    "with open(os.path.join(outdir, f\"{i}_{phase}_{endstate}.pickle\"), \"rb\") as f:\n",
    "    htf = pickle.load(f)\n",
    "    \n",
    "make_traj(outdir, htf, i, phase, name, endstate, is_old)"
   ]
  },
  {
   "cell_type": "markdown",
   "id": "3f4c51d3",
   "metadata": {},
   "source": [
    "## 24/1 N501Y (scaled water rest)"
   ]
  },
  {
   "cell_type": "code",
   "execution_count": 5,
   "id": "ff3f7070",
   "metadata": {
    "scrolled": false
   },
   "outputs": [
    {
     "name": "stderr",
     "output_type": "stream",
     "text": [
      "/scratch/lsftmp/3182888.tmpdir/ipykernel_35098/3781358887.py:12: TqdmDeprecationWarning: This function will be removed in tqdm==5.0.0\n",
      "Please use `tqdm.notebook.tqdm` instead of `tqdm.tqdm_notebook`\n",
      "  for j, pos in tqdm_notebook(enumerate(cache)):\n"
     ]
    },
    {
     "data": {
      "application/vnd.jupyter.widget-view+json": {
       "model_id": "",
       "version_major": 2,
       "version_minor": 0
      },
      "text/plain": [
       "0it [00:00, ?it/s]"
      ]
     },
     "metadata": {},
     "output_type": "display_data"
    },
    {
     "data": {
      "text/plain": [
       "<mdtraj.Trajectory with 100 frames, 185384 atoms, 57660 residues, and unitcells at 0x2b478ec2ea00>"
      ]
     },
     "execution_count": 5,
     "metadata": {},
     "output_type": "execute_result"
    }
   ],
   "source": [
    "outdir = \"/data/chodera/zhangi/perses_benchmark/neq/24/1/\"\n",
    "i = 1\n",
    "phase = 'complex'\n",
    "endstate = 1\n",
    "name = 'tyr'\n",
    "is_old = False\n",
    "\n",
    "with open(os.path.join(outdir, f\"{i}_{phase}_{endstate}.pickle\"), \"rb\") as f:\n",
    "    htf = pickle.load(f)\n",
    "    \n",
    "make_traj(outdir, htf, i, phase, name, endstate, is_old)"
   ]
  },
  {
   "cell_type": "markdown",
   "id": "52428669",
   "metadata": {},
   "source": [
    "## 24/2 N501Y (scaled water rest)"
   ]
  },
  {
   "cell_type": "code",
   "execution_count": 4,
   "id": "0bf507f2",
   "metadata": {
    "scrolled": false
   },
   "outputs": [
    {
     "name": "stderr",
     "output_type": "stream",
     "text": [
      "INFO:rdkit:Enabling RDKit 2021.03.5 jupyter extensions\n",
      "/scratch/lsftmp/3219225.tmpdir/ipykernel_43501/3467959444.py:12: TqdmDeprecationWarning: This function will be removed in tqdm==5.0.0\n",
      "Please use `tqdm.notebook.tqdm` instead of `tqdm.tqdm_notebook`\n",
      "  for j, pos in tqdm_notebook(enumerate(cache)):\n"
     ]
    },
    {
     "data": {
      "application/vnd.jupyter.widget-view+json": {
       "model_id": "430d980f1e89464988d2bfee214fcad4",
       "version_major": 2,
       "version_minor": 0
      },
      "text/plain": [
       "0it [00:00, ?it/s]"
      ]
     },
     "metadata": {},
     "output_type": "display_data"
    },
    {
     "data": {
      "text/plain": [
       "<mdtraj.Trajectory with 100 frames, 185384 atoms, 57660 residues, and unitcells at 0x2b62a4cec520>"
      ]
     },
     "execution_count": 4,
     "metadata": {},
     "output_type": "execute_result"
    }
   ],
   "source": [
    "outdir = \"/data/chodera/zhangi/perses_benchmark/neq/24/2/\"\n",
    "i = 2\n",
    "phase = 'complex'\n",
    "endstate = 1\n",
    "name = 'tyr'\n",
    "is_old = False\n",
    "\n",
    "with open(os.path.join(outdir, f\"{i}_{phase}_{endstate}.pickle\"), \"rb\") as f:\n",
    "    htf = pickle.load(f)\n",
    "    \n",
    "make_traj(outdir, htf, i, phase, name, endstate, is_old)"
   ]
  },
  {
   "cell_type": "code",
   "execution_count": 5,
   "id": "b350d530",
   "metadata": {},
   "outputs": [
    {
     "data": {
      "text/plain": [
       "<perses.annihilation.relative.RepartitionedHybridTopologyFactory at 0x2ae770e20640>"
      ]
     },
     "execution_count": 5,
     "metadata": {},
     "output_type": "execute_result"
    }
   ],
   "source": [
    "htf"
   ]
  },
  {
   "cell_type": "markdown",
   "id": "44b452e9",
   "metadata": {},
   "source": [
    "### Check the unitcell vectors used for imaging this traj"
   ]
  },
  {
   "cell_type": "code",
   "execution_count": 17,
   "id": "ae1cb672",
   "metadata": {},
   "outputs": [
    {
     "name": "stderr",
     "output_type": "stream",
     "text": [
      "/scratch/lsftmp/3184662.tmpdir/ipykernel_44435/2872616094.py:5: TqdmDeprecationWarning: This function will be removed in tqdm==5.0.0\n",
      "Please use `tqdm.notebook.tqdm` instead of `tqdm.tqdm_notebook`\n",
      "  for j, pos in tqdm_notebook(enumerate(cache)):\n"
     ]
    },
    {
     "data": {
      "application/vnd.jupyter.widget-view+json": {
       "model_id": "0d2e847a7f6d4fa8998a94100f1ca0f3",
       "version_major": 2,
       "version_minor": 0
      },
      "text/plain": [
       "0it [00:00, ?it/s]"
      ]
     },
     "metadata": {},
     "output_type": "display_data"
    }
   ],
   "source": [
    "with open(os.path.join(outdir, f\"{i}_{phase}_{name}_1ns_snapshots.npy\"), \"rb\") as f:\n",
    "    cache = np.load(f)\n",
    "    \n",
    "new_pos = np.zeros(shape=(100, htf._topology_proposal.new_topology.getNumAtoms(), 3))\n",
    "for j, pos in tqdm_notebook(enumerate(cache)):\n",
    "    new_pos[j] = new_positions(unit.Quantity(pos, unit=unit.nanometers)).value_in_unit_system(unit.md_unit_system)\n",
    "\n",
    "traj = md.Trajectory(new_pos, md.Topology.from_openmm(htf._topology_proposal.new_topology))\n",
    "\n",
    "box_vectors = np.array([val.value_in_unit_system(unit.md_unit_system) for val in htf.hybrid_system.getDefaultPeriodicBoxVectors()])\n",
    "vectors = np.array([box_vectors]) \n",
    "\n",
    "    \n",
    "# Set unit cell vectors in traj \n",
    "traj.unitcell_vectors = np.repeat(vectors, 100, axis=0)\n",
    "# traj = traj.image_molecules()\n",
    "    "
   ]
  },
  {
   "cell_type": "code",
   "execution_count": 19,
   "id": "cd9d0d7e",
   "metadata": {},
   "outputs": [
    {
     "data": {
      "text/plain": [
       "<mdtraj.Trajectory with 100 frames, 185384 atoms, 57660 residues, and unitcells at 0x2ae84773f070>"
      ]
     },
     "execution_count": 19,
     "metadata": {},
     "output_type": "execute_result"
    }
   ],
   "source": [
    "traj"
   ]
  },
  {
   "cell_type": "code",
   "execution_count": 36,
   "id": "f43f4271",
   "metadata": {},
   "outputs": [
    {
     "data": {
      "text/plain": [
       "array([13.5565,  0.    ,  0.    ])"
      ]
     },
     "execution_count": 36,
     "metadata": {},
     "output_type": "execute_result"
    }
   ],
   "source": [
    "traj.unitcell_vectors[0][0]"
   ]
  },
  {
   "cell_type": "code",
   "execution_count": 23,
   "id": "fbde195f",
   "metadata": {},
   "outputs": [
    {
     "data": {
      "text/plain": [
       "[Quantity(value=Vec3(x=13.556500000000002, y=0.0, z=0.0), unit=nanometer),\n",
       " Quantity(value=Vec3(x=4.518833333333333, y=12.781190772207244, z=0.0), unit=nanometer),\n",
       " Quantity(value=Vec3(x=-4.518833333333333, y=6.390595386103622, z=11.068835899346718), unit=nanometer)]"
      ]
     },
     "execution_count": 23,
     "metadata": {},
     "output_type": "execute_result"
    }
   ],
   "source": [
    "htf.hybrid_system.getDefaultPeriodicBoxVectors()"
   ]
  },
  {
   "cell_type": "code",
   "execution_count": 34,
   "id": "cabdef8a",
   "metadata": {},
   "outputs": [
    {
     "data": {
      "text/plain": [
       "array([[[13.5565    ,  0.        ,  0.        ],\n",
       "        [ 4.51883333, 12.78119077,  0.        ],\n",
       "        [-4.51883333,  6.39059539, 11.0688359 ]],\n",
       "\n",
       "       [[13.5565    ,  0.        ,  0.        ],\n",
       "        [ 4.51883333, 12.78119077,  0.        ],\n",
       "        [-4.51883333,  6.39059539, 11.0688359 ]],\n",
       "\n",
       "       [[13.5565    ,  0.        ,  0.        ],\n",
       "        [ 4.51883333, 12.78119077,  0.        ],\n",
       "        [-4.51883333,  6.39059539, 11.0688359 ]],\n",
       "\n",
       "       [[13.5565    ,  0.        ,  0.        ],\n",
       "        [ 4.51883333, 12.78119077,  0.        ],\n",
       "        [-4.51883333,  6.39059539, 11.0688359 ]],\n",
       "\n",
       "       [[13.5565    ,  0.        ,  0.        ],\n",
       "        [ 4.51883333, 12.78119077,  0.        ],\n",
       "        [-4.51883333,  6.39059539, 11.0688359 ]],\n",
       "\n",
       "       [[13.5565    ,  0.        ,  0.        ],\n",
       "        [ 4.51883333, 12.78119077,  0.        ],\n",
       "        [-4.51883333,  6.39059539, 11.0688359 ]],\n",
       "\n",
       "       [[13.5565    ,  0.        ,  0.        ],\n",
       "        [ 4.51883333, 12.78119077,  0.        ],\n",
       "        [-4.51883333,  6.39059539, 11.0688359 ]],\n",
       "\n",
       "       [[13.5565    ,  0.        ,  0.        ],\n",
       "        [ 4.51883333, 12.78119077,  0.        ],\n",
       "        [-4.51883333,  6.39059539, 11.0688359 ]],\n",
       "\n",
       "       [[13.5565    ,  0.        ,  0.        ],\n",
       "        [ 4.51883333, 12.78119077,  0.        ],\n",
       "        [-4.51883333,  6.39059539, 11.0688359 ]],\n",
       "\n",
       "       [[13.5565    ,  0.        ,  0.        ],\n",
       "        [ 4.51883333, 12.78119077,  0.        ],\n",
       "        [-4.51883333,  6.39059539, 11.0688359 ]],\n",
       "\n",
       "       [[13.5565    ,  0.        ,  0.        ],\n",
       "        [ 4.51883333, 12.78119077,  0.        ],\n",
       "        [-4.51883333,  6.39059539, 11.0688359 ]],\n",
       "\n",
       "       [[13.5565    ,  0.        ,  0.        ],\n",
       "        [ 4.51883333, 12.78119077,  0.        ],\n",
       "        [-4.51883333,  6.39059539, 11.0688359 ]],\n",
       "\n",
       "       [[13.5565    ,  0.        ,  0.        ],\n",
       "        [ 4.51883333, 12.78119077,  0.        ],\n",
       "        [-4.51883333,  6.39059539, 11.0688359 ]],\n",
       "\n",
       "       [[13.5565    ,  0.        ,  0.        ],\n",
       "        [ 4.51883333, 12.78119077,  0.        ],\n",
       "        [-4.51883333,  6.39059539, 11.0688359 ]],\n",
       "\n",
       "       [[13.5565    ,  0.        ,  0.        ],\n",
       "        [ 4.51883333, 12.78119077,  0.        ],\n",
       "        [-4.51883333,  6.39059539, 11.0688359 ]],\n",
       "\n",
       "       [[13.5565    ,  0.        ,  0.        ],\n",
       "        [ 4.51883333, 12.78119077,  0.        ],\n",
       "        [-4.51883333,  6.39059539, 11.0688359 ]],\n",
       "\n",
       "       [[13.5565    ,  0.        ,  0.        ],\n",
       "        [ 4.51883333, 12.78119077,  0.        ],\n",
       "        [-4.51883333,  6.39059539, 11.0688359 ]],\n",
       "\n",
       "       [[13.5565    ,  0.        ,  0.        ],\n",
       "        [ 4.51883333, 12.78119077,  0.        ],\n",
       "        [-4.51883333,  6.39059539, 11.0688359 ]],\n",
       "\n",
       "       [[13.5565    ,  0.        ,  0.        ],\n",
       "        [ 4.51883333, 12.78119077,  0.        ],\n",
       "        [-4.51883333,  6.39059539, 11.0688359 ]],\n",
       "\n",
       "       [[13.5565    ,  0.        ,  0.        ],\n",
       "        [ 4.51883333, 12.78119077,  0.        ],\n",
       "        [-4.51883333,  6.39059539, 11.0688359 ]],\n",
       "\n",
       "       [[13.5565    ,  0.        ,  0.        ],\n",
       "        [ 4.51883333, 12.78119077,  0.        ],\n",
       "        [-4.51883333,  6.39059539, 11.0688359 ]],\n",
       "\n",
       "       [[13.5565    ,  0.        ,  0.        ],\n",
       "        [ 4.51883333, 12.78119077,  0.        ],\n",
       "        [-4.51883333,  6.39059539, 11.0688359 ]],\n",
       "\n",
       "       [[13.5565    ,  0.        ,  0.        ],\n",
       "        [ 4.51883333, 12.78119077,  0.        ],\n",
       "        [-4.51883333,  6.39059539, 11.0688359 ]],\n",
       "\n",
       "       [[13.5565    ,  0.        ,  0.        ],\n",
       "        [ 4.51883333, 12.78119077,  0.        ],\n",
       "        [-4.51883333,  6.39059539, 11.0688359 ]],\n",
       "\n",
       "       [[13.5565    ,  0.        ,  0.        ],\n",
       "        [ 4.51883333, 12.78119077,  0.        ],\n",
       "        [-4.51883333,  6.39059539, 11.0688359 ]],\n",
       "\n",
       "       [[13.5565    ,  0.        ,  0.        ],\n",
       "        [ 4.51883333, 12.78119077,  0.        ],\n",
       "        [-4.51883333,  6.39059539, 11.0688359 ]],\n",
       "\n",
       "       [[13.5565    ,  0.        ,  0.        ],\n",
       "        [ 4.51883333, 12.78119077,  0.        ],\n",
       "        [-4.51883333,  6.39059539, 11.0688359 ]],\n",
       "\n",
       "       [[13.5565    ,  0.        ,  0.        ],\n",
       "        [ 4.51883333, 12.78119077,  0.        ],\n",
       "        [-4.51883333,  6.39059539, 11.0688359 ]],\n",
       "\n",
       "       [[13.5565    ,  0.        ,  0.        ],\n",
       "        [ 4.51883333, 12.78119077,  0.        ],\n",
       "        [-4.51883333,  6.39059539, 11.0688359 ]],\n",
       "\n",
       "       [[13.5565    ,  0.        ,  0.        ],\n",
       "        [ 4.51883333, 12.78119077,  0.        ],\n",
       "        [-4.51883333,  6.39059539, 11.0688359 ]],\n",
       "\n",
       "       [[13.5565    ,  0.        ,  0.        ],\n",
       "        [ 4.51883333, 12.78119077,  0.        ],\n",
       "        [-4.51883333,  6.39059539, 11.0688359 ]],\n",
       "\n",
       "       [[13.5565    ,  0.        ,  0.        ],\n",
       "        [ 4.51883333, 12.78119077,  0.        ],\n",
       "        [-4.51883333,  6.39059539, 11.0688359 ]],\n",
       "\n",
       "       [[13.5565    ,  0.        ,  0.        ],\n",
       "        [ 4.51883333, 12.78119077,  0.        ],\n",
       "        [-4.51883333,  6.39059539, 11.0688359 ]],\n",
       "\n",
       "       [[13.5565    ,  0.        ,  0.        ],\n",
       "        [ 4.51883333, 12.78119077,  0.        ],\n",
       "        [-4.51883333,  6.39059539, 11.0688359 ]],\n",
       "\n",
       "       [[13.5565    ,  0.        ,  0.        ],\n",
       "        [ 4.51883333, 12.78119077,  0.        ],\n",
       "        [-4.51883333,  6.39059539, 11.0688359 ]],\n",
       "\n",
       "       [[13.5565    ,  0.        ,  0.        ],\n",
       "        [ 4.51883333, 12.78119077,  0.        ],\n",
       "        [-4.51883333,  6.39059539, 11.0688359 ]],\n",
       "\n",
       "       [[13.5565    ,  0.        ,  0.        ],\n",
       "        [ 4.51883333, 12.78119077,  0.        ],\n",
       "        [-4.51883333,  6.39059539, 11.0688359 ]],\n",
       "\n",
       "       [[13.5565    ,  0.        ,  0.        ],\n",
       "        [ 4.51883333, 12.78119077,  0.        ],\n",
       "        [-4.51883333,  6.39059539, 11.0688359 ]],\n",
       "\n",
       "       [[13.5565    ,  0.        ,  0.        ],\n",
       "        [ 4.51883333, 12.78119077,  0.        ],\n",
       "        [-4.51883333,  6.39059539, 11.0688359 ]],\n",
       "\n",
       "       [[13.5565    ,  0.        ,  0.        ],\n",
       "        [ 4.51883333, 12.78119077,  0.        ],\n",
       "        [-4.51883333,  6.39059539, 11.0688359 ]],\n",
       "\n",
       "       [[13.5565    ,  0.        ,  0.        ],\n",
       "        [ 4.51883333, 12.78119077,  0.        ],\n",
       "        [-4.51883333,  6.39059539, 11.0688359 ]],\n",
       "\n",
       "       [[13.5565    ,  0.        ,  0.        ],\n",
       "        [ 4.51883333, 12.78119077,  0.        ],\n",
       "        [-4.51883333,  6.39059539, 11.0688359 ]],\n",
       "\n",
       "       [[13.5565    ,  0.        ,  0.        ],\n",
       "        [ 4.51883333, 12.78119077,  0.        ],\n",
       "        [-4.51883333,  6.39059539, 11.0688359 ]],\n",
       "\n",
       "       [[13.5565    ,  0.        ,  0.        ],\n",
       "        [ 4.51883333, 12.78119077,  0.        ],\n",
       "        [-4.51883333,  6.39059539, 11.0688359 ]],\n",
       "\n",
       "       [[13.5565    ,  0.        ,  0.        ],\n",
       "        [ 4.51883333, 12.78119077,  0.        ],\n",
       "        [-4.51883333,  6.39059539, 11.0688359 ]],\n",
       "\n",
       "       [[13.5565    ,  0.        ,  0.        ],\n",
       "        [ 4.51883333, 12.78119077,  0.        ],\n",
       "        [-4.51883333,  6.39059539, 11.0688359 ]],\n",
       "\n",
       "       [[13.5565    ,  0.        ,  0.        ],\n",
       "        [ 4.51883333, 12.78119077,  0.        ],\n",
       "        [-4.51883333,  6.39059539, 11.0688359 ]],\n",
       "\n",
       "       [[13.5565    ,  0.        ,  0.        ],\n",
       "        [ 4.51883333, 12.78119077,  0.        ],\n",
       "        [-4.51883333,  6.39059539, 11.0688359 ]],\n",
       "\n",
       "       [[13.5565    ,  0.        ,  0.        ],\n",
       "        [ 4.51883333, 12.78119077,  0.        ],\n",
       "        [-4.51883333,  6.39059539, 11.0688359 ]],\n",
       "\n",
       "       [[13.5565    ,  0.        ,  0.        ],\n",
       "        [ 4.51883333, 12.78119077,  0.        ],\n",
       "        [-4.51883333,  6.39059539, 11.0688359 ]],\n",
       "\n",
       "       [[13.5565    ,  0.        ,  0.        ],\n",
       "        [ 4.51883333, 12.78119077,  0.        ],\n",
       "        [-4.51883333,  6.39059539, 11.0688359 ]],\n",
       "\n",
       "       [[13.5565    ,  0.        ,  0.        ],\n",
       "        [ 4.51883333, 12.78119077,  0.        ],\n",
       "        [-4.51883333,  6.39059539, 11.0688359 ]],\n",
       "\n",
       "       [[13.5565    ,  0.        ,  0.        ],\n",
       "        [ 4.51883333, 12.78119077,  0.        ],\n",
       "        [-4.51883333,  6.39059539, 11.0688359 ]],\n",
       "\n",
       "       [[13.5565    ,  0.        ,  0.        ],\n",
       "        [ 4.51883333, 12.78119077,  0.        ],\n",
       "        [-4.51883333,  6.39059539, 11.0688359 ]],\n",
       "\n",
       "       [[13.5565    ,  0.        ,  0.        ],\n",
       "        [ 4.51883333, 12.78119077,  0.        ],\n",
       "        [-4.51883333,  6.39059539, 11.0688359 ]],\n",
       "\n",
       "       [[13.5565    ,  0.        ,  0.        ],\n",
       "        [ 4.51883333, 12.78119077,  0.        ],\n",
       "        [-4.51883333,  6.39059539, 11.0688359 ]],\n",
       "\n",
       "       [[13.5565    ,  0.        ,  0.        ],\n",
       "        [ 4.51883333, 12.78119077,  0.        ],\n",
       "        [-4.51883333,  6.39059539, 11.0688359 ]],\n",
       "\n",
       "       [[13.5565    ,  0.        ,  0.        ],\n",
       "        [ 4.51883333, 12.78119077,  0.        ],\n",
       "        [-4.51883333,  6.39059539, 11.0688359 ]],\n",
       "\n",
       "       [[13.5565    ,  0.        ,  0.        ],\n",
       "        [ 4.51883333, 12.78119077,  0.        ],\n",
       "        [-4.51883333,  6.39059539, 11.0688359 ]],\n",
       "\n",
       "       [[13.5565    ,  0.        ,  0.        ],\n",
       "        [ 4.51883333, 12.78119077,  0.        ],\n",
       "        [-4.51883333,  6.39059539, 11.0688359 ]],\n",
       "\n",
       "       [[13.5565    ,  0.        ,  0.        ],\n",
       "        [ 4.51883333, 12.78119077,  0.        ],\n",
       "        [-4.51883333,  6.39059539, 11.0688359 ]],\n",
       "\n",
       "       [[13.5565    ,  0.        ,  0.        ],\n",
       "        [ 4.51883333, 12.78119077,  0.        ],\n",
       "        [-4.51883333,  6.39059539, 11.0688359 ]],\n",
       "\n",
       "       [[13.5565    ,  0.        ,  0.        ],\n",
       "        [ 4.51883333, 12.78119077,  0.        ],\n",
       "        [-4.51883333,  6.39059539, 11.0688359 ]],\n",
       "\n",
       "       [[13.5565    ,  0.        ,  0.        ],\n",
       "        [ 4.51883333, 12.78119077,  0.        ],\n",
       "        [-4.51883333,  6.39059539, 11.0688359 ]],\n",
       "\n",
       "       [[13.5565    ,  0.        ,  0.        ],\n",
       "        [ 4.51883333, 12.78119077,  0.        ],\n",
       "        [-4.51883333,  6.39059539, 11.0688359 ]],\n",
       "\n",
       "       [[13.5565    ,  0.        ,  0.        ],\n",
       "        [ 4.51883333, 12.78119077,  0.        ],\n",
       "        [-4.51883333,  6.39059539, 11.0688359 ]],\n",
       "\n",
       "       [[13.5565    ,  0.        ,  0.        ],\n",
       "        [ 4.51883333, 12.78119077,  0.        ],\n",
       "        [-4.51883333,  6.39059539, 11.0688359 ]],\n",
       "\n",
       "       [[13.5565    ,  0.        ,  0.        ],\n",
       "        [ 4.51883333, 12.78119077,  0.        ],\n",
       "        [-4.51883333,  6.39059539, 11.0688359 ]],\n",
       "\n",
       "       [[13.5565    ,  0.        ,  0.        ],\n",
       "        [ 4.51883333, 12.78119077,  0.        ],\n",
       "        [-4.51883333,  6.39059539, 11.0688359 ]],\n",
       "\n",
       "       [[13.5565    ,  0.        ,  0.        ],\n",
       "        [ 4.51883333, 12.78119077,  0.        ],\n",
       "        [-4.51883333,  6.39059539, 11.0688359 ]],\n",
       "\n",
       "       [[13.5565    ,  0.        ,  0.        ],\n",
       "        [ 4.51883333, 12.78119077,  0.        ],\n",
       "        [-4.51883333,  6.39059539, 11.0688359 ]],\n",
       "\n",
       "       [[13.5565    ,  0.        ,  0.        ],\n",
       "        [ 4.51883333, 12.78119077,  0.        ],\n",
       "        [-4.51883333,  6.39059539, 11.0688359 ]],\n",
       "\n",
       "       [[13.5565    ,  0.        ,  0.        ],\n",
       "        [ 4.51883333, 12.78119077,  0.        ],\n",
       "        [-4.51883333,  6.39059539, 11.0688359 ]],\n",
       "\n",
       "       [[13.5565    ,  0.        ,  0.        ],\n",
       "        [ 4.51883333, 12.78119077,  0.        ],\n",
       "        [-4.51883333,  6.39059539, 11.0688359 ]],\n",
       "\n",
       "       [[13.5565    ,  0.        ,  0.        ],\n",
       "        [ 4.51883333, 12.78119077,  0.        ],\n",
       "        [-4.51883333,  6.39059539, 11.0688359 ]],\n",
       "\n",
       "       [[13.5565    ,  0.        ,  0.        ],\n",
       "        [ 4.51883333, 12.78119077,  0.        ],\n",
       "        [-4.51883333,  6.39059539, 11.0688359 ]],\n",
       "\n",
       "       [[13.5565    ,  0.        ,  0.        ],\n",
       "        [ 4.51883333, 12.78119077,  0.        ],\n",
       "        [-4.51883333,  6.39059539, 11.0688359 ]],\n",
       "\n",
       "       [[13.5565    ,  0.        ,  0.        ],\n",
       "        [ 4.51883333, 12.78119077,  0.        ],\n",
       "        [-4.51883333,  6.39059539, 11.0688359 ]],\n",
       "\n",
       "       [[13.5565    ,  0.        ,  0.        ],\n",
       "        [ 4.51883333, 12.78119077,  0.        ],\n",
       "        [-4.51883333,  6.39059539, 11.0688359 ]],\n",
       "\n",
       "       [[13.5565    ,  0.        ,  0.        ],\n",
       "        [ 4.51883333, 12.78119077,  0.        ],\n",
       "        [-4.51883333,  6.39059539, 11.0688359 ]],\n",
       "\n",
       "       [[13.5565    ,  0.        ,  0.        ],\n",
       "        [ 4.51883333, 12.78119077,  0.        ],\n",
       "        [-4.51883333,  6.39059539, 11.0688359 ]],\n",
       "\n",
       "       [[13.5565    ,  0.        ,  0.        ],\n",
       "        [ 4.51883333, 12.78119077,  0.        ],\n",
       "        [-4.51883333,  6.39059539, 11.0688359 ]],\n",
       "\n",
       "       [[13.5565    ,  0.        ,  0.        ],\n",
       "        [ 4.51883333, 12.78119077,  0.        ],\n",
       "        [-4.51883333,  6.39059539, 11.0688359 ]],\n",
       "\n",
       "       [[13.5565    ,  0.        ,  0.        ],\n",
       "        [ 4.51883333, 12.78119077,  0.        ],\n",
       "        [-4.51883333,  6.39059539, 11.0688359 ]],\n",
       "\n",
       "       [[13.5565    ,  0.        ,  0.        ],\n",
       "        [ 4.51883333, 12.78119077,  0.        ],\n",
       "        [-4.51883333,  6.39059539, 11.0688359 ]],\n",
       "\n",
       "       [[13.5565    ,  0.        ,  0.        ],\n",
       "        [ 4.51883333, 12.78119077,  0.        ],\n",
       "        [-4.51883333,  6.39059539, 11.0688359 ]],\n",
       "\n",
       "       [[13.5565    ,  0.        ,  0.        ],\n",
       "        [ 4.51883333, 12.78119077,  0.        ],\n",
       "        [-4.51883333,  6.39059539, 11.0688359 ]],\n",
       "\n",
       "       [[13.5565    ,  0.        ,  0.        ],\n",
       "        [ 4.51883333, 12.78119077,  0.        ],\n",
       "        [-4.51883333,  6.39059539, 11.0688359 ]],\n",
       "\n",
       "       [[13.5565    ,  0.        ,  0.        ],\n",
       "        [ 4.51883333, 12.78119077,  0.        ],\n",
       "        [-4.51883333,  6.39059539, 11.0688359 ]],\n",
       "\n",
       "       [[13.5565    ,  0.        ,  0.        ],\n",
       "        [ 4.51883333, 12.78119077,  0.        ],\n",
       "        [-4.51883333,  6.39059539, 11.0688359 ]],\n",
       "\n",
       "       [[13.5565    ,  0.        ,  0.        ],\n",
       "        [ 4.51883333, 12.78119077,  0.        ],\n",
       "        [-4.51883333,  6.39059539, 11.0688359 ]],\n",
       "\n",
       "       [[13.5565    ,  0.        ,  0.        ],\n",
       "        [ 4.51883333, 12.78119077,  0.        ],\n",
       "        [-4.51883333,  6.39059539, 11.0688359 ]],\n",
       "\n",
       "       [[13.5565    ,  0.        ,  0.        ],\n",
       "        [ 4.51883333, 12.78119077,  0.        ],\n",
       "        [-4.51883333,  6.39059539, 11.0688359 ]],\n",
       "\n",
       "       [[13.5565    ,  0.        ,  0.        ],\n",
       "        [ 4.51883333, 12.78119077,  0.        ],\n",
       "        [-4.51883333,  6.39059539, 11.0688359 ]],\n",
       "\n",
       "       [[13.5565    ,  0.        ,  0.        ],\n",
       "        [ 4.51883333, 12.78119077,  0.        ],\n",
       "        [-4.51883333,  6.39059539, 11.0688359 ]],\n",
       "\n",
       "       [[13.5565    ,  0.        ,  0.        ],\n",
       "        [ 4.51883333, 12.78119077,  0.        ],\n",
       "        [-4.51883333,  6.39059539, 11.0688359 ]],\n",
       "\n",
       "       [[13.5565    ,  0.        ,  0.        ],\n",
       "        [ 4.51883333, 12.78119077,  0.        ],\n",
       "        [-4.51883333,  6.39059539, 11.0688359 ]],\n",
       "\n",
       "       [[13.5565    ,  0.        ,  0.        ],\n",
       "        [ 4.51883333, 12.78119077,  0.        ],\n",
       "        [-4.51883333,  6.39059539, 11.0688359 ]],\n",
       "\n",
       "       [[13.5565    ,  0.        ,  0.        ],\n",
       "        [ 4.51883333, 12.78119077,  0.        ],\n",
       "        [-4.51883333,  6.39059539, 11.0688359 ]],\n",
       "\n",
       "       [[13.5565    ,  0.        ,  0.        ],\n",
       "        [ 4.51883333, 12.78119077,  0.        ],\n",
       "        [-4.51883333,  6.39059539, 11.0688359 ]]])"
      ]
     },
     "execution_count": 34,
     "metadata": {},
     "output_type": "execute_result"
    }
   ],
   "source": [
    "traj.unitcell_vectors"
   ]
  },
  {
   "cell_type": "code",
   "execution_count": null,
   "id": "c3c5bd3e",
   "metadata": {},
   "outputs": [],
   "source": []
  },
  {
   "cell_type": "markdown",
   "id": "36cfc061",
   "metadata": {},
   "source": [
    "## 15/157 N501Y (normal rest)"
   ]
  },
  {
   "cell_type": "code",
   "execution_count": 8,
   "id": "c280c928",
   "metadata": {
    "scrolled": false
   },
   "outputs": [
    {
     "name": "stderr",
     "output_type": "stream",
     "text": [
      "/scratch/lsftmp/4073148.tmpdir/ipykernel_68395/2152726773.py:12: TqdmDeprecationWarning: This function will be removed in tqdm==5.0.0\n",
      "Please use `tqdm.notebook.tqdm` instead of `tqdm.tqdm_notebook`\n",
      "  for j, pos in tqdm_notebook(enumerate(cache)):\n"
     ]
    },
    {
     "data": {
      "application/vnd.jupyter.widget-view+json": {
       "model_id": "2b5a535ca957476aab16d5f9ad397e5b",
       "version_major": 2,
       "version_minor": 0
      },
      "text/plain": [
       "0it [00:00, ?it/s]"
      ]
     },
     "metadata": {},
     "output_type": "display_data"
    },
    {
     "data": {
      "text/plain": [
       "<mdtraj.Trajectory with 200 frames, 185384 atoms, 57660 residues, and unitcells at 0x2b60e1c2edc0>"
      ]
     },
     "execution_count": 8,
     "metadata": {},
     "output_type": "execute_result"
    }
   ],
   "source": [
    "outdir = \"/data/chodera/zhangi/perses_benchmark/neq/14/157/scatter/157/\"\n",
    "i = 157\n",
    "phase = 'complex'\n",
    "endstate = 1\n",
    "name = 'tyr'\n",
    "is_old = False\n",
    "\n",
    "with open(os.path.join(outdir, f\"{i}_{phase}_{endstate}.pickle\"), \"rb\") as f:\n",
    "    htf = pickle.load(f)\n",
    "    \n",
    "make_traj(outdir, htf, i, phase, name, endstate, is_old)"
   ]
  },
  {
   "cell_type": "markdown",
   "id": "f80a011b",
   "metadata": {},
   "source": [
    "# Check the box vectors used for solvation"
   ]
  },
  {
   "cell_type": "code",
   "execution_count": 25,
   "id": "b23d705f",
   "metadata": {},
   "outputs": [],
   "source": [
    "import simtk.openmm as openmm\n",
    "import simtk.openmm.app as app\n",
    "import simtk.unit as unit\n",
    "import numpy as np\n",
    "from perses.app.relative_point_mutation_setup import PointMutationExecutor\n",
    "\n",
    "# Set up logger\n",
    "import logging\n",
    "_logger = logging.getLogger(\"setup\")\n",
    "_logger.setLevel(logging.INFO)\n",
    "\n",
    "class PointMutationExecutor2(PointMutationExecutor):\n",
    "    def _solvate(self,\n",
    "               topology,\n",
    "               positions,\n",
    "               water_model,\n",
    "               phase,\n",
    "               ionic_strength,\n",
    "               box_dimensions=None):\n",
    "        \"\"\"\n",
    "        Generate a solvated topology, positions, and system for a given input topology and positions.\n",
    "        For generating the system, the forcefield files provided in the constructor will be used.\n",
    "        Parameters\n",
    "        ----------\n",
    "        topology : app.Topology\n",
    "            Topology of the system to solvate\n",
    "        positions : [n, 3] ndarray of Quantity nm\n",
    "            the positions of the unsolvated system\n",
    "        forcefield : SystemGenerator.forcefield\n",
    "            forcefield file of solvent to add\n",
    "        water_model : str\n",
    "            solvent model to use for solvation\n",
    "        phase : str\n",
    "            if phase == vacuum, then the complex will not be solvated with water; else, it will be solvated with tip3p\n",
    "        ionic_strength : float * unit.molar\n",
    "            the total concentration of ions (both positive and negative) to add using Modeller.\n",
    "            This does not include ions that are added to neutralize the system.\n",
    "            Note that only monovalent ions are currently supported.\n",
    "        Returns\n",
    "        -------\n",
    "        solvated_topology : app.Topology\n",
    "            Topology of the system with added waters\n",
    "        solvated_positions : [n + 3(n_waters), 3] ndarray of Quantity nm\n",
    "            Solvated positions\n",
    "        solvated_system : openmm.System\n",
    "            The parameterized system, containing a barostat if one was specified.\n",
    "        \"\"\"\n",
    "        modeller = app.Modeller(topology, positions)\n",
    "\n",
    "        geompadding = 0.9 * unit.nanometers\n",
    "        maxSize = max(max((pos[i] for pos in positions))-min((pos[i] for pos in positions)) for i in range(3))\n",
    "        vectors = openmm.Vec3(1,0,0), openmm.Vec3(1/3,2*np.sqrt(2)/3,0), openmm.Vec3(-1/3,np.sqrt(2)/3,np.sqrt(6)/3)\n",
    "        boxVectors = [(maxSize+geompadding)*v for v in vectors]\n",
    "        print(boxVectors)\n",
    "        # Now we have to add missing atoms\n",
    "        if phase != 'vacuum':\n",
    "            _logger.info(f\"solvating at {ionic_strength} using {water_model}\")\n",
    "            modeller.addSolvent(self.system_generator.forcefield, model=water_model, boxVectors=boxVectors, ionicStrength=ionic_strength)\n",
    "        else:\n",
    "            pass\n",
    "\n",
    "        solvated_topology = modeller.getTopology()\n",
    "        solvated_positions = modeller.getPositions()\n",
    "\n",
    "        # Canonicalize the solvated positions: turn tuples into np.array\n",
    "        solvated_positions = unit.quantity.Quantity(value=np.array([list(atom_pos) for atom_pos in solvated_positions.value_in_unit_system(unit.md_unit_system)]), unit=unit.nanometers)\n",
    "        solvated_system = self.system_generator.create_system(solvated_topology)\n",
    "\n",
    "        return solvated_topology, solvated_positions, solvated_system"
   ]
  },
  {
   "cell_type": "code",
   "execution_count": 27,
   "id": "22f95818",
   "metadata": {},
   "outputs": [
    {
     "name": "stderr",
     "output_type": "stream",
     "text": [
      "DEBUG:openmmforcefields.system_generators:Trying GAFFTemplateGenerator to load gaff-2.11\n",
      "INFO:setup:solvating at 0.15 M using tip3p\n"
     ]
    },
    {
     "name": "stdout",
     "output_type": "stream",
     "text": [
      "[Quantity(value=Vec3(x=8.625399999999999, y=0.0, z=0.0), unit=nanometer), Quantity(value=Vec3(x=2.875133333333333, y=8.13210510726193, z=0.0), unit=nanometer), Quantity(value=Vec3(x=-2.875133333333333, y=4.066052553630965, z=7.042609609134006), unit=nanometer)]\n"
     ]
    },
    {
     "name": "stderr",
     "output_type": "stream",
     "text": [
      "INFO:setup:solvating at 0.15 M using tip3p\n"
     ]
    },
    {
     "name": "stdout",
     "output_type": "stream",
     "text": [
      "[Quantity(value=Vec3(x=13.556500000000002, y=0.0, z=0.0), unit=nanometer), Quantity(value=Vec3(x=4.518833333333333, y=12.781190772207244, z=0.0), unit=nanometer), Quantity(value=Vec3(x=-4.518833333333333, y=6.390595386103622, z=11.068835899346718), unit=nanometer)]\n"
     ]
    },
    {
     "ename": "KeyboardInterrupt",
     "evalue": "",
     "output_type": "error",
     "traceback": [
      "\u001b[0;31m---------------------------------------------------------------------------\u001b[0m",
      "\u001b[0;31mKeyboardInterrupt\u001b[0m                         Traceback (most recent call last)",
      "\u001b[0;32m/scratch/lsftmp/3184662.tmpdir/ipykernel_44435/545097069.py\u001b[0m in \u001b[0;36m<module>\u001b[0;34m\u001b[0m\n\u001b[1;32m      2\u001b[0m \u001b[0mace2_file\u001b[0m \u001b[0;34m=\u001b[0m \u001b[0;34m\"/home/zhangi/choderalab/perses_benchmark/perses_protein_mutations/input/ace2_protonated.pdb\"\u001b[0m\u001b[0;34m\u001b[0m\u001b[0;34m\u001b[0m\u001b[0m\n\u001b[1;32m      3\u001b[0m \u001b[0;34m\u001b[0m\u001b[0m\n\u001b[0;32m----> 4\u001b[0;31m solvent_delivery = PointMutationExecutor2(rbd_file,\n\u001b[0m\u001b[1;32m      5\u001b[0m                         \u001b[0;34m'1'\u001b[0m\u001b[0;34m,\u001b[0m\u001b[0;34m\u001b[0m\u001b[0;34m\u001b[0m\u001b[0m\n\u001b[1;32m      6\u001b[0m                         \u001b[0;34m'501'\u001b[0m\u001b[0;34m,\u001b[0m\u001b[0;34m\u001b[0m\u001b[0;34m\u001b[0m\u001b[0m\n",
      "\u001b[0;32m~/miniconda3/envs/perses-rest2v3/lib/python3.9/site-packages/perses-0.9.2+15.g7f7fd5c-py3.9.egg/perses/app/relative_point_mutation_setup.py\u001b[0m in \u001b[0;36m__init__\u001b[0;34m(self, protein_filename, mutation_chain_id, mutation_residue_id, proposed_residue, old_residue, phase, conduct_endstate_validation, ligand_input, ligand_index, allow_undefined_stereo_sdf, water_model, ionic_strength, forcefield_files, barostat, forcefield_kwargs, periodic_forcefield_kwargs, nonperiodic_forcefield_kwargs, small_molecule_forcefields, complex_box_dimensions, apo_box_dimensions, flatten_torsions, flatten_exceptions, generate_unmodified_hybrid_topology_factory, generate_rest_capable_hybrid_topology_factory, **kwargs)\u001b[0m\n\u001b[1;32m    237\u001b[0m         \u001b[0minputs\u001b[0m \u001b[0;34m=\u001b[0m \u001b[0;34m[\u001b[0m\u001b[0mapo_input\u001b[0m\u001b[0;34m]\u001b[0m\u001b[0;34m\u001b[0m\u001b[0;34m\u001b[0m\u001b[0m\n\u001b[1;32m    238\u001b[0m         \u001b[0;32mif\u001b[0m \u001b[0mligand_input\u001b[0m\u001b[0;34m:\u001b[0m\u001b[0;34m\u001b[0m\u001b[0;34m\u001b[0m\u001b[0m\n\u001b[0;32m--> 239\u001b[0;31m             \u001b[0minputs\u001b[0m\u001b[0;34m.\u001b[0m\u001b[0mappend\u001b[0m\u001b[0;34m(\u001b[0m\u001b[0mself\u001b[0m\u001b[0;34m.\u001b[0m\u001b[0m_solvate\u001b[0m\u001b[0;34m(\u001b[0m\u001b[0mcomplex_topology\u001b[0m\u001b[0;34m,\u001b[0m \u001b[0mcomplex_positions\u001b[0m\u001b[0;34m,\u001b[0m \u001b[0mwater_model\u001b[0m\u001b[0;34m,\u001b[0m \u001b[0mphase\u001b[0m\u001b[0;34m,\u001b[0m \u001b[0mionic_strength\u001b[0m\u001b[0;34m,\u001b[0m \u001b[0mcomplex_box_dimensions\u001b[0m\u001b[0;34m)\u001b[0m\u001b[0;34m)\u001b[0m\u001b[0;34m\u001b[0m\u001b[0;34m\u001b[0m\u001b[0m\n\u001b[0m\u001b[1;32m    240\u001b[0m \u001b[0;34m\u001b[0m\u001b[0m\n\u001b[1;32m    241\u001b[0m         geometry_engine = FFAllAngleGeometryEngine(metadata=None,\n",
      "\u001b[0;32m/scratch/lsftmp/3184662.tmpdir/ipykernel_44435/1011729594.py\u001b[0m in \u001b[0;36m_solvate\u001b[0;34m(self, topology, positions, water_model, phase, ionic_strength, box_dimensions)\u001b[0m\n\u001b[1;32m     56\u001b[0m         \u001b[0;32mif\u001b[0m \u001b[0mphase\u001b[0m \u001b[0;34m!=\u001b[0m \u001b[0;34m'vacuum'\u001b[0m\u001b[0;34m:\u001b[0m\u001b[0;34m\u001b[0m\u001b[0;34m\u001b[0m\u001b[0m\n\u001b[1;32m     57\u001b[0m             \u001b[0m_logger\u001b[0m\u001b[0;34m.\u001b[0m\u001b[0minfo\u001b[0m\u001b[0;34m(\u001b[0m\u001b[0;34mf\"solvating at {ionic_strength} using {water_model}\"\u001b[0m\u001b[0;34m)\u001b[0m\u001b[0;34m\u001b[0m\u001b[0;34m\u001b[0m\u001b[0m\n\u001b[0;32m---> 58\u001b[0;31m             \u001b[0mmodeller\u001b[0m\u001b[0;34m.\u001b[0m\u001b[0maddSolvent\u001b[0m\u001b[0;34m(\u001b[0m\u001b[0mself\u001b[0m\u001b[0;34m.\u001b[0m\u001b[0msystem_generator\u001b[0m\u001b[0;34m.\u001b[0m\u001b[0mforcefield\u001b[0m\u001b[0;34m,\u001b[0m \u001b[0mmodel\u001b[0m\u001b[0;34m=\u001b[0m\u001b[0mwater_model\u001b[0m\u001b[0;34m,\u001b[0m \u001b[0mboxVectors\u001b[0m\u001b[0;34m=\u001b[0m\u001b[0mboxVectors\u001b[0m\u001b[0;34m,\u001b[0m \u001b[0mionicStrength\u001b[0m\u001b[0;34m=\u001b[0m\u001b[0mionic_strength\u001b[0m\u001b[0;34m)\u001b[0m\u001b[0;34m\u001b[0m\u001b[0;34m\u001b[0m\u001b[0m\n\u001b[0m\u001b[1;32m     59\u001b[0m         \u001b[0;32melse\u001b[0m\u001b[0;34m:\u001b[0m\u001b[0;34m\u001b[0m\u001b[0;34m\u001b[0m\u001b[0m\n\u001b[1;32m     60\u001b[0m             \u001b[0;32mpass\u001b[0m\u001b[0;34m\u001b[0m\u001b[0;34m\u001b[0m\u001b[0m\n",
      "\u001b[0;32m~/miniconda3/envs/perses-rest2v3/lib/python3.9/site-packages/openmm/app/modeller.py\u001b[0m in \u001b[0;36maddSolvent\u001b[0;34m(self, forcefield, model, boxSize, boxVectors, padding, numAdded, positiveIon, negativeIon, ionicStrength, neutralize)\u001b[0m\n\u001b[1;32m    481\u001b[0m         \u001b[0;31m# Have the ForceField build a System for the solute from which we can determine van der Waals radii.\u001b[0m\u001b[0;34m\u001b[0m\u001b[0;34m\u001b[0m\u001b[0m\n\u001b[1;32m    482\u001b[0m \u001b[0;34m\u001b[0m\u001b[0m\n\u001b[0;32m--> 483\u001b[0;31m         \u001b[0msystem\u001b[0m \u001b[0;34m=\u001b[0m \u001b[0mforcefield\u001b[0m\u001b[0;34m.\u001b[0m\u001b[0mcreateSystem\u001b[0m\u001b[0;34m(\u001b[0m\u001b[0mself\u001b[0m\u001b[0;34m.\u001b[0m\u001b[0mtopology\u001b[0m\u001b[0;34m)\u001b[0m\u001b[0;34m\u001b[0m\u001b[0;34m\u001b[0m\u001b[0m\n\u001b[0m\u001b[1;32m    484\u001b[0m         \u001b[0mnonbonded\u001b[0m \u001b[0;34m=\u001b[0m \u001b[0;32mNone\u001b[0m\u001b[0;34m\u001b[0m\u001b[0;34m\u001b[0m\u001b[0m\n\u001b[1;32m    485\u001b[0m         \u001b[0;32mfor\u001b[0m \u001b[0mi\u001b[0m \u001b[0;32min\u001b[0m \u001b[0mrange\u001b[0m\u001b[0;34m(\u001b[0m\u001b[0msystem\u001b[0m\u001b[0;34m.\u001b[0m\u001b[0mgetNumForces\u001b[0m\u001b[0;34m(\u001b[0m\u001b[0;34m)\u001b[0m\u001b[0;34m)\u001b[0m\u001b[0;34m:\u001b[0m\u001b[0;34m\u001b[0m\u001b[0;34m\u001b[0m\u001b[0m\n",
      "\u001b[0;32m~/miniconda3/envs/perses-rest2v3/lib/python3.9/site-packages/openmm/app/forcefield.py\u001b[0m in \u001b[0;36mcreateSystem\u001b[0;34m(self, topology, nonbondedMethod, nonbondedCutoff, constraints, rigidWater, removeCMMotion, hydrogenMass, residueTemplates, ignoreExternalBonds, switchDistance, flexibleConstraints, drudeMass, **args)\u001b[0m\n\u001b[1;32m   1270\u001b[0m                     \u001b[0;32melse\u001b[0m\u001b[0;34m:\u001b[0m\u001b[0;34m\u001b[0m\u001b[0;34m\u001b[0m\u001b[0m\n\u001b[1;32m   1271\u001b[0m                         \u001b[0muniqueAngles\u001b[0m\u001b[0;34m.\u001b[0m\u001b[0madd\u001b[0m\u001b[0;34m(\u001b[0m\u001b[0;34m(\u001b[0m\u001b[0matom\u001b[0m\u001b[0;34m,\u001b[0m \u001b[0mbond\u001b[0m\u001b[0;34m.\u001b[0m\u001b[0matom2\u001b[0m\u001b[0;34m,\u001b[0m \u001b[0mbond\u001b[0m\u001b[0;34m.\u001b[0m\u001b[0matom1\u001b[0m\u001b[0;34m)\u001b[0m\u001b[0;34m)\u001b[0m\u001b[0;34m\u001b[0m\u001b[0;34m\u001b[0m\u001b[0m\n\u001b[0;32m-> 1272\u001b[0;31m         \u001b[0mdata\u001b[0m\u001b[0;34m.\u001b[0m\u001b[0mangles\u001b[0m \u001b[0;34m=\u001b[0m \u001b[0msorted\u001b[0m\u001b[0;34m(\u001b[0m\u001b[0mlist\u001b[0m\u001b[0;34m(\u001b[0m\u001b[0muniqueAngles\u001b[0m\u001b[0;34m)\u001b[0m\u001b[0;34m)\u001b[0m\u001b[0;34m\u001b[0m\u001b[0;34m\u001b[0m\u001b[0m\n\u001b[0m\u001b[1;32m   1273\u001b[0m \u001b[0;34m\u001b[0m\u001b[0m\n\u001b[1;32m   1274\u001b[0m         \u001b[0;31m# Make a list of all unique proper torsions\u001b[0m\u001b[0;34m\u001b[0m\u001b[0;34m\u001b[0m\u001b[0m\n",
      "\u001b[0;31mKeyboardInterrupt\u001b[0m: "
     ]
    }
   ],
   "source": [
    "rbd_file = \"/home/zhangi/choderalab/perses_benchmark/perses_protein_mutations/input/rbd_protonated.pdb\"\n",
    "ace2_file = \"/home/zhangi/choderalab/perses_benchmark/perses_protein_mutations/input/ace2_protonated.pdb\"\n",
    "\n",
    "solvent_delivery = PointMutationExecutor2(rbd_file,\n",
    "                        '1',\n",
    "                        '501',\n",
    "                        'TYR',\n",
    "                        ligand_input=ace2_file,\n",
    "                        forcefield_files=['amber14/protein.ff14SB.xml', 'amber14/tip3p.xml', '/home/zhangi/choderalab/openmmforcefields/amber/ffxml/GLYCAM_06j-1.xml'],\n",
    "                        ionic_strength=0.15*unit.molar,\n",
    "                        flatten_torsions=True,\n",
    "                        flatten_exceptions=True,\n",
    "                        generate_unmodified_hybrid_topology_factory=True,\n",
    "                        generate_rest_capable_hybrid_topology_factory=True,\n",
    "                        conduct_endstate_validation=False\n",
    "                       )"
   ]
  },
  {
   "cell_type": "code",
   "execution_count": null,
   "id": "c822ba67",
   "metadata": {},
   "outputs": [],
   "source": []
  }
 ],
 "metadata": {
  "kernelspec": {
   "display_name": "Python 3 (ipykernel)",
   "language": "python",
   "name": "python3"
  },
  "language_info": {
   "codemirror_mode": {
    "name": "ipython",
    "version": 3
   },
   "file_extension": ".py",
   "mimetype": "text/x-python",
   "name": "python",
   "nbconvert_exporter": "python",
   "pygments_lexer": "ipython3",
   "version": "3.9.7"
  }
 },
 "nbformat": 4,
 "nbformat_minor": 5
}
