{
 "cells": [
  {
   "cell_type": "code",
   "execution_count": 1,
   "id": "crazy-wagner",
   "metadata": {},
   "outputs": [
    {
     "name": "stderr",
     "output_type": "stream",
     "text": [
      "Warning: importing 'simtk.openmm' is deprecated.  Import 'openmm' instead.\n"
     ]
    }
   ],
   "source": [
    "import os\n",
    "import numpy as np\n",
    "import mdtraj as md\n",
    "import pickle\n",
    "from simtk.openmm import unit\n",
    "from tqdm import tqdm_notebook\n",
    "from simtk.openmm import app\n",
    "import matplotlib.pyplot as plt\n",
    "from openeye import oechem"
   ]
  },
  {
   "cell_type": "code",
   "execution_count": 2,
   "id": "eligible-apache",
   "metadata": {},
   "outputs": [],
   "source": [
    "def new_positions(hybrid_positions):\n",
    "    n_atoms_new = htf._topology_proposal.n_atoms_new\n",
    "    hybrid_indices = [htf._new_to_hybrid_map[idx] for idx in range(n_atoms_new)]\n",
    "    return hybrid_positions[hybrid_indices, :]\n",
    "    \n",
    "def old_positions(hybrid_positions):\n",
    "    n_atoms_old = htf._topology_proposal.n_atoms_old\n",
    "    hybrid_indices = [htf._old_to_hybrid_map[idx] for idx in range(n_atoms_old)]\n",
    "    return hybrid_positions[hybrid_indices, :]"
   ]
  },
  {
   "cell_type": "code",
   "execution_count": 3,
   "id": "derived-probe",
   "metadata": {},
   "outputs": [],
   "source": [
    "def make_traj(outdir, htf, i, phase, name, endstate, is_old=True, solvent_only=False):\n",
    "    with open(os.path.join(outdir, f\"{i}_{phase}_{name}_1ns_snapshots.npy\"), \"rb\") as f:\n",
    "        cache = np.load(f)\n",
    "    if is_old:\n",
    "        old_pos = np.zeros(shape=(100, htf._topology_proposal.old_topology.getNumAtoms(), 3))\n",
    "        for j, pos in tqdm_notebook(enumerate(cache)):\n",
    "            old_pos[j] = old_positions(unit.Quantity(pos, unit=unit.nanometers)).value_in_unit_system(unit.md_unit_system)\n",
    "        \n",
    "        traj = md.Trajectory(old_pos, md.Topology.from_openmm(htf._topology_proposal.old_topology))\n",
    "    else:\n",
    "        new_pos = np.zeros(shape=(100, htf._topology_proposal.new_topology.getNumAtoms(), 3))\n",
    "        for j, pos in tqdm_notebook(enumerate(cache)):\n",
    "            new_pos[j] = new_positions(unit.Quantity(pos, unit=unit.nanometers)).value_in_unit_system(unit.md_unit_system)\n",
    "        \n",
    "        traj = md.Trajectory(new_pos, md.Topology.from_openmm(htf._topology_proposal.new_topology))\n",
    "        \n",
    "    box_vectors = np.array([val.value_in_unit_system(unit.md_unit_system) for val in htf.hybrid_system.getDefaultPeriodicBoxVectors()])\n",
    "    vectors = np.array([box_vectors]) \n",
    "        \n",
    "    if solvent_only:\n",
    "        traj.atom_slice(traj.topology.select(\"water or resname 'na\\+' or resn 'cl\\-'\"), inplace=True)\n",
    "        \n",
    "    # Set unit cell vectors in traj \n",
    "    traj.unitcell_vectors = np.repeat(vectors, 100, axis=0)\n",
    "    traj = traj.image_molecules()\n",
    "    \n",
    "    if solvent_only:\n",
    "        traj.save(os.path.join(outdir, f\"{i}_{phase}_{endstate}_solvent.dcd\"))\n",
    "        traj[0].save(os.path.join(outdir, f\"{i}_{phase}_{endstate}_solvent.pdb\"))\n",
    "    else:\n",
    "        traj.save(os.path.join(outdir, f\"{i}_{phase}_{endstate}.dcd\"))\n",
    "        traj[0].save(os.path.join(outdir, f\"{i}_{phase}_{endstate}.pdb\"))\n",
    "    return traj\n",
    "       "
   ]
  },
  {
   "cell_type": "markdown",
   "id": "adjusted-analyst",
   "metadata": {},
   "source": [
    "## 14/113 N501Y"
   ]
  },
  {
   "cell_type": "code",
   "execution_count": 10,
   "id": "dangerous-adult",
   "metadata": {
    "scrolled": true
   },
   "outputs": [
    {
     "name": "stderr",
     "output_type": "stream",
     "text": [
      "/scratch/lsftmp/2612224.tmpdir/ipykernel_110909/3781358887.py:6: TqdmDeprecationWarning: This function will be removed in tqdm==5.0.0\n",
      "Please use `tqdm.notebook.tqdm` instead of `tqdm.tqdm_notebook`\n",
      "  for j, pos in tqdm_notebook(enumerate(cache)):\n"
     ]
    },
    {
     "data": {
      "application/vnd.jupyter.widget-view+json": {
       "model_id": "663737b0a4164086b0454f0f71be379c",
       "version_major": 2,
       "version_minor": 0
      },
      "text/plain": [
       "0it [00:00, ?it/s]"
      ]
     },
     "metadata": {},
     "output_type": "display_data"
    },
    {
     "data": {
      "text/plain": [
       "<mdtraj.Trajectory with 100 frames, 185377 atoms, 57660 residues, and unitcells at 0x2b278789adf0>"
      ]
     },
     "execution_count": 10,
     "metadata": {},
     "output_type": "execute_result"
    }
   ],
   "source": [
    "outdir = \"/data/chodera/zhangi/perses_benchmark/neq/14/113/\"\n",
    "i = 113\n",
    "phase = 'complex'\n",
    "endstate = 0\n",
    "name = 'asn'\n",
    "is_old = True\n",
    "\n",
    "with open(os.path.join(outdir, f\"{i}_{phase}_{endstate}.pickle\"), \"rb\") as f:\n",
    "    htf = pickle.load(f)\n",
    "    \n",
    "make_traj(outdir, htf, i, phase, name, endstate, is_old)"
   ]
  },
  {
   "cell_type": "code",
   "execution_count": 11,
   "id": "driven-parcel",
   "metadata": {},
   "outputs": [
    {
     "name": "stderr",
     "output_type": "stream",
     "text": [
      "/scratch/lsftmp/2612224.tmpdir/ipykernel_110909/3781358887.py:6: TqdmDeprecationWarning: This function will be removed in tqdm==5.0.0\n",
      "Please use `tqdm.notebook.tqdm` instead of `tqdm.tqdm_notebook`\n",
      "  for j, pos in tqdm_notebook(enumerate(cache)):\n"
     ]
    },
    {
     "data": {
      "application/vnd.jupyter.widget-view+json": {
       "model_id": "e98e422436714b24a4d29e85214fb06b",
       "version_major": 2,
       "version_minor": 0
      },
      "text/plain": [
       "0it [00:00, ?it/s]"
      ]
     },
     "metadata": {},
     "output_type": "display_data"
    },
    {
     "data": {
      "text/plain": [
       "<mdtraj.Trajectory with 100 frames, 49086 atoms, 15547 residues, and unitcells at 0x2b27682bcca0>"
      ]
     },
     "execution_count": 11,
     "metadata": {},
     "output_type": "execute_result"
    }
   ],
   "source": [
    "outdir = \"/data/chodera/zhangi/perses_benchmark/neq/14/113/\"\n",
    "i = 113\n",
    "phase = 'apo'\n",
    "endstate = 0\n",
    "name = 'asn'\n",
    "is_old = True\n",
    "\n",
    "with open(os.path.join(outdir, f\"{i}_{phase}_{endstate}.pickle\"), \"rb\") as f:\n",
    "    htf = pickle.load(f)\n",
    "    \n",
    "make_traj(outdir, htf, i, phase, name, endstate, is_old)"
   ]
  },
  {
   "cell_type": "code",
   "execution_count": 12,
   "id": "adjustable-tutorial",
   "metadata": {
    "scrolled": true
   },
   "outputs": [
    {
     "name": "stderr",
     "output_type": "stream",
     "text": [
      "/scratch/lsftmp/2612224.tmpdir/ipykernel_110909/3781358887.py:12: TqdmDeprecationWarning: This function will be removed in tqdm==5.0.0\n",
      "Please use `tqdm.notebook.tqdm` instead of `tqdm.tqdm_notebook`\n",
      "  for j, pos in tqdm_notebook(enumerate(cache)):\n"
     ]
    },
    {
     "data": {
      "application/vnd.jupyter.widget-view+json": {
       "model_id": "ed2def947fb341188051f3709d66adc0",
       "version_major": 2,
       "version_minor": 0
      },
      "text/plain": [
       "0it [00:00, ?it/s]"
      ]
     },
     "metadata": {},
     "output_type": "display_data"
    },
    {
     "data": {
      "text/plain": [
       "<mdtraj.Trajectory with 100 frames, 185384 atoms, 57660 residues, and unitcells at 0x2b276987e580>"
      ]
     },
     "execution_count": 12,
     "metadata": {},
     "output_type": "execute_result"
    }
   ],
   "source": [
    "outdir = \"/data/chodera/zhangi/perses_benchmark/neq/14/113/\"\n",
    "i = 113\n",
    "phase = 'complex'\n",
    "endstate = 1\n",
    "name = 'tyr'\n",
    "is_old = False\n",
    "\n",
    "with open(os.path.join(outdir, f\"{i}_{phase}_{endstate}.pickle\"), \"rb\") as f:\n",
    "    htf = pickle.load(f)\n",
    "    \n",
    "make_traj(outdir, htf, i, phase, name, endstate, is_old)"
   ]
  },
  {
   "cell_type": "code",
   "execution_count": 13,
   "id": "removed-plenty",
   "metadata": {},
   "outputs": [
    {
     "name": "stderr",
     "output_type": "stream",
     "text": [
      "/scratch/lsftmp/2612224.tmpdir/ipykernel_110909/3781358887.py:12: TqdmDeprecationWarning: This function will be removed in tqdm==5.0.0\n",
      "Please use `tqdm.notebook.tqdm` instead of `tqdm.tqdm_notebook`\n",
      "  for j, pos in tqdm_notebook(enumerate(cache)):\n"
     ]
    },
    {
     "data": {
      "application/vnd.jupyter.widget-view+json": {
       "model_id": "42b6ef984ee04577ab4735bdcc7e9819",
       "version_major": 2,
       "version_minor": 0
      },
      "text/plain": [
       "0it [00:00, ?it/s]"
      ]
     },
     "metadata": {},
     "output_type": "display_data"
    },
    {
     "data": {
      "text/plain": [
       "<mdtraj.Trajectory with 100 frames, 49093 atoms, 15547 residues, and unitcells at 0x2b27b9d2c3d0>"
      ]
     },
     "execution_count": 13,
     "metadata": {},
     "output_type": "execute_result"
    }
   ],
   "source": [
    "outdir = \"/data/chodera/zhangi/perses_benchmark/neq/14/113/\"\n",
    "i = 113\n",
    "phase = 'apo'\n",
    "endstate = 1\n",
    "name = 'tyr'\n",
    "is_old = False\n",
    "\n",
    "with open(os.path.join(outdir, f\"{i}_{phase}_{endstate}.pickle\"), \"rb\") as f:\n",
    "    htf = pickle.load(f)\n",
    "    \n",
    "make_traj(outdir, htf, i, phase, name, endstate, is_old)"
   ]
  },
  {
   "cell_type": "code",
   "execution_count": null,
   "id": "enhanced-monte",
   "metadata": {},
   "outputs": [],
   "source": []
  },
  {
   "cell_type": "markdown",
   "id": "db1675a0",
   "metadata": {},
   "source": [
    "## 14/79 N501Y"
   ]
  },
  {
   "cell_type": "code",
   "execution_count": 5,
   "id": "3700da34",
   "metadata": {},
   "outputs": [
    {
     "name": "stderr",
     "output_type": "stream",
     "text": [
      "<ipython-input-4-cc0c8912dc55>:12: TqdmDeprecationWarning: This function will be removed in tqdm==5.0.0\n",
      "Please use `tqdm.notebook.tqdm` instead of `tqdm.tqdm_notebook`\n",
      "  for j, pos in tqdm_notebook(enumerate(cache)):\n"
     ]
    },
    {
     "data": {
      "application/vnd.jupyter.widget-view+json": {
       "model_id": "da025de63d4c461dbed11fedd0f5692f",
       "version_major": 2,
       "version_minor": 0
      },
      "text/plain": [
       "0it [00:00, ?it/s]"
      ]
     },
     "metadata": {},
     "output_type": "display_data"
    },
    {
     "data": {
      "text/plain": [
       "<mdtraj.Trajectory with 100 frames, 183585 atoms, 57059 residues, and unitcells at 0x2aae4fc00d90>"
      ]
     },
     "execution_count": 5,
     "metadata": {},
     "output_type": "execute_result"
    }
   ],
   "source": [
    "outdir = \"/data/chodera/zhangi/perses_benchmark/neq/14/79/\"\n",
    "i = 79\n",
    "phase = 'complex'\n",
    "endstate = 1\n",
    "name = 'tyr'\n",
    "is_old = False\n",
    "\n",
    "with open(os.path.join(outdir, f\"{i}_{phase}_{endstate}.pickle\"), \"rb\") as f:\n",
    "    htf = pickle.load(f)\n",
    "    \n",
    "make_traj(outdir, htf, i, phase, name, endstate, is_old)"
   ]
  },
  {
   "cell_type": "markdown",
   "id": "fac9fbd9",
   "metadata": {},
   "source": [
    "## 14/119 Y501N"
   ]
  },
  {
   "cell_type": "code",
   "execution_count": 4,
   "id": "71a18cd4",
   "metadata": {},
   "outputs": [
    {
     "name": "stderr",
     "output_type": "stream",
     "text": [
      "/scratch/lsftmp/2616297.tmpdir/ipykernel_146628/3781358887.py:6: TqdmDeprecationWarning: This function will be removed in tqdm==5.0.0\n",
      "Please use `tqdm.notebook.tqdm` instead of `tqdm.tqdm_notebook`\n",
      "  for j, pos in tqdm_notebook(enumerate(cache)):\n"
     ]
    },
    {
     "data": {
      "application/vnd.jupyter.widget-view+json": {
       "model_id": "ceb0735e3dd8494782a6bd443f071342",
       "version_major": 2,
       "version_minor": 0
      },
      "text/plain": [
       "0it [00:00, ?it/s]"
      ]
     },
     "metadata": {},
     "output_type": "display_data"
    },
    {
     "data": {
      "text/plain": [
       "<mdtraj.Trajectory with 100 frames, 145340 atoms, 44809 residues, and unitcells at 0x2ae22aa032e0>"
      ]
     },
     "execution_count": 4,
     "metadata": {},
     "output_type": "execute_result"
    }
   ],
   "source": [
    "outdir = \"/data/chodera/zhangi/perses_benchmark/neq/14/119/\"\n",
    "i = 119\n",
    "phase = 'complex'\n",
    "endstate = 0\n",
    "name = 'tyr'\n",
    "is_old = True\n",
    "\n",
    "with open(os.path.join(outdir, f\"{i}_{phase}_{endstate}.pickle\"), \"rb\") as f:\n",
    "    htf = pickle.load(f)\n",
    "    \n",
    "make_traj(outdir, htf, i, phase, name, endstate, is_old)"
   ]
  },
  {
   "cell_type": "markdown",
   "id": "df5e66f0",
   "metadata": {},
   "source": [
    "## 14/120 K417N"
   ]
  },
  {
   "cell_type": "code",
   "execution_count": 4,
   "id": "6138605f",
   "metadata": {
    "scrolled": true
   },
   "outputs": [
    {
     "name": "stderr",
     "output_type": "stream",
     "text": [
      "/scratch/lsftmp/2631282.tmpdir/ipykernel_353893/3781358887.py:6: TqdmDeprecationWarning: This function will be removed in tqdm==5.0.0\n",
      "Please use `tqdm.notebook.tqdm` instead of `tqdm.tqdm_notebook`\n",
      "  for j, pos in tqdm_notebook(enumerate(cache)):\n"
     ]
    },
    {
     "data": {
      "application/vnd.jupyter.widget-view+json": {
       "model_id": "87b7aaf448654429a8d0c2b93fa13d4b",
       "version_major": 2,
       "version_minor": 0
      },
      "text/plain": [
       "0it [00:00, ?it/s]"
      ]
     },
     "metadata": {},
     "output_type": "display_data"
    },
    {
     "data": {
      "text/plain": [
       "<mdtraj.Trajectory with 100 frames, 185785 atoms, 57660 residues, and unitcells at 0x2ad33e2238e0>"
      ]
     },
     "execution_count": 4,
     "metadata": {},
     "output_type": "execute_result"
    }
   ],
   "source": [
    "outdir = \"/data/chodera/zhangi/perses_benchmark/neq/14/120/\"\n",
    "i = 120\n",
    "phase = 'complex'\n",
    "endstate = 0\n",
    "name = 'lys'\n",
    "is_old = True\n",
    "\n",
    "with open(os.path.join(outdir, f\"{i}_{phase}_{endstate}.pickle\"), \"rb\") as f:\n",
    "    htf = pickle.load(f)\n",
    "    \n",
    "make_traj(outdir, htf, i, phase, name, endstate, is_old)"
   ]
  },
  {
   "cell_type": "code",
   "execution_count": 5,
   "id": "b9d62442",
   "metadata": {},
   "outputs": [
    {
     "name": "stderr",
     "output_type": "stream",
     "text": [
      "/scratch/lsftmp/2631282.tmpdir/ipykernel_353893/3781358887.py:12: TqdmDeprecationWarning: This function will be removed in tqdm==5.0.0\n",
      "Please use `tqdm.notebook.tqdm` instead of `tqdm.tqdm_notebook`\n",
      "  for j, pos in tqdm_notebook(enumerate(cache)):\n"
     ]
    },
    {
     "data": {
      "application/vnd.jupyter.widget-view+json": {
       "model_id": "71f85b775e8b49d49da7dd8f71e5d2a4",
       "version_major": 2,
       "version_minor": 0
      },
      "text/plain": [
       "0it [00:00, ?it/s]"
      ]
     },
     "metadata": {},
     "output_type": "display_data"
    },
    {
     "data": {
      "text/plain": [
       "<mdtraj.Trajectory with 100 frames, 185777 atoms, 57660 residues, and unitcells at 0x2ad2cfa5ad00>"
      ]
     },
     "execution_count": 5,
     "metadata": {},
     "output_type": "execute_result"
    }
   ],
   "source": [
    "outdir = \"/data/chodera/zhangi/perses_benchmark/neq/14/120/\"\n",
    "i = 120\n",
    "phase = 'complex'\n",
    "endstate = 1\n",
    "name = 'asn'\n",
    "is_old = False\n",
    "\n",
    "with open(os.path.join(outdir, f\"{i}_{phase}_{endstate}.pickle\"), \"rb\") as f:\n",
    "    htf = pickle.load(f)\n",
    "    \n",
    "make_traj(outdir, htf, i, phase, name, endstate, is_old)"
   ]
  },
  {
   "cell_type": "code",
   "execution_count": null,
   "id": "aa47602e",
   "metadata": {},
   "outputs": [],
   "source": []
  },
  {
   "cell_type": "markdown",
   "id": "454338df",
   "metadata": {},
   "source": [
    "## 14/147 N501Y with rest region as whole interface"
   ]
  },
  {
   "cell_type": "code",
   "execution_count": 4,
   "id": "cc886636",
   "metadata": {
    "scrolled": true
   },
   "outputs": [
    {
     "name": "stderr",
     "output_type": "stream",
     "text": [
      "/scratch/lsftmp/2777340.tmpdir/ipykernel_33893/3781358887.py:6: TqdmDeprecationWarning: This function will be removed in tqdm==5.0.0\n",
      "Please use `tqdm.notebook.tqdm` instead of `tqdm.tqdm_notebook`\n",
      "  for j, pos in tqdm_notebook(enumerate(cache)):\n"
     ]
    },
    {
     "data": {
      "application/vnd.jupyter.widget-view+json": {
       "model_id": "0b6c97aec49e48848d3002bc5cbb37e4",
       "version_major": 2,
       "version_minor": 0
      },
      "text/plain": [
       "0it [00:00, ?it/s]"
      ]
     },
     "metadata": {},
     "output_type": "display_data"
    },
    {
     "data": {
      "text/plain": [
       "<mdtraj.Trajectory with 100 frames, 185377 atoms, 57660 residues, and unitcells at 0x2abba5a49df0>"
      ]
     },
     "execution_count": 4,
     "metadata": {},
     "output_type": "execute_result"
    }
   ],
   "source": [
    "outdir = \"/data/chodera/zhangi/perses_benchmark/neq/14/147/\"\n",
    "i = 147\n",
    "phase = 'complex'\n",
    "endstate = 0\n",
    "name = 'asn'\n",
    "is_old = True\n",
    "\n",
    "with open(os.path.join(outdir, f\"{i}_{phase}_{endstate}.pickle\"), \"rb\") as f:\n",
    "    htf = pickle.load(f)\n",
    "    \n",
    "make_traj(outdir, htf, i, phase, name, endstate, is_old)"
   ]
  },
  {
   "cell_type": "code",
   "execution_count": 5,
   "id": "45e55930",
   "metadata": {
    "scrolled": true
   },
   "outputs": [
    {
     "ename": "KeyboardInterrupt",
     "evalue": "",
     "output_type": "error",
     "traceback": [
      "\u001b[0;31m---------------------------------------------------------------------------\u001b[0m",
      "\u001b[0;31mKeyboardInterrupt\u001b[0m                         Traceback (most recent call last)",
      "\u001b[0;32m/scratch/lsftmp/2777340.tmpdir/ipykernel_33893/2548722751.py\u001b[0m in \u001b[0;36m<module>\u001b[0;34m\u001b[0m\n\u001b[1;32m      8\u001b[0m \u001b[0;32mwith\u001b[0m \u001b[0mopen\u001b[0m\u001b[0;34m(\u001b[0m\u001b[0mos\u001b[0m\u001b[0;34m.\u001b[0m\u001b[0mpath\u001b[0m\u001b[0;34m.\u001b[0m\u001b[0mjoin\u001b[0m\u001b[0;34m(\u001b[0m\u001b[0moutdir\u001b[0m\u001b[0;34m,\u001b[0m \u001b[0;34mf\"{i}_{phase}_{endstate}.pickle\"\u001b[0m\u001b[0;34m)\u001b[0m\u001b[0;34m,\u001b[0m \u001b[0;34m\"rb\"\u001b[0m\u001b[0;34m)\u001b[0m \u001b[0;32mas\u001b[0m \u001b[0mf\u001b[0m\u001b[0;34m:\u001b[0m\u001b[0;34m\u001b[0m\u001b[0;34m\u001b[0m\u001b[0m\n\u001b[0;32m----> 9\u001b[0;31m     \u001b[0mhtf\u001b[0m \u001b[0;34m=\u001b[0m \u001b[0mpickle\u001b[0m\u001b[0;34m.\u001b[0m\u001b[0mload\u001b[0m\u001b[0;34m(\u001b[0m\u001b[0mf\u001b[0m\u001b[0;34m)\u001b[0m\u001b[0;34m\u001b[0m\u001b[0;34m\u001b[0m\u001b[0m\n\u001b[0m\u001b[1;32m     10\u001b[0m \u001b[0;34m\u001b[0m\u001b[0m\n",
      "\u001b[0;32m~/miniconda3/envs/perses-rbd-ace2-direct/lib/python3.8/site-packages/openmm/openmm.py\u001b[0m in \u001b[0;36m__setstate__\u001b[0;34m(self, serializationString)\u001b[0m\n\u001b[1;32m   1538\u001b[0m     \u001b[0;32mdef\u001b[0m \u001b[0m__setstate__\u001b[0m\u001b[0;34m(\u001b[0m\u001b[0mself\u001b[0m\u001b[0;34m,\u001b[0m \u001b[0mserializationString\u001b[0m\u001b[0;34m)\u001b[0m\u001b[0;34m:\u001b[0m\u001b[0;34m\u001b[0m\u001b[0;34m\u001b[0m\u001b[0m\n\u001b[0;32m-> 1539\u001b[0;31m         \u001b[0msystem\u001b[0m \u001b[0;34m=\u001b[0m \u001b[0mXmlSerializer\u001b[0m\u001b[0;34m.\u001b[0m\u001b[0mdeserialize\u001b[0m\u001b[0;34m(\u001b[0m\u001b[0mserializationString\u001b[0m\u001b[0;34m)\u001b[0m\u001b[0;34m\u001b[0m\u001b[0;34m\u001b[0m\u001b[0m\n\u001b[0m\u001b[1;32m   1540\u001b[0m         \u001b[0mself\u001b[0m\u001b[0;34m.\u001b[0m\u001b[0mthis\u001b[0m \u001b[0;34m=\u001b[0m \u001b[0msystem\u001b[0m\u001b[0;34m.\u001b[0m\u001b[0mthis\u001b[0m\u001b[0;34m\u001b[0m\u001b[0;34m\u001b[0m\u001b[0m\n",
      "\u001b[0;32m~/miniconda3/envs/perses-rbd-ace2-direct/lib/python3.8/site-packages/openmm/openmm.py\u001b[0m in \u001b[0;36mdeserialize\u001b[0;34m(inputString)\u001b[0m\n\u001b[1;32m   3562\u001b[0m       \u001b[0;32mif\u001b[0m \u001b[0mtype\u001b[0m \u001b[0;34m==\u001b[0m \u001b[0;34m\"Force\"\u001b[0m\u001b[0;34m:\u001b[0m\u001b[0;34m\u001b[0m\u001b[0;34m\u001b[0m\u001b[0m\n\u001b[0;32m-> 3563\u001b[0;31m         \u001b[0;32mreturn\u001b[0m \u001b[0mXmlSerializer\u001b[0m\u001b[0;34m.\u001b[0m\u001b[0m_deserializeForce\u001b[0m\u001b[0;34m(\u001b[0m\u001b[0minputString\u001b[0m\u001b[0;34m)\u001b[0m\u001b[0;34m\u001b[0m\u001b[0;34m\u001b[0m\u001b[0m\n\u001b[0m\u001b[1;32m   3564\u001b[0m       \u001b[0;32mif\u001b[0m \u001b[0mtype\u001b[0m \u001b[0;34m==\u001b[0m \u001b[0;34m\"Integrator\"\u001b[0m\u001b[0;34m:\u001b[0m\u001b[0;34m\u001b[0m\u001b[0;34m\u001b[0m\u001b[0m\n",
      "\u001b[0;32m~/miniconda3/envs/perses-rbd-ace2-direct/lib/python3.8/site-packages/openmm/openmm.py\u001b[0m in \u001b[0;36m_deserializeForce\u001b[0;34m(inputString)\u001b[0m\n\u001b[1;32m   3504\u001b[0m         \u001b[0;34mr\"\"\"_deserializeForce(inputString) -> Force\"\"\"\u001b[0m\u001b[0;34m\u001b[0m\u001b[0;34m\u001b[0m\u001b[0m\n\u001b[0;32m-> 3505\u001b[0;31m         \u001b[0;32mreturn\u001b[0m \u001b[0m_openmm\u001b[0m\u001b[0;34m.\u001b[0m\u001b[0mXmlSerializer__deserializeForce\u001b[0m\u001b[0;34m(\u001b[0m\u001b[0minputString\u001b[0m\u001b[0;34m)\u001b[0m\u001b[0;34m\u001b[0m\u001b[0;34m\u001b[0m\u001b[0m\n\u001b[0m\u001b[1;32m   3506\u001b[0m \u001b[0;34m\u001b[0m\u001b[0m\n",
      "\u001b[0;31mKeyboardInterrupt\u001b[0m: ",
      "\nDuring handling of the above exception, another exception occurred:\n",
      "\u001b[0;31mKeyboardInterrupt\u001b[0m                         Traceback (most recent call last)",
      "\u001b[0;32m/scratch/lsftmp/2777340.tmpdir/ipykernel_33893/2548722751.py\u001b[0m in \u001b[0;36m<module>\u001b[0;34m\u001b[0m\n\u001b[1;32m      7\u001b[0m \u001b[0;34m\u001b[0m\u001b[0m\n\u001b[1;32m      8\u001b[0m \u001b[0;32mwith\u001b[0m \u001b[0mopen\u001b[0m\u001b[0;34m(\u001b[0m\u001b[0mos\u001b[0m\u001b[0;34m.\u001b[0m\u001b[0mpath\u001b[0m\u001b[0;34m.\u001b[0m\u001b[0mjoin\u001b[0m\u001b[0;34m(\u001b[0m\u001b[0moutdir\u001b[0m\u001b[0;34m,\u001b[0m \u001b[0;34mf\"{i}_{phase}_{endstate}.pickle\"\u001b[0m\u001b[0;34m)\u001b[0m\u001b[0;34m,\u001b[0m \u001b[0;34m\"rb\"\u001b[0m\u001b[0;34m)\u001b[0m \u001b[0;32mas\u001b[0m \u001b[0mf\u001b[0m\u001b[0;34m:\u001b[0m\u001b[0;34m\u001b[0m\u001b[0;34m\u001b[0m\u001b[0m\n\u001b[0;32m----> 9\u001b[0;31m     \u001b[0mhtf\u001b[0m \u001b[0;34m=\u001b[0m \u001b[0mpickle\u001b[0m\u001b[0;34m.\u001b[0m\u001b[0mload\u001b[0m\u001b[0;34m(\u001b[0m\u001b[0mf\u001b[0m\u001b[0;34m)\u001b[0m\u001b[0;34m\u001b[0m\u001b[0;34m\u001b[0m\u001b[0m\n\u001b[0m\u001b[1;32m     10\u001b[0m \u001b[0;34m\u001b[0m\u001b[0m\n\u001b[1;32m     11\u001b[0m \u001b[0mmake_traj\u001b[0m\u001b[0;34m(\u001b[0m\u001b[0moutdir\u001b[0m\u001b[0;34m,\u001b[0m \u001b[0mhtf\u001b[0m\u001b[0;34m,\u001b[0m \u001b[0mi\u001b[0m\u001b[0;34m,\u001b[0m \u001b[0mphase\u001b[0m\u001b[0;34m,\u001b[0m \u001b[0mname\u001b[0m\u001b[0;34m,\u001b[0m \u001b[0mendstate\u001b[0m\u001b[0;34m,\u001b[0m \u001b[0mis_old\u001b[0m\u001b[0;34m)\u001b[0m\u001b[0;34m\u001b[0m\u001b[0;34m\u001b[0m\u001b[0m\n",
      "\u001b[0;31mKeyboardInterrupt\u001b[0m: "
     ]
    }
   ],
   "source": [
    "outdir = \"/data/chodera/zhangi/perses_benchmark/neq/14/147/\"\n",
    "i = 147\n",
    "phase = 'complex'\n",
    "endstate = 1\n",
    "name = 'tyr'\n",
    "is_old = False\n",
    "\n",
    "with open(os.path.join(outdir, f\"{i}_{phase}_{endstate}.pickle\"), \"rb\") as f:\n",
    "    htf = pickle.load(f)\n",
    "    \n",
    "make_traj(outdir, htf, i, phase, name, endstate, is_old)"
   ]
  },
  {
   "cell_type": "markdown",
   "id": "3f4c51d3",
   "metadata": {},
   "source": [
    "## 24/1 N501Y (scaled water rest)"
   ]
  },
  {
   "cell_type": "code",
   "execution_count": 5,
   "id": "ff3f7070",
   "metadata": {
    "scrolled": false
   },
   "outputs": [
    {
     "name": "stderr",
     "output_type": "stream",
     "text": [
      "/scratch/lsftmp/3182888.tmpdir/ipykernel_35098/3781358887.py:12: TqdmDeprecationWarning: This function will be removed in tqdm==5.0.0\n",
      "Please use `tqdm.notebook.tqdm` instead of `tqdm.tqdm_notebook`\n",
      "  for j, pos in tqdm_notebook(enumerate(cache)):\n"
     ]
    },
    {
     "data": {
      "application/vnd.jupyter.widget-view+json": {
       "model_id": "",
       "version_major": 2,
       "version_minor": 0
      },
      "text/plain": [
       "0it [00:00, ?it/s]"
      ]
     },
     "metadata": {},
     "output_type": "display_data"
    },
    {
     "data": {
      "text/plain": [
       "<mdtraj.Trajectory with 100 frames, 185384 atoms, 57660 residues, and unitcells at 0x2b478ec2ea00>"
      ]
     },
     "execution_count": 5,
     "metadata": {},
     "output_type": "execute_result"
    }
   ],
   "source": [
    "outdir = \"/data/chodera/zhangi/perses_benchmark/neq/24/1/\"\n",
    "i = 1\n",
    "phase = 'complex'\n",
    "endstate = 1\n",
    "name = 'tyr'\n",
    "is_old = False\n",
    "\n",
    "with open(os.path.join(outdir, f\"{i}_{phase}_{endstate}.pickle\"), \"rb\") as f:\n",
    "    htf = pickle.load(f)\n",
    "    \n",
    "make_traj(outdir, htf, i, phase, name, endstate, is_old)"
   ]
  },
  {
   "cell_type": "markdown",
   "id": "52428669",
   "metadata": {},
   "source": [
    "## 24/2 N501Y (scaled water rest)"
   ]
  },
  {
   "cell_type": "code",
   "execution_count": 6,
   "id": "0bf507f2",
   "metadata": {
    "scrolled": true
   },
   "outputs": [
    {
     "name": "stderr",
     "output_type": "stream",
     "text": [
      "/scratch/lsftmp/3182888.tmpdir/ipykernel_35098/3781358887.py:12: TqdmDeprecationWarning: This function will be removed in tqdm==5.0.0\n",
      "Please use `tqdm.notebook.tqdm` instead of `tqdm.tqdm_notebook`\n",
      "  for j, pos in tqdm_notebook(enumerate(cache)):\n"
     ]
    },
    {
     "data": {
      "application/vnd.jupyter.widget-view+json": {
       "model_id": "9c17720366c1459bac64c7f5b6dab683",
       "version_major": 2,
       "version_minor": 0
      },
      "text/plain": [
       "0it [00:00, ?it/s]"
      ]
     },
     "metadata": {},
     "output_type": "display_data"
    },
    {
     "data": {
      "text/plain": [
       "<mdtraj.Trajectory with 100 frames, 185384 atoms, 57660 residues, and unitcells at 0x2b4790d48c70>"
      ]
     },
     "execution_count": 6,
     "metadata": {},
     "output_type": "execute_result"
    }
   ],
   "source": [
    "outdir = \"/data/chodera/zhangi/perses_benchmark/neq/24/2/\"\n",
    "i = 2\n",
    "phase = 'complex'\n",
    "endstate = 1\n",
    "name = 'tyr'\n",
    "is_old = False\n",
    "\n",
    "with open(os.path.join(outdir, f\"{i}_{phase}_{endstate}.pickle\"), \"rb\") as f:\n",
    "    htf = pickle.load(f)\n",
    "    \n",
    "make_traj(outdir, htf, i, phase, name, endstate, is_old)"
   ]
  },
  {
   "cell_type": "code",
   "execution_count": null,
   "id": "ae1cb672",
   "metadata": {},
   "outputs": [],
   "source": []
  }
 ],
 "metadata": {
  "kernelspec": {
   "display_name": "Python 3 (ipykernel)",
   "language": "python",
   "name": "python3"
  },
  "language_info": {
   "codemirror_mode": {
    "name": "ipython",
    "version": 3
   },
   "file_extension": ".py",
   "mimetype": "text/x-python",
   "name": "python",
   "nbconvert_exporter": "python",
   "pygments_lexer": "ipython3",
   "version": "3.9.7"
  }
 },
 "nbformat": 4,
 "nbformat_minor": 5
}
