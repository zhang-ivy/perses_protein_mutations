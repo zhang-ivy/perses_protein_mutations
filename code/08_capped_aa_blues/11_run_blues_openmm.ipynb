{
 "cells": [
  {
   "cell_type": "markdown",
   "metadata": {},
   "source": [
    "## Run BLUES simulation with pdb as input"
   ]
  },
  {
   "cell_type": "code",
   "execution_count": 1,
   "metadata": {},
   "outputs": [],
   "source": [
    "import os\n",
    "import pickle\n",
    "i = 19\n",
    "phase = 'vacuum'\n",
    "outdir = \"/data/chodera/zhangi/perses_benchmark/neq/7/19/\"\n",
    "with open(os.path.join(outdir, f\"{i}_{phase}.pickle\"), 'rb') as f:\n",
    "    htf = pickle.load(f)"
   ]
  },
  {
   "cell_type": "code",
   "execution_count": 2,
   "metadata": {},
   "outputs": [
    {
     "data": {
      "text/plain": [
       "False"
      ]
     },
     "execution_count": 2,
     "metadata": {},
     "output_type": "execute_result"
    }
   ],
   "source": [
    "htf.hybrid_system.usesPeriodicBoundaryConditions()"
   ]
  },
  {
   "cell_type": "code",
   "execution_count": 3,
   "metadata": {},
   "outputs": [],
   "source": [
    "from blues.moves import SideChainMove\n",
    "from blues.moves import MoveEngine\n",
    "from blues.simulation import SimulationFactory, SystemFactory, BLUESSimulation\n",
    "import json\n",
    "from blues.settings import Settings\n",
    "import openeye.oechem as oechem\n",
    "import subprocess\n",
    "from blues.reporters import NetCDF4Reporter\n",
    "import argparse\n",
    "from simtk import openmm\n",
    "import math\n",
    "import numpy as np\n",
    "import sys\n",
    "import logging\n",
    "logger = logging.getLogger(\"simulation\")"
   ]
  },
  {
   "cell_type": "code",
   "execution_count": 4,
   "metadata": {},
   "outputs": [],
   "source": [
    "# Generate pdb from htf\n",
    "import mdtraj as md\n",
    "traj = md.Trajectory(np.array(htf.old_positions(htf.hybrid_positions)), md.Topology.from_openmm(htf._topology_proposal.old_topology))\n",
    "traj.save(os.path.join(outdir, \"blues/thr_vacuum.pdb\"))"
   ]
  },
  {
   "cell_type": "code",
   "execution_count": 5,
   "metadata": {},
   "outputs": [],
   "source": [
    "# Read in PDB\n",
    "from simtk.openmm import app\n",
    "pdb = app.PDBFile(os.path.join(outdir, \"blues/thr_vacuum.pdb\"))"
   ]
  },
  {
   "cell_type": "code",
   "execution_count": 3,
   "metadata": {},
   "outputs": [],
   "source": [
    "# # Read in htf\n",
    "# import pickle\n",
    "# import numpy as np\n",
    "# import os\n",
    "\n",
    "# i = 15\n",
    "# phase = 'complex'\n",
    "# with open(os.path.join(outdir, f\"{i}_{phase}.npz\"), 'rb') as f:\n",
    "#     htf = np.load(f, allow_pickle=True)\n",
    "#     htf = htf.get('arr_0')\n",
    "#     htf = htf.flatten()[0]\n"
   ]
  },
  {
   "cell_type": "code",
   "execution_count": 4,
   "metadata": {},
   "outputs": [],
   "source": [
    "# # Generate pdb from htf\n",
    "# import mdtraj as md\n",
    "# traj = md.Trajectory(np.array(htf.old_positions(htf.hybrid_positions)), md.Topology.from_openmm(htf._topology_proposal.old_topology))\n",
    "# traj.save(os.path.join(outdir, \"blues/complex.pdb\"))"
   ]
  },
  {
   "cell_type": "code",
   "execution_count": 5,
   "metadata": {},
   "outputs": [],
   "source": [
    "# # Read in PDB\n",
    "# from simtk.openmm import app\n",
    "# pdb = app.PDBFile(os.path.join(outdir, \"blues/complex.pdb\"))"
   ]
  },
  {
   "cell_type": "code",
   "execution_count": 6,
   "metadata": {},
   "outputs": [
    {
     "name": "stdout",
     "output_type": "stream",
     "text": [
      "<Atom 0 (H1) of chain 0 residue 0 (ACE)>\n",
      "<Atom 1 (CH3) of chain 0 residue 0 (ACE)>\n",
      "<Atom 2 (H2) of chain 0 residue 0 (ACE)>\n",
      "<Atom 3 (H3) of chain 0 residue 0 (ACE)>\n",
      "<Atom 4 (C) of chain 0 residue 0 (ACE)>\n",
      "<Atom 5 (O) of chain 0 residue 0 (ACE)>\n",
      "<Atom 6 (N) of chain 0 residue 1 (THR)>\n",
      "<Atom 7 (H) of chain 0 residue 1 (THR)>\n",
      "<Atom 8 (CA) of chain 0 residue 1 (THR)>\n",
      "<Atom 9 (HA) of chain 0 residue 1 (THR)>\n",
      "<Atom 10 (CB) of chain 0 residue 1 (THR)>\n",
      "<Atom 11 (C) of chain 0 residue 1 (THR)>\n",
      "<Atom 12 (O) of chain 0 residue 1 (THR)>\n",
      "<Atom 13 (HB) of chain 0 residue 1 (THR)>\n",
      "<Atom 14 (CG2) of chain 0 residue 1 (THR)>\n",
      "<Atom 15 (HG21) of chain 0 residue 1 (THR)>\n",
      "<Atom 16 (HG22) of chain 0 residue 1 (THR)>\n",
      "<Atom 17 (HG23) of chain 0 residue 1 (THR)>\n",
      "<Atom 18 (OG1) of chain 0 residue 1 (THR)>\n",
      "<Atom 19 (HG1) of chain 0 residue 1 (THR)>\n",
      "<Atom 20 (N) of chain 0 residue 2 (NME)>\n",
      "<Atom 21 (H) of chain 0 residue 2 (NME)>\n",
      "<Atom 22 (C) of chain 0 residue 2 (NME)>\n",
      "<Atom 23 (H1) of chain 0 residue 2 (NME)>\n",
      "<Atom 24 (H2) of chain 0 residue 2 (NME)>\n",
      "<Atom 25 (H3) of chain 0 residue 2 (NME)>\n"
     ]
    }
   ],
   "source": [
    "for atom in pdb.topology.atoms():\n",
    "    print(atom)"
   ]
  },
  {
   "cell_type": "code",
   "execution_count": null,
   "metadata": {},
   "outputs": [],
   "source": [
    "# vectors = htf.hybrid_system.getDefaultPeriodicBoxVectors()"
   ]
  },
  {
   "cell_type": "code",
   "execution_count": null,
   "metadata": {},
   "outputs": [],
   "source": [
    "# pdb.topology.setPeriodicBoxVectors(vectors)"
   ]
  },
  {
   "cell_type": "code",
   "execution_count": 6,
   "metadata": {},
   "outputs": [],
   "source": [
    "import mdtraj as md\n",
    "top = md.Topology.from_openmm(pdb.topology)\n",
    "atom_indices = top.select(\"not name hydrogen and not sidechain\")"
   ]
  },
  {
   "cell_type": "code",
   "execution_count": 7,
   "metadata": {},
   "outputs": [
    {
     "data": {
      "text/plain": [
       "array([ 4,  5,  6,  8, 11, 12, 20, 22])"
      ]
     },
     "execution_count": 7,
     "metadata": {},
     "output_type": "execute_result"
    }
   ],
   "source": [
    "atom_indices"
   ]
  },
  {
   "cell_type": "code",
   "execution_count": 8,
   "metadata": {},
   "outputs": [
    {
     "name": "stdout",
     "output_type": "stream",
     "text": [
      "/data/chodera/zhangi/perses_benchmark/neq/7/19/blues/thr\n"
     ]
    }
   ],
   "source": [
    "# Parse a YAML configuration, return as Dict\n",
    "outdir = \"/data/chodera/zhangi/perses_benchmark/neq/7/19/\"\n",
    "cfg = Settings(os.path.join(outdir, 'blues/thr_vacuum.yaml')).asDict()\n"
   ]
  },
  {
   "cell_type": "code",
   "execution_count": 9,
   "metadata": {},
   "outputs": [],
   "source": [
    "# # Create OpenMM system generator\n",
    "# from openmmforcefields.generators import SystemGenerator\n",
    "# import simtk.unit as unit\n",
    "# from simtk.openmm import app\n",
    "# temperature = 300 * unit.kelvin\n",
    "# forcefield_files = ['amber14/protein.ff14SB.xml', 'amber14/tip3p.xml']\n",
    "# # forcefield_kwargs = {'removeCMMotion': False, 'ewaldErrorTolerance': 0.00025, 'constraints' : app.HBonds, 'hydrogenMass' : 4 * unit.amus}\n",
    "# forcefield_kwargs = {'removeCMMotion': False, 'ewaldErrorTolerance': 0.00025, 'hydrogenMass' : 4 * unit.amus}\n",
    "# periodic_forcefield_kwargs = {'nonbondedMethod': app.PME}\n",
    "# nonperiodic_forcefield_kwargs = None\n",
    "# small_molecule_forcefields = 'gaff-2.11'\n",
    "# molecules = []\n",
    "# system_generator = SystemGenerator(forcefields=forcefield_files,\n",
    "#                                         forcefield_kwargs=forcefield_kwargs,\n",
    "#                                         periodic_forcefield_kwargs=periodic_forcefield_kwargs,\n",
    "#                                         nonperiodic_forcefield_kwargs=nonperiodic_forcefield_kwargs,\n",
    "#                                         small_molecule_forcefield=small_molecule_forcefields,\n",
    "#                                         molecules=molecules,\n",
    "#                                         cache=None)\n",
    "\n",
    "# Create OpenMM system generator\n",
    "from openmmforcefields.generators import SystemGenerator\n",
    "import simtk.unit as unit\n",
    "from simtk.openmm import app\n",
    "temperature = 300 * unit.kelvin\n",
    "forcefield_files = ['amber14/protein.ff14SB.xml', 'amber14/tip3p.xml']\n",
    "# forcefield_kwargs = {'removeCMMotion': False, 'ewaldErrorTolerance': 0.00025, 'constraints' : app.HBonds, 'hydrogenMass' : 4 * unit.amus}\n",
    "forcefield_kwargs = {'removeCMMotion': False, 'ewaldErrorTolerance': 0.00025, 'hydrogenMass' : 4 * unit.amus}\n",
    "periodic_forcefield_kwargs = None\n",
    "nonperiodic_forcefield_kwargs = {'nonbondedMethod': app.NoCutoff}\n",
    "small_molecule_forcefields = 'gaff-2.11'\n",
    "molecules = []\n",
    "system_generator = SystemGenerator(forcefields=forcefield_files,\n",
    "                                        forcefield_kwargs=forcefield_kwargs,\n",
    "                                        periodic_forcefield_kwargs=periodic_forcefield_kwargs,\n",
    "                                        nonperiodic_forcefield_kwargs=nonperiodic_forcefield_kwargs,\n",
    "                                        small_molecule_forcefield=small_molecule_forcefields,\n",
    "                                        molecules=molecules,\n",
    "                                        cache=None)\n"
   ]
  },
  {
   "cell_type": "code",
   "execution_count": 4,
   "metadata": {},
   "outputs": [],
   "source": [
    "# # Create modeller object with solvated protein\n",
    "# pdb = app.PDBFile(\"../input/mmc2_complex.pdb\")\n",
    "# modeller = app.Modeller(pdb.topology, pdb.positions)\n",
    "# modeller.addSolvent(system_generator.forcefield, model='tip3p', padding=0.9 * unit.nanometers, ionicStrength=0.15 * unit.molar)\n"
   ]
  },
  {
   "cell_type": "code",
   "execution_count": 10,
   "metadata": {},
   "outputs": [],
   "source": [
    "# Overwrite the parmed structure object in the cfg dict with modeller object\n",
    "# cfg['Structure'] = modeller\n",
    "cfg['Structure'] = pdb"
   ]
  },
  {
   "cell_type": "code",
   "execution_count": 11,
   "metadata": {},
   "outputs": [],
   "source": [
    "# Initialize structure variable to be used in later BLUES calls\n",
    "structure = cfg['Structure']"
   ]
  },
  {
   "cell_type": "code",
   "execution_count": 13,
   "metadata": {},
   "outputs": [],
   "source": [
    "## Subclass the BLUES SideChainMove object to avoid using parmed.Structure object \n",
    "## and handle an OpenMM modeller object instead (Changes involve how model positions are set)\n",
    "\n",
    "class SideChainMoveOpenMM(SideChainMove):  \n",
    "    \n",
    "    def move(self, context, verbose=False):\n",
    "        \"\"\"Rotates the target atoms around a selected bond by angle theta and updates\n",
    "        the atom coordinates in the parmed structure as well as the ncmc context object\n",
    "        Parameters\n",
    "        ----------\n",
    "        context: simtk.openmm.Context object\n",
    "            Context containing the positions to be moved.\n",
    "        verbose : bool, default=False\n",
    "            Enable verbosity to print out detailed information of the rotation.\n",
    "        Returns\n",
    "        -------\n",
    "        context: simtk.openmm.Context object\n",
    "            The same input context, but whose positions were changed by this function.\n",
    "        \"\"\"\n",
    "\n",
    "        import copy\n",
    "        import numpy\n",
    "        from simtk import unit\n",
    "    \n",
    "        # Determine the axis, theta, residue, and bond + atoms to be rotated\n",
    "        theta, target_atoms, res, bond = self.chooseBondandTheta()\n",
    "        print('Rotating bond: %s in resnum: %s by %.2f radians' % (bond, res, theta))\n",
    "\n",
    "        # Retrieve the current positions\n",
    "        initial_positions = context.getState(getPositions=True).getPositions(asNumpy=True)\n",
    "        nc_positions = copy.deepcopy(initial_positions)\n",
    "\n",
    "        model = copy.copy(self.structure)\n",
    "        atoms = list(model.topology.atoms())\n",
    "\n",
    "        # Set the modeller model to the same coordinates as the context\n",
    "        for idx, atom in enumerate(self.all_atoms):\n",
    "            if self.verbose:\n",
    "                print('Before:')\n",
    "                print(atom, idx)\n",
    "                print(nc_positions[atom], model.positions[atom])\n",
    "\n",
    "            model.positions[atom] = nc_positions[atom]\n",
    "\n",
    "            if self.verbose:\n",
    "                print('After:')\n",
    "                print(nc_positions[atom], model.positions[atom])\n",
    "\n",
    "        positions = model.positions\n",
    "\n",
    "        # Find the rotation axis using the updated positions\n",
    "        axis1 = target_atoms[0]\n",
    "        axis2 = target_atoms[1]\n",
    "        rot_axis = (positions[axis1] - positions[axis2]) / positions.unit\n",
    "\n",
    "        # Calculate the rotation matrix\n",
    "        rot_matrix = self.rotation_matrix(rot_axis, theta)\n",
    "\n",
    "        # Apply the rotation matrix to the target atoms\n",
    "        for idx, atom in enumerate(target_atoms):\n",
    "\n",
    "            my_position = positions[atom]\n",
    "\n",
    "            if self.verbose:\n",
    "                print('The current position for %i is: %s' % (atom, my_position))\n",
    "\n",
    "            # Find the reduced position (substract out axis)\n",
    "            red_position = (my_position - model.positions[axis2])._value\n",
    "            # Find the new positions by multiplying by rot matrix\n",
    "            new_position = numpy.dot(rot_matrix, red_position) * positions.unit + positions[axis2]\n",
    "\n",
    "            if self.verbose: print(\"The new position should be:\", new_position)\n",
    "\n",
    "            positions[atom] = new_position\n",
    "            # Update the parmed model with the new positions\n",
    "            model.positions[atom][0] = new_position[0] \n",
    "            model.positions[atom][1] = new_position[1] \n",
    "            model.positions[atom][2] = new_position[2]\n",
    "\n",
    "            # Update the copied ncmc context array with the new positions\n",
    "            nc_positions[atom][0] = model.positions[atom][0] \n",
    "            nc_positions[atom][1] = model.positions[atom][1] \n",
    "            nc_positions[atom][2] = model.positions[atom][2]\n",
    "  \n",
    "            if self.verbose:\n",
    "                print('The updated position for this atom is:', model.positions[atom])\n",
    "\n",
    "        # update the actual ncmc context object with the new positions\n",
    "        context.setPositions(nc_positions)\n",
    "\n",
    "        # update the class structure positions\n",
    "        self.structure.positions = model.positions\n",
    "\n",
    "#         if self.write_move:\n",
    "#             filename = 'sc_move_%s_%s_%s.pdb' % (res, axis1, axis2)\n",
    "#             mod_prot = model.save(filename, overwrite=True)\n",
    "        return context"
   ]
  },
  {
   "cell_type": "code",
   "execution_count": 14,
   "metadata": {},
   "outputs": [],
   "source": [
    "# Instantiate a (modified) BLUES SideChain object\n",
    "sidechain = SideChainMoveOpenMM(structure, [1], write_move=True)\n"
   ]
  },
  {
   "cell_type": "code",
   "execution_count": 30,
   "metadata": {},
   "outputs": [
    {
     "ename": "KeyError",
     "evalue": "42",
     "output_type": "error",
     "traceback": [
      "\u001b[0;31m---------------------------------------------\u001b[0m",
      "\u001b[0;31mKeyError\u001b[0m    Traceback (most recent call last)",
      "\u001b[0;32m<ipython-input-30-c7d201a0a1c9>\u001b[0m in \u001b[0;36m<module>\u001b[0;34m\u001b[0m\n\u001b[1;32m      1\u001b[0m \u001b[0;31m# Check sidechain.rot_atoms and keep only the one for barstar T42\u001b[0m\u001b[0;34m\u001b[0m\u001b[0;34m\u001b[0m\u001b[0;34m\u001b[0m\u001b[0m\n\u001b[0;32m----> 2\u001b[0;31m \u001b[0mrot_atoms\u001b[0m \u001b[0;34m=\u001b[0m \u001b[0mlist\u001b[0m\u001b[0;34m(\u001b[0m\u001b[0msidechain\u001b[0m\u001b[0;34m.\u001b[0m\u001b[0mrot_atoms\u001b[0m\u001b[0;34m[\u001b[0m\u001b[0;36m42\u001b[0m\u001b[0;34m]\u001b[0m\u001b[0;34m.\u001b[0m\u001b[0mkeys\u001b[0m\u001b[0;34m(\u001b[0m\u001b[0;34m)\u001b[0m\u001b[0;34m)\u001b[0m\u001b[0;34m\u001b[0m\u001b[0;34m\u001b[0m\u001b[0m\n\u001b[0m\u001b[1;32m      3\u001b[0m \u001b[0;32mfor\u001b[0m \u001b[0mi\u001b[0m \u001b[0;32min\u001b[0m \u001b[0mrange\u001b[0m\u001b[0;34m(\u001b[0m\u001b[0;36m3\u001b[0m\u001b[0;34m)\u001b[0m\u001b[0;34m:\u001b[0m\u001b[0;34m\u001b[0m\u001b[0;34m\u001b[0m\u001b[0m\n\u001b[1;32m      4\u001b[0m     \u001b[0mbeg_index\u001b[0m \u001b[0;34m=\u001b[0m \u001b[0mrot_atoms\u001b[0m\u001b[0;34m[\u001b[0m\u001b[0mi\u001b[0m\u001b[0;34m]\u001b[0m\u001b[0;34m.\u001b[0m\u001b[0mGetBgnIdx\u001b[0m\u001b[0;34m(\u001b[0m\u001b[0;34m)\u001b[0m\u001b[0;34m\u001b[0m\u001b[0;34m\u001b[0m\u001b[0m\n\u001b[1;32m      5\u001b[0m     \u001b[0mend_index\u001b[0m \u001b[0;34m=\u001b[0m \u001b[0mrot_atoms\u001b[0m\u001b[0;34m[\u001b[0m\u001b[0mi\u001b[0m\u001b[0;34m]\u001b[0m\u001b[0;34m.\u001b[0m\u001b[0mGetEndIdx\u001b[0m\u001b[0;34m(\u001b[0m\u001b[0;34m)\u001b[0m\u001b[0;34m\u001b[0m\u001b[0;34m\u001b[0m\u001b[0m\n",
      "\u001b[0;31mKeyError\u001b[0m: 42"
     ]
    }
   ],
   "source": [
    "# Check sidechain.rot_atoms and keep only the one for barstar T42\n",
    "rot_atoms = list(sidechain.rot_atoms[42].keys())\n",
    "for i in range(3):\n",
    "    beg_index = rot_atoms[i].GetBgnIdx()\n",
    "    end_index = rot_atoms[i].GetEndIdx()\n",
    "    print(beg_index)\n",
    "    print(end_index)\n",
    "    if beg_index == 670:\n",
    "        print(rot_atoms[i])\n",
    "        desired_rot_atoms = {42: {rot_atoms[i]: sidechain.rot_atoms[42][rot_atoms[i]]}}\n",
    "        \n",
    "        "
   ]
  },
  {
   "cell_type": "code",
   "execution_count": 22,
   "metadata": {},
   "outputs": [
    {
     "name": "stdout",
     "output_type": "stream",
     "text": [
      "670\n",
      "673\n",
      "677 (670C-673C)\n",
      "2079\n",
      "2082\n",
      "2082\n",
      "2083\n"
     ]
    }
   ],
   "source": [
    "# Check sidechain.rot_bonds and keep only the one for barstar T42\n",
    "rot_bonds = list(sidechain.rot_bonds.keys())\n",
    "for i in range(3):\n",
    "    beg_index = rot_bonds[i].GetBgnIdx()\n",
    "    end_index = rot_bonds[i].GetEndIdx()\n",
    "    print(beg_index)\n",
    "    print(end_index)\n",
    "    if beg_index == 670:\n",
    "        print(rot_bonds[i])\n",
    "        desired_rot_bonds = {rot_bonds[i]: 42}\n",
    "        \n",
    "        "
   ]
  },
  {
   "cell_type": "code",
   "execution_count": 24,
   "metadata": {},
   "outputs": [],
   "source": [
    "# Check sidechain.qry_atoms and keep only the ones for barstar T42\n",
    "desired_qry_atoms = {}\n",
    "for key, val in sidechain.qry_atoms.items():\n",
    "    if val < 700:\n",
    "        desired_qry_atoms[key] = val\n",
    "        \n",
    "        "
   ]
  },
  {
   "cell_type": "code",
   "execution_count": 25,
   "metadata": {},
   "outputs": [],
   "source": [
    "# Keep only the desired rot_atoms, rot_bonds, qry_atoms\n",
    "sidechain.rot_bonds = desired_rot_bonds\n",
    "sidechain.rot_atoms = desired_rot_atoms\n",
    "sidechain.qry_atoms = desired_qry_atoms\n",
    "sidechain.atom_indices = sidechain.rot_atoms\n"
   ]
  },
  {
   "cell_type": "markdown",
   "metadata": {},
   "source": [
    "Check that the rot_bonds, qry_atoms, and rot_atoms attributes are correct"
   ]
  },
  {
   "cell_type": "code",
   "execution_count": 15,
   "metadata": {},
   "outputs": [
    {
     "data": {
      "text/plain": [
       "{<oechem.OEBondBase; proxy of <Swig Object of type 'OEChem::OEBondBase *' at 0x2b526a8d99f0> >: 1,\n",
       " <oechem.OEBondBase; proxy of <Swig Object of type 'OEChem::OEBondBase *' at 0x2b526a8d99c0> >: 1,\n",
       " <oechem.OEBondBase; proxy of <Swig Object of type 'OEChem::OEBondBase *' at 0x2b526a8d9ab0> >: 1,\n",
       " <oechem.OEBondBase; proxy of <Swig Object of type 'OEChem::OEBondBase *' at 0x2b526a8d9a80> >: 1,\n",
       " <oechem.OEBondBase; proxy of <Swig Object of type 'OEChem::OEBondBase *' at 0x2b526a8d9930> >: 1}"
      ]
     },
     "execution_count": 15,
     "metadata": {},
     "output_type": "execute_result"
    }
   ],
   "source": [
    "sidechain.rot_bonds\n"
   ]
  },
  {
   "cell_type": "code",
   "execution_count": 16,
   "metadata": {},
   "outputs": [
    {
     "data": {
      "text/plain": [
       "{<oechem.OEAtomBase; proxy of <Swig Object of type 'OEChem::OEAtomBase *' at 0x2b526a8d96f0> >: 1,\n",
       " <oechem.OEAtomBase; proxy of <Swig Object of type 'OEChem::OEAtomBase *' at 0x2b526a8d98d0> >: 4,\n",
       " <oechem.OEAtomBase; proxy of <Swig Object of type 'OEChem::OEAtomBase *' at 0x2b526a8d98a0> >: 5,\n",
       " <oechem.OEAtomBase; proxy of <Swig Object of type 'OEChem::OEAtomBase *' at 0x2b526a8d97e0> >: 6,\n",
       " <oechem.OEAtomBase; proxy of <Swig Object of type 'OEChem::OEAtomBase *' at 0x2b526a8d9870> >: 8,\n",
       " <oechem.OEAtomBase; proxy of <Swig Object of type 'OEChem::OEAtomBase *' at 0x2b526a8d9840> >: 10,\n",
       " <oechem.OEAtomBase; proxy of <Swig Object of type 'OEChem::OEAtomBase *' at 0x2b526a8d97b0> >: 11,\n",
       " <oechem.OEAtomBase; proxy of <Swig Object of type 'OEChem::OEAtomBase *' at 0x2b526a8d9780> >: 12,\n",
       " <oechem.OEAtomBase; proxy of <Swig Object of type 'OEChem::OEAtomBase *' at 0x2b526a8d9690> >: 14,\n",
       " <oechem.OEAtomBase; proxy of <Swig Object of type 'OEChem::OEAtomBase *' at 0x2b526a8d9360> >: 18,\n",
       " <oechem.OEAtomBase; proxy of <Swig Object of type 'OEChem::OEAtomBase *' at 0x2b526a8d9420> >: 20,\n",
       " <oechem.OEAtomBase; proxy of <Swig Object of type 'OEChem::OEAtomBase *' at 0x2b526a8d93f0> >: 22,\n",
       " <oechem.OEAtomBase; proxy of <Swig Object of type 'OEChem::OEAtomBase *' at 0x2b526a8d93c0> >: 0,\n",
       " <oechem.OEAtomBase; proxy of <Swig Object of type 'OEChem::OEAtomBase *' at 0x2b526a8d9480> >: 2,\n",
       " <oechem.OEAtomBase; proxy of <Swig Object of type 'OEChem::OEAtomBase *' at 0x2b526a8d9450> >: 3,\n",
       " <oechem.OEAtomBase; proxy of <Swig Object of type 'OEChem::OEAtomBase *' at 0x2b526a8d94b0> >: 7,\n",
       " <oechem.OEAtomBase; proxy of <Swig Object of type 'OEChem::OEAtomBase *' at 0x2b526a8d94e0> >: 9,\n",
       " <oechem.OEAtomBase; proxy of <Swig Object of type 'OEChem::OEAtomBase *' at 0x2b526a8d9750> >: 13,\n",
       " <oechem.OEAtomBase; proxy of <Swig Object of type 'OEChem::OEAtomBase *' at 0x2b526a8d9720> >: 15,\n",
       " <oechem.OEAtomBase; proxy of <Swig Object of type 'OEChem::OEAtomBase *' at 0x2b526a8d9570> >: 16,\n",
       " <oechem.OEAtomBase; proxy of <Swig Object of type 'OEChem::OEAtomBase *' at 0x2b526a8d96c0> >: 17,\n",
       " <oechem.OEAtomBase; proxy of <Swig Object of type 'OEChem::OEAtomBase *' at 0x2b526a8d9660> >: 19,\n",
       " <oechem.OEAtomBase; proxy of <Swig Object of type 'OEChem::OEAtomBase *' at 0x2b526a8d9630> >: 21,\n",
       " <oechem.OEAtomBase; proxy of <Swig Object of type 'OEChem::OEAtomBase *' at 0x2b526a8d9510> >: 23,\n",
       " <oechem.OEAtomBase; proxy of <Swig Object of type 'OEChem::OEAtomBase *' at 0x2b526a8d95d0> >: 24,\n",
       " <oechem.OEAtomBase; proxy of <Swig Object of type 'OEChem::OEAtomBase *' at 0x2b526a8d9600> >: 25}"
      ]
     },
     "execution_count": 16,
     "metadata": {},
     "output_type": "execute_result"
    }
   ],
   "source": [
    "sidechain.qry_atoms\n"
   ]
  },
  {
   "cell_type": "code",
   "execution_count": 17,
   "metadata": {},
   "outputs": [
    {
     "data": {
      "text/plain": [
       "{1: {<oechem.OEBondBase; proxy of <Swig Object of type 'OEChem::OEBondBase *' at 0x2b526a8d99f0> >: [4,\n",
       "   6,\n",
       "   1,\n",
       "   0,\n",
       "   2,\n",
       "   3,\n",
       "   5,\n",
       "   8,\n",
       "   11,\n",
       "   10,\n",
       "   9,\n",
       "   7,\n",
       "   12,\n",
       "   20,\n",
       "   22,\n",
       "   21,\n",
       "   14,\n",
       "   15,\n",
       "   16,\n",
       "   17,\n",
       "   13,\n",
       "   18,\n",
       "   19,\n",
       "   23,\n",
       "   24,\n",
       "   25],\n",
       "  <oechem.OEBondBase; proxy of <Swig Object of type 'OEChem::OEBondBase *' at 0x2b526a8d99c0> >: [8,\n",
       "   6,\n",
       "   11,\n",
       "   12,\n",
       "   20,\n",
       "   10,\n",
       "   14,\n",
       "   13,\n",
       "   18,\n",
       "   9,\n",
       "   4,\n",
       "   1,\n",
       "   5,\n",
       "   7,\n",
       "   22,\n",
       "   23,\n",
       "   24,\n",
       "   25,\n",
       "   21,\n",
       "   15,\n",
       "   16,\n",
       "   17,\n",
       "   19,\n",
       "   0,\n",
       "   2,\n",
       "   3],\n",
       "  <oechem.OEBondBase; proxy of <Swig Object of type 'OEChem::OEBondBase *' at 0x2b526a8d9ab0> >: [11,\n",
       "   8,\n",
       "   12,\n",
       "   20,\n",
       "   22,\n",
       "   21,\n",
       "   10,\n",
       "   14,\n",
       "   13,\n",
       "   18,\n",
       "   9,\n",
       "   6,\n",
       "   4,\n",
       "   7,\n",
       "   23,\n",
       "   24,\n",
       "   25,\n",
       "   15,\n",
       "   16,\n",
       "   17,\n",
       "   19,\n",
       "   1,\n",
       "   0,\n",
       "   2,\n",
       "   3,\n",
       "   5],\n",
       "  <oechem.OEBondBase; proxy of <Swig Object of type 'OEChem::OEBondBase *' at 0x2b526a8d9a80> >: [8,\n",
       "   10,\n",
       "   11,\n",
       "   12,\n",
       "   20,\n",
       "   9,\n",
       "   6,\n",
       "   4,\n",
       "   7,\n",
       "   14,\n",
       "   15,\n",
       "   16,\n",
       "   17,\n",
       "   13,\n",
       "   18,\n",
       "   19,\n",
       "   22,\n",
       "   23,\n",
       "   24,\n",
       "   25,\n",
       "   21,\n",
       "   1,\n",
       "   0,\n",
       "   2,\n",
       "   3,\n",
       "   5],\n",
       "  <oechem.OEBondBase; proxy of <Swig Object of type 'OEChem::OEBondBase *' at 0x2b526a8d9930> >: [11,\n",
       "   20,\n",
       "   8,\n",
       "   10,\n",
       "   9,\n",
       "   6,\n",
       "   12,\n",
       "   22,\n",
       "   23,\n",
       "   24,\n",
       "   25,\n",
       "   21,\n",
       "   14,\n",
       "   15,\n",
       "   16,\n",
       "   17,\n",
       "   13,\n",
       "   18,\n",
       "   19,\n",
       "   4,\n",
       "   1,\n",
       "   5,\n",
       "   7,\n",
       "   0,\n",
       "   2,\n",
       "   3]}}"
      ]
     },
     "execution_count": 17,
     "metadata": {},
     "output_type": "execute_result"
    }
   ],
   "source": [
    "sidechain.rot_atoms\n"
   ]
  },
  {
   "cell_type": "code",
   "execution_count": 18,
   "metadata": {},
   "outputs": [],
   "source": [
    "# Instantiate a BLUES MoveEngine\n",
    "sidechain_mover = MoveEngine(sidechain)\n"
   ]
  },
  {
   "cell_type": "code",
   "execution_count": 14,
   "metadata": {},
   "outputs": [],
   "source": [
    "## Subclass the BLUES SideChainMove object to avoid using parmed.Structure object \n",
    "## and handle an OpenMM modeller object instead (Changes involve how model positions are set)\n",
    "\n",
    "class SideChainMoveOpenMM2(SideChainMove):  \n",
    "    def __init__(self, structure, residue_list, qry_indices, verbose=False, write_move=False):\n",
    "            self.structure = structure\n",
    "            self.molecule = self._pmdStructureToOEMol()\n",
    "            self.residue_list = residue_list\n",
    "            self.all_atoms = [atom.index for atom in self.structure.topology.atoms()]\n",
    "            self.rot_atoms, self.rot_bonds, self.qry_atoms = self.getRotBondAtoms(qry_indices)\n",
    "            self.atom_indices = self.rot_atoms\n",
    "            self.verbose = verbose\n",
    "            self.write_move = write_move\n",
    "\n",
    "    def getTargetAtoms(self, molecule, residue_list, qry_indices,):\n",
    "            \"\"\"Takes an OpenEye molecule and a list of residue numbers then\n",
    "            generates a dictionary containing all the atom pointers and indicies for the\n",
    "            non-backbone, atoms of those target residues, as well as a list of backbone atoms.\n",
    "            Note: The atom indicies start at 0 and are thus -1 from the PDB file indicies\n",
    "            Parameters\n",
    "            ----------\n",
    "            molecule : oechem.OEMolecule\n",
    "                The OEmolecule of the simulated system.\n",
    "            qry_indices : list of int\n",
    "                List containing the atom indices of the target atoms.\n",
    "            residue_list : list of int\n",
    "                List containing the residue numbers of the sidechains to be rotated.\n",
    "            Returns\n",
    "            -------\n",
    "            backbone_atoms : list of int\n",
    "                List containing the atom indices of the backbone atoms to be rotated.\n",
    "            qry_atoms : dict of oechem.OEAtomBase\n",
    "                Dictionary containing all the atom pointers (as OpenEye objects) that\n",
    "                make up the given residues.\n",
    "            \"\"\"\n",
    "\n",
    "            # create and clear dictionary to store atoms that make up residue list\n",
    "            qry_atoms = {}\n",
    "            qry_atoms.clear()\n",
    "\n",
    "            reslib = []\n",
    "\n",
    "            #print('Searching residue list for atoms...')\n",
    "            # loop through all the atoms in the PDB OEGraphMol structure\n",
    "            for atom in molecule.GetAtoms():\n",
    "                # check if the atom is in backbone\n",
    "                if atom.GetIdx() in qry_indices:\n",
    "                    # if heavy, find what residue it is associated with\n",
    "                    myres = oechem.OEAtomGetResidue(atom)\n",
    "                    # check if the residue number is amongst the list of residues\n",
    "                    if myres.GetResidueNumber() in residue_list and myres.GetName() != \"HOH\":\n",
    "                        # store the atom location in a query atom dict keyed by its atom index\n",
    "                        qry_atoms.update({atom: atom.GetIdx()})\n",
    "                        #print('Found atom %s in residue number %i %s'%(atom,myres.GetResidueNumber(),myres.GetName()))\n",
    "                        if myres not in reslib:\n",
    "                            reslib.append(myres)\n",
    "            return qry_atoms\n",
    "        \n",
    "    def getRotBondAtoms(self, qry_indices):\n",
    "        \"\"\"This function is called on class initialization.\n",
    "        Takes in a PDB filename (as a string) and list of residue numbers.  Returns\n",
    "        a nested dictionary of rotatable bonds (containing only heavy atoms), that are keyed by residue number,\n",
    "        then keyed by bond pointer, containing values of atom indicies [axis1, axis2, atoms to be rotated]\n",
    "        Note: The atom indicies start at 0, and are offset by -1 from the PDB file indicies\n",
    "        Returns\n",
    "        -------\n",
    "        rot_atoms : dict\n",
    "            Dictionary of residues, bonds and atoms to be rotated\n",
    "        rot_bonds : dict of oechem.OEBondBase\n",
    "            Dictionary containing the bond pointers of the rotatable bonds.\n",
    "        qry_atoms : dict of oechem.OEAtomBase\n",
    "            Dictionary containing all the atom pointers (as OpenEye objects) that\n",
    "            make up the given residues.\n",
    "        \"\"\"\n",
    "        backbone_atoms = [idx for idx in self.all_atoms if idx not in qry_indices]\n",
    "        \n",
    "        # Generate dictionary containing locations and indicies of heavy residue atoms\n",
    "        #print('Dictionary of all query atoms generated from residue list\\n')\n",
    "        qry_atoms = self.getTargetAtoms(self.molecule, self.residue_list, qry_indices)\n",
    "\n",
    "        # Identify bonds containing query atoms and return dictionary of indicies\n",
    "        rot_bonds = self.findHeavyRotBonds(self.molecule, qry_atoms)\n",
    "\n",
    "        # Generate dictionary of residues, bonds and atoms to be rotated\n",
    "        rot_atoms = self.getRotAtoms(rot_bonds, self.molecule, backbone_atoms)\n",
    "        return rot_atoms, rot_bonds, qry_atoms\n",
    "\n",
    "    def move(self, context, verbose=False):\n",
    "        \"\"\"Rotates the target atoms around a selected bond by angle theta and updates\n",
    "        the atom coordinates in the parmed structure as well as the ncmc context object\n",
    "        Parameters\n",
    "        ----------\n",
    "        context: simtk.openmm.Context object\n",
    "            Context containing the positions to be moved.\n",
    "        verbose : bool, default=False\n",
    "            Enable verbosity to print out detailed information of the rotation.\n",
    "        Returns\n",
    "        -------\n",
    "        context: simtk.openmm.Context object\n",
    "            The same input context, but whose positions were changed by this function.\n",
    "        \"\"\"\n",
    "\n",
    "        import copy\n",
    "        import numpy\n",
    "        from simtk import unit\n",
    "    \n",
    "        # Determine the axis, theta, residue, and bond + atoms to be rotated\n",
    "        theta, target_atoms, res, bond = self.chooseBondandTheta()\n",
    "        print('Rotating bond: %s in resnum: %s by %.2f radians' % (bond, res, theta))\n",
    "\n",
    "        # Retrieve the current positions\n",
    "        initial_positions = context.getState(getPositions=True).getPositions(asNumpy=True)\n",
    "        nc_positions = copy.deepcopy(initial_positions)\n",
    "\n",
    "        model = copy.copy(self.structure)\n",
    "        atoms = list(model.topology.atoms())\n",
    "\n",
    "        # Set the modeller model to the same coordinates as the context\n",
    "        for idx, atom in enumerate(self.all_atoms):\n",
    "            if self.verbose:\n",
    "                print('Before:')\n",
    "                print(atom, idx)\n",
    "                print(nc_positions[atom], model.positions[atom])\n",
    "\n",
    "            model.positions[atom] = nc_positions[atom]\n",
    "\n",
    "            if self.verbose:\n",
    "                print('After:')\n",
    "                print(nc_positions[atom], model.positions[atom])\n",
    "\n",
    "        positions = model.positions\n",
    "\n",
    "        # Find the rotation axis using the updated positions\n",
    "        axis1 = target_atoms[0]\n",
    "        axis2 = target_atoms[1]\n",
    "        rot_axis = (positions[axis1] - positions[axis2]) / positions.unit\n",
    "\n",
    "        # Calculate the rotation matrix\n",
    "        rot_matrix = self.rotation_matrix(rot_axis, theta)\n",
    "        print(rot_matrix)\n",
    "\n",
    "        # Apply the rotation matrix to the target atoms\n",
    "        for idx, atom in enumerate(target_atoms):\n",
    "\n",
    "            my_position = positions[atom]\n",
    "\n",
    "            if self.verbose:\n",
    "                print('The current position for %i is: %s' % (atom, my_position))\n",
    "\n",
    "            # Find the reduced position (substract out axis)\n",
    "            red_position = (my_position - model.positions[axis2])._value\n",
    "            # Find the new positions by multiplying by rot matrix\n",
    "            new_position = numpy.dot(rot_matrix, red_position) * positions.unit + positions[axis2]\n",
    "\n",
    "            if self.verbose: print(\"The new position should be:\", new_position)\n",
    "\n",
    "            positions[atom] = new_position\n",
    "            # Update the parmed model with the new positions\n",
    "            model.positions[atom][0] = new_position[0] \n",
    "            model.positions[atom][1] = new_position[1] \n",
    "            model.positions[atom][2] = new_position[2]\n",
    "\n",
    "            # Update the copied ncmc context array with the new positions\n",
    "            nc_positions[atom][0] = model.positions[atom][0] \n",
    "            nc_positions[atom][1] = model.positions[atom][1] \n",
    "            nc_positions[atom][2] = model.positions[atom][2]\n",
    "  \n",
    "            if self.verbose:\n",
    "                print('The updated position for this atom is:', model.positions[atom])\n",
    "\n",
    "        # update the actual ncmc context object with the new positions\n",
    "        context.setPositions(nc_positions)\n",
    "\n",
    "        # update the class structure positions\n",
    "        self.structure.positions = model.positions\n",
    "\n",
    "#         if self.write_move:\n",
    "#             filename = 'sc_move_%s_%s_%s.pdb' % (res, axis1, axis2)\n",
    "#             mod_prot = model.save(filename, overwrite=True)\n",
    "        return context"
   ]
  },
  {
   "cell_type": "code",
   "execution_count": 15,
   "metadata": {},
   "outputs": [],
   "source": [
    "sidechain = SideChainMoveOpenMM2(structure, [1], [10, 13, 14, 15, 16, 17, 18, 19], write_move=True)\n",
    "sidechain_mover = MoveEngine(sidechain)"
   ]
  },
  {
   "cell_type": "code",
   "execution_count": 21,
   "metadata": {
    "scrolled": true
   },
   "outputs": [
    {
     "name": "stdout",
     "output_type": "stream",
     "text": [
      "1  C2  UNL 1     0   3\n",
      "\t  0 (4C-1C)\n",
      "\t  2 (1C-0H)\n",
      "\t  3 (1C-2H)\n",
      "\t  4 (1C-3H)\n",
      "4  C5  UNL 1     0   0\n",
      "\t  0 (4C-1C)\n",
      "\t  1 (4C-5O)\n",
      "\t  5 (4C-6N)\n",
      "5  O6  UNL 1     0   0\n",
      "\t  1 (4C-5O)\n",
      "6  N7  UNL 1     0   1\n",
      "\t  5 (4C-6N)\n",
      "\t 10 (8C-6N)\n",
      "\t 17 (7H-6N)\n",
      "8  C9  UNL 1     0   1\n",
      "\t  6 (11C-8C)\n",
      "\t  8 (8C-10C)\n",
      "\t  9 (8C-9H)\n",
      "\t 10 (8C-6N)\n",
      "10  C11 UNL 1     0   1\n",
      "\t  8 (8C-10C)\n",
      "\t 11 (10C-14C)\n",
      "\t 12 (10C-13H)\n",
      "\t 13 (10C-18O)\n",
      "11  C12 UNL 1     0   0\n",
      "\t  6 (11C-8C)\n",
      "\t  7 (11C-12O)\n",
      "\t 19 (11C-20N)\n",
      "12  O13 UNL 1     0   0\n",
      "\t  7 (11C-12O)\n",
      "14  C15 UNL 1     0   3\n",
      "\t 11 (10C-14C)\n",
      "\t 14 (14C-15H)\n",
      "\t 15 (14C-16H)\n",
      "\t 16 (14C-17H)\n",
      "18  O19 UNL 1     0   1\n",
      "\t 13 (10C-18O)\n",
      "\t 18 (19H-18O)\n",
      "20  N21 UNL 1     0   1\n",
      "\t 19 (11C-20N)\n",
      "\t 23 (22C-20N)\n",
      "\t 24 (21H-20N)\n",
      "22  C23 UNL 1     0   3\n",
      "\t 20 (22C-23H)\n",
      "\t 21 (22C-24H)\n",
      "\t 22 (22C-25H)\n",
      "\t 23 (22C-20N)\n",
      "0  H1  UNL 1     0   0\n",
      "\t  2 (1C-0H)\n",
      "2  H3  UNL 1     0   0\n",
      "\t  3 (1C-2H)\n",
      "3  H4  UNL 1     0   0\n",
      "\t  4 (1C-3H)\n",
      "7  H8  UNL 1     0   0\n",
      "\t 17 (7H-6N)\n",
      "9  H10 UNL 1     0   0\n",
      "\t  9 (8C-9H)\n",
      "13  H14 UNL 1     0   0\n",
      "\t 12 (10C-13H)\n",
      "15  H16 UNL 1     0   0\n",
      "\t 14 (14C-15H)\n",
      "16  H17 UNL 1     0   0\n",
      "\t 15 (14C-16H)\n",
      "17  H18 UNL 1     0   0\n",
      "\t 16 (14C-17H)\n",
      "19  H20 UNL 1     0   0\n",
      "\t 18 (19H-18O)\n",
      "21  H22 UNL 1     0   0\n",
      "\t 24 (21H-20N)\n",
      "23  H24 UNL 1     0   0\n",
      "\t 20 (22C-23H)\n",
      "24  H25 UNL 1     0   0\n",
      "\t 21 (22C-24H)\n",
      "25  H26 UNL 1     0   0\n",
      "\t 22 (22C-25H)\n"
     ]
    }
   ],
   "source": [
    "import openeye.oechem as oechem\n",
    "for atom in sidechain.molecule.GetAtoms():\n",
    "    print(atom.GetIdx(), atom.GetName(), oechem.OEAtomGetResidue(atom), atom.GetTotalHCount())\n",
    "    for bond in atom.GetBonds():\n",
    "        print(f\"\\t {bond}\")"
   ]
  },
  {
   "cell_type": "code",
   "execution_count": 22,
   "metadata": {},
   "outputs": [
    {
     "name": "stdout",
     "output_type": "stream",
     "text": [
      "8\n",
      "10\n"
     ]
    }
   ],
   "source": [
    "# Check sidechain.rot_bonds and keep only the one for barstar T42\n",
    "rot_bonds = list(sidechain.rot_bonds.keys())\n",
    "for i in range(1):\n",
    "    beg_index = rot_bonds[i].GetBgnIdx()\n",
    "    end_index = rot_bonds[i].GetEndIdx()\n",
    "    print(beg_index)\n",
    "    print(end_index)\n",
    "#     if beg_index == 670:\n",
    "#         print(rot_bonds[i])\n",
    "#         desired_rot_bonds = {rot_bonds[i]: 42}\n",
    "        \n",
    "        "
   ]
  },
  {
   "cell_type": "code",
   "execution_count": 23,
   "metadata": {},
   "outputs": [
    {
     "data": {
      "text/plain": [
       "{1: {<oechem.OEBondBase; proxy of <Swig Object of type 'OEChem::OEBondBase *' at 0x2b526a8d9e10> >: [8,\n",
       "   10,\n",
       "   14,\n",
       "   15,\n",
       "   16,\n",
       "   17,\n",
       "   13,\n",
       "   18,\n",
       "   19]}}"
      ]
     },
     "execution_count": 23,
     "metadata": {},
     "output_type": "execute_result"
    }
   ],
   "source": [
    "sidechain.rot_atoms"
   ]
  },
  {
   "cell_type": "code",
   "execution_count": 24,
   "metadata": {
    "scrolled": true
   },
   "outputs": [
    {
     "data": {
      "text/plain": [
       "{<oechem.OEAtomBase; proxy of <Swig Object of type 'OEChem::OEAtomBase *' at 0x2b526a8d9d20> >: 10,\n",
       " <oechem.OEAtomBase; proxy of <Swig Object of type 'OEChem::OEAtomBase *' at 0x2b526a8d9f60> >: 14,\n",
       " <oechem.OEAtomBase; proxy of <Swig Object of type 'OEChem::OEAtomBase *' at 0x2b526a8d9c30> >: 18,\n",
       " <oechem.OEAtomBase; proxy of <Swig Object of type 'OEChem::OEAtomBase *' at 0x2b526a8d9db0> >: 13,\n",
       " <oechem.OEAtomBase; proxy of <Swig Object of type 'OEChem::OEAtomBase *' at 0x2b526a8d9cc0> >: 15,\n",
       " <oechem.OEAtomBase; proxy of <Swig Object of type 'OEChem::OEAtomBase *' at 0x2b526a8d9b70> >: 16,\n",
       " <oechem.OEAtomBase; proxy of <Swig Object of type 'OEChem::OEAtomBase *' at 0x2b526a8d9f00> >: 17,\n",
       " <oechem.OEAtomBase; proxy of <Swig Object of type 'OEChem::OEAtomBase *' at 0x2b526a8d9cf0> >: 19}"
      ]
     },
     "execution_count": 24,
     "metadata": {},
     "output_type": "execute_result"
    }
   ],
   "source": [
    "sidechain.qry_atoms"
   ]
  },
  {
   "cell_type": "code",
   "execution_count": 25,
   "metadata": {},
   "outputs": [
    {
     "data": {
      "text/plain": [
       "{<oechem.OEBondBase; proxy of <Swig Object of type 'OEChem::OEBondBase *' at 0x2b526a8d9e10> >: 1}"
      ]
     },
     "execution_count": 25,
     "metadata": {},
     "output_type": "execute_result"
    }
   ],
   "source": [
    "sidechain.rot_bonds"
   ]
  },
  {
   "cell_type": "markdown",
   "metadata": {},
   "source": [
    "Note: The above cell specifies that we want to rotate the sidechain of residue 42, but there are two chains (i.e. two residues with index 42), so in the next few cells, I modify the appropriate sidechain attributes (rot_atoms, rot_bonds, and qry_atoms) to only contain the atoms/bonds for residue 42 on barstar."
   ]
  },
  {
   "cell_type": "code",
   "execution_count": 16,
   "metadata": {},
   "outputs": [],
   "source": [
    "## Subclass the BLUES SystemFactory object to take in an OpenMM SystemGenerator\n",
    "\n",
    "class SystemFactoryOpenMM(SystemFactory):\n",
    "    def __init__(self, structure, atom_indices, system_generator, config=None):\n",
    "        self.structure = structure\n",
    "        self.atom_indices = atom_indices\n",
    "        self._config = config\n",
    "    \n",
    "        # If parameters for generating the openmm.System is given, make them.\n",
    "        if self._config:\n",
    "            if 'alchemical' in self._config.keys():\n",
    "                self.alch_config = self._config.pop('alchemical')\n",
    "            else:\n",
    "                # Use function defaults if none is provided\n",
    "                self.alch_config = {}\n",
    "            self.md =  SystemFactoryOpenMM.generateSystem(self, self.structure, system_generator, **self._config)\n",
    "            self.alch = SystemFactory.generateAlchSystem(self.md, self.atom_indices, **self.alch_config)\n",
    "              \n",
    "    def generateSystem(self, structure, system_generator, **kwargs):\n",
    "        \"\"\"\n",
    "        Construct an OpenMM System representing the topology described by the\n",
    "        prmtop file. This function is just a wrapper for parmed Structure.createSystem().\n",
    "        Parameters\n",
    "        ----------\n",
    "        structure : app.PDBFile\n",
    "            The app.PDBFile of the molecular system to be simulated\n",
    "        nonbondedMethod : cutoff method\n",
    "            This is the cutoff method. It can be either the NoCutoff,\n",
    "            CutoffNonPeriodic, CutoffPeriodic, PME, or Ewald objects from the\n",
    "            simtk.openmm.app namespace\n",
    "        nonbondedCutoff : float or distance Quantity\n",
    "            The nonbonded cutoff must be either a floating point number\n",
    "            (interpreted as nanometers) or a Quantity with attached units. This\n",
    "            is ignored if nonbondedMethod is NoCutoff.\n",
    "        switchDistance : float or distance Quantity\n",
    "            The distance at which the switching function is turned on for van\n",
    "            der Waals interactions. This is ignored when no cutoff is used, and\n",
    "            no switch is used if switchDistance is 0, negative, or greater than\n",
    "            the cutoff\n",
    "        constraints : None, app.HBonds, app.HAngles, or app.AllBonds\n",
    "            Which type of constraints to add to the system (e.g., SHAKE). None\n",
    "            means no bonds are constrained. HBonds means bonds with hydrogen are\n",
    "            constrained\n",
    "        rigidWater : bool=True\n",
    "            If True, water is kept rigid regardless of the value of constraints.\n",
    "            A value of False is ignored if constraints is not None.\n",
    "        implicitSolvent : None, app.HCT, app.OBC1, app.OBC2, app.GBn, app.GBn2\n",
    "            The Generalized Born implicit solvent model to use.\n",
    "        implicitSolventKappa : float or 1/distance Quantity = None\n",
    "            This is the Debye kappa property related to modeling saltwater\n",
    "            conditions in GB. It should have units of 1/distance (1/nanometers\n",
    "            is assumed if no units present). A value of None means that kappa\n",
    "            will be calculated from implicitSolventSaltConc (below)\n",
    "        implicitSolventSaltConc : float or amount/volume Quantity=0 moles/liter\n",
    "            If implicitSolventKappa is None, the kappa will be computed from the\n",
    "            salt concentration. It should have units compatible with mol/L\n",
    "        temperature : float or temperature Quantity = 298.15 kelvin\n",
    "            This is only used to compute kappa from implicitSolventSaltConc\n",
    "        soluteDielectric : float=1.0\n",
    "            The dielectric constant of the protein interior used in GB\n",
    "        solventDielectric : float=78.5\n",
    "            The dielectric constant of the water used in GB\n",
    "        useSASA : bool=False\n",
    "            If True, use the ACE non-polar solvation model. Otherwise, use no\n",
    "            SASA-based nonpolar solvation model.\n",
    "        removeCMMotion : bool=True\n",
    "            If True, the center-of-mass motion will be removed periodically\n",
    "            during the simulation. If False, it will not.\n",
    "        hydrogenMass : float or mass quantity = None\n",
    "            If not None, hydrogen masses will be changed to this mass and the\n",
    "            difference subtracted from the attached heavy atom (hydrogen mass\n",
    "            repartitioning)\n",
    "        ewaldErrorTolerance : float=0.0005\n",
    "            When using PME or Ewald, the Ewald parameters will be calculated\n",
    "            from this value\n",
    "        flexibleConstraints : bool=True\n",
    "            If False, the energies and forces from the constrained degrees of\n",
    "            freedom will NOT be computed. If True, they will (but those degrees\n",
    "            of freedom will *still* be constrained).\n",
    "        verbose : bool=False\n",
    "            If True, the progress of this subroutine will be printed to stdout\n",
    "        splitDihedrals : bool=False\n",
    "            If True, the dihedrals will be split into two forces -- proper and\n",
    "            impropers. This is primarily useful for debugging torsion parameter\n",
    "            assignments.\n",
    "        Returns\n",
    "        -------\n",
    "        openmm.System\n",
    "            System formatted according to the PDB file\n",
    "        Notes\n",
    "        -----\n",
    "        This function calls prune_empty_terms if any Topology lists have\n",
    "        changed.\n",
    "        \"\"\"\n",
    "        system = system_generator.create_system(structure.topology)\n",
    "        \n",
    "#         # Restrain non-side chain heavy atom dihedrals\n",
    "#         top = md.Topology.from_openmm(structure.topology)\n",
    "#         atom_indices = top.select(\"not name hydrogen and not sidechain\")\n",
    "#         force = system.getForce(2)\n",
    "#         for i in range(force.getNumTorsions()):\n",
    "#             torsion = force.getTorsionParameters(i)\n",
    "#             atoms = torsion[:4]\n",
    "#             result = all(atom in atom_indices for atom in atoms) # Check that all atom indices are in non-sidechain heavy atom list\n",
    "#             if result:\n",
    "#                 print(i, torsion)\n",
    "#                 force.setTorsionParameters(i, torsion[0], torsion[1], torsion[2], torsion[3], torsion[4], torsion[5], torsion[6]*10)\n",
    "        \n",
    "        return system"
   ]
  },
  {
   "cell_type": "code",
   "execution_count": 17,
   "metadata": {},
   "outputs": [],
   "source": [
    "# Instantiate (modified) BLUES SystemFactory\n",
    "systems = SystemFactoryOpenMM(structure, sidechain.atom_indices, system_generator, cfg['system'])\n"
   ]
  },
  {
   "cell_type": "code",
   "execution_count": 18,
   "metadata": {},
   "outputs": [
    {
     "data": {
      "text/plain": [
       "False"
      ]
     },
     "execution_count": 18,
     "metadata": {},
     "output_type": "execute_result"
    }
   ],
   "source": [
    "systems.md.usesPeriodicBoundaryConditions()"
   ]
  },
  {
   "cell_type": "code",
   "execution_count": 19,
   "metadata": {},
   "outputs": [],
   "source": [
    "## Subclass BLUES SimulationFactory object to avoid using parmed.Structure object, and instead use an\n",
    "## OpenMM Modeller object. (Changes involves how box vectors are checked/set)\n",
    "\n",
    "class SimulationFactoryOpenMM(SimulationFactory):\n",
    "    \n",
    "    @classmethod\n",
    "    def generateSimFromStruct(cls, structure, system, integrator, platform=None, properties={}, **kwargs):\n",
    "        \"\"\"Generate the OpenMM Simulation objects from a given parmed.Structure()\n",
    "        Parameters\n",
    "        ----------\n",
    "        structure : parmed.Structure\n",
    "            ParmEd Structure object of the entire system to be simulated.\n",
    "        system : openmm.System\n",
    "            The OpenMM System object corresponding to the reference system.\n",
    "        integrator : openmm.Integrator\n",
    "            The OpenMM Integrator object for the simulation.\n",
    "        platform : str, default = None\n",
    "            Valid choices: 'Auto', 'OpenCL', 'CUDA'\n",
    "            If None is specified, the fastest available platform will be used.\n",
    "        Returns\n",
    "        -------\n",
    "        simulation : openmm.Simulation\n",
    "            The generated OpenMM Simulation from the parmed.Structure, openmm.System,\n",
    "            amd the integrator.\n",
    "        \"\"\"\n",
    "        #Specifying platform properties here used for local development.\n",
    "        if platform is None:\n",
    "            #Use the fastest available platform\n",
    "            simulation = app.Simulation(structure.topology, system, integrator)\n",
    "        else:\n",
    "            platform = openmm.Platform.getPlatformByName(platform)\n",
    "            #Make sure key/values are strings\n",
    "            properties = {str(k): str(v) for k, v in properties.items()}\n",
    "            simulation = app.Simulation(structure.topology, system, integrator, platform, properties)\n",
    "\n",
    "        # Set initial positions/velocities\n",
    "        if structure.topology.getPeriodicBoxVectors():\n",
    "            simulation.context.setPeriodicBoxVectors(*structure.topology.getPeriodicBoxVectors())\n",
    "        simulation.context.setPositions(structure.positions)\n",
    "        simulation.context.setVelocitiesToTemperature(integrator.getTemperature())\n",
    "\n",
    "        return simulation"
   ]
  },
  {
   "cell_type": "code",
   "execution_count": 20,
   "metadata": {},
   "outputs": [],
   "source": [
    "## Subclass BLUESSimulation object to save accepted frames as npys\n",
    "\n",
    "class BLUESSimulation2(BLUESSimulation):\n",
    "    def __init__(self, simulations, iteration, config=None):\n",
    "        self._move_engine = simulations._move_engine\n",
    "        self._md_sim = simulations.md\n",
    "        self._alch_sim = simulations.alch\n",
    "        self._ncmc_sim = simulations.ncmc\n",
    "        self._iteration = iteration\n",
    "\n",
    "        # Check if configuration has been specified in `SimulationFactory` object\n",
    "        if not config:\n",
    "            if hasattr(simulations, 'config'):\n",
    "                self._config = simulations.config\n",
    "        else:\n",
    "            #Otherwise take specified config\n",
    "            self._config = config\n",
    "        if self._config:\n",
    "            self._printSimulationTiming()\n",
    "\n",
    "        self.accept = 0\n",
    "        self.reject = 0\n",
    "        self.acceptRatio = 0\n",
    "        self.currentIter = 0\n",
    "\n",
    "        #Dict to keep track of each simulation state before/after each iteration\n",
    "        self.stateTable = {'md': {'state0': {}, 'state1': {}}, 'ncmc': {'state0': {}, 'state1': {}}}\n",
    "\n",
    "        #specify nc integrator variables to report in verbose output\n",
    "        self._integrator_keys_ = ['lambda', 'shadow_work', 'protocol_work', 'Eold', 'Enew']\n",
    "\n",
    "        self._state_keys = {\n",
    "            'getPositions': True,\n",
    "            'getVelocities': True,\n",
    "            'getForces': False,\n",
    "            'getEnergy': True,\n",
    "            'getParameters': True,\n",
    "            'enforcePeriodicBox': True\n",
    "        }\n",
    "    \n",
    "    def _acceptRejectMove(self, write_move=False):\n",
    "        \"\"\"Choose to accept or reject the proposed move based\n",
    "        on the acceptance criterion.\n",
    "        Parameters\n",
    "        ----------\n",
    "        write_move : bool, default=False\n",
    "            If True, writes the proposed NCMC move to a PDB file.\n",
    "        \"\"\"\n",
    "        work_ncmc = self._ncmc_sim.context._integrator.getLogAcceptanceProbability(self._ncmc_sim.context)\n",
    "        randnum = math.log(np.random.random())\n",
    "\n",
    "        # Compute correction if work_ncmc is not NaN\n",
    "        if not np.isnan(work_ncmc):\n",
    "            correction_factor = self._computeAlchemicalCorrection()\n",
    "            logger.debug(\n",
    "                'NCMCLogAcceptanceProbability = %.6f + Alchemical Correction = %.6f' % (work_ncmc, correction_factor))\n",
    "            work_ncmc = work_ncmc + correction_factor\n",
    "\n",
    "        if work_ncmc > randnum:\n",
    "            self.accept += 1\n",
    "            logger.info('NCMC MOVE ACCEPTED: work_ncmc {} > randnum {}'.format(work_ncmc, randnum))\n",
    "\n",
    "            # If accept move, sync NCMC state to MD context\n",
    "            ncmc_state1 = self.stateTable['ncmc']['state1']\n",
    "            self._md_sim.context = self.setContextFromState(self._md_sim.context, ncmc_state1, velocities=False)\n",
    "\n",
    "            if write_move:\n",
    "                outname = self._config['outfname'] + f\"_{self._iteration}_{self.currentIter}.npy\"\n",
    "                \n",
    "                # Save npy\n",
    "                with open(outname, 'wb') as f:\n",
    "                    state = self._md_sim.context.getState(getPositions=True, enforcePeriodicBox=True)\n",
    "                    np.save(f, state.getPositions()) \n",
    "\n",
    "                logger.info(f'\\tSaving Frame to: {outname}')\n",
    "\n",
    "        else:\n",
    "            self.reject += 1\n",
    "            logger.info('NCMC MOVE REJECTED: work_ncmc {} < {}'.format(work_ncmc, randnum))\n",
    "\n",
    "            # If reject move, do nothing,\n",
    "            # NCMC simulation be updated from MD Simulation next iteration.\n",
    "\n",
    "            # Potential energy should be from last MD step in the previous iteration\n",
    "            md_state0 = self.stateTable['md']['state0']\n",
    "            md_PE = self._md_sim.context.getState(getEnergy=True).getPotentialEnergy()\n",
    "            if not math.isclose(md_state0['potential_energy']._value, md_PE._value, rel_tol=float('1e-%s' % rtol)):\n",
    "                logger.error(\n",
    "                    'Last MD potential energy %s != Current MD potential energy %s. Potential energy should match the prior state.'\n",
    "                    % (md_state0['potential_energy'], md_PE))\n",
    "                sys.exit(1)\n",
    "\n"
   ]
  },
  {
   "cell_type": "code",
   "execution_count": 21,
   "metadata": {
    "scrolled": true
   },
   "outputs": [
    {
     "name": "stderr",
     "output_type": "stream",
     "text": [
      "INFO:blues.simulation:MD simulation will be 300.0 K NVT.\n"
     ]
    },
    {
     "name": "stdout",
     "output_type": "stream",
     "text": [
      "INFO: MD simulation will be 300.0 K NVT.\n"
     ]
    },
    {
     "name": "stderr",
     "output_type": "stream",
     "text": [
      "INFO:blues.utils:OpenMM(7.4.2.dev-dc9d188) simulation generated for CUDA platform\n",
      "system = Linux \n",
      "node = lt09 \n",
      "release = 3.10.0-957.12.2.el7.x86_64 \n",
      "version = #1 SMP Tue May 14 21:24:32 UTC 2019 \n",
      "machine = x86_64 \n",
      "processor = x86_64 \n",
      "DeviceIndex = 0 \n",
      "DeviceName = GeForce GTX 1080 Ti \n",
      "UseBlockingSync = true \n",
      "Precision = mixed \n",
      "UseCpuPme = false \n",
      "CudaCompiler = /usr/local/cuda/bin/nvcc \n",
      "TempDirectory = /scratch/lsftmp/16862299.tmpdir \n",
      "CudaHostCompiler =  \n",
      "DisablePmeStream = false \n",
      "DeterministicForces = false \n",
      "\n"
     ]
    },
    {
     "name": "stdout",
     "output_type": "stream",
     "text": [
      "INFO: OpenMM(7.4.2.dev-dc9d188) simulation generated for CUDA platform\n",
      "system = Linux \n",
      "node = lt09 \n",
      "release = 3.10.0-957.12.2.el7.x86_64 \n",
      "version = #1 SMP Tue May 14 21:24:32 UTC 2019 \n",
      "machine = x86_64 \n",
      "processor = x86_64 \n",
      "DeviceIndex = 0 \n",
      "DeviceName = GeForce GTX 1080 Ti \n",
      "UseBlockingSync = true \n",
      "Precision = mixed \n",
      "UseCpuPme = false \n",
      "CudaCompiler = /usr/local/cuda/bin/nvcc \n",
      "TempDirectory = /scratch/lsftmp/16862299.tmpdir \n",
      "CudaHostCompiler =  \n",
      "DisablePmeStream = false \n",
      "DeterministicForces = false \n",
      "\n"
     ]
    },
    {
     "name": "stderr",
     "output_type": "stream",
     "text": [
      "INFO:blues.simulation:Total BLUES Simulation Time = 15.0 ps (3.0 ps/Iter)\n",
      "Total Force Evaluations = 7500 \n",
      "Total NCMC time = 10.0 ps (2.0 ps/iter)\n",
      "Total MD time = 5.0 ps (1.0 ps/iter)\n",
      "Trajectory Interval = 3.0 ps/frame (1.0 frames/iter)\n"
     ]
    },
    {
     "name": "stdout",
     "output_type": "stream",
     "text": [
      "INFO: Total BLUES Simulation Time = 15.0 ps (3.0 ps/Iter)\n",
      "Total Force Evaluations = 7500 \n",
      "Total NCMC time = 10.0 ps (2.0 ps/iter)\n",
      "Total MD time = 5.0 ps (1.0 ps/iter)\n",
      "Trajectory Interval = 3.0 ps/frame (1.0 frames/iter)\n"
     ]
    }
   ],
   "source": [
    "i = 200\n",
    "outfile = os.path.join(outdir, f'blues/thr_{i}.nc')\n",
    "\n",
    "# Manually set new reporter for each iteration i\n",
    "reporter = NetCDF4Reporter(outfile, reportInterval=500)\n",
    "cfg['md_reporters'] = [cfg['md_reporters'][0]] + [reporter] + cfg['md_reporters'][2:] \n",
    "\n",
    "# Run simulation\n",
    "simulations = SimulationFactoryOpenMM(systems, sidechain_mover, cfg['simulation'], cfg['md_reporters'],\n",
    "                            cfg['ncmc_reporters'])\n",
    "simulations.md.minimizeEnergy(maxIterations=0)\n",
    "# simulations.md.step(500)\n",
    "blues = BLUESSimulation2(simulations, i, cfg['simulation'])\n"
   ]
  },
  {
   "cell_type": "code",
   "execution_count": 22,
   "metadata": {},
   "outputs": [
    {
     "name": "stderr",
     "output_type": "stream",
     "text": [
      "INFO:blues.simulation:Running 5 BLUES iterations...\n"
     ]
    },
    {
     "name": "stdout",
     "output_type": "stream",
     "text": [
      "INFO: Running 5 BLUES iterations...\n"
     ]
    },
    {
     "name": "stderr",
     "output_type": "stream",
     "text": [
      "INFO:blues.simulation:BLUES Iteration: 0\n"
     ]
    },
    {
     "name": "stdout",
     "output_type": "stream",
     "text": [
      "INFO: BLUES Iteration: 0\n"
     ]
    },
    {
     "name": "stderr",
     "output_type": "stream",
     "text": [
      "INFO:blues.simulation:Advancing 1000 NCMC switching steps...\n"
     ]
    },
    {
     "name": "stdout",
     "output_type": "stream",
     "text": [
      "INFO: Advancing 1000 NCMC switching steps...\n"
     ]
    },
    {
     "name": "stderr",
     "output_type": "stream",
     "text": [
      "REPORT:root:#\"Iter\"\t\"Progress (%)\"\t\"Step\"\t\"alchemicalLambda\"\t\"protocolWork\"\t\"Speed (ns/day)\"\t\"Time Remaining\"\n"
     ]
    },
    {
     "name": "stdout",
     "output_type": "stream",
     "text": [
      "#\"Iter\"\t\"Progress (%)\"\t\"Step\"\t\"alchemicalLambda\"\t\"protocolWork\"\t\"Speed (ns/day)\"\t\"Time Remaining\"\n"
     ]
    },
    {
     "name": "stderr",
     "output_type": "stream",
     "text": [
      "REPORT:root:ncmc: 0\t50.0%\t500\t0.0\t0.0\t0\t--\n"
     ]
    },
    {
     "name": "stdout",
     "output_type": "stream",
     "text": [
      "ncmc: 0\t50.0%\t500\t0.0\t0.0\t0\t--\n"
     ]
    },
    {
     "name": "stderr",
     "output_type": "stream",
     "text": [
      "REPORT:blues.simulation:Performing SideChainMoveOpenMM2...\n"
     ]
    },
    {
     "name": "stdout",
     "output_type": "stream",
     "text": [
      "Performing SideChainMoveOpenMM2...\n",
      "Rotating bond:  8 (8C-10C) in resnum: 1 by 5.28 radians\n",
      "[[ 0.6669952   0.62368582 -0.40759465]\n",
      " [-0.74491647  0.56904032 -0.34827083]\n",
      " [ 0.01472621  0.53591893  0.844141  ]]\n"
     ]
    },
    {
     "name": "stderr",
     "output_type": "stream",
     "text": [
      "REPORT:root:ncmc: 0\t100.0%\t1000\t0.0\t0.0\t286\t0:00\n"
     ]
    },
    {
     "name": "stdout",
     "output_type": "stream",
     "text": [
      "ncmc: 0\t100.0%\t1000\t0.0\t0.0\t286\t0:00\n"
     ]
    },
    {
     "name": "stderr",
     "output_type": "stream",
     "text": [
      "INFO:simulation:NCMC MOVE ACCEPTED: work_ncmc -2.9019772596381e-06 > randnum -0.9579409311090162\n"
     ]
    },
    {
     "name": "stdout",
     "output_type": "stream",
     "text": [
      "INFO: NCMC MOVE ACCEPTED: work_ncmc -2.9019772596381e-06 > randnum -0.9579409311090162\n"
     ]
    },
    {
     "name": "stderr",
     "output_type": "stream",
     "text": [
      "INFO:simulation:\tSaving Frame to: /data/chodera/zhangi/perses_benchmark/neq/7/19/blues/thr_200_0.npy\n"
     ]
    },
    {
     "name": "stdout",
     "output_type": "stream",
     "text": [
      "INFO: \tSaving Frame to: /data/chodera/zhangi/perses_benchmark/neq/7/19/blues/thr_200_0.npy\n"
     ]
    },
    {
     "name": "stderr",
     "output_type": "stream",
     "text": [
      "REPORT:blues.simulation:Advancing 500 MD steps...\n"
     ]
    },
    {
     "name": "stdout",
     "output_type": "stream",
     "text": [
      "Advancing 500 MD steps...\n"
     ]
    },
    {
     "name": "stderr",
     "output_type": "stream",
     "text": [
      "REPORT:root:#\"Iter\"\t\"Progress (%)\"\t\"Step\"\t\"Speed (ns/day)\"\t\"Time Remaining\"\n"
     ]
    },
    {
     "name": "stdout",
     "output_type": "stream",
     "text": [
      "#\"Iter\"\t\"Progress (%)\"\t\"Step\"\t\"Speed (ns/day)\"\t\"Time Remaining\"\n"
     ]
    },
    {
     "name": "stderr",
     "output_type": "stream",
     "text": [
      "REPORT:root:md: 0\t100.0%\t500\t0\t--\n"
     ]
    },
    {
     "name": "stdout",
     "output_type": "stream",
     "text": [
      "md: 0\t100.0%\t500\t0\t--\n"
     ]
    },
    {
     "name": "stderr",
     "output_type": "stream",
     "text": [
      "REPORT:blues.simulation:BLUES Iteration: 1\n"
     ]
    },
    {
     "name": "stdout",
     "output_type": "stream",
     "text": [
      "BLUES Iteration: 1\n"
     ]
    },
    {
     "name": "stderr",
     "output_type": "stream",
     "text": [
      "REPORT:blues.simulation:Advancing 1000 NCMC switching steps...\n"
     ]
    },
    {
     "name": "stdout",
     "output_type": "stream",
     "text": [
      "Advancing 1000 NCMC switching steps...\n"
     ]
    },
    {
     "name": "stderr",
     "output_type": "stream",
     "text": [
      "REPORT:root:ncmc: 1\t50.0%\t500\t0.0\t0.0\t137\t--\n"
     ]
    },
    {
     "name": "stdout",
     "output_type": "stream",
     "text": [
      "ncmc: 1\t50.0%\t500\t0.0\t0.0\t137\t--\n"
     ]
    },
    {
     "name": "stderr",
     "output_type": "stream",
     "text": [
      "REPORT:blues.simulation:Performing SideChainMoveOpenMM2...\n"
     ]
    },
    {
     "name": "stdout",
     "output_type": "stream",
     "text": [
      "Performing SideChainMoveOpenMM2...\n",
      "Rotating bond:  8 (8C-10C) in resnum: 1 by 1.36 radians\n",
      "[[ 0.92115205 -0.09115998 -0.37837648]\n",
      " [ 0.38906492  0.24156347  0.88897445]\n",
      " [ 0.01036304 -0.96609365  0.25798384]]\n"
     ]
    },
    {
     "name": "stderr",
     "output_type": "stream",
     "text": [
      "REPORT:root:ncmc: 1\t100.0%\t1000\t0.0\t0.0\t167\t0:00\n"
     ]
    },
    {
     "name": "stdout",
     "output_type": "stream",
     "text": [
      "ncmc: 1\t100.0%\t1000\t0.0\t0.0\t167\t0:00\n"
     ]
    },
    {
     "name": "stderr",
     "output_type": "stream",
     "text": [
      "INFO:simulation:NCMC MOVE ACCEPTED: work_ncmc -0.13155720381764316 > randnum -2.242618559614585\n"
     ]
    },
    {
     "name": "stdout",
     "output_type": "stream",
     "text": [
      "INFO: NCMC MOVE ACCEPTED: work_ncmc -0.13155720381764316 > randnum -2.242618559614585\n"
     ]
    },
    {
     "name": "stderr",
     "output_type": "stream",
     "text": [
      "INFO:simulation:\tSaving Frame to: /data/chodera/zhangi/perses_benchmark/neq/7/19/blues/thr_200_1.npy\n"
     ]
    },
    {
     "name": "stdout",
     "output_type": "stream",
     "text": [
      "INFO: \tSaving Frame to: /data/chodera/zhangi/perses_benchmark/neq/7/19/blues/thr_200_1.npy\n"
     ]
    },
    {
     "name": "stderr",
     "output_type": "stream",
     "text": [
      "REPORT:blues.simulation:Advancing 500 MD steps...\n"
     ]
    },
    {
     "name": "stdout",
     "output_type": "stream",
     "text": [
      "Advancing 500 MD steps...\n"
     ]
    },
    {
     "name": "stderr",
     "output_type": "stream",
     "text": [
      "REPORT:root:md: 1\t200.0%\t1000\t128\t0:00\n"
     ]
    },
    {
     "name": "stdout",
     "output_type": "stream",
     "text": [
      "md: 1\t200.0%\t1000\t128\t0:00\n"
     ]
    },
    {
     "name": "stderr",
     "output_type": "stream",
     "text": [
      "REPORT:blues.simulation:BLUES Iteration: 2\n"
     ]
    },
    {
     "name": "stdout",
     "output_type": "stream",
     "text": [
      "BLUES Iteration: 2\n"
     ]
    },
    {
     "name": "stderr",
     "output_type": "stream",
     "text": [
      "REPORT:blues.simulation:Advancing 1000 NCMC switching steps...\n"
     ]
    },
    {
     "name": "stdout",
     "output_type": "stream",
     "text": [
      "Advancing 1000 NCMC switching steps...\n"
     ]
    },
    {
     "name": "stderr",
     "output_type": "stream",
     "text": [
      "REPORT:root:ncmc: 2\t50.0%\t500\t0.0\t0.0\t179\t--\n"
     ]
    },
    {
     "name": "stdout",
     "output_type": "stream",
     "text": [
      "ncmc: 2\t50.0%\t500\t0.0\t0.0\t179\t--\n"
     ]
    },
    {
     "name": "stderr",
     "output_type": "stream",
     "text": [
      "REPORT:blues.simulation:Performing SideChainMoveOpenMM2...\n"
     ]
    },
    {
     "name": "stdout",
     "output_type": "stream",
     "text": [
      "Performing SideChainMoveOpenMM2...\n",
      "Rotating bond:  8 (8C-10C) in resnum: 1 by 0.31 radians\n",
      "[[ 0.96240236  0.147742   -0.22793421]\n",
      " [-0.11619724  0.98241289  0.14616124]\n",
      " [ 0.24551966 -0.1141806   0.9626437 ]]\n"
     ]
    },
    {
     "name": "stderr",
     "output_type": "stream",
     "text": [
      "REPORT:root:ncmc: 2\t100.0%\t1000\t0.0\t0.0\t194\t0:00\n"
     ]
    },
    {
     "name": "stdout",
     "output_type": "stream",
     "text": [
      "ncmc: 2\t100.0%\t1000\t0.0\t0.0\t194\t0:00\n"
     ]
    },
    {
     "name": "stderr",
     "output_type": "stream",
     "text": [
      "INFO:simulation:NCMC MOVE ACCEPTED: work_ncmc -0.1301883822982583 > randnum -1.3673650284254322\n"
     ]
    },
    {
     "name": "stdout",
     "output_type": "stream",
     "text": [
      "INFO: NCMC MOVE ACCEPTED: work_ncmc -0.1301883822982583 > randnum -1.3673650284254322\n"
     ]
    },
    {
     "name": "stderr",
     "output_type": "stream",
     "text": [
      "INFO:simulation:\tSaving Frame to: /data/chodera/zhangi/perses_benchmark/neq/7/19/blues/thr_200_2.npy\n"
     ]
    },
    {
     "name": "stdout",
     "output_type": "stream",
     "text": [
      "INFO: \tSaving Frame to: /data/chodera/zhangi/perses_benchmark/neq/7/19/blues/thr_200_2.npy\n"
     ]
    },
    {
     "name": "stderr",
     "output_type": "stream",
     "text": [
      "REPORT:blues.simulation:Advancing 500 MD steps...\n"
     ]
    },
    {
     "name": "stdout",
     "output_type": "stream",
     "text": [
      "Advancing 500 MD steps...\n"
     ]
    },
    {
     "name": "stderr",
     "output_type": "stream",
     "text": [
      "REPORT:root:md: 2\t300.0%\t1500\t127\t23:59:59\n"
     ]
    },
    {
     "name": "stdout",
     "output_type": "stream",
     "text": [
      "md: 2\t300.0%\t1500\t127\t23:59:59\n"
     ]
    },
    {
     "name": "stderr",
     "output_type": "stream",
     "text": [
      "REPORT:blues.simulation:BLUES Iteration: 3\n"
     ]
    },
    {
     "name": "stdout",
     "output_type": "stream",
     "text": [
      "BLUES Iteration: 3\n"
     ]
    },
    {
     "name": "stderr",
     "output_type": "stream",
     "text": [
      "REPORT:blues.simulation:Advancing 1000 NCMC switching steps...\n"
     ]
    },
    {
     "name": "stdout",
     "output_type": "stream",
     "text": [
      "Advancing 1000 NCMC switching steps...\n"
     ]
    },
    {
     "name": "stderr",
     "output_type": "stream",
     "text": [
      "REPORT:root:ncmc: 3\t50.0%\t500\t0.0\t0.0\t201\t--\n"
     ]
    },
    {
     "name": "stdout",
     "output_type": "stream",
     "text": [
      "ncmc: 3\t50.0%\t500\t0.0\t0.0\t201\t--\n"
     ]
    },
    {
     "name": "stderr",
     "output_type": "stream",
     "text": [
      "REPORT:blues.simulation:Performing SideChainMoveOpenMM2...\n"
     ]
    },
    {
     "name": "stdout",
     "output_type": "stream",
     "text": [
      "Performing SideChainMoveOpenMM2...\n",
      "Rotating bond:  8 (8C-10C) in resnum: 1 by 2.32 radians\n",
      "[[-5.68892571e-01  2.64804677e-01 -7.78613977e-01]\n",
      " [-8.07421078e-01  1.03411591e-04  5.89975586e-01]\n",
      " [ 1.56308812e-01  9.64302065e-01  2.13750047e-01]]\n"
     ]
    },
    {
     "name": "stderr",
     "output_type": "stream",
     "text": [
      "REPORT:root:ncmc: 3\t100.0%\t1000\t0.0\t0.0\t211\t0:00\n"
     ]
    },
    {
     "name": "stdout",
     "output_type": "stream",
     "text": [
      "ncmc: 3\t100.0%\t1000\t0.0\t0.0\t211\t0:00\n"
     ]
    },
    {
     "name": "stderr",
     "output_type": "stream",
     "text": [
      "INFO:simulation:NCMC MOVE ACCEPTED: work_ncmc -0.1348522777557109 > randnum -2.0264145498731154\n"
     ]
    },
    {
     "name": "stdout",
     "output_type": "stream",
     "text": [
      "INFO: NCMC MOVE ACCEPTED: work_ncmc -0.1348522777557109 > randnum -2.0264145498731154\n"
     ]
    },
    {
     "name": "stderr",
     "output_type": "stream",
     "text": [
      "INFO:simulation:\tSaving Frame to: /data/chodera/zhangi/perses_benchmark/neq/7/19/blues/thr_200_3.npy\n"
     ]
    },
    {
     "name": "stdout",
     "output_type": "stream",
     "text": [
      "INFO: \tSaving Frame to: /data/chodera/zhangi/perses_benchmark/neq/7/19/blues/thr_200_3.npy\n"
     ]
    },
    {
     "name": "stderr",
     "output_type": "stream",
     "text": [
      "REPORT:blues.simulation:Advancing 500 MD steps...\n"
     ]
    },
    {
     "name": "stdout",
     "output_type": "stream",
     "text": [
      "Advancing 500 MD steps...\n"
     ]
    },
    {
     "name": "stderr",
     "output_type": "stream",
     "text": [
      "REPORT:root:md: 3\t400.0%\t2000\t130\t23:59:59\n"
     ]
    },
    {
     "name": "stdout",
     "output_type": "stream",
     "text": [
      "md: 3\t400.0%\t2000\t130\t23:59:59\n"
     ]
    },
    {
     "name": "stderr",
     "output_type": "stream",
     "text": [
      "REPORT:blues.simulation:BLUES Iteration: 4\n"
     ]
    },
    {
     "name": "stdout",
     "output_type": "stream",
     "text": [
      "BLUES Iteration: 4\n"
     ]
    },
    {
     "name": "stderr",
     "output_type": "stream",
     "text": [
      "REPORT:blues.simulation:Advancing 1000 NCMC switching steps...\n"
     ]
    },
    {
     "name": "stdout",
     "output_type": "stream",
     "text": [
      "Advancing 1000 NCMC switching steps...\n"
     ]
    },
    {
     "name": "stderr",
     "output_type": "stream",
     "text": [
      "REPORT:root:ncmc: 4\t50.0%\t500\t0.0\t0.0\t215\t--\n"
     ]
    },
    {
     "name": "stdout",
     "output_type": "stream",
     "text": [
      "ncmc: 4\t50.0%\t500\t0.0\t0.0\t215\t--\n"
     ]
    },
    {
     "name": "stderr",
     "output_type": "stream",
     "text": [
      "REPORT:blues.simulation:Performing SideChainMoveOpenMM2...\n"
     ]
    },
    {
     "name": "stdout",
     "output_type": "stream",
     "text": [
      "Performing SideChainMoveOpenMM2...\n",
      "Rotating bond:  8 (8C-10C) in resnum: 1 by 0.92 radians\n",
      "[[ 0.85706669  0.49768406  0.13321885]\n",
      " [-0.27172743  0.65634401 -0.70383005]\n",
      " [-0.43772239  0.56703008  0.697765  ]]\n"
     ]
    },
    {
     "name": "stderr",
     "output_type": "stream",
     "text": [
      "REPORT:root:ncmc: 4\t100.0%\t1000\t0.0\t0.0\t220\t0:00\n"
     ]
    },
    {
     "name": "stdout",
     "output_type": "stream",
     "text": [
      "ncmc: 4\t100.0%\t1000\t0.0\t0.0\t220\t0:00\n"
     ]
    },
    {
     "name": "stderr",
     "output_type": "stream",
     "text": [
      "INFO:simulation:NCMC MOVE ACCEPTED: work_ncmc -0.14110855844214928 > randnum -1.664827933162167\n"
     ]
    },
    {
     "name": "stdout",
     "output_type": "stream",
     "text": [
      "INFO: NCMC MOVE ACCEPTED: work_ncmc -0.14110855844214928 > randnum -1.664827933162167\n"
     ]
    },
    {
     "name": "stderr",
     "output_type": "stream",
     "text": [
      "INFO:simulation:\tSaving Frame to: /data/chodera/zhangi/perses_benchmark/neq/7/19/blues/thr_200_4.npy\n"
     ]
    },
    {
     "name": "stdout",
     "output_type": "stream",
     "text": [
      "INFO: \tSaving Frame to: /data/chodera/zhangi/perses_benchmark/neq/7/19/blues/thr_200_4.npy\n"
     ]
    },
    {
     "name": "stderr",
     "output_type": "stream",
     "text": [
      "REPORT:blues.simulation:Advancing 500 MD steps...\n"
     ]
    },
    {
     "name": "stdout",
     "output_type": "stream",
     "text": [
      "Advancing 500 MD steps...\n"
     ]
    },
    {
     "name": "stderr",
     "output_type": "stream",
     "text": [
      "REPORT:root:md: 4\t500.0%\t2500\t130\t23:59:58\n"
     ]
    },
    {
     "name": "stdout",
     "output_type": "stream",
     "text": [
      "md: 4\t500.0%\t2500\t130\t23:59:58\n"
     ]
    },
    {
     "name": "stderr",
     "output_type": "stream",
     "text": [
      "REPORT:blues.simulation:Acceptance Ratio: 1.0\n"
     ]
    },
    {
     "name": "stdout",
     "output_type": "stream",
     "text": [
      "Acceptance Ratio: 1.0\n"
     ]
    },
    {
     "name": "stderr",
     "output_type": "stream",
     "text": [
      "REPORT:blues.simulation:nIter: 5 \n"
     ]
    },
    {
     "name": "stdout",
     "output_type": "stream",
     "text": [
      "nIter: 5 \n"
     ]
    }
   ],
   "source": [
    "blues.run(write_move=True)"
   ]
  },
  {
   "cell_type": "code",
   "execution_count": 42,
   "metadata": {},
   "outputs": [
    {
     "data": {
      "text/plain": [
       "{'output_dir': '/data/chodera/zhangi/perses_benchmark/neq/7/19/blues/',\n",
       " 'outfname': '/data/chodera/zhangi/perses_benchmark/neq/7/19/blues/thr',\n",
       " 'logger': {'level': 'info', 'stream': True},\n",
       " 'structure': {'filename': '../input/tleap/thr_vacuum_tleap.prmtop',\n",
       "  'xyz': '../input/tleap/thr_vacuum_tleap.inpcrd'},\n",
       " 'system': {'nonbondedMethod': NoCutoff,\n",
       "  'rigidWater': True,\n",
       "  'removeCMMotion': False,\n",
       "  'hydrogenMass': Quantity(value=4.0, unit=dalton),\n",
       "  'ewaldErrorTolerance': 0.00025,\n",
       "  'flexibleConstraints': True,\n",
       "  'splitDihedrals': False,\n",
       "  'verbose': False},\n",
       " 'simulation': {'platform': 'CUDA',\n",
       "  'properties': {'CudaPrecision': 'mixed', 'CudaDeviceIndex': 0},\n",
       "  'dt': Quantity(value=0.002, unit=picosecond),\n",
       "  'friction': Quantity(value=1.0, unit=/picosecond),\n",
       "  'temperature': Quantity(value=300.0, unit=kelvin),\n",
       "  'nIter': 5,\n",
       "  'nstepsMD': 500,\n",
       "  'nstepsNC': 1000,\n",
       "  'nprop': 1,\n",
       "  'propLambda': 0.3,\n",
       "  'outfname': '/data/chodera/zhangi/perses_benchmark/neq/7/19/blues/thr',\n",
       "  'verbose': False,\n",
       "  'propSteps': 1000,\n",
       "  'moveStep': 500,\n",
       "  'md_trajectory_interval': 500},\n",
       " 'md_reporters': [<parmed.openmm.reporters.StateDataReporter at 0x2b5291d85b70>,\n",
       "  <blues.reporters.NetCDF4Reporter at 0x2b5291f6c518>,\n",
       "  <parmed.openmm.reporters.RestartReporter at 0x2b5291d89b70>,\n",
       "  <parmed.openmm.reporters.ProgressReporter at 0x2b5291d89ac8>,\n",
       "  <blues.reporters.BLUESStateDataReporter at 0x2b5291cbc198>],\n",
       " 'ncmc_reporters': [<blues.reporters.NetCDF4Reporter at 0x2b5291d89c18>,\n",
       "  <blues.reporters.BLUESStateDataReporter at 0x2b5291d89a58>],\n",
       " 'verbose': False,\n",
       " 'Logger': <RootLogger root (INFO)>,\n",
       " 'Structure': <simtk.openmm.app.pdbfile.PDBFile at 0x2b52398e2400>}"
      ]
     },
     "execution_count": 42,
     "metadata": {},
     "output_type": "execute_result"
    }
   ],
   "source": [
    "cfg"
   ]
  },
  {
   "cell_type": "code",
   "execution_count": 37,
   "metadata": {},
   "outputs": [
    {
     "name": "stdout",
     "output_type": "stream",
     "text": [
      "200 4\n"
     ]
    }
   ],
   "source": [
    "i = 200\n",
    "all_pos = []\n",
    "traj = md.load_netcdf(os.path.join(outdir, f'blues/thr_{i}.nc'), \n",
    "                      top='/data/chodera/zhangi/perses_benchmark/neq/7/19/blues/thr_vacuum.pdb')\n",
    "if traj[1:].xyz.shape[0] > 0:\n",
    "    print(i, traj[1:].xyz.shape[0])\n",
    "    for arr in traj[1:].xyz:\n",
    "        all_pos.append(arr)"
   ]
  },
  {
   "cell_type": "code",
   "execution_count": 38,
   "metadata": {},
   "outputs": [
    {
     "data": {
      "text/plain": [
       "4"
      ]
     },
     "execution_count": 38,
     "metadata": {},
     "output_type": "execute_result"
    }
   ],
   "source": [
    "len(all_pos)"
   ]
  },
  {
   "cell_type": "code",
   "execution_count": 34,
   "metadata": {},
   "outputs": [],
   "source": [
    "traj.save(\"test.pdb\")"
   ]
  },
  {
   "cell_type": "code",
   "execution_count": 39,
   "metadata": {},
   "outputs": [
    {
     "data": {
      "text/plain": [
       "<mdtraj.Trajectory with 5 frames, 26 atoms, 3 residues, without unitcells at 0x2b5291f6c320>"
      ]
     },
     "execution_count": 39,
     "metadata": {},
     "output_type": "execute_result"
    }
   ],
   "source": [
    "traj"
   ]
  },
  {
   "cell_type": "code",
   "execution_count": 44,
   "metadata": {},
   "outputs": [
    {
     "data": {
      "text/plain": [
       "{'output_dir': '/data/chodera/zhangi/perses_benchmark/neq/7/19/blues/',\n",
       " 'outfname': '/data/chodera/zhangi/perses_benchmark/neq/7/19/blues/thr',\n",
       " 'logger': {'level': 'info', 'stream': True},\n",
       " 'structure': {'filename': '../input/tleap/thr_vacuum_tleap.prmtop',\n",
       "  'xyz': '../input/tleap/thr_vacuum_tleap.inpcrd'},\n",
       " 'system': {'nonbondedMethod': NoCutoff,\n",
       "  'rigidWater': True,\n",
       "  'removeCMMotion': False,\n",
       "  'hydrogenMass': Quantity(value=4.0, unit=dalton),\n",
       "  'ewaldErrorTolerance': 0.00025,\n",
       "  'flexibleConstraints': True,\n",
       "  'splitDihedrals': False,\n",
       "  'verbose': False},\n",
       " 'simulation': {'platform': 'CUDA',\n",
       "  'properties': {'CudaPrecision': 'mixed', 'CudaDeviceIndex': 0},\n",
       "  'dt': Quantity(value=0.002, unit=picosecond),\n",
       "  'friction': Quantity(value=1.0, unit=/picosecond),\n",
       "  'temperature': Quantity(value=300.0, unit=kelvin),\n",
       "  'nIter': 5,\n",
       "  'nstepsMD': 500,\n",
       "  'nstepsNC': 1000,\n",
       "  'nprop': 1,\n",
       "  'propLambda': 0.3,\n",
       "  'outfname': '/data/chodera/zhangi/perses_benchmark/neq/7/19/blues/thr',\n",
       "  'verbose': False,\n",
       "  'propSteps': 1000,\n",
       "  'moveStep': 500,\n",
       "  'md_trajectory_interval': 500},\n",
       " 'md_reporters': [<parmed.openmm.reporters.StateDataReporter at 0x2b2202cd8828>,\n",
       "  <blues.reporters.NetCDF4Reporter at 0x2b2202f29f98>,\n",
       "  <parmed.openmm.reporters.RestartReporter at 0x2b2202cdd7b8>,\n",
       "  <parmed.openmm.reporters.ProgressReporter at 0x2b2202cdd860>,\n",
       "  <blues.reporters.BLUESStateDataReporter at 0x2b2202cdd908>],\n",
       " 'ncmc_reporters': [<blues.reporters.NetCDF4Reporter at 0x2b2202cdda58>,\n",
       "  <blues.reporters.BLUESStateDataReporter at 0x2b2202cddb00>],\n",
       " 'verbose': False,\n",
       " 'Logger': <RootLogger root (INFO)>,\n",
       " 'Structure': <simtk.openmm.app.pdbfile.PDBFile at 0x2b2202ac6cc0>}"
      ]
     },
     "execution_count": 44,
     "metadata": {},
     "output_type": "execute_result"
    }
   ],
   "source": [
    "cfg"
   ]
  },
  {
   "cell_type": "code",
   "execution_count": null,
   "metadata": {},
   "outputs": [],
   "source": []
  }
 ],
 "metadata": {
  "kernelspec": {
   "display_name": "Python 3",
   "language": "python",
   "name": "python3"
  },
  "language_info": {
   "codemirror_mode": {
    "name": "ipython",
    "version": 3
   },
   "file_extension": ".py",
   "mimetype": "text/x-python",
   "name": "python",
   "nbconvert_exporter": "python",
   "pygments_lexer": "ipython3",
   "version": "3.7.8"
  }
 },
 "nbformat": 4,
 "nbformat_minor": 4
}
