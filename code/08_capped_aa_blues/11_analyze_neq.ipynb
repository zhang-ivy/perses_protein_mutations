{
 "cells": [
  {
   "cell_type": "markdown",
   "metadata": {},
   "source": [
    "# Analyze"
   ]
  },
  {
   "cell_type": "code",
   "execution_count": 1,
   "metadata": {},
   "outputs": [],
   "source": [
    "from perses.analysis.analysis import Analysis\n",
    "import numpy as np\n",
    "import seaborn as sns\n",
    "import matplotlib.pyplot as plt\n",
    "import pymbar\n",
    "%matplotlib inline\n",
    "import os\n",
    "import itertools\n",
    "from tqdm import tqdm_notebook\n",
    "import pandas as pd"
   ]
  },
  {
   "cell_type": "code",
   "execution_count": 2,
   "metadata": {},
   "outputs": [],
   "source": [
    "def analyze(forward_work, reverse_work, forward_accumulated, reverse_accumulated, dir_num, title, phase, output_dir): \n",
    "    # Substract offset\n",
    "    forward_work_offset = []\n",
    "    for cycle in forward_work:\n",
    "        forward_work_offset.append(np.array([val - cycle[0] for val in cycle[1:]]))\n",
    "    forward_work_offset = np.array(forward_work_offset)\n",
    "\n",
    "    reverse_work_offset = []\n",
    "    for cycle in reverse_work:\n",
    "        reverse_work_offset.append(np.array([val - cycle[0] for val in cycle[1:]]))\n",
    "    reverse_work_offset = np.array(reverse_work_offset)\n",
    "    \n",
    "    # Compute dg, ddg\n",
    "    dg, ddg = pymbar.bar.BAR(forward_accumulated, reverse_accumulated)\n",
    "    \n",
    "    # Plot work trajectories\n",
    "    for cycle in forward_work_offset:\n",
    "        x = [(i+1)*4e-3 for i in range(len(list(cycle)))]\n",
    "        y = cycle\n",
    "        plt.plot(x, y, color=sns.color_palette()[0])\n",
    "    for cycle in reverse_work_offset:\n",
    "        x = [(i+1)*4e-3 for i in range(len(list(cycle)))]\n",
    "        y = -cycle\n",
    "        plt.plot(x, y, color=sns.color_palette()[1])\n",
    "    plt.xlabel(\"$t_{neq}$ (ps)\")\n",
    "    plt.ylabel(\"work (kT)\")\n",
    "    plt.title(title)\n",
    "    plt.savefig(os.path.join(output_dir, f\"{dir_num}_{phase}_work_traj.png\"), dpi=500)\n",
    "    plt.clf()\n",
    "    \n",
    "    # Plot work distributions\n",
    "    accumulated_forward = [cycle[-1] for cycle in forward_work_offset]\n",
    "    accumulated_reverse = [-cycle[-1] for cycle in reverse_work_offset]\n",
    "    sns.distplot(accumulated_forward)\n",
    "    sns.distplot(accumulated_reverse)\n",
    "    plt.axvline(dg)\n",
    "    plt.axvline(dg - ddg, linestyle='dotted')\n",
    "    plt.axvline(dg + ddg, linestyle='dotted')\n",
    "    plt.xlabel(\"work (kT)\")\n",
    "    plt.ylabel(\"p(w)\")\n",
    "    plt.title(title)\n",
    "    plt.savefig(os.path.join(output_dir, f\"{dir_num}_{phase}_work_dist.png\"), dpi=500)\n",
    "    plt.clf()\n",
    "    \n",
    "    # Compute free energy \n",
    "    return dg, ddg\n",
    "    "
   ]
  },
  {
   "cell_type": "code",
   "execution_count": 4,
   "metadata": {
    "scrolled": true
   },
   "outputs": [
    {
     "name": "stderr",
     "output_type": "stream",
     "text": [
      "/home/zhangi/miniconda3/envs/perses-sims/lib/python3.7/site-packages/ipykernel_launcher.py:3: TqdmDeprecationWarning: This function will be removed in tqdm==5.0.0\n",
      "Please use `tqdm.notebook.tqdm` instead of `tqdm.tqdm_notebook`\n",
      "  This is separate from the ipykernel package so we can avoid doing imports until\n"
     ]
    },
    {
     "data": {
      "application/vnd.jupyter.widget-view+json": {
       "model_id": "0578584d9c294651839632380a961a3f",
       "version_major": 2,
       "version_minor": 0
      },
      "text/plain": [
       "HBox(children=(FloatProgress(value=0.0, max=1.0), HTML(value='')))"
      ]
     },
     "metadata": {},
     "output_type": "display_data"
    },
    {
     "name": "stdout",
     "output_type": "stream",
     "text": [
      "dir: 15\n",
      "job: 0\n",
      "job: 1\n",
      "job: 2\n",
      "job: 3\n",
      "job: 4\n",
      "job: 5\n",
      "job: 6\n",
      "job: 7\n",
      "job: 8\n",
      "job: 9\n",
      "job: 10\n",
      "job: 11\n",
      "job: 12\n",
      "job: 13\n",
      "job: 14\n",
      "job: 15\n",
      "job: 16\n",
      "job: 17\n",
      "job: 18\n",
      "job: 19\n",
      "job: 20\n",
      "job: 21\n",
      "job: 22\n",
      "job: 23\n",
      "job: 24\n",
      "job: 25\n",
      "job: 26\n",
      "job: 27\n",
      "job: 28\n",
      "job: 29\n",
      "job: 30\n",
      "job: 31\n",
      "job: 32\n",
      "job: 33\n",
      "job: 34\n",
      "job: 35\n",
      "job: 36\n",
      "job: 37\n",
      "job: 38\n",
      "job: 39\n",
      "job: 40\n",
      "job: 41\n",
      "job: 42\n",
      "job: 43\n",
      "job: 44\n",
      "job: 45\n",
      "job: 46\n",
      "job: 47\n",
      "job: 48\n",
      "job: 49\n",
      "job: 50\n",
      "job: 51\n",
      "job: 52\n",
      "job: 53\n",
      "job: 54\n",
      "job: 55\n",
      "job: 56\n",
      "job: 57\n",
      "job: 58\n",
      "job: 59\n",
      "job: 60\n",
      "job: 61\n",
      "job: 62\n",
      "job: 63\n",
      "job: 64\n",
      "job: 65\n",
      "job: 66\n",
      "job: 67\n",
      "job: 68\n",
      "job: 69\n",
      "job: 70\n",
      "job: 71\n",
      "job: 72\n",
      "job: 73\n",
      "job: 74\n",
      "job: 75\n",
      "job: 76\n",
      "job: 77\n",
      "job: 78\n",
      "job: 79\n",
      "job: 80\n",
      "job: 81\n",
      "job: 82\n",
      "job: 83\n",
      "job: 84\n",
      "job: 85\n",
      "job: 86\n",
      "job: 87\n",
      "job: 88\n",
      "job: 89\n",
      "job: 90\n",
      "job: 91\n",
      "job: 92\n",
      "job: 93\n",
      "job: 94\n",
      "job: 95\n",
      "job: 96\n",
      "job: 97\n",
      "job: 98\n",
      "job: 99\n",
      "complex_dg: -46.05818532967324, ddg:0.25201052912846045\n",
      "\n"
     ]
    },
    {
     "data": {
      "text/plain": [
       "<Figure size 432x288 with 0 Axes>"
      ]
     },
     "metadata": {},
     "output_type": "display_data"
    }
   ],
   "source": [
    "# Prep work arrays (from distributed jobs) and call analyze()\n",
    "d_results = {}\n",
    "for i in tqdm_notebook([17]):\n",
    "    print(f\"dir: {i}\")\n",
    "    # Load and combine arrays\n",
    "    forward_complex_arrays = []\n",
    "    reverse_complex_arrays = []\n",
    "    forward_apo_arrays = []\n",
    "    reverse_apo_arrays = []\n",
    "    for j in range(200):\n",
    "        print(f\"job: {j}\")\n",
    "        forward_complex_path = f'/data/chodera/zhangi/perses_benchmark/neq/7/{i}/{i}_complex_{j}_forward.npy'\n",
    "        reverse_complex_path = f'/data/chodera/zhangi/perses_benchmark/neq/7/{i}/{i}_complex_{j}_reverse.npy'\n",
    "        forward_apo_path = f'/data/chodera/zhangi/perses_benchmark/neq/7/{i}/{i}_apo_{j}_forward.npy'\n",
    "        reverse_apo_path = f'/data/chodera/zhangi/perses_benchmark/neq/7/{i}/{i}_apo_{j}_reverse.npy'\n",
    "        if os.path.exists(forward_complex_path):\n",
    "            with open(forward_complex_path, 'rb') as f:\n",
    "                forward_complex_arrays.append(np.load(f))\n",
    "        if os.path.exists(reverse_complex_path):\n",
    "            with open(reverse_complex_path, 'rb') as f:\n",
    "                reverse_complex_arrays.append(np.load(f))\n",
    "        if os.path.exists(forward_apo_path):\n",
    "            with open(forward_apo_path, 'rb') as f:\n",
    "                forward_apo_arrays.append(np.load(f))\n",
    "        if os.path.exists(reverse_apo_path):\n",
    "            with open(reverse_apo_path, 'rb') as f:\n",
    "                reverse_apo_arrays.append(np.load(f))\n",
    "#     if forward_complex_arrays and reverse_complex_arrays and forward_apo_arrays and reverse_apo_arrays:\n",
    "#     if forward_apo_arrays and reverse_apo_arrays:\n",
    "    if forward_complex_arrays and reverse_complex_arrays:\n",
    "        forward_complex_combined = np.concatenate(forward_complex_arrays)\n",
    "        forward_complex_accumulated = np.array([cycle[-1] - cycle[0] for cycle in forward_complex_combined])\n",
    "        forward_complex_combined = np.array([cycle[0::10] for cycle in forward_complex_combined])\n",
    "        reverse_complex_combined = np.concatenate(reverse_complex_arrays)\n",
    "        reverse_complex_accumulated = np.array([cycle[-1] - cycle[0] for cycle in reverse_complex_combined])\n",
    "        reverse_complex_combined = np.array([cycle[0::10] for cycle in reverse_complex_combined])\n",
    "        \n",
    "        \n",
    "#         forward_apo_combined = np.concatenate(forward_apo_arrays)\n",
    "#         forward_apo_accumulated = np.array([cycle[-1] - cycle[0] for cycle in forward_apo_combined]) # compute this separately bc the last value of the subsampled array is diff than the actual last sample\n",
    "#         forward_apo_combined = np.array([cycle[0::10] for cycle in forward_apo_combined])\n",
    "\n",
    "#         reverse_apo_combined = np.concatenate(reverse_apo_arrays)\n",
    "#         reverse_apo_accumulated = np.array([cycle[-1] - cycle[0] for cycle in reverse_apo_combined]) # compute this separately bc the last value of the subsampled array is diff than the actual last sample\n",
    "#         reverse_apo_combined = np.array([cycle[0::10] for cycle in reverse_apo_combined])\n",
    "        \n",
    "        # Analyze\n",
    "        complex_dg, complex_ddg = analyze(forward_complex_combined, reverse_complex_combined, forward_complex_accumulated, reverse_complex_accumulated, i, 'T42A', 'complex', os.path.dirname(forward_complex_path))\n",
    "#         apo_dg, apo_ddg = analyze(forward_apo_combined, reverse_apo_combined, forward_apo_accumulated, reverse_apo_accumulated, i, \"T42A\", 'apo', os.path.dirname(forward_apo_path))\n",
    "#         binding_dg = apo_dg - complex_dg\n",
    "#         binding_ddg = (apo_ddg**2 + complex_ddg**2)**0.5\n",
    "#         d_results[i] = [binding_dg, binding_ddg]\n",
    "#         print(f\"apo_dg: {apo_dg}, ddg: {apo_ddg}\")\n",
    "        print(f\"complex_dg: {complex_dg}, ddg:{complex_ddg}\")\n",
    "    else:\n",
    "        print(f\"dir {i} has at least one phase without data\" )"
   ]
  },
  {
   "cell_type": "code",
   "execution_count": 5,
   "metadata": {},
   "outputs": [
    {
     "name": "stdout",
     "output_type": "stream",
     "text": [
      "apo dg: -40.24489459381627, ddg: 0.344738090471024\n",
      "complex_dg: -37.39300450353149, ddg:0.6928829409013308\n"
     ]
    }
   ],
   "source": [
    "print(f\"apo dg: {apo_dg}, ddg: {apo_ddg}\")\n",
    "print(f\"complex_dg: {complex_dg}, ddg:{complex_ddg}\")"
   ]
  },
  {
   "cell_type": "code",
   "execution_count": 6,
   "metadata": {},
   "outputs": [
    {
     "data": {
      "text/plain": [
       "{5: [-2.851890090284776, 0.7739064031352144]}"
      ]
     },
     "execution_count": 6,
     "metadata": {},
     "output_type": "execute_result"
    }
   ],
   "source": [
    "d_results"
   ]
  },
  {
   "cell_type": "code",
   "execution_count": null,
   "metadata": {},
   "outputs": [],
   "source": []
  }
 ],
 "metadata": {
  "kernelspec": {
   "display_name": "Python 3",
   "language": "python",
   "name": "python3"
  },
  "language_info": {
   "codemirror_mode": {
    "name": "ipython",
    "version": 3
   },
   "file_extension": ".py",
   "mimetype": "text/x-python",
   "name": "python",
   "nbconvert_exporter": "python",
   "pygments_lexer": "ipython3",
   "version": "3.7.8"
  }
 },
 "nbformat": 4,
 "nbformat_minor": 4
}
