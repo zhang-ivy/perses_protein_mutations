{
 "cells": [
  {
   "cell_type": "code",
   "execution_count": 1,
   "metadata": {},
   "outputs": [],
   "source": [
    "import logging\n",
    "import pickle\n",
    "import numpy as np\n",
    "from openmmtools.integrators import PeriodicNonequilibriumIntegrator\n",
    "from simtk import unit\n",
    "from simtk import openmm\n",
    "import argparse\n",
    "import os\n",
    "import time\n",
    "import mdtraj as md\n",
    "from perses.rjmc.geometry import FFAllAngleGeometryEngine"
   ]
  },
  {
   "cell_type": "code",
   "execution_count": 2,
   "metadata": {},
   "outputs": [],
   "source": [
    "# Set up logger\n",
    "_logger = logging.getLogger()\n",
    "_logger.setLevel(logging.INFO)\n"
   ]
  },
  {
   "cell_type": "code",
   "execution_count": 3,
   "metadata": {},
   "outputs": [],
   "source": [
    "# Define lambda functions\n",
    "x = 'lambda'\n",
    "DEFAULT_ALCHEMICAL_FUNCTIONS = {\n",
    "                             'lambda_sterics_core': x,\n",
    "                             'lambda_electrostatics_core': x,\n",
    "                             'lambda_sterics_insert': f\"select(step({x} - 0.5), 1.0, 2.0 * {x})\",\n",
    "                             'lambda_sterics_delete': f\"select(step({x} - 0.5), 2.0 * ({x} - 0.5), 0.0)\",\n",
    "                             'lambda_electrostatics_insert': f\"select(step({x} - 0.5), 2.0 * ({x} - 0.5), 0.0)\",\n",
    "                             'lambda_electrostatics_delete': f\"select(step({x} - 0.5), 1.0, 2.0 * {x})\",\n",
    "                             'lambda_bonds': x,\n",
    "                             'lambda_angles': x,\n",
    "                             'lambda_torsions': x}"
   ]
  },
  {
   "cell_type": "code",
   "execution_count": 4,
   "metadata": {},
   "outputs": [],
   "source": [
    "# Define simulation parameters\n",
    "nsteps_eq = 10\n",
    "nsteps_neq = 40000 # 80 ps\n",
    "neq_splitting='V R H O R V'\n",
    "timestep = 2.0 * unit.femtosecond\n",
    "platform_name = 'CUDA'"
   ]
  },
  {
   "cell_type": "code",
   "execution_count": 5,
   "metadata": {},
   "outputs": [],
   "source": [
    "# Read in htf\n",
    "outdir = \"/data/chodera/zhangi/perses_benchmark/neq/7/13/\"\n",
    "i = os.path.basename(os.path.dirname(outdir))\n",
    "phase = 'vacuum'\n",
    "with open(os.path.join(outdir, f\"{i}_{phase}.pickle\"), 'rb') as f:\n",
    "    htf = pickle.load(f)\n",
    "system = htf.hybrid_system\n"
   ]
  },
  {
   "cell_type": "code",
   "execution_count": 7,
   "metadata": {},
   "outputs": [],
   "source": [
    "# Read in cache\n",
    "old_name = 'thr'\n",
    "with open(os.path.join(outdir, f\"blues/{old_name}_pos_hybrid.npy\"), 'rb') as f:\n",
    "    pos_hybrid = np.load(f)"
   ]
  },
  {
   "cell_type": "code",
   "execution_count": 17,
   "metadata": {},
   "outputs": [],
   "source": [
    "# Get equilbrium snapshot\n",
    "sim_number = 0\n",
    "old_positions = pos_hybrid[int(sim_number)] * unit.nanometer\n"
   ]
  },
  {
   "cell_type": "code",
   "execution_count": 18,
   "metadata": {},
   "outputs": [],
   "source": [
    "# Make geometry engine\n",
    "geometry_engine = FFAllAngleGeometryEngine(metadata=None,\n",
    "                                                use_sterics=False,\n",
    "                                                n_bond_divisions=100,\n",
    "                                                n_angle_divisions=180,\n",
    "                                                n_torsion_divisions=360,\n",
    "                                                verbose=True,\n",
    "                                                storage=None,\n",
    "                                                bond_softening_constant=1.0,\n",
    "                                                angle_softening_constant=1.0,\n",
    "                                                neglect_angles = False,\n",
    "                                                use_14_nonbondeds = True)\n"
   ]
  },
  {
   "cell_type": "code",
   "execution_count": 19,
   "metadata": {
    "scrolled": true
   },
   "outputs": [
    {
     "name": "stderr",
     "output_type": "stream",
     "text": [
      "INFO:geometry:propose: performing forward proposal\n",
      "INFO:geometry:propose: unique new atoms detected; proceeding to _logp_propose...\n",
      "INFO:geometry:Conducting forward proposal...\n",
      "RDKit WARNING: [21:28:03] Enabling RDKit 2019.09.3 jupyter extensions\n",
      "INFO:geometry:Computing proposal order with NetworkX...\n",
      "INFO:geometry:number of atoms to be placed: 2\n",
      "INFO:geometry:Atom index proposal order is [15, 14]\n",
      "INFO:geometry:omitted_bonds: []\n",
      "INFO:geometry:direction of proposal is forward; creating atoms_with_positions and new positions from old system/topology...\n",
      "INFO:geometry:creating growth system...\n",
      "INFO:geometry:\tcreating bond force...\n",
      "INFO:geometry:\tthere are 21 bonds in reference force.\n",
      "INFO:geometry:\tcreating angle force...\n",
      "INFO:geometry:\tthere are 36 angles in reference force.\n",
      "INFO:geometry:\tcreating torsion force...\n",
      "INFO:geometry:\tcreating extra torsions force...\n",
      "INFO:geometry:\tthere are 42 torsions in reference force.\n",
      "INFO:geometry:\tcreating nonbonded force...\n",
      "INFO:geometry:\t\tgrabbing reference nonbonded method, cutoff, switching function, switching distance...\n",
      "INFO:geometry:\t\tcreating nonbonded exception force (i.e. custom bond for 1,4s)...\n",
      "INFO:geometry:\t\tlooping through exceptions calculating growth indices, and adding appropriate interactions to custom bond force.\n",
      "INFO:geometry:\t\tthere are 98 in the reference Nonbonded force\n",
      "INFO:geometry:Neglected angle terms : []\n",
      "INFO:geometry:omitted_growth_terms: {'bonds': [], 'angles': [], 'torsions': [], '1,4s': []}\n",
      "INFO:geometry:extra torsions: {}\n",
      "INFO:geometry:neglected angle terms include []\n",
      "INFO:geometry:log probability choice of torsions and atom order: -2.8903717578961645\n",
      "INFO:geometry:creating platform, integrators, and contexts; setting growth parameter\n"
     ]
    },
    {
     "name": "stdout",
     "output_type": "stream",
     "text": [
      "conducting subsequent work with the following platform: CUDA\n",
      "conducting subsequent work with the following platform: CUDA\n"
     ]
    },
    {
     "name": "stderr",
     "output_type": "stream",
     "text": [
      "INFO:geometry:setting atoms_with_positions context new positions\n"
     ]
    },
    {
     "name": "stdout",
     "output_type": "stream",
     "text": [
      "conducting subsequent work with the following platform: CUDA\n"
     ]
    },
    {
     "name": "stderr",
     "output_type": "stream",
     "text": [
      "INFO:geometry:There are 2 new atoms\n",
      "INFO:geometry:\treduced angle potential = 0.5184420744637405.\n",
      "INFO:geometry:\treduced angle potential = 0.007898630335858461.\n",
      "INFO:geometry:\tbeginning construction of no_nonbonded final system...\n",
      "INFO:geometry:\tinitial no-nonbonded final system forces ['HarmonicBondForce', 'HarmonicAngleForce', 'PeriodicTorsionForce', 'NonbondedForce']\n",
      "INFO:geometry:\tfinal no-nonbonded final system forces dict_keys(['HarmonicBondForce', 'HarmonicAngleForce', 'PeriodicTorsionForce', 'NonbondedForce'])\n",
      "INFO:geometry:\tthere are 21 bond forces in the no-nonbonded final system\n",
      "INFO:geometry:\tthere are 36 angle forces in the no-nonbonded final system\n",
      "INFO:geometry:\tthere are 42 torsion forces in the no-nonbonded final system\n",
      "INFO:geometry:forward final system defined with 0 neglected angles.\n"
     ]
    },
    {
     "name": "stdout",
     "output_type": "stream",
     "text": [
      "conducting subsequent work with the following platform: CUDA\n",
      "conducting subsequent work with the following platform: CUDA\n"
     ]
    },
    {
     "name": "stderr",
     "output_type": "stream",
     "text": [
      "INFO:geometry:total reduced potential before atom placement: 42.376594799837925\n"
     ]
    },
    {
     "name": "stdout",
     "output_type": "stream",
     "text": [
      "conducting subsequent work with the following platform: CUDA\n",
      "conducting subsequent work with the following platform: CUDA\n",
      "conducting subsequent work with the following platform: CUDA\n",
      "added energy components: [('CustomBondForce', 0.3462552262411282), ('CustomAngleForce', 1.2789640293281703), ('CustomTorsionForce', 0.180013587198817), ('CustomBondForce', 6.860867910208524)]\n"
     ]
    },
    {
     "name": "stderr",
     "output_type": "stream",
     "text": [
      "INFO:geometry:total reduced energy added from growth system: 8.66610075297664\n",
      "INFO:geometry:final reduced energy 51.0426956404324\n",
      "INFO:geometry:sum of energies: 51.042695552814564\n",
      "INFO:geometry:magnitude of difference in the energies: 8.761783476529672e-08\n",
      "INFO:geometry:Final logp_proposal: 20.370300630284\n"
     ]
    }
   ],
   "source": [
    "# Compute new positions\n",
    "from openmmtools.constants import kB\n",
    "temperature = 300 * unit.kelvin\n",
    "kT = kB * temperature\n",
    "beta = 1.0/kT\n",
    "new_positions, logp_proposal = geometry_engine.propose(htf._topology_proposal, old_positions, beta, validate_energy_bookkeeping=True)\n"
   ]
  },
  {
   "cell_type": "code",
   "execution_count": 21,
   "metadata": {},
   "outputs": [],
   "source": [
    "# Set positions and generate hybrid \n",
    "htf._old_positions = old_positions\n",
    "htf._new_positions = new_positions\n",
    "htf._hybrid_positions = htf._compute_hybrid_positions()\n",
    "positions = htf.hybrid_positions\n"
   ]
  },
  {
   "cell_type": "code",
   "execution_count": 23,
   "metadata": {},
   "outputs": [],
   "source": [
    "# Set up integrator\n",
    "integrator = PeriodicNonequilibriumIntegrator(DEFAULT_ALCHEMICAL_FUNCTIONS, nsteps_eq, nsteps_neq, neq_splitting, timestep=timestep)\n"
   ]
  },
  {
   "cell_type": "code",
   "execution_count": 24,
   "metadata": {},
   "outputs": [],
   "source": [
    "# Set up context\n",
    "platform = openmm.Platform.getPlatformByName(platform_name)\n",
    "if platform_name in ['CUDA', 'OpenCL']:\n",
    "    platform.setPropertyDefaultValue('Precision', 'mixed')\n",
    "if platform_name in ['CUDA']:\n",
    "    platform.setPropertyDefaultValue('DeterministicForces', 'true')\n",
    "context = openmm.Context(system, integrator, platform)\n",
    "context.setPeriodicBoxVectors(*system.getDefaultPeriodicBoxVectors())\n",
    "context.setPositions(positions)\n"
   ]
  },
  {
   "cell_type": "code",
   "execution_count": 25,
   "metadata": {},
   "outputs": [],
   "source": [
    "# Minimize\n",
    "openmm.LocalEnergyMinimizer.minimize(context)\n"
   ]
  },
  {
   "cell_type": "code",
   "execution_count": 26,
   "metadata": {},
   "outputs": [
    {
     "name": "stderr",
     "output_type": "stream",
     "text": [
      "INFO:root:Equilibrating at lambda = 0, took: 1.204496145248413 seconds\n",
      "INFO:root:forward NEQ step: 0, took: 0.004120349884033203 seconds\n",
      "INFO:root:forward NEQ step: 750, took: 0.002613544464111328 seconds\n",
      "INFO:root:forward NEQ step: 1500, took: 0.0030274391174316406 seconds\n",
      "INFO:root:forward NEQ step: 2250, took: 0.0026171207427978516 seconds\n",
      "INFO:root:forward NEQ step: 3000, took: 0.0004639625549316406 seconds\n",
      "INFO:root:forward NEQ step: 3750, took: 0.0004825592041015625 seconds\n",
      "INFO:root:forward NEQ step: 4500, took: 0.01919102668762207 seconds\n",
      "INFO:root:forward NEQ step: 5250, took: 0.00044798851013183594 seconds\n",
      "INFO:root:forward NEQ step: 6000, took: 0.0005881786346435547 seconds\n",
      "INFO:root:forward NEQ step: 6750, took: 0.0004055500030517578 seconds\n",
      "INFO:root:forward NEQ step: 7500, took: 0.0004830360412597656 seconds\n",
      "INFO:root:forward NEQ step: 8250, took: 0.0038754940032958984 seconds\n",
      "INFO:root:forward NEQ step: 9000, took: 0.00043463706970214844 seconds\n",
      "INFO:root:forward NEQ step: 9750, took: 0.0004839897155761719 seconds\n",
      "INFO:root:forward NEQ step: 10500, took: 0.0004220008850097656 seconds\n",
      "INFO:root:forward NEQ step: 11250, took: 0.0005545616149902344 seconds\n",
      "INFO:root:forward NEQ step: 12000, took: 0.0004067420959472656 seconds\n",
      "INFO:root:forward NEQ step: 12750, took: 0.0004050731658935547 seconds\n",
      "INFO:root:forward NEQ step: 13500, took: 0.0231168270111084 seconds\n",
      "INFO:root:forward NEQ step: 14250, took: 0.0004863739013671875 seconds\n",
      "INFO:root:forward NEQ step: 15000, took: 0.005368709564208984 seconds\n",
      "INFO:root:forward NEQ step: 15750, took: 0.00041484832763671875 seconds\n",
      "INFO:root:forward NEQ step: 16500, took: 0.000583648681640625 seconds\n",
      "INFO:root:forward NEQ step: 17250, took: 0.0004317760467529297 seconds\n",
      "INFO:root:forward NEQ step: 18000, took: 0.00039124488830566406 seconds\n",
      "INFO:root:forward NEQ step: 18750, took: 0.0004372596740722656 seconds\n",
      "INFO:root:forward NEQ step: 19500, took: 0.0009908676147460938 seconds\n",
      "INFO:root:forward NEQ step: 20250, took: 0.0006060600280761719 seconds\n",
      "INFO:root:forward NEQ step: 21000, took: 0.016030073165893555 seconds\n",
      "INFO:root:forward NEQ step: 21750, took: 0.002520322799682617 seconds\n",
      "INFO:root:forward NEQ step: 22500, took: 0.004628419876098633 seconds\n",
      "INFO:root:forward NEQ step: 23250, took: 0.0004260540008544922 seconds\n",
      "INFO:root:forward NEQ step: 24000, took: 0.0004143714904785156 seconds\n",
      "INFO:root:forward NEQ step: 24750, took: 0.0004191398620605469 seconds\n",
      "INFO:root:forward NEQ step: 25500, took: 0.00973653793334961 seconds\n",
      "INFO:root:forward NEQ step: 26250, took: 0.005418300628662109 seconds\n",
      "INFO:root:forward NEQ step: 27000, took: 0.00034928321838378906 seconds\n",
      "INFO:root:forward NEQ step: 27750, took: 0.003924369812011719 seconds\n",
      "INFO:root:forward NEQ step: 28500, took: 0.00099945068359375 seconds\n",
      "INFO:root:forward NEQ step: 29250, took: 0.0004031658172607422 seconds\n",
      "INFO:root:forward NEQ step: 30000, took: 0.00043392181396484375 seconds\n",
      "INFO:root:forward NEQ step: 30750, took: 0.0027294158935546875 seconds\n",
      "INFO:root:forward NEQ step: 31500, took: 0.002047300338745117 seconds\n",
      "INFO:root:forward NEQ step: 32250, took: 0.002324342727661133 seconds\n",
      "INFO:root:forward NEQ step: 33000, took: 0.0006930828094482422 seconds\n",
      "INFO:root:forward NEQ step: 33750, took: 0.0004112720489501953 seconds\n",
      "INFO:root:forward NEQ step: 34500, took: 0.002324342727661133 seconds\n",
      "INFO:root:forward NEQ step: 35250, took: 0.00896453857421875 seconds\n",
      "INFO:root:forward NEQ step: 36000, took: 0.0004220008850097656 seconds\n",
      "INFO:root:forward NEQ step: 36750, took: 0.0012073516845703125 seconds\n"
     ]
    },
    {
     "ename": "KeyboardInterrupt",
     "evalue": "",
     "output_type": "error",
     "traceback": [
      "\u001b[0;31m--------------------------------------------------------------------------\u001b[0m",
      "\u001b[0;31mKeyboardInterrupt\u001b[0m                        Traceback (most recent call last)",
      "\u001b[0;32m<ipython-input-26-e5226bedfeb8>\u001b[0m in \u001b[0;36m<module>\u001b[0;34m\u001b[0m\n\u001b[1;32m     11\u001b[0m \u001b[0;32mfor\u001b[0m \u001b[0mfwd_step\u001b[0m \u001b[0;32min\u001b[0m \u001b[0mrange\u001b[0m\u001b[0;34m(\u001b[0m\u001b[0mnsteps_neq\u001b[0m\u001b[0;34m)\u001b[0m\u001b[0;34m:\u001b[0m\u001b[0;34m\u001b[0m\u001b[0;34m\u001b[0m\u001b[0m\n\u001b[1;32m     12\u001b[0m     \u001b[0minitial_time\u001b[0m \u001b[0;34m=\u001b[0m \u001b[0mtime\u001b[0m\u001b[0;34m.\u001b[0m\u001b[0mtime\u001b[0m\u001b[0;34m(\u001b[0m\u001b[0;34m)\u001b[0m\u001b[0;34m\u001b[0m\u001b[0;34m\u001b[0m\u001b[0m\n\u001b[0;32m---> 13\u001b[0;31m     \u001b[0mintegrator\u001b[0m\u001b[0;34m.\u001b[0m\u001b[0mstep\u001b[0m\u001b[0;34m(\u001b[0m\u001b[0;36m1\u001b[0m\u001b[0;34m)\u001b[0m\u001b[0;34m\u001b[0m\u001b[0;34m\u001b[0m\u001b[0m\n\u001b[0m\u001b[1;32m     14\u001b[0m     \u001b[0melapsed_time\u001b[0m \u001b[0;34m=\u001b[0m \u001b[0;34m(\u001b[0m\u001b[0mtime\u001b[0m\u001b[0;34m.\u001b[0m\u001b[0mtime\u001b[0m\u001b[0;34m(\u001b[0m\u001b[0;34m)\u001b[0m \u001b[0;34m-\u001b[0m \u001b[0minitial_time\u001b[0m\u001b[0;34m)\u001b[0m \u001b[0;34m*\u001b[0m \u001b[0munit\u001b[0m\u001b[0;34m.\u001b[0m\u001b[0mseconds\u001b[0m\u001b[0;34m\u001b[0m\u001b[0;34m\u001b[0m\u001b[0m\n\u001b[1;32m     15\u001b[0m     \u001b[0mforward_works\u001b[0m\u001b[0;34m.\u001b[0m\u001b[0mappend\u001b[0m\u001b[0;34m(\u001b[0m\u001b[0mintegrator\u001b[0m\u001b[0;34m.\u001b[0m\u001b[0mget_protocol_work\u001b[0m\u001b[0;34m(\u001b[0m\u001b[0mdimensionless\u001b[0m\u001b[0;34m=\u001b[0m\u001b[0;32mTrue\u001b[0m\u001b[0;34m)\u001b[0m\u001b[0;34m)\u001b[0m\u001b[0;34m\u001b[0m\u001b[0;34m\u001b[0m\u001b[0m\n",
      "\u001b[0;32m~/miniconda3/envs/perses-sims/lib/python3.7/site-packages/simtk/openmm/openmm.py\u001b[0m in \u001b[0;36mstep\u001b[0;34m(self, steps)\u001b[0m\n\u001b[1;32m   2723\u001b[0m             \u001b[0mthe\u001b[0m \u001b[0mnumber\u001b[0m \u001b[0mof\u001b[0m \u001b[0mtime\u001b[0m \u001b[0msteps\u001b[0m \u001b[0mto\u001b[0m \u001b[0mtake\u001b[0m\u001b[0;34m\u001b[0m\u001b[0;34m\u001b[0m\u001b[0m\n\u001b[1;32m   2724\u001b[0m         \"\"\"\n\u001b[0;32m-> 2725\u001b[0;31m         \u001b[0;32mreturn\u001b[0m \u001b[0m_openmm\u001b[0m\u001b[0;34m.\u001b[0m\u001b[0mCustomIntegrator_step\u001b[0m\u001b[0;34m(\u001b[0m\u001b[0mself\u001b[0m\u001b[0;34m,\u001b[0m \u001b[0msteps\u001b[0m\u001b[0;34m)\u001b[0m\u001b[0;34m\u001b[0m\u001b[0;34m\u001b[0m\u001b[0m\n\u001b[0m\u001b[1;32m   2726\u001b[0m \u001b[0;34m\u001b[0m\u001b[0m\n\u001b[1;32m   2727\u001b[0m \u001b[0;34m\u001b[0m\u001b[0m\n",
      "\u001b[0;31mKeyboardInterrupt\u001b[0m: "
     ]
    }
   ],
   "source": [
    "# Run eq forward (0 -> 1)\n",
    "initial_time = time.time()\n",
    "integrator.step(nsteps_eq)\n",
    "elapsed_time = (time.time() - initial_time) * unit.seconds\n",
    "_logger.info(f'Equilibrating at lambda = 0, took: {elapsed_time / unit.seconds} seconds')\n",
    "\n",
    "# Run neq forward (0 -> 1)\n",
    "forward_works_master = list()\n",
    "forward_neq_old, forward_neq_new = list(), list()\n",
    "forward_works = [integrator.get_protocol_work(dimensionless=True)]\n",
    "for fwd_step in range(nsteps_neq):\n",
    "    initial_time = time.time()\n",
    "    integrator.step(1)\n",
    "    elapsed_time = (time.time() - initial_time) * unit.seconds\n",
    "    forward_works.append(integrator.get_protocol_work(dimensionless=True))\n",
    "    if fwd_step % 750 == 0:\n",
    "        _logger.info(f'forward NEQ step: {fwd_step}, took: {elapsed_time / unit.seconds} seconds')\n",
    "        pos = context.getState(getPositions=True, enforcePeriodicBox=False).getPositions(asNumpy=True)\n",
    "        old_pos = np.asarray(htf.old_positions(pos))\n",
    "        new_pos = np.asarray(htf.new_positions(pos))\n",
    "        forward_neq_old.append(old_pos)\n",
    "        forward_neq_new.append(new_pos)\n",
    "forward_works_master.append(forward_works)\n",
    "\n",
    "# Read in ala cache\n",
    "with open(os.path.join(args.dir, f\"{args.new_name}_pos_hybrid.npy\"), 'rb') as f:\n",
    "    ala_pos_hybrid = np.load(f)\n",
    "\n",
    "# Read in indices of uncorrelated ala snapshots\n",
    "with open(os.path.join(args.dir, f\"{args.new_name}_indices.npy\"), 'rb') as f:\n",
    "    ala_indices = np.load(f)\n",
    "\n",
    "# Get equilbrium snapshot of ala\n",
    "positions = ala_pos_hybrid[ala_indices[int(args.sim_number)]]\n",
    "context.setPositions(positions)\n",
    "\n",
    "# Run eq reverse (1 -> 0)\n",
    "initial_time = time.time()\n",
    "integrator.step(nsteps_eq)\n",
    "elapsed_time = (time.time() - initial_time) * unit.seconds\n",
    "_logger.info(f'Equilibrating at lambda = 1, took: {elapsed_time / unit.seconds} seconds')\n",
    "\n",
    "# Run neq reverse (1 -> 0)\n",
    "reverse_works_master = list()\n",
    "reverse_neq_old, reverse_neq_new = list(), list()\n",
    "reverse_works = [integrator.get_protocol_work(dimensionless=True)]\n",
    "for rev_step in range(nsteps_neq):\n",
    "    initial_time = time.time()\n",
    "    integrator.step(1)\n",
    "    elapsed_time = (time.time() - initial_time) * unit.seconds\n",
    "    reverse_works.append(integrator.get_protocol_work(dimensionless=True))\n",
    "    if rev_step % 750 == 0:\n",
    "        _logger.info(f'reverse NEQ step: {rev_step}, took: {elapsed_time / unit.seconds} seconds')\n",
    "        pos = context.getState(getPositions=True, enforcePeriodicBox=False).getPositions(asNumpy=True)\n",
    "        old_pos = np.asarray(htf.old_positions(pos))\n",
    "        new_pos = np.asarray(htf.new_positions(pos))\n",
    "        reverse_neq_old.append(old_pos)\n",
    "        reverse_neq_new.append(new_pos)\n",
    "reverse_works_master.append(reverse_works)\n"
   ]
  },
  {
   "cell_type": "code",
   "execution_count": null,
   "metadata": {},
   "outputs": [],
   "source": [
    "# Save works\n",
    "i = 13\n",
    "with open(os.path.join(args.dir, f\"{i}_{phase}_{sim_number}_forward.npy\"), 'wb') as f:\n",
    "    np.save(f, forward_works_master)\n",
    "with open(os.path.join(args.dir, f\"{i}_{phase}_{sim_number}_reverse.npy\"), 'wb') as f:\n",
    "    np.save(f, reverse_works_master)\n"
   ]
  }
 ],
 "metadata": {
  "kernelspec": {
   "display_name": "Python 3",
   "language": "python",
   "name": "python3"
  },
  "language_info": {
   "codemirror_mode": {
    "name": "ipython",
    "version": 3
   },
   "file_extension": ".py",
   "mimetype": "text/x-python",
   "name": "python",
   "nbconvert_exporter": "python",
   "pygments_lexer": "ipython3",
   "version": "3.7.8"
  }
 },
 "nbformat": 4,
 "nbformat_minor": 4
}
